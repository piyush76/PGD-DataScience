{
 "cells": [
  {
   "cell_type": "markdown",
   "id": "88e6b1e3-46d4-4710-acbc-872ed9f1e362",
   "metadata": {},
   "source": [
    "# E-news Express Project"
   ]
  },
  {
   "cell_type": "markdown",
   "id": "2a2f3c52-2aca-4d8b-9441-3002a317cf08",
   "metadata": {},
   "source": [
    "### Objective: Statistical analysis of business data. Explore the dataset and extract insights from the data.\n"
   ]
  },
  {
   "cell_type": "markdown",
   "id": "497ebdf6-2e2f-4d0d-ac76-132764370f6a",
   "metadata": {},
   "source": [
    "### Key Questions to answer : \n",
    "* Do the users spend more time on the new landing page than the old landing page?\n",
    "* Is the conversion rate (the proportion of users who visit the landing page and get converted) for the new page greater than the conversion rate for the old page?\n",
    "* Does the converted status depend on the preferred language?\n",
    "* Is the mean time spent on the new page same for the different language users?\n",
    "\n"
   ]
  },
  {
   "cell_type": "markdown",
   "id": "bed7408e-fcac-4f49-bbf8-ac480503eba3",
   "metadata": {},
   "source": [
    "### Data Description :\n",
    "1. user_id - This represents the user ID of the person visiting the website.\n",
    "2. group - This represents whether the user belongs to the first group (control) or the second group (treatment).\n",
    "3. landing_page - This represents whether the landing page is new or old.\n",
    "4. time_spent_on_the_page - This represents the time (in minutes) spent by the user on the landing page.\n",
    "5. converted - This represents whether the user gets converted to a subscriber of the news portal or not.\n",
    "6. language_preferred - This represents the language chosen by the user to view the landing pa\n",
    "\n"
   ]
  },
  {
   "cell_type": "markdown",
   "id": "61d85cb1-6880-46cd-bbf0-a2aaf4371520",
   "metadata": {},
   "source": [
    "### Import the necessary libraries - pandas, numpy, seaborn, matplotlib.pyplot,scipy e.t.c"
   ]
  },
  {
   "cell_type": "code",
   "execution_count": 1,
   "id": "2959c198-a169-4f2b-b7b1-420c4c7e9a4f",
   "metadata": {},
   "outputs": [],
   "source": [
    "# Library to suppress warnings or deprecation notes \n",
    "import warnings\n",
    "warnings.filterwarnings('ignore')"
   ]
  },
  {
   "cell_type": "code",
   "execution_count": 2,
   "id": "9d6e59c5-69b4-45c8-805f-b624ae6e571f",
   "metadata": {},
   "outputs": [],
   "source": [
    "# Libraries to help with reading and manipulating data\n",
    "import pandas as pd\n",
    "import numpy as np\n",
    "import matplotlib.pyplot as plt\n",
    "\n",
    "# Libraries to help with data visualization\n",
    "import seaborn as sns\n",
    "import matplotlib.pyplot as plt\n",
    "%matplotlib inline\n",
    "\n",
    "# import the scipy.This library contains a large number of probability distributions as well as a growing library of statistical functions.\n",
    "import scipy.stats as stats \n",
    "\n",
    "# import the required function\n",
    "from scipy.stats import norm"
   ]
  },
  {
   "cell_type": "markdown",
   "id": "150b0116-5966-4a9a-9990-206d22343b87",
   "metadata": {},
   "source": [
    "### Load the dataset"
   ]
  },
  {
   "cell_type": "code",
   "execution_count": 3,
   "id": "9e862657-088f-4c63-b854-5305488af3c8",
   "metadata": {},
   "outputs": [],
   "source": [
    "# Reading the CSV data file\n",
    "eNewsData = pd.read_csv('../data/abtest.csv')"
   ]
  },
  {
   "cell_type": "code",
   "execution_count": 4,
   "id": "e8d9a80d-033f-4972-ba62-3edcbb07d2a8",
   "metadata": {},
   "outputs": [
    {
     "data": {
      "text/plain": [
       "(100, 6)"
      ]
     },
     "execution_count": 4,
     "metadata": {},
     "output_type": "execute_result"
    }
   ],
   "source": [
    "# Check the shape of dataset.\n",
    "eNewsData.shape"
   ]
  },
  {
   "cell_type": "code",
   "execution_count": 5,
   "id": "3eb458b0-4add-4839-bbc4-00fafd30efc2",
   "metadata": {},
   "outputs": [],
   "source": [
    "### Check the datatype and info of the variables to make sure that the data is read in properly"
   ]
  },
  {
   "cell_type": "code",
   "execution_count": 30,
   "id": "645470fd-a789-41ba-bbd9-c6cd966dfcf7",
   "metadata": {},
   "outputs": [
    {
     "name": "stdout",
     "output_type": "stream",
     "text": [
      "<class 'pandas.core.frame.DataFrame'>\n",
      "RangeIndex: 100 entries, 0 to 99\n",
      "Data columns (total 6 columns):\n",
      " #   Column                  Non-Null Count  Dtype  \n",
      "---  ------                  --------------  -----  \n",
      " 0   user_id                 100 non-null    int64  \n",
      " 1   group                   100 non-null    object \n",
      " 2   landing_page            100 non-null    object \n",
      " 3   time_spent_on_the_page  100 non-null    float64\n",
      " 4   converted               100 non-null    object \n",
      " 5   language_preferred      100 non-null    object \n",
      "dtypes: float64(1), int64(1), object(4)\n",
      "memory usage: 3.2+ KB\n"
     ]
    }
   ],
   "source": [
    "eNewsData.info()"
   ]
  },
  {
   "cell_type": "code",
   "execution_count": 31,
   "id": "c114cb5b-c7ad-4670-93cc-bf3d00991eba",
   "metadata": {},
   "outputs": [],
   "source": [
    "eNewsData[\"group\"] = eNewsData[\"group\"].astype(\"category\")\n",
    "eNewsData[\"landing_page\"] = eNewsData[\"landing_page\"].astype(\"category\")\n",
    "eNewsData[\"converted\"] = eNewsData[\"converted\"].astype(\"category\")\n",
    "eNewsData[\"language_preferred\"] = eNewsData[\"language_preferred\"].astype(\"category\")"
   ]
  },
  {
   "cell_type": "code",
   "execution_count": 32,
   "id": "6a276e18-82fa-4169-91d0-58dd4b1b808f",
   "metadata": {},
   "outputs": [
    {
     "name": "stdout",
     "output_type": "stream",
     "text": [
      "<class 'pandas.core.frame.DataFrame'>\n",
      "RangeIndex: 100 entries, 0 to 99\n",
      "Data columns (total 6 columns):\n",
      " #   Column                  Non-Null Count  Dtype   \n",
      "---  ------                  --------------  -----   \n",
      " 0   user_id                 100 non-null    int64   \n",
      " 1   group                   100 non-null    category\n",
      " 2   landing_page            100 non-null    category\n",
      " 3   time_spent_on_the_page  100 non-null    float64 \n",
      " 4   converted               100 non-null    category\n",
      " 5   language_preferred      100 non-null    category\n",
      "dtypes: category(4), float64(1), int64(1)\n",
      "memory usage: 2.3 KB\n"
     ]
    }
   ],
   "source": [
    "eNewsData.info()"
   ]
  },
  {
   "cell_type": "code",
   "execution_count": 33,
   "id": "16c7c10c-85ee-4bfd-9401-58c4853e60d2",
   "metadata": {},
   "outputs": [
    {
     "data": {
      "text/plain": [
       "user_id                   0\n",
       "group                     0\n",
       "landing_page              0\n",
       "time_spent_on_the_page    0\n",
       "converted                 0\n",
       "language_preferred        0\n",
       "dtype: int64"
      ]
     },
     "execution_count": 33,
     "metadata": {},
     "output_type": "execute_result"
    }
   ],
   "source": [
    "# Checking for missing value or null value in dataset\n",
    "eNewsData.isnull().sum()"
   ]
  },
  {
   "cell_type": "code",
   "execution_count": 35,
   "id": "7403de2a-18f4-42b0-b9f1-df078d82b467",
   "metadata": {},
   "outputs": [
    {
     "data": {
      "text/html": [
       "<div>\n",
       "<style scoped>\n",
       "    .dataframe tbody tr th:only-of-type {\n",
       "        vertical-align: middle;\n",
       "    }\n",
       "\n",
       "    .dataframe tbody tr th {\n",
       "        vertical-align: top;\n",
       "    }\n",
       "\n",
       "    .dataframe thead th {\n",
       "        text-align: right;\n",
       "    }\n",
       "</style>\n",
       "<table border=\"1\" class=\"dataframe\">\n",
       "  <thead>\n",
       "    <tr style=\"text-align: right;\">\n",
       "      <th></th>\n",
       "      <th>user_id</th>\n",
       "      <th>group</th>\n",
       "      <th>landing_page</th>\n",
       "      <th>time_spent_on_the_page</th>\n",
       "      <th>converted</th>\n",
       "      <th>language_preferred</th>\n",
       "    </tr>\n",
       "  </thead>\n",
       "  <tbody>\n",
       "    <tr>\n",
       "      <th>0</th>\n",
       "      <td>546592</td>\n",
       "      <td>control</td>\n",
       "      <td>old</td>\n",
       "      <td>3.48</td>\n",
       "      <td>no</td>\n",
       "      <td>Spanish</td>\n",
       "    </tr>\n",
       "    <tr>\n",
       "      <th>1</th>\n",
       "      <td>546468</td>\n",
       "      <td>treatment</td>\n",
       "      <td>new</td>\n",
       "      <td>7.13</td>\n",
       "      <td>yes</td>\n",
       "      <td>English</td>\n",
       "    </tr>\n",
       "    <tr>\n",
       "      <th>2</th>\n",
       "      <td>546462</td>\n",
       "      <td>treatment</td>\n",
       "      <td>new</td>\n",
       "      <td>4.40</td>\n",
       "      <td>no</td>\n",
       "      <td>Spanish</td>\n",
       "    </tr>\n",
       "    <tr>\n",
       "      <th>3</th>\n",
       "      <td>546567</td>\n",
       "      <td>control</td>\n",
       "      <td>old</td>\n",
       "      <td>3.02</td>\n",
       "      <td>no</td>\n",
       "      <td>French</td>\n",
       "    </tr>\n",
       "    <tr>\n",
       "      <th>4</th>\n",
       "      <td>546459</td>\n",
       "      <td>treatment</td>\n",
       "      <td>new</td>\n",
       "      <td>4.75</td>\n",
       "      <td>yes</td>\n",
       "      <td>Spanish</td>\n",
       "    </tr>\n",
       "  </tbody>\n",
       "</table>\n",
       "</div>"
      ],
      "text/plain": [
       "   user_id      group landing_page  time_spent_on_the_page converted  \\\n",
       "0   546592    control          old                    3.48        no   \n",
       "1   546468  treatment          new                    7.13       yes   \n",
       "2   546462  treatment          new                    4.40        no   \n",
       "3   546567    control          old                    3.02        no   \n",
       "4   546459  treatment          new                    4.75       yes   \n",
       "\n",
       "  language_preferred  \n",
       "0            Spanish  \n",
       "1            English  \n",
       "2            Spanish  \n",
       "3             French  \n",
       "4            Spanish  "
      ]
     },
     "execution_count": 35,
     "metadata": {},
     "output_type": "execute_result"
    }
   ],
   "source": [
    "# Reading first 5 rows. \n",
    "eNewsData.head()"
   ]
  },
  {
   "cell_type": "code",
   "execution_count": 36,
   "id": "922bc2a7-8b6e-4393-9a1f-fb783d8cdfee",
   "metadata": {},
   "outputs": [
    {
     "data": {
      "text/html": [
       "<div>\n",
       "<style scoped>\n",
       "    .dataframe tbody tr th:only-of-type {\n",
       "        vertical-align: middle;\n",
       "    }\n",
       "\n",
       "    .dataframe tbody tr th {\n",
       "        vertical-align: top;\n",
       "    }\n",
       "\n",
       "    .dataframe thead th {\n",
       "        text-align: right;\n",
       "    }\n",
       "</style>\n",
       "<table border=\"1\" class=\"dataframe\">\n",
       "  <thead>\n",
       "    <tr style=\"text-align: right;\">\n",
       "      <th></th>\n",
       "      <th>group</th>\n",
       "      <th>landing_page</th>\n",
       "      <th>converted</th>\n",
       "      <th>language_preferred</th>\n",
       "    </tr>\n",
       "  </thead>\n",
       "  <tbody>\n",
       "    <tr>\n",
       "      <th>count</th>\n",
       "      <td>100</td>\n",
       "      <td>100</td>\n",
       "      <td>100</td>\n",
       "      <td>100</td>\n",
       "    </tr>\n",
       "    <tr>\n",
       "      <th>unique</th>\n",
       "      <td>2</td>\n",
       "      <td>2</td>\n",
       "      <td>2</td>\n",
       "      <td>3</td>\n",
       "    </tr>\n",
       "    <tr>\n",
       "      <th>top</th>\n",
       "      <td>control</td>\n",
       "      <td>new</td>\n",
       "      <td>yes</td>\n",
       "      <td>French</td>\n",
       "    </tr>\n",
       "    <tr>\n",
       "      <th>freq</th>\n",
       "      <td>50</td>\n",
       "      <td>50</td>\n",
       "      <td>54</td>\n",
       "      <td>34</td>\n",
       "    </tr>\n",
       "  </tbody>\n",
       "</table>\n",
       "</div>"
      ],
      "text/plain": [
       "          group landing_page converted language_preferred\n",
       "count       100          100       100                100\n",
       "unique        2            2         2                  3\n",
       "top     control          new       yes             French\n",
       "freq         50           50        54                 34"
      ]
     },
     "execution_count": 36,
     "metadata": {},
     "output_type": "execute_result"
    }
   ],
   "source": [
    "eNewsData.describe(include=[\"category\"])"
   ]
  },
  {
   "cell_type": "markdown",
   "id": "065e5fc6-b2a3-453b-a9ec-0af98facebbb",
   "metadata": {},
   "source": [
    "**Observations**\n",
    "* All 6 column have 100 observations indicating that there are no missing values in it.\n",
    "* group, landing_page,converted and language_preferred read as 'object' data type.\n",
    "* The E-news Express dataset has 100 rows and 6 columns.\n",
    "* E-news Express dataset has group,landing_page, converted and language_preferred as qualitative or catagorical data. \n",
    "* E-news Express dataset has time_spent_on_the_page as quantitative data. \n"
   ]
  },
  {
   "cell_type": "markdown",
   "id": "47574ceb-b228-4925-9bbc-2083001e7265",
   "metadata": {},
   "source": [
    "# Exploratory Data Analysis"
   ]
  },
  {
   "cell_type": "markdown",
   "id": "2d0b9c0d-b213-40a7-a6b7-435d6a97181a",
   "metadata": {},
   "source": [
    "# <span style=\"font-family: Arial; font-weight:bold;font-size:.9em;color:#0e92ea\"> Univariate Analysis of E-news Express Data"
   ]
  },
  {
   "cell_type": "code",
   "execution_count": 38,
   "id": "3e964591-8d92-48fb-8849-a58ce4c52e96",
   "metadata": {},
   "outputs": [],
   "source": [
    "# Univariate Function to create barplots that indicate percentage for each category.\n",
    "\n",
    "def perc_on_bar(plot, feature):\n",
    "    '''\n",
    "    plot\n",
    "    feature: categorical feature\n",
    "    the function won't work if a column is passed in hue parameter\n",
    "    '''\n",
    "    total = len(feature) # length of the column\n",
    "    for p in ax.patches:\n",
    "        percentage = '{:.1f}%'.format(100 * p.get_height()/total) # percentage of each class of the category\n",
    "        x = p.get_x() + p.get_width() / 2 - 0.05 # width of the plot\n",
    "        y = p.get_y() + p.get_height()           # hieght of the plot\n",
    "        ax.annotate(percentage, (x, y), size = 12) # annotate the percantage \n",
    "    plt.show() # show the plot"
   ]
  },
  {
   "cell_type": "code",
   "execution_count": 12,
   "id": "2f121e5b-6303-4604-aa1e-3325c0710950",
   "metadata": {},
   "outputs": [
    {
     "data": {
      "image/png": "[encoded data removed]",
      "text/plain": [
       "<Figure size 1080x360 with 1 Axes>"
      ]
     },
     "metadata": {
      "needs_background": "light"
     },
     "output_type": "display_data"
    }
   ],
   "source": [
    "plt.figure(figsize=(15,5))\n",
    "ax = sns.countplot(eNewsData[\"language_preferred\"],palette='winter')\n",
    "perc_on_bar(ax,eNewsData[\"language_preferred\"])"
   ]
  },
  {
   "cell_type": "code",
   "execution_count": 13,
   "id": "21ec9ba2-cb3e-44c1-aa2a-7f62637f25fc",
   "metadata": {},
   "outputs": [
    {
     "data": {
      "image/png": "[encoded data removed]",
      "text/plain": [
       "<Figure size 1080x360 with 1 Axes>"
      ]
     },
     "metadata": {
      "needs_background": "light"
     },
     "output_type": "display_data"
    }
   ],
   "source": [
    "plt.figure(figsize=(15,5))\n",
    "ax = sns.countplot(eNewsData[\"converted\"],palette='winter')\n",
    "perc_on_bar(ax,eNewsData[\"converted\"])"
   ]
  },
  {
   "cell_type": "code",
   "execution_count": 14,
   "id": "f3d81896-09fd-4d59-9e1b-ed2aceed0f6f",
   "metadata": {},
   "outputs": [
    {
     "data": {
      "image/png": "[encoded data removed]",
      "text/plain": [
       "<Figure size 1080x360 with 1 Axes>"
      ]
     },
     "metadata": {
      "needs_background": "light"
     },
     "output_type": "display_data"
    }
   ],
   "source": [
    "plt.figure(figsize=(15,5))\n",
    "ax = sns.countplot(eNewsData[\"landing_page\"],palette='winter')\n",
    "perc_on_bar(ax,eNewsData[\"landing_page\"])"
   ]
  },
  {
   "cell_type": "markdown",
   "id": "e373d965-4063-447f-bd86-b47878b098e9",
   "metadata": {},
   "source": [
    "### Observations\n",
    "1. 34% Users preferred language for the page are Spanish and French. \n",
    "2. 32% Users preferred language for the page is English.\n",
    "3. 54% Users subscribed to the news portal and 46% users did not not converted to the subscription. \n",
    "4. The population which use the old and new page are equally distributed i.e. 50%\n"
   ]
  },
  {
   "cell_type": "markdown",
   "id": "4b430e9b-c931-43e0-b2cc-c14d1cd8525a",
   "metadata": {},
   "source": [
    "# <span style=\"font-family: Arial; font-weight:bold;font-size:.9em;color:#0e92ea\"> Bi Variate  Analysis of E-news Express Data"
   ]
  },
  {
   "cell_type": "code",
   "execution_count": 39,
   "id": "b8d73db1-9369-42da-aec7-0f5adab61086",
   "metadata": {},
   "outputs": [
    {
     "data": {
      "image/png": "[encoded data removed]",
      "text/plain": [
       "<Figure size 1080x504 with 1 Axes>"
      ]
     },
     "metadata": {
      "needs_background": "light"
     },
     "output_type": "display_data"
    }
   ],
   "source": [
    "#Bivariate analysis between group and time spent on the page\n",
    "plt.figure(figsize=(15,7))\n",
    "sns.boxplot(eNewsData[\"group\"],eNewsData[\"time_spent_on_the_page\"],palette=\"PuBu\")\n",
    "plt.show()"
   ]
  },
  {
   "cell_type": "code",
   "execution_count": 40,
   "id": "7d409067-85dd-4da0-a506-75a396192c28",
   "metadata": {},
   "outputs": [
    {
     "data": {
      "image/png": "[encoded data removed]",
      "text/plain": [
       "<Figure size 1080x504 with 1 Axes>"
      ]
     },
     "metadata": {
      "needs_background": "light"
     },
     "output_type": "display_data"
    }
   ],
   "source": [
    "#Bivariate analysis between Language Preferred and time spent on the page\n",
    "plt.figure(figsize=(15,7))\n",
    "sns.boxplot(eNewsData[\"language_preferred\"],eNewsData[\"time_spent_on_the_page\"],palette=\"PuBu\")\n",
    "plt.show()"
   ]
  },
  {
   "cell_type": "code",
   "execution_count": 41,
   "id": "e3b81adf-a1c8-428a-a438-dc77b3290277",
   "metadata": {},
   "outputs": [
    {
     "data": {
      "image/png": "[encoded data removed]",
      "text/plain": [
       "<Figure size 1080x360 with 1 Axes>"
      ]
     },
     "metadata": {
      "needs_background": "light"
     },
     "output_type": "display_data"
    }
   ],
   "source": [
    "#Bivariate analysis through barplot between language Preferred and time spent on the page by different group  \n",
    "plt.figure(figsize=(15,5))\n",
    "sns.barplot(data=eNewsData,x='language_preferred',y='time_spent_on_the_page',hue='group')\n",
    "plt.show()"
   ]
  },
  {
   "cell_type": "code",
   "execution_count": 42,
   "id": "1c30c8bd-4a6e-488a-84e2-0abe80475b49",
   "metadata": {},
   "outputs": [
    {
     "data": {
      "image/png": "[encoded data removed]",
      "text/plain": [
       "<Figure size 1080x504 with 1 Axes>"
      ]
     },
     "metadata": {
      "needs_background": "light"
     },
     "output_type": "display_data"
    }
   ],
   "source": [
    "#Bivariate analysis between Landing page (Old v/s New) and time spent on the page\n",
    "\n",
    "plt.figure(figsize=(15,7))\n",
    "sns.boxplot(eNewsData[\"landing_page\"],eNewsData[\"time_spent_on_the_page\"],palette=\"PuBu\")\n",
    "plt.show()"
   ]
  },
  {
   "cell_type": "code",
   "execution_count": 43,
   "id": "0b704223-2063-4d11-be9a-ca108b78ac21",
   "metadata": {},
   "outputs": [
    {
     "data": {
      "image/png": "[encoded data removed]",
      "text/plain": [
       "<Figure size 1080x504 with 1 Axes>"
      ]
     },
     "metadata": {
      "needs_background": "light"
     },
     "output_type": "display_data"
    }
   ],
   "source": [
    "#Bivariate analysis between the preffered language and group\n",
    "plt.figure(figsize=(15,7))\n",
    "sns.countplot(eNewsData[\"group\"],hue=eNewsData[\"language_preferred\"],palette=\"gnuplot2_r\")\n",
    "plt.legend(bbox_to_anchor=(1.00, 1))\n",
    "plt.show()"
   ]
  },
  {
   "cell_type": "markdown",
   "id": "76671499-6b3f-42b9-b373-400d6de0138f",
   "metadata": {},
   "source": [
    "### Bivariate Observations\n",
    "1. The treatment group which is been served with new landing page spent more time on the page. \n",
    "2. The outliers exists with-in the treatment group. \n",
    "3. In all the language catagory English, Spanish and French users spent more time on the new landing page. \n",
    "4. Spanish and French users count are more than English users in both the catagory i.e. control v/s treatment. "
   ]
  },
  {
   "cell_type": "markdown",
   "id": "ba317968-1edd-4397-ad85-d6606ff30289",
   "metadata": {},
   "source": [
    "# Statistical analysis of E-News Express data"
   ]
  },
  {
   "cell_type": "markdown",
   "id": "0a897df0-7451-4207-a9b8-f1cfb4ee37ec",
   "metadata": {},
   "source": [
    "## 2. Do the users spend more time on the new landing page than the old landing page?"
   ]
  },
  {
   "cell_type": "markdown",
   "id": "cbe1fe7d-acf6-4e9b-9135-0a19ae1074c6",
   "metadata": {},
   "source": [
    "### To compare user spend more time on new v/s old page we will have to do a Hypothesis on the population sample data which is randomly taken. We randomly selected 100 users and divided them equally into two groups. The old landing page is served to the first group (control group) and the new landing page is served to the second group (treatment group)\n",
    "\n",
    "Assuming time spent on old and new anding page are normally distributed, Lets find out if we have enough evidence to conclude that there is any difference between time spent on old and new landing page at 0.05 significance level?\n",
    "\n",
    "### Let's write the null and alternative hypothesis\n",
    "\n",
    "* Let $\\mu_1$ = The mean time spent on the old page \n",
    "* $\\mu_2$  = The mean time spent on the new page\n",
    "\n",
    "We will test the null hypothesis\n",
    "\n",
    ">$H_0:\\mu_1=\\mu_2$\n",
    "\n",
    "against the alternate hypothesis\n",
    "\n",
    ">$H_a:\\mu_1<\\mu_2$\n"
   ]
  },
  {
   "cell_type": "code",
   "execution_count": 21,
   "id": "0bc577f6-e09d-436b-9e09-b34e6579bd6b",
   "metadata": {},
   "outputs": [
    {
     "data": {
      "text/html": [
       "<div>\n",
       "<style scoped>\n",
       "    .dataframe tbody tr th:only-of-type {\n",
       "        vertical-align: middle;\n",
       "    }\n",
       "\n",
       "    .dataframe tbody tr th {\n",
       "        vertical-align: top;\n",
       "    }\n",
       "\n",
       "    .dataframe thead tr th {\n",
       "        text-align: left;\n",
       "    }\n",
       "\n",
       "    .dataframe thead tr:last-of-type th {\n",
       "        text-align: right;\n",
       "    }\n",
       "</style>\n",
       "<table border=\"1\" class=\"dataframe\">\n",
       "  <thead>\n",
       "    <tr>\n",
       "      <th></th>\n",
       "      <th colspan=\"2\" halign=\"left\">time_spent_on_the_page</th>\n",
       "    </tr>\n",
       "    <tr>\n",
       "      <th></th>\n",
       "      <th>mean</th>\n",
       "      <th>std</th>\n",
       "    </tr>\n",
       "    <tr>\n",
       "      <th>landing_page</th>\n",
       "      <th></th>\n",
       "      <th></th>\n",
       "    </tr>\n",
       "  </thead>\n",
       "  <tbody>\n",
       "    <tr>\n",
       "      <th>new</th>\n",
       "      <td>6.2232</td>\n",
       "      <td>1.817031</td>\n",
       "    </tr>\n",
       "    <tr>\n",
       "      <th>old</th>\n",
       "      <td>4.5324</td>\n",
       "      <td>2.581975</td>\n",
       "    </tr>\n",
       "  </tbody>\n",
       "</table>\n",
       "</div>"
      ],
      "text/plain": [
       "             time_spent_on_the_page          \n",
       "                               mean       std\n",
       "landing_page                                 \n",
       "new                          6.2232  1.817031\n",
       "old                          4.5324  2.581975"
      ]
     },
     "execution_count": 21,
     "metadata": {},
     "output_type": "execute_result"
    }
   ],
   "source": [
    "# find the sample means and sample standard deviations for the two samples\n",
    "eNewsData.groupby('landing_page').agg({'time_spent_on_the_page': ['mean', 'std']})\n"
   ]
  },
  {
   "cell_type": "code",
   "execution_count": 45,
   "id": "4efe680b-4144-4786-9397-18fd029156b8",
   "metadata": {},
   "outputs": [],
   "source": [
    "##Group by Landing page \n",
    "df1 = eNewsData.groupby('landing_page')"
   ]
  },
  {
   "cell_type": "code",
   "execution_count": 46,
   "id": "792f047b-53d9-480c-8fee-d7756e91fc24",
   "metadata": {},
   "outputs": [
    {
     "name": "stdout",
     "output_type": "stream",
     "text": [
      "The mean time spent on old page is  4.53\n",
      "The mean time spent on new page is  6.22\n"
     ]
    }
   ],
   "source": [
    "# Getting the Mean time spent on the old landing page and new landing page \n",
    "\n",
    "mu1_old_landing_page = round(df1['time_spent_on_the_page'].get_group('old').mean(), 2)\n",
    "\n",
    "mu2_new_landing_page = round(df1['time_spent_on_the_page'].get_group('new').mean(), 2)\n",
    "\n",
    "print('The mean time spent on old page is ', mu1_old_landing_page)\n",
    "print('The mean time spent on new page is ', mu2_new_landing_page)"
   ]
  },
  {
   "cell_type": "code",
   "execution_count": 79,
   "id": "7103e7e0-367b-4c19-8688-b63085671947",
   "metadata": {},
   "outputs": [
    {
     "name": "stdout",
     "output_type": "stream",
     "text": [
      "The mean time spent on old page is  2.58\n",
      "TThe mean time spent on new page is 1.82\n"
     ]
    }
   ],
   "source": [
    "# Getting the standard deviations of time spent on the old landing page and new landing page.  \n",
    "\n",
    "sigma1_old_landing_page = round(df1['time_spent_on_the_page'].get_group('old').std(), 2)\n",
    "sigma2_new_landing_page = round(df1['time_spent_on_the_page'].get_group('new').std(), 2)\n",
    "\n",
    "print('The mean time spent on old page is ',   sigma1_old_landing_page)\n",
    "print('TThe mean time spent on new page is', sigma2_new_landing_page)\n",
    "\n"
   ]
  },
  {
   "cell_type": "markdown",
   "id": "9b9098b6-da7f-41aa-bc5c-e8e90fd6200d",
   "metadata": {},
   "source": [
    "## Visualization of normal distribution\n"
   ]
  },
  {
   "cell_type": "code",
   "execution_count": 73,
   "id": "0e6f5a96-0e0a-4847-8fb9-308aaad0faf3",
   "metadata": {},
   "outputs": [
    {
     "data": {
      "image/png": "[encoded data removed]",
      "text/plain": [
       "<Figure size 432x288 with 1 Axes>"
      ]
     },
     "metadata": {
      "needs_background": "light"
     },
     "output_type": "display_data"
    }
   ],
   "source": [
    "\n",
    "density = pd.DataFrame() # create an empty DataFrame\n",
    "density[\"x\"] = np.linspace(\n",
    "    df1['time_spent_on_the_page'].get_group('old').min(), df1['time_spent_on_the_page'].get_group('old').max(), 100) # create an array of 100 numbers in between the min and max score range and store it in the first column of the empty DataFrame\n",
    "density[\"pdf\"] = norm.pdf(density[\"x\"], mu1_old_landing_page, sigma1_old_landing_page) # calculate the pdf() of the created numbers and store it in another column named 'pdf'\n",
    "\n",
    "fig, ax = plt.subplots() # create the subplot\n",
    "sns.histplot(df1['time_spent_on_the_page'].get_group('old'), ax=ax, kde=True, stat=\"density\") # plot the distribution of data using histogram\n",
    "ax.plot(density[\"x\"], density[\"pdf\"], color=\"red\") # plot the pdf of the normal distribution\n",
    "plt.title(\"Normal Distribution for Old landing page\") # set the title\n",
    "plt.show() # display the plot"
   ]
  },
  {
   "cell_type": "code",
   "execution_count": 76,
   "id": "f46d18c1-381a-49b6-81d4-558809dddd93",
   "metadata": {},
   "outputs": [
    {
     "data": {
      "image/png": "[encoded data removed]",
      "text/plain": [
       "<Figure size 432x288 with 1 Axes>"
      ]
     },
     "metadata": {
      "needs_background": "light"
     },
     "output_type": "display_data"
    }
   ],
   "source": [
    "density = pd.DataFrame() # create an empty DataFrame\n",
    "density[\"x\"] = np.linspace(\n",
    "    df1['time_spent_on_the_page'].get_group('new').min(), df1['time_spent_on_the_page'].get_group('new').max(), 100\n",
    ") # create an array of 100 numbers in between the min and max score range and store it in the first column of the empty DataFrame\n",
    "density[\"pdf\"] = norm.pdf(density[\"x\"], mu2_new_landing_page, sigma2_new_landing_page) # calculate the pdf() of the created numbers and store it in another column named 'pdf'\n",
    "\n",
    "fig, ax = plt.subplots() # create the subplot\n",
    "sns.histplot(df1['time_spent_on_the_page'].get_group('new'), ax=ax, kde=True, stat=\"density\") # plot the distribution of data using histogram\n",
    "ax.plot(density[\"x\"], density[\"pdf\"], color=\"red\") # plot the pdf of the normal distribution\n",
    "plt.title(\"Normal Distribution for Old landing page\") # set the title\n",
    "plt.show() # display the plot"
   ]
  },
  {
   "cell_type": "markdown",
   "id": "3b4b16a8-90e5-48aa-aa20-599fc1c61f73",
   "metadata": {},
   "source": [
    "### Let's test whether the Z-test assumptions are satisfied or not\n",
    "\n",
    "* Continuous data - The ratings are measured on a continuous scale.\n",
    "* Normally distributed populations or Sample sizes > 30 - Since the sample sizes are greater than 30, Central Limit Theorem states that the distribution of sample means will be normal.\n",
    "* Independent populations - As we are taking samples for two different landing pages , the two samples are from two independent populations.\n",
    "* Known population standard deviation $\\sigma_1$ and $\\sigma_2$ - Yes, we know the population standard deviations of both the populations.\n",
    "* Random sampling from the population - Yes, we are informed that the collected sample is a simple random sample.\n",
    "\n",
    "Voila! We can use two sample Z-test for this problem.\n"
   ]
  },
  {
   "cell_type": "markdown",
   "id": "2f48669a-020e-45dd-81b8-10f7d5d6d3d1",
   "metadata": {},
   "source": [
    "### Let's find the p-value"
   ]
  },
  {
   "cell_type": "code",
   "execution_count": 49,
   "id": "df2e643b-acec-4bd7-a569-1719165b20b6",
   "metadata": {},
   "outputs": [],
   "source": [
    "# user-defined function to compare the equality of two means from two independent populations, where population standard deviations are known\n",
    "# this function returns the p-value for one tailed test\n",
    "# for two-tailed test, multiply the p-value by 2\n",
    "# To know more about the derivation of test statistic and standard error formula, please refer to the monographs and additional materials\n",
    "def ztest_2samp(X1, X2, pop_sd1, pop_sd2, n1, n2):\n",
    "    '''\n",
    "    X1 - first of the two independent samples (sample 1)\n",
    "    X2 - second of the two independent samples (sample 2)\n",
    "    pop_sd1 - population standard deviation of sample 1\n",
    "    pop_sd2 - population standard deviation of sample 2\n",
    "    n1 - size of sample 1\n",
    "    n2 - size of sample 2\n",
    "    '''\n",
    "    from numpy import sqrt, abs # import the required functions\n",
    "    from scipy.stats import norm # import the required function\n",
    "    se = sqrt(pop_sd1**2/n1 + pop_sd2**2/n2) # calculate the standard error\n",
    "    test_stat = ((X1.mean() - X2.mean()) - 0)/ se # calculate the test statistic\n",
    "    pval = 1 - norm.cdf(abs(test_stat)) # calculate the one-tailed p-value\n",
    "    return pval # return the p-value"
   ]
  },
  {
   "cell_type": "code",
   "execution_count": 60,
   "id": "748b218e-8cd1-42fc-89c8-55140c03c893",
   "metadata": {},
   "outputs": [],
   "source": [
    "## Time spent on old Landing page X1 - first of the two independent samples (sample 1)\n",
    "X1 = df1['time_spent_on_the_page'].get_group('old')\n"
   ]
  },
  {
   "cell_type": "code",
   "execution_count": 61,
   "id": "f5df80b7-0dab-4c79-a7e8-e83fbb537584",
   "metadata": {},
   "outputs": [],
   "source": [
    "## Time pent on new Landing page X2 - second of the two independent samples (sample 2)\n",
    "X2 = df1['time_spent_on_the_page'].get_group('new')\n"
   ]
  },
  {
   "cell_type": "code",
   "execution_count": 62,
   "id": "8c231452-3d29-4dc9-b106-78c64b17e626",
   "metadata": {},
   "outputs": [
    {
     "name": "stdout",
     "output_type": "stream",
     "text": [
      "The P-value is 7.634426865454902e-05\n"
     ]
    }
   ],
   "source": [
    "# find the p-value using the ztest_2samp() function\n",
    "p_value = ztest_2samp(X1.dropna(), X2.dropna(), sigma1_old_landing_page, sigma2_new_landing_page, 50 ,50)\n",
    "print('The P-value is', p_value)"
   ]
  },
  {
   "cell_type": "markdown",
   "id": "b1604e91-2e5e-4d87-affd-fcb3f9f54317",
   "metadata": {},
   "source": [
    "### Insight\n",
    "As the p-value is much less than the level of significance 0.05, we reject the null hypothesis. Thus, we have enough statistical evidence to say that users spent less time on old landing page than new landing page."
   ]
  },
  {
   "cell_type": "markdown",
   "id": "722f8c0f-1d1d-42e5-906e-ebafa6a9ad83",
   "metadata": {},
   "source": [
    "## 3. Is the conversion rate (the proportion of users who visit the landing page and get converted) for the new page greater than the conversion rate for the old page?"
   ]
  },
  {
   "cell_type": "markdown",
   "id": "f9202ead-2105-4de7-93a1-9fb38d94e105",
   "metadata": {},
   "source": [
    "### This hypothesis seems to be a good fit into the Two Proportion Z-test. Lets do statistical analysis based upon the proportion of the sample data. \n",
    "## Let's write the null and alternative hypothesis\n",
    "\n",
    "* Let p_1 = Proportions of users converted to the new landing page i.e. Converted = Yes\n",
    "* Let p_2 = Proportions of users not converted to the new landing page i.e. Converted = No\n",
    "\n",
    "\n",
    "We will test the null hypothesis\n",
    "\n",
    ">$H_0:p_1 =p_2$\n",
    "\n",
    "against the alternate hypothesis\n",
    "\n",
    ">$H_a:p_1 \\neq p_2$\n",
    "\n"
   ]
  },
  {
   "cell_type": "markdown",
   "id": "1cb82b64-1cc4-4f00-97eb-5879a8956ced",
   "metadata": {},
   "source": [
    "### Let's test whether the Z-test assumptions are satisfied or not\n",
    "\n",
    "*   Binomally distributed population - Yes, a user is either converted or not-converted.\n",
    "*   Random sampling from the population - Yes, we are informed that the collected sample is a simple random sample.  \n",
    "*   Can the binomial distribution approximated to normal distribution - Yes. For binary data, CLT works slower than usual. The standard thing is to check whether np and n(1-p) are greater than or equal to 10. Here, n and p refer to the sample size and sample proportion respectively.\n",
    "\n",
    "#### All the conditions are satisfied for two pproportions Z-test\n"
   ]
  },
  {
   "cell_type": "markdown",
   "id": "8f0e739e-c7c6-4f83-b610-cc9fe7bfabc3",
   "metadata": {},
   "source": [
    "### Let's find the p-value"
   ]
  },
  {
   "cell_type": "code",
   "execution_count": 54,
   "id": "3c3d2ff9-b1e0-414e-a42c-12e1a990e168",
   "metadata": {},
   "outputs": [
    {
     "data": {
      "text/html": [
       "<div>\n",
       "<style scoped>\n",
       "    .dataframe tbody tr th:only-of-type {\n",
       "        vertical-align: middle;\n",
       "    }\n",
       "\n",
       "    .dataframe tbody tr th {\n",
       "        vertical-align: top;\n",
       "    }\n",
       "\n",
       "    .dataframe thead th {\n",
       "        text-align: right;\n",
       "    }\n",
       "</style>\n",
       "<table border=\"1\" class=\"dataframe\">\n",
       "  <thead>\n",
       "    <tr style=\"text-align: right;\">\n",
       "      <th>converted</th>\n",
       "      <th>no</th>\n",
       "      <th>yes</th>\n",
       "    </tr>\n",
       "    <tr>\n",
       "      <th>landing_page</th>\n",
       "      <th></th>\n",
       "      <th></th>\n",
       "    </tr>\n",
       "  </thead>\n",
       "  <tbody>\n",
       "    <tr>\n",
       "      <th>new</th>\n",
       "      <td>17</td>\n",
       "      <td>33</td>\n",
       "    </tr>\n",
       "    <tr>\n",
       "      <th>old</th>\n",
       "      <td>29</td>\n",
       "      <td>21</td>\n",
       "    </tr>\n",
       "  </tbody>\n",
       "</table>\n",
       "</div>"
      ],
      "text/plain": [
       "converted     no  yes\n",
       "landing_page         \n",
       "new           17   33\n",
       "old           29   21"
      ]
     },
     "execution_count": 54,
     "metadata": {},
     "output_type": "execute_result"
    }
   ],
   "source": [
    "ctab = pd.crosstab(eNewsData[\"landing_page\"],eNewsData[\"converted\"])\n",
    "ctab"
   ]
  },
  {
   "cell_type": "code",
   "execution_count": 58,
   "id": "a3799452-1519-4f9f-989d-d85ddab8e063",
   "metadata": {},
   "outputs": [
    {
     "name": "stdout",
     "output_type": "stream",
     "text": [
      "The p-value is 0.016052616408112556\n"
     ]
    }
   ],
   "source": [
    "# import the required fuction\n",
    "from statsmodels.stats.proportion import proportions_ztest\n",
    "\n",
    "# get proportion count of user on new landing page and converted\n",
    "new_converted = 33 \n",
    "# get proportion count of user on old landing page and converted  \n",
    "old_converted = 21 \n",
    "\n",
    "# set the counts of converted users\n",
    "total_converted_count = np.array([33, 21])\n",
    "# sample sizcount\n",
    "nobs = np.array([50, 50])\n",
    "# find the p-value\n",
    "test_stat, p_value = proportions_ztest(total_converted_count, nobs)\n",
    "print('The p-value is ' + str(p_value))"
   ]
  },
  {
   "cell_type": "markdown",
   "id": "a5d58b7b-a9a5-40a5-ba87-7a9e5f0a6ff2",
   "metadata": {},
   "source": [
    "### Conclusion\n",
    "As the p-value is Less than the significance level 0.05, we can reject the null hypothesis. Thus, We can reach to the conclusion that conversion rate (the proportion of users who visit the landing page and get converted) for the new page is greater than the conversion rate for the old page. We can also see this from the new_converted count which is also greated than old_converted coun. "
   ]
  },
  {
   "cell_type": "markdown",
   "id": "fd70bd28-9938-4bd4-8f2e-267fb95c1564",
   "metadata": {},
   "source": [
    "## 4. Does the converted status depend on the preferred language? "
   ]
  },
  {
   "cell_type": "markdown",
   "id": "63df0770-6950-4d7f-9d8e-076c9ff8baa0",
   "metadata": {},
   "source": [
    "### Let's write the null and alternative hypothesis\n",
    "\n",
    "\n",
    "We will test the null hypothesis\n",
    "\n",
    ">$H_0:$ Converted Status is independent of Language.\n",
    "\n",
    "against the alternate hypothesis\n",
    "\n",
    ">$H_a:$ Converted Status is dependent of Language."
   ]
  },
  {
   "cell_type": "code",
   "execution_count": 114,
   "id": "8a0df742-82a5-4340-90ee-b9ab2585dad0",
   "metadata": {},
   "outputs": [
    {
     "data": {
      "text/html": [
       "<div>\n",
       "<style scoped>\n",
       "    .dataframe tbody tr th:only-of-type {\n",
       "        vertical-align: middle;\n",
       "    }\n",
       "\n",
       "    .dataframe tbody tr th {\n",
       "        vertical-align: top;\n",
       "    }\n",
       "\n",
       "    .dataframe thead th {\n",
       "        text-align: right;\n",
       "    }\n",
       "</style>\n",
       "<table border=\"1\" class=\"dataframe\">\n",
       "  <thead>\n",
       "    <tr style=\"text-align: right;\">\n",
       "      <th>language_preferred</th>\n",
       "      <th>English</th>\n",
       "      <th>French</th>\n",
       "      <th>Spanish</th>\n",
       "    </tr>\n",
       "    <tr>\n",
       "      <th>converted</th>\n",
       "      <th></th>\n",
       "      <th></th>\n",
       "      <th></th>\n",
       "    </tr>\n",
       "  </thead>\n",
       "  <tbody>\n",
       "    <tr>\n",
       "      <th>no</th>\n",
       "      <td>11</td>\n",
       "      <td>19</td>\n",
       "      <td>16</td>\n",
       "    </tr>\n",
       "    <tr>\n",
       "      <th>yes</th>\n",
       "      <td>21</td>\n",
       "      <td>15</td>\n",
       "      <td>18</td>\n",
       "    </tr>\n",
       "  </tbody>\n",
       "</table>\n",
       "</div>"
      ],
      "text/plain": [
       "language_preferred  English  French  Spanish\n",
       "converted                                   \n",
       "no                       11      19       16\n",
       "yes                      21      15       18"
      ]
     },
     "execution_count": 114,
     "metadata": {},
     "output_type": "execute_result"
    }
   ],
   "source": [
    "ltab = pd.crosstab(eNewsData[\"converted\"],eNewsData[\"language_preferred\"])\n",
    "ltab"
   ]
  },
  {
   "cell_type": "code",
   "execution_count": 117,
   "id": "6871a60c-86c4-475e-a66f-9d954e803ec6",
   "metadata": {},
   "outputs": [
    {
     "data": {
      "text/plain": [
       "<pandas.core.groupby.generic.SeriesGroupBy object at 0x1C8C5BC8>"
      ]
     },
     "execution_count": 117,
     "metadata": {},
     "output_type": "execute_result"
    }
   ],
   "source": []
  },
  {
   "cell_type": "markdown",
   "id": "df5c2e50-4c75-4f8c-96f4-60386db777ef",
   "metadata": {},
   "source": [
    "### Let's test whether the assumptions are satisfied or not\n",
    "\n",
    "* Categorical variables - Yes\n",
    "* Expected value of the number of sample observations in each level of the variable is at least 5 - Yes, the number of observations in each level is greater than 5.\n",
    "* Random sampling from the population - Yes, we are informed that the collected sample is a simple random sample.\n"
   ]
  },
  {
   "cell_type": "code",
   "execution_count": 108,
   "id": "bf28c1aa-be7c-4aa0-bc61-5c8d00d30536",
   "metadata": {},
   "outputs": [],
   "source": [
    "### Let's find the p-value"
   ]
  },
  {
   "cell_type": "code",
   "execution_count": 119,
   "id": "9113b06a-8141-4b8f-9f6a-1394ad515900",
   "metadata": {},
   "outputs": [
    {
     "name": "stdout",
     "output_type": "stream",
     "text": [
      "The p-value is 0.21298887487543447\n"
     ]
    }
   ],
   "source": [
    "# import the required function\n",
    "from scipy.stats import chi2_contingency\n",
    "\n",
    "# find the p-value\n",
    "chi, p_value, dof, expected = chi2_contingency(ltab)\n",
    "print('The p-value is', p_value)"
   ]
  },
  {
   "cell_type": "markdown",
   "id": "44ee1881-9397-423c-9c71-913764cdec51",
   "metadata": {},
   "source": [
    "As the p-value is higher than the significance level, we are failed to reject the null hypothesis. Hence, we do not have enough statistical significance to conclude that conversion status is dependent on preferred language"
   ]
  },
  {
   "cell_type": "markdown",
   "id": "4de6f2b6-3511-4483-a0f2-6b17d4dc7d96",
   "metadata": {},
   "source": [
    "## 5. Is the mean time spent on the new page same for the different language users"
   ]
  },
  {
   "cell_type": "markdown",
   "id": "c9860397-135d-4c3e-a8fc-70316b8e303d",
   "metadata": {},
   "source": [
    "### Let's write the null and alternative hypothesis\n",
    "\n",
    "Let $\\mu_1, \\mu_2, \\mu_3$ be the means of time_spent_on_the_page for English, Spanish and French for new page respectively.\n",
    "\n",
    "We will test the null hypothesis\n",
    "\n",
    ">$H_0: \\mu_1 = \\mu_2 = \\mu_3$\n",
    "\n",
    "against the alternative hypothesis\n",
    "\n",
    ">$H_a: $ At least one time_spent_on_the_page for new page for one language is different from the rest.\n"
   ]
  },
  {
   "cell_type": "code",
   "execution_count": 96,
   "id": "ec8adf30-7ed8-4791-8b16-8d98d4015bf9",
   "metadata": {},
   "outputs": [
    {
     "data": {
      "text/html": [
       "<div>\n",
       "<style scoped>\n",
       "    .dataframe tbody tr th:only-of-type {\n",
       "        vertical-align: middle;\n",
       "    }\n",
       "\n",
       "    .dataframe tbody tr th {\n",
       "        vertical-align: top;\n",
       "    }\n",
       "\n",
       "    .dataframe thead th {\n",
       "        text-align: right;\n",
       "    }\n",
       "</style>\n",
       "<table border=\"1\" class=\"dataframe\">\n",
       "  <thead>\n",
       "    <tr style=\"text-align: right;\">\n",
       "      <th></th>\n",
       "      <th>user_id</th>\n",
       "      <th>group</th>\n",
       "      <th>landing_page</th>\n",
       "      <th>time_spent_on_the_page</th>\n",
       "      <th>converted</th>\n",
       "      <th>language_preferred</th>\n",
       "    </tr>\n",
       "  </thead>\n",
       "  <tbody>\n",
       "    <tr>\n",
       "      <th>1</th>\n",
       "      <td>546468</td>\n",
       "      <td>treatment</td>\n",
       "      <td>new</td>\n",
       "      <td>7.13</td>\n",
       "      <td>yes</td>\n",
       "      <td>English</td>\n",
       "    </tr>\n",
       "    <tr>\n",
       "      <th>2</th>\n",
       "      <td>546462</td>\n",
       "      <td>treatment</td>\n",
       "      <td>new</td>\n",
       "      <td>4.40</td>\n",
       "      <td>no</td>\n",
       "      <td>Spanish</td>\n",
       "    </tr>\n",
       "    <tr>\n",
       "      <th>4</th>\n",
       "      <td>546459</td>\n",
       "      <td>treatment</td>\n",
       "      <td>new</td>\n",
       "      <td>4.75</td>\n",
       "      <td>yes</td>\n",
       "      <td>Spanish</td>\n",
       "    </tr>\n",
       "    <tr>\n",
       "      <th>6</th>\n",
       "      <td>546448</td>\n",
       "      <td>treatment</td>\n",
       "      <td>new</td>\n",
       "      <td>5.25</td>\n",
       "      <td>yes</td>\n",
       "      <td>French</td>\n",
       "    </tr>\n",
       "    <tr>\n",
       "      <th>8</th>\n",
       "      <td>546461</td>\n",
       "      <td>treatment</td>\n",
       "      <td>new</td>\n",
       "      <td>10.71</td>\n",
       "      <td>yes</td>\n",
       "      <td>French</td>\n",
       "    </tr>\n",
       "  </tbody>\n",
       "</table>\n",
       "</div>"
      ],
      "text/plain": [
       "   user_id      group landing_page  time_spent_on_the_page converted  \\\n",
       "1   546468  treatment          new                    7.13       yes   \n",
       "2   546462  treatment          new                    4.40        no   \n",
       "4   546459  treatment          new                    4.75       yes   \n",
       "6   546448  treatment          new                    5.25       yes   \n",
       "8   546461  treatment          new                   10.71       yes   \n",
       "\n",
       "  language_preferred  \n",
       "1            English  \n",
       "2            Spanish  \n",
       "4            Spanish  \n",
       "6             French  \n",
       "8             French  "
      ]
     },
     "execution_count": 96,
     "metadata": {},
     "output_type": "execute_result"
    }
   ],
   "source": [
    "new_page_data= eNewsData[eNewsData[\"landing_page\"]=='new']\n",
    "new_page_data.head()\n"
   ]
  },
  {
   "cell_type": "code",
   "execution_count": 103,
   "id": "ea20ae5b-a557-4ac1-8668-db84f55ffcd9",
   "metadata": {},
   "outputs": [
    {
     "name": "stdout",
     "output_type": "stream",
     "text": [
      "language_preferred\n",
      "English    6.663750\n",
      "French     6.196471\n",
      "Spanish    5.835294\n",
      "Name: time_spent_on_the_page, dtype: float64\n"
     ]
    },
    {
     "data": {
      "image/png": "[encoded data removed]",
      "text/plain": [
       "<Figure size 432x432 with 1 Axes>"
      ]
     },
     "metadata": {
      "needs_background": "light"
     },
     "output_type": "display_data"
    }
   ],
   "source": [
    "# mean of time_spent_on_the_page for new page with the language preferred\n",
    "print(new_page_data.groupby(\"language_preferred\")[\"time_spent_on_the_page\"].mean())\n",
    "# draw the boxplot for visualization \n",
    "fig, ax = plt.subplots(figsize = (6,6))\n",
    "a = sns.boxplot(x= \"language_preferred\", y = 'time_spent_on_the_page' , data = new_page_data, hue = 'language_preferred')\n",
    "a.set_title(\"Time Spent on the page  w.r.t. Language English, Spanish and French \", fontsize=15)\n",
    "plt.show()"
   ]
  },
  {
   "cell_type": "markdown",
   "id": "8bc4d170-7e15-4ccd-af85-01211f86dbec",
   "metadata": {},
   "source": [
    "Now, the normality and equality of variance assumptions need to be checked. \n",
    "\n",
    "* For testing of normality, Shapiro-Wilk’s test is applied to the response variable.\n",
    "\n",
    "* For equality of variance, Levene test is applied to the response variable."
   ]
  },
  {
   "cell_type": "markdown",
   "id": "31560285-f7b4-43c6-bf33-f019964fa96c",
   "metadata": {},
   "source": [
    "### Shapiro-Wilk’s test\n",
    "\n",
    "We will test the null hypothesis\n",
    "\n",
    ">$H_0:$ time_spent_on_the_page follows a normal distribution against\n",
    "\n",
    "against the alternative hypothesis\n",
    "\n",
    ">$H_a:$ time_spent_on_the_page does not follow a normal distribution"
   ]
  },
  {
   "cell_type": "code",
   "execution_count": 97,
   "id": "6ce2a43b-ea5f-47c9-b55e-0b7b11f58fe0",
   "metadata": {},
   "outputs": [
    {
     "name": "stdout",
     "output_type": "stream",
     "text": [
      "The p-value is 0.8040039539337158\n"
     ]
    }
   ],
   "source": [
    "# Assumption 1: Normality\n",
    "# import the required function\n",
    "from scipy import stats\n",
    "\n",
    "# find the p-value\n",
    "w, p_value = stats.shapiro(new_page_data['time_spent_on_the_page']) \n",
    "print('The p-value is', p_value)"
   ]
  },
  {
   "cell_type": "markdown",
   "id": "4939829c-38c3-4d6c-ad51-16c42aafba43",
   "metadata": {},
   "source": [
    "Since p-value of the test is very large, we fail to reject the null hypothesis that the response follows the normal distribution."
   ]
  },
  {
   "cell_type": "markdown",
   "id": "f4936c82-ce68-436e-82b6-e6cd10e9cae6",
   "metadata": {},
   "source": [
    "### Levene’s test\n",
    "\n",
    "We will test the null hypothesis\n",
    "\n",
    ">$H_0$: All the population variances are equal\n",
    "\n",
    "against the alternative hypothesis\n",
    "\n",
    ">$H_a$: At least one variance is different from the rest"
   ]
  },
  {
   "cell_type": "code",
   "execution_count": 99,
   "id": "7102281c-fc2f-4259-8096-a0448e588531",
   "metadata": {},
   "outputs": [
    {
     "name": "stdout",
     "output_type": "stream",
     "text": [
      "The p-value is 0.46711357711340173\n"
     ]
    }
   ],
   "source": [
    "#Assumption 2: Homogeneity of Variance\n",
    "#import the required function\n",
    "from scipy.stats import levene\n",
    "statistic, p_value = levene(new_page_data['time_spent_on_the_page'][new_page_data['language_preferred']==\"English\"], \n",
    "                                   new_page_data['time_spent_on_the_page'][new_page_data['language_preferred']==\"Spanish\"], \n",
    "                                   new_page_data['time_spent_on_the_page'][new_page_data['language_preferred']==\"French\"])\n",
    "# find the p-value\n",
    "print('The p-value is', p_value)"
   ]
  },
  {
   "cell_type": "markdown",
   "id": "f01bd363-3825-4954-a822-5c5dabdd85d4",
   "metadata": {},
   "source": [
    "Since the p-value is large, we fail to reject the null hypothesis of homogeneity of variances."
   ]
  },
  {
   "cell_type": "markdown",
   "id": "f42fe958-586c-4ddc-90b5-f32c13b4cfff",
   "metadata": {},
   "source": [
    "### Let's test whether the assumptions are satisfied or not\n",
    "\n",
    "* The populations are normally distributed - Yes, the normality assumption is verified using the Shapiro-Wilk’s test.\n",
    "* Samples are independent simple random samples - Yes, we are informed that the collected sample is a simple random sample.\n",
    "* Population variances are equal - Yes, the homogeneity of variance assumption is verified using the Levene's test.\n"
   ]
  },
  {
   "cell_type": "markdown",
   "id": "8665f946-3cca-4d12-909d-d1073991b029",
   "metadata": {},
   "source": [
    "### Let's find the p-value"
   ]
  },
  {
   "cell_type": "code",
   "execution_count": 102,
   "id": "8eee7a82-9aa6-4294-81db-af5a8a28fdb8",
   "metadata": {},
   "outputs": [
    {
     "name": "stdout",
     "output_type": "stream",
     "text": [
      "The p-value is 0.43204138694325955\n"
     ]
    }
   ],
   "source": [
    "#import the required function\n",
    "from scipy.stats import f_oneway\n",
    "\n",
    "# perform one-way anova test\n",
    "test_stat, p_value = f_oneway(new_page_data['time_spent_on_the_page'][new_page_data['language_preferred']==\"English\"], \n",
    "                                   new_page_data['time_spent_on_the_page'][new_page_data['language_preferred']==\"Spanish\"], \n",
    "                                   new_page_data['time_spent_on_the_page'][new_page_data['language_preferred']==\"French\"])\n",
    "print('The p-value is ' + str(p_value))"
   ]
  },
  {
   "cell_type": "markdown",
   "id": "2062bdb1-cbfb-4377-b889-37c6b54f0e93",
   "metadata": {},
   "source": [
    "### Insight\n",
    "As the p-value is much higher than the significance level, we failed to reject the null hypothesis. Hence, we do have enough statistical significance to conclude that mean time_spent_on_the_page is not much different at 5% significance level. \n"
   ]
  },
  {
   "cell_type": "code",
   "execution_count": null,
   "id": "682977d2-e6c6-41b6-80f5-873c6b9cca8f",
   "metadata": {},
   "outputs": [],
   "source": []
  }
 ],
 "metadata": {
  "kernelspec": {
   "display_name": "Python 3",
   "language": "python",
   "name": "python3"
  },
  "language_info": {
   "codemirror_mode": {
    "name": "ipython",
    "version": 3
   },
   "file_extension": ".py",
   "mimetype": "text/x-python",
   "name": "python",
   "nbconvert_exporter": "python",
   "pygments_lexer": "ipython3",
   "version": "3.8.1"
  }
 },
 "nbformat": 4,
 "nbformat_minor": 5
}
