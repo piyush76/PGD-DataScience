{
 "cells": [
  {
   "cell_type": "code",
   "execution_count": 1,
   "id": "f7114b13-158e-45ea-a4ad-ff2e55dd84f1",
   "metadata": {},
   "outputs": [],
   "source": [
    "import warnings\n",
    "warnings.filterwarnings('ignore')\n",
    "\n",
    "import numpy as np \n",
    "import pandas as pd\n",
    "\n",
    "from sklearn import metrics\n",
    "import matplotlib.pyplot as plt\n",
    "\n",
    "%matplotlib inline\n",
    "\n",
    "import seaborn as sns\n",
    "from sklearn.model_selection import train_test_split\n",
    "from sklearn.model_selection import GridSearchCV\n",
    "from sklearn import metrics\n",
    "from sklearn.tree import DecisionTreeClassifier\n",
    "from sklearn.ensemble import AdaBoostClassifier, GradientBoostingClassifier\n",
    "from xgboost import XGBClassifier\n",
    "\n",
    "from sklearn.model_selection import GridSearchCV\n",
    "from sklearn import metrics\n",
    "from sklearn.ensemble import BaggingClassifier, RandomForestClassifier\n",
    "\n",
    "from sklearn.ensemble import StackingClassifier\n",
    "from sklearn.tree import DecisionTreeClassifier\n",
    "from sklearn.metrics import confusion_matrix, classification_report, accuracy_score, precision_score, recall_score, f1_score, roc_auc_score"
   ]
  },
  {
   "cell_type": "code",
   "execution_count": 2,
   "id": "d2cad687-e8a3-43a8-aa1a-cd5dae051017",
   "metadata": {},
   "outputs": [],
   "source": [
    "data = pd.read_csv(\"Cars-dataset.csv\")"
   ]
  },
  {
   "cell_type": "code",
   "execution_count": 3,
   "id": "d5820ae2-3113-4db7-9aae-32205fb8ebe6",
   "metadata": {},
   "outputs": [
    {
     "data": {
      "text/plain": [
       "(418, 9)"
      ]
     },
     "execution_count": 3,
     "metadata": {},
     "output_type": "execute_result"
    }
   ],
   "source": [
    "data.shape\n"
   ]
  },
  {
   "cell_type": "code",
   "execution_count": 4,
   "id": "6132042b-7171-4ae8-9877-850688500c47",
   "metadata": {},
   "outputs": [
    {
     "name": "stdout",
     "output_type": "stream",
     "text": [
      "<class 'pandas.core.frame.DataFrame'>\n",
      "RangeIndex: 418 entries, 0 to 417\n",
      "Data columns (total 9 columns):\n",
      " #   Column       Non-Null Count  Dtype  \n",
      "---  ------       --------------  -----  \n",
      " 0   Age          418 non-null    int64  \n",
      " 1   Gender       418 non-null    object \n",
      " 2   Engineer     418 non-null    int64  \n",
      " 3   MBA          418 non-null    int64  \n",
      " 4   Work Exp     418 non-null    int64  \n",
      " 5   Salary       418 non-null    float64\n",
      " 6   Distance     418 non-null    float64\n",
      " 7   license      418 non-null    int64  \n",
      " 8   Opt_service  418 non-null    int64  \n",
      "dtypes: float64(2), int64(6), object(1)\n",
      "memory usage: 27.8+ KB\n"
     ]
    }
   ],
   "source": [
    "data.info()"
   ]
  },
  {
   "cell_type": "code",
   "execution_count": 5,
   "id": "76ee4bfe-c596-43e9-bd47-3e6f6e1a296a",
   "metadata": {},
   "outputs": [
    {
     "data": {
      "text/html": [
       "<div>\n",
       "<style scoped>\n",
       "    .dataframe tbody tr th:only-of-type {\n",
       "        vertical-align: middle;\n",
       "    }\n",
       "\n",
       "    .dataframe tbody tr th {\n",
       "        vertical-align: top;\n",
       "    }\n",
       "\n",
       "    .dataframe thead th {\n",
       "        text-align: right;\n",
       "    }\n",
       "</style>\n",
       "<table border=\"1\" class=\"dataframe\">\n",
       "  <thead>\n",
       "    <tr style=\"text-align: right;\">\n",
       "      <th></th>\n",
       "      <th>Age</th>\n",
       "      <th>Gender</th>\n",
       "      <th>Engineer</th>\n",
       "      <th>MBA</th>\n",
       "      <th>Work Exp</th>\n",
       "      <th>Salary</th>\n",
       "      <th>Distance</th>\n",
       "      <th>license</th>\n",
       "      <th>Opt_service</th>\n",
       "    </tr>\n",
       "  </thead>\n",
       "  <tbody>\n",
       "    <tr>\n",
       "      <th>0</th>\n",
       "      <td>28</td>\n",
       "      <td>Male</td>\n",
       "      <td>1</td>\n",
       "      <td>0</td>\n",
       "      <td>5</td>\n",
       "      <td>14.4</td>\n",
       "      <td>5.1</td>\n",
       "      <td>0</td>\n",
       "      <td>0</td>\n",
       "    </tr>\n",
       "    <tr>\n",
       "      <th>1</th>\n",
       "      <td>24</td>\n",
       "      <td>Male</td>\n",
       "      <td>1</td>\n",
       "      <td>0</td>\n",
       "      <td>6</td>\n",
       "      <td>10.6</td>\n",
       "      <td>6.1</td>\n",
       "      <td>0</td>\n",
       "      <td>0</td>\n",
       "    </tr>\n",
       "    <tr>\n",
       "      <th>2</th>\n",
       "      <td>27</td>\n",
       "      <td>Female</td>\n",
       "      <td>1</td>\n",
       "      <td>0</td>\n",
       "      <td>9</td>\n",
       "      <td>15.5</td>\n",
       "      <td>6.1</td>\n",
       "      <td>0</td>\n",
       "      <td>0</td>\n",
       "    </tr>\n",
       "    <tr>\n",
       "      <th>3</th>\n",
       "      <td>25</td>\n",
       "      <td>Male</td>\n",
       "      <td>0</td>\n",
       "      <td>0</td>\n",
       "      <td>1</td>\n",
       "      <td>7.6</td>\n",
       "      <td>6.3</td>\n",
       "      <td>0</td>\n",
       "      <td>0</td>\n",
       "    </tr>\n",
       "    <tr>\n",
       "      <th>4</th>\n",
       "      <td>25</td>\n",
       "      <td>Female</td>\n",
       "      <td>0</td>\n",
       "      <td>0</td>\n",
       "      <td>3</td>\n",
       "      <td>9.6</td>\n",
       "      <td>6.7</td>\n",
       "      <td>0</td>\n",
       "      <td>0</td>\n",
       "    </tr>\n",
       "    <tr>\n",
       "      <th>5</th>\n",
       "      <td>21</td>\n",
       "      <td>Male</td>\n",
       "      <td>0</td>\n",
       "      <td>0</td>\n",
       "      <td>3</td>\n",
       "      <td>9.5</td>\n",
       "      <td>7.1</td>\n",
       "      <td>0</td>\n",
       "      <td>0</td>\n",
       "    </tr>\n",
       "    <tr>\n",
       "      <th>6</th>\n",
       "      <td>23</td>\n",
       "      <td>Male</td>\n",
       "      <td>1</td>\n",
       "      <td>1</td>\n",
       "      <td>3</td>\n",
       "      <td>11.7</td>\n",
       "      <td>7.2</td>\n",
       "      <td>0</td>\n",
       "      <td>0</td>\n",
       "    </tr>\n",
       "    <tr>\n",
       "      <th>7</th>\n",
       "      <td>23</td>\n",
       "      <td>Male</td>\n",
       "      <td>0</td>\n",
       "      <td>0</td>\n",
       "      <td>0</td>\n",
       "      <td>6.5</td>\n",
       "      <td>7.3</td>\n",
       "      <td>0</td>\n",
       "      <td>0</td>\n",
       "    </tr>\n",
       "    <tr>\n",
       "      <th>8</th>\n",
       "      <td>24</td>\n",
       "      <td>Male</td>\n",
       "      <td>1</td>\n",
       "      <td>0</td>\n",
       "      <td>4</td>\n",
       "      <td>8.5</td>\n",
       "      <td>7.5</td>\n",
       "      <td>0</td>\n",
       "      <td>0</td>\n",
       "    </tr>\n",
       "    <tr>\n",
       "      <th>9</th>\n",
       "      <td>28</td>\n",
       "      <td>Male</td>\n",
       "      <td>1</td>\n",
       "      <td>0</td>\n",
       "      <td>6</td>\n",
       "      <td>13.7</td>\n",
       "      <td>7.5</td>\n",
       "      <td>1</td>\n",
       "      <td>0</td>\n",
       "    </tr>\n",
       "  </tbody>\n",
       "</table>\n",
       "</div>"
      ],
      "text/plain": [
       "   Age  Gender  Engineer  MBA  Work Exp  Salary  Distance  license  \\\n",
       "0   28    Male         1    0         5    14.4       5.1        0   \n",
       "1   24    Male         1    0         6    10.6       6.1        0   \n",
       "2   27  Female         1    0         9    15.5       6.1        0   \n",
       "3   25    Male         0    0         1     7.6       6.3        0   \n",
       "4   25  Female         0    0         3     9.6       6.7        0   \n",
       "5   21    Male         0    0         3     9.5       7.1        0   \n",
       "6   23    Male         1    1         3    11.7       7.2        0   \n",
       "7   23    Male         0    0         0     6.5       7.3        0   \n",
       "8   24    Male         1    0         4     8.5       7.5        0   \n",
       "9   28    Male         1    0         6    13.7       7.5        1   \n",
       "\n",
       "   Opt_service  \n",
       "0            0  \n",
       "1            0  \n",
       "2            0  \n",
       "3            0  \n",
       "4            0  \n",
       "5            0  \n",
       "6            0  \n",
       "7            0  \n",
       "8            0  \n",
       "9            0  "
      ]
     },
     "execution_count": 5,
     "metadata": {},
     "output_type": "execute_result"
    }
   ],
   "source": [
    "data.head(10)"
   ]
  },
  {
   "cell_type": "code",
   "execution_count": 6,
   "id": "e341110a-91ee-41fb-9277-a75c7a604b29",
   "metadata": {},
   "outputs": [
    {
     "data": {
      "text/html": [
       "<div>\n",
       "<style scoped>\n",
       "    .dataframe tbody tr th:only-of-type {\n",
       "        vertical-align: middle;\n",
       "    }\n",
       "\n",
       "    .dataframe tbody tr th {\n",
       "        vertical-align: top;\n",
       "    }\n",
       "\n",
       "    .dataframe thead th {\n",
       "        text-align: right;\n",
       "    }\n",
       "</style>\n",
       "<table border=\"1\" class=\"dataframe\">\n",
       "  <thead>\n",
       "    <tr style=\"text-align: right;\">\n",
       "      <th></th>\n",
       "      <th>count</th>\n",
       "      <th>unique</th>\n",
       "      <th>top</th>\n",
       "      <th>freq</th>\n",
       "      <th>mean</th>\n",
       "      <th>std</th>\n",
       "      <th>min</th>\n",
       "      <th>25%</th>\n",
       "      <th>50%</th>\n",
       "      <th>75%</th>\n",
       "      <th>max</th>\n",
       "    </tr>\n",
       "  </thead>\n",
       "  <tbody>\n",
       "    <tr>\n",
       "      <th>Age</th>\n",
       "      <td>418.0</td>\n",
       "      <td>NaN</td>\n",
       "      <td>NaN</td>\n",
       "      <td>NaN</td>\n",
       "      <td>27.334928</td>\n",
       "      <td>4.153272</td>\n",
       "      <td>18.0</td>\n",
       "      <td>25.0</td>\n",
       "      <td>27.0</td>\n",
       "      <td>29.0</td>\n",
       "      <td>43.0</td>\n",
       "    </tr>\n",
       "    <tr>\n",
       "      <th>Gender</th>\n",
       "      <td>418</td>\n",
       "      <td>2</td>\n",
       "      <td>Male</td>\n",
       "      <td>297</td>\n",
       "      <td>NaN</td>\n",
       "      <td>NaN</td>\n",
       "      <td>NaN</td>\n",
       "      <td>NaN</td>\n",
       "      <td>NaN</td>\n",
       "      <td>NaN</td>\n",
       "      <td>NaN</td>\n",
       "    </tr>\n",
       "    <tr>\n",
       "      <th>Engineer</th>\n",
       "      <td>418.0</td>\n",
       "      <td>NaN</td>\n",
       "      <td>NaN</td>\n",
       "      <td>NaN</td>\n",
       "      <td>0.748804</td>\n",
       "      <td>0.434221</td>\n",
       "      <td>0.0</td>\n",
       "      <td>0.25</td>\n",
       "      <td>1.0</td>\n",
       "      <td>1.0</td>\n",
       "      <td>1.0</td>\n",
       "    </tr>\n",
       "    <tr>\n",
       "      <th>MBA</th>\n",
       "      <td>418.0</td>\n",
       "      <td>NaN</td>\n",
       "      <td>NaN</td>\n",
       "      <td>NaN</td>\n",
       "      <td>0.260766</td>\n",
       "      <td>0.439578</td>\n",
       "      <td>0.0</td>\n",
       "      <td>0.0</td>\n",
       "      <td>0.0</td>\n",
       "      <td>1.0</td>\n",
       "      <td>1.0</td>\n",
       "    </tr>\n",
       "    <tr>\n",
       "      <th>Work Exp</th>\n",
       "      <td>418.0</td>\n",
       "      <td>NaN</td>\n",
       "      <td>NaN</td>\n",
       "      <td>NaN</td>\n",
       "      <td>5.873206</td>\n",
       "      <td>4.81611</td>\n",
       "      <td>0.0</td>\n",
       "      <td>3.0</td>\n",
       "      <td>5.0</td>\n",
       "      <td>8.0</td>\n",
       "      <td>24.0</td>\n",
       "    </tr>\n",
       "    <tr>\n",
       "      <th>Salary</th>\n",
       "      <td>418.0</td>\n",
       "      <td>NaN</td>\n",
       "      <td>NaN</td>\n",
       "      <td>NaN</td>\n",
       "      <td>15.418421</td>\n",
       "      <td>9.660234</td>\n",
       "      <td>6.5</td>\n",
       "      <td>9.625</td>\n",
       "      <td>13.0</td>\n",
       "      <td>14.9</td>\n",
       "      <td>57.0</td>\n",
       "    </tr>\n",
       "    <tr>\n",
       "      <th>Distance</th>\n",
       "      <td>418.0</td>\n",
       "      <td>NaN</td>\n",
       "      <td>NaN</td>\n",
       "      <td>NaN</td>\n",
       "      <td>11.30622</td>\n",
       "      <td>3.722143</td>\n",
       "      <td>3.2</td>\n",
       "      <td>8.6</td>\n",
       "      <td>10.9</td>\n",
       "      <td>13.575</td>\n",
       "      <td>23.4</td>\n",
       "    </tr>\n",
       "    <tr>\n",
       "      <th>license</th>\n",
       "      <td>418.0</td>\n",
       "      <td>NaN</td>\n",
       "      <td>NaN</td>\n",
       "      <td>NaN</td>\n",
       "      <td>0.205742</td>\n",
       "      <td>0.404727</td>\n",
       "      <td>0.0</td>\n",
       "      <td>0.0</td>\n",
       "      <td>0.0</td>\n",
       "      <td>0.0</td>\n",
       "      <td>1.0</td>\n",
       "    </tr>\n",
       "    <tr>\n",
       "      <th>Opt_service</th>\n",
       "      <td>418.0</td>\n",
       "      <td>NaN</td>\n",
       "      <td>NaN</td>\n",
       "      <td>NaN</td>\n",
       "      <td>0.083732</td>\n",
       "      <td>0.277317</td>\n",
       "      <td>0.0</td>\n",
       "      <td>0.0</td>\n",
       "      <td>0.0</td>\n",
       "      <td>0.0</td>\n",
       "      <td>1.0</td>\n",
       "    </tr>\n",
       "  </tbody>\n",
       "</table>\n",
       "</div>"
      ],
      "text/plain": [
       "             count unique   top freq       mean       std   min    25%   50%  \\\n",
       "Age          418.0    NaN   NaN  NaN  27.334928  4.153272  18.0   25.0  27.0   \n",
       "Gender         418      2  Male  297        NaN       NaN   NaN    NaN   NaN   \n",
       "Engineer     418.0    NaN   NaN  NaN   0.748804  0.434221   0.0   0.25   1.0   \n",
       "MBA          418.0    NaN   NaN  NaN   0.260766  0.439578   0.0    0.0   0.0   \n",
       "Work Exp     418.0    NaN   NaN  NaN   5.873206   4.81611   0.0    3.0   5.0   \n",
       "Salary       418.0    NaN   NaN  NaN  15.418421  9.660234   6.5  9.625  13.0   \n",
       "Distance     418.0    NaN   NaN  NaN   11.30622  3.722143   3.2    8.6  10.9   \n",
       "license      418.0    NaN   NaN  NaN   0.205742  0.404727   0.0    0.0   0.0   \n",
       "Opt_service  418.0    NaN   NaN  NaN   0.083732  0.277317   0.0    0.0   0.0   \n",
       "\n",
       "                75%   max  \n",
       "Age            29.0  43.0  \n",
       "Gender          NaN   NaN  \n",
       "Engineer        1.0   1.0  \n",
       "MBA             1.0   1.0  \n",
       "Work Exp        8.0  24.0  \n",
       "Salary         14.9  57.0  \n",
       "Distance     13.575  23.4  \n",
       "license         0.0   1.0  \n",
       "Opt_service     0.0   1.0  "
      ]
     },
     "execution_count": 6,
     "metadata": {},
     "output_type": "execute_result"
    }
   ],
   "source": [
    "data.describe(include=\"all\").T"
   ]
  },
  {
   "cell_type": "code",
   "execution_count": 7,
   "id": "15230c9e-a628-47c8-b4c9-01df368302b7",
   "metadata": {},
   "outputs": [
    {
     "data": {
      "text/plain": [
       "Age            0\n",
       "Gender         0\n",
       "Engineer       0\n",
       "MBA            0\n",
       "Work Exp       0\n",
       "Salary         0\n",
       "Distance       0\n",
       "license        0\n",
       "Opt_service    0\n",
       "dtype: int64"
      ]
     },
     "execution_count": 7,
     "metadata": {},
     "output_type": "execute_result"
    }
   ],
   "source": [
    "data.isnull().sum()"
   ]
  },
  {
   "cell_type": "code",
   "execution_count": 8,
   "id": "4424a8e4-c0ac-4434-8867-29a47c703371",
   "metadata": {},
   "outputs": [],
   "source": [
    "car_data = data.copy()"
   ]
  },
  {
   "cell_type": "code",
   "execution_count": 9,
   "id": "e08308ae-fa66-4c58-86d4-cd2aa86c835a",
   "metadata": {},
   "outputs": [],
   "source": [
    "#data.drop(['Age'],axis=1,inplace=True)"
   ]
  },
  {
   "cell_type": "code",
   "execution_count": 10,
   "id": "d9960e91-56ff-4102-a7d1-08075f1a43f2",
   "metadata": {},
   "outputs": [
    {
     "name": "stdout",
     "output_type": "stream",
     "text": [
      "Unique values in Age are :\n",
      "26    63\n",
      "27    49\n",
      "28    46\n",
      "24    46\n",
      "25    37\n",
      "30    33\n",
      "29    26\n",
      "23    24\n",
      "22    15\n",
      "31    13\n",
      "34     9\n",
      "21     8\n",
      "32     8\n",
      "38     6\n",
      "40     6\n",
      "33     6\n",
      "20     5\n",
      "39     4\n",
      "36     4\n",
      "37     4\n",
      "18     2\n",
      "35     1\n",
      "19     1\n",
      "42     1\n",
      "43     1\n",
      "Name: Age, dtype: int64\n",
      "**************************************************\n",
      "Unique values in Gender are :\n",
      "Male      297\n",
      "Female    121\n",
      "Name: Gender, dtype: int64\n",
      "**************************************************\n",
      "Unique values in Engineer are :\n",
      "1    313\n",
      "0    105\n",
      "Name: Engineer, dtype: int64\n",
      "**************************************************\n",
      "Unique values in MBA are :\n",
      "0    309\n",
      "1    109\n",
      "Name: MBA, dtype: int64\n",
      "**************************************************\n",
      "Unique values in Work Exp are :\n",
      "4     53\n",
      "2     47\n",
      "3     46\n",
      "6     45\n",
      "5     42\n",
      "0     29\n",
      "8     28\n",
      "7     27\n",
      "1     22\n",
      "9     17\n",
      "10    12\n",
      "11     7\n",
      "14     7\n",
      "19     6\n",
      "20     6\n",
      "16     5\n",
      "21     4\n",
      "12     4\n",
      "18     3\n",
      "22     3\n",
      "13     2\n",
      "17     1\n",
      "15     1\n",
      "24     1\n",
      "Name: Work Exp, dtype: int64\n",
      "**************************************************\n",
      "Unique values in Salary are :\n",
      "14.6    22\n",
      "8.5     13\n",
      "12.8    12\n",
      "13.6    12\n",
      "8.6     11\n",
      "        ..\n",
      "12.4     1\n",
      "52.0     1\n",
      "17.0     1\n",
      "22.8     1\n",
      "19.7     1\n",
      "Name: Salary, Length: 116, dtype: int64\n",
      "**************************************************\n",
      "Unique values in Distance are :\n",
      "8.1     11\n",
      "12.2    10\n",
      "9.0      8\n",
      "11.7     7\n",
      "9.4      7\n",
      "        ..\n",
      "18.0     1\n",
      "13.9     1\n",
      "4.8      1\n",
      "23.4     1\n",
      "18.2     1\n",
      "Name: Distance, Length: 138, dtype: int64\n",
      "**************************************************\n",
      "Unique values in license are :\n",
      "0    332\n",
      "1     86\n",
      "Name: license, dtype: int64\n",
      "**************************************************\n",
      "Unique values in Opt_service are :\n",
      "0    383\n",
      "1     35\n",
      "Name: Opt_service, dtype: int64\n",
      "**************************************************\n"
     ]
    }
   ],
   "source": [
    "for i in data.columns:\n",
    "    print('Unique values in',i, 'are :')\n",
    "    print(data[i].value_counts())\n",
    "    print('*'*50)"
   ]
  },
  {
   "cell_type": "code",
   "execution_count": 11,
   "id": "43558021-29b3-46d2-ba8d-7d96a774abfb",
   "metadata": {},
   "outputs": [
    {
     "data": {
      "image/png": "[encoded data removed]",
      "text/plain": [
       "<Figure size 1440x720 with 2 Axes>"
      ]
     },
     "metadata": {
      "needs_background": "light"
     },
     "output_type": "display_data"
    }
   ],
   "source": [
    "plt.figure(figsize=(20,10))\n",
    "sns.heatmap(data.corr(),annot=True,vmin=-1,vmax=1,fmt='.2f',cmap=\"Spectral\")\n",
    "plt.show()"
   ]
  },
  {
   "cell_type": "code",
   "execution_count": 12,
   "id": "1632a56e-a97d-49a7-b6f8-3a71bb1d7fde",
   "metadata": {},
   "outputs": [
    {
     "data": {
      "text/plain": [
       "Index(['Age', 'Gender', 'Engineer', 'MBA', 'Work Exp', 'Salary', 'Distance',\n",
       "       'license', 'Opt_service'],\n",
       "      dtype='object')"
      ]
     },
     "execution_count": 12,
     "metadata": {},
     "output_type": "execute_result"
    }
   ],
   "source": [
    "data.columns"
   ]
  },
  {
   "cell_type": "code",
   "execution_count": 13,
   "id": "a4029643-ba5e-4834-8035-e08be530856d",
   "metadata": {},
   "outputs": [
    {
     "data": {
      "text/html": [
       "<div>\n",
       "<style scoped>\n",
       "    .dataframe tbody tr th:only-of-type {\n",
       "        vertical-align: middle;\n",
       "    }\n",
       "\n",
       "    .dataframe tbody tr th {\n",
       "        vertical-align: top;\n",
       "    }\n",
       "\n",
       "    .dataframe thead th {\n",
       "        text-align: right;\n",
       "    }\n",
       "</style>\n",
       "<table border=\"1\" class=\"dataframe\">\n",
       "  <thead>\n",
       "    <tr style=\"text-align: right;\">\n",
       "      <th></th>\n",
       "      <th>Age</th>\n",
       "      <th>Gender</th>\n",
       "      <th>Engineer</th>\n",
       "      <th>MBA</th>\n",
       "      <th>Work Exp</th>\n",
       "      <th>Salary</th>\n",
       "      <th>Distance</th>\n",
       "      <th>license</th>\n",
       "      <th>Opt_service</th>\n",
       "    </tr>\n",
       "  </thead>\n",
       "  <tbody>\n",
       "    <tr>\n",
       "      <th>6</th>\n",
       "      <td>23</td>\n",
       "      <td>Male</td>\n",
       "      <td>1</td>\n",
       "      <td>1</td>\n",
       "      <td>3</td>\n",
       "      <td>11.7</td>\n",
       "      <td>7.2</td>\n",
       "      <td>0</td>\n",
       "      <td>0</td>\n",
       "    </tr>\n",
       "    <tr>\n",
       "      <th>19</th>\n",
       "      <td>22</td>\n",
       "      <td>Female</td>\n",
       "      <td>1</td>\n",
       "      <td>1</td>\n",
       "      <td>2</td>\n",
       "      <td>8.5</td>\n",
       "      <td>9.5</td>\n",
       "      <td>0</td>\n",
       "      <td>0</td>\n",
       "    </tr>\n",
       "    <tr>\n",
       "      <th>22</th>\n",
       "      <td>34</td>\n",
       "      <td>Male</td>\n",
       "      <td>1</td>\n",
       "      <td>1</td>\n",
       "      <td>14</td>\n",
       "      <td>36.9</td>\n",
       "      <td>10.4</td>\n",
       "      <td>1</td>\n",
       "      <td>0</td>\n",
       "    </tr>\n",
       "    <tr>\n",
       "      <th>26</th>\n",
       "      <td>25</td>\n",
       "      <td>Male</td>\n",
       "      <td>1</td>\n",
       "      <td>1</td>\n",
       "      <td>7</td>\n",
       "      <td>13.6</td>\n",
       "      <td>10.7</td>\n",
       "      <td>0</td>\n",
       "      <td>0</td>\n",
       "    </tr>\n",
       "    <tr>\n",
       "      <th>27</th>\n",
       "      <td>28</td>\n",
       "      <td>Male</td>\n",
       "      <td>1</td>\n",
       "      <td>1</td>\n",
       "      <td>5</td>\n",
       "      <td>14.8</td>\n",
       "      <td>10.8</td>\n",
       "      <td>1</td>\n",
       "      <td>0</td>\n",
       "    </tr>\n",
       "    <tr>\n",
       "      <th>...</th>\n",
       "      <td>...</td>\n",
       "      <td>...</td>\n",
       "      <td>...</td>\n",
       "      <td>...</td>\n",
       "      <td>...</td>\n",
       "      <td>...</td>\n",
       "      <td>...</td>\n",
       "      <td>...</td>\n",
       "      <td>...</td>\n",
       "    </tr>\n",
       "    <tr>\n",
       "      <th>403</th>\n",
       "      <td>22</td>\n",
       "      <td>Male</td>\n",
       "      <td>1</td>\n",
       "      <td>1</td>\n",
       "      <td>0</td>\n",
       "      <td>6.9</td>\n",
       "      <td>15.7</td>\n",
       "      <td>0</td>\n",
       "      <td>0</td>\n",
       "    </tr>\n",
       "    <tr>\n",
       "      <th>404</th>\n",
       "      <td>23</td>\n",
       "      <td>Male</td>\n",
       "      <td>1</td>\n",
       "      <td>1</td>\n",
       "      <td>2</td>\n",
       "      <td>8.9</td>\n",
       "      <td>15.8</td>\n",
       "      <td>0</td>\n",
       "      <td>0</td>\n",
       "    </tr>\n",
       "    <tr>\n",
       "      <th>410</th>\n",
       "      <td>32</td>\n",
       "      <td>Female</td>\n",
       "      <td>1</td>\n",
       "      <td>1</td>\n",
       "      <td>9</td>\n",
       "      <td>15.9</td>\n",
       "      <td>16.6</td>\n",
       "      <td>0</td>\n",
       "      <td>0</td>\n",
       "    </tr>\n",
       "    <tr>\n",
       "      <th>413</th>\n",
       "      <td>29</td>\n",
       "      <td>Male</td>\n",
       "      <td>1</td>\n",
       "      <td>1</td>\n",
       "      <td>8</td>\n",
       "      <td>13.9</td>\n",
       "      <td>17.1</td>\n",
       "      <td>0</td>\n",
       "      <td>0</td>\n",
       "    </tr>\n",
       "    <tr>\n",
       "      <th>416</th>\n",
       "      <td>26</td>\n",
       "      <td>Male</td>\n",
       "      <td>1</td>\n",
       "      <td>1</td>\n",
       "      <td>2</td>\n",
       "      <td>9.9</td>\n",
       "      <td>17.7</td>\n",
       "      <td>0</td>\n",
       "      <td>0</td>\n",
       "    </tr>\n",
       "  </tbody>\n",
       "</table>\n",
       "<p>87 rows × 9 columns</p>\n",
       "</div>"
      ],
      "text/plain": [
       "     Age  Gender  Engineer  MBA  Work Exp  Salary  Distance  license  \\\n",
       "6     23    Male         1    1         3    11.7       7.2        0   \n",
       "19    22  Female         1    1         2     8.5       9.5        0   \n",
       "22    34    Male         1    1        14    36.9      10.4        1   \n",
       "26    25    Male         1    1         7    13.6      10.7        0   \n",
       "27    28    Male         1    1         5    14.8      10.8        1   \n",
       "..   ...     ...       ...  ...       ...     ...       ...      ...   \n",
       "403   22    Male         1    1         0     6.9      15.7        0   \n",
       "404   23    Male         1    1         2     8.9      15.8        0   \n",
       "410   32  Female         1    1         9    15.9      16.6        0   \n",
       "413   29    Male         1    1         8    13.9      17.1        0   \n",
       "416   26    Male         1    1         2     9.9      17.7        0   \n",
       "\n",
       "     Opt_service  \n",
       "6              0  \n",
       "19             0  \n",
       "22             0  \n",
       "26             0  \n",
       "27             0  \n",
       "..           ...  \n",
       "403            0  \n",
       "404            0  \n",
       "410            0  \n",
       "413            0  \n",
       "416            0  \n",
       "\n",
       "[87 rows x 9 columns]"
      ]
     },
     "execution_count": 13,
     "metadata": {},
     "output_type": "execute_result"
    }
   ],
   "source": [
    "## Who are Engineer and MBA  \n",
    "dt = data[(data['Engineer'] == 1) & (data['MBA'] == 1)]\n",
    "dt\n"
   ]
  },
  {
   "cell_type": "code",
   "execution_count": 14,
   "id": "078a0150-4834-4231-83bd-197e2f467a15",
   "metadata": {},
   "outputs": [
    {
     "data": {
      "text/plain": [
       "Age            9\n",
       "Gender         9\n",
       "Engineer       9\n",
       "MBA            9\n",
       "Work Exp       9\n",
       "Salary         9\n",
       "Distance       9\n",
       "license        9\n",
       "Opt_service    9\n",
       "dtype: int64"
      ]
     },
     "execution_count": 14,
     "metadata": {},
     "output_type": "execute_result"
    }
   ],
   "source": [
    "dt[dt['Opt_service'] ==1].count()"
   ]
  },
  {
   "cell_type": "code",
   "execution_count": 15,
   "id": "1d98b66b-68c3-40c6-b7f3-de9eed3646e6",
   "metadata": {},
   "outputs": [],
   "source": [
    "data['Gender'] = pd.Categorical(data['Gender'])\n",
    "    "
   ]
  },
  {
   "cell_type": "code",
   "execution_count": 16,
   "id": "dfe848cc-4105-4e90-aa79-40f86805e460",
   "metadata": {},
   "outputs": [],
   "source": [
    "replaceStruct = {    \n",
    "    \"Gender\":     {\"Male\":1,\"Female\" : 0}\n",
    "}\n"
   ]
  },
  {
   "cell_type": "code",
   "execution_count": 17,
   "id": "15109a95-cd25-430d-a334-45ca623b5b9a",
   "metadata": {},
   "outputs": [
    {
     "data": {
      "text/html": [
       "<div>\n",
       "<style scoped>\n",
       "    .dataframe tbody tr th:only-of-type {\n",
       "        vertical-align: middle;\n",
       "    }\n",
       "\n",
       "    .dataframe tbody tr th {\n",
       "        vertical-align: top;\n",
       "    }\n",
       "\n",
       "    .dataframe thead th {\n",
       "        text-align: right;\n",
       "    }\n",
       "</style>\n",
       "<table border=\"1\" class=\"dataframe\">\n",
       "  <thead>\n",
       "    <tr style=\"text-align: right;\">\n",
       "      <th></th>\n",
       "      <th>Age</th>\n",
       "      <th>Gender</th>\n",
       "      <th>Engineer</th>\n",
       "      <th>MBA</th>\n",
       "      <th>Work Exp</th>\n",
       "      <th>Salary</th>\n",
       "      <th>Distance</th>\n",
       "      <th>license</th>\n",
       "      <th>Opt_service</th>\n",
       "    </tr>\n",
       "  </thead>\n",
       "  <tbody>\n",
       "    <tr>\n",
       "      <th>0</th>\n",
       "      <td>28</td>\n",
       "      <td>1</td>\n",
       "      <td>1</td>\n",
       "      <td>0</td>\n",
       "      <td>5</td>\n",
       "      <td>14.4</td>\n",
       "      <td>5.1</td>\n",
       "      <td>0</td>\n",
       "      <td>0</td>\n",
       "    </tr>\n",
       "    <tr>\n",
       "      <th>1</th>\n",
       "      <td>24</td>\n",
       "      <td>1</td>\n",
       "      <td>1</td>\n",
       "      <td>0</td>\n",
       "      <td>6</td>\n",
       "      <td>10.6</td>\n",
       "      <td>6.1</td>\n",
       "      <td>0</td>\n",
       "      <td>0</td>\n",
       "    </tr>\n",
       "    <tr>\n",
       "      <th>2</th>\n",
       "      <td>27</td>\n",
       "      <td>0</td>\n",
       "      <td>1</td>\n",
       "      <td>0</td>\n",
       "      <td>9</td>\n",
       "      <td>15.5</td>\n",
       "      <td>6.1</td>\n",
       "      <td>0</td>\n",
       "      <td>0</td>\n",
       "    </tr>\n",
       "    <tr>\n",
       "      <th>3</th>\n",
       "      <td>25</td>\n",
       "      <td>1</td>\n",
       "      <td>0</td>\n",
       "      <td>0</td>\n",
       "      <td>1</td>\n",
       "      <td>7.6</td>\n",
       "      <td>6.3</td>\n",
       "      <td>0</td>\n",
       "      <td>0</td>\n",
       "    </tr>\n",
       "    <tr>\n",
       "      <th>4</th>\n",
       "      <td>25</td>\n",
       "      <td>0</td>\n",
       "      <td>0</td>\n",
       "      <td>0</td>\n",
       "      <td>3</td>\n",
       "      <td>9.6</td>\n",
       "      <td>6.7</td>\n",
       "      <td>0</td>\n",
       "      <td>0</td>\n",
       "    </tr>\n",
       "    <tr>\n",
       "      <th>5</th>\n",
       "      <td>21</td>\n",
       "      <td>1</td>\n",
       "      <td>0</td>\n",
       "      <td>0</td>\n",
       "      <td>3</td>\n",
       "      <td>9.5</td>\n",
       "      <td>7.1</td>\n",
       "      <td>0</td>\n",
       "      <td>0</td>\n",
       "    </tr>\n",
       "    <tr>\n",
       "      <th>6</th>\n",
       "      <td>23</td>\n",
       "      <td>1</td>\n",
       "      <td>1</td>\n",
       "      <td>1</td>\n",
       "      <td>3</td>\n",
       "      <td>11.7</td>\n",
       "      <td>7.2</td>\n",
       "      <td>0</td>\n",
       "      <td>0</td>\n",
       "    </tr>\n",
       "    <tr>\n",
       "      <th>7</th>\n",
       "      <td>23</td>\n",
       "      <td>1</td>\n",
       "      <td>0</td>\n",
       "      <td>0</td>\n",
       "      <td>0</td>\n",
       "      <td>6.5</td>\n",
       "      <td>7.3</td>\n",
       "      <td>0</td>\n",
       "      <td>0</td>\n",
       "    </tr>\n",
       "    <tr>\n",
       "      <th>8</th>\n",
       "      <td>24</td>\n",
       "      <td>1</td>\n",
       "      <td>1</td>\n",
       "      <td>0</td>\n",
       "      <td>4</td>\n",
       "      <td>8.5</td>\n",
       "      <td>7.5</td>\n",
       "      <td>0</td>\n",
       "      <td>0</td>\n",
       "    </tr>\n",
       "    <tr>\n",
       "      <th>9</th>\n",
       "      <td>28</td>\n",
       "      <td>1</td>\n",
       "      <td>1</td>\n",
       "      <td>0</td>\n",
       "      <td>6</td>\n",
       "      <td>13.7</td>\n",
       "      <td>7.5</td>\n",
       "      <td>1</td>\n",
       "      <td>0</td>\n",
       "    </tr>\n",
       "  </tbody>\n",
       "</table>\n",
       "</div>"
      ],
      "text/plain": [
       "   Age  Gender  Engineer  MBA  Work Exp  Salary  Distance  license  \\\n",
       "0   28       1         1    0         5    14.4       5.1        0   \n",
       "1   24       1         1    0         6    10.6       6.1        0   \n",
       "2   27       0         1    0         9    15.5       6.1        0   \n",
       "3   25       1         0    0         1     7.6       6.3        0   \n",
       "4   25       0         0    0         3     9.6       6.7        0   \n",
       "5   21       1         0    0         3     9.5       7.1        0   \n",
       "6   23       1         1    1         3    11.7       7.2        0   \n",
       "7   23       1         0    0         0     6.5       7.3        0   \n",
       "8   24       1         1    0         4     8.5       7.5        0   \n",
       "9   28       1         1    0         6    13.7       7.5        1   \n",
       "\n",
       "   Opt_service  \n",
       "0            0  \n",
       "1            0  \n",
       "2            0  \n",
       "3            0  \n",
       "4            0  \n",
       "5            0  \n",
       "6            0  \n",
       "7            0  \n",
       "8            0  \n",
       "9            0  "
      ]
     },
     "execution_count": 17,
     "metadata": {},
     "output_type": "execute_result"
    }
   ],
   "source": [
    "data=data.replace(replaceStruct)\n",
    "data=pd.get_dummies(data)\n",
    "data.head(10)\n"
   ]
  },
  {
   "cell_type": "code",
   "execution_count": 18,
   "id": "379ee490-18fc-4617-ab7b-0a479735397d",
   "metadata": {},
   "outputs": [],
   "source": [
    "X = data.drop(\"Opt_service\" , axis=1)\n",
    "y = data.pop(\"Opt_service\")"
   ]
  },
  {
   "cell_type": "code",
   "execution_count": 19,
   "id": "41828458-269a-48e8-9170-9b8cf5828206",
   "metadata": {},
   "outputs": [],
   "source": [
    "X_train, X_test, y_train, y_test = train_test_split(X, y, test_size=.30, random_state=1,stratify=y)"
   ]
  },
  {
   "cell_type": "code",
   "execution_count": 20,
   "id": "0d36a024-b740-4d25-ac2e-169f5f8006d2",
   "metadata": {},
   "outputs": [
    {
     "data": {
      "text/plain": [
       "0    115\n",
       "1     11\n",
       "Name: Opt_service, dtype: int64"
      ]
     },
     "execution_count": 20,
     "metadata": {},
     "output_type": "execute_result"
    }
   ],
   "source": [
    "y_test.value_counts()"
   ]
  },
  {
   "cell_type": "code",
   "execution_count": 21,
   "id": "09329b9d-5cf2-4317-b7f1-39effd299cfb",
   "metadata": {},
   "outputs": [],
   "source": [
    "## Function to create confusion matrix\n",
    "def make_confusion_matrix(model,y_actual,labels=[1, 0]):\n",
    "    '''\n",
    "    model : classifier to predict values of X\n",
    "    y_actual : ground truth  \n",
    "    \n",
    "    '''\n",
    "    y_predict = model.predict(X_train)\n",
    "    cm=metrics.confusion_matrix( y_actual, y_predict, labels=[0, 1])\n",
    "    df_cm = pd.DataFrame(cm, index = [i for i in [\"Actual - No\",\"Actual - Yes\"]],\n",
    "                  columns = [i for i in ['Predicted - No','Predicted - Yes']])\n",
    "    group_counts = [\"{0:0.0f}\".format(value) for value in\n",
    "                cm.flatten()]\n",
    "    group_percentages = [\"{0:.2%}\".format(value) for value in\n",
    "                         cm.flatten()/np.sum(cm)]\n",
    "    labels = [f\"{v1}\\n{v2}\" for v1, v2 in\n",
    "              zip(group_counts,group_percentages)]\n",
    "    labels = np.asarray(labels).reshape(2,2)\n",
    "    plt.figure(figsize = (10,7))\n",
    "    sns.heatmap(df_cm, annot=labels,fmt='')\n",
    "    plt.ylabel('True label')\n",
    "    plt.xlabel('Predicted label')"
   ]
  },
  {
   "cell_type": "code",
   "execution_count": 22,
   "id": "84c8c005-e8a1-4c53-9413-31388a1fe642",
   "metadata": {},
   "outputs": [],
   "source": [
    "##  Function to calculate different metric scores of the model - Accuracy, Recall and Precision\n",
    "def get_metrics_score(model,flag=True):\n",
    "    '''\n",
    "    model : classifier to predict values of X\n",
    "\n",
    "    '''\n",
    "    # defining an empty list to store train and test results\n",
    "    score_list=[] \n",
    "    \n",
    "    pred_train = model.predict(X_train)\n",
    "    pred_test = model.predict(X_test)\n",
    "    \n",
    "    train_acc = model.score(X_train,y_train)\n",
    "    test_acc = model.score(X_test,y_test)\n",
    "    \n",
    "    train_recall = metrics.recall_score(y_train,pred_train)\n",
    "    test_recall = metrics.recall_score(y_test,pred_test)\n",
    "    \n",
    "    train_precision = metrics.precision_score(y_train,pred_train)\n",
    "    test_precision = metrics.precision_score(y_test,pred_test)\n",
    "    \n",
    "    F1_score_train = f1_score(y_train,pred_train)\n",
    "    \n",
    "    F1_score_test = f1_score(y_test,pred_test)\n",
    "    \n",
    "    \n",
    "    score_list.extend((train_acc,test_acc,train_recall,test_recall,train_precision,test_precision))\n",
    "        \n",
    "    # If the flag is set to True then only the following print statements will be dispayed. The default value is set to True.\n",
    "    if flag == True: \n",
    "        print(\"Accuracy on training set : \",model.score(X_train,y_train))\n",
    "        print(\"Accuracy on test set : \",model.score(X_test,y_test))\n",
    "        print(\"Recall on training set : \",metrics.recall_score(y_train,pred_train))\n",
    "        print(\"Recall on test set : \",metrics.recall_score(y_test,pred_test))\n",
    "        print(\"Precision on training set : \",metrics.precision_score(y_train,pred_train))\n",
    "        print(\"Precision on test set : \",metrics.precision_score(y_test,pred_test))\n",
    "        \n",
    "        print(\"F1 Score on train set : \", F1_score_train)\n",
    "        print(\"F1 Score on test set : \", F1_score_test)\n",
    "        \n",
    "    \n",
    "    return score_list # returning the list with train and test scores"
   ]
  },
  {
   "cell_type": "code",
   "execution_count": 23,
   "id": "c7e6c68b-0d08-4246-a74c-4acb0ef2fae3",
   "metadata": {},
   "outputs": [
    {
     "data": {
      "text/plain": [
       "BaggingClassifier(random_state=1)"
      ]
     },
     "execution_count": 23,
     "metadata": {},
     "output_type": "execute_result"
    }
   ],
   "source": [
    "#base_estimator for bagging classifier is a decision tree by default\n",
    "bagging_estimator=BaggingClassifier(random_state=1)\n",
    "bagging_estimator.fit(X_train,y_train)"
   ]
  },
  {
   "cell_type": "code",
   "execution_count": 24,
   "id": "c71cf003-ba04-4831-b533-5a631d6014fd",
   "metadata": {},
   "outputs": [
    {
     "name": "stdout",
     "output_type": "stream",
     "text": [
      "Accuracy on training set :  0.9965753424657534\n",
      "Accuracy on test set :  0.9444444444444444\n",
      "Recall on training set :  1.0\n",
      "Recall on test set :  0.9090909090909091\n",
      "Precision on training set :  0.96\n",
      "Precision on test set :  0.625\n",
      "F1 Score on train set :  0.9795918367346939\n",
      "F1 Score on test set :  0.7407407407407406\n"
     ]
    }
   ],
   "source": [
    "#Using above defined function to get accuracy, recall and precision on train and test set\n",
    "bagging_estimator_score=get_metrics_score(bagging_estimator)"
   ]
  },
  {
   "cell_type": "code",
   "execution_count": 25,
   "id": "2e4ead82-3d90-4ce4-8243-6a3608811394",
   "metadata": {},
   "outputs": [
    {
     "data": {
      "image/png": "[encoded data removed]",
      "text/plain": [
       "<Figure size 720x504 with 2 Axes>"
      ]
     },
     "metadata": {
      "needs_background": "light"
     },
     "output_type": "display_data"
    }
   ],
   "source": [
    "make_confusion_matrix(bagging_estimator,y_train)"
   ]
  },
  {
   "cell_type": "code",
   "execution_count": 26,
   "id": "72589e38-b617-41ec-b883-235bae9c2b26",
   "metadata": {},
   "outputs": [
    {
     "data": {
      "image/png": "[encoded data removed]",
      "text/plain": [
       "<Figure size 432x288 with 2 Axes>"
      ]
     },
     "metadata": {
      "needs_background": "light"
     },
     "output_type": "display_data"
    }
   ],
   "source": [
    "bag = BaggingClassifier(random_state=1)\n",
    "bag.fit(X_train, y_train)\n",
    "\n",
    "# predicting on training set\n",
    "y_train_pred = bag.predict(X_test)\n",
    "# creating the confusion matrix\n",
    "sns.heatmap(confusion_matrix(y_test,y_train_pred),annot=True,fmt='.1f')\n",
    "plt.xlabel('Predicted values')\n",
    "plt.ylabel('Actual values')\n",
    "plt.show()"
   ]
  },
  {
   "cell_type": "code",
   "execution_count": 27,
   "id": "4a1a29db-516e-4d00-8f8f-da34f688843c",
   "metadata": {},
   "outputs": [],
   "source": [
    "scores = []\n",
    "for i in range(1,6):\n",
    " bag = BaggingClassifier(base_estimator=DecisionTreeClassifier(random_state=1,max_depth = i),random_state=1)\n",
    " bag.fit(X_train, y_train)\n",
    " pred = bag.predict(X_train)\n",
    " case = {'Depth':i,'F1 Score':f1_score(y_train,pred)}\n",
    " scores.append(case)"
   ]
  },
  {
   "cell_type": "code",
   "execution_count": 28,
   "id": "2c53147b-7c1f-4f55-ab88-3c9123a98fcc",
   "metadata": {},
   "outputs": [
    {
     "name": "stdout",
     "output_type": "stream",
     "text": [
      "[{'Depth': 1, 'F1 Score': 0.9583333333333334}, {'Depth': 2, 'F1 Score': 0.9583333333333334}, {'Depth': 3, 'F1 Score': 0.9795918367346939}, {'Depth': 4, 'F1 Score': 0.9795918367346939}, {'Depth': 5, 'F1 Score': 0.9795918367346939}]\n"
     ]
    }
   ],
   "source": [
    "print(scores)"
   ]
  },
  {
   "cell_type": "code",
   "execution_count": 29,
   "id": "a1eb34b1-0509-45b1-97ab-964782582491",
   "metadata": {},
   "outputs": [
    {
     "data": {
      "image/png": "[encoded data removed]",
      "text/plain": [
       "<Figure size 432x288 with 2 Axes>"
      ]
     },
     "metadata": {
      "needs_background": "light"
     },
     "output_type": "display_data"
    }
   ],
   "source": [
    "bag = BaggingClassifier(random_state=1)\n",
    "bag.fit(X_train, y_train)\n",
    "\n",
    "# predicting on training set\n",
    "y_train_pred = bag.predict(X_train)\n",
    "# creating the confusion matrix\n",
    "sns.heatmap(confusion_matrix(y_train,y_train_pred),annot=True,fmt='.1f')\n",
    "plt.xlabel('Predicted values')\n",
    "plt.ylabel('Actual values')\n",
    "plt.show()"
   ]
  },
  {
   "cell_type": "code",
   "execution_count": 30,
   "id": "a5bb2af6-e354-46a8-aa82-bf4ed3091f3b",
   "metadata": {},
   "outputs": [
    {
     "data": {
      "text/plain": [
       "RandomForestClassifier(random_state=1)"
      ]
     },
     "execution_count": 30,
     "metadata": {},
     "output_type": "execute_result"
    }
   ],
   "source": [
    "#Train the random forest classifier\n",
    "rf_estimator=RandomForestClassifier(random_state=1)\n",
    "rf_estimator.fit(X_train,y_train)"
   ]
  },
  {
   "cell_type": "code",
   "execution_count": 31,
   "id": "4fae7850-cfe4-45f0-850f-f59903ac3516",
   "metadata": {},
   "outputs": [
    {
     "name": "stdout",
     "output_type": "stream",
     "text": [
      "Accuracy on training set :  1.0\n",
      "Accuracy on test set :  0.9444444444444444\n",
      "Recall on training set :  1.0\n",
      "Recall on test set :  0.8181818181818182\n",
      "Precision on training set :  1.0\n",
      "Precision on test set :  0.6428571428571429\n",
      "F1 Score on train set :  1.0\n",
      "F1 Score on test set :  0.7200000000000001\n"
     ]
    }
   ],
   "source": [
    "#Using above defined function to get accuracy, recall and precision on train and test set\n",
    "rf_estimator_score=get_metrics_score(rf_estimator)"
   ]
  },
  {
   "cell_type": "code",
   "execution_count": 34,
   "id": "dd93c95c-9180-4797-822e-949260dd8f8e",
   "metadata": {},
   "outputs": [
    {
     "data": {
      "text/plain": [
       "AdaBoostClassifier(random_state=1)"
      ]
     },
     "execution_count": 34,
     "metadata": {},
     "output_type": "execute_result"
    }
   ],
   "source": [
    "abc = AdaBoostClassifier(random_state=1)\n",
    "abc.fit(X_train,y_train)"
   ]
  },
  {
   "cell_type": "code",
   "execution_count": 35,
   "id": "87681115-064e-4558-84d5-c02cb65681fc",
   "metadata": {},
   "outputs": [
    {
     "name": "stdout",
     "output_type": "stream",
     "text": [
      "Accuracy on training set :  1.0\n",
      "Accuracy on test set :  0.9682539682539683\n",
      "Recall on training set :  1.0\n",
      "Recall on test set :  0.7272727272727273\n",
      "Precision on training set :  1.0\n",
      "Precision on test set :  0.8888888888888888\n",
      "F1 Score on train set :  1.0\n",
      "F1 Score on test set :  0.7999999999999999\n"
     ]
    }
   ],
   "source": [
    "abc_score=get_metrics_score(abc)"
   ]
  },
  {
   "cell_type": "code",
   "execution_count": 38,
   "id": "4980b4ce-cabb-4913-89e1-d464cf9a0c57",
   "metadata": {},
   "outputs": [
    {
     "data": {
      "text/plain": [
       "GradientBoostingClassifier(random_state=1)"
      ]
     },
     "execution_count": 38,
     "metadata": {},
     "output_type": "execute_result"
    }
   ],
   "source": [
    "gbc = GradientBoostingClassifier(random_state=1)\n",
    "gbc.fit(X_train,y_train)"
   ]
  },
  {
   "cell_type": "code",
   "execution_count": 39,
   "id": "3da35305-44ee-415b-afef-ea77ececa93a",
   "metadata": {},
   "outputs": [
    {
     "name": "stdout",
     "output_type": "stream",
     "text": [
      "Accuracy on training set :  1.0\n",
      "Accuracy on test set :  0.9603174603174603\n",
      "Recall on training set :  1.0\n",
      "Recall on test set :  0.9090909090909091\n",
      "Precision on training set :  1.0\n",
      "Precision on test set :  0.7142857142857143\n",
      "F1 Score on train set :  1.0\n",
      "F1 Score on test set :  0.8\n"
     ]
    }
   ],
   "source": [
    "gbc_score=get_metrics_score(gbc)"
   ]
  },
  {
   "cell_type": "code",
   "execution_count": 40,
   "id": "93c9fb03-f0be-49b2-b056-38d978cd28fd",
   "metadata": {},
   "outputs": [
    {
     "data": {
      "image/png": "[encoded data removed]",
      "text/plain": [
       "<Figure size 864x864 with 1 Axes>"
      ]
     },
     "metadata": {
      "needs_background": "light"
     },
     "output_type": "display_data"
    }
   ],
   "source": [
    "importances = gbc.feature_importances_\n",
    "indices = np.argsort(importances)\n",
    "feature_names = list(X.columns)\n",
    "\n",
    "plt.figure(figsize=(12,12))\n",
    "plt.title('Feature Importances')\n",
    "plt.barh(range(len(indices)), importances[indices], color='violet', align='center')\n",
    "plt.yticks(range(len(indices)), [feature_names[i] for i in indices])\n",
    "plt.xlabel('Relative Importance')\n",
    "plt.show()\n"
   ]
  },
  {
   "cell_type": "code",
   "execution_count": 41,
   "id": "81f69d47-29aa-4691-896a-c90b5168520a",
   "metadata": {},
   "outputs": [
    {
     "name": "stdout",
     "output_type": "stream",
     "text": [
      "Accuracy on training set :  0.9178082191780822\n",
      "Accuracy on test set :  0.9126984126984127\n",
      "Recall on training set :  0.0\n",
      "Recall on test set :  0.0\n",
      "Precision on training set :  0.0\n",
      "Precision on test set :  0.0\n",
      "F1 Score on train set :  0.0\n",
      "F1 Score on test set :  0.0\n"
     ]
    }
   ],
   "source": [
    "gbc1 = GradientBoostingClassifier(random_state=1, n_estimators = 50, learning_rate = 0.01)\n",
    "gbc1.fit(X_train,y_train)\n",
    "gbc_score=get_metrics_score(gbc1)\n"
   ]
  },
  {
   "cell_type": "code",
   "execution_count": 42,
   "id": "9ea8efd6-56f0-4922-a895-1ad8169fc46b",
   "metadata": {},
   "outputs": [
    {
     "name": "stdout",
     "output_type": "stream",
     "text": [
      "Accuracy on training set :  1.0\n",
      "Accuracy on test set :  0.9523809523809523\n",
      "Recall on training set :  1.0\n",
      "Recall on test set :  0.8181818181818182\n",
      "Precision on training set :  1.0\n",
      "Precision on test set :  0.6923076923076923\n",
      "F1 Score on train set :  1.0\n",
      "F1 Score on test set :  0.7500000000000001\n"
     ]
    }
   ],
   "source": [
    "gbc2 = GradientBoostingClassifier(random_state=1, n_estimators = 100, learning_rate = 0.01)\n",
    "gbc2.fit(X_train,y_train)\n",
    "gbc_score=get_metrics_score(gbc2)"
   ]
  },
  {
   "cell_type": "code",
   "execution_count": 43,
   "id": "5b380c6e-c4ac-4124-b1c3-8592bcf1191f",
   "metadata": {},
   "outputs": [
    {
     "name": "stdout",
     "output_type": "stream",
     "text": [
      "Accuracy on training set :  1.0\n",
      "Accuracy on test set :  0.9603174603174603\n",
      "Recall on training set :  1.0\n",
      "Recall on test set :  0.9090909090909091\n",
      "Precision on training set :  1.0\n",
      "Precision on test set :  0.7142857142857143\n",
      "F1 Score on train set :  1.0\n",
      "F1 Score on test set :  0.8\n"
     ]
    }
   ],
   "source": [
    "gbc3 = GradientBoostingClassifier(random_state=1, n_estimators = 400, learning_rate = 0.01)\n",
    "gbc3.fit(X_train,y_train)\n",
    "gbc_score=get_metrics_score(gbc3)"
   ]
  },
  {
   "cell_type": "code",
   "execution_count": 44,
   "id": "15b31331-b8a6-4976-90c6-be81827e4d52",
   "metadata": {},
   "outputs": [],
   "source": [
    "def model_performance_classification_sklearn(model, predictors, target):\n",
    "    \"\"\"\n",
    "    Function to compute different metrics to check classification model performance\n",
    "\n",
    "    model: classifier\n",
    "    predictors: independent variables\n",
    "    target: dependent variable\n",
    "    \"\"\"\n",
    "\n",
    "    # predicting using the independent variables\n",
    "    pred = model.predict(predictors)\n",
    "\n",
    "    acc = accuracy_score(target, pred)  # to compute Accuracy\n",
    "    recall = recall_score(target, pred)  # to compute Recall\n",
    "    precision = precision_score(target, pred)  # to compute Precision\n",
    "    f1 = f1_score(target, pred)  # to compute F1-score\n",
    "\n",
    "    # creating a dataframe of metrics\n",
    "    df_perf = pd.DataFrame(\n",
    "        {\n",
    "            \"Accuracy\": acc,\n",
    "            \"Recall\": recall,\n",
    "            \"Precision\": precision,\n",
    "            \"F1\": f1,\n",
    "        },\n",
    "        index=[0],\n",
    "    )\n",
    "\n",
    "    return df_perf"
   ]
  },
  {
   "cell_type": "code",
   "execution_count": 45,
   "id": "5b5f26c7-b632-499b-a396-4ae2371ac8b0",
   "metadata": {},
   "outputs": [],
   "source": [
    "def confusion_matrix_sklearn(model, predictors, target):\n",
    "    \"\"\"\n",
    "    To plot the confusion_matrix with percentages\n",
    "\n",
    "    model: classifier\n",
    "    predictors: independent variables\n",
    "    target: dependent variable\n",
    "    \"\"\"\n",
    "    y_pred = model.predict(predictors)\n",
    "    cm = confusion_matrix(target, y_pred)\n",
    "    labels = np.asarray(\n",
    "        [\n",
    "            [\"{0:0.0f}\".format(item) + \"\\n{0:.2%}\".format(item / cm.flatten().sum())]\n",
    "            for item in cm.flatten()\n",
    "        ]\n",
    "    ).reshape(2, 2)\n",
    "\n",
    "    plt.figure(figsize=(6, 4))\n",
    "    sns.heatmap(cm, annot=labels, fmt=\"\")\n",
    "    plt.ylabel(\"True label\")\n",
    "    plt.xlabel(\"Predicted label\")"
   ]
  },
  {
   "cell_type": "code",
   "execution_count": 46,
   "id": "82fa0878-2b7c-4870-b34a-5e9c42f3378a",
   "metadata": {},
   "outputs": [
    {
     "name": "stdout",
     "output_type": "stream",
     "text": [
      "Training performance:\n",
      "    Accuracy  Recall  Precision   F1\n",
      "0       1.0     1.0        1.0  1.0\n",
      "Testing performance:\n",
      "    Accuracy    Recall  Precision   F1\n",
      "0  0.960317  0.909091   0.714286  0.8\n"
     ]
    },
    {
     "data": {
      "image/png": "[encoded data removed]",
      "text/plain": [
       "<Figure size 432x288 with 2 Axes>"
      ]
     },
     "metadata": {
      "needs_background": "light"
     },
     "output_type": "display_data"
    }
   ],
   "source": [
    "#Fitting the model\n",
    "d_tree = DecisionTreeClassifier(random_state=1)\n",
    "d_tree.fit(X_train,y_train)\n",
    "\n",
    "#Calculating different metrics\n",
    "d_tree_model_train_perf=model_performance_classification_sklearn(d_tree,X_train,y_train)\n",
    "print(\"Training performance:\\n\",d_tree_model_train_perf)\n",
    "d_tree_model_test_perf=model_performance_classification_sklearn(d_tree,X_test,y_test)\n",
    "print(\"Testing performance:\\n\",d_tree_model_test_perf)\n",
    "\n",
    "#Creating confusion matrix\n",
    "confusion_matrix_sklearn(d_tree,X_test,y_test)"
   ]
  },
  {
   "cell_type": "code",
   "execution_count": 47,
   "id": "9b65a24a-6279-4486-aa18-00279b158e18",
   "metadata": {},
   "outputs": [
    {
     "data": {
      "text/plain": [
       "StackingClassifier(estimators=[('DT', DecisionTreeClassifier(random_state=1)),\n",
       "                               ('BAG', BaggingClassifier(random_state=1))],\n",
       "                   final_estimator=RandomForestClassifier(random_state=1))"
      ]
     },
     "execution_count": 47,
     "metadata": {},
     "output_type": "execute_result"
    }
   ],
   "source": [
    "# creating list of estimators\n",
    "estimators = [('DT',DecisionTreeClassifier(random_state=1)), ('BAG',BaggingClassifier(random_state=1))]\n",
    "# Training stacking classifier\n",
    "clf = StackingClassifier(estimators = estimators, final_estimator = RandomForestClassifier(random_state=1))\n",
    "clf.fit(X_train, y_train)"
   ]
  },
  {
   "cell_type": "code",
   "execution_count": 48,
   "id": "992f5c02-0dad-46a4-a571-6d1ae2eb3aac",
   "metadata": {},
   "outputs": [
    {
     "name": "stdout",
     "output_type": "stream",
     "text": [
      "F1 score\n",
      "Recall score\n"
     ]
    },
    {
     "data": {
      "text/plain": [
       "1.0"
      ]
     },
     "execution_count": 48,
     "metadata": {},
     "output_type": "execute_result"
    }
   ],
   "source": [
    "# Predicting on training set\n",
    "y_pred = clf.predict(X_train)\n",
    "# Checking model performance\n",
    "print('F1 score')\n",
    "f1_score(y_train,y_pred)\n",
    "print('Recall score')\n",
    "recall_score(y_train,y_pred)"
   ]
  },
  {
   "cell_type": "code",
   "execution_count": 49,
   "id": "5eaf0fc5-a91b-4cba-9514-6a9b27298b25",
   "metadata": {},
   "outputs": [
    {
     "name": "stdout",
     "output_type": "stream",
     "text": [
      "F1 score\n",
      "Recall score\n"
     ]
    },
    {
     "data": {
      "text/plain": [
       "1.0"
      ]
     },
     "execution_count": 49,
     "metadata": {},
     "output_type": "execute_result"
    }
   ],
   "source": [
    "y_pred = clf.predict(X_train)\n",
    "# Checking model performance\n",
    "print('F1 score')\n",
    "f1_score(y_train,y_pred)\n",
    "print('Recall score')\n",
    "recall_score(y_train,y_pred)"
   ]
  },
  {
   "cell_type": "code",
   "execution_count": 50,
   "id": "2cbbeae0-5fa4-43b8-b20d-08c08e71c992",
   "metadata": {},
   "outputs": [
    {
     "name": "stdout",
     "output_type": "stream",
     "text": [
      "F1 Score\n",
      "0.7407407407407406\n",
      "Recall Score\n"
     ]
    },
    {
     "data": {
      "text/plain": [
       "0.9090909090909091"
      ]
     },
     "execution_count": 50,
     "metadata": {},
     "output_type": "execute_result"
    }
   ],
   "source": [
    "# Predicting on test set\n",
    "y_pred = clf.predict(X_test)\n",
    "# Checking model performance\n",
    "print('F1 Score')\n",
    "print(f1_score(y_test,y_pred))\n",
    "print('Recall Score')\n",
    "recall_score(y_test,y_pred)"
   ]
  },
  {
   "cell_type": "code",
   "execution_count": 57,
   "id": "d7f7f072-0fbc-4b97-9792-f1846aeffc98",
   "metadata": {},
   "outputs": [],
   "source": [
    "scores = []\n",
    "for i in range(1,6):\n",
    " bag = BaggingClassifier(base_estimator=DecisionTreeClassifier(random_state=1,max_depth = i),random_state=1)\n",
    " bag.fit(X_train, y_train)\n",
    " pred = bag.predict(X_train)\n",
    " case = {'Depth':i,'F1 Score':f1_score(y_train,pred)}\n",
    " scores.append(case)\n"
   ]
  },
  {
   "cell_type": "code",
   "execution_count": 65,
   "id": "ea8580b6-5f2a-4c21-85a0-50bce68dbb75",
   "metadata": {},
   "outputs": [],
   "source": [
    "scores = []\n",
    "bag = BaggingClassifier(base_estimator=DecisionTreeClassifier(random_state=1,max_depth = 4),random_state=1)\n",
    "bag.fit(X_train, y_train)\n",
    "pred = bag.predict(X_train)\n",
    "case1 = {'Depth':i,'F1 Score':f1_score(y_train,pred)}\n",
    "scores.append(case1)\n"
   ]
  },
  {
   "cell_type": "code",
   "execution_count": 66,
   "id": "f0e18751-4629-4137-ad50-ead4b185b02d",
   "metadata": {},
   "outputs": [
    {
     "name": "stdout",
     "output_type": "stream",
     "text": [
      "[{'Depth': 5, 'F1 Score': 0.9795918367346939}]\n"
     ]
    }
   ],
   "source": [
    "print(scores)"
   ]
  },
  {
   "cell_type": "code",
   "execution_count": 67,
   "id": "8100723f-d916-4502-af55-17a9628eef5f",
   "metadata": {},
   "outputs": [],
   "source": [
    "scores = []\n",
    "bag = BaggingClassifier(base_estimator=DecisionTreeClassifier(random_state=1,max_depth = 5),random_state=1)\n",
    "bag.fit(X_train, y_train)\n",
    "pred = bag.predict(X_train)\n",
    "case2 = {'Depth':i,'F1 Score':f1_score(y_train,pred)}\n",
    "scores.append(case2)\n"
   ]
  },
  {
   "cell_type": "code",
   "execution_count": 68,
   "id": "b2846ab6-225b-4037-9c10-113e76ba50d5",
   "metadata": {},
   "outputs": [
    {
     "name": "stdout",
     "output_type": "stream",
     "text": [
      "[{'Depth': 5, 'F1 Score': 0.9795918367346939}]\n"
     ]
    }
   ],
   "source": [
    "print(scores)"
   ]
  },
  {
   "cell_type": "code",
   "execution_count": null,
   "id": "5582af1e-9e04-4fde-bf65-b45cf2d11e19",
   "metadata": {},
   "outputs": [],
   "source": []
  }
 ],
 "metadata": {
  "kernelspec": {
   "display_name": "Python 3",
   "language": "python",
   "name": "python3"
  },
  "language_info": {
   "codemirror_mode": {
    "name": "ipython",
    "version": 3
   },
   "file_extension": ".py",
   "mimetype": "text/x-python",
   "name": "python",
   "nbconvert_exporter": "python",
   "pygments_lexer": "ipython3",
   "version": "3.8.1"
  }
 },
 "nbformat": 4,
 "nbformat_minor": 5
}
