{
 "cells": [
  {
   "cell_type": "markdown",
   "id": "emerging-diagnosis",
   "metadata": {
    "id": "HXJ7MT8d9WJL"
   },
   "source": [
    "## Income Group Classification"
   ]
  },
  {
   "cell_type": "markdown",
   "id": "prostate-workplace",
   "metadata": {
    "id": "2pM66Y9j9WJQ"
   },
   "source": [
    "## Context \n",
    "DeltaSquare is an NGO that works with the Government on matters of social policy to bring about a change in the lives of underprivileged sections of society. They are given a task of coming up with a policy framework using a dataset that the Government received from WHO. You as a data scientist at DeltaSquare are tasked with solving this problem and sharing a proposal for the government. "
   ]
  },
  {
   "cell_type": "markdown",
   "id": "metallic-portugal",
   "metadata": {
    "id": "Z5BrK2Fo9WJS"
   },
   "source": [
    "### Objective\n",
    "\n",
    "1. What are the different factors that influence the income of an individual?\n",
    "\n",
    "2. To build a prediction model that can help the government formulate policies for the right pockets of the society."
   ]
  },
  {
   "cell_type": "markdown",
   "id": "noted-austria",
   "metadata": {
    "id": "WNvGGvrD9WJS"
   },
   "source": [
    "### Dataset\n",
    "\n",
    "The data contains characteristics of the people\n",
    "\n",
    "* age: continuous - age of a Person \n",
    "* workclass: Where does a person works - categorical -Private, Self-emp-not-inc, Self-emp-inc, Federal-gov, Local-gov, State-gov, Without-pay, Never-worked.\n",
    "* fnlwgt: continuous - Weight assigned by Current Population Survey (CPS) - People with similar demographic characteristics should have similar weights since it is a feature aimed to allocate similar weights to people with similar demographic characteristics.\n",
    "* education: Degree the person has - Bachelors, Some-college, 11th, HS-grad, Prof-school, Assoc-acdm, Assoc-voc, 9th, 7th-8th, 12th, Masters, 1st-4th, 10th, Doctorate, 5th-6th, Preschool.\n",
    "* education-num: no. of years a person studied - continuous.\n",
    "* marital-status: Married-civ-spouse, Divorced, Never-married, Separated, Widowed, Married-spouse-absent, Married-AF-spouse.\n",
    "* occupation: Tech-support, Craft-repair, Other-service, Sales, Exec-managerial, Prof-specialty, Handlers-cleaners, Machine-op-inspct, Adm-clerical, Farming-fishing, Transport-moving, Priv-house-serv, Protective-serv, Armed-Forces.\n",
    "* race: White, Asian-Pac-Islander, Amer-Indian-Eskimo, Other, Black.\n",
    "* sex: Female, Male.\n",
    "* capital-gain: Investment gain of the person other than salary - continuous\n",
    "* capital-loss: Loss from investments - continuous\n",
    "* hours-per-week: No. of hours a person works - continuous.\n",
    "* native-country: United-States, Cambodia, England, Puerto-Rico, Canada, Germany, Outlying-US(Guam-USVI-etc), India, Japan, Greece, South, China, Cuba, Iran, Honduras, Philippines, Italy, Poland, Jamaica, Vietnam, Mexico, Portugal, Ireland, France, Dominican-Republic, Laos, Ecuador, Taiwan, Haiti, Columbia, Hungary, Guatemala, Nicaragua, Scotland, Thailand, Yugoslavia, El-Salvador, Trinidad&Tobago, Peru, Hong, Holand-Netherlands.\n",
    "* salary: >50K, <=50K (dependent variable, the salary is in Dollars per year)"
   ]
  },
  {
   "cell_type": "markdown",
   "id": "crazy-operations",
   "metadata": {
    "id": "ZzsW_RNeuNEx"
   },
   "source": [
    "### Loading Libraries"
   ]
  },
  {
   "cell_type": "code",
   "execution_count": 1,
   "id": "handled-ordinance",
   "metadata": {},
   "outputs": [
    {
     "data": {
      "application/javascript": [
       "\n",
       "            setTimeout(function() {\n",
       "                var nbb_cell_id = 1;\n",
       "                var nbb_unformatted_code = \"# this will help in making the Python code more structured automatically (good coding practice)\\n%load_ext nb_black\\n\\nimport warnings\\n\\nwarnings.filterwarnings(\\\"ignore\\\")\\nfrom statsmodels.tools.sm_exceptions import ConvergenceWarning\\n\\nwarnings.simplefilter(\\\"ignore\\\", ConvergenceWarning)\\n\\n# Libraries to help with reading and manipulating data\\n\\nimport pandas as pd\\nimport numpy as np\\n\\n# Library to split data\\nfrom sklearn.model_selection import train_test_split\\n\\n# libaries to help with data visualization\\nimport matplotlib.pyplot as plt\\nimport seaborn as sns\\n\\n# Removes the limit for the number of displayed columns\\npd.set_option(\\\"display.max_columns\\\", None)\\n# Sets the limit for the number of displayed rows\\npd.set_option(\\\"display.max_rows\\\", 200)\\n\\n\\n# To build model for prediction\\nimport statsmodels.stats.api as sms\\nfrom statsmodels.stats.outliers_influence import variance_inflation_factor\\nimport statsmodels.api as sm\\nfrom statsmodels.tools.tools import add_constant\\nfrom sklearn.linear_model import LogisticRegression\\n\\n\\n# To get diferent metric scores\\nfrom sklearn.metrics import (\\n    f1_score,\\n    accuracy_score,\\n    recall_score,\\n    precision_score,\\n    confusion_matrix,\\n    roc_auc_score,\\n    plot_confusion_matrix,\\n    precision_recall_curve,\\n    roc_curve,\\n)\";\n",
       "                var nbb_formatted_code = \"# this will help in making the Python code more structured automatically (good coding practice)\\n%load_ext nb_black\\n\\nimport warnings\\n\\nwarnings.filterwarnings(\\\"ignore\\\")\\nfrom statsmodels.tools.sm_exceptions import ConvergenceWarning\\n\\nwarnings.simplefilter(\\\"ignore\\\", ConvergenceWarning)\\n\\n# Libraries to help with reading and manipulating data\\n\\nimport pandas as pd\\nimport numpy as np\\n\\n# Library to split data\\nfrom sklearn.model_selection import train_test_split\\n\\n# libaries to help with data visualization\\nimport matplotlib.pyplot as plt\\nimport seaborn as sns\\n\\n# Removes the limit for the number of displayed columns\\npd.set_option(\\\"display.max_columns\\\", None)\\n# Sets the limit for the number of displayed rows\\npd.set_option(\\\"display.max_rows\\\", 200)\\n\\n\\n# To build model for prediction\\nimport statsmodels.stats.api as sms\\nfrom statsmodels.stats.outliers_influence import variance_inflation_factor\\nimport statsmodels.api as sm\\nfrom statsmodels.tools.tools import add_constant\\nfrom sklearn.linear_model import LogisticRegression\\n\\n\\n# To get diferent metric scores\\nfrom sklearn.metrics import (\\n    f1_score,\\n    accuracy_score,\\n    recall_score,\\n    precision_score,\\n    confusion_matrix,\\n    roc_auc_score,\\n    plot_confusion_matrix,\\n    precision_recall_curve,\\n    roc_curve,\\n)\";\n",
       "                var nbb_cells = Jupyter.notebook.get_cells();\n",
       "                for (var i = 0; i < nbb_cells.length; ++i) {\n",
       "                    if (nbb_cells[i].input_prompt_number == nbb_cell_id) {\n",
       "                        if (nbb_cells[i].get_text() == nbb_unformatted_code) {\n",
       "                             nbb_cells[i].set_text(nbb_formatted_code);\n",
       "                        }\n",
       "                        break;\n",
       "                    }\n",
       "                }\n",
       "            }, 500);\n",
       "            "
      ],
      "text/plain": [
       "<IPython.core.display.Javascript object>"
      ]
     },
     "metadata": {},
     "output_type": "display_data"
    }
   ],
   "source": [
    "# this will help in making the Python code more structured automatically (good coding practice)\n",
    "%load_ext nb_black\n",
    "\n",
    "import warnings\n",
    "\n",
    "warnings.filterwarnings(\"ignore\")\n",
    "from statsmodels.tools.sm_exceptions import ConvergenceWarning\n",
    "\n",
    "warnings.simplefilter(\"ignore\", ConvergenceWarning)\n",
    "\n",
    "# Libraries to help with reading and manipulating data\n",
    "\n",
    "import pandas as pd\n",
    "import numpy as np\n",
    "\n",
    "# Library to split data\n",
    "from sklearn.model_selection import train_test_split\n",
    "\n",
    "# libaries to help with data visualization\n",
    "import matplotlib.pyplot as plt\n",
    "import seaborn as sns\n",
    "\n",
    "# Removes the limit for the number of displayed columns\n",
    "pd.set_option(\"display.max_columns\", None)\n",
    "# Sets the limit for the number of displayed rows\n",
    "pd.set_option(\"display.max_rows\", 200)\n",
    "\n",
    "\n",
    "# To build model for prediction\n",
    "import statsmodels.stats.api as sms\n",
    "from statsmodels.stats.outliers_influence import variance_inflation_factor\n",
    "import statsmodels.api as sm\n",
    "from statsmodels.tools.tools import add_constant\n",
    "from sklearn.linear_model import LogisticRegression\n",
    "\n",
    "\n",
    "# To get diferent metric scores\n",
    "from sklearn.metrics import (\n",
    "    f1_score,\n",
    "    accuracy_score,\n",
    "    recall_score,\n",
    "    precision_score,\n",
    "    confusion_matrix,\n",
    "    roc_auc_score,\n",
    "    plot_confusion_matrix,\n",
    "    precision_recall_curve,\n",
    "    roc_curve,\n",
    ")"
   ]
  },
  {
   "cell_type": "markdown",
   "id": "decreased-cambodia",
   "metadata": {},
   "source": [
    "### Note: The first section of the notebook is the section that has been covered multiple times in the previous case studies.  For this discussion this part can be skipped and we can directly refer to this **<a href = #link1>summary</a>** of data cleaning steps and observations from EDA."
   ]
  },
  {
   "cell_type": "markdown",
   "id": "renewable-instrumentation",
   "metadata": {
    "id": "sAccTEIqj9VV"
   },
   "source": [
    "### Load data"
   ]
  },
  {
   "cell_type": "code",
   "execution_count": 2,
   "id": "alpha-endorsement",
   "metadata": {
    "id": "STzpWgWu9WJZ"
   },
   "outputs": [
    {
     "data": {
      "application/javascript": [
       "\n",
       "            setTimeout(function() {\n",
       "                var nbb_cell_id = 2;\n",
       "                var nbb_unformatted_code = \"who = pd.read_csv(\\\"../../data/who_data.csv\\\")\";\n",
       "                var nbb_formatted_code = \"who = pd.read_csv(\\\"../../data/who_data.csv\\\")\";\n",
       "                var nbb_cells = Jupyter.notebook.get_cells();\n",
       "                for (var i = 0; i < nbb_cells.length; ++i) {\n",
       "                    if (nbb_cells[i].input_prompt_number == nbb_cell_id) {\n",
       "                        if (nbb_cells[i].get_text() == nbb_unformatted_code) {\n",
       "                             nbb_cells[i].set_text(nbb_formatted_code);\n",
       "                        }\n",
       "                        break;\n",
       "                    }\n",
       "                }\n",
       "            }, 500);\n",
       "            "
      ],
      "text/plain": [
       "<IPython.core.display.Javascript object>"
      ]
     },
     "metadata": {},
     "output_type": "display_data"
    }
   ],
   "source": [
    "who = pd.read_csv(\"../../data/who_data.csv\")"
   ]
  },
  {
   "cell_type": "code",
   "execution_count": 3,
   "id": "fifty-prime",
   "metadata": {},
   "outputs": [
    {
     "data": {
      "application/javascript": [
       "\n",
       "            setTimeout(function() {\n",
       "                var nbb_cell_id = 3;\n",
       "                var nbb_unformatted_code = \"# copying data to another variable to avoid any changes to original data\\ndata = who.copy()\";\n",
       "                var nbb_formatted_code = \"# copying data to another variable to avoid any changes to original data\\ndata = who.copy()\";\n",
       "                var nbb_cells = Jupyter.notebook.get_cells();\n",
       "                for (var i = 0; i < nbb_cells.length; ++i) {\n",
       "                    if (nbb_cells[i].input_prompt_number == nbb_cell_id) {\n",
       "                        if (nbb_cells[i].get_text() == nbb_unformatted_code) {\n",
       "                             nbb_cells[i].set_text(nbb_formatted_code);\n",
       "                        }\n",
       "                        break;\n",
       "                    }\n",
       "                }\n",
       "            }, 500);\n",
       "            "
      ],
      "text/plain": [
       "<IPython.core.display.Javascript object>"
      ]
     },
     "metadata": {},
     "output_type": "display_data"
    }
   ],
   "source": [
    "# copying data to another variable to avoid any changes to original data\n",
    "data = who.copy()"
   ]
  },
  {
   "cell_type": "markdown",
   "id": "egyptian-workstation",
   "metadata": {},
   "source": [
    "### View the first and last 5 rows of the dataset."
   ]
  },
  {
   "cell_type": "code",
   "execution_count": 4,
   "id": "interpreted-publisher",
   "metadata": {
    "colab": {
     "base_uri": "https://localhost:8080/",
     "height": 306
    },
    "id": "frKZJfik9WJc",
    "outputId": "80196792-f0f7-4482-d9be-ba731e441e23"
   },
   "outputs": [
    {
     "data": {
      "text/html": [
       "<div>\n",
       "<style scoped>\n",
       "    .dataframe tbody tr th:only-of-type {\n",
       "        vertical-align: middle;\n",
       "    }\n",
       "\n",
       "    .dataframe tbody tr th {\n",
       "        vertical-align: top;\n",
       "    }\n",
       "\n",
       "    .dataframe thead th {\n",
       "        text-align: right;\n",
       "    }\n",
       "</style>\n",
       "<table border=\"1\" class=\"dataframe\">\n",
       "  <thead>\n",
       "    <tr style=\"text-align: right;\">\n",
       "      <th></th>\n",
       "      <th>age</th>\n",
       "      <th>workclass</th>\n",
       "      <th>fnlwgt</th>\n",
       "      <th>education</th>\n",
       "      <th>education-no. of years</th>\n",
       "      <th>marital status</th>\n",
       "      <th>occupation</th>\n",
       "      <th>race</th>\n",
       "      <th>sex</th>\n",
       "      <th>capital gain</th>\n",
       "      <th>capital loss</th>\n",
       "      <th>working hours per week</th>\n",
       "      <th>native-country</th>\n",
       "      <th>salary</th>\n",
       "    </tr>\n",
       "  </thead>\n",
       "  <tbody>\n",
       "    <tr>\n",
       "      <th>0</th>\n",
       "      <td>39</td>\n",
       "      <td>State-gov</td>\n",
       "      <td>77516</td>\n",
       "      <td>Bachelors</td>\n",
       "      <td>13</td>\n",
       "      <td>Never-married</td>\n",
       "      <td>Adm-clerical</td>\n",
       "      <td>White</td>\n",
       "      <td>Male</td>\n",
       "      <td>2174</td>\n",
       "      <td>0</td>\n",
       "      <td>40</td>\n",
       "      <td>United-States</td>\n",
       "      <td>&lt;=50K</td>\n",
       "    </tr>\n",
       "    <tr>\n",
       "      <th>1</th>\n",
       "      <td>50</td>\n",
       "      <td>Self-emp-not-inc</td>\n",
       "      <td>83311</td>\n",
       "      <td>Bachelors</td>\n",
       "      <td>13</td>\n",
       "      <td>Married-civ-spouse</td>\n",
       "      <td>Exec-managerial</td>\n",
       "      <td>White</td>\n",
       "      <td>Male</td>\n",
       "      <td>0</td>\n",
       "      <td>0</td>\n",
       "      <td>13</td>\n",
       "      <td>United-States</td>\n",
       "      <td>&lt;=50K</td>\n",
       "    </tr>\n",
       "    <tr>\n",
       "      <th>2</th>\n",
       "      <td>38</td>\n",
       "      <td>Private</td>\n",
       "      <td>215646</td>\n",
       "      <td>HS-grad</td>\n",
       "      <td>9</td>\n",
       "      <td>Divorced</td>\n",
       "      <td>Handlers-cleaners</td>\n",
       "      <td>White</td>\n",
       "      <td>Male</td>\n",
       "      <td>0</td>\n",
       "      <td>0</td>\n",
       "      <td>40</td>\n",
       "      <td>United-States</td>\n",
       "      <td>&lt;=50K</td>\n",
       "    </tr>\n",
       "    <tr>\n",
       "      <th>3</th>\n",
       "      <td>53</td>\n",
       "      <td>Private</td>\n",
       "      <td>234721</td>\n",
       "      <td>11th</td>\n",
       "      <td>7</td>\n",
       "      <td>Married-civ-spouse</td>\n",
       "      <td>Handlers-cleaners</td>\n",
       "      <td>Black</td>\n",
       "      <td>Male</td>\n",
       "      <td>0</td>\n",
       "      <td>0</td>\n",
       "      <td>40</td>\n",
       "      <td>United-States</td>\n",
       "      <td>&lt;=50K</td>\n",
       "    </tr>\n",
       "    <tr>\n",
       "      <th>4</th>\n",
       "      <td>28</td>\n",
       "      <td>Private</td>\n",
       "      <td>338409</td>\n",
       "      <td>Bachelors</td>\n",
       "      <td>13</td>\n",
       "      <td>Married-civ-spouse</td>\n",
       "      <td>Prof-specialty</td>\n",
       "      <td>Black</td>\n",
       "      <td>Female</td>\n",
       "      <td>0</td>\n",
       "      <td>0</td>\n",
       "      <td>40</td>\n",
       "      <td>Cuba</td>\n",
       "      <td>&lt;=50K</td>\n",
       "    </tr>\n",
       "  </tbody>\n",
       "</table>\n",
       "</div>"
      ],
      "text/plain": [
       "   age          workclass  fnlwgt   education  education-no. of years  \\\n",
       "0   39          State-gov   77516   Bachelors                      13   \n",
       "1   50   Self-emp-not-inc   83311   Bachelors                      13   \n",
       "2   38            Private  215646     HS-grad                       9   \n",
       "3   53            Private  234721        11th                       7   \n",
       "4   28            Private  338409   Bachelors                      13   \n",
       "\n",
       "        marital status          occupation    race      sex  capital gain  \\\n",
       "0        Never-married        Adm-clerical   White     Male          2174   \n",
       "1   Married-civ-spouse     Exec-managerial   White     Male             0   \n",
       "2             Divorced   Handlers-cleaners   White     Male             0   \n",
       "3   Married-civ-spouse   Handlers-cleaners   Black     Male             0   \n",
       "4   Married-civ-spouse      Prof-specialty   Black   Female             0   \n",
       "\n",
       "   capital loss  working hours per week  native-country  salary  \n",
       "0             0                      40   United-States   <=50K  \n",
       "1             0                      13   United-States   <=50K  \n",
       "2             0                      40   United-States   <=50K  \n",
       "3             0                      40   United-States   <=50K  \n",
       "4             0                      40            Cuba   <=50K  "
      ]
     },
     "execution_count": 4,
     "metadata": {},
     "output_type": "execute_result"
    },
    {
     "data": {
      "application/javascript": [
       "\n",
       "            setTimeout(function() {\n",
       "                var nbb_cell_id = 4;\n",
       "                var nbb_unformatted_code = \"data.head()\";\n",
       "                var nbb_formatted_code = \"data.head()\";\n",
       "                var nbb_cells = Jupyter.notebook.get_cells();\n",
       "                for (var i = 0; i < nbb_cells.length; ++i) {\n",
       "                    if (nbb_cells[i].input_prompt_number == nbb_cell_id) {\n",
       "                        if (nbb_cells[i].get_text() == nbb_unformatted_code) {\n",
       "                             nbb_cells[i].set_text(nbb_formatted_code);\n",
       "                        }\n",
       "                        break;\n",
       "                    }\n",
       "                }\n",
       "            }, 500);\n",
       "            "
      ],
      "text/plain": [
       "<IPython.core.display.Javascript object>"
      ]
     },
     "metadata": {},
     "output_type": "display_data"
    }
   ],
   "source": [
    "data.head()"
   ]
  },
  {
   "cell_type": "code",
   "execution_count": 5,
   "id": "cultural-reviewer",
   "metadata": {},
   "outputs": [
    {
     "data": {
      "text/html": [
       "<div>\n",
       "<style scoped>\n",
       "    .dataframe tbody tr th:only-of-type {\n",
       "        vertical-align: middle;\n",
       "    }\n",
       "\n",
       "    .dataframe tbody tr th {\n",
       "        vertical-align: top;\n",
       "    }\n",
       "\n",
       "    .dataframe thead th {\n",
       "        text-align: right;\n",
       "    }\n",
       "</style>\n",
       "<table border=\"1\" class=\"dataframe\">\n",
       "  <thead>\n",
       "    <tr style=\"text-align: right;\">\n",
       "      <th></th>\n",
       "      <th>age</th>\n",
       "      <th>workclass</th>\n",
       "      <th>fnlwgt</th>\n",
       "      <th>education</th>\n",
       "      <th>education-no. of years</th>\n",
       "      <th>marital status</th>\n",
       "      <th>occupation</th>\n",
       "      <th>race</th>\n",
       "      <th>sex</th>\n",
       "      <th>capital gain</th>\n",
       "      <th>capital loss</th>\n",
       "      <th>working hours per week</th>\n",
       "      <th>native-country</th>\n",
       "      <th>salary</th>\n",
       "    </tr>\n",
       "  </thead>\n",
       "  <tbody>\n",
       "    <tr>\n",
       "      <th>32556</th>\n",
       "      <td>27</td>\n",
       "      <td>Private</td>\n",
       "      <td>257302</td>\n",
       "      <td>Assoc-acdm</td>\n",
       "      <td>12</td>\n",
       "      <td>Married-civ-spouse</td>\n",
       "      <td>Tech-support</td>\n",
       "      <td>White</td>\n",
       "      <td>Female</td>\n",
       "      <td>0</td>\n",
       "      <td>0</td>\n",
       "      <td>38</td>\n",
       "      <td>United-States</td>\n",
       "      <td>&lt;=50K</td>\n",
       "    </tr>\n",
       "    <tr>\n",
       "      <th>32557</th>\n",
       "      <td>40</td>\n",
       "      <td>Private</td>\n",
       "      <td>154374</td>\n",
       "      <td>HS-grad</td>\n",
       "      <td>9</td>\n",
       "      <td>Married-civ-spouse</td>\n",
       "      <td>Machine-op-inspct</td>\n",
       "      <td>White</td>\n",
       "      <td>Male</td>\n",
       "      <td>0</td>\n",
       "      <td>0</td>\n",
       "      <td>40</td>\n",
       "      <td>United-States</td>\n",
       "      <td>&gt;50K</td>\n",
       "    </tr>\n",
       "    <tr>\n",
       "      <th>32558</th>\n",
       "      <td>58</td>\n",
       "      <td>Private</td>\n",
       "      <td>151910</td>\n",
       "      <td>HS-grad</td>\n",
       "      <td>9</td>\n",
       "      <td>Widowed</td>\n",
       "      <td>Adm-clerical</td>\n",
       "      <td>White</td>\n",
       "      <td>Female</td>\n",
       "      <td>0</td>\n",
       "      <td>0</td>\n",
       "      <td>40</td>\n",
       "      <td>United-States</td>\n",
       "      <td>&lt;=50K</td>\n",
       "    </tr>\n",
       "    <tr>\n",
       "      <th>32559</th>\n",
       "      <td>22</td>\n",
       "      <td>Private</td>\n",
       "      <td>201490</td>\n",
       "      <td>HS-grad</td>\n",
       "      <td>9</td>\n",
       "      <td>Never-married</td>\n",
       "      <td>Adm-clerical</td>\n",
       "      <td>White</td>\n",
       "      <td>Male</td>\n",
       "      <td>0</td>\n",
       "      <td>0</td>\n",
       "      <td>20</td>\n",
       "      <td>United-States</td>\n",
       "      <td>&lt;=50K</td>\n",
       "    </tr>\n",
       "    <tr>\n",
       "      <th>32560</th>\n",
       "      <td>52</td>\n",
       "      <td>Self-emp-inc</td>\n",
       "      <td>287927</td>\n",
       "      <td>HS-grad</td>\n",
       "      <td>9</td>\n",
       "      <td>Married-civ-spouse</td>\n",
       "      <td>Exec-managerial</td>\n",
       "      <td>White</td>\n",
       "      <td>Female</td>\n",
       "      <td>15024</td>\n",
       "      <td>0</td>\n",
       "      <td>40</td>\n",
       "      <td>United-States</td>\n",
       "      <td>&gt;50K</td>\n",
       "    </tr>\n",
       "  </tbody>\n",
       "</table>\n",
       "</div>"
      ],
      "text/plain": [
       "       age      workclass  fnlwgt    education  education-no. of years  \\\n",
       "32556   27        Private  257302   Assoc-acdm                      12   \n",
       "32557   40        Private  154374      HS-grad                       9   \n",
       "32558   58        Private  151910      HS-grad                       9   \n",
       "32559   22        Private  201490      HS-grad                       9   \n",
       "32560   52   Self-emp-inc  287927      HS-grad                       9   \n",
       "\n",
       "            marital status          occupation    race      sex  capital gain  \\\n",
       "32556   Married-civ-spouse        Tech-support   White   Female             0   \n",
       "32557   Married-civ-spouse   Machine-op-inspct   White     Male             0   \n",
       "32558              Widowed        Adm-clerical   White   Female             0   \n",
       "32559        Never-married        Adm-clerical   White     Male             0   \n",
       "32560   Married-civ-spouse     Exec-managerial   White   Female         15024   \n",
       "\n",
       "       capital loss  working hours per week  native-country  salary  \n",
       "32556             0                      38   United-States   <=50K  \n",
       "32557             0                      40   United-States    >50K  \n",
       "32558             0                      40   United-States   <=50K  \n",
       "32559             0                      20   United-States   <=50K  \n",
       "32560             0                      40   United-States    >50K  "
      ]
     },
     "execution_count": 5,
     "metadata": {},
     "output_type": "execute_result"
    },
    {
     "data": {
      "application/javascript": [
       "\n",
       "            setTimeout(function() {\n",
       "                var nbb_cell_id = 5;\n",
       "                var nbb_unformatted_code = \"data.tail()\";\n",
       "                var nbb_formatted_code = \"data.tail()\";\n",
       "                var nbb_cells = Jupyter.notebook.get_cells();\n",
       "                for (var i = 0; i < nbb_cells.length; ++i) {\n",
       "                    if (nbb_cells[i].input_prompt_number == nbb_cell_id) {\n",
       "                        if (nbb_cells[i].get_text() == nbb_unformatted_code) {\n",
       "                             nbb_cells[i].set_text(nbb_formatted_code);\n",
       "                        }\n",
       "                        break;\n",
       "                    }\n",
       "                }\n",
       "            }, 500);\n",
       "            "
      ],
      "text/plain": [
       "<IPython.core.display.Javascript object>"
      ]
     },
     "metadata": {},
     "output_type": "display_data"
    }
   ],
   "source": [
    "data.tail()"
   ]
  },
  {
   "cell_type": "markdown",
   "id": "another-punishment",
   "metadata": {
    "colab_type": "text",
    "id": "dEuSu6e4hU2e"
   },
   "source": [
    "### Understand the shape of the dataset."
   ]
  },
  {
   "cell_type": "code",
   "execution_count": 6,
   "id": "second-jewel",
   "metadata": {},
   "outputs": [
    {
     "data": {
      "text/plain": [
       "(32561, 14)"
      ]
     },
     "execution_count": 6,
     "metadata": {},
     "output_type": "execute_result"
    },
    {
     "data": {
      "application/javascript": [
       "\n",
       "            setTimeout(function() {\n",
       "                var nbb_cell_id = 6;\n",
       "                var nbb_unformatted_code = \"data.shape\";\n",
       "                var nbb_formatted_code = \"data.shape\";\n",
       "                var nbb_cells = Jupyter.notebook.get_cells();\n",
       "                for (var i = 0; i < nbb_cells.length; ++i) {\n",
       "                    if (nbb_cells[i].input_prompt_number == nbb_cell_id) {\n",
       "                        if (nbb_cells[i].get_text() == nbb_unformatted_code) {\n",
       "                             nbb_cells[i].set_text(nbb_formatted_code);\n",
       "                        }\n",
       "                        break;\n",
       "                    }\n",
       "                }\n",
       "            }, 500);\n",
       "            "
      ],
      "text/plain": [
       "<IPython.core.display.Javascript object>"
      ]
     },
     "metadata": {},
     "output_type": "display_data"
    }
   ],
   "source": [
    "data.shape"
   ]
  },
  {
   "cell_type": "markdown",
   "id": "abroad-virgin",
   "metadata": {},
   "source": [
    "* The dataset has 32561 rows and 14 columns "
   ]
  },
  {
   "cell_type": "markdown",
   "id": "brutal-question",
   "metadata": {
    "colab_type": "text",
    "id": "mwAu-vEwhU2m"
   },
   "source": [
    "### Check the data types of the columns for the dataset."
   ]
  },
  {
   "cell_type": "code",
   "execution_count": 7,
   "id": "sitting-rough",
   "metadata": {
    "colab": {
     "base_uri": "https://localhost:8080/"
    },
    "id": "UXqzxZrw9WJg",
    "outputId": "4d1e0b70-4911-4e63-d263-6168fa386b65"
   },
   "outputs": [
    {
     "name": "stdout",
     "output_type": "stream",
     "text": [
      "<class 'pandas.core.frame.DataFrame'>\n",
      "RangeIndex: 32561 entries, 0 to 32560\n",
      "Data columns (total 14 columns):\n",
      " #   Column                  Non-Null Count  Dtype \n",
      "---  ------                  --------------  ----- \n",
      " 0   age                     32561 non-null  int64 \n",
      " 1   workclass               32561 non-null  object\n",
      " 2   fnlwgt                  32561 non-null  int64 \n",
      " 3   education               32561 non-null  object\n",
      " 4   education-no. of years  32561 non-null  int64 \n",
      " 5   marital status          32561 non-null  object\n",
      " 6   occupation              32561 non-null  object\n",
      " 7   race                    32561 non-null  object\n",
      " 8   sex                     32561 non-null  object\n",
      " 9   capital gain            32561 non-null  int64 \n",
      " 10  capital loss            32561 non-null  int64 \n",
      " 11  working hours per week  32561 non-null  int64 \n",
      " 12  native-country          32561 non-null  object\n",
      " 13  salary                  32561 non-null  object\n",
      "dtypes: int64(6), object(8)\n",
      "memory usage: 2.5+ MB\n"
     ]
    },
    {
     "data": {
      "application/javascript": [
       "\n",
       "            setTimeout(function() {\n",
       "                var nbb_cell_id = 7;\n",
       "                var nbb_unformatted_code = \"data.info()\";\n",
       "                var nbb_formatted_code = \"data.info()\";\n",
       "                var nbb_cells = Jupyter.notebook.get_cells();\n",
       "                for (var i = 0; i < nbb_cells.length; ++i) {\n",
       "                    if (nbb_cells[i].input_prompt_number == nbb_cell_id) {\n",
       "                        if (nbb_cells[i].get_text() == nbb_unformatted_code) {\n",
       "                             nbb_cells[i].set_text(nbb_formatted_code);\n",
       "                        }\n",
       "                        break;\n",
       "                    }\n",
       "                }\n",
       "            }, 500);\n",
       "            "
      ],
      "text/plain": [
       "<IPython.core.display.Javascript object>"
      ]
     },
     "metadata": {},
     "output_type": "display_data"
    }
   ],
   "source": [
    "data.info()"
   ]
  },
  {
   "cell_type": "markdown",
   "id": "dental-marketplace",
   "metadata": {
    "id": "kkceeszl9WJj"
   },
   "source": [
    "* We see that names of the columns have spaces, dots, and dash which we will remove as they should not be present in column names. We are doing this to maintain uniformity among the column names.\n",
    "* Dependent variable is the salary which is of categorical type.\n",
    "* age, capital gain, and capital loss are of integer type while other variables are of categorical type.\n",
    "* There are no missing values in the dataset."
   ]
  },
  {
   "cell_type": "code",
   "execution_count": 8,
   "id": "marked-funeral",
   "metadata": {
    "id": "BMXZrEVsuZcc"
   },
   "outputs": [
    {
     "data": {
      "application/javascript": [
       "\n",
       "            setTimeout(function() {\n",
       "                var nbb_cell_id = 8;\n",
       "                var nbb_unformatted_code = \"# fixing the names of columns as there are dots, spaces  in columns names\\ndata.columns = [col.replace(\\\" \\\", \\\"_\\\") for col in data.columns]\\ndata.columns = [col.replace(\\\"-\\\", \\\"_\\\") for col in data.columns]\\ndata.columns = [col.replace(\\\".\\\", \\\"\\\") for col in data.columns]\";\n",
       "                var nbb_formatted_code = \"# fixing the names of columns as there are dots, spaces  in columns names\\ndata.columns = [col.replace(\\\" \\\", \\\"_\\\") for col in data.columns]\\ndata.columns = [col.replace(\\\"-\\\", \\\"_\\\") for col in data.columns]\\ndata.columns = [col.replace(\\\".\\\", \\\"\\\") for col in data.columns]\";\n",
       "                var nbb_cells = Jupyter.notebook.get_cells();\n",
       "                for (var i = 0; i < nbb_cells.length; ++i) {\n",
       "                    if (nbb_cells[i].input_prompt_number == nbb_cell_id) {\n",
       "                        if (nbb_cells[i].get_text() == nbb_unformatted_code) {\n",
       "                             nbb_cells[i].set_text(nbb_formatted_code);\n",
       "                        }\n",
       "                        break;\n",
       "                    }\n",
       "                }\n",
       "            }, 500);\n",
       "            "
      ],
      "text/plain": [
       "<IPython.core.display.Javascript object>"
      ]
     },
     "metadata": {},
     "output_type": "display_data"
    }
   ],
   "source": [
    "# fixing the names of columns as there are dots, spaces  in columns names\n",
    "data.columns = [col.replace(\" \", \"_\") for col in data.columns]\n",
    "data.columns = [col.replace(\"-\", \"_\") for col in data.columns]\n",
    "data.columns = [col.replace(\".\", \"\") for col in data.columns]"
   ]
  },
  {
   "cell_type": "code",
   "execution_count": 9,
   "id": "polished-floating",
   "metadata": {
    "colab": {
     "base_uri": "https://localhost:8080/"
    },
    "id": "3BUEfwoqudEU",
    "outputId": "4f861321-21f4-4fac-f144-1a3486e49f1f"
   },
   "outputs": [
    {
     "name": "stdout",
     "output_type": "stream",
     "text": [
      "Index(['age', 'workclass', 'fnlwgt', 'education', 'education_no_of_years',\n",
      "       'marital_status', 'occupation', 'race', 'sex', 'capital_gain',\n",
      "       'capital_loss', 'working_hours_per_week', 'native_country', 'salary'],\n",
      "      dtype='object')\n"
     ]
    },
    {
     "data": {
      "application/javascript": [
       "\n",
       "            setTimeout(function() {\n",
       "                var nbb_cell_id = 9;\n",
       "                var nbb_unformatted_code = \"print(data.columns)\";\n",
       "                var nbb_formatted_code = \"print(data.columns)\";\n",
       "                var nbb_cells = Jupyter.notebook.get_cells();\n",
       "                for (var i = 0; i < nbb_cells.length; ++i) {\n",
       "                    if (nbb_cells[i].input_prompt_number == nbb_cell_id) {\n",
       "                        if (nbb_cells[i].get_text() == nbb_unformatted_code) {\n",
       "                             nbb_cells[i].set_text(nbb_formatted_code);\n",
       "                        }\n",
       "                        break;\n",
       "                    }\n",
       "                }\n",
       "            }, 500);\n",
       "            "
      ],
      "text/plain": [
       "<IPython.core.display.Javascript object>"
      ]
     },
     "metadata": {},
     "output_type": "display_data"
    }
   ],
   "source": [
    "print(data.columns)"
   ]
  },
  {
   "cell_type": "markdown",
   "id": "internal-concept",
   "metadata": {
    "id": "dGTJS089uj3d"
   },
   "source": [
    "* The column names are fixed"
   ]
  },
  {
   "cell_type": "markdown",
   "id": "sealed-platform",
   "metadata": {
    "colab_type": "text",
    "id": "7E1orwlJhU20"
   },
   "source": [
    "### Summary of the dataset."
   ]
  },
  {
   "cell_type": "code",
   "execution_count": 10,
   "id": "unusual-industry",
   "metadata": {
    "colab": {
     "base_uri": "https://localhost:8080/",
     "height": 427
    },
    "id": "zWfoZeXv9WJm",
    "outputId": "a775bf9f-9a96-476d-889d-1ae4c5c616fe"
   },
   "outputs": [
    {
     "data": {
      "text/html": [
       "<div>\n",
       "<style scoped>\n",
       "    .dataframe tbody tr th:only-of-type {\n",
       "        vertical-align: middle;\n",
       "    }\n",
       "\n",
       "    .dataframe tbody tr th {\n",
       "        vertical-align: top;\n",
       "    }\n",
       "\n",
       "    .dataframe thead th {\n",
       "        text-align: right;\n",
       "    }\n",
       "</style>\n",
       "<table border=\"1\" class=\"dataframe\">\n",
       "  <thead>\n",
       "    <tr style=\"text-align: right;\">\n",
       "      <th></th>\n",
       "      <th>count</th>\n",
       "      <th>mean</th>\n",
       "      <th>std</th>\n",
       "      <th>min</th>\n",
       "      <th>25%</th>\n",
       "      <th>50%</th>\n",
       "      <th>75%</th>\n",
       "      <th>max</th>\n",
       "    </tr>\n",
       "  </thead>\n",
       "  <tbody>\n",
       "    <tr>\n",
       "      <th>age</th>\n",
       "      <td>32561.0</td>\n",
       "      <td>38.581647</td>\n",
       "      <td>13.640433</td>\n",
       "      <td>17.0</td>\n",
       "      <td>28.0</td>\n",
       "      <td>37.0</td>\n",
       "      <td>48.0</td>\n",
       "      <td>90.0</td>\n",
       "    </tr>\n",
       "    <tr>\n",
       "      <th>fnlwgt</th>\n",
       "      <td>32561.0</td>\n",
       "      <td>189778.366512</td>\n",
       "      <td>105549.977697</td>\n",
       "      <td>12285.0</td>\n",
       "      <td>117827.0</td>\n",
       "      <td>178356.0</td>\n",
       "      <td>237051.0</td>\n",
       "      <td>1484705.0</td>\n",
       "    </tr>\n",
       "    <tr>\n",
       "      <th>education_no_of_years</th>\n",
       "      <td>32561.0</td>\n",
       "      <td>10.080679</td>\n",
       "      <td>2.572720</td>\n",
       "      <td>1.0</td>\n",
       "      <td>9.0</td>\n",
       "      <td>10.0</td>\n",
       "      <td>12.0</td>\n",
       "      <td>16.0</td>\n",
       "    </tr>\n",
       "    <tr>\n",
       "      <th>capital_gain</th>\n",
       "      <td>32561.0</td>\n",
       "      <td>1077.648844</td>\n",
       "      <td>7385.292085</td>\n",
       "      <td>0.0</td>\n",
       "      <td>0.0</td>\n",
       "      <td>0.0</td>\n",
       "      <td>0.0</td>\n",
       "      <td>99999.0</td>\n",
       "    </tr>\n",
       "    <tr>\n",
       "      <th>capital_loss</th>\n",
       "      <td>32561.0</td>\n",
       "      <td>87.303830</td>\n",
       "      <td>402.960219</td>\n",
       "      <td>0.0</td>\n",
       "      <td>0.0</td>\n",
       "      <td>0.0</td>\n",
       "      <td>0.0</td>\n",
       "      <td>4356.0</td>\n",
       "    </tr>\n",
       "    <tr>\n",
       "      <th>working_hours_per_week</th>\n",
       "      <td>32561.0</td>\n",
       "      <td>40.437456</td>\n",
       "      <td>12.347429</td>\n",
       "      <td>1.0</td>\n",
       "      <td>40.0</td>\n",
       "      <td>40.0</td>\n",
       "      <td>45.0</td>\n",
       "      <td>99.0</td>\n",
       "    </tr>\n",
       "  </tbody>\n",
       "</table>\n",
       "</div>"
      ],
      "text/plain": [
       "                          count           mean            std      min  \\\n",
       "age                     32561.0      38.581647      13.640433     17.0   \n",
       "fnlwgt                  32561.0  189778.366512  105549.977697  12285.0   \n",
       "education_no_of_years   32561.0      10.080679       2.572720      1.0   \n",
       "capital_gain            32561.0    1077.648844    7385.292085      0.0   \n",
       "capital_loss            32561.0      87.303830     402.960219      0.0   \n",
       "working_hours_per_week  32561.0      40.437456      12.347429      1.0   \n",
       "\n",
       "                             25%       50%       75%        max  \n",
       "age                         28.0      37.0      48.0       90.0  \n",
       "fnlwgt                  117827.0  178356.0  237051.0  1484705.0  \n",
       "education_no_of_years        9.0      10.0      12.0       16.0  \n",
       "capital_gain                 0.0       0.0       0.0    99999.0  \n",
       "capital_loss                 0.0       0.0       0.0     4356.0  \n",
       "working_hours_per_week      40.0      40.0      45.0       99.0  "
      ]
     },
     "execution_count": 10,
     "metadata": {},
     "output_type": "execute_result"
    },
    {
     "data": {
      "application/javascript": [
       "\n",
       "            setTimeout(function() {\n",
       "                var nbb_cell_id = 10;\n",
       "                var nbb_unformatted_code = \"data.describe().T\";\n",
       "                var nbb_formatted_code = \"data.describe().T\";\n",
       "                var nbb_cells = Jupyter.notebook.get_cells();\n",
       "                for (var i = 0; i < nbb_cells.length; ++i) {\n",
       "                    if (nbb_cells[i].input_prompt_number == nbb_cell_id) {\n",
       "                        if (nbb_cells[i].get_text() == nbb_unformatted_code) {\n",
       "                             nbb_cells[i].set_text(nbb_formatted_code);\n",
       "                        }\n",
       "                        break;\n",
       "                    }\n",
       "                }\n",
       "            }, 500);\n",
       "            "
      ],
      "text/plain": [
       "<IPython.core.display.Javascript object>"
      ]
     },
     "metadata": {},
     "output_type": "display_data"
    }
   ],
   "source": [
    "data.describe().T"
   ]
  },
  {
   "cell_type": "code",
   "execution_count": 106,
   "id": "606595dc-7013-463a-a23f-54157f52177e",
   "metadata": {},
   "outputs": [
    {
     "data": {
      "text/plain": [
       "age                       0\n",
       "workclass                 0\n",
       "fnlwgt                    0\n",
       "education                 0\n",
       "education_no_of_years     0\n",
       "marital_status            0\n",
       "occupation                0\n",
       "race                      0\n",
       "sex                       0\n",
       "working_hours_per_week    0\n",
       "native_country            0\n",
       "salary                    0\n",
       "dtype: int64"
      ]
     },
     "execution_count": 106,
     "metadata": {},
     "output_type": "execute_result"
    },
    {
     "data": {
      "application/javascript": [
       "\n",
       "            setTimeout(function() {\n",
       "                var nbb_cell_id = 106;\n",
       "                var nbb_unformatted_code = \"data.isnull().sum()\";\n",
       "                var nbb_formatted_code = \"data.isnull().sum()\";\n",
       "                var nbb_cells = Jupyter.notebook.get_cells();\n",
       "                for (var i = 0; i < nbb_cells.length; ++i) {\n",
       "                    if (nbb_cells[i].input_prompt_number == nbb_cell_id) {\n",
       "                        if (nbb_cells[i].get_text() == nbb_unformatted_code) {\n",
       "                             nbb_cells[i].set_text(nbb_formatted_code);\n",
       "                        }\n",
       "                        break;\n",
       "                    }\n",
       "                }\n",
       "            }, 500);\n",
       "            "
      ],
      "text/plain": [
       "<IPython.core.display.Javascript object>"
      ]
     },
     "metadata": {},
     "output_type": "display_data"
    }
   ],
   "source": [
    "data.isnull().sum()"
   ]
  },
  {
   "cell_type": "code",
   "execution_count": null,
   "id": "a2ca6bb3-af2e-4bc2-a587-e41387683de6",
   "metadata": {},
   "outputs": [],
   "source": []
  },
  {
   "cell_type": "markdown",
   "id": "administrative-protein",
   "metadata": {
    "id": "aMsnBrFN9WJp"
   },
   "source": [
    "* `age`: Average age of people in the dataset is 38 years, age has a wide range from 17 to 90 years.\n",
    "* `education_no_of_years`: The average education in years is 10 years. There's a large difference between the minimum value and 25th percentile which indicates that there might be outliers present in this variable.\n",
    "* `capital_gain`: There's a huge difference in the 75th percentile and maximum value of capital_gain indicating the presence of outliers. Also, 75% of the observations are 0.\n",
    "* `capital_loss`: Same as capital gain there's a huge difference in the 75th percentile and maximum value indicating the presence of outliers. Also, 75% of the observations are 0.\n",
    "* `working_hours_per_week`: On average people work for 40 hours a week. A vast difference in minimum value and 25th percentile, as well as 75th percentile and the maximum value, indicates that there might be outliers present in the variable."
   ]
  },
  {
   "cell_type": "markdown",
   "id": "grand-trainer",
   "metadata": {
    "id": "4qAJgcnu9WJz"
   },
   "source": [
    "**Lets us look at different levels in categorical variables**"
   ]
  },
  {
   "cell_type": "code",
   "execution_count": 12,
   "id": "governing-shaft",
   "metadata": {},
   "outputs": [
    {
     "data": {
      "text/plain": [
       "Index(['workclass', 'education', 'marital_status', 'occupation', 'race', 'sex',\n",
       "       'native_country', 'salary'],\n",
       "      dtype='object')"
      ]
     },
     "execution_count": 12,
     "metadata": {},
     "output_type": "execute_result"
    },
    {
     "data": {
      "application/javascript": [
       "\n",
       "            setTimeout(function() {\n",
       "                var nbb_cell_id = 12;\n",
       "                var nbb_unformatted_code = \"# filtering object type columns\\ncat_columns = data.describe(include=[\\\"object\\\"]).columns\\ncat_columns\";\n",
       "                var nbb_formatted_code = \"# filtering object type columns\\ncat_columns = data.describe(include=[\\\"object\\\"]).columns\\ncat_columns\";\n",
       "                var nbb_cells = Jupyter.notebook.get_cells();\n",
       "                for (var i = 0; i < nbb_cells.length; ++i) {\n",
       "                    if (nbb_cells[i].input_prompt_number == nbb_cell_id) {\n",
       "                        if (nbb_cells[i].get_text() == nbb_unformatted_code) {\n",
       "                             nbb_cells[i].set_text(nbb_formatted_code);\n",
       "                        }\n",
       "                        break;\n",
       "                    }\n",
       "                }\n",
       "            }, 500);\n",
       "            "
      ],
      "text/plain": [
       "<IPython.core.display.Javascript object>"
      ]
     },
     "metadata": {},
     "output_type": "display_data"
    }
   ],
   "source": [
    "# filtering object type columns\n",
    "cat_columns = data.describe(include=[\"object\"]).columns\n",
    "cat_columns"
   ]
  },
  {
   "cell_type": "code",
   "execution_count": 13,
   "id": "sapphire-reunion",
   "metadata": {},
   "outputs": [
    {
     "name": "stdout",
     "output_type": "stream",
     "text": [
      "Unique values in workclass are :\n",
      " Private             22696\n",
      " Self-emp-not-inc     2541\n",
      " Local-gov            2093\n",
      " ?                    1836\n",
      " State-gov            1298\n",
      " Self-emp-inc         1116\n",
      " Federal-gov           960\n",
      " Without-pay            14\n",
      " Never-worked            7\n",
      "Name: workclass, dtype: int64\n",
      "**************************************************\n",
      "Unique values in education are :\n",
      " HS-grad         10501\n",
      " Some-college     7291\n",
      " Bachelors        5355\n",
      " Masters          1723\n",
      " Assoc-voc        1382\n",
      " 11th             1175\n",
      " Assoc-acdm       1067\n",
      " 10th              933\n",
      " 7th-8th           646\n",
      " Prof-school       576\n",
      " 9th               514\n",
      " 12th              433\n",
      " Doctorate         413\n",
      " 5th-6th           333\n",
      " 1st-4th           168\n",
      " Preschool          51\n",
      "Name: education, dtype: int64\n",
      "**************************************************\n",
      "Unique values in marital_status are :\n",
      " Married-civ-spouse       14976\n",
      " Never-married            10683\n",
      " Divorced                  4443\n",
      " Separated                 1025\n",
      " Widowed                    993\n",
      " Married-spouse-absent      418\n",
      " Married-AF-spouse           23\n",
      "Name: marital_status, dtype: int64\n",
      "**************************************************\n",
      "Unique values in occupation are :\n",
      " Prof-specialty       4140\n",
      " Craft-repair         4099\n",
      " Exec-managerial      4066\n",
      " Adm-clerical         3770\n",
      " Sales                3650\n",
      " Other-service        3295\n",
      " Machine-op-inspct    2002\n",
      " ?                    1843\n",
      " Transport-moving     1597\n",
      " Handlers-cleaners    1370\n",
      " Farming-fishing       994\n",
      " Tech-support          928\n",
      " Protective-serv       649\n",
      " Priv-house-serv       149\n",
      " Armed-Forces            9\n",
      "Name: occupation, dtype: int64\n",
      "**************************************************\n",
      "Unique values in race are :\n",
      " White                 27816\n",
      " Black                  3124\n",
      " Asian-Pac-Islander     1039\n",
      " Amer-Indian-Eskimo      311\n",
      " Other                   271\n",
      "Name: race, dtype: int64\n",
      "**************************************************\n",
      "Unique values in sex are :\n",
      " Male      21790\n",
      " Female    10771\n",
      "Name: sex, dtype: int64\n",
      "**************************************************\n",
      "Unique values in native_country are :\n",
      " United-States                 29170\n",
      " Mexico                          643\n",
      " ?                               583\n",
      " Philippines                     198\n",
      " Germany                         137\n",
      " Canada                          121\n",
      " Puerto-Rico                     114\n",
      " El-Salvador                     106\n",
      " India                           100\n",
      " Cuba                             95\n",
      " England                          90\n",
      " Jamaica                          81\n",
      " South                            80\n",
      " China                            75\n",
      " Italy                            73\n",
      " Dominican-Republic               70\n",
      " Vietnam                          67\n",
      " Guatemala                        64\n",
      " Japan                            62\n",
      " Poland                           60\n",
      " Columbia                         59\n",
      " Taiwan                           51\n",
      " Haiti                            44\n",
      " Iran                             43\n",
      " Portugal                         37\n",
      " Nicaragua                        34\n",
      " Peru                             31\n",
      " France                           29\n",
      " Greece                           29\n",
      " Ecuador                          28\n",
      " Ireland                          24\n",
      " Hong                             20\n",
      " Cambodia                         19\n",
      " Trinadad&Tobago                  19\n",
      " Thailand                         18\n",
      " Laos                             18\n",
      " Yugoslavia                       16\n",
      " Outlying-US(Guam-USVI-etc)       14\n",
      " Hungary                          13\n",
      " Honduras                         13\n",
      " Scotland                         12\n",
      " Holand-Netherlands                1\n",
      "Name: native_country, dtype: int64\n",
      "**************************************************\n",
      "Unique values in salary are :\n",
      " <=50K    24720\n",
      " >50K      7841\n",
      "Name: salary, dtype: int64\n",
      "**************************************************\n"
     ]
    },
    {
     "data": {
      "application/javascript": [
       "\n",
       "            setTimeout(function() {\n",
       "                var nbb_cell_id = 13;\n",
       "                var nbb_unformatted_code = \"for i in cat_columns:\\n    print(\\\"Unique values in\\\", i, \\\"are :\\\")\\n    print(data[i].value_counts())\\n    print(\\\"*\\\" * 50)\";\n",
       "                var nbb_formatted_code = \"for i in cat_columns:\\n    print(\\\"Unique values in\\\", i, \\\"are :\\\")\\n    print(data[i].value_counts())\\n    print(\\\"*\\\" * 50)\";\n",
       "                var nbb_cells = Jupyter.notebook.get_cells();\n",
       "                for (var i = 0; i < nbb_cells.length; ++i) {\n",
       "                    if (nbb_cells[i].input_prompt_number == nbb_cell_id) {\n",
       "                        if (nbb_cells[i].get_text() == nbb_unformatted_code) {\n",
       "                             nbb_cells[i].set_text(nbb_formatted_code);\n",
       "                        }\n",
       "                        break;\n",
       "                    }\n",
       "                }\n",
       "            }, 500);\n",
       "            "
      ],
      "text/plain": [
       "<IPython.core.display.Javascript object>"
      ]
     },
     "metadata": {},
     "output_type": "display_data"
    }
   ],
   "source": [
    "for i in cat_columns:\n",
    "    print(\"Unique values in\", i, \"are :\")\n",
    "    print(data[i].value_counts())\n",
    "    print(\"*\" * 50)"
   ]
  },
  {
   "cell_type": "markdown",
   "id": "earned-sheriff",
   "metadata": {},
   "source": [
    "* There are some values represented by a '?' in workclass, occupation, and native country columns which we should investigate further.\n",
    "* There are many distinct values in native_country that can be reduced to their respective continents.\n",
    "* The distinct levels of marital_status can also be reduced."
   ]
  },
  {
   "cell_type": "markdown",
   "id": "super-exhibition",
   "metadata": {},
   "source": [
    "#### We can assume that wherever there is a ? the data is unknown or missing. Let us see if there is a pattern in the missingness."
   ]
  },
  {
   "cell_type": "markdown",
   "id": "recent-ladder",
   "metadata": {},
   "source": [
    "#### workclass"
   ]
  },
  {
   "cell_type": "code",
   "execution_count": 14,
   "id": "working-frank",
   "metadata": {},
   "outputs": [
    {
     "data": {
      "text/html": [
       "<div>\n",
       "<style scoped>\n",
       "    .dataframe tbody tr th:only-of-type {\n",
       "        vertical-align: middle;\n",
       "    }\n",
       "\n",
       "    .dataframe tbody tr th {\n",
       "        vertical-align: top;\n",
       "    }\n",
       "\n",
       "    .dataframe thead th {\n",
       "        text-align: right;\n",
       "    }\n",
       "</style>\n",
       "<table border=\"1\" class=\"dataframe\">\n",
       "  <thead>\n",
       "    <tr style=\"text-align: right;\">\n",
       "      <th></th>\n",
       "      <th>age</th>\n",
       "      <th>workclass</th>\n",
       "      <th>fnlwgt</th>\n",
       "      <th>education</th>\n",
       "      <th>education_no_of_years</th>\n",
       "      <th>marital_status</th>\n",
       "      <th>occupation</th>\n",
       "      <th>race</th>\n",
       "      <th>sex</th>\n",
       "      <th>capital_gain</th>\n",
       "      <th>capital_loss</th>\n",
       "      <th>working_hours_per_week</th>\n",
       "      <th>native_country</th>\n",
       "      <th>salary</th>\n",
       "    </tr>\n",
       "  </thead>\n",
       "  <tbody>\n",
       "    <tr>\n",
       "      <th>1404</th>\n",
       "      <td>42</td>\n",
       "      <td>?</td>\n",
       "      <td>51795</td>\n",
       "      <td>HS-grad</td>\n",
       "      <td>9</td>\n",
       "      <td>Divorced</td>\n",
       "      <td>?</td>\n",
       "      <td>Black</td>\n",
       "      <td>Female</td>\n",
       "      <td>0</td>\n",
       "      <td>0</td>\n",
       "      <td>32</td>\n",
       "      <td>United-States</td>\n",
       "      <td>&lt;=50K</td>\n",
       "    </tr>\n",
       "    <tr>\n",
       "      <th>17717</th>\n",
       "      <td>30</td>\n",
       "      <td>?</td>\n",
       "      <td>33811</td>\n",
       "      <td>Bachelors</td>\n",
       "      <td>13</td>\n",
       "      <td>Married-civ-spouse</td>\n",
       "      <td>?</td>\n",
       "      <td>Other</td>\n",
       "      <td>Female</td>\n",
       "      <td>0</td>\n",
       "      <td>0</td>\n",
       "      <td>40</td>\n",
       "      <td>Taiwan</td>\n",
       "      <td>&gt;50K</td>\n",
       "    </tr>\n",
       "    <tr>\n",
       "      <th>14939</th>\n",
       "      <td>20</td>\n",
       "      <td>?</td>\n",
       "      <td>424034</td>\n",
       "      <td>Some-college</td>\n",
       "      <td>10</td>\n",
       "      <td>Never-married</td>\n",
       "      <td>?</td>\n",
       "      <td>White</td>\n",
       "      <td>Male</td>\n",
       "      <td>0</td>\n",
       "      <td>0</td>\n",
       "      <td>15</td>\n",
       "      <td>United-States</td>\n",
       "      <td>&lt;=50K</td>\n",
       "    </tr>\n",
       "    <tr>\n",
       "      <th>2061</th>\n",
       "      <td>20</td>\n",
       "      <td>?</td>\n",
       "      <td>376474</td>\n",
       "      <td>Some-college</td>\n",
       "      <td>10</td>\n",
       "      <td>Never-married</td>\n",
       "      <td>?</td>\n",
       "      <td>White</td>\n",
       "      <td>Male</td>\n",
       "      <td>0</td>\n",
       "      <td>0</td>\n",
       "      <td>32</td>\n",
       "      <td>United-States</td>\n",
       "      <td>&lt;=50K</td>\n",
       "    </tr>\n",
       "    <tr>\n",
       "      <th>30402</th>\n",
       "      <td>17</td>\n",
       "      <td>?</td>\n",
       "      <td>48703</td>\n",
       "      <td>11th</td>\n",
       "      <td>7</td>\n",
       "      <td>Never-married</td>\n",
       "      <td>?</td>\n",
       "      <td>White</td>\n",
       "      <td>Female</td>\n",
       "      <td>0</td>\n",
       "      <td>0</td>\n",
       "      <td>30</td>\n",
       "      <td>United-States</td>\n",
       "      <td>&lt;=50K</td>\n",
       "    </tr>\n",
       "  </tbody>\n",
       "</table>\n",
       "</div>"
      ],
      "text/plain": [
       "       age workclass  fnlwgt      education  education_no_of_years  \\\n",
       "1404    42         ?   51795        HS-grad                      9   \n",
       "17717   30         ?   33811      Bachelors                     13   \n",
       "14939   20         ?  424034   Some-college                     10   \n",
       "2061    20         ?  376474   Some-college                     10   \n",
       "30402   17         ?   48703           11th                      7   \n",
       "\n",
       "            marital_status occupation    race      sex  capital_gain  \\\n",
       "1404              Divorced          ?   Black   Female             0   \n",
       "17717   Married-civ-spouse          ?   Other   Female             0   \n",
       "14939        Never-married          ?   White     Male             0   \n",
       "2061         Never-married          ?   White     Male             0   \n",
       "30402        Never-married          ?   White   Female             0   \n",
       "\n",
       "       capital_loss  working_hours_per_week  native_country  salary  \n",
       "1404              0                      32   United-States   <=50K  \n",
       "17717             0                      40          Taiwan    >50K  \n",
       "14939             0                      15   United-States   <=50K  \n",
       "2061              0                      32   United-States   <=50K  \n",
       "30402             0                      30   United-States   <=50K  "
      ]
     },
     "execution_count": 14,
     "metadata": {},
     "output_type": "execute_result"
    },
    {
     "data": {
      "application/javascript": [
       "\n",
       "            setTimeout(function() {\n",
       "                var nbb_cell_id = 14;\n",
       "                var nbb_unformatted_code = \"data[data[\\\"workclass\\\"] == \\\" ?\\\"].sample(5)\";\n",
       "                var nbb_formatted_code = \"data[data[\\\"workclass\\\"] == \\\" ?\\\"].sample(5)\";\n",
       "                var nbb_cells = Jupyter.notebook.get_cells();\n",
       "                for (var i = 0; i < nbb_cells.length; ++i) {\n",
       "                    if (nbb_cells[i].input_prompt_number == nbb_cell_id) {\n",
       "                        if (nbb_cells[i].get_text() == nbb_unformatted_code) {\n",
       "                             nbb_cells[i].set_text(nbb_formatted_code);\n",
       "                        }\n",
       "                        break;\n",
       "                    }\n",
       "                }\n",
       "            }, 500);\n",
       "            "
      ],
      "text/plain": [
       "<IPython.core.display.Javascript object>"
      ]
     },
     "metadata": {},
     "output_type": "display_data"
    }
   ],
   "source": [
    "data[data[\"workclass\"] == \" ?\"].sample(5)"
   ]
  },
  {
   "cell_type": "markdown",
   "id": "handed-bracket",
   "metadata": {},
   "source": [
    "* From the sample it looks like wherever workclass is missing occupation is also missing. \n",
    "* It looks like for ? observations in workclass the native country is the United States.\n",
    "* Let's see if the above observations hold."
   ]
  },
  {
   "cell_type": "code",
   "execution_count": 15,
   "id": "deluxe-builder",
   "metadata": {},
   "outputs": [
    {
     "data": {
      "text/plain": [
       " ?    1836\n",
       "Name: occupation, dtype: int64"
      ]
     },
     "execution_count": 15,
     "metadata": {},
     "output_type": "execute_result"
    },
    {
     "data": {
      "application/javascript": [
       "\n",
       "            setTimeout(function() {\n",
       "                var nbb_cell_id = 15;\n",
       "                var nbb_unformatted_code = \"data[data[\\\"workclass\\\"] == \\\" ?\\\"][\\\"occupation\\\"].value_counts()\";\n",
       "                var nbb_formatted_code = \"data[data[\\\"workclass\\\"] == \\\" ?\\\"][\\\"occupation\\\"].value_counts()\";\n",
       "                var nbb_cells = Jupyter.notebook.get_cells();\n",
       "                for (var i = 0; i < nbb_cells.length; ++i) {\n",
       "                    if (nbb_cells[i].input_prompt_number == nbb_cell_id) {\n",
       "                        if (nbb_cells[i].get_text() == nbb_unformatted_code) {\n",
       "                             nbb_cells[i].set_text(nbb_formatted_code);\n",
       "                        }\n",
       "                        break;\n",
       "                    }\n",
       "                }\n",
       "            }, 500);\n",
       "            "
      ],
      "text/plain": [
       "<IPython.core.display.Javascript object>"
      ]
     },
     "metadata": {},
     "output_type": "display_data"
    }
   ],
   "source": [
    "data[data[\"workclass\"] == \" ?\"][\"occupation\"].value_counts()"
   ]
  },
  {
   "cell_type": "markdown",
   "id": "figured-pressure",
   "metadata": {},
   "source": [
    "* It is indeed true that wherever workclass has ? the occupation is also ?\n",
    "* This indicates there is a strong pattern in the missingness of workclass and occupation. This is intuitive as well because both the columns are capturing similar information."
   ]
  },
  {
   "cell_type": "code",
   "execution_count": 16,
   "id": "configured-correlation",
   "metadata": {},
   "outputs": [
    {
     "data": {
      "text/plain": [
       " United-States         1659\n",
       " Mexico                  33\n",
       " ?                       27\n",
       " Canada                  14\n",
       " Philippines             10\n",
       " South                    9\n",
       " Germany                  9\n",
       " Taiwan                   9\n",
       " China                    7\n",
       " El-Salvador              6\n",
       " Puerto-Rico              5\n",
       " Italy                    5\n",
       " Poland                   4\n",
       " England                  4\n",
       " Vietnam                  3\n",
       " Japan                    3\n",
       " Portugal                 3\n",
       " Columbia                 3\n",
       " Dominican-Republic       3\n",
       " Cuba                     3\n",
       " Haiti                    2\n",
       " France                   2\n",
       " Peru                     1\n",
       " Nicaragua                1\n",
       " Hong                     1\n",
       " Honduras                 1\n",
       " Jamaica                  1\n",
       " Trinadad&Tobago          1\n",
       " Guatemala                1\n",
       " Iran                     1\n",
       " Ecuador                  1\n",
       " Scotland                 1\n",
       " Laos                     1\n",
       " Thailand                 1\n",
       " Cambodia                 1\n",
       "Name: native_country, dtype: int64"
      ]
     },
     "execution_count": 16,
     "metadata": {},
     "output_type": "execute_result"
    },
    {
     "data": {
      "application/javascript": [
       "\n",
       "            setTimeout(function() {\n",
       "                var nbb_cell_id = 16;\n",
       "                var nbb_unformatted_code = \"data[data[\\\"workclass\\\"] == \\\" ?\\\"][\\\"native_country\\\"].value_counts()\";\n",
       "                var nbb_formatted_code = \"data[data[\\\"workclass\\\"] == \\\" ?\\\"][\\\"native_country\\\"].value_counts()\";\n",
       "                var nbb_cells = Jupyter.notebook.get_cells();\n",
       "                for (var i = 0; i < nbb_cells.length; ++i) {\n",
       "                    if (nbb_cells[i].input_prompt_number == nbb_cell_id) {\n",
       "                        if (nbb_cells[i].get_text() == nbb_unformatted_code) {\n",
       "                             nbb_cells[i].set_text(nbb_formatted_code);\n",
       "                        }\n",
       "                        break;\n",
       "                    }\n",
       "                }\n",
       "            }, 500);\n",
       "            "
      ],
      "text/plain": [
       "<IPython.core.display.Javascript object>"
      ]
     },
     "metadata": {},
     "output_type": "display_data"
    }
   ],
   "source": [
    "data[data[\"workclass\"] == \" ?\"][\"native_country\"].value_counts()"
   ]
  },
  {
   "cell_type": "markdown",
   "id": "clean-scientist",
   "metadata": {},
   "source": [
    "* The above observations don't hold for native_country as there many other countries where the observations are ?."
   ]
  },
  {
   "cell_type": "markdown",
   "id": "bright-joint",
   "metadata": {},
   "source": [
    "#### occupation"
   ]
  },
  {
   "cell_type": "code",
   "execution_count": 17,
   "id": "double-gregory",
   "metadata": {},
   "outputs": [
    {
     "data": {
      "text/html": [
       "<div>\n",
       "<style scoped>\n",
       "    .dataframe tbody tr th:only-of-type {\n",
       "        vertical-align: middle;\n",
       "    }\n",
       "\n",
       "    .dataframe tbody tr th {\n",
       "        vertical-align: top;\n",
       "    }\n",
       "\n",
       "    .dataframe thead th {\n",
       "        text-align: right;\n",
       "    }\n",
       "</style>\n",
       "<table border=\"1\" class=\"dataframe\">\n",
       "  <thead>\n",
       "    <tr style=\"text-align: right;\">\n",
       "      <th></th>\n",
       "      <th>age</th>\n",
       "      <th>workclass</th>\n",
       "      <th>fnlwgt</th>\n",
       "      <th>education</th>\n",
       "      <th>education_no_of_years</th>\n",
       "      <th>marital_status</th>\n",
       "      <th>occupation</th>\n",
       "      <th>race</th>\n",
       "      <th>sex</th>\n",
       "      <th>capital_gain</th>\n",
       "      <th>capital_loss</th>\n",
       "      <th>working_hours_per_week</th>\n",
       "      <th>native_country</th>\n",
       "      <th>salary</th>\n",
       "    </tr>\n",
       "  </thead>\n",
       "  <tbody>\n",
       "    <tr>\n",
       "      <th>4766</th>\n",
       "      <td>63</td>\n",
       "      <td>?</td>\n",
       "      <td>203821</td>\n",
       "      <td>HS-grad</td>\n",
       "      <td>9</td>\n",
       "      <td>Married-civ-spouse</td>\n",
       "      <td>?</td>\n",
       "      <td>White</td>\n",
       "      <td>Male</td>\n",
       "      <td>0</td>\n",
       "      <td>0</td>\n",
       "      <td>40</td>\n",
       "      <td>United-States</td>\n",
       "      <td>&lt;=50K</td>\n",
       "    </tr>\n",
       "    <tr>\n",
       "      <th>3088</th>\n",
       "      <td>20</td>\n",
       "      <td>?</td>\n",
       "      <td>182117</td>\n",
       "      <td>Some-college</td>\n",
       "      <td>10</td>\n",
       "      <td>Never-married</td>\n",
       "      <td>?</td>\n",
       "      <td>White</td>\n",
       "      <td>Male</td>\n",
       "      <td>0</td>\n",
       "      <td>0</td>\n",
       "      <td>40</td>\n",
       "      <td>United-States</td>\n",
       "      <td>&lt;=50K</td>\n",
       "    </tr>\n",
       "    <tr>\n",
       "      <th>10959</th>\n",
       "      <td>20</td>\n",
       "      <td>?</td>\n",
       "      <td>293091</td>\n",
       "      <td>HS-grad</td>\n",
       "      <td>9</td>\n",
       "      <td>Never-married</td>\n",
       "      <td>?</td>\n",
       "      <td>White</td>\n",
       "      <td>Male</td>\n",
       "      <td>0</td>\n",
       "      <td>0</td>\n",
       "      <td>12</td>\n",
       "      <td>United-States</td>\n",
       "      <td>&lt;=50K</td>\n",
       "    </tr>\n",
       "    <tr>\n",
       "      <th>30677</th>\n",
       "      <td>18</td>\n",
       "      <td>?</td>\n",
       "      <td>245274</td>\n",
       "      <td>Some-college</td>\n",
       "      <td>10</td>\n",
       "      <td>Never-married</td>\n",
       "      <td>?</td>\n",
       "      <td>White</td>\n",
       "      <td>Male</td>\n",
       "      <td>0</td>\n",
       "      <td>0</td>\n",
       "      <td>16</td>\n",
       "      <td>United-States</td>\n",
       "      <td>&lt;=50K</td>\n",
       "    </tr>\n",
       "    <tr>\n",
       "      <th>17096</th>\n",
       "      <td>25</td>\n",
       "      <td>?</td>\n",
       "      <td>12285</td>\n",
       "      <td>Some-college</td>\n",
       "      <td>10</td>\n",
       "      <td>Never-married</td>\n",
       "      <td>?</td>\n",
       "      <td>Amer-Indian-Eskimo</td>\n",
       "      <td>Female</td>\n",
       "      <td>0</td>\n",
       "      <td>0</td>\n",
       "      <td>20</td>\n",
       "      <td>United-States</td>\n",
       "      <td>&lt;=50K</td>\n",
       "    </tr>\n",
       "  </tbody>\n",
       "</table>\n",
       "</div>"
      ],
      "text/plain": [
       "       age workclass  fnlwgt      education  education_no_of_years  \\\n",
       "4766    63         ?  203821        HS-grad                      9   \n",
       "3088    20         ?  182117   Some-college                     10   \n",
       "10959   20         ?  293091        HS-grad                      9   \n",
       "30677   18         ?  245274   Some-college                     10   \n",
       "17096   25         ?   12285   Some-college                     10   \n",
       "\n",
       "            marital_status occupation                 race      sex  \\\n",
       "4766    Married-civ-spouse          ?                White     Male   \n",
       "3088         Never-married          ?                White     Male   \n",
       "10959        Never-married          ?                White     Male   \n",
       "30677        Never-married          ?                White     Male   \n",
       "17096        Never-married          ?   Amer-Indian-Eskimo   Female   \n",
       "\n",
       "       capital_gain  capital_loss  working_hours_per_week  native_country  \\\n",
       "4766              0             0                      40   United-States   \n",
       "3088              0             0                      40   United-States   \n",
       "10959             0             0                      12   United-States   \n",
       "30677             0             0                      16   United-States   \n",
       "17096             0             0                      20   United-States   \n",
       "\n",
       "       salary  \n",
       "4766    <=50K  \n",
       "3088    <=50K  \n",
       "10959   <=50K  \n",
       "30677   <=50K  \n",
       "17096   <=50K  "
      ]
     },
     "execution_count": 17,
     "metadata": {},
     "output_type": "execute_result"
    },
    {
     "data": {
      "application/javascript": [
       "\n",
       "            setTimeout(function() {\n",
       "                var nbb_cell_id = 17;\n",
       "                var nbb_unformatted_code = \"data[data[\\\"occupation\\\"] == \\\" ?\\\"].sample(5)\";\n",
       "                var nbb_formatted_code = \"data[data[\\\"occupation\\\"] == \\\" ?\\\"].sample(5)\";\n",
       "                var nbb_cells = Jupyter.notebook.get_cells();\n",
       "                for (var i = 0; i < nbb_cells.length; ++i) {\n",
       "                    if (nbb_cells[i].input_prompt_number == nbb_cell_id) {\n",
       "                        if (nbb_cells[i].get_text() == nbb_unformatted_code) {\n",
       "                             nbb_cells[i].set_text(nbb_formatted_code);\n",
       "                        }\n",
       "                        break;\n",
       "                    }\n",
       "                }\n",
       "            }, 500);\n",
       "            "
      ],
      "text/plain": [
       "<IPython.core.display.Javascript object>"
      ]
     },
     "metadata": {},
     "output_type": "display_data"
    }
   ],
   "source": [
    "data[data[\"occupation\"] == \" ?\"].sample(5)"
   ]
  },
  {
   "cell_type": "code",
   "execution_count": 18,
   "id": "plastic-measure",
   "metadata": {},
   "outputs": [
    {
     "data": {
      "text/plain": [
       " ?               1836\n",
       " Never-worked       7\n",
       "Name: workclass, dtype: int64"
      ]
     },
     "execution_count": 18,
     "metadata": {},
     "output_type": "execute_result"
    },
    {
     "data": {
      "application/javascript": [
       "\n",
       "            setTimeout(function() {\n",
       "                var nbb_cell_id = 18;\n",
       "                var nbb_unformatted_code = \"data[data[\\\"occupation\\\"] == \\\" ?\\\"][\\\"workclass\\\"].value_counts()\";\n",
       "                var nbb_formatted_code = \"data[data[\\\"occupation\\\"] == \\\" ?\\\"][\\\"workclass\\\"].value_counts()\";\n",
       "                var nbb_cells = Jupyter.notebook.get_cells();\n",
       "                for (var i = 0; i < nbb_cells.length; ++i) {\n",
       "                    if (nbb_cells[i].input_prompt_number == nbb_cell_id) {\n",
       "                        if (nbb_cells[i].get_text() == nbb_unformatted_code) {\n",
       "                             nbb_cells[i].set_text(nbb_formatted_code);\n",
       "                        }\n",
       "                        break;\n",
       "                    }\n",
       "                }\n",
       "            }, 500);\n",
       "            "
      ],
      "text/plain": [
       "<IPython.core.display.Javascript object>"
      ]
     },
     "metadata": {},
     "output_type": "display_data"
    }
   ],
   "source": [
    "data[data[\"occupation\"] == \" ?\"][\"workclass\"].value_counts()"
   ]
  },
  {
   "cell_type": "markdown",
   "id": "relevant-gallery",
   "metadata": {},
   "source": [
    "* We observe the same pattern here, where occupation is ? most of the values in workclass are ?."
   ]
  },
  {
   "cell_type": "code",
   "execution_count": 19,
   "id": "micro-plaintiff",
   "metadata": {},
   "outputs": [
    {
     "data": {
      "text/plain": [
       " United-States         1666\n",
       " Mexico                  33\n",
       " ?                       27\n",
       " Canada                  14\n",
       " Philippines             10\n",
       " South                    9\n",
       " Germany                  9\n",
       " Taiwan                   9\n",
       " China                    7\n",
       " El-Salvador              6\n",
       " Puerto-Rico              5\n",
       " Italy                    5\n",
       " Poland                   4\n",
       " England                  4\n",
       " Vietnam                  3\n",
       " Japan                    3\n",
       " Portugal                 3\n",
       " Columbia                 3\n",
       " Dominican-Republic       3\n",
       " Cuba                     3\n",
       " Haiti                    2\n",
       " France                   2\n",
       " Peru                     1\n",
       " Nicaragua                1\n",
       " Hong                     1\n",
       " Honduras                 1\n",
       " Jamaica                  1\n",
       " Trinadad&Tobago          1\n",
       " Guatemala                1\n",
       " Iran                     1\n",
       " Ecuador                  1\n",
       " Scotland                 1\n",
       " Laos                     1\n",
       " Thailand                 1\n",
       " Cambodia                 1\n",
       "Name: native_country, dtype: int64"
      ]
     },
     "execution_count": 19,
     "metadata": {},
     "output_type": "execute_result"
    },
    {
     "data": {
      "application/javascript": [
       "\n",
       "            setTimeout(function() {\n",
       "                var nbb_cell_id = 19;\n",
       "                var nbb_unformatted_code = \"data[data[\\\"occupation\\\"] == \\\" ?\\\"][\\\"native_country\\\"].value_counts()\";\n",
       "                var nbb_formatted_code = \"data[data[\\\"occupation\\\"] == \\\" ?\\\"][\\\"native_country\\\"].value_counts()\";\n",
       "                var nbb_cells = Jupyter.notebook.get_cells();\n",
       "                for (var i = 0; i < nbb_cells.length; ++i) {\n",
       "                    if (nbb_cells[i].input_prompt_number == nbb_cell_id) {\n",
       "                        if (nbb_cells[i].get_text() == nbb_unformatted_code) {\n",
       "                             nbb_cells[i].set_text(nbb_formatted_code);\n",
       "                        }\n",
       "                        break;\n",
       "                    }\n",
       "                }\n",
       "            }, 500);\n",
       "            "
      ],
      "text/plain": [
       "<IPython.core.display.Javascript object>"
      ]
     },
     "metadata": {},
     "output_type": "display_data"
    }
   ],
   "source": [
    "data[data[\"occupation\"] == \" ?\"][\"native_country\"].value_counts()"
   ]
  },
  {
   "cell_type": "markdown",
   "id": "loaded-comparison",
   "metadata": {},
   "source": [
    "* The native_country column has other countries where the observations are ? corresponding to ?s in occupation."
   ]
  },
  {
   "cell_type": "markdown",
   "id": "cooked-fireplace",
   "metadata": {},
   "source": [
    "#### native_country"
   ]
  },
  {
   "cell_type": "code",
   "execution_count": 20,
   "id": "sacred-pakistan",
   "metadata": {},
   "outputs": [
    {
     "data": {
      "text/html": [
       "<div>\n",
       "<style scoped>\n",
       "    .dataframe tbody tr th:only-of-type {\n",
       "        vertical-align: middle;\n",
       "    }\n",
       "\n",
       "    .dataframe tbody tr th {\n",
       "        vertical-align: top;\n",
       "    }\n",
       "\n",
       "    .dataframe thead th {\n",
       "        text-align: right;\n",
       "    }\n",
       "</style>\n",
       "<table border=\"1\" class=\"dataframe\">\n",
       "  <thead>\n",
       "    <tr style=\"text-align: right;\">\n",
       "      <th></th>\n",
       "      <th>age</th>\n",
       "      <th>workclass</th>\n",
       "      <th>fnlwgt</th>\n",
       "      <th>education</th>\n",
       "      <th>education_no_of_years</th>\n",
       "      <th>marital_status</th>\n",
       "      <th>occupation</th>\n",
       "      <th>race</th>\n",
       "      <th>sex</th>\n",
       "      <th>capital_gain</th>\n",
       "      <th>capital_loss</th>\n",
       "      <th>working_hours_per_week</th>\n",
       "      <th>native_country</th>\n",
       "      <th>salary</th>\n",
       "    </tr>\n",
       "  </thead>\n",
       "  <tbody>\n",
       "    <tr>\n",
       "      <th>8365</th>\n",
       "      <td>34</td>\n",
       "      <td>Private</td>\n",
       "      <td>241360</td>\n",
       "      <td>HS-grad</td>\n",
       "      <td>9</td>\n",
       "      <td>Married-civ-spouse</td>\n",
       "      <td>Prof-specialty</td>\n",
       "      <td>White</td>\n",
       "      <td>Male</td>\n",
       "      <td>0</td>\n",
       "      <td>0</td>\n",
       "      <td>40</td>\n",
       "      <td>?</td>\n",
       "      <td>&lt;=50K</td>\n",
       "    </tr>\n",
       "    <tr>\n",
       "      <th>28835</th>\n",
       "      <td>46</td>\n",
       "      <td>Private</td>\n",
       "      <td>149161</td>\n",
       "      <td>Some-college</td>\n",
       "      <td>10</td>\n",
       "      <td>Married-civ-spouse</td>\n",
       "      <td>Exec-managerial</td>\n",
       "      <td>Asian-Pac-Islander</td>\n",
       "      <td>Male</td>\n",
       "      <td>0</td>\n",
       "      <td>0</td>\n",
       "      <td>60</td>\n",
       "      <td>?</td>\n",
       "      <td>&lt;=50K</td>\n",
       "    </tr>\n",
       "    <tr>\n",
       "      <th>6186</th>\n",
       "      <td>43</td>\n",
       "      <td>Private</td>\n",
       "      <td>163215</td>\n",
       "      <td>Bachelors</td>\n",
       "      <td>13</td>\n",
       "      <td>Married-civ-spouse</td>\n",
       "      <td>Other-service</td>\n",
       "      <td>White</td>\n",
       "      <td>Female</td>\n",
       "      <td>0</td>\n",
       "      <td>0</td>\n",
       "      <td>35</td>\n",
       "      <td>?</td>\n",
       "      <td>&gt;50K</td>\n",
       "    </tr>\n",
       "    <tr>\n",
       "      <th>5185</th>\n",
       "      <td>21</td>\n",
       "      <td>Private</td>\n",
       "      <td>206861</td>\n",
       "      <td>Some-college</td>\n",
       "      <td>10</td>\n",
       "      <td>Never-married</td>\n",
       "      <td>Sales</td>\n",
       "      <td>White</td>\n",
       "      <td>Male</td>\n",
       "      <td>0</td>\n",
       "      <td>0</td>\n",
       "      <td>20</td>\n",
       "      <td>?</td>\n",
       "      <td>&lt;=50K</td>\n",
       "    </tr>\n",
       "    <tr>\n",
       "      <th>20333</th>\n",
       "      <td>69</td>\n",
       "      <td>?</td>\n",
       "      <td>199591</td>\n",
       "      <td>Prof-school</td>\n",
       "      <td>15</td>\n",
       "      <td>Married-civ-spouse</td>\n",
       "      <td>?</td>\n",
       "      <td>White</td>\n",
       "      <td>Female</td>\n",
       "      <td>0</td>\n",
       "      <td>0</td>\n",
       "      <td>25</td>\n",
       "      <td>?</td>\n",
       "      <td>&lt;=50K</td>\n",
       "    </tr>\n",
       "  </tbody>\n",
       "</table>\n",
       "</div>"
      ],
      "text/plain": [
       "       age workclass  fnlwgt      education  education_no_of_years  \\\n",
       "8365    34   Private  241360        HS-grad                      9   \n",
       "28835   46   Private  149161   Some-college                     10   \n",
       "6186    43   Private  163215      Bachelors                     13   \n",
       "5185    21   Private  206861   Some-college                     10   \n",
       "20333   69         ?  199591    Prof-school                     15   \n",
       "\n",
       "            marital_status        occupation                 race      sex  \\\n",
       "8365    Married-civ-spouse    Prof-specialty                White     Male   \n",
       "28835   Married-civ-spouse   Exec-managerial   Asian-Pac-Islander     Male   \n",
       "6186    Married-civ-spouse     Other-service                White   Female   \n",
       "5185         Never-married             Sales                White     Male   \n",
       "20333   Married-civ-spouse                 ?                White   Female   \n",
       "\n",
       "       capital_gain  capital_loss  working_hours_per_week native_country  \\\n",
       "8365              0             0                      40              ?   \n",
       "28835             0             0                      60              ?   \n",
       "6186              0             0                      35              ?   \n",
       "5185              0             0                      20              ?   \n",
       "20333             0             0                      25              ?   \n",
       "\n",
       "       salary  \n",
       "8365    <=50K  \n",
       "28835   <=50K  \n",
       "6186     >50K  \n",
       "5185    <=50K  \n",
       "20333   <=50K  "
      ]
     },
     "execution_count": 20,
     "metadata": {},
     "output_type": "execute_result"
    },
    {
     "data": {
      "application/javascript": [
       "\n",
       "            setTimeout(function() {\n",
       "                var nbb_cell_id = 20;\n",
       "                var nbb_unformatted_code = \"data[data[\\\"native_country\\\"] == \\\" ?\\\"].sample(5)\";\n",
       "                var nbb_formatted_code = \"data[data[\\\"native_country\\\"] == \\\" ?\\\"].sample(5)\";\n",
       "                var nbb_cells = Jupyter.notebook.get_cells();\n",
       "                for (var i = 0; i < nbb_cells.length; ++i) {\n",
       "                    if (nbb_cells[i].input_prompt_number == nbb_cell_id) {\n",
       "                        if (nbb_cells[i].get_text() == nbb_unformatted_code) {\n",
       "                             nbb_cells[i].set_text(nbb_formatted_code);\n",
       "                        }\n",
       "                        break;\n",
       "                    }\n",
       "                }\n",
       "            }, 500);\n",
       "            "
      ],
      "text/plain": [
       "<IPython.core.display.Javascript object>"
      ]
     },
     "metadata": {},
     "output_type": "display_data"
    }
   ],
   "source": [
    "data[data[\"native_country\"] == \" ?\"].sample(5)"
   ]
  },
  {
   "cell_type": "code",
   "execution_count": 21,
   "id": "olympic-adolescent",
   "metadata": {},
   "outputs": [
    {
     "data": {
      "text/plain": [
       " Prof-specialty       102\n",
       " Other-service         83\n",
       " Exec-managerial       74\n",
       " Craft-repair          69\n",
       " Sales                 66\n",
       " Adm-clerical          49\n",
       " Machine-op-inspct     36\n",
       " ?                     27\n",
       " Transport-moving      25\n",
       " Handlers-cleaners     20\n",
       " Tech-support          16\n",
       " Priv-house-serv        6\n",
       " Protective-serv        5\n",
       " Farming-fishing        5\n",
       "Name: occupation, dtype: int64"
      ]
     },
     "execution_count": 21,
     "metadata": {},
     "output_type": "execute_result"
    },
    {
     "data": {
      "application/javascript": [
       "\n",
       "            setTimeout(function() {\n",
       "                var nbb_cell_id = 21;\n",
       "                var nbb_unformatted_code = \"data[data[\\\"native_country\\\"] == \\\" ?\\\"][\\\"occupation\\\"].value_counts()\";\n",
       "                var nbb_formatted_code = \"data[data[\\\"native_country\\\"] == \\\" ?\\\"][\\\"occupation\\\"].value_counts()\";\n",
       "                var nbb_cells = Jupyter.notebook.get_cells();\n",
       "                for (var i = 0; i < nbb_cells.length; ++i) {\n",
       "                    if (nbb_cells[i].input_prompt_number == nbb_cell_id) {\n",
       "                        if (nbb_cells[i].get_text() == nbb_unformatted_code) {\n",
       "                             nbb_cells[i].set_text(nbb_formatted_code);\n",
       "                        }\n",
       "                        break;\n",
       "                    }\n",
       "                }\n",
       "            }, 500);\n",
       "            "
      ],
      "text/plain": [
       "<IPython.core.display.Javascript object>"
      ]
     },
     "metadata": {},
     "output_type": "display_data"
    }
   ],
   "source": [
    "data[data[\"native_country\"] == \" ?\"][\"occupation\"].value_counts()"
   ]
  },
  {
   "cell_type": "code",
   "execution_count": 22,
   "id": "civilian-shepherd",
   "metadata": {},
   "outputs": [
    {
     "data": {
      "text/plain": [
       " Private             410\n",
       " Self-emp-inc         42\n",
       " Self-emp-not-inc     42\n",
       " ?                    27\n",
       " Local-gov            26\n",
       " State-gov            19\n",
       " Federal-gov          17\n",
       "Name: workclass, dtype: int64"
      ]
     },
     "execution_count": 22,
     "metadata": {},
     "output_type": "execute_result"
    },
    {
     "data": {
      "application/javascript": [
       "\n",
       "            setTimeout(function() {\n",
       "                var nbb_cell_id = 22;\n",
       "                var nbb_unformatted_code = \"data[data[\\\"native_country\\\"] == \\\" ?\\\"][\\\"workclass\\\"].value_counts()\";\n",
       "                var nbb_formatted_code = \"data[data[\\\"native_country\\\"] == \\\" ?\\\"][\\\"workclass\\\"].value_counts()\";\n",
       "                var nbb_cells = Jupyter.notebook.get_cells();\n",
       "                for (var i = 0; i < nbb_cells.length; ++i) {\n",
       "                    if (nbb_cells[i].input_prompt_number == nbb_cell_id) {\n",
       "                        if (nbb_cells[i].get_text() == nbb_unformatted_code) {\n",
       "                             nbb_cells[i].set_text(nbb_formatted_code);\n",
       "                        }\n",
       "                        break;\n",
       "                    }\n",
       "                }\n",
       "            }, 500);\n",
       "            "
      ],
      "text/plain": [
       "<IPython.core.display.Javascript object>"
      ]
     },
     "metadata": {},
     "output_type": "display_data"
    }
   ],
   "source": [
    "data[data[\"native_country\"] == \" ?\"][\"workclass\"].value_counts()"
   ]
  },
  {
   "cell_type": "markdown",
   "id": "freelance-lottery",
   "metadata": {},
   "source": [
    "* There is no clear pattern here."
   ]
  },
  {
   "cell_type": "markdown",
   "id": "waiting-passport",
   "metadata": {},
   "source": [
    "#### Observations:\n",
    "* We observe that all the observations where workclass = ? the values in the occupation are ? \n",
    "* The strong pattern between workclass and occupation makes sense as both of these variables capture similar information.\n",
    "* There is no strong correlation of ? observations in occupation and workclass with native_country.\n",
    "* For now we will replace these ?'s with the 'unknown' category."
   ]
  },
  {
   "cell_type": "markdown",
   "id": "particular-shannon",
   "metadata": {},
   "source": [
    "#### Replacing ? with 'Unknown'"
   ]
  },
  {
   "cell_type": "code",
   "execution_count": 23,
   "id": "leading-tracker",
   "metadata": {
    "id": "d-SZuewJ9WJ-"
   },
   "outputs": [
    {
     "data": {
      "application/javascript": [
       "\n",
       "            setTimeout(function() {\n",
       "                var nbb_cell_id = 23;\n",
       "                var nbb_unformatted_code = \"data.workclass = data.workclass.apply(lambda x: \\\"Unknown\\\" if x == \\\" ?\\\" else x)\\ndata.native_country = data.native_country.apply(lambda x: \\\"Unknown\\\" if x == \\\" ?\\\" else x)\\ndata.occupation = data.occupation.apply(lambda x: \\\"Unknown\\\" if x == \\\" ?\\\" else x)\";\n",
       "                var nbb_formatted_code = \"data.workclass = data.workclass.apply(lambda x: \\\"Unknown\\\" if x == \\\" ?\\\" else x)\\ndata.native_country = data.native_country.apply(lambda x: \\\"Unknown\\\" if x == \\\" ?\\\" else x)\\ndata.occupation = data.occupation.apply(lambda x: \\\"Unknown\\\" if x == \\\" ?\\\" else x)\";\n",
       "                var nbb_cells = Jupyter.notebook.get_cells();\n",
       "                for (var i = 0; i < nbb_cells.length; ++i) {\n",
       "                    if (nbb_cells[i].input_prompt_number == nbb_cell_id) {\n",
       "                        if (nbb_cells[i].get_text() == nbb_unformatted_code) {\n",
       "                             nbb_cells[i].set_text(nbb_formatted_code);\n",
       "                        }\n",
       "                        break;\n",
       "                    }\n",
       "                }\n",
       "            }, 500);\n",
       "            "
      ],
      "text/plain": [
       "<IPython.core.display.Javascript object>"
      ]
     },
     "metadata": {},
     "output_type": "display_data"
    }
   ],
   "source": [
    "data.workclass = data.workclass.apply(lambda x: \"Unknown\" if x == \" ?\" else x)\n",
    "data.native_country = data.native_country.apply(lambda x: \"Unknown\" if x == \" ?\" else x)\n",
    "data.occupation = data.occupation.apply(lambda x: \"Unknown\" if x == \" ?\" else x)"
   ]
  },
  {
   "cell_type": "markdown",
   "id": "dressed-yemen",
   "metadata": {},
   "source": [
    "#### Mapping countries to continents to reduce the number of unique values."
   ]
  },
  {
   "cell_type": "code",
   "execution_count": 24,
   "id": "unique-handling",
   "metadata": {},
   "outputs": [
    {
     "data": {
      "text/plain": [
       "42"
      ]
     },
     "execution_count": 24,
     "metadata": {},
     "output_type": "execute_result"
    },
    {
     "data": {
      "application/javascript": [
       "\n",
       "            setTimeout(function() {\n",
       "                var nbb_cell_id = 24;\n",
       "                var nbb_unformatted_code = \"data.native_country.nunique()\";\n",
       "                var nbb_formatted_code = \"data.native_country.nunique()\";\n",
       "                var nbb_cells = Jupyter.notebook.get_cells();\n",
       "                for (var i = 0; i < nbb_cells.length; ++i) {\n",
       "                    if (nbb_cells[i].input_prompt_number == nbb_cell_id) {\n",
       "                        if (nbb_cells[i].get_text() == nbb_unformatted_code) {\n",
       "                             nbb_cells[i].set_text(nbb_formatted_code);\n",
       "                        }\n",
       "                        break;\n",
       "                    }\n",
       "                }\n",
       "            }, 500);\n",
       "            "
      ],
      "text/plain": [
       "<IPython.core.display.Javascript object>"
      ]
     },
     "metadata": {},
     "output_type": "display_data"
    }
   ],
   "source": [
    "data.native_country.nunique()"
   ]
  },
  {
   "cell_type": "markdown",
   "id": "liquid-sodium",
   "metadata": {
    "colab": {
     "base_uri": "https://localhost:8080/"
    },
    "id": "0ZSir3jF9WKA",
    "outputId": "e0ac41c1-de06-4599-c6f1-3f3f8447cf10"
   },
   "source": [
    "* There are 42 distinct countries in the data set, we can reduce them to their respective continents as this will help us reduce the dimension of data."
   ]
  },
  {
   "cell_type": "code",
   "execution_count": 25,
   "id": "structured-steel",
   "metadata": {
    "id": "JWuabviJ9WKD"
   },
   "outputs": [
    {
     "data": {
      "application/javascript": [
       "\n",
       "            setTimeout(function() {\n",
       "                var nbb_cell_id = 25;\n",
       "                var nbb_unformatted_code = \"data.native_country = data.native_country.str.replace(\\n    \\\" \\\", \\\"\\\"\\n)  # remove empty spaces from strings\";\n",
       "                var nbb_formatted_code = \"data.native_country = data.native_country.str.replace(\\n    \\\" \\\", \\\"\\\"\\n)  # remove empty spaces from strings\";\n",
       "                var nbb_cells = Jupyter.notebook.get_cells();\n",
       "                for (var i = 0; i < nbb_cells.length; ++i) {\n",
       "                    if (nbb_cells[i].input_prompt_number == nbb_cell_id) {\n",
       "                        if (nbb_cells[i].get_text() == nbb_unformatted_code) {\n",
       "                             nbb_cells[i].set_text(nbb_formatted_code);\n",
       "                        }\n",
       "                        break;\n",
       "                    }\n",
       "                }\n",
       "            }, 500);\n",
       "            "
      ],
      "text/plain": [
       "<IPython.core.display.Javascript object>"
      ]
     },
     "metadata": {},
     "output_type": "display_data"
    }
   ],
   "source": [
    "data.native_country = data.native_country.str.replace(\n",
    "    \" \", \"\"\n",
    ")  # remove empty spaces from strings"
   ]
  },
  {
   "cell_type": "code",
   "execution_count": 26,
   "id": "informational-advertising",
   "metadata": {
    "id": "RaVHYsJd9WKF"
   },
   "outputs": [
    {
     "data": {
      "application/javascript": [
       "\n",
       "            setTimeout(function() {\n",
       "                var nbb_cell_id = 26;\n",
       "                var nbb_unformatted_code = \"north_america = [\\n    \\\"Canada\\\",\\n    \\\"Cuba\\\",\\n    \\\"Dominican-Republic\\\",\\n    \\\"El-Salvador\\\",\\n    \\\"Guatemala\\\",\\n    \\\"Haiti\\\",\\n    \\\"Honduras\\\",\\n    \\\"Jamaica\\\",\\n    \\\"Mexico\\\",\\n    \\\"Nicaragua\\\",\\n    \\\"Outlying-US(Guam-USVI-etc)\\\",\\n    \\\"Puerto-Rico\\\",\\n    \\\"Trinadad&Tobago\\\",\\n    \\\"United-States\\\",\\n]\\nasia = [\\n    \\\"Cambodia\\\",\\n    \\\"China\\\",\\n    \\\"Hong\\\",\\n    \\\"India\\\",\\n    \\\"Iran\\\",\\n    \\\"Japan\\\",\\n    \\\"Laos\\\",\\n    \\\"Philippines\\\",\\n    \\\"Taiwan\\\",\\n    \\\"Thailand\\\",\\n    \\\"Vietnam\\\",\\n]\\nsouth_america = [\\\"Columbia\\\", \\\"Ecuador\\\", \\\"Peru\\\"]\\neurope = [\\n    \\\"England\\\",\\n    \\\"France\\\",\\n    \\\"Germany\\\",\\n    \\\"Greece\\\",\\n    \\\"Holand-Netherlands\\\",\\n    \\\"Hungary\\\",\\n    \\\"Ireland\\\",\\n    \\\"Italy\\\",\\n    \\\"Poland\\\",\\n    \\\"Portugal\\\",\\n    \\\"Scotland\\\",\\n    \\\"Yugoslavia\\\",\\n]\\nother = [\\\"South\\\", \\\"Unknown\\\", \\\"?\\\"]\";\n",
       "                var nbb_formatted_code = \"north_america = [\\n    \\\"Canada\\\",\\n    \\\"Cuba\\\",\\n    \\\"Dominican-Republic\\\",\\n    \\\"El-Salvador\\\",\\n    \\\"Guatemala\\\",\\n    \\\"Haiti\\\",\\n    \\\"Honduras\\\",\\n    \\\"Jamaica\\\",\\n    \\\"Mexico\\\",\\n    \\\"Nicaragua\\\",\\n    \\\"Outlying-US(Guam-USVI-etc)\\\",\\n    \\\"Puerto-Rico\\\",\\n    \\\"Trinadad&Tobago\\\",\\n    \\\"United-States\\\",\\n]\\nasia = [\\n    \\\"Cambodia\\\",\\n    \\\"China\\\",\\n    \\\"Hong\\\",\\n    \\\"India\\\",\\n    \\\"Iran\\\",\\n    \\\"Japan\\\",\\n    \\\"Laos\\\",\\n    \\\"Philippines\\\",\\n    \\\"Taiwan\\\",\\n    \\\"Thailand\\\",\\n    \\\"Vietnam\\\",\\n]\\nsouth_america = [\\\"Columbia\\\", \\\"Ecuador\\\", \\\"Peru\\\"]\\neurope = [\\n    \\\"England\\\",\\n    \\\"France\\\",\\n    \\\"Germany\\\",\\n    \\\"Greece\\\",\\n    \\\"Holand-Netherlands\\\",\\n    \\\"Hungary\\\",\\n    \\\"Ireland\\\",\\n    \\\"Italy\\\",\\n    \\\"Poland\\\",\\n    \\\"Portugal\\\",\\n    \\\"Scotland\\\",\\n    \\\"Yugoslavia\\\",\\n]\\nother = [\\\"South\\\", \\\"Unknown\\\", \\\"?\\\"]\";\n",
       "                var nbb_cells = Jupyter.notebook.get_cells();\n",
       "                for (var i = 0; i < nbb_cells.length; ++i) {\n",
       "                    if (nbb_cells[i].input_prompt_number == nbb_cell_id) {\n",
       "                        if (nbb_cells[i].get_text() == nbb_unformatted_code) {\n",
       "                             nbb_cells[i].set_text(nbb_formatted_code);\n",
       "                        }\n",
       "                        break;\n",
       "                    }\n",
       "                }\n",
       "            }, 500);\n",
       "            "
      ],
      "text/plain": [
       "<IPython.core.display.Javascript object>"
      ]
     },
     "metadata": {},
     "output_type": "display_data"
    }
   ],
   "source": [
    "north_america = [\n",
    "    \"Canada\",\n",
    "    \"Cuba\",\n",
    "    \"Dominican-Republic\",\n",
    "    \"El-Salvador\",\n",
    "    \"Guatemala\",\n",
    "    \"Haiti\",\n",
    "    \"Honduras\",\n",
    "    \"Jamaica\",\n",
    "    \"Mexico\",\n",
    "    \"Nicaragua\",\n",
    "    \"Outlying-US(Guam-USVI-etc)\",\n",
    "    \"Puerto-Rico\",\n",
    "    \"Trinadad&Tobago\",\n",
    "    \"United-States\",\n",
    "]\n",
    "asia = [\n",
    "    \"Cambodia\",\n",
    "    \"China\",\n",
    "    \"Hong\",\n",
    "    \"India\",\n",
    "    \"Iran\",\n",
    "    \"Japan\",\n",
    "    \"Laos\",\n",
    "    \"Philippines\",\n",
    "    \"Taiwan\",\n",
    "    \"Thailand\",\n",
    "    \"Vietnam\",\n",
    "]\n",
    "south_america = [\"Columbia\", \"Ecuador\", \"Peru\"]\n",
    "europe = [\n",
    "    \"England\",\n",
    "    \"France\",\n",
    "    \"Germany\",\n",
    "    \"Greece\",\n",
    "    \"Holand-Netherlands\",\n",
    "    \"Hungary\",\n",
    "    \"Ireland\",\n",
    "    \"Italy\",\n",
    "    \"Poland\",\n",
    "    \"Portugal\",\n",
    "    \"Scotland\",\n",
    "    \"Yugoslavia\",\n",
    "]\n",
    "other = [\"South\", \"Unknown\", \"?\"]"
   ]
  },
  {
   "cell_type": "code",
   "execution_count": 27,
   "id": "latest-private",
   "metadata": {
    "id": "ICxgTn2t9WKH"
   },
   "outputs": [
    {
     "data": {
      "application/javascript": [
       "\n",
       "            setTimeout(function() {\n",
       "                var nbb_cell_id = 27;\n",
       "                var nbb_unformatted_code = \"def region_combining(x):\\n    if x in north_america:\\n        return \\\"north_america\\\"\\n    elif x in asia:\\n        return \\\"asia\\\"\\n    elif x in south_america:\\n        return \\\"south_america\\\"\\n    elif x in europe:\\n        return \\\"europe\\\"\\n    elif x in other:\\n        return \\\"other\\\"\\n    else:\\n        return x\";\n",
       "                var nbb_formatted_code = \"def region_combining(x):\\n    if x in north_america:\\n        return \\\"north_america\\\"\\n    elif x in asia:\\n        return \\\"asia\\\"\\n    elif x in south_america:\\n        return \\\"south_america\\\"\\n    elif x in europe:\\n        return \\\"europe\\\"\\n    elif x in other:\\n        return \\\"other\\\"\\n    else:\\n        return x\";\n",
       "                var nbb_cells = Jupyter.notebook.get_cells();\n",
       "                for (var i = 0; i < nbb_cells.length; ++i) {\n",
       "                    if (nbb_cells[i].input_prompt_number == nbb_cell_id) {\n",
       "                        if (nbb_cells[i].get_text() == nbb_unformatted_code) {\n",
       "                             nbb_cells[i].set_text(nbb_formatted_code);\n",
       "                        }\n",
       "                        break;\n",
       "                    }\n",
       "                }\n",
       "            }, 500);\n",
       "            "
      ],
      "text/plain": [
       "<IPython.core.display.Javascript object>"
      ]
     },
     "metadata": {},
     "output_type": "display_data"
    }
   ],
   "source": [
    "def region_combining(x):\n",
    "    if x in north_america:\n",
    "        return \"north_america\"\n",
    "    elif x in asia:\n",
    "        return \"asia\"\n",
    "    elif x in south_america:\n",
    "        return \"south_america\"\n",
    "    elif x in europe:\n",
    "        return \"europe\"\n",
    "    elif x in other:\n",
    "        return \"other\"\n",
    "    else:\n",
    "        return x"
   ]
  },
  {
   "cell_type": "code",
   "execution_count": 28,
   "id": "prerequisite-owner",
   "metadata": {
    "id": "NnJUQlYm9WKM"
   },
   "outputs": [
    {
     "data": {
      "application/javascript": [
       "\n",
       "            setTimeout(function() {\n",
       "                var nbb_cell_id = 28;\n",
       "                var nbb_unformatted_code = \"data[\\\"native_country\\\"] = data[\\\"native_country\\\"].apply(region_combining)\";\n",
       "                var nbb_formatted_code = \"data[\\\"native_country\\\"] = data[\\\"native_country\\\"].apply(region_combining)\";\n",
       "                var nbb_cells = Jupyter.notebook.get_cells();\n",
       "                for (var i = 0; i < nbb_cells.length; ++i) {\n",
       "                    if (nbb_cells[i].input_prompt_number == nbb_cell_id) {\n",
       "                        if (nbb_cells[i].get_text() == nbb_unformatted_code) {\n",
       "                             nbb_cells[i].set_text(nbb_formatted_code);\n",
       "                        }\n",
       "                        break;\n",
       "                    }\n",
       "                }\n",
       "            }, 500);\n",
       "            "
      ],
      "text/plain": [
       "<IPython.core.display.Javascript object>"
      ]
     },
     "metadata": {},
     "output_type": "display_data"
    }
   ],
   "source": [
    "data[\"native_country\"] = data[\"native_country\"].apply(region_combining)"
   ]
  },
  {
   "cell_type": "code",
   "execution_count": 29,
   "id": "behavioral-electronics",
   "metadata": {},
   "outputs": [
    {
     "name": "stdout",
     "output_type": "stream",
     "text": [
      "Distinct values in Native Country column: 5\n"
     ]
    },
    {
     "data": {
      "application/javascript": [
       "\n",
       "            setTimeout(function() {\n",
       "                var nbb_cell_id = 29;\n",
       "                var nbb_unformatted_code = \"print(\\\"Distinct values in Native Country column:\\\", data.native_country.nunique())\";\n",
       "                var nbb_formatted_code = \"print(\\\"Distinct values in Native Country column:\\\", data.native_country.nunique())\";\n",
       "                var nbb_cells = Jupyter.notebook.get_cells();\n",
       "                for (var i = 0; i < nbb_cells.length; ++i) {\n",
       "                    if (nbb_cells[i].input_prompt_number == nbb_cell_id) {\n",
       "                        if (nbb_cells[i].get_text() == nbb_unformatted_code) {\n",
       "                             nbb_cells[i].set_text(nbb_formatted_code);\n",
       "                        }\n",
       "                        break;\n",
       "                    }\n",
       "                }\n",
       "            }, 500);\n",
       "            "
      ],
      "text/plain": [
       "<IPython.core.display.Javascript object>"
      ]
     },
     "metadata": {},
     "output_type": "display_data"
    }
   ],
   "source": [
    "print(\"Distinct values in Native Country column:\", data.native_country.nunique())"
   ]
  },
  {
   "cell_type": "markdown",
   "id": "short-elimination",
   "metadata": {},
   "source": [
    "#### Reducing the number of distinct values in marital_status"
   ]
  },
  {
   "cell_type": "code",
   "execution_count": 30,
   "id": "wanted-front",
   "metadata": {},
   "outputs": [
    {
     "data": {
      "text/plain": [
       "array([' Never-married', ' Married-civ-spouse', ' Divorced',\n",
       "       ' Married-spouse-absent', ' Separated', ' Married-AF-spouse',\n",
       "       ' Widowed'], dtype=object)"
      ]
     },
     "execution_count": 30,
     "metadata": {},
     "output_type": "execute_result"
    },
    {
     "data": {
      "application/javascript": [
       "\n",
       "            setTimeout(function() {\n",
       "                var nbb_cell_id = 30;\n",
       "                var nbb_unformatted_code = \"data.marital_status.unique()\";\n",
       "                var nbb_formatted_code = \"data.marital_status.unique()\";\n",
       "                var nbb_cells = Jupyter.notebook.get_cells();\n",
       "                for (var i = 0; i < nbb_cells.length; ++i) {\n",
       "                    if (nbb_cells[i].input_prompt_number == nbb_cell_id) {\n",
       "                        if (nbb_cells[i].get_text() == nbb_unformatted_code) {\n",
       "                             nbb_cells[i].set_text(nbb_formatted_code);\n",
       "                        }\n",
       "                        break;\n",
       "                    }\n",
       "                }\n",
       "            }, 500);\n",
       "            "
      ],
      "text/plain": [
       "<IPython.core.display.Javascript object>"
      ]
     },
     "metadata": {},
     "output_type": "display_data"
    }
   ],
   "source": [
    "data.marital_status.unique()"
   ]
  },
  {
   "cell_type": "markdown",
   "id": "banned-affiliate",
   "metadata": {},
   "source": [
    "We can reduce these values into the following groups:\n",
    "* Married\n",
    "* Not-Married\n",
    "* Never-Married"
   ]
  },
  {
   "cell_type": "code",
   "execution_count": 31,
   "id": "furnished-grain",
   "metadata": {
    "id": "8dnUp7zb9WKO"
   },
   "outputs": [
    {
     "data": {
      "application/javascript": [
       "\n",
       "            setTimeout(function() {\n",
       "                var nbb_cell_id = 31;\n",
       "                var nbb_unformatted_code = \"data.marital_status = data.marital_status.str.replace(\\n    \\\" \\\", \\\"\\\"\\n)  # remove empty spaces from strings\\n\\nmarried = [\\\"Married-civ-spouse\\\", \\\"Married-AF-spouse\\\"]\\nnot_married = [\\\"Divorced\\\", \\\"Separated\\\", \\\"Widowed\\\", \\\"Married-spouse-absent\\\"]\\n\\n\\ndef reduce_marital_status(x):\\n    if x in married:\\n        return \\\"married\\\"\\n    elif x in not_married:\\n        return \\\"not_married\\\"\\n    else:\\n        return x\";\n",
       "                var nbb_formatted_code = \"data.marital_status = data.marital_status.str.replace(\\n    \\\" \\\", \\\"\\\"\\n)  # remove empty spaces from strings\\n\\nmarried = [\\\"Married-civ-spouse\\\", \\\"Married-AF-spouse\\\"]\\nnot_married = [\\\"Divorced\\\", \\\"Separated\\\", \\\"Widowed\\\", \\\"Married-spouse-absent\\\"]\\n\\n\\ndef reduce_marital_status(x):\\n    if x in married:\\n        return \\\"married\\\"\\n    elif x in not_married:\\n        return \\\"not_married\\\"\\n    else:\\n        return x\";\n",
       "                var nbb_cells = Jupyter.notebook.get_cells();\n",
       "                for (var i = 0; i < nbb_cells.length; ++i) {\n",
       "                    if (nbb_cells[i].input_prompt_number == nbb_cell_id) {\n",
       "                        if (nbb_cells[i].get_text() == nbb_unformatted_code) {\n",
       "                             nbb_cells[i].set_text(nbb_formatted_code);\n",
       "                        }\n",
       "                        break;\n",
       "                    }\n",
       "                }\n",
       "            }, 500);\n",
       "            "
      ],
      "text/plain": [
       "<IPython.core.display.Javascript object>"
      ]
     },
     "metadata": {},
     "output_type": "display_data"
    }
   ],
   "source": [
    "data.marital_status = data.marital_status.str.replace(\n",
    "    \" \", \"\"\n",
    ")  # remove empty spaces from strings\n",
    "\n",
    "married = [\"Married-civ-spouse\", \"Married-AF-spouse\"]\n",
    "not_married = [\"Divorced\", \"Separated\", \"Widowed\", \"Married-spouse-absent\"]\n",
    "\n",
    "\n",
    "def reduce_marital_status(x):\n",
    "    if x in married:\n",
    "        return \"married\"\n",
    "    elif x in not_married:\n",
    "        return \"not_married\"\n",
    "    else:\n",
    "        return x"
   ]
  },
  {
   "cell_type": "code",
   "execution_count": 32,
   "id": "conceptual-primary",
   "metadata": {
    "id": "gYG1pieB9WKP"
   },
   "outputs": [
    {
     "data": {
      "application/javascript": [
       "\n",
       "            setTimeout(function() {\n",
       "                var nbb_cell_id = 32;\n",
       "                var nbb_unformatted_code = \"data.marital_status = data.marital_status.apply(reduce_marital_status)\";\n",
       "                var nbb_formatted_code = \"data.marital_status = data.marital_status.apply(reduce_marital_status)\";\n",
       "                var nbb_cells = Jupyter.notebook.get_cells();\n",
       "                for (var i = 0; i < nbb_cells.length; ++i) {\n",
       "                    if (nbb_cells[i].input_prompt_number == nbb_cell_id) {\n",
       "                        if (nbb_cells[i].get_text() == nbb_unformatted_code) {\n",
       "                             nbb_cells[i].set_text(nbb_formatted_code);\n",
       "                        }\n",
       "                        break;\n",
       "                    }\n",
       "                }\n",
       "            }, 500);\n",
       "            "
      ],
      "text/plain": [
       "<IPython.core.display.Javascript object>"
      ]
     },
     "metadata": {},
     "output_type": "display_data"
    }
   ],
   "source": [
    "data.marital_status = data.marital_status.apply(reduce_marital_status)"
   ]
  },
  {
   "cell_type": "code",
   "execution_count": 33,
   "id": "artistic-element",
   "metadata": {
    "colab": {
     "base_uri": "https://localhost:8080/"
    },
    "id": "NDdrqItt9WKS",
    "outputId": "f760d042-5202-402a-9829-c07061fc6b9c"
   },
   "outputs": [
    {
     "data": {
      "text/plain": [
       "array(['Never-married', 'married', 'not_married'], dtype=object)"
      ]
     },
     "execution_count": 33,
     "metadata": {},
     "output_type": "execute_result"
    },
    {
     "data": {
      "application/javascript": [
       "\n",
       "            setTimeout(function() {\n",
       "                var nbb_cell_id = 33;\n",
       "                var nbb_unformatted_code = \"data.marital_status.unique()\";\n",
       "                var nbb_formatted_code = \"data.marital_status.unique()\";\n",
       "                var nbb_cells = Jupyter.notebook.get_cells();\n",
       "                for (var i = 0; i < nbb_cells.length; ++i) {\n",
       "                    if (nbb_cells[i].input_prompt_number == nbb_cell_id) {\n",
       "                        if (nbb_cells[i].get_text() == nbb_unformatted_code) {\n",
       "                             nbb_cells[i].set_text(nbb_formatted_code);\n",
       "                        }\n",
       "                        break;\n",
       "                    }\n",
       "                }\n",
       "            }, 500);\n",
       "            "
      ],
      "text/plain": [
       "<IPython.core.display.Javascript object>"
      ]
     },
     "metadata": {},
     "output_type": "display_data"
    }
   ],
   "source": [
    "data.marital_status.unique()"
   ]
  },
  {
   "cell_type": "markdown",
   "id": "whole-enclosure",
   "metadata": {},
   "source": [
    "* Values have been clubbed into three categories."
   ]
  },
  {
   "cell_type": "markdown",
   "id": "peaceful-header",
   "metadata": {
    "id": "L7Drz5w_9WKV"
   },
   "source": [
    "## Univariate Analysis"
   ]
  },
  {
   "cell_type": "code",
   "execution_count": 34,
   "id": "possible-mathematics",
   "metadata": {
    "id": "hEBzp-zs9WKV"
   },
   "outputs": [
    {
     "data": {
      "application/javascript": [
       "\n",
       "            setTimeout(function() {\n",
       "                var nbb_cell_id = 34;\n",
       "                var nbb_unformatted_code = \"def histogram_boxplot(data, feature, figsize=(12, 7), kde=False, bins=None):\\n    \\\"\\\"\\\"\\n    Boxplot and histogram combined\\n\\n    data: dataframe\\n    feature: dataframe column\\n    figsize: size of figure (default (12,7))\\n    kde: whether to show the density curve (default False)\\n    bins: number of bins for histogram (default None)\\n    \\\"\\\"\\\"\\n    f2, (ax_box2, ax_hist2) = plt.subplots(\\n        nrows=2,  # Number of rows of the subplot grid= 2\\n        sharex=True,  # x-axis will be shared among all subplots\\n        gridspec_kw={\\\"height_ratios\\\": (0.25, 0.75)},\\n        figsize=figsize,\\n    )  # creating the 2 subplots\\n    sns.boxplot(\\n        data=data, x=feature, ax=ax_box2, showmeans=True, color=\\\"violet\\\"\\n    )  # boxplot will be created and a star will indicate the mean value of the column\\n    sns.histplot(\\n        data=data, x=feature, kde=kde, ax=ax_hist2, bins=bins, palette=\\\"winter\\\"\\n    ) if bins else sns.histplot(\\n        data=data, x=feature, kde=kde, ax=ax_hist2\\n    )  # For histogram\\n    ax_hist2.axvline(\\n        data[feature].mean(), color=\\\"green\\\", linestyle=\\\"--\\\"\\n    )  # Add mean to the histogram\\n    ax_hist2.axvline(\\n        data[feature].median(), color=\\\"black\\\", linestyle=\\\"-\\\"\\n    )  # Add median to the histogram\";\n",
       "                var nbb_formatted_code = \"def histogram_boxplot(data, feature, figsize=(12, 7), kde=False, bins=None):\\n    \\\"\\\"\\\"\\n    Boxplot and histogram combined\\n\\n    data: dataframe\\n    feature: dataframe column\\n    figsize: size of figure (default (12,7))\\n    kde: whether to show the density curve (default False)\\n    bins: number of bins for histogram (default None)\\n    \\\"\\\"\\\"\\n    f2, (ax_box2, ax_hist2) = plt.subplots(\\n        nrows=2,  # Number of rows of the subplot grid= 2\\n        sharex=True,  # x-axis will be shared among all subplots\\n        gridspec_kw={\\\"height_ratios\\\": (0.25, 0.75)},\\n        figsize=figsize,\\n    )  # creating the 2 subplots\\n    sns.boxplot(\\n        data=data, x=feature, ax=ax_box2, showmeans=True, color=\\\"violet\\\"\\n    )  # boxplot will be created and a star will indicate the mean value of the column\\n    sns.histplot(\\n        data=data, x=feature, kde=kde, ax=ax_hist2, bins=bins, palette=\\\"winter\\\"\\n    ) if bins else sns.histplot(\\n        data=data, x=feature, kde=kde, ax=ax_hist2\\n    )  # For histogram\\n    ax_hist2.axvline(\\n        data[feature].mean(), color=\\\"green\\\", linestyle=\\\"--\\\"\\n    )  # Add mean to the histogram\\n    ax_hist2.axvline(\\n        data[feature].median(), color=\\\"black\\\", linestyle=\\\"-\\\"\\n    )  # Add median to the histogram\";\n",
       "                var nbb_cells = Jupyter.notebook.get_cells();\n",
       "                for (var i = 0; i < nbb_cells.length; ++i) {\n",
       "                    if (nbb_cells[i].input_prompt_number == nbb_cell_id) {\n",
       "                        if (nbb_cells[i].get_text() == nbb_unformatted_code) {\n",
       "                             nbb_cells[i].set_text(nbb_formatted_code);\n",
       "                        }\n",
       "                        break;\n",
       "                    }\n",
       "                }\n",
       "            }, 500);\n",
       "            "
      ],
      "text/plain": [
       "<IPython.core.display.Javascript object>"
      ]
     },
     "metadata": {},
     "output_type": "display_data"
    }
   ],
   "source": [
    "def histogram_boxplot(data, feature, figsize=(12, 7), kde=False, bins=None):\n",
    "    \"\"\"\n",
    "    Boxplot and histogram combined\n",
    "\n",
    "    data: dataframe\n",
    "    feature: dataframe column\n",
    "    figsize: size of figure (default (12,7))\n",
    "    kde: whether to show the density curve (default False)\n",
    "    bins: number of bins for histogram (default None)\n",
    "    \"\"\"\n",
    "    f2, (ax_box2, ax_hist2) = plt.subplots(\n",
    "        nrows=2,  # Number of rows of the subplot grid= 2\n",
    "        sharex=True,  # x-axis will be shared among all subplots\n",
    "        gridspec_kw={\"height_ratios\": (0.25, 0.75)},\n",
    "        figsize=figsize,\n",
    "    )  # creating the 2 subplots\n",
    "    sns.boxplot(\n",
    "        data=data, x=feature, ax=ax_box2, showmeans=True, color=\"violet\"\n",
    "    )  # boxplot will be created and a star will indicate the mean value of the column\n",
    "    sns.histplot(\n",
    "        data=data, x=feature, kde=kde, ax=ax_hist2, bins=bins, palette=\"winter\"\n",
    "    ) if bins else sns.histplot(\n",
    "        data=data, x=feature, kde=kde, ax=ax_hist2\n",
    "    )  # For histogram\n",
    "    ax_hist2.axvline(\n",
    "        data[feature].mean(), color=\"green\", linestyle=\"--\"\n",
    "    )  # Add mean to the histogram\n",
    "    ax_hist2.axvline(\n",
    "        data[feature].median(), color=\"black\", linestyle=\"-\"\n",
    "    )  # Add median to the histogram"
   ]
  },
  {
   "cell_type": "markdown",
   "id": "earlier-peoples",
   "metadata": {
    "id": "AlEBrVr39WKa"
   },
   "source": [
    "### Observations on fnlwgt"
   ]
  },
  {
   "cell_type": "code",
   "execution_count": 35,
   "id": "appropriate-conversion",
   "metadata": {},
   "outputs": [
    {
     "data": {
      "image/png": "[encoded data removed]",
      "text/plain": [
       "<Figure size 864x504 with 2 Axes>"
      ]
     },
     "metadata": {
      "needs_background": "light"
     },
     "output_type": "display_data"
    },
    {
     "data": {
      "application/javascript": [
       "\n",
       "            setTimeout(function() {\n",
       "                var nbb_cell_id = 35;\n",
       "                var nbb_unformatted_code = \"histogram_boxplot(data, \\\"fnlwgt\\\", bins=100)\";\n",
       "                var nbb_formatted_code = \"histogram_boxplot(data, \\\"fnlwgt\\\", bins=100)\";\n",
       "                var nbb_cells = Jupyter.notebook.get_cells();\n",
       "                for (var i = 0; i < nbb_cells.length; ++i) {\n",
       "                    if (nbb_cells[i].input_prompt_number == nbb_cell_id) {\n",
       "                        if (nbb_cells[i].get_text() == nbb_unformatted_code) {\n",
       "                             nbb_cells[i].set_text(nbb_formatted_code);\n",
       "                        }\n",
       "                        break;\n",
       "                    }\n",
       "                }\n",
       "            }, 500);\n",
       "            "
      ],
      "text/plain": [
       "<IPython.core.display.Javascript object>"
      ]
     },
     "metadata": {},
     "output_type": "display_data"
    }
   ],
   "source": [
    "histogram_boxplot(data, \"fnlwgt\", bins=100)"
   ]
  },
  {
   "cell_type": "markdown",
   "id": "addressed-stationery",
   "metadata": {
    "id": "CC8vyGOh9WKc"
   },
   "source": [
    "* fnlwght is right-skewed. It has lots of outliers on the right side which we can cap."
   ]
  },
  {
   "cell_type": "markdown",
   "id": "fitting-mining",
   "metadata": {
    "id": "dsoZ6CBQ9WKm"
   },
   "source": [
    "### Observations on hours_per_week"
   ]
  },
  {
   "cell_type": "code",
   "execution_count": 36,
   "id": "acting-center",
   "metadata": {
    "colab": {
     "base_uri": "https://localhost:8080/",
     "height": 633
    },
    "id": "PhStxB749WKm",
    "outputId": "7d990ab7-0a70-45a4-e151-3d36d3db45ca"
   },
   "outputs": [
    {
     "data": {
      "image/png": "[encoded data removed]",
      "text/plain": [
       "<Figure size 864x504 with 2 Axes>"
      ]
     },
     "metadata": {
      "needs_background": "light"
     },
     "output_type": "display_data"
    },
    {
     "data": {
      "application/javascript": [
       "\n",
       "            setTimeout(function() {\n",
       "                var nbb_cell_id = 36;\n",
       "                var nbb_unformatted_code = \"histogram_boxplot(data, \\\"working_hours_per_week\\\", bins=50)\";\n",
       "                var nbb_formatted_code = \"histogram_boxplot(data, \\\"working_hours_per_week\\\", bins=50)\";\n",
       "                var nbb_cells = Jupyter.notebook.get_cells();\n",
       "                for (var i = 0; i < nbb_cells.length; ++i) {\n",
       "                    if (nbb_cells[i].input_prompt_number == nbb_cell_id) {\n",
       "                        if (nbb_cells[i].get_text() == nbb_unformatted_code) {\n",
       "                             nbb_cells[i].set_text(nbb_formatted_code);\n",
       "                        }\n",
       "                        break;\n",
       "                    }\n",
       "                }\n",
       "            }, 500);\n",
       "            "
      ],
      "text/plain": [
       "<IPython.core.display.Javascript object>"
      ]
     },
     "metadata": {},
     "output_type": "display_data"
    }
   ],
   "source": [
    "histogram_boxplot(data, \"working_hours_per_week\", bins=50)"
   ]
  },
  {
   "cell_type": "markdown",
   "id": "global-hughes",
   "metadata": {
    "id": "8NOg3r3d9WKo"
   },
   "source": [
    "* Most of the data is concentrated around 40 working hours this gives a sense that most of the observations in data might be salaried employees working 8hrs 5 days a week.\n",
    "* Some of the observations are clear outliers like working  1 hour a week which needs to be treated."
   ]
  },
  {
   "cell_type": "code",
   "execution_count": 37,
   "id": "played-mistake",
   "metadata": {},
   "outputs": [
    {
     "data": {
      "application/javascript": [
       "\n",
       "            setTimeout(function() {\n",
       "                var nbb_cell_id = 37;\n",
       "                var nbb_unformatted_code = \"# function to create labeled barplots\\n\\n\\ndef labeled_barplot(data, feature, perc=False, n=None):\\n    \\\"\\\"\\\"\\n    Barplot with percentage at the top\\n\\n    data: dataframe\\n    feature: dataframe column\\n    perc: whether to display percentages instead of count (default is False)\\n    n: displays the top n category levels (default is None, i.e., display all levels)\\n    \\\"\\\"\\\"\\n\\n    total = len(data[feature])  # length of the column\\n    count = data[feature].nunique()\\n    if n is None:\\n        plt.figure(figsize=(count + 1, 5))\\n    else:\\n        plt.figure(figsize=(n + 1, 5))\\n\\n    plt.xticks(rotation=90, fontsize=15)\\n    ax = sns.countplot(\\n        data=data,\\n        x=feature,\\n        palette=\\\"Paired\\\",\\n        order=data[feature].value_counts().index[:n].sort_values(),\\n    )\\n\\n    for p in ax.patches:\\n        if perc == True:\\n            label = \\\"{:.1f}%\\\".format(\\n                100 * p.get_height() / total\\n            )  # percentage of each class of the category\\n        else:\\n            label = p.get_height()  # count of each level of the category\\n\\n        x = p.get_x() + p.get_width() / 2  # width of the plot\\n        y = p.get_height()  # height of the plot\\n\\n        ax.annotate(\\n            label,\\n            (x, y),\\n            ha=\\\"center\\\",\\n            va=\\\"center\\\",\\n            size=12,\\n            xytext=(0, 5),\\n            textcoords=\\\"offset points\\\",\\n        )  # annotate the percentage\\n\\n    plt.show()  # show the plot\";\n",
       "                var nbb_formatted_code = \"# function to create labeled barplots\\n\\n\\ndef labeled_barplot(data, feature, perc=False, n=None):\\n    \\\"\\\"\\\"\\n    Barplot with percentage at the top\\n\\n    data: dataframe\\n    feature: dataframe column\\n    perc: whether to display percentages instead of count (default is False)\\n    n: displays the top n category levels (default is None, i.e., display all levels)\\n    \\\"\\\"\\\"\\n\\n    total = len(data[feature])  # length of the column\\n    count = data[feature].nunique()\\n    if n is None:\\n        plt.figure(figsize=(count + 1, 5))\\n    else:\\n        plt.figure(figsize=(n + 1, 5))\\n\\n    plt.xticks(rotation=90, fontsize=15)\\n    ax = sns.countplot(\\n        data=data,\\n        x=feature,\\n        palette=\\\"Paired\\\",\\n        order=data[feature].value_counts().index[:n].sort_values(),\\n    )\\n\\n    for p in ax.patches:\\n        if perc == True:\\n            label = \\\"{:.1f}%\\\".format(\\n                100 * p.get_height() / total\\n            )  # percentage of each class of the category\\n        else:\\n            label = p.get_height()  # count of each level of the category\\n\\n        x = p.get_x() + p.get_width() / 2  # width of the plot\\n        y = p.get_height()  # height of the plot\\n\\n        ax.annotate(\\n            label,\\n            (x, y),\\n            ha=\\\"center\\\",\\n            va=\\\"center\\\",\\n            size=12,\\n            xytext=(0, 5),\\n            textcoords=\\\"offset points\\\",\\n        )  # annotate the percentage\\n\\n    plt.show()  # show the plot\";\n",
       "                var nbb_cells = Jupyter.notebook.get_cells();\n",
       "                for (var i = 0; i < nbb_cells.length; ++i) {\n",
       "                    if (nbb_cells[i].input_prompt_number == nbb_cell_id) {\n",
       "                        if (nbb_cells[i].get_text() == nbb_unformatted_code) {\n",
       "                             nbb_cells[i].set_text(nbb_formatted_code);\n",
       "                        }\n",
       "                        break;\n",
       "                    }\n",
       "                }\n",
       "            }, 500);\n",
       "            "
      ],
      "text/plain": [
       "<IPython.core.display.Javascript object>"
      ]
     },
     "metadata": {},
     "output_type": "display_data"
    }
   ],
   "source": [
    "# function to create labeled barplots\n",
    "\n",
    "\n",
    "def labeled_barplot(data, feature, perc=False, n=None):\n",
    "    \"\"\"\n",
    "    Barplot with percentage at the top\n",
    "\n",
    "    data: dataframe\n",
    "    feature: dataframe column\n",
    "    perc: whether to display percentages instead of count (default is False)\n",
    "    n: displays the top n category levels (default is None, i.e., display all levels)\n",
    "    \"\"\"\n",
    "\n",
    "    total = len(data[feature])  # length of the column\n",
    "    count = data[feature].nunique()\n",
    "    if n is None:\n",
    "        plt.figure(figsize=(count + 1, 5))\n",
    "    else:\n",
    "        plt.figure(figsize=(n + 1, 5))\n",
    "\n",
    "    plt.xticks(rotation=90, fontsize=15)\n",
    "    ax = sns.countplot(\n",
    "        data=data,\n",
    "        x=feature,\n",
    "        palette=\"Paired\",\n",
    "        order=data[feature].value_counts().index[:n].sort_values(),\n",
    "    )\n",
    "\n",
    "    for p in ax.patches:\n",
    "        if perc == True:\n",
    "            label = \"{:.1f}%\".format(\n",
    "                100 * p.get_height() / total\n",
    "            )  # percentage of each class of the category\n",
    "        else:\n",
    "            label = p.get_height()  # count of each level of the category\n",
    "\n",
    "        x = p.get_x() + p.get_width() / 2  # width of the plot\n",
    "        y = p.get_height()  # height of the plot\n",
    "\n",
    "        ax.annotate(\n",
    "            label,\n",
    "            (x, y),\n",
    "            ha=\"center\",\n",
    "            va=\"center\",\n",
    "            size=12,\n",
    "            xytext=(0, 5),\n",
    "            textcoords=\"offset points\",\n",
    "        )  # annotate the percentage\n",
    "\n",
    "    plt.show()  # show the plot"
   ]
  },
  {
   "cell_type": "markdown",
   "id": "liquid-sauce",
   "metadata": {
    "id": "O7aOYV_y9WKp"
   },
   "source": [
    "### Observations on workclass"
   ]
  },
  {
   "cell_type": "code",
   "execution_count": 38,
   "id": "radio-parliament",
   "metadata": {},
   "outputs": [
    {
     "data": {
      "image/png": "[encoded data removed]",
      "text/plain": [
       "<Figure size 720x360 with 1 Axes>"
      ]
     },
     "metadata": {
      "needs_background": "light"
     },
     "output_type": "display_data"
    },
    {
     "data": {
      "application/javascript": [
       "\n",
       "            setTimeout(function() {\n",
       "                var nbb_cell_id = 38;\n",
       "                var nbb_unformatted_code = \"labeled_barplot(data, \\\"workclass\\\", perc=True)\";\n",
       "                var nbb_formatted_code = \"labeled_barplot(data, \\\"workclass\\\", perc=True)\";\n",
       "                var nbb_cells = Jupyter.notebook.get_cells();\n",
       "                for (var i = 0; i < nbb_cells.length; ++i) {\n",
       "                    if (nbb_cells[i].input_prompt_number == nbb_cell_id) {\n",
       "                        if (nbb_cells[i].get_text() == nbb_unformatted_code) {\n",
       "                             nbb_cells[i].set_text(nbb_formatted_code);\n",
       "                        }\n",
       "                        break;\n",
       "                    }\n",
       "                }\n",
       "            }, 500);\n",
       "            "
      ],
      "text/plain": [
       "<IPython.core.display.Javascript object>"
      ]
     },
     "metadata": {},
     "output_type": "display_data"
    }
   ],
   "source": [
    "labeled_barplot(data, \"workclass\", perc=True)"
   ]
  },
  {
   "cell_type": "markdown",
   "id": "secondary-scroll",
   "metadata": {},
   "source": [
    "* ~70% of the observations are from the Private sector working class.\n",
    "* As expected from the number of hours per week."
   ]
  },
  {
   "cell_type": "markdown",
   "id": "quick-living",
   "metadata": {
    "id": "O7aOYV_y9WKp"
   },
   "source": [
    "### Observations on marital_status"
   ]
  },
  {
   "cell_type": "code",
   "execution_count": 39,
   "id": "handy-bangkok",
   "metadata": {},
   "outputs": [
    {
     "data": {
      "image/png": "[encoded data removed]",
      "text/plain": [
       "<Figure size 288x360 with 1 Axes>"
      ]
     },
     "metadata": {
      "needs_background": "light"
     },
     "output_type": "display_data"
    },
    {
     "data": {
      "application/javascript": [
       "\n",
       "            setTimeout(function() {\n",
       "                var nbb_cell_id = 39;\n",
       "                var nbb_unformatted_code = \"labeled_barplot(data, \\\"marital_status\\\", perc=True)\";\n",
       "                var nbb_formatted_code = \"labeled_barplot(data, \\\"marital_status\\\", perc=True)\";\n",
       "                var nbb_cells = Jupyter.notebook.get_cells();\n",
       "                for (var i = 0; i < nbb_cells.length; ++i) {\n",
       "                    if (nbb_cells[i].input_prompt_number == nbb_cell_id) {\n",
       "                        if (nbb_cells[i].get_text() == nbb_unformatted_code) {\n",
       "                             nbb_cells[i].set_text(nbb_formatted_code);\n",
       "                        }\n",
       "                        break;\n",
       "                    }\n",
       "                }\n",
       "            }, 500);\n",
       "            "
      ],
      "text/plain": [
       "<IPython.core.display.Javascript object>"
      ]
     },
     "metadata": {},
     "output_type": "display_data"
    }
   ],
   "source": [
    "labeled_barplot(data, \"marital_status\", perc=True)"
   ]
  },
  {
   "cell_type": "markdown",
   "id": "norman-person",
   "metadata": {},
   "source": [
    "* 46.1% of the observations in the dataset are married followed by 32.8% of the people who never married."
   ]
  },
  {
   "cell_type": "markdown",
   "id": "featured-exemption",
   "metadata": {
    "id": "O7aOYV_y9WKp"
   },
   "source": [
    "### Observations on native_country"
   ]
  },
  {
   "cell_type": "code",
   "execution_count": 40,
   "id": "received-sailing",
   "metadata": {},
   "outputs": [
    {
     "data": {
      "image/png": "[encoded data removed]",
      "text/plain": [
       "<Figure size 432x360 with 1 Axes>"
      ]
     },
     "metadata": {
      "needs_background": "light"
     },
     "output_type": "display_data"
    },
    {
     "data": {
      "application/javascript": [
       "\n",
       "            setTimeout(function() {\n",
       "                var nbb_cell_id = 40;\n",
       "                var nbb_unformatted_code = \"labeled_barplot(data, \\\"native_country\\\", perc=True)\";\n",
       "                var nbb_formatted_code = \"labeled_barplot(data, \\\"native_country\\\", perc=True)\";\n",
       "                var nbb_cells = Jupyter.notebook.get_cells();\n",
       "                for (var i = 0; i < nbb_cells.length; ++i) {\n",
       "                    if (nbb_cells[i].input_prompt_number == nbb_cell_id) {\n",
       "                        if (nbb_cells[i].get_text() == nbb_unformatted_code) {\n",
       "                             nbb_cells[i].set_text(nbb_formatted_code);\n",
       "                        }\n",
       "                        break;\n",
       "                    }\n",
       "                }\n",
       "            }, 500);\n",
       "            "
      ],
      "text/plain": [
       "<IPython.core.display.Javascript object>"
      ]
     },
     "metadata": {},
     "output_type": "display_data"
    }
   ],
   "source": [
    "labeled_barplot(data, \"native_country\", perc=True)"
   ]
  },
  {
   "cell_type": "markdown",
   "id": "healthy-slide",
   "metadata": {},
   "source": [
    "* 94% of the people are native to north_america followed by 2.1% Asians."
   ]
  },
  {
   "cell_type": "markdown",
   "id": "elect-passenger",
   "metadata": {
    "id": "O7aOYV_y9WKp"
   },
   "source": [
    "### Observations on salary"
   ]
  },
  {
   "cell_type": "code",
   "execution_count": 41,
   "id": "modular-assist",
   "metadata": {},
   "outputs": [
    {
     "data": {
      "image/png": "[encoded data removed]",
      "text/plain": [
       "<Figure size 216x360 with 1 Axes>"
      ]
     },
     "metadata": {
      "needs_background": "light"
     },
     "output_type": "display_data"
    },
    {
     "data": {
      "application/javascript": [
       "\n",
       "            setTimeout(function() {\n",
       "                var nbb_cell_id = 41;\n",
       "                var nbb_unformatted_code = \"labeled_barplot(data, \\\"salary\\\", perc=True)\";\n",
       "                var nbb_formatted_code = \"labeled_barplot(data, \\\"salary\\\", perc=True)\";\n",
       "                var nbb_cells = Jupyter.notebook.get_cells();\n",
       "                for (var i = 0; i < nbb_cells.length; ++i) {\n",
       "                    if (nbb_cells[i].input_prompt_number == nbb_cell_id) {\n",
       "                        if (nbb_cells[i].get_text() == nbb_unformatted_code) {\n",
       "                             nbb_cells[i].set_text(nbb_formatted_code);\n",
       "                        }\n",
       "                        break;\n",
       "                    }\n",
       "                }\n",
       "            }, 500);\n",
       "            "
      ],
      "text/plain": [
       "<IPython.core.display.Javascript object>"
      ]
     },
     "metadata": {},
     "output_type": "display_data"
    }
   ],
   "source": [
    "labeled_barplot(data, \"salary\", perc=True)"
   ]
  },
  {
   "cell_type": "markdown",
   "id": "spoken-polls",
   "metadata": {
    "id": "Zjfs5yc39WKr"
   },
   "source": [
    "* ~24% of the observations have a salary above 50K and while ~76% have a salary below 50K"
   ]
  },
  {
   "cell_type": "markdown",
   "id": "national-creativity",
   "metadata": {
    "id": "3jS63iRW9WKs"
   },
   "source": [
    "## Bivariate analysis"
   ]
  },
  {
   "cell_type": "code",
   "execution_count": 42,
   "id": "geological-yeast",
   "metadata": {},
   "outputs": [
    {
     "data": {
      "image/png": "[encoded data removed]",
      "text/plain": [
       "<Figure size 1080x504 with 2 Axes>"
      ]
     },
     "metadata": {
      "needs_background": "light"
     },
     "output_type": "display_data"
    },
    {
     "data": {
      "application/javascript": [
       "\n",
       "            setTimeout(function() {\n",
       "                var nbb_cell_id = 42;\n",
       "                var nbb_unformatted_code = \"plt.figure(figsize=(15, 7))\\nsns.heatmap(data.corr(), annot=True, vmin=-1, vmax=1, fmt=\\\".2f\\\", cmap=\\\"Spectral\\\")\\nplt.show()\";\n",
       "                var nbb_formatted_code = \"plt.figure(figsize=(15, 7))\\nsns.heatmap(data.corr(), annot=True, vmin=-1, vmax=1, fmt=\\\".2f\\\", cmap=\\\"Spectral\\\")\\nplt.show()\";\n",
       "                var nbb_cells = Jupyter.notebook.get_cells();\n",
       "                for (var i = 0; i < nbb_cells.length; ++i) {\n",
       "                    if (nbb_cells[i].input_prompt_number == nbb_cell_id) {\n",
       "                        if (nbb_cells[i].get_text() == nbb_unformatted_code) {\n",
       "                             nbb_cells[i].set_text(nbb_formatted_code);\n",
       "                        }\n",
       "                        break;\n",
       "                    }\n",
       "                }\n",
       "            }, 500);\n",
       "            "
      ],
      "text/plain": [
       "<IPython.core.display.Javascript object>"
      ]
     },
     "metadata": {},
     "output_type": "display_data"
    }
   ],
   "source": [
    "plt.figure(figsize=(15, 7))\n",
    "sns.heatmap(data.corr(), annot=True, vmin=-1, vmax=1, fmt=\".2f\", cmap=\"Spectral\")\n",
    "plt.show()"
   ]
  },
  {
   "cell_type": "markdown",
   "id": "skilled-tractor",
   "metadata": {},
   "source": [
    "* There is no significant correlation between the columns."
   ]
  },
  {
   "cell_type": "code",
   "execution_count": 43,
   "id": "breeding-orlando",
   "metadata": {},
   "outputs": [
    {
     "data": {
      "application/javascript": [
       "\n",
       "            setTimeout(function() {\n",
       "                var nbb_cell_id = 43;\n",
       "                var nbb_unformatted_code = \"### Function to plot stacked bar charts for categorical columns\\ndef stacked_plot(x):\\n    sns.set()\\n    ## crosstab\\n    tab1 = pd.crosstab(x, data[\\\"salary\\\"], margins=True).sort_values(\\n        by=\\\" >50K\\\", ascending=False\\n    )\\n    print(tab1)\\n    print(\\\"-\\\" * 120)\\n    ## visualising the cross tab\\n    tab = pd.crosstab(x, data[\\\"salary\\\"], normalize=\\\"index\\\").sort_values(\\n        by=\\\" >50K\\\", ascending=False\\n    )\\n    tab.plot(kind=\\\"bar\\\", stacked=True, figsize=(17, 7))\\n    plt.legend(\\n        loc=\\\"lower left\\\", frameon=False,\\n    )\\n    plt.legend(loc=\\\"upper left\\\", bbox_to_anchor=(1, 1))\\n    plt.show()\";\n",
       "                var nbb_formatted_code = \"### Function to plot stacked bar charts for categorical columns\\ndef stacked_plot(x):\\n    sns.set()\\n    ## crosstab\\n    tab1 = pd.crosstab(x, data[\\\"salary\\\"], margins=True).sort_values(\\n        by=\\\" >50K\\\", ascending=False\\n    )\\n    print(tab1)\\n    print(\\\"-\\\" * 120)\\n    ## visualising the cross tab\\n    tab = pd.crosstab(x, data[\\\"salary\\\"], normalize=\\\"index\\\").sort_values(\\n        by=\\\" >50K\\\", ascending=False\\n    )\\n    tab.plot(kind=\\\"bar\\\", stacked=True, figsize=(17, 7))\\n    plt.legend(\\n        loc=\\\"lower left\\\",\\n        frameon=False,\\n    )\\n    plt.legend(loc=\\\"upper left\\\", bbox_to_anchor=(1, 1))\\n    plt.show()\";\n",
       "                var nbb_cells = Jupyter.notebook.get_cells();\n",
       "                for (var i = 0; i < nbb_cells.length; ++i) {\n",
       "                    if (nbb_cells[i].input_prompt_number == nbb_cell_id) {\n",
       "                        if (nbb_cells[i].get_text() == nbb_unformatted_code) {\n",
       "                             nbb_cells[i].set_text(nbb_formatted_code);\n",
       "                        }\n",
       "                        break;\n",
       "                    }\n",
       "                }\n",
       "            }, 500);\n",
       "            "
      ],
      "text/plain": [
       "<IPython.core.display.Javascript object>"
      ]
     },
     "metadata": {},
     "output_type": "display_data"
    }
   ],
   "source": [
    "### Function to plot stacked bar charts for categorical columns\n",
    "def stacked_plot(x):\n",
    "    sns.set()\n",
    "    ## crosstab\n",
    "    tab1 = pd.crosstab(x, data[\"salary\"], margins=True).sort_values(\n",
    "        by=\" >50K\", ascending=False\n",
    "    )\n",
    "    print(tab1)\n",
    "    print(\"-\" * 120)\n",
    "    ## visualising the cross tab\n",
    "    tab = pd.crosstab(x, data[\"salary\"], normalize=\"index\").sort_values(\n",
    "        by=\" >50K\", ascending=False\n",
    "    )\n",
    "    tab.plot(kind=\"bar\", stacked=True, figsize=(17, 7))\n",
    "    plt.legend(\n",
    "        loc=\"lower left\", frameon=False,\n",
    "    )\n",
    "    plt.legend(loc=\"upper left\", bbox_to_anchor=(1, 1))\n",
    "    plt.show()"
   ]
  },
  {
   "cell_type": "code",
   "execution_count": 44,
   "id": "ordinary-short",
   "metadata": {},
   "outputs": [
    {
     "data": {
      "application/javascript": [
       "\n",
       "            setTimeout(function() {\n",
       "                var nbb_cell_id = 44;\n",
       "                var nbb_unformatted_code = \"def stacked_barplot(data, predictor, target):\\n    \\\"\\\"\\\"\\n    Print the category counts and plot a stacked bar chart\\n\\n    data: dataframe\\n    predictor: independent variable\\n    target: target variable\\n    \\\"\\\"\\\"\\n    count = data[predictor].nunique()\\n    sorter = data[target].value_counts().index[-1]\\n    tab1 = pd.crosstab(data[predictor], data[target], margins=True).sort_values(\\n        by=sorter, ascending=False\\n    )\\n    print(tab1)\\n    print(\\\"-\\\" * 120)\\n    tab = pd.crosstab(data[predictor], data[target], normalize=\\\"index\\\").sort_values(\\n        by=sorter, ascending=False\\n    )\\n    tab.plot(kind=\\\"bar\\\", stacked=True, figsize=(count + 5, 5))\\n    plt.legend(\\n        loc=\\\"lower left\\\", frameon=False,\\n    )\\n    plt.legend(loc=\\\"upper left\\\", bbox_to_anchor=(1, 1))\\n    plt.show()\";\n",
       "                var nbb_formatted_code = \"def stacked_barplot(data, predictor, target):\\n    \\\"\\\"\\\"\\n    Print the category counts and plot a stacked bar chart\\n\\n    data: dataframe\\n    predictor: independent variable\\n    target: target variable\\n    \\\"\\\"\\\"\\n    count = data[predictor].nunique()\\n    sorter = data[target].value_counts().index[-1]\\n    tab1 = pd.crosstab(data[predictor], data[target], margins=True).sort_values(\\n        by=sorter, ascending=False\\n    )\\n    print(tab1)\\n    print(\\\"-\\\" * 120)\\n    tab = pd.crosstab(data[predictor], data[target], normalize=\\\"index\\\").sort_values(\\n        by=sorter, ascending=False\\n    )\\n    tab.plot(kind=\\\"bar\\\", stacked=True, figsize=(count + 5, 5))\\n    plt.legend(\\n        loc=\\\"lower left\\\",\\n        frameon=False,\\n    )\\n    plt.legend(loc=\\\"upper left\\\", bbox_to_anchor=(1, 1))\\n    plt.show()\";\n",
       "                var nbb_cells = Jupyter.notebook.get_cells();\n",
       "                for (var i = 0; i < nbb_cells.length; ++i) {\n",
       "                    if (nbb_cells[i].input_prompt_number == nbb_cell_id) {\n",
       "                        if (nbb_cells[i].get_text() == nbb_unformatted_code) {\n",
       "                             nbb_cells[i].set_text(nbb_formatted_code);\n",
       "                        }\n",
       "                        break;\n",
       "                    }\n",
       "                }\n",
       "            }, 500);\n",
       "            "
      ],
      "text/plain": [
       "<IPython.core.display.Javascript object>"
      ]
     },
     "metadata": {},
     "output_type": "display_data"
    }
   ],
   "source": [
    "def stacked_barplot(data, predictor, target):\n",
    "    \"\"\"\n",
    "    Print the category counts and plot a stacked bar chart\n",
    "\n",
    "    data: dataframe\n",
    "    predictor: independent variable\n",
    "    target: target variable\n",
    "    \"\"\"\n",
    "    count = data[predictor].nunique()\n",
    "    sorter = data[target].value_counts().index[-1]\n",
    "    tab1 = pd.crosstab(data[predictor], data[target], margins=True).sort_values(\n",
    "        by=sorter, ascending=False\n",
    "    )\n",
    "    print(tab1)\n",
    "    print(\"-\" * 120)\n",
    "    tab = pd.crosstab(data[predictor], data[target], normalize=\"index\").sort_values(\n",
    "        by=sorter, ascending=False\n",
    "    )\n",
    "    tab.plot(kind=\"bar\", stacked=True, figsize=(count + 5, 5))\n",
    "    plt.legend(\n",
    "        loc=\"lower left\", frameon=False,\n",
    "    )\n",
    "    plt.legend(loc=\"upper left\", bbox_to_anchor=(1, 1))\n",
    "    plt.show()"
   ]
  },
  {
   "cell_type": "code",
   "execution_count": 45,
   "id": "supposed-hierarchy",
   "metadata": {},
   "outputs": [
    {
     "name": "stdout",
     "output_type": "stream",
     "text": [
      "salary    <=50K   >50K    All\n",
      "sex                          \n",
      "All       24720   7841  32561\n",
      " Male     15128   6662  21790\n",
      " Female    9592   1179  10771\n",
      "------------------------------------------------------------------------------------------------------------------------\n"
     ]
    },
    {
     "data": {
      "image/png": "[encoded data removed]",
      "text/plain": [
       "<Figure size 504x360 with 1 Axes>"
      ]
     },
     "metadata": {
      "needs_background": "light"
     },
     "output_type": "display_data"
    },
    {
     "data": {
      "application/javascript": [
       "\n",
       "            setTimeout(function() {\n",
       "                var nbb_cell_id = 45;\n",
       "                var nbb_unformatted_code = \"stacked_barplot(data, \\\"sex\\\", \\\"salary\\\")\";\n",
       "                var nbb_formatted_code = \"stacked_barplot(data, \\\"sex\\\", \\\"salary\\\")\";\n",
       "                var nbb_cells = Jupyter.notebook.get_cells();\n",
       "                for (var i = 0; i < nbb_cells.length; ++i) {\n",
       "                    if (nbb_cells[i].input_prompt_number == nbb_cell_id) {\n",
       "                        if (nbb_cells[i].get_text() == nbb_unformatted_code) {\n",
       "                             nbb_cells[i].set_text(nbb_formatted_code);\n",
       "                        }\n",
       "                        break;\n",
       "                    }\n",
       "                }\n",
       "            }, 500);\n",
       "            "
      ],
      "text/plain": [
       "<IPython.core.display.Javascript object>"
      ]
     },
     "metadata": {},
     "output_type": "display_data"
    }
   ],
   "source": [
    "stacked_barplot(data, \"sex\", \"salary\")"
   ]
  },
  {
   "cell_type": "markdown",
   "id": "suffering-valley",
   "metadata": {},
   "source": [
    "* ~25% of the males have salary >50K whereas only ~15% of the females have salary >50K.\n",
    "* This shows the pay gap that exists in society and the government should investigate further on it to formulate policy to ensure equal pay."
   ]
  },
  {
   "cell_type": "markdown",
   "id": "continuous-reset",
   "metadata": {
    "id": "ui3naO159WKs"
   },
   "source": [
    "### salary vs education"
   ]
  },
  {
   "cell_type": "code",
   "execution_count": 46,
   "id": "featured-equation",
   "metadata": {},
   "outputs": [
    {
     "name": "stdout",
     "output_type": "stream",
     "text": [
      "salary          <=50K   >50K    All\n",
      "education                          \n",
      "All             24720   7841  32561\n",
      " Bachelors       3134   2221   5355\n",
      " HS-grad         8826   1675  10501\n",
      " Some-college    5904   1387   7291\n",
      " Masters          764    959   1723\n",
      " Prof-school      153    423    576\n",
      " Assoc-voc       1021    361   1382\n",
      " Doctorate        107    306    413\n",
      " Assoc-acdm       802    265   1067\n",
      " 10th             871     62    933\n",
      " 11th            1115     60   1175\n",
      " 7th-8th          606     40    646\n",
      " 12th             400     33    433\n",
      " 9th              487     27    514\n",
      " 5th-6th          317     16    333\n",
      " 1st-4th          162      6    168\n",
      " Preschool         51      0     51\n",
      "------------------------------------------------------------------------------------------------------------------------\n"
     ]
    },
    {
     "data": {
      "image/png": "[encoded data removed]",
      "text/plain": [
       "<Figure size 1512x360 with 1 Axes>"
      ]
     },
     "metadata": {
      "needs_background": "light"
     },
     "output_type": "display_data"
    },
    {
     "data": {
      "application/javascript": [
       "\n",
       "            setTimeout(function() {\n",
       "                var nbb_cell_id = 46;\n",
       "                var nbb_unformatted_code = \"stacked_barplot(data, \\\"education\\\", \\\"salary\\\")\";\n",
       "                var nbb_formatted_code = \"stacked_barplot(data, \\\"education\\\", \\\"salary\\\")\";\n",
       "                var nbb_cells = Jupyter.notebook.get_cells();\n",
       "                for (var i = 0; i < nbb_cells.length; ++i) {\n",
       "                    if (nbb_cells[i].input_prompt_number == nbb_cell_id) {\n",
       "                        if (nbb_cells[i].get_text() == nbb_unformatted_code) {\n",
       "                             nbb_cells[i].set_text(nbb_formatted_code);\n",
       "                        }\n",
       "                        break;\n",
       "                    }\n",
       "                }\n",
       "            }, 500);\n",
       "            "
      ],
      "text/plain": [
       "<IPython.core.display.Javascript object>"
      ]
     },
     "metadata": {},
     "output_type": "display_data"
    }
   ],
   "source": [
    "stacked_barplot(data, \"education\", \"salary\")"
   ]
  },
  {
   "cell_type": "markdown",
   "id": "boxed-diesel",
   "metadata": {
    "id": "-bVs_9Ju9WKu"
   },
   "source": [
    "* ~70% of the people of are Doctorate, graduate from Professional school program (Prof-school) have a salary above $50K.\n",
    "* This clearly shows a positive relationship between education and salary, the higher the education higher is the salary."
   ]
  },
  {
   "cell_type": "markdown",
   "id": "great-worry",
   "metadata": {
    "id": "XgAfyOaHm6Ew"
   },
   "source": [
    "### salary vs occupation"
   ]
  },
  {
   "cell_type": "code",
   "execution_count": 47,
   "id": "modified-blink",
   "metadata": {},
   "outputs": [
    {
     "name": "stdout",
     "output_type": "stream",
     "text": [
      "salary               <=50K   >50K    All\n",
      "occupation                              \n",
      "All                  24720   7841  32561\n",
      " Exec-managerial      2098   1968   4066\n",
      " Prof-specialty       2281   1859   4140\n",
      " Sales                2667    983   3650\n",
      " Craft-repair         3170    929   4099\n",
      " Adm-clerical         3263    507   3770\n",
      " Transport-moving     1277    320   1597\n",
      " Tech-support          645    283    928\n",
      " Machine-op-inspct    1752    250   2002\n",
      " Protective-serv       438    211    649\n",
      "Unknown               1652    191   1843\n",
      " Other-service        3158    137   3295\n",
      " Farming-fishing       879    115    994\n",
      " Handlers-cleaners    1284     86   1370\n",
      " Armed-Forces            8      1      9\n",
      " Priv-house-serv       148      1    149\n",
      "------------------------------------------------------------------------------------------------------------------------\n"
     ]
    },
    {
     "data": {
      "image/png": "[encoded data removed]",
      "text/plain": [
       "<Figure size 1440x360 with 1 Axes>"
      ]
     },
     "metadata": {
      "needs_background": "light"
     },
     "output_type": "display_data"
    },
    {
     "data": {
      "application/javascript": [
       "\n",
       "            setTimeout(function() {\n",
       "                var nbb_cell_id = 47;\n",
       "                var nbb_unformatted_code = \"stacked_barplot(data, \\\"occupation\\\", \\\"salary\\\")\";\n",
       "                var nbb_formatted_code = \"stacked_barplot(data, \\\"occupation\\\", \\\"salary\\\")\";\n",
       "                var nbb_cells = Jupyter.notebook.get_cells();\n",
       "                for (var i = 0; i < nbb_cells.length; ++i) {\n",
       "                    if (nbb_cells[i].input_prompt_number == nbb_cell_id) {\n",
       "                        if (nbb_cells[i].get_text() == nbb_unformatted_code) {\n",
       "                             nbb_cells[i].set_text(nbb_formatted_code);\n",
       "                        }\n",
       "                        break;\n",
       "                    }\n",
       "                }\n",
       "            }, 500);\n",
       "            "
      ],
      "text/plain": [
       "<IPython.core.display.Javascript object>"
      ]
     },
     "metadata": {},
     "output_type": "display_data"
    }
   ],
   "source": [
    "stacked_barplot(data, \"occupation\", \"salary\")"
   ]
  },
  {
   "cell_type": "markdown",
   "id": "affiliated-recipient",
   "metadata": {
    "id": "Dj5NDHpblxjt"
   },
   "source": [
    "- ~50% of the people whose occupation is of Executive Manager, Professor-speciality have a salary above $50,000\n",
    "- People with occupations like Private house service,handlers-cleaners, farming-fishing have a higher likelihood of having below 50K salary."
   ]
  },
  {
   "cell_type": "markdown",
   "id": "prepared-tuesday",
   "metadata": {
    "id": "WpbA5Fuq9WKu"
   },
   "source": [
    "### salary vs race"
   ]
  },
  {
   "cell_type": "code",
   "execution_count": 48,
   "id": "alpine-voluntary",
   "metadata": {},
   "outputs": [
    {
     "name": "stdout",
     "output_type": "stream",
     "text": [
      "salary                <=50K   >50K    All\n",
      "race                                     \n",
      "All                   24720   7841  32561\n",
      " White                20699   7117  27816\n",
      " Black                 2737    387   3124\n",
      " Asian-Pac-Islander     763    276   1039\n",
      " Amer-Indian-Eskimo     275     36    311\n",
      " Other                  246     25    271\n",
      "------------------------------------------------------------------------------------------------------------------------\n"
     ]
    },
    {
     "data": {
      "image/png": "[encoded data removed]",
      "text/plain": [
       "<Figure size 720x360 with 1 Axes>"
      ]
     },
     "metadata": {
      "needs_background": "light"
     },
     "output_type": "display_data"
    },
    {
     "data": {
      "application/javascript": [
       "\n",
       "            setTimeout(function() {\n",
       "                var nbb_cell_id = 48;\n",
       "                var nbb_unformatted_code = \"stacked_barplot(data, \\\"race\\\", \\\"salary\\\")\";\n",
       "                var nbb_formatted_code = \"stacked_barplot(data, \\\"race\\\", \\\"salary\\\")\";\n",
       "                var nbb_cells = Jupyter.notebook.get_cells();\n",
       "                for (var i = 0; i < nbb_cells.length; ++i) {\n",
       "                    if (nbb_cells[i].input_prompt_number == nbb_cell_id) {\n",
       "                        if (nbb_cells[i].get_text() == nbb_unformatted_code) {\n",
       "                             nbb_cells[i].set_text(nbb_formatted_code);\n",
       "                        }\n",
       "                        break;\n",
       "                    }\n",
       "                }\n",
       "            }, 500);\n",
       "            "
      ],
      "text/plain": [
       "<IPython.core.display.Javascript object>"
      ]
     },
     "metadata": {},
     "output_type": "display_data"
    }
   ],
   "source": [
    "stacked_barplot(data, \"race\", \"salary\")"
   ]
  },
  {
   "cell_type": "markdown",
   "id": "medium-zoning",
   "metadata": {
    "id": "rt0uyR4W9WKw"
   },
   "source": [
    "* 25% of the White and Asia-Pacific people have a salary more than 50K salary as compared to people from other race."
   ]
  },
  {
   "cell_type": "markdown",
   "id": "optical-samuel",
   "metadata": {
    "id": "HIB_dcZu9WK0"
   },
   "source": [
    "### salary vs workclass"
   ]
  },
  {
   "cell_type": "code",
   "execution_count": 49,
   "id": "induced-bargain",
   "metadata": {},
   "outputs": [
    {
     "name": "stdout",
     "output_type": "stream",
     "text": [
      "salary              <=50K   >50K    All\n",
      "workclass                              \n",
      "All                 24720   7841  32561\n",
      " Private            17733   4963  22696\n",
      " Self-emp-not-inc    1817    724   2541\n",
      " Self-emp-inc         494    622   1116\n",
      " Local-gov           1476    617   2093\n",
      " Federal-gov          589    371    960\n",
      " State-gov            945    353   1298\n",
      "Unknown              1645    191   1836\n",
      " Never-worked           7      0      7\n",
      " Without-pay           14      0     14\n",
      "------------------------------------------------------------------------------------------------------------------------\n"
     ]
    },
    {
     "data": {
      "image/png": "[encoded data removed]",
      "text/plain": [
       "<Figure size 1008x360 with 1 Axes>"
      ]
     },
     "metadata": {
      "needs_background": "light"
     },
     "output_type": "display_data"
    },
    {
     "data": {
      "application/javascript": [
       "\n",
       "            setTimeout(function() {\n",
       "                var nbb_cell_id = 49;\n",
       "                var nbb_unformatted_code = \"stacked_barplot(data, \\\"workclass\\\", \\\"salary\\\")\";\n",
       "                var nbb_formatted_code = \"stacked_barplot(data, \\\"workclass\\\", \\\"salary\\\")\";\n",
       "                var nbb_cells = Jupyter.notebook.get_cells();\n",
       "                for (var i = 0; i < nbb_cells.length; ++i) {\n",
       "                    if (nbb_cells[i].input_prompt_number == nbb_cell_id) {\n",
       "                        if (nbb_cells[i].get_text() == nbb_unformatted_code) {\n",
       "                             nbb_cells[i].set_text(nbb_formatted_code);\n",
       "                        }\n",
       "                        break;\n",
       "                    }\n",
       "                }\n",
       "            }, 500);\n",
       "            "
      ],
      "text/plain": [
       "<IPython.core.display.Javascript object>"
      ]
     },
     "metadata": {},
     "output_type": "display_data"
    }
   ],
   "source": [
    "stacked_barplot(data, \"workclass\", \"salary\")"
   ]
  },
  {
   "cell_type": "markdown",
   "id": "laden-touch",
   "metadata": {
    "id": "urxkoDCM9WK3"
   },
   "source": [
    "* ~50% of the self-employed people have a salary above 50K followed by ~40% of the federal govt employee who has salary more than 50K.\n",
    "* ~20% of the people working in the private sector earn more than 50K."
   ]
  },
  {
   "cell_type": "markdown",
   "id": "welcome-afternoon",
   "metadata": {
    "id": "eDOk11FY9WK4"
   },
   "source": [
    "### salary vs marital_status"
   ]
  },
  {
   "cell_type": "code",
   "execution_count": 50,
   "id": "objective-client",
   "metadata": {},
   "outputs": [
    {
     "name": "stdout",
     "output_type": "stream",
     "text": [
      "salary           <=50K   >50K    All\n",
      "marital_status                      \n",
      "All              24720   7841  32561\n",
      "married           8297   6702  14999\n",
      "not_married       6231    648   6879\n",
      "Never-married    10192    491  10683\n",
      "------------------------------------------------------------------------------------------------------------------------\n"
     ]
    },
    {
     "data": {
      "image/png": "[encoded data removed]",
      "text/plain": [
       "<Figure size 576x360 with 1 Axes>"
      ]
     },
     "metadata": {
      "needs_background": "light"
     },
     "output_type": "display_data"
    },
    {
     "data": {
      "application/javascript": [
       "\n",
       "            setTimeout(function() {\n",
       "                var nbb_cell_id = 50;\n",
       "                var nbb_unformatted_code = \"stacked_barplot(data, \\\"marital_status\\\", \\\"salary\\\")\";\n",
       "                var nbb_formatted_code = \"stacked_barplot(data, \\\"marital_status\\\", \\\"salary\\\")\";\n",
       "                var nbb_cells = Jupyter.notebook.get_cells();\n",
       "                for (var i = 0; i < nbb_cells.length; ++i) {\n",
       "                    if (nbb_cells[i].input_prompt_number == nbb_cell_id) {\n",
       "                        if (nbb_cells[i].get_text() == nbb_unformatted_code) {\n",
       "                             nbb_cells[i].set_text(nbb_formatted_code);\n",
       "                        }\n",
       "                        break;\n",
       "                    }\n",
       "                }\n",
       "            }, 500);\n",
       "            "
      ],
      "text/plain": [
       "<IPython.core.display.Javascript object>"
      ]
     },
     "metadata": {},
     "output_type": "display_data"
    }
   ],
   "source": [
    "stacked_barplot(data, \"marital_status\", \"salary\")"
   ]
  },
  {
   "cell_type": "markdown",
   "id": "built-escape",
   "metadata": {
    "id": "7P8Dx-hV9WK6"
   },
   "source": [
    "* Married people have a higher likelihood of getting a salary above 50K compared to Never Married and Not married people."
   ]
  },
  {
   "cell_type": "code",
   "execution_count": 51,
   "id": "clean-harvey",
   "metadata": {},
   "outputs": [
    {
     "data": {
      "application/javascript": [
       "\n",
       "            setTimeout(function() {\n",
       "                var nbb_cell_id = 51;\n",
       "                var nbb_unformatted_code = \"### function to plot distributions wrt target\\n\\n\\ndef distribution_plot_wrt_target(data, predictor, target):\\n\\n    fig, axs = plt.subplots(2, 2, figsize=(12, 10))\\n\\n    target_uniq = data[target].unique()\\n\\n    axs[0, 0].set_title(\\\"Distribution of target for target=\\\" + str(target_uniq[0]))\\n    sns.histplot(\\n        data=data[data[target] == target_uniq[0]],\\n        x=predictor,\\n        kde=True,\\n        ax=axs[0, 0],\\n        color=\\\"teal\\\",\\n        stat=\\\"density\\\",\\n    )\\n\\n    axs[0, 1].set_title(\\\"Distribution of target for target=\\\" + str(target_uniq[1]))\\n    sns.histplot(\\n        data=data[data[target] == target_uniq[1]],\\n        x=predictor,\\n        kde=True,\\n        ax=axs[0, 1],\\n        color=\\\"orange\\\",\\n        stat=\\\"density\\\",\\n    )\\n\\n    axs[1, 0].set_title(\\\"Boxplot w.r.t target\\\")\\n    sns.boxplot(data=data, x=target, y=predictor, ax=axs[1, 0], palette=\\\"gist_rainbow\\\")\\n\\n    axs[1, 1].set_title(\\\"Boxplot (without outliers) w.r.t target\\\")\\n    sns.boxplot(\\n        data=data,\\n        x=target,\\n        y=predictor,\\n        ax=axs[1, 1],\\n        showfliers=False,\\n        palette=\\\"gist_rainbow\\\",\\n    )\\n\\n    plt.tight_layout()\\n    plt.show()\";\n",
       "                var nbb_formatted_code = \"### function to plot distributions wrt target\\n\\n\\ndef distribution_plot_wrt_target(data, predictor, target):\\n\\n    fig, axs = plt.subplots(2, 2, figsize=(12, 10))\\n\\n    target_uniq = data[target].unique()\\n\\n    axs[0, 0].set_title(\\\"Distribution of target for target=\\\" + str(target_uniq[0]))\\n    sns.histplot(\\n        data=data[data[target] == target_uniq[0]],\\n        x=predictor,\\n        kde=True,\\n        ax=axs[0, 0],\\n        color=\\\"teal\\\",\\n        stat=\\\"density\\\",\\n    )\\n\\n    axs[0, 1].set_title(\\\"Distribution of target for target=\\\" + str(target_uniq[1]))\\n    sns.histplot(\\n        data=data[data[target] == target_uniq[1]],\\n        x=predictor,\\n        kde=True,\\n        ax=axs[0, 1],\\n        color=\\\"orange\\\",\\n        stat=\\\"density\\\",\\n    )\\n\\n    axs[1, 0].set_title(\\\"Boxplot w.r.t target\\\")\\n    sns.boxplot(data=data, x=target, y=predictor, ax=axs[1, 0], palette=\\\"gist_rainbow\\\")\\n\\n    axs[1, 1].set_title(\\\"Boxplot (without outliers) w.r.t target\\\")\\n    sns.boxplot(\\n        data=data,\\n        x=target,\\n        y=predictor,\\n        ax=axs[1, 1],\\n        showfliers=False,\\n        palette=\\\"gist_rainbow\\\",\\n    )\\n\\n    plt.tight_layout()\\n    plt.show()\";\n",
       "                var nbb_cells = Jupyter.notebook.get_cells();\n",
       "                for (var i = 0; i < nbb_cells.length; ++i) {\n",
       "                    if (nbb_cells[i].input_prompt_number == nbb_cell_id) {\n",
       "                        if (nbb_cells[i].get_text() == nbb_unformatted_code) {\n",
       "                             nbb_cells[i].set_text(nbb_formatted_code);\n",
       "                        }\n",
       "                        break;\n",
       "                    }\n",
       "                }\n",
       "            }, 500);\n",
       "            "
      ],
      "text/plain": [
       "<IPython.core.display.Javascript object>"
      ]
     },
     "metadata": {},
     "output_type": "display_data"
    }
   ],
   "source": [
    "### function to plot distributions wrt target\n",
    "\n",
    "\n",
    "def distribution_plot_wrt_target(data, predictor, target):\n",
    "\n",
    "    fig, axs = plt.subplots(2, 2, figsize=(12, 10))\n",
    "\n",
    "    target_uniq = data[target].unique()\n",
    "\n",
    "    axs[0, 0].set_title(\"Distribution of target for target=\" + str(target_uniq[0]))\n",
    "    sns.histplot(\n",
    "        data=data[data[target] == target_uniq[0]],\n",
    "        x=predictor,\n",
    "        kde=True,\n",
    "        ax=axs[0, 0],\n",
    "        color=\"teal\",\n",
    "        stat=\"density\",\n",
    "    )\n",
    "\n",
    "    axs[0, 1].set_title(\"Distribution of target for target=\" + str(target_uniq[1]))\n",
    "    sns.histplot(\n",
    "        data=data[data[target] == target_uniq[1]],\n",
    "        x=predictor,\n",
    "        kde=True,\n",
    "        ax=axs[0, 1],\n",
    "        color=\"orange\",\n",
    "        stat=\"density\",\n",
    "    )\n",
    "\n",
    "    axs[1, 0].set_title(\"Boxplot w.r.t target\")\n",
    "    sns.boxplot(data=data, x=target, y=predictor, ax=axs[1, 0], palette=\"gist_rainbow\")\n",
    "\n",
    "    axs[1, 1].set_title(\"Boxplot (without outliers) w.r.t target\")\n",
    "    sns.boxplot(\n",
    "        data=data,\n",
    "        x=target,\n",
    "        y=predictor,\n",
    "        ax=axs[1, 1],\n",
    "        showfliers=False,\n",
    "        palette=\"gist_rainbow\",\n",
    "    )\n",
    "\n",
    "    plt.tight_layout()\n",
    "    plt.show()"
   ]
  },
  {
   "cell_type": "markdown",
   "id": "verbal-elder",
   "metadata": {
    "id": "Tf7AqU6K9WLB"
   },
   "source": [
    "### salary vs age"
   ]
  },
  {
   "cell_type": "code",
   "execution_count": 52,
   "id": "cardiovascular-twenty",
   "metadata": {},
   "outputs": [
    {
     "data": {
      "image/png": "[encoded data removed]",
      "text/plain": [
       "<Figure size 864x720 with 4 Axes>"
      ]
     },
     "metadata": {
      "needs_background": "light"
     },
     "output_type": "display_data"
    },
    {
     "data": {
      "application/javascript": [
       "\n",
       "            setTimeout(function() {\n",
       "                var nbb_cell_id = 52;\n",
       "                var nbb_unformatted_code = \"distribution_plot_wrt_target(data, \\\"age\\\", \\\"salary\\\")\";\n",
       "                var nbb_formatted_code = \"distribution_plot_wrt_target(data, \\\"age\\\", \\\"salary\\\")\";\n",
       "                var nbb_cells = Jupyter.notebook.get_cells();\n",
       "                for (var i = 0; i < nbb_cells.length; ++i) {\n",
       "                    if (nbb_cells[i].input_prompt_number == nbb_cell_id) {\n",
       "                        if (nbb_cells[i].get_text() == nbb_unformatted_code) {\n",
       "                             nbb_cells[i].set_text(nbb_formatted_code);\n",
       "                        }\n",
       "                        break;\n",
       "                    }\n",
       "                }\n",
       "            }, 500);\n",
       "            "
      ],
      "text/plain": [
       "<IPython.core.display.Javascript object>"
      ]
     },
     "metadata": {},
     "output_type": "display_data"
    }
   ],
   "source": [
    "distribution_plot_wrt_target(data, \"age\", \"salary\")"
   ]
  },
  {
   "cell_type": "markdown",
   "id": "thorough-limit",
   "metadata": {
    "id": "hbZSjGGJ9WLD"
   },
   "source": [
    "* People who more than 50K salary are generally older having an average age of around 48 years.\n",
    "* People who have less than 50K salary have an average age of around 36."
   ]
  },
  {
   "cell_type": "markdown",
   "id": "empirical-density",
   "metadata": {},
   "source": [
    "### salary vs working_hours_per_week"
   ]
  },
  {
   "cell_type": "code",
   "execution_count": 53,
   "id": "latest-matrix",
   "metadata": {
    "colab": {
     "base_uri": "https://localhost:8080/",
     "height": 487
    },
    "id": "3nNI4bsv9WLM",
    "outputId": "f062e838-197e-467e-ba65-b41167656e17"
   },
   "outputs": [
    {
     "data": {
      "image/png": "[encoded data removed]",
      "text/plain": [
       "<Figure size 864x720 with 4 Axes>"
      ]
     },
     "metadata": {
      "needs_background": "light"
     },
     "output_type": "display_data"
    },
    {
     "data": {
      "application/javascript": [
       "\n",
       "            setTimeout(function() {\n",
       "                var nbb_cell_id = 53;\n",
       "                var nbb_unformatted_code = \"distribution_plot_wrt_target(data, \\\"working_hours_per_week\\\", \\\"salary\\\")\";\n",
       "                var nbb_formatted_code = \"distribution_plot_wrt_target(data, \\\"working_hours_per_week\\\", \\\"salary\\\")\";\n",
       "                var nbb_cells = Jupyter.notebook.get_cells();\n",
       "                for (var i = 0; i < nbb_cells.length; ++i) {\n",
       "                    if (nbb_cells[i].input_prompt_number == nbb_cell_id) {\n",
       "                        if (nbb_cells[i].get_text() == nbb_unformatted_code) {\n",
       "                             nbb_cells[i].set_text(nbb_formatted_code);\n",
       "                        }\n",
       "                        break;\n",
       "                    }\n",
       "                }\n",
       "            }, 500);\n",
       "            "
      ],
      "text/plain": [
       "<IPython.core.display.Javascript object>"
      ]
     },
     "metadata": {},
     "output_type": "display_data"
    }
   ],
   "source": [
    "distribution_plot_wrt_target(data, \"working_hours_per_week\", \"salary\")"
   ]
  },
  {
   "cell_type": "markdown",
   "id": "binary-sensitivity",
   "metadata": {
    "id": "NtJBle6f9WLP"
   },
   "source": [
    "* Majority of people having above 50K salary work around 40 hours per week.\n",
    "* Those having >50K salary have a higher range of working hours as compared to the ones with <=50K, but there are outliers present."
   ]
  },
  {
   "cell_type": "code",
   "execution_count": 54,
   "id": "vietnamese-depression",
   "metadata": {},
   "outputs": [
    {
     "data": {
      "image/png": "[encoded data removed]",
      "text/plain": [
       "<Figure size 1080x864 with 1 Axes>"
      ]
     },
     "metadata": {
      "needs_background": "light"
     },
     "output_type": "display_data"
    },
    {
     "data": {
      "application/javascript": [
       "\n",
       "            setTimeout(function() {\n",
       "                var nbb_cell_id = 54;\n",
       "                var nbb_unformatted_code = \"# lets see how working hours per week vary across different occupation\\nplt.figure(figsize=(15, 12))\\nsns.boxplot(\\n    y=\\\"workclass\\\", x=\\\"working_hours_per_week\\\", data=data, hue=\\\"salary\\\", showfliers=False\\n)\\nplt.show()\";\n",
       "                var nbb_formatted_code = \"# lets see how working hours per week vary across different occupation\\nplt.figure(figsize=(15, 12))\\nsns.boxplot(\\n    y=\\\"workclass\\\", x=\\\"working_hours_per_week\\\", data=data, hue=\\\"salary\\\", showfliers=False\\n)\\nplt.show()\";\n",
       "                var nbb_cells = Jupyter.notebook.get_cells();\n",
       "                for (var i = 0; i < nbb_cells.length; ++i) {\n",
       "                    if (nbb_cells[i].input_prompt_number == nbb_cell_id) {\n",
       "                        if (nbb_cells[i].get_text() == nbb_unformatted_code) {\n",
       "                             nbb_cells[i].set_text(nbb_formatted_code);\n",
       "                        }\n",
       "                        break;\n",
       "                    }\n",
       "                }\n",
       "            }, 500);\n",
       "            "
      ],
      "text/plain": [
       "<IPython.core.display.Javascript object>"
      ]
     },
     "metadata": {},
     "output_type": "display_data"
    }
   ],
   "source": [
    "# lets see how working hours per week vary across different occupation\n",
    "plt.figure(figsize=(15, 12))\n",
    "sns.boxplot(\n",
    "    y=\"workclass\", x=\"working_hours_per_week\", data=data, hue=\"salary\", showfliers=False\n",
    ")\n",
    "plt.show()"
   ]
  },
  {
   "cell_type": "markdown",
   "id": "formed-auction",
   "metadata": {},
   "source": [
    "* Private sector employees work for more hours to get a salary above 50K.\n",
    "* There's large variability in the working hours of self-employed people which makes sense as they might be working at their ease.\n",
    "* Without pay and never worked will have no income or less than 50K income.\n",
    "* The number of working hours for many government employees is concentrated at 40 hrs a week, which makes sense as government employees generally have fixed working hours."
   ]
  },
  {
   "cell_type": "markdown",
   "id": "dominant-maple",
   "metadata": {},
   "source": [
    "### <a id='link1'>Summary of EDA</a>\n",
    "**Data Description:**\n",
    "\n",
    "* Dependent variable is the salary which is of categorical data type.\n",
    "* age, capital gain, and capital loss are of integer type while other variables are of categorical type\n",
    "* There are no missing values in the dataset.\n",
    "\n",
    "**Data Cleaning:**\n",
    "\n",
    "* We observed that all the observations where workclass = ? the values in the occupation are ? \n",
    "* The strong pattern between workclass and occupation makes sense as both of these variables capture similar information.\n",
    "* There is no strong correlation of ? observations in occupation and workclass with native_country.\n",
    "* For now we will replaced these ?'s with the 'unknown' category.\n",
    "* There are 42 distinct countries in the data set, which were reduced to their respective continents to reduce the dimension of data and we now have only 5 distinct values in the data.\n",
    "* We reduced the distinct groups of marital_status to three categories: Married, Not-Married and Never-Married.\n",
    "\n",
    "**Observations from EDA:**\n",
    "\n",
    "* `age`: Average age of people in the dataset is 38 years, age has a wide range from 17 to 90 years.\n",
    "* `education_no_of_years`: The average education in years is 10 years. There's a large difference between the minimum value and 25th percentile which indicates that there might be outliers present in this variable.\n",
    "* `capital_gain`: There's a huge difference in the 75th percentile and maximum value of capital_gain indicating the presence of outliers. Also, 75% of the observations are 0.\n",
    "* `capital_loss`: Same as capital gain there's a huge difference in the 75th percentile and maximum value indicating the presence of outliers. Also, 75% of the observations are 0.\n",
    "* `working_hours_per_week`: On average people work for 40 hours a week. A vast difference in minimum value and 25th percentile, as well as 75th percentile and the maximum value, indicates that there might be outliers present in the variable.\n",
    "* `fnlwght`: fnlwght is right-skewed. It has lots of outliers on the right side which we can cap.\n",
    "* `working_hours_per_week`: Most of the data is concentrated around 40 working hours this gives a sense that most of the observations in data might be salaried employees working 8hrs 5 days a week. Some of the observations are clear outliers like working  1 hour a week which needs to be treated.\n",
    "* `workclass`: ~70% of the observations are from the Private sector working class.\n",
    "* `marita_status`: 47.3% of the observations in the dataset are married followed by 32.8% of the people who never married.\n",
    "* `race`: * 94% of the people are native to north_america followed by 2.1% Asians.\n",
    "* `salary vs sex`: ~25% of the males have salary >50K whereas only ~15% of the females have salary >50K.\n",
    "* `salary vs occupation`: - ~50% of the people whose occupation is of Executive Manager, Professor-speciality have a salary above 50,000 dollars. People with occupations like Private house service,handlers-cleaners, farming-fishing have a higher likelihood of having below 50K salary.\n",
    "* `salary vs education`: ~70% of the people of are Doctorate, graduate from Professional school program (Prof-school) have a salary above 50K dollars\n",
    "* `salary vs workclass`: ~50% of the self-employed people have a salary above 50K followed by ~40% of the federal govt employee who has salary more than 50K. ~20% of the people working in the private sector earn more than 50K.\n",
    "* `salary vs working_hours_per_week`: Majority of people having above 50K salary work around 40 hours per week.\n",
    "* Private sector employees work for more hours to get a salary above 50K.\n",
    "* There's large variability in the working hours of self-employed people which makes sense as they might be working at their ease."
   ]
  },
  {
   "cell_type": "markdown",
   "id": "f8671315",
   "metadata": {},
   "source": [
    "### Actions for data pre-processing:\n",
    "\n",
    "* Many variables have outliers that need to be treated.\n",
    "* We can drop capital_gain and capital_loss as most of the observations are 0 in these variables, and if the government already knows a person's capital gain or loss it will be easier for them to classify a person into a salary group."
   ]
  },
  {
   "cell_type": "markdown",
   "id": "strong-spain",
   "metadata": {},
   "source": [
    "### Data Pre-Processing"
   ]
  },
  {
   "cell_type": "markdown",
   "id": "german-assessment",
   "metadata": {
    "id": "7Wd46Gf29WLe"
   },
   "source": [
    "* Dropping capital_gain and capital_loss\n",
    "* There are many outliers in the data which we will treat (perform capping of outliers).\n",
    "* All the values smaller than the lower whisker will be assigned the value of the lower whisker, and all the values above the upper whisker will be assigned the value of the upper whisker."
   ]
  },
  {
   "cell_type": "markdown",
   "id": "fifty-lottery",
   "metadata": {},
   "source": [
    "**Dropping capital_gain and capital_loss**"
   ]
  },
  {
   "cell_type": "code",
   "execution_count": 55,
   "id": "identified-class",
   "metadata": {},
   "outputs": [
    {
     "data": {
      "application/javascript": [
       "\n",
       "            setTimeout(function() {\n",
       "                var nbb_cell_id = 55;\n",
       "                var nbb_unformatted_code = \"data.drop([\\\"capital_gain\\\", \\\"capital_loss\\\"], axis=1, inplace=True)\";\n",
       "                var nbb_formatted_code = \"data.drop([\\\"capital_gain\\\", \\\"capital_loss\\\"], axis=1, inplace=True)\";\n",
       "                var nbb_cells = Jupyter.notebook.get_cells();\n",
       "                for (var i = 0; i < nbb_cells.length; ++i) {\n",
       "                    if (nbb_cells[i].input_prompt_number == nbb_cell_id) {\n",
       "                        if (nbb_cells[i].get_text() == nbb_unformatted_code) {\n",
       "                             nbb_cells[i].set_text(nbb_formatted_code);\n",
       "                        }\n",
       "                        break;\n",
       "                    }\n",
       "                }\n",
       "            }, 500);\n",
       "            "
      ],
      "text/plain": [
       "<IPython.core.display.Javascript object>"
      ]
     },
     "metadata": {},
     "output_type": "display_data"
    }
   ],
   "source": [
    "data.drop([\"capital_gain\", \"capital_loss\"], axis=1, inplace=True)"
   ]
  },
  {
   "cell_type": "markdown",
   "id": "seasonal-catalyst",
   "metadata": {},
   "source": [
    "**Outliers detection using boxplot**"
   ]
  },
  {
   "cell_type": "code",
   "execution_count": 56,
   "id": "national-transsexual",
   "metadata": {
    "colab": {
     "base_uri": "https://localhost:8080/",
     "height": 774
    },
    "id": "1lWp2Zl99WLe",
    "outputId": "679650a3-78e6-4bf8-c93a-b7f5f1c49be6"
   },
   "outputs": [
    {
     "data": {
      "image/png": "[encoded data removed]",
      "text/plain": [
       "<Figure size 1440x2160 with 4 Axes>"
      ]
     },
     "metadata": {
      "needs_background": "light"
     },
     "output_type": "display_data"
    },
    {
     "data": {
      "application/javascript": [
       "\n",
       "            setTimeout(function() {\n",
       "                var nbb_cell_id = 56;\n",
       "                var nbb_unformatted_code = \"numerical_col = data.select_dtypes(include=np.number).columns.tolist()\\nplt.figure(figsize=(20, 30))\\n\\nfor i, variable in enumerate(numerical_col):\\n    plt.subplot(5, 4, i + 1)\\n    plt.boxplot(data[variable], whis=1.5)\\n    plt.tight_layout()\\n    plt.title(variable)\\n\\nplt.show()\";\n",
       "                var nbb_formatted_code = \"numerical_col = data.select_dtypes(include=np.number).columns.tolist()\\nplt.figure(figsize=(20, 30))\\n\\nfor i, variable in enumerate(numerical_col):\\n    plt.subplot(5, 4, i + 1)\\n    plt.boxplot(data[variable], whis=1.5)\\n    plt.tight_layout()\\n    plt.title(variable)\\n\\nplt.show()\";\n",
       "                var nbb_cells = Jupyter.notebook.get_cells();\n",
       "                for (var i = 0; i < nbb_cells.length; ++i) {\n",
       "                    if (nbb_cells[i].input_prompt_number == nbb_cell_id) {\n",
       "                        if (nbb_cells[i].get_text() == nbb_unformatted_code) {\n",
       "                             nbb_cells[i].set_text(nbb_formatted_code);\n",
       "                        }\n",
       "                        break;\n",
       "                    }\n",
       "                }\n",
       "            }, 500);\n",
       "            "
      ],
      "text/plain": [
       "<IPython.core.display.Javascript object>"
      ]
     },
     "metadata": {},
     "output_type": "display_data"
    }
   ],
   "source": [
    "numerical_col = data.select_dtypes(include=np.number).columns.tolist()\n",
    "plt.figure(figsize=(20, 30))\n",
    "\n",
    "for i, variable in enumerate(numerical_col):\n",
    "    plt.subplot(5, 4, i + 1)\n",
    "    plt.boxplot(data[variable], whis=1.5)\n",
    "    plt.tight_layout()\n",
    "    plt.title(variable)\n",
    "\n",
    "plt.show()"
   ]
  },
  {
   "cell_type": "markdown",
   "id": "annual-penalty",
   "metadata": {
    "id": "i9gv73Cj9WLg"
   },
   "source": [
    "* Age and fnlwgt have upper outliers. \n",
    "* education_no_years has lower outliers. \n",
    "* working_hours_per_week has both upper and lower outliers."
   ]
  },
  {
   "cell_type": "markdown",
   "id": "matched-field",
   "metadata": {
    "id": "wlGTPLQA9WLg"
   },
   "source": [
    "### Treating Outliers"
   ]
  },
  {
   "cell_type": "code",
   "execution_count": 57,
   "id": "tested-status",
   "metadata": {
    "id": "aCAdMuMm9WLh"
   },
   "outputs": [
    {
     "data": {
      "application/javascript": [
       "\n",
       "            setTimeout(function() {\n",
       "                var nbb_cell_id = 57;\n",
       "                var nbb_unformatted_code = \"# functions to treat outliers by flooring and capping\\n\\n\\ndef treat_outliers(df, col):\\n    \\\"\\\"\\\"\\n    Treats outliers in a variable\\n\\n    df: dataframe\\n    col: dataframe column\\n    \\\"\\\"\\\"\\n    Q1 = df[col].quantile(0.25)  # 25th quantile\\n    Q3 = df[col].quantile(0.75)  # 75th quantile\\n    IQR = Q3 - Q1\\n    Lower_Whisker = Q1 - 1.5 * IQR\\n    Upper_Whisker = Q3 + 1.5 * IQR\\n\\n    # all the values smaller than Lower_Whisker will be assigned the value of Lower_Whisker\\n    # all the values greater than Upper_Whisker will be assigned the value of Upper_Whisker\\n    df[col] = np.clip(df[col], Lower_Whisker, Upper_Whisker)\\n\\n    return df\\n\\n\\ndef treat_outliers_all(df, col_list):\\n    \\\"\\\"\\\"\\n    Treat outliers in a list of variables\\n\\n    df: dataframe\\n    col_list: list of dataframe columns\\n    \\\"\\\"\\\"\\n    for c in col_list:\\n        df = treat_outliers(df, c)\\n\\n    return df\";\n",
       "                var nbb_formatted_code = \"# functions to treat outliers by flooring and capping\\n\\n\\ndef treat_outliers(df, col):\\n    \\\"\\\"\\\"\\n    Treats outliers in a variable\\n\\n    df: dataframe\\n    col: dataframe column\\n    \\\"\\\"\\\"\\n    Q1 = df[col].quantile(0.25)  # 25th quantile\\n    Q3 = df[col].quantile(0.75)  # 75th quantile\\n    IQR = Q3 - Q1\\n    Lower_Whisker = Q1 - 1.5 * IQR\\n    Upper_Whisker = Q3 + 1.5 * IQR\\n\\n    # all the values smaller than Lower_Whisker will be assigned the value of Lower_Whisker\\n    # all the values greater than Upper_Whisker will be assigned the value of Upper_Whisker\\n    df[col] = np.clip(df[col], Lower_Whisker, Upper_Whisker)\\n\\n    return df\\n\\n\\ndef treat_outliers_all(df, col_list):\\n    \\\"\\\"\\\"\\n    Treat outliers in a list of variables\\n\\n    df: dataframe\\n    col_list: list of dataframe columns\\n    \\\"\\\"\\\"\\n    for c in col_list:\\n        df = treat_outliers(df, c)\\n\\n    return df\";\n",
       "                var nbb_cells = Jupyter.notebook.get_cells();\n",
       "                for (var i = 0; i < nbb_cells.length; ++i) {\n",
       "                    if (nbb_cells[i].input_prompt_number == nbb_cell_id) {\n",
       "                        if (nbb_cells[i].get_text() == nbb_unformatted_code) {\n",
       "                             nbb_cells[i].set_text(nbb_formatted_code);\n",
       "                        }\n",
       "                        break;\n",
       "                    }\n",
       "                }\n",
       "            }, 500);\n",
       "            "
      ],
      "text/plain": [
       "<IPython.core.display.Javascript object>"
      ]
     },
     "metadata": {},
     "output_type": "display_data"
    }
   ],
   "source": [
    "# functions to treat outliers by flooring and capping\n",
    "\n",
    "\n",
    "def treat_outliers(df, col):\n",
    "    \"\"\"\n",
    "    Treats outliers in a variable\n",
    "\n",
    "    df: dataframe\n",
    "    col: dataframe column\n",
    "    \"\"\"\n",
    "    Q1 = df[col].quantile(0.25)  # 25th quantile\n",
    "    Q3 = df[col].quantile(0.75)  # 75th quantile\n",
    "    IQR = Q3 - Q1\n",
    "    Lower_Whisker = Q1 - 1.5 * IQR\n",
    "    Upper_Whisker = Q3 + 1.5 * IQR\n",
    "\n",
    "    # all the values smaller than Lower_Whisker will be assigned the value of Lower_Whisker\n",
    "    # all the values greater than Upper_Whisker will be assigned the value of Upper_Whisker\n",
    "    df[col] = np.clip(df[col], Lower_Whisker, Upper_Whisker)\n",
    "\n",
    "    return df\n",
    "\n",
    "\n",
    "def treat_outliers_all(df, col_list):\n",
    "    \"\"\"\n",
    "    Treat outliers in a list of variables\n",
    "\n",
    "    df: dataframe\n",
    "    col_list: list of dataframe columns\n",
    "    \"\"\"\n",
    "    for c in col_list:\n",
    "        df = treat_outliers(df, c)\n",
    "\n",
    "    return df"
   ]
  },
  {
   "cell_type": "code",
   "execution_count": 58,
   "id": "ordinary-recruitment",
   "metadata": {
    "id": "A8b4w_FX9WLj"
   },
   "outputs": [
    {
     "data": {
      "application/javascript": [
       "\n",
       "            setTimeout(function() {\n",
       "                var nbb_cell_id = 58;\n",
       "                var nbb_unformatted_code = \"numerical_col = data.select_dtypes(include=np.number).columns.tolist()\\ndata = treat_outliers_all(data, numerical_col)\";\n",
       "                var nbb_formatted_code = \"numerical_col = data.select_dtypes(include=np.number).columns.tolist()\\ndata = treat_outliers_all(data, numerical_col)\";\n",
       "                var nbb_cells = Jupyter.notebook.get_cells();\n",
       "                for (var i = 0; i < nbb_cells.length; ++i) {\n",
       "                    if (nbb_cells[i].input_prompt_number == nbb_cell_id) {\n",
       "                        if (nbb_cells[i].get_text() == nbb_unformatted_code) {\n",
       "                             nbb_cells[i].set_text(nbb_formatted_code);\n",
       "                        }\n",
       "                        break;\n",
       "                    }\n",
       "                }\n",
       "            }, 500);\n",
       "            "
      ],
      "text/plain": [
       "<IPython.core.display.Javascript object>"
      ]
     },
     "metadata": {},
     "output_type": "display_data"
    }
   ],
   "source": [
    "numerical_col = data.select_dtypes(include=np.number).columns.tolist()\n",
    "data = treat_outliers_all(data, numerical_col)"
   ]
  },
  {
   "cell_type": "code",
   "execution_count": 59,
   "id": "rocky-limitation",
   "metadata": {},
   "outputs": [
    {
     "data": {
      "image/png": "[encoded data removed]",
      "text/plain": [
       "<Figure size 1440x2160 with 4 Axes>"
      ]
     },
     "metadata": {
      "needs_background": "light"
     },
     "output_type": "display_data"
    },
    {
     "data": {
      "application/javascript": [
       "\n",
       "            setTimeout(function() {\n",
       "                var nbb_cell_id = 59;\n",
       "                var nbb_unformatted_code = \"# let's look at box plot to see if outliers have been treated or not\\nplt.figure(figsize=(20, 30))\\n\\nfor i, variable in enumerate(numerical_col):\\n    plt.subplot(5, 4, i + 1)\\n    plt.boxplot(data[variable], whis=1.5)\\n    plt.tight_layout()\\n    plt.title(variable)\\n\\nplt.show()\";\n",
       "                var nbb_formatted_code = \"# let's look at box plot to see if outliers have been treated or not\\nplt.figure(figsize=(20, 30))\\n\\nfor i, variable in enumerate(numerical_col):\\n    plt.subplot(5, 4, i + 1)\\n    plt.boxplot(data[variable], whis=1.5)\\n    plt.tight_layout()\\n    plt.title(variable)\\n\\nplt.show()\";\n",
       "                var nbb_cells = Jupyter.notebook.get_cells();\n",
       "                for (var i = 0; i < nbb_cells.length; ++i) {\n",
       "                    if (nbb_cells[i].input_prompt_number == nbb_cell_id) {\n",
       "                        if (nbb_cells[i].get_text() == nbb_unformatted_code) {\n",
       "                             nbb_cells[i].set_text(nbb_formatted_code);\n",
       "                        }\n",
       "                        break;\n",
       "                    }\n",
       "                }\n",
       "            }, 500);\n",
       "            "
      ],
      "text/plain": [
       "<IPython.core.display.Javascript object>"
      ]
     },
     "metadata": {},
     "output_type": "display_data"
    }
   ],
   "source": [
    "# let's look at box plot to see if outliers have been treated or not\n",
    "plt.figure(figsize=(20, 30))\n",
    "\n",
    "for i, variable in enumerate(numerical_col):\n",
    "    plt.subplot(5, 4, i + 1)\n",
    "    plt.boxplot(data[variable], whis=1.5)\n",
    "    plt.tight_layout()\n",
    "    plt.title(variable)\n",
    "\n",
    "plt.show()"
   ]
  },
  {
   "cell_type": "markdown",
   "id": "prescribed-focus",
   "metadata": {},
   "source": [
    "### Data Preparation"
   ]
  },
  {
   "cell_type": "markdown",
   "id": "cellular-david",
   "metadata": {},
   "source": [
    "**Encoding >50K as 0 and <=50K as 1 as government wants to find underprivileged section of society.**"
   ]
  },
  {
   "cell_type": "code",
   "execution_count": 60,
   "id": "purple-annotation",
   "metadata": {},
   "outputs": [
    {
     "data": {
      "application/javascript": [
       "\n",
       "            setTimeout(function() {\n",
       "                var nbb_cell_id = 60;\n",
       "                var nbb_unformatted_code = \"data[\\\"salary\\\"] = data[\\\"salary\\\"].apply(lambda x: 1 if x == \\\" <=50K\\\" else 0)\";\n",
       "                var nbb_formatted_code = \"data[\\\"salary\\\"] = data[\\\"salary\\\"].apply(lambda x: 1 if x == \\\" <=50K\\\" else 0)\";\n",
       "                var nbb_cells = Jupyter.notebook.get_cells();\n",
       "                for (var i = 0; i < nbb_cells.length; ++i) {\n",
       "                    if (nbb_cells[i].input_prompt_number == nbb_cell_id) {\n",
       "                        if (nbb_cells[i].get_text() == nbb_unformatted_code) {\n",
       "                             nbb_cells[i].set_text(nbb_formatted_code);\n",
       "                        }\n",
       "                        break;\n",
       "                    }\n",
       "                }\n",
       "            }, 500);\n",
       "            "
      ],
      "text/plain": [
       "<IPython.core.display.Javascript object>"
      ]
     },
     "metadata": {},
     "output_type": "display_data"
    }
   ],
   "source": [
    "data[\"salary\"] = data[\"salary\"].apply(lambda x: 1 if x == \" <=50K\" else 0)"
   ]
  },
  {
   "cell_type": "markdown",
   "id": "lesbian-soldier",
   "metadata": {},
   "source": [
    "**Creating training and test sets.**"
   ]
  },
  {
   "cell_type": "code",
   "execution_count": 61,
   "id": "metallic-latex",
   "metadata": {},
   "outputs": [
    {
     "data": {
      "application/javascript": [
       "\n",
       "            setTimeout(function() {\n",
       "                var nbb_cell_id = 61;\n",
       "                var nbb_unformatted_code = \"X = data.drop([\\\"salary\\\"], axis=1)\\nY = data[\\\"salary\\\"]\\n\\nX = pd.get_dummies(X, drop_first=True)\\n\\n# Splitting data in train and test sets\\nX_train, X_test, y_train, y_test = train_test_split(\\n    X, Y, test_size=0.30, random_state=1\\n)\";\n",
       "                var nbb_formatted_code = \"X = data.drop([\\\"salary\\\"], axis=1)\\nY = data[\\\"salary\\\"]\\n\\nX = pd.get_dummies(X, drop_first=True)\\n\\n# Splitting data in train and test sets\\nX_train, X_test, y_train, y_test = train_test_split(\\n    X, Y, test_size=0.30, random_state=1\\n)\";\n",
       "                var nbb_cells = Jupyter.notebook.get_cells();\n",
       "                for (var i = 0; i < nbb_cells.length; ++i) {\n",
       "                    if (nbb_cells[i].input_prompt_number == nbb_cell_id) {\n",
       "                        if (nbb_cells[i].get_text() == nbb_unformatted_code) {\n",
       "                             nbb_cells[i].set_text(nbb_formatted_code);\n",
       "                        }\n",
       "                        break;\n",
       "                    }\n",
       "                }\n",
       "            }, 500);\n",
       "            "
      ],
      "text/plain": [
       "<IPython.core.display.Javascript object>"
      ]
     },
     "metadata": {},
     "output_type": "display_data"
    }
   ],
   "source": [
    "X = data.drop([\"salary\"], axis=1)\n",
    "Y = data[\"salary\"]\n",
    "\n",
    "X = pd.get_dummies(X, drop_first=True)\n",
    "\n",
    "# Splitting data in train and test sets\n",
    "X_train, X_test, y_train, y_test = train_test_split(\n",
    "    X, Y, test_size=0.30, random_state=1\n",
    ")"
   ]
  },
  {
   "cell_type": "code",
   "execution_count": 62,
   "id": "organized-worth",
   "metadata": {},
   "outputs": [
    {
     "name": "stdout",
     "output_type": "stream",
     "text": [
      "Shape of Training set :  (22792, 52)\n",
      "Shape of test set :  (9769, 52)\n",
      "Percentage of classes in training set:\n",
      "1    0.753335\n",
      "0    0.246665\n",
      "Name: salary, dtype: float64\n",
      "Percentage of classes in test set:\n",
      "1    0.772853\n",
      "0    0.227147\n",
      "Name: salary, dtype: float64\n"
     ]
    },
    {
     "data": {
      "application/javascript": [
       "\n",
       "            setTimeout(function() {\n",
       "                var nbb_cell_id = 62;\n",
       "                var nbb_unformatted_code = \"print(\\\"Shape of Training set : \\\", X_train.shape)\\nprint(\\\"Shape of test set : \\\", X_test.shape)\\nprint(\\\"Percentage of classes in training set:\\\")\\nprint(y_train.value_counts(normalize=True))\\nprint(\\\"Percentage of classes in test set:\\\")\\nprint(y_test.value_counts(normalize=True))\";\n",
       "                var nbb_formatted_code = \"print(\\\"Shape of Training set : \\\", X_train.shape)\\nprint(\\\"Shape of test set : \\\", X_test.shape)\\nprint(\\\"Percentage of classes in training set:\\\")\\nprint(y_train.value_counts(normalize=True))\\nprint(\\\"Percentage of classes in test set:\\\")\\nprint(y_test.value_counts(normalize=True))\";\n",
       "                var nbb_cells = Jupyter.notebook.get_cells();\n",
       "                for (var i = 0; i < nbb_cells.length; ++i) {\n",
       "                    if (nbb_cells[i].input_prompt_number == nbb_cell_id) {\n",
       "                        if (nbb_cells[i].get_text() == nbb_unformatted_code) {\n",
       "                             nbb_cells[i].set_text(nbb_formatted_code);\n",
       "                        }\n",
       "                        break;\n",
       "                    }\n",
       "                }\n",
       "            }, 500);\n",
       "            "
      ],
      "text/plain": [
       "<IPython.core.display.Javascript object>"
      ]
     },
     "metadata": {},
     "output_type": "display_data"
    }
   ],
   "source": [
    "print(\"Shape of Training set : \", X_train.shape)\n",
    "print(\"Shape of test set : \", X_test.shape)\n",
    "print(\"Percentage of classes in training set:\")\n",
    "print(y_train.value_counts(normalize=True))\n",
    "print(\"Percentage of classes in test set:\")\n",
    "print(y_test.value_counts(normalize=True))"
   ]
  },
  {
   "cell_type": "markdown",
   "id": "developing-survival",
   "metadata": {},
   "source": [
    "### Building the model"
   ]
  },
  {
   "cell_type": "markdown",
   "id": "elect-domain",
   "metadata": {},
   "source": [
    "### Model evaluation criterion\n",
    "\n",
    "### Model can make wrong predictions as:\n",
    "1. Predicting a person has a salary <=50K but in reality the salary of the person is >50K.\n",
    "2. Predicting a person doesn't have a salary <=50K but in reality the salary of the person is <=50k.\n",
    "\n",
    "### Which case is more important? \n",
    "* Both the cases are important as:\n",
    "\n",
    "* If we predict a person has a salary <=50K but actually the salary is >50K then a wrong person will be getting the benefits of the scheme and government might lose resources.\n",
    "\n",
    "* If we predict a person doesn't have a salary <=50K but actually the salary is <=50K that person will not be able to avail the benefits of the scheme constituting to opportunity loss.\n",
    "\n",
    "\n",
    "### How to reduce this loss i.e need to reduce False Negatives?\n",
    "*  `f1_score` should be maximized, the greater the f1_score higher the chances of identifying both the classes correctly."
   ]
  },
  {
   "cell_type": "markdown",
   "id": "industrial-merchant",
   "metadata": {},
   "source": [
    "#### First, let's create functions to calculate different metrics and confusion matrix so that we don't have to use the same code repeatedly for each model.\n",
    "* The model_performance_classification_statsmodels function will be used to check the model performance of models. \n",
    "* The confusion_matrix_statsmodels function will be used to plot confusion matrix."
   ]
  },
  {
   "cell_type": "code",
   "execution_count": 63,
   "id": "pregnant-madagascar",
   "metadata": {},
   "outputs": [
    {
     "data": {
      "application/javascript": [
       "\n",
       "            setTimeout(function() {\n",
       "                var nbb_cell_id = 63;\n",
       "                var nbb_unformatted_code = \"# defining a function to compute different metrics to check performance of a classification model built using statsmodels\\ndef model_performance_classification_statsmodels(\\n    model, predictors, target, threshold=0.5\\n):\\n    \\\"\\\"\\\"\\n    Function to compute different metrics to check classification model performance\\n\\n    model: classifier\\n    predictors: independent variables\\n    target: dependent variable\\n    threshold: threshold for classifying the observation as class 1\\n    \\\"\\\"\\\"\\n\\n    # checking which probabilities are greater than threshold\\n    pred_temp = model.predict(predictors) > threshold\\n    # rounding off the above values to get classes\\n    pred = np.round(pred_temp)\\n\\n    acc = accuracy_score(target, pred)  # to compute Accuracy\\n    recall = recall_score(target, pred)  # to compute Recall\\n    precision = precision_score(target, pred)  # to compute Precision\\n    f1 = f1_score(target, pred)  # to compute F1-score\\n\\n    # creating a dataframe of metrics\\n    df_perf = pd.DataFrame(\\n        {\\\"Accuracy\\\": acc, \\\"Recall\\\": recall, \\\"Precision\\\": precision, \\\"F1\\\": f1,},\\n        index=[0],\\n    )\\n\\n    return df_perf\";\n",
       "                var nbb_formatted_code = \"# defining a function to compute different metrics to check performance of a classification model built using statsmodels\\ndef model_performance_classification_statsmodels(\\n    model, predictors, target, threshold=0.5\\n):\\n    \\\"\\\"\\\"\\n    Function to compute different metrics to check classification model performance\\n\\n    model: classifier\\n    predictors: independent variables\\n    target: dependent variable\\n    threshold: threshold for classifying the observation as class 1\\n    \\\"\\\"\\\"\\n\\n    # checking which probabilities are greater than threshold\\n    pred_temp = model.predict(predictors) > threshold\\n    # rounding off the above values to get classes\\n    pred = np.round(pred_temp)\\n\\n    acc = accuracy_score(target, pred)  # to compute Accuracy\\n    recall = recall_score(target, pred)  # to compute Recall\\n    precision = precision_score(target, pred)  # to compute Precision\\n    f1 = f1_score(target, pred)  # to compute F1-score\\n\\n    # creating a dataframe of metrics\\n    df_perf = pd.DataFrame(\\n        {\\n            \\\"Accuracy\\\": acc,\\n            \\\"Recall\\\": recall,\\n            \\\"Precision\\\": precision,\\n            \\\"F1\\\": f1,\\n        },\\n        index=[0],\\n    )\\n\\n    return df_perf\";\n",
       "                var nbb_cells = Jupyter.notebook.get_cells();\n",
       "                for (var i = 0; i < nbb_cells.length; ++i) {\n",
       "                    if (nbb_cells[i].input_prompt_number == nbb_cell_id) {\n",
       "                        if (nbb_cells[i].get_text() == nbb_unformatted_code) {\n",
       "                             nbb_cells[i].set_text(nbb_formatted_code);\n",
       "                        }\n",
       "                        break;\n",
       "                    }\n",
       "                }\n",
       "            }, 500);\n",
       "            "
      ],
      "text/plain": [
       "<IPython.core.display.Javascript object>"
      ]
     },
     "metadata": {},
     "output_type": "display_data"
    }
   ],
   "source": [
    "# defining a function to compute different metrics to check performance of a classification model built using statsmodels\n",
    "def model_performance_classification_statsmodels(\n",
    "    model, predictors, target, threshold=0.5\n",
    "):\n",
    "    \"\"\"\n",
    "    Function to compute different metrics to check classification model performance\n",
    "\n",
    "    model: classifier\n",
    "    predictors: independent variables\n",
    "    target: dependent variable\n",
    "    threshold: threshold for classifying the observation as class 1\n",
    "    \"\"\"\n",
    "\n",
    "    # checking which probabilities are greater than threshold\n",
    "    pred_temp = model.predict(predictors) > threshold\n",
    "    # rounding off the above values to get classes\n",
    "    pred = np.round(pred_temp)\n",
    "\n",
    "    acc = accuracy_score(target, pred)  # to compute Accuracy\n",
    "    recall = recall_score(target, pred)  # to compute Recall\n",
    "    precision = precision_score(target, pred)  # to compute Precision\n",
    "    f1 = f1_score(target, pred)  # to compute F1-score\n",
    "\n",
    "    # creating a dataframe of metrics\n",
    "    df_perf = pd.DataFrame(\n",
    "        {\"Accuracy\": acc, \"Recall\": recall, \"Precision\": precision, \"F1\": f1,},\n",
    "        index=[0],\n",
    "    )\n",
    "\n",
    "    return df_perf"
   ]
  },
  {
   "cell_type": "code",
   "execution_count": 107,
   "id": "adjacent-community",
   "metadata": {},
   "outputs": [
    {
     "data": {
      "application/javascript": [
       "\n",
       "            setTimeout(function() {\n",
       "                var nbb_cell_id = 107;\n",
       "                var nbb_unformatted_code = \"# defining a function to plot the confusion_matrix of a classification model\\n\\n\\ndef confusion_matrix_statsmodels(model, predictors, target, threshold=0.5):\\n    \\\"\\\"\\\"\\n    To plot the confusion_matrix with percentages\\n\\n    model: classifier\\n    predictors: independent variables\\n    target: dependent variable\\n    threshold: threshold for classifying the observation as class 1\\n    \\\"\\\"\\\"\\n    y_pred = model.predict(predictors) > threshold\\n    cm = confusion_matrix(target, y_pred)\\n    labels = np.asarray(\\n        [\\n            [\\\"{0:0.0f}\\\".format(item) + \\\"\\\\n{0:.2%}\\\".format(item / cm.flatten().sum())]\\n            for item in cm.flatten()\\n        ]\\n    ).reshape(2, 2)\\n\\n    plt.figure(figsize=(6, 4))\\n    sns.heatmap(cm, annot=labels, fmt=\\\"\\\")\\n    plt.ylabel(\\\"True label\\\")\\n    plt.xlabel(\\\"Predicted label\\\")\";\n",
       "                var nbb_formatted_code = \"# defining a function to plot the confusion_matrix of a classification model\\n\\n\\ndef confusion_matrix_statsmodels(model, predictors, target, threshold=0.5):\\n    \\\"\\\"\\\"\\n    To plot the confusion_matrix with percentages\\n\\n    model: classifier\\n    predictors: independent variables\\n    target: dependent variable\\n    threshold: threshold for classifying the observation as class 1\\n    \\\"\\\"\\\"\\n    y_pred = model.predict(predictors) > threshold\\n    cm = confusion_matrix(target, y_pred)\\n    labels = np.asarray(\\n        [\\n            [\\\"{0:0.0f}\\\".format(item) + \\\"\\\\n{0:.2%}\\\".format(item / cm.flatten().sum())]\\n            for item in cm.flatten()\\n        ]\\n    ).reshape(2, 2)\\n\\n    plt.figure(figsize=(6, 4))\\n    sns.heatmap(cm, annot=labels, fmt=\\\"\\\")\\n    plt.ylabel(\\\"True label\\\")\\n    plt.xlabel(\\\"Predicted label\\\")\";\n",
       "                var nbb_cells = Jupyter.notebook.get_cells();\n",
       "                for (var i = 0; i < nbb_cells.length; ++i) {\n",
       "                    if (nbb_cells[i].input_prompt_number == nbb_cell_id) {\n",
       "                        if (nbb_cells[i].get_text() == nbb_unformatted_code) {\n",
       "                             nbb_cells[i].set_text(nbb_formatted_code);\n",
       "                        }\n",
       "                        break;\n",
       "                    }\n",
       "                }\n",
       "            }, 500);\n",
       "            "
      ],
      "text/plain": [
       "<IPython.core.display.Javascript object>"
      ]
     },
     "metadata": {},
     "output_type": "display_data"
    }
   ],
   "source": [
    "# defining a function to plot the confusion_matrix of a classification model\n",
    "\n",
    "\n",
    "def confusion_matrix_statsmodels(model, predictors, target, threshold=0.5):\n",
    "    \"\"\"\n",
    "    To plot the confusion_matrix with percentages\n",
    "\n",
    "    model: classifier\n",
    "    predictors: independent variables\n",
    "    target: dependent variable\n",
    "    threshold: threshold for classifying the observation as class 1\n",
    "    \"\"\"\n",
    "    y_pred = model.predict(predictors) > threshold\n",
    "    cm = confusion_matrix(target, y_pred)\n",
    "    labels = np.asarray(\n",
    "        [\n",
    "            [\"{0:0.0f}\".format(item) + \"\\n{0:.2%}\".format(item / cm.flatten().sum())]\n",
    "            for item in cm.flatten()\n",
    "        ]\n",
    "    ).reshape(2, 2)\n",
    "\n",
    "    plt.figure(figsize=(6, 4))\n",
    "    sns.heatmap(cm, annot=labels, fmt=\"\")\n",
    "    plt.ylabel(\"True label\")\n",
    "    plt.xlabel(\"Predicted label\")"
   ]
  },
  {
   "cell_type": "markdown",
   "id": "waiting-clinic",
   "metadata": {},
   "source": [
    "### Logistic Regression (with Sklearn library)"
   ]
  },
  {
   "cell_type": "code",
   "execution_count": 65,
   "id": "judicial-acrylic",
   "metadata": {},
   "outputs": [
    {
     "data": {
      "application/javascript": [
       "\n",
       "            setTimeout(function() {\n",
       "                var nbb_cell_id = 65;\n",
       "                var nbb_unformatted_code = \"# There are different solvers available in Sklearn logistic regression\\n# The newton-cg solver is faster for high-dimensional data\\n\\nlg = LogisticRegression(solver=\\\"newton-cg\\\", random_state=1)\\nmodel = lg.fit(X_train, y_train)\";\n",
       "                var nbb_formatted_code = \"# There are different solvers available in Sklearn logistic regression\\n# The newton-cg solver is faster for high-dimensional data\\n\\nlg = LogisticRegression(solver=\\\"newton-cg\\\", random_state=1)\\nmodel = lg.fit(X_train, y_train)\";\n",
       "                var nbb_cells = Jupyter.notebook.get_cells();\n",
       "                for (var i = 0; i < nbb_cells.length; ++i) {\n",
       "                    if (nbb_cells[i].input_prompt_number == nbb_cell_id) {\n",
       "                        if (nbb_cells[i].get_text() == nbb_unformatted_code) {\n",
       "                             nbb_cells[i].set_text(nbb_formatted_code);\n",
       "                        }\n",
       "                        break;\n",
       "                    }\n",
       "                }\n",
       "            }, 500);\n",
       "            "
      ],
      "text/plain": [
       "<IPython.core.display.Javascript object>"
      ]
     },
     "metadata": {},
     "output_type": "display_data"
    }
   ],
   "source": [
    "# There are different solvers available in Sklearn logistic regression\n",
    "# The newton-cg solver is faster for high-dimensional data\n",
    "\n",
    "lg = LogisticRegression(solver=\"newton-cg\", random_state=1)\n",
    "model = lg.fit(X_train, y_train)"
   ]
  },
  {
   "cell_type": "markdown",
   "id": "economic-degree",
   "metadata": {},
   "source": [
    "#### Checking model performance on training set"
   ]
  },
  {
   "cell_type": "code",
   "execution_count": 66,
   "id": "healthy-catalog",
   "metadata": {},
   "outputs": [
    {
     "data": {
      "application/javascript": [
       "\n",
       "            setTimeout(function() {\n",
       "                var nbb_cell_id = 66;\n",
       "                var nbb_unformatted_code = \"# predicting on training set\\ny_pred_train = lg.predict(X_train)\";\n",
       "                var nbb_formatted_code = \"# predicting on training set\\ny_pred_train = lg.predict(X_train)\";\n",
       "                var nbb_cells = Jupyter.notebook.get_cells();\n",
       "                for (var i = 0; i < nbb_cells.length; ++i) {\n",
       "                    if (nbb_cells[i].input_prompt_number == nbb_cell_id) {\n",
       "                        if (nbb_cells[i].get_text() == nbb_unformatted_code) {\n",
       "                             nbb_cells[i].set_text(nbb_formatted_code);\n",
       "                        }\n",
       "                        break;\n",
       "                    }\n",
       "                }\n",
       "            }, 500);\n",
       "            "
      ],
      "text/plain": [
       "<IPython.core.display.Javascript object>"
      ]
     },
     "metadata": {},
     "output_type": "display_data"
    }
   ],
   "source": [
    "# predicting on training set\n",
    "y_pred_train = lg.predict(X_train)"
   ]
  },
  {
   "cell_type": "code",
   "execution_count": 67,
   "id": "appropriate-rabbit",
   "metadata": {},
   "outputs": [
    {
     "name": "stdout",
     "output_type": "stream",
     "text": [
      "Training set performance:\n",
      "Accuracy: 0.8331432081432082\n",
      "Precision: 0.8650390518324321\n",
      "Recall: 0.922422830518346\n",
      "F1: 0.8928098311677329\n"
     ]
    },
    {
     "data": {
      "application/javascript": [
       "\n",
       "            setTimeout(function() {\n",
       "                var nbb_cell_id = 67;\n",
       "                var nbb_unformatted_code = \"print(\\\"Training set performance:\\\")\\nprint(\\\"Accuracy:\\\", accuracy_score(y_train, y_pred_train))\\nprint(\\\"Precision:\\\", precision_score(y_train, y_pred_train))\\nprint(\\\"Recall:\\\", recall_score(y_train, y_pred_train))\\nprint(\\\"F1:\\\", f1_score(y_train, y_pred_train))\";\n",
       "                var nbb_formatted_code = \"print(\\\"Training set performance:\\\")\\nprint(\\\"Accuracy:\\\", accuracy_score(y_train, y_pred_train))\\nprint(\\\"Precision:\\\", precision_score(y_train, y_pred_train))\\nprint(\\\"Recall:\\\", recall_score(y_train, y_pred_train))\\nprint(\\\"F1:\\\", f1_score(y_train, y_pred_train))\";\n",
       "                var nbb_cells = Jupyter.notebook.get_cells();\n",
       "                for (var i = 0; i < nbb_cells.length; ++i) {\n",
       "                    if (nbb_cells[i].input_prompt_number == nbb_cell_id) {\n",
       "                        if (nbb_cells[i].get_text() == nbb_unformatted_code) {\n",
       "                             nbb_cells[i].set_text(nbb_formatted_code);\n",
       "                        }\n",
       "                        break;\n",
       "                    }\n",
       "                }\n",
       "            }, 500);\n",
       "            "
      ],
      "text/plain": [
       "<IPython.core.display.Javascript object>"
      ]
     },
     "metadata": {},
     "output_type": "display_data"
    }
   ],
   "source": [
    "print(\"Training set performance:\")\n",
    "print(\"Accuracy:\", accuracy_score(y_train, y_pred_train))\n",
    "print(\"Precision:\", precision_score(y_train, y_pred_train))\n",
    "print(\"Recall:\", recall_score(y_train, y_pred_train))\n",
    "print(\"F1:\", f1_score(y_train, y_pred_train))"
   ]
  },
  {
   "cell_type": "markdown",
   "id": "classical-ladder",
   "metadata": {},
   "source": [
    "#### Checking performance on test set"
   ]
  },
  {
   "cell_type": "code",
   "execution_count": 68,
   "id": "prescription-basic",
   "metadata": {},
   "outputs": [
    {
     "data": {
      "application/javascript": [
       "\n",
       "            setTimeout(function() {\n",
       "                var nbb_cell_id = 68;\n",
       "                var nbb_unformatted_code = \"# predicting on the test set\\ny_pred_test = lg.predict(X_test)\";\n",
       "                var nbb_formatted_code = \"# predicting on the test set\\ny_pred_test = lg.predict(X_test)\";\n",
       "                var nbb_cells = Jupyter.notebook.get_cells();\n",
       "                for (var i = 0; i < nbb_cells.length; ++i) {\n",
       "                    if (nbb_cells[i].input_prompt_number == nbb_cell_id) {\n",
       "                        if (nbb_cells[i].get_text() == nbb_unformatted_code) {\n",
       "                             nbb_cells[i].set_text(nbb_formatted_code);\n",
       "                        }\n",
       "                        break;\n",
       "                    }\n",
       "                }\n",
       "            }, 500);\n",
       "            "
      ],
      "text/plain": [
       "<IPython.core.display.Javascript object>"
      ]
     },
     "metadata": {},
     "output_type": "display_data"
    }
   ],
   "source": [
    "# predicting on the test set\n",
    "y_pred_test = lg.predict(X_test)"
   ]
  },
  {
   "cell_type": "code",
   "execution_count": 69,
   "id": "smoking-kruger",
   "metadata": {},
   "outputs": [
    {
     "name": "stdout",
     "output_type": "stream",
     "text": [
      "Test set performance:\n",
      "Accuracy: 0.8377520728836114\n",
      "Precision: 0.8782498414711477\n",
      "Recall: 0.9172185430463576\n",
      "F1: 0.8973113054745707\n"
     ]
    },
    {
     "data": {
      "application/javascript": [
       "\n",
       "            setTimeout(function() {\n",
       "                var nbb_cell_id = 69;\n",
       "                var nbb_unformatted_code = \"print(\\\"Test set performance:\\\")\\nprint(\\\"Accuracy:\\\", accuracy_score(y_test, y_pred_test))\\nprint(\\\"Precision:\\\", precision_score(y_test, y_pred_test))\\nprint(\\\"Recall:\\\", recall_score(y_test, y_pred_test))\\nprint(\\\"F1:\\\", f1_score(y_test, y_pred_test))\";\n",
       "                var nbb_formatted_code = \"print(\\\"Test set performance:\\\")\\nprint(\\\"Accuracy:\\\", accuracy_score(y_test, y_pred_test))\\nprint(\\\"Precision:\\\", precision_score(y_test, y_pred_test))\\nprint(\\\"Recall:\\\", recall_score(y_test, y_pred_test))\\nprint(\\\"F1:\\\", f1_score(y_test, y_pred_test))\";\n",
       "                var nbb_cells = Jupyter.notebook.get_cells();\n",
       "                for (var i = 0; i < nbb_cells.length; ++i) {\n",
       "                    if (nbb_cells[i].input_prompt_number == nbb_cell_id) {\n",
       "                        if (nbb_cells[i].get_text() == nbb_unformatted_code) {\n",
       "                             nbb_cells[i].set_text(nbb_formatted_code);\n",
       "                        }\n",
       "                        break;\n",
       "                    }\n",
       "                }\n",
       "            }, 500);\n",
       "            "
      ],
      "text/plain": [
       "<IPython.core.display.Javascript object>"
      ]
     },
     "metadata": {},
     "output_type": "display_data"
    }
   ],
   "source": [
    "print(\"Test set performance:\")\n",
    "print(\"Accuracy:\", accuracy_score(y_test, y_pred_test))\n",
    "print(\"Precision:\", precision_score(y_test, y_pred_test))\n",
    "print(\"Recall:\", recall_score(y_test, y_pred_test))\n",
    "print(\"F1:\", f1_score(y_test, y_pred_test))"
   ]
  },
  {
   "cell_type": "markdown",
   "id": "early-neighborhood",
   "metadata": {},
   "source": [
    "**Observations**\n",
    "\n",
    "- The training and testing f1_scores are 0.89.\n",
    "\n",
    "- f1_score on the train and test sets are comparable.\n",
    "\n",
    "- This shows that the model is showing generalised results."
   ]
  },
  {
   "cell_type": "markdown",
   "id": "north-practice",
   "metadata": {},
   "source": [
    "- We have build a logistic regression model which shows good performance on the train and test sets but to identify significant variables we will have to build a logistic regression model using the statsmodels library."
   ]
  },
  {
   "cell_type": "markdown",
   "id": "million-currency",
   "metadata": {},
   "source": [
    "- We will now perform logistic regression using statsmodels, a Python module that provides functions for the estimation of many statistical models, as well as for conducting statistical tests, and statistical data exploration.\n",
    "\n",
    "- Using statsmodels, we will be able to check the statistical validity of our model - identify the significant predictors from p-values that we get for each predictor variable."
   ]
  },
  {
   "cell_type": "markdown",
   "id": "copyrighted-toronto",
   "metadata": {},
   "source": [
    "### Logistic Regression (with statsmodels library)"
   ]
  },
  {
   "cell_type": "code",
   "execution_count": 70,
   "id": "jewish-sheriff",
   "metadata": {},
   "outputs": [
    {
     "data": {
      "application/javascript": [
       "\n",
       "            setTimeout(function() {\n",
       "                var nbb_cell_id = 70;\n",
       "                var nbb_unformatted_code = \"X = data.drop([\\\"salary\\\"], axis=1)\\nY = data[\\\"salary\\\"]\\n\\nX = pd.get_dummies(X, drop_first=True)\\n\\n# adding constant\\nX = sm.add_constant(X)\\n\\n# Splitting data in train and test sets\\nX_train, X_test, y_train, y_test = train_test_split(\\n    X, Y, test_size=0.30, random_state=1\\n)\";\n",
       "                var nbb_formatted_code = \"X = data.drop([\\\"salary\\\"], axis=1)\\nY = data[\\\"salary\\\"]\\n\\nX = pd.get_dummies(X, drop_first=True)\\n\\n# adding constant\\nX = sm.add_constant(X)\\n\\n# Splitting data in train and test sets\\nX_train, X_test, y_train, y_test = train_test_split(\\n    X, Y, test_size=0.30, random_state=1\\n)\";\n",
       "                var nbb_cells = Jupyter.notebook.get_cells();\n",
       "                for (var i = 0; i < nbb_cells.length; ++i) {\n",
       "                    if (nbb_cells[i].input_prompt_number == nbb_cell_id) {\n",
       "                        if (nbb_cells[i].get_text() == nbb_unformatted_code) {\n",
       "                             nbb_cells[i].set_text(nbb_formatted_code);\n",
       "                        }\n",
       "                        break;\n",
       "                    }\n",
       "                }\n",
       "            }, 500);\n",
       "            "
      ],
      "text/plain": [
       "<IPython.core.display.Javascript object>"
      ]
     },
     "metadata": {},
     "output_type": "display_data"
    }
   ],
   "source": [
    "X = data.drop([\"salary\"], axis=1)\n",
    "Y = data[\"salary\"]\n",
    "\n",
    "X = pd.get_dummies(X, drop_first=True)\n",
    "\n",
    "# adding constant\n",
    "X = sm.add_constant(X)\n",
    "\n",
    "# Splitting data in train and test sets\n",
    "X_train, X_test, y_train, y_test = train_test_split(\n",
    "    X, Y, test_size=0.30, random_state=1\n",
    ")"
   ]
  },
  {
   "cell_type": "code",
   "execution_count": 71,
   "id": "automated-grenada",
   "metadata": {},
   "outputs": [
    {
     "name": "stdout",
     "output_type": "stream",
     "text": [
      "                           Logit Regression Results                           \n",
      "==============================================================================\n",
      "Dep. Variable:                 salary   No. Observations:                22792\n",
      "Model:                          Logit   Df Residuals:                    22740\n",
      "Method:                           MLE   Df Model:                           51\n",
      "Date:                Fri, 03 Sep 2021   Pseudo R-squ.:                  0.3631\n",
      "Time:                        14:35:04   Log-Likelihood:                -8109.9\n",
      "converged:                      False   LL-Null:                       -12733.\n",
      "Covariance Type:            nonrobust   LLR p-value:                     0.000\n",
      "=================================================================================================\n",
      "                                    coef    std err          z      P>|z|      [0.025      0.975]\n",
      "-------------------------------------------------------------------------------------------------\n",
      "const                             9.8403        nan        nan        nan         nan         nan\n",
      "age                              -0.0296      0.002    -16.233      0.000      -0.033      -0.026\n",
      "fnlwgt                        -8.962e-07   2.11e-07     -4.244      0.000   -1.31e-06   -4.82e-07\n",
      "education_no_of_years            -0.1993        nan        nan        nan         nan         nan\n",
      "working_hours_per_week           -0.0676      0.003    -19.417      0.000      -0.074      -0.061\n",
      "workclass_ Local-gov              0.7003      0.127      5.529      0.000       0.452       0.949\n",
      "workclass_ Never-worked          12.7959        nan        nan        nan         nan         nan\n",
      "workclass_ Private                0.4649      0.105      4.424      0.000       0.259       0.671\n",
      "workclass_ Self-emp-inc           0.1071      0.138      0.776      0.438      -0.163       0.377\n",
      "workclass_ Self-emp-not-inc       0.9197      0.123      7.485      0.000       0.679       1.160\n",
      "workclass_ State-gov              0.6757      0.140      4.843      0.000       0.402       0.949\n",
      "workclass_ Without-pay           19.9791   1.03e+04      0.002      0.998   -2.02e+04    2.03e+04\n",
      "workclass_Unknown                -5.8025        nan        nan        nan         nan         nan\n",
      "education_ 11th                   0.1602        nan        nan        nan         nan         nan\n",
      "education_ 12th                  -0.1161        nan        nan        nan         nan         nan\n",
      "education_ 1st-4th                0.4957        nan        nan        nan         nan         nan\n",
      "education_ 5th-6th                0.1761        nan        nan        nan         nan         nan\n",
      "education_ 7th-8th                0.2590        nan        nan        nan         nan         nan\n",
      "education_ 9th                    0.2793        nan        nan        nan         nan         nan\n",
      "education_ Assoc-acdm            -0.1817        nan        nan        nan         nan         nan\n",
      "education_ Assoc-voc             -0.4214        nan        nan        nan         nan         nan\n",
      "education_ Bachelors             -0.6339        nan        nan        nan         nan         nan\n",
      "education_ Doctorate             -0.9419        nan        nan        nan         nan         nan\n",
      "education_ HS-grad               -0.2731        nan        nan        nan         nan         nan\n",
      "education_ Masters               -0.8273        nan        nan        nan         nan         nan\n",
      "education_ Preschool             13.2212        nan        nan        nan         nan         nan\n",
      "education_ Prof-school           -1.2857        nan        nan        nan         nan         nan\n",
      "education_ Some-college          -0.3998        nan        nan        nan         nan         nan\n",
      "marital_status_married           -2.5557      0.069    -37.298      0.000      -2.690      -2.421\n",
      "marital_status_not_married       -0.4237      0.083     -5.104      0.000      -0.586      -0.261\n",
      "occupation_ Armed-Forces          0.9057      1.334      0.679      0.497      -1.708       3.520\n",
      "occupation_ Craft-repair         -0.0982      0.089     -1.109      0.267      -0.272       0.075\n",
      "occupation_ Exec-managerial      -0.7609      0.085     -8.939      0.000      -0.928      -0.594\n",
      "occupation_ Farming-fishing       0.9681      0.155      6.234      0.000       0.664       1.272\n",
      "occupation_ Handlers-cleaners     0.7093      0.158      4.476      0.000       0.399       1.020\n",
      "occupation_ Machine-op-inspct     0.3001      0.114      2.636      0.008       0.077       0.523\n",
      "occupation_ Other-service         0.9223      0.132      6.992      0.000       0.664       1.181\n",
      "occupation_ Priv-house-serv       2.2452      1.086      2.068      0.039       0.117       4.373\n",
      "occupation_ Prof-specialty       -0.4799      0.090     -5.333      0.000      -0.656      -0.304\n",
      "occupation_ Protective-serv      -0.5111      0.141     -3.632      0.000      -0.787      -0.235\n",
      "occupation_ Sales                -0.1993      0.091     -2.189      0.029      -0.378      -0.021\n",
      "occupation_ Tech-support         -0.5768      0.124     -4.638      0.000      -0.821      -0.333\n",
      "occupation_ Transport-moving      0.1702      0.112      1.524      0.128      -0.049       0.389\n",
      "occupation_Unknown                6.9934        nan        nan        nan         nan         nan\n",
      "race_ Asian-Pac-Islander         -0.4247      0.282     -1.506      0.132      -0.977       0.128\n",
      "race_ Black                      -0.3083      0.248     -1.244      0.214      -0.794       0.177\n",
      "race_ Other                      -0.0396      0.371     -0.107      0.915      -0.766       0.687\n",
      "race_ White                      -0.4326      0.235     -1.839      0.066      -0.894       0.029\n",
      "sex_ Male                        -0.0502      0.058     -0.871      0.384      -0.163       0.063\n",
      "native_country_europe            -0.3432      0.236     -1.454      0.146      -0.806       0.119\n",
      "native_country_north_america     -0.2124      0.188     -1.127      0.260      -0.582       0.157\n",
      "native_country_other              0.1241      0.212      0.585      0.559      -0.292       0.540\n",
      "native_country_south_america      1.8671      0.690      2.706      0.007       0.515       3.219\n",
      "=================================================================================================\n"
     ]
    },
    {
     "data": {
      "application/javascript": [
       "\n",
       "            setTimeout(function() {\n",
       "                var nbb_cell_id = 71;\n",
       "                var nbb_unformatted_code = \"# fitting logistic regression model\\nlogit = sm.Logit(y_train, X_train.astype(float))\\nlg = logit.fit(disp=False)\\n\\nprint(lg.summary())\";\n",
       "                var nbb_formatted_code = \"# fitting logistic regression model\\nlogit = sm.Logit(y_train, X_train.astype(float))\\nlg = logit.fit(disp=False)\\n\\nprint(lg.summary())\";\n",
       "                var nbb_cells = Jupyter.notebook.get_cells();\n",
       "                for (var i = 0; i < nbb_cells.length; ++i) {\n",
       "                    if (nbb_cells[i].input_prompt_number == nbb_cell_id) {\n",
       "                        if (nbb_cells[i].get_text() == nbb_unformatted_code) {\n",
       "                             nbb_cells[i].set_text(nbb_formatted_code);\n",
       "                        }\n",
       "                        break;\n",
       "                    }\n",
       "                }\n",
       "            }, 500);\n",
       "            "
      ],
      "text/plain": [
       "<IPython.core.display.Javascript object>"
      ]
     },
     "metadata": {},
     "output_type": "display_data"
    }
   ],
   "source": [
    "# fitting logistic regression model\n",
    "logit = sm.Logit(y_train, X_train.astype(float))\n",
    "lg = logit.fit(disp=False)\n",
    "\n",
    "print(lg.summary())"
   ]
  },
  {
   "cell_type": "code",
   "execution_count": 72,
   "id": "harmful-fisher",
   "metadata": {},
   "outputs": [
    {
     "name": "stdout",
     "output_type": "stream",
     "text": [
      "Training performance:\n"
     ]
    },
    {
     "data": {
      "text/html": [
       "<div>\n",
       "<style scoped>\n",
       "    .dataframe tbody tr th:only-of-type {\n",
       "        vertical-align: middle;\n",
       "    }\n",
       "\n",
       "    .dataframe tbody tr th {\n",
       "        vertical-align: top;\n",
       "    }\n",
       "\n",
       "    .dataframe thead th {\n",
       "        text-align: right;\n",
       "    }\n",
       "</style>\n",
       "<table border=\"1\" class=\"dataframe\">\n",
       "  <thead>\n",
       "    <tr style=\"text-align: right;\">\n",
       "      <th></th>\n",
       "      <th>Accuracy</th>\n",
       "      <th>Recall</th>\n",
       "      <th>Precision</th>\n",
       "      <th>F1</th>\n",
       "    </tr>\n",
       "  </thead>\n",
       "  <tbody>\n",
       "    <tr>\n",
       "      <th>0</th>\n",
       "      <td>0.83345</td>\n",
       "      <td>0.922365</td>\n",
       "      <td>0.86541</td>\n",
       "      <td>0.89298</td>\n",
       "    </tr>\n",
       "  </tbody>\n",
       "</table>\n",
       "</div>"
      ],
      "text/plain": [
       "   Accuracy    Recall  Precision       F1\n",
       "0   0.83345  0.922365    0.86541  0.89298"
      ]
     },
     "execution_count": 72,
     "metadata": {},
     "output_type": "execute_result"
    },
    {
     "data": {
      "application/javascript": [
       "\n",
       "            setTimeout(function() {\n",
       "                var nbb_cell_id = 72;\n",
       "                var nbb_unformatted_code = \"print(\\\"Training performance:\\\")\\nmodel_performance_classification_statsmodels(lg, X_train, y_train)\";\n",
       "                var nbb_formatted_code = \"print(\\\"Training performance:\\\")\\nmodel_performance_classification_statsmodels(lg, X_train, y_train)\";\n",
       "                var nbb_cells = Jupyter.notebook.get_cells();\n",
       "                for (var i = 0; i < nbb_cells.length; ++i) {\n",
       "                    if (nbb_cells[i].input_prompt_number == nbb_cell_id) {\n",
       "                        if (nbb_cells[i].get_text() == nbb_unformatted_code) {\n",
       "                             nbb_cells[i].set_text(nbb_formatted_code);\n",
       "                        }\n",
       "                        break;\n",
       "                    }\n",
       "                }\n",
       "            }, 500);\n",
       "            "
      ],
      "text/plain": [
       "<IPython.core.display.Javascript object>"
      ]
     },
     "metadata": {},
     "output_type": "display_data"
    }
   ],
   "source": [
    "print(\"Training performance:\")\n",
    "model_performance_classification_statsmodels(lg, X_train, y_train)"
   ]
  },
  {
   "cell_type": "markdown",
   "id": "secret-language",
   "metadata": {},
   "source": [
    "**Observations**\n",
    "\n",
    "- Negative values of the coefficient shows that probability of customer being a defaulter decreases with the increase of corresponding attribute value.\n",
    "\n",
    "- Positive values of the coefficient show that that probability of customer being a defaulter increases with the increase of corresponding attribute value.\n",
    "\n",
    "- p-value of a variable indicates if the variable is significant or not. If we consider the significance level to be 0.05 (5%), then any variable with a p-value less than 0.05 would be considered significant.\n",
    "\n",
    "- But these variables might contain multicollinearity, which will affect the p-values.\n",
    "\n",
    "* We will have to remove multicollinearity from the data to get reliable coefficients and p-values.\n",
    "\n",
    "* There are different ways of detecting (or testing) multi-collinearity, one such way is the Variation Inflation Factor."
   ]
  },
  {
   "cell_type": "markdown",
   "id": "imposed-procedure",
   "metadata": {},
   "source": [
    "### Additional Information on VIF\n",
    "\n",
    "* **Variance  Inflation  factor**:  Variance  inflation  factors  measure  the  inflation  in  the variances of the regression coefficients estimates due to collinearities that exist among the  predictors.  It  is  a  measure  of  how  much  the  variance  of  the  estimated  regression coefficient βk is “inflated”by  the  existence  of  correlation  among  the  predictor variables in the model. \n",
    "\n",
    "* General Rule of thumb: If VIF is 1 then there is no correlation among the kth predictor and the remaining predictor variables, and  hence  the variance of β̂k is not inflated at all. Whereas if VIF exceeds 5, we say there is moderate VIF and if it is 10 or exceeding 10, it shows signs of high multi-collinearity. But the purpose of the analysis should dictate which threshold to use. "
   ]
  },
  {
   "cell_type": "markdown",
   "id": "alike-powder",
   "metadata": {},
   "source": [
    "### Multicollinearity"
   ]
  },
  {
   "cell_type": "code",
   "execution_count": 73,
   "id": "average-portal",
   "metadata": {},
   "outputs": [
    {
     "name": "stdout",
     "output_type": "stream",
     "text": [
      "Series before feature selection: \n",
      "\n",
      "const                             0.000000\n",
      "age                               1.543408\n",
      "fnlwgt                            1.037670\n",
      "education_no_of_years                  inf\n",
      "working_hours_per_week            1.230480\n",
      "workclass_ Local-gov              3.157727\n",
      "workclass_ Never-worked                inf\n",
      "workclass_ Private                7.932842\n",
      "workclass_ Self-emp-inc           2.238230\n",
      "workclass_ Self-emp-not-inc       3.614046\n",
      "workclass_ State-gov              2.343798\n",
      "workclass_ Without-pay            1.017431\n",
      "workclass_Unknown                      inf\n",
      "education_ 11th                        inf\n",
      "education_ 12th                        inf\n",
      "education_ 1st-4th                     inf\n",
      "education_ 5th-6th                     inf\n",
      "education_ 7th-8th                     inf\n",
      "education_ 9th                         inf\n",
      "education_ Assoc-acdm                  inf\n",
      "education_ Assoc-voc                   inf\n",
      "education_ Bachelors                   inf\n",
      "education_ Doctorate                   inf\n",
      "education_ HS-grad                     inf\n",
      "education_ Masters                     inf\n",
      "education_ Preschool                   inf\n",
      "education_ Prof-school                 inf\n",
      "education_ Some-college                inf\n",
      "marital_status_married            1.984803\n",
      "marital_status_not_married        1.727480\n",
      "occupation_ Armed-Forces          1.012501\n",
      "occupation_ Craft-repair          2.189802\n",
      "occupation_ Exec-managerial       2.096769\n",
      "occupation_ Farming-fishing       1.388777\n",
      "occupation_ Handlers-cleaners     1.445563\n",
      "occupation_ Machine-op-inspct     1.590302\n",
      "occupation_ Other-service         1.798841\n",
      "occupation_ Priv-house-serv       1.059072\n",
      "occupation_ Prof-specialty        2.366622\n",
      "occupation_ Protective-serv       1.272686\n",
      "occupation_ Sales                 1.923069\n",
      "occupation_ Tech-support          1.242822\n",
      "occupation_ Transport-moving      1.526982\n",
      "occupation_Unknown                     inf\n",
      "race_ Asian-Pac-Islander          5.279284\n",
      "race_ Black                       9.974292\n",
      "race_ Other                       1.881308\n",
      "race_ White                      13.203171\n",
      "sex_ Male                         1.517932\n",
      "native_country_europe             2.471834\n",
      "native_country_north_america      5.454332\n",
      "native_country_other              2.430084\n",
      "native_country_south_america      1.322060\n",
      "dtype: float64\n",
      "\n"
     ]
    },
    {
     "data": {
      "application/javascript": [
       "\n",
       "            setTimeout(function() {\n",
       "                var nbb_cell_id = 73;\n",
       "                var nbb_unformatted_code = \"vif_series = pd.Series(\\n    [variance_inflation_factor(X_train.values, i) for i in range(X_train.shape[1])],\\n    index=X_train.columns,\\n    dtype=float,\\n)\\nprint(\\\"Series before feature selection: \\\\n\\\\n{}\\\\n\\\".format(vif_series))\";\n",
       "                var nbb_formatted_code = \"vif_series = pd.Series(\\n    [variance_inflation_factor(X_train.values, i) for i in range(X_train.shape[1])],\\n    index=X_train.columns,\\n    dtype=float,\\n)\\nprint(\\\"Series before feature selection: \\\\n\\\\n{}\\\\n\\\".format(vif_series))\";\n",
       "                var nbb_cells = Jupyter.notebook.get_cells();\n",
       "                for (var i = 0; i < nbb_cells.length; ++i) {\n",
       "                    if (nbb_cells[i].input_prompt_number == nbb_cell_id) {\n",
       "                        if (nbb_cells[i].get_text() == nbb_unformatted_code) {\n",
       "                             nbb_cells[i].set_text(nbb_formatted_code);\n",
       "                        }\n",
       "                        break;\n",
       "                    }\n",
       "                }\n",
       "            }, 500);\n",
       "            "
      ],
      "text/plain": [
       "<IPython.core.display.Javascript object>"
      ]
     },
     "metadata": {},
     "output_type": "display_data"
    }
   ],
   "source": [
    "vif_series = pd.Series(\n",
    "    [variance_inflation_factor(X_train.values, i) for i in range(X_train.shape[1])],\n",
    "    index=X_train.columns,\n",
    "    dtype=float,\n",
    ")\n",
    "print(\"Series before feature selection: \\n\\n{}\\n\".format(vif_series))"
   ]
  },
  {
   "cell_type": "markdown",
   "id": "optical-michael",
   "metadata": {},
   "source": [
    "* As we saw in our earlier analysis that wherever workclass has ? or unknown values occupation is also ? or unknown.\n",
    "* The high correlation between these variables has been highlighted in the VIF values as well.\n",
    "* We will drop occupation_Unknown as we get the same information from workclass_Unknown.\n",
    "* education_no_of_years, education, and some categorical levels of Occupation, Workclass, relationship, native_country, and race also exhibit high multicollinearity."
   ]
  },
  {
   "cell_type": "markdown",
   "id": "julian-territory",
   "metadata": {},
   "source": [
    "#### Removing occupation_Unknown"
   ]
  },
  {
   "cell_type": "code",
   "execution_count": 74,
   "id": "reverse-parker",
   "metadata": {},
   "outputs": [
    {
     "name": "stdout",
     "output_type": "stream",
     "text": [
      "Series before feature selection: \n",
      "\n",
      "const                             0.000000\n",
      "age                               1.543408\n",
      "fnlwgt                            1.037670\n",
      "education_no_of_years                  inf\n",
      "working_hours_per_week            1.230480\n",
      "workclass_ Local-gov              3.157727\n",
      "workclass_ Never-worked           1.010896\n",
      "workclass_ Private                7.932842\n",
      "workclass_ Self-emp-inc           2.238230\n",
      "workclass_ Self-emp-not-inc       3.614046\n",
      "workclass_ State-gov              2.343798\n",
      "workclass_ Without-pay            1.017431\n",
      "workclass_Unknown                 3.105519\n",
      "education_ 11th                        inf\n",
      "education_ 12th                        inf\n",
      "education_ 1st-4th                     inf\n",
      "education_ 5th-6th                     inf\n",
      "education_ 7th-8th                     inf\n",
      "education_ 9th                         inf\n",
      "education_ Assoc-acdm                  inf\n",
      "education_ Assoc-voc                   inf\n",
      "education_ Bachelors                   inf\n",
      "education_ Doctorate                   inf\n",
      "education_ HS-grad                     inf\n",
      "education_ Masters                     inf\n",
      "education_ Preschool                   inf\n",
      "education_ Prof-school                 inf\n",
      "education_ Some-college                inf\n",
      "marital_status_married            1.984803\n",
      "marital_status_not_married        1.727480\n",
      "occupation_ Armed-Forces          1.012501\n",
      "occupation_ Craft-repair          2.189802\n",
      "occupation_ Exec-managerial       2.096769\n",
      "occupation_ Farming-fishing       1.388777\n",
      "occupation_ Handlers-cleaners     1.445563\n",
      "occupation_ Machine-op-inspct     1.590302\n",
      "occupation_ Other-service         1.798841\n",
      "occupation_ Priv-house-serv       1.059072\n",
      "occupation_ Prof-specialty        2.366622\n",
      "occupation_ Protective-serv       1.272686\n",
      "occupation_ Sales                 1.923069\n",
      "occupation_ Tech-support          1.242822\n",
      "occupation_ Transport-moving      1.526982\n",
      "race_ Asian-Pac-Islander          5.279284\n",
      "race_ Black                       9.974292\n",
      "race_ Other                       1.881308\n",
      "race_ White                      13.203171\n",
      "sex_ Male                         1.517932\n",
      "native_country_europe             2.471834\n",
      "native_country_north_america      5.454332\n",
      "native_country_other              2.430084\n",
      "native_country_south_america      1.322060\n",
      "dtype: float64\n",
      "\n"
     ]
    },
    {
     "data": {
      "application/javascript": [
       "\n",
       "            setTimeout(function() {\n",
       "                var nbb_cell_id = 74;\n",
       "                var nbb_unformatted_code = \"X_train1 = X_train.drop(\\\"occupation_Unknown\\\", axis=1)\\nvif_series2 = pd.Series(\\n    [variance_inflation_factor(X_train1.values, i) for i in range(X_train1.shape[1])],\\n    index=X_train1.columns,\\n)\\nprint(\\\"Series before feature selection: \\\\n\\\\n{}\\\\n\\\".format(vif_series2))\";\n",
       "                var nbb_formatted_code = \"X_train1 = X_train.drop(\\\"occupation_Unknown\\\", axis=1)\\nvif_series2 = pd.Series(\\n    [variance_inflation_factor(X_train1.values, i) for i in range(X_train1.shape[1])],\\n    index=X_train1.columns,\\n)\\nprint(\\\"Series before feature selection: \\\\n\\\\n{}\\\\n\\\".format(vif_series2))\";\n",
       "                var nbb_cells = Jupyter.notebook.get_cells();\n",
       "                for (var i = 0; i < nbb_cells.length; ++i) {\n",
       "                    if (nbb_cells[i].input_prompt_number == nbb_cell_id) {\n",
       "                        if (nbb_cells[i].get_text() == nbb_unformatted_code) {\n",
       "                             nbb_cells[i].set_text(nbb_formatted_code);\n",
       "                        }\n",
       "                        break;\n",
       "                    }\n",
       "                }\n",
       "            }, 500);\n",
       "            "
      ],
      "text/plain": [
       "<IPython.core.display.Javascript object>"
      ]
     },
     "metadata": {},
     "output_type": "display_data"
    }
   ],
   "source": [
    "X_train1 = X_train.drop(\"occupation_Unknown\", axis=1)\n",
    "vif_series2 = pd.Series(\n",
    "    [variance_inflation_factor(X_train1.values, i) for i in range(X_train1.shape[1])],\n",
    "    index=X_train1.columns,\n",
    ")\n",
    "print(\"Series before feature selection: \\n\\n{}\\n\".format(vif_series2))"
   ]
  },
  {
   "cell_type": "markdown",
   "id": "regulated-fleet",
   "metadata": {},
   "source": [
    "* Removal of occupation_Unknown has fixed multicollinearity in workclass column.\n",
    "* education_no_of_years and education also capture similar information and hence it is understandable that they have high VIF values.\n",
    "* Now dropping education_no_of_years, and education to see which variable has a significant impact on the model's performance."
   ]
  },
  {
   "cell_type": "markdown",
   "id": "civic-democracy",
   "metadata": {},
   "source": [
    "#### Dropping education_no_of_years"
   ]
  },
  {
   "cell_type": "code",
   "execution_count": 75,
   "id": "speaking-sunglasses",
   "metadata": {},
   "outputs": [
    {
     "name": "stdout",
     "output_type": "stream",
     "text": [
      "Series before feature selection: \n",
      "\n",
      "const                            327.504107\n",
      "age                                1.543408\n",
      "fnlwgt                             1.037670\n",
      "working_hours_per_week             1.230480\n",
      "workclass_ Local-gov               3.157727\n",
      "workclass_ Never-worked            1.010896\n",
      "workclass_ Private                 7.932842\n",
      "workclass_ Self-emp-inc            2.238230\n",
      "workclass_ Self-emp-not-inc        3.614046\n",
      "workclass_ State-gov               2.343798\n",
      "workclass_ Without-pay             1.017431\n",
      "workclass_Unknown                  3.105519\n",
      "education_ 11th                    2.207699\n",
      "education_ 12th                    1.423685\n",
      "education_ 1st-4th                 1.178784\n",
      "education_ 5th-6th                 1.346636\n",
      "education_ 7th-8th                 1.662528\n",
      "education_ 9th                     1.548277\n",
      "education_ Assoc-acdm              2.134350\n",
      "education_ Assoc-voc               2.456743\n",
      "education_ Bachelors               6.123671\n",
      "education_ Doctorate               1.584916\n",
      "education_ HS-grad                 8.371239\n",
      "education_ Masters                 3.065246\n",
      "education_ Preschool               1.064171\n",
      "education_ Prof-school             1.833853\n",
      "education_ Some-college            6.990001\n",
      "marital_status_married             1.984803\n",
      "marital_status_not_married         1.727480\n",
      "occupation_ Armed-Forces           1.012501\n",
      "occupation_ Craft-repair           2.189802\n",
      "occupation_ Exec-managerial        2.096769\n",
      "occupation_ Farming-fishing        1.388777\n",
      "occupation_ Handlers-cleaners      1.445563\n",
      "occupation_ Machine-op-inspct      1.590302\n",
      "occupation_ Other-service          1.798841\n",
      "occupation_ Priv-house-serv        1.059072\n",
      "occupation_ Prof-specialty         2.366622\n",
      "occupation_ Protective-serv        1.272686\n",
      "occupation_ Sales                  1.923069\n",
      "occupation_ Tech-support           1.242822\n",
      "occupation_ Transport-moving       1.526982\n",
      "race_ Asian-Pac-Islander           5.279284\n",
      "race_ Black                        9.974292\n",
      "race_ Other                        1.881308\n",
      "race_ White                       13.203171\n",
      "sex_ Male                          1.517932\n",
      "native_country_europe              2.471834\n",
      "native_country_north_america       5.454332\n",
      "native_country_other               2.430084\n",
      "native_country_south_america       1.322060\n",
      "dtype: float64\n",
      "\n"
     ]
    },
    {
     "data": {
      "application/javascript": [
       "\n",
       "            setTimeout(function() {\n",
       "                var nbb_cell_id = 75;\n",
       "                var nbb_unformatted_code = \"X_train2 = X_train1.drop(\\\"education_no_of_years\\\", axis=1)\\nvif_series3 = pd.Series(\\n    [variance_inflation_factor(X_train2.values, i) for i in range(X_train2.shape[1])],\\n    index=X_train2.columns,\\n)\\nprint(\\\"Series before feature selection: \\\\n\\\\n{}\\\\n\\\".format(vif_series3))\";\n",
       "                var nbb_formatted_code = \"X_train2 = X_train1.drop(\\\"education_no_of_years\\\", axis=1)\\nvif_series3 = pd.Series(\\n    [variance_inflation_factor(X_train2.values, i) for i in range(X_train2.shape[1])],\\n    index=X_train2.columns,\\n)\\nprint(\\\"Series before feature selection: \\\\n\\\\n{}\\\\n\\\".format(vif_series3))\";\n",
       "                var nbb_cells = Jupyter.notebook.get_cells();\n",
       "                for (var i = 0; i < nbb_cells.length; ++i) {\n",
       "                    if (nbb_cells[i].input_prompt_number == nbb_cell_id) {\n",
       "                        if (nbb_cells[i].get_text() == nbb_unformatted_code) {\n",
       "                             nbb_cells[i].set_text(nbb_formatted_code);\n",
       "                        }\n",
       "                        break;\n",
       "                    }\n",
       "                }\n",
       "            }, 500);\n",
       "            "
      ],
      "text/plain": [
       "<IPython.core.display.Javascript object>"
      ]
     },
     "metadata": {},
     "output_type": "display_data"
    }
   ],
   "source": [
    "X_train2 = X_train1.drop(\"education_no_of_years\", axis=1)\n",
    "vif_series3 = pd.Series(\n",
    "    [variance_inflation_factor(X_train2.values, i) for i in range(X_train2.shape[1])],\n",
    "    index=X_train2.columns,\n",
    ")\n",
    "print(\"Series before feature selection: \\n\\n{}\\n\".format(vif_series3))"
   ]
  },
  {
   "cell_type": "markdown",
   "id": "legal-demonstration",
   "metadata": {},
   "source": [
    "* Dropping education_no_of_years fixes the multicollinearity in education column."
   ]
  },
  {
   "cell_type": "code",
   "execution_count": 76,
   "id": "available-entity",
   "metadata": {},
   "outputs": [
    {
     "name": "stdout",
     "output_type": "stream",
     "text": [
      "Warning: Maximum number of iterations has been exceeded.\n",
      "         Current function value: 0.355823\n",
      "         Iterations: 35\n",
      "Training performance:\n"
     ]
    },
    {
     "data": {
      "text/html": [
       "<div>\n",
       "<style scoped>\n",
       "    .dataframe tbody tr th:only-of-type {\n",
       "        vertical-align: middle;\n",
       "    }\n",
       "\n",
       "    .dataframe tbody tr th {\n",
       "        vertical-align: top;\n",
       "    }\n",
       "\n",
       "    .dataframe thead th {\n",
       "        text-align: right;\n",
       "    }\n",
       "</style>\n",
       "<table border=\"1\" class=\"dataframe\">\n",
       "  <thead>\n",
       "    <tr style=\"text-align: right;\">\n",
       "      <th></th>\n",
       "      <th>Accuracy</th>\n",
       "      <th>Recall</th>\n",
       "      <th>Precision</th>\n",
       "      <th>F1</th>\n",
       "    </tr>\n",
       "  </thead>\n",
       "  <tbody>\n",
       "    <tr>\n",
       "      <th>0</th>\n",
       "      <td>0.83345</td>\n",
       "      <td>0.922365</td>\n",
       "      <td>0.86541</td>\n",
       "      <td>0.89298</td>\n",
       "    </tr>\n",
       "  </tbody>\n",
       "</table>\n",
       "</div>"
      ],
      "text/plain": [
       "   Accuracy    Recall  Precision       F1\n",
       "0   0.83345  0.922365    0.86541  0.89298"
      ]
     },
     "execution_count": 76,
     "metadata": {},
     "output_type": "execute_result"
    },
    {
     "data": {
      "application/javascript": [
       "\n",
       "            setTimeout(function() {\n",
       "                var nbb_cell_id = 76;\n",
       "                var nbb_unformatted_code = \"logit2 = sm.Logit(y_train, X_train2.astype(float))\\nlg2 = logit2.fit()\\n\\nprint(\\\"Training performance:\\\")\\nmodel_performance_classification_statsmodels(lg2, X_train2, y_train)\";\n",
       "                var nbb_formatted_code = \"logit2 = sm.Logit(y_train, X_train2.astype(float))\\nlg2 = logit2.fit()\\n\\nprint(\\\"Training performance:\\\")\\nmodel_performance_classification_statsmodels(lg2, X_train2, y_train)\";\n",
       "                var nbb_cells = Jupyter.notebook.get_cells();\n",
       "                for (var i = 0; i < nbb_cells.length; ++i) {\n",
       "                    if (nbb_cells[i].input_prompt_number == nbb_cell_id) {\n",
       "                        if (nbb_cells[i].get_text() == nbb_unformatted_code) {\n",
       "                             nbb_cells[i].set_text(nbb_formatted_code);\n",
       "                        }\n",
       "                        break;\n",
       "                    }\n",
       "                }\n",
       "            }, 500);\n",
       "            "
      ],
      "text/plain": [
       "<IPython.core.display.Javascript object>"
      ]
     },
     "metadata": {},
     "output_type": "display_data"
    }
   ],
   "source": [
    "logit2 = sm.Logit(y_train, X_train2.astype(float))\n",
    "lg2 = logit2.fit()\n",
    "\n",
    "print(\"Training performance:\")\n",
    "model_performance_classification_statsmodels(lg2, X_train2, y_train)"
   ]
  },
  {
   "cell_type": "markdown",
   "id": "measured-validity",
   "metadata": {},
   "source": [
    "* No significant change in the model performance."
   ]
  },
  {
   "cell_type": "markdown",
   "id": "stylish-ethernet",
   "metadata": {},
   "source": [
    "#### Dropping education"
   ]
  },
  {
   "cell_type": "code",
   "execution_count": 77,
   "id": "moving-blade",
   "metadata": {},
   "outputs": [
    {
     "name": "stdout",
     "output_type": "stream",
     "text": [
      "Series before feature selection: \n",
      "\n",
      "const                            314.852442\n",
      "age                                1.489234\n",
      "fnlwgt                             1.033255\n",
      "education_no_of_years              1.533282\n",
      "working_hours_per_week             1.223754\n",
      "workclass_ Local-gov               3.147016\n",
      "workclass_ Never-worked            1.009753\n",
      "workclass_ Private                 7.925086\n",
      "workclass_ Self-emp-inc            2.229977\n",
      "workclass_ Self-emp-not-inc        3.602889\n",
      "workclass_ State-gov               2.333573\n",
      "workclass_ Without-pay             1.016985\n",
      "workclass_Unknown                  3.090059\n",
      "marital_status_married             1.977821\n",
      "marital_status_not_married         1.719371\n",
      "occupation_ Armed-Forces           1.011604\n",
      "occupation_ Craft-repair           2.178469\n",
      "occupation_ Exec-managerial        2.051804\n",
      "occupation_ Farming-fishing        1.381175\n",
      "occupation_ Handlers-cleaners      1.436503\n",
      "occupation_ Machine-op-inspct      1.576180\n",
      "occupation_ Other-service          1.785909\n",
      "occupation_ Priv-house-serv        1.049459\n",
      "occupation_ Prof-specialty         2.162833\n",
      "occupation_ Protective-serv        1.271458\n",
      "occupation_ Sales                  1.908218\n",
      "occupation_ Tech-support           1.233212\n",
      "occupation_ Transport-moving       1.517587\n",
      "race_ Asian-Pac-Islander           5.272383\n",
      "race_ Black                        9.963851\n",
      "race_ Other                        1.877076\n",
      "race_ White                       13.191494\n",
      "sex_ Male                          1.513342\n",
      "native_country_europe              2.464396\n",
      "native_country_north_america       5.428132\n",
      "native_country_other               2.423269\n",
      "native_country_south_america       1.319961\n",
      "dtype: float64\n",
      "\n"
     ]
    },
    {
     "data": {
      "application/javascript": [
       "\n",
       "            setTimeout(function() {\n",
       "                var nbb_cell_id = 77;\n",
       "                var nbb_unformatted_code = \"X_train3 = X_train1.drop(\\n    [\\n        \\\"education_ 11th\\\",\\n        \\\"education_ 12th\\\",\\n        \\\"education_ 1st-4th\\\",\\n        \\\"education_ 5th-6th\\\",\\n        \\\"education_ 7th-8th\\\",\\n        \\\"education_ 9th\\\",\\n        \\\"education_ Assoc-acdm\\\",\\n        \\\"education_ Assoc-voc\\\",\\n        \\\"education_ Bachelors\\\",\\n        \\\"education_ Doctorate\\\",\\n        \\\"education_ HS-grad\\\",\\n        \\\"education_ Masters\\\",\\n        \\\"education_ Preschool\\\",\\n        \\\"education_ Prof-school\\\",\\n        \\\"education_ Some-college\\\",\\n    ],\\n    axis=1,\\n)\\nvif_series4 = pd.Series(\\n    [variance_inflation_factor(X_train3.values, i) for i in range(X_train3.shape[1])],\\n    index=X_train3.columns,\\n)\\nprint(\\\"Series before feature selection: \\\\n\\\\n{}\\\\n\\\".format(vif_series4))\";\n",
       "                var nbb_formatted_code = \"X_train3 = X_train1.drop(\\n    [\\n        \\\"education_ 11th\\\",\\n        \\\"education_ 12th\\\",\\n        \\\"education_ 1st-4th\\\",\\n        \\\"education_ 5th-6th\\\",\\n        \\\"education_ 7th-8th\\\",\\n        \\\"education_ 9th\\\",\\n        \\\"education_ Assoc-acdm\\\",\\n        \\\"education_ Assoc-voc\\\",\\n        \\\"education_ Bachelors\\\",\\n        \\\"education_ Doctorate\\\",\\n        \\\"education_ HS-grad\\\",\\n        \\\"education_ Masters\\\",\\n        \\\"education_ Preschool\\\",\\n        \\\"education_ Prof-school\\\",\\n        \\\"education_ Some-college\\\",\\n    ],\\n    axis=1,\\n)\\nvif_series4 = pd.Series(\\n    [variance_inflation_factor(X_train3.values, i) for i in range(X_train3.shape[1])],\\n    index=X_train3.columns,\\n)\\nprint(\\\"Series before feature selection: \\\\n\\\\n{}\\\\n\\\".format(vif_series4))\";\n",
       "                var nbb_cells = Jupyter.notebook.get_cells();\n",
       "                for (var i = 0; i < nbb_cells.length; ++i) {\n",
       "                    if (nbb_cells[i].input_prompt_number == nbb_cell_id) {\n",
       "                        if (nbb_cells[i].get_text() == nbb_unformatted_code) {\n",
       "                             nbb_cells[i].set_text(nbb_formatted_code);\n",
       "                        }\n",
       "                        break;\n",
       "                    }\n",
       "                }\n",
       "            }, 500);\n",
       "            "
      ],
      "text/plain": [
       "<IPython.core.display.Javascript object>"
      ]
     },
     "metadata": {},
     "output_type": "display_data"
    }
   ],
   "source": [
    "X_train3 = X_train1.drop(\n",
    "    [\n",
    "        \"education_ 11th\",\n",
    "        \"education_ 12th\",\n",
    "        \"education_ 1st-4th\",\n",
    "        \"education_ 5th-6th\",\n",
    "        \"education_ 7th-8th\",\n",
    "        \"education_ 9th\",\n",
    "        \"education_ Assoc-acdm\",\n",
    "        \"education_ Assoc-voc\",\n",
    "        \"education_ Bachelors\",\n",
    "        \"education_ Doctorate\",\n",
    "        \"education_ HS-grad\",\n",
    "        \"education_ Masters\",\n",
    "        \"education_ Preschool\",\n",
    "        \"education_ Prof-school\",\n",
    "        \"education_ Some-college\",\n",
    "    ],\n",
    "    axis=1,\n",
    ")\n",
    "vif_series4 = pd.Series(\n",
    "    [variance_inflation_factor(X_train3.values, i) for i in range(X_train3.shape[1])],\n",
    "    index=X_train3.columns,\n",
    ")\n",
    "print(\"Series before feature selection: \\n\\n{}\\n\".format(vif_series4))"
   ]
  },
  {
   "cell_type": "code",
   "execution_count": 78,
   "id": "related-subcommittee",
   "metadata": {},
   "outputs": [
    {
     "name": "stdout",
     "output_type": "stream",
     "text": [
      "Warning: Maximum number of iterations has been exceeded.\n",
      "         Current function value: 0.356502\n",
      "         Iterations: 35\n",
      "Training performance:\n"
     ]
    },
    {
     "data": {
      "text/html": [
       "<div>\n",
       "<style scoped>\n",
       "    .dataframe tbody tr th:only-of-type {\n",
       "        vertical-align: middle;\n",
       "    }\n",
       "\n",
       "    .dataframe tbody tr th {\n",
       "        vertical-align: top;\n",
       "    }\n",
       "\n",
       "    .dataframe thead th {\n",
       "        text-align: right;\n",
       "    }\n",
       "</style>\n",
       "<table border=\"1\" class=\"dataframe\">\n",
       "  <thead>\n",
       "    <tr style=\"text-align: right;\">\n",
       "      <th></th>\n",
       "      <th>Accuracy</th>\n",
       "      <th>Recall</th>\n",
       "      <th>Precision</th>\n",
       "      <th>F1</th>\n",
       "    </tr>\n",
       "  </thead>\n",
       "  <tbody>\n",
       "    <tr>\n",
       "      <th>0</th>\n",
       "      <td>0.832792</td>\n",
       "      <td>0.921549</td>\n",
       "      <td>0.865259</td>\n",
       "      <td>0.892518</td>\n",
       "    </tr>\n",
       "  </tbody>\n",
       "</table>\n",
       "</div>"
      ],
      "text/plain": [
       "   Accuracy    Recall  Precision        F1\n",
       "0  0.832792  0.921549   0.865259  0.892518"
      ]
     },
     "execution_count": 78,
     "metadata": {},
     "output_type": "execute_result"
    },
    {
     "data": {
      "application/javascript": [
       "\n",
       "            setTimeout(function() {\n",
       "                var nbb_cell_id = 78;\n",
       "                var nbb_unformatted_code = \"logit3 = sm.Logit(y_train, X_train3.astype(float))\\nlg3 = logit3.fit()\\n\\nprint(\\\"Training performance:\\\")\\nmodel_performance_classification_statsmodels(lg3, X_train3, y_train)\";\n",
       "                var nbb_formatted_code = \"logit3 = sm.Logit(y_train, X_train3.astype(float))\\nlg3 = logit3.fit()\\n\\nprint(\\\"Training performance:\\\")\\nmodel_performance_classification_statsmodels(lg3, X_train3, y_train)\";\n",
       "                var nbb_cells = Jupyter.notebook.get_cells();\n",
       "                for (var i = 0; i < nbb_cells.length; ++i) {\n",
       "                    if (nbb_cells[i].input_prompt_number == nbb_cell_id) {\n",
       "                        if (nbb_cells[i].get_text() == nbb_unformatted_code) {\n",
       "                             nbb_cells[i].set_text(nbb_formatted_code);\n",
       "                        }\n",
       "                        break;\n",
       "                    }\n",
       "                }\n",
       "            }, 500);\n",
       "            "
      ],
      "text/plain": [
       "<IPython.core.display.Javascript object>"
      ]
     },
     "metadata": {},
     "output_type": "display_data"
    }
   ],
   "source": [
    "logit3 = sm.Logit(y_train, X_train3.astype(float))\n",
    "lg3 = logit3.fit()\n",
    "\n",
    "print(\"Training performance:\")\n",
    "model_performance_classification_statsmodels(lg3, X_train3, y_train)"
   ]
  },
  {
   "cell_type": "markdown",
   "id": "painful-property",
   "metadata": {},
   "source": [
    "* No significant change in the model performance."
   ]
  },
  {
   "cell_type": "markdown",
   "id": "terminal-helen",
   "metadata": {},
   "source": [
    "**Observations:**\n",
    "1. Dropping education_no_of_years and education doesn't have a significant impact on the model performance.\n",
    "2. We can choose any model to proceed to the next steps.\n",
    "3. Here, we will go with the lg2 model - where we dropped education_no_of_years as the education column captures more specific information.\n",
    "4. Some of the categorical levels of a variable have VIF>5 which can simply be ignored."
   ]
  },
  {
   "cell_type": "markdown",
   "id": "satisfied-unknown",
   "metadata": {},
   "source": [
    "#### Summary of the model without education_no_of_years"
   ]
  },
  {
   "cell_type": "code",
   "execution_count": 79,
   "id": "bridal-genetics",
   "metadata": {},
   "outputs": [
    {
     "name": "stdout",
     "output_type": "stream",
     "text": [
      "                           Logit Regression Results                           \n",
      "==============================================================================\n",
      "Dep. Variable:                 salary   No. Observations:                22792\n",
      "Model:                          Logit   Df Residuals:                    22741\n",
      "Method:                           MLE   Df Model:                           50\n",
      "Date:                Fri, 03 Sep 2021   Pseudo R-squ.:                  0.3631\n",
      "Time:                        14:35:30   Log-Likelihood:                -8109.9\n",
      "converged:                      False   LL-Null:                       -12733.\n",
      "Covariance Type:            nonrobust   LLR p-value:                     0.000\n",
      "=================================================================================================\n",
      "                                    coef    std err          z      P>|z|      [0.025      0.975]\n",
      "-------------------------------------------------------------------------------------------------\n",
      "const                             8.6446      0.404     21.422      0.000       7.854       9.436\n",
      "age                              -0.0296      0.002    -16.233      0.000      -0.033      -0.026\n",
      "fnlwgt                        -8.962e-07   2.11e-07     -4.244      0.000   -1.31e-06   -4.82e-07\n",
      "working_hours_per_week           -0.0676      0.003    -19.417      0.000      -0.074      -0.061\n",
      "workclass_ Local-gov              0.7003      0.127      5.529      0.000       0.452       0.949\n",
      "workclass_ Never-worked          15.2366   3027.024      0.005      0.996   -5917.621    5948.094\n",
      "workclass_ Private                0.4649      0.105      4.424      0.000       0.259       0.671\n",
      "workclass_ Self-emp-inc           0.1071      0.138      0.776      0.438      -0.163       0.377\n",
      "workclass_ Self-emp-not-inc       0.9197      0.123      7.485      0.000       0.679       1.160\n",
      "workclass_ State-gov              0.6757      0.140      4.843      0.000       0.402       0.949\n",
      "workclass_ Without-pay           19.9396   1.01e+04      0.002      0.998   -1.98e+04    1.99e+04\n",
      "workclass_Unknown                 1.1909      0.158      7.556      0.000       0.882       1.500\n",
      "education_ 11th                  -0.0390      0.243     -0.161      0.872      -0.515       0.437\n",
      "education_ 12th                  -0.5146      0.292     -1.762      0.078      -1.087       0.058\n",
      "education_ 1st-4th                0.7946      0.556      1.428      0.153      -0.296       1.885\n",
      "education_ 5th-6th                0.4751      0.353      1.345      0.179      -0.217       1.167\n",
      "education_ 7th-8th                0.5579      0.268      2.085      0.037       0.034       1.082\n",
      "education_ 9th                    0.4786      0.306      1.566      0.117      -0.120       1.078\n",
      "education_ Assoc-acdm            -1.3774      0.201     -6.856      0.000      -1.771      -0.984\n",
      "education_ Assoc-voc             -1.4178      0.192     -7.388      0.000      -1.794      -1.042\n",
      "education_ Bachelors             -2.0289      0.179    -11.325      0.000      -2.380      -1.678\n",
      "education_ Doctorate             -2.9347      0.240    -12.243      0.000      -3.405      -2.465\n",
      "education_ HS-grad               -0.8710      0.175     -4.988      0.000      -1.213      -0.529\n",
      "education_ Masters               -2.4216      0.191    -12.707      0.000      -2.795      -2.048\n",
      "education_ Preschool             14.7471   1084.422      0.014      0.989   -2110.680    2140.174\n",
      "education_ Prof-school           -3.0793      0.224    -13.758      0.000      -3.518      -2.641\n",
      "education_ Some-college          -1.1969      0.177     -6.755      0.000      -1.544      -0.850\n",
      "marital_status_married           -2.5557      0.069    -37.298      0.000      -2.690      -2.421\n",
      "marital_status_not_married       -0.4237      0.083     -5.104      0.000      -0.586      -0.261\n",
      "occupation_ Armed-Forces          0.9057      1.334      0.679      0.497      -1.708       3.520\n",
      "occupation_ Craft-repair         -0.0982      0.089     -1.109      0.267      -0.272       0.075\n",
      "occupation_ Exec-managerial      -0.7609      0.085     -8.939      0.000      -0.928      -0.594\n",
      "occupation_ Farming-fishing       0.9681      0.155      6.234      0.000       0.664       1.272\n",
      "occupation_ Handlers-cleaners     0.7093      0.158      4.476      0.000       0.399       1.020\n",
      "occupation_ Machine-op-inspct     0.3001      0.114      2.636      0.008       0.077       0.523\n",
      "occupation_ Other-service         0.9223      0.132      6.992      0.000       0.664       1.181\n",
      "occupation_ Priv-house-serv       2.2452      1.086      2.068      0.039       0.117       4.373\n",
      "occupation_ Prof-specialty       -0.4799      0.090     -5.333      0.000      -0.656      -0.304\n",
      "occupation_ Protective-serv      -0.5111      0.141     -3.632      0.000      -0.787      -0.235\n",
      "occupation_ Sales                -0.1993      0.091     -2.189      0.029      -0.378      -0.021\n",
      "occupation_ Tech-support         -0.5768      0.124     -4.638      0.000      -0.821      -0.333\n",
      "occupation_ Transport-moving      0.1702      0.112      1.524      0.128      -0.049       0.389\n",
      "race_ Asian-Pac-Islander         -0.4247      0.282     -1.506      0.132      -0.977       0.128\n",
      "race_ Black                      -0.3083      0.248     -1.244      0.214      -0.794       0.177\n",
      "race_ Other                      -0.0396      0.371     -0.107      0.915      -0.766       0.687\n",
      "race_ White                      -0.4326      0.235     -1.839      0.066      -0.894       0.029\n",
      "sex_ Male                        -0.0502      0.058     -0.871      0.384      -0.163       0.063\n",
      "native_country_europe            -0.3432      0.236     -1.454      0.146      -0.806       0.119\n",
      "native_country_north_america     -0.2124      0.188     -1.127      0.260      -0.582       0.157\n",
      "native_country_other              0.1241      0.212      0.585      0.559      -0.292       0.540\n",
      "native_country_south_america      1.8671      0.690      2.706      0.007       0.515       3.219\n",
      "=================================================================================================\n"
     ]
    },
    {
     "data": {
      "application/javascript": [
       "\n",
       "            setTimeout(function() {\n",
       "                var nbb_cell_id = 79;\n",
       "                var nbb_unformatted_code = \"print(lg2.summary())\";\n",
       "                var nbb_formatted_code = \"print(lg2.summary())\";\n",
       "                var nbb_cells = Jupyter.notebook.get_cells();\n",
       "                for (var i = 0; i < nbb_cells.length; ++i) {\n",
       "                    if (nbb_cells[i].input_prompt_number == nbb_cell_id) {\n",
       "                        if (nbb_cells[i].get_text() == nbb_unformatted_code) {\n",
       "                             nbb_cells[i].set_text(nbb_formatted_code);\n",
       "                        }\n",
       "                        break;\n",
       "                    }\n",
       "                }\n",
       "            }, 500);\n",
       "            "
      ],
      "text/plain": [
       "<IPython.core.display.Javascript object>"
      ]
     },
     "metadata": {},
     "output_type": "display_data"
    }
   ],
   "source": [
    "print(lg2.summary())"
   ]
  },
  {
   "cell_type": "markdown",
   "id": "mobile-parts",
   "metadata": {},
   "source": [
    "* In the case of 'race' all the attributes have a high p-value which means it is not significant therefore we can drop the complete variable.\n",
    "* For other attributes present in the data, the p-values are high only for few dummy variables and since only one (or some) of the categorical levels have a high p-value we will drop them iteratively as sometimes p-values change after dropping a variable. So, we'll not drop all variables at once.\n",
    "\n",
    "* Instead, we will do the following repeatedly using a loop:\n",
    "  - Build a model, check the p-values of the variables, and drop the column with the highest p-value.\n",
    "  - Create a new model without the dropped feature, check the p-values of the variables, and drop the column with the highest p-value.\n",
    "  - Repeat the above two steps till there are no columns with p-value > 0.05.\n",
    "\n",
    "\n",
    "Note: The above process can also be done manually by picking one variable at a time that has a high p-value, dropping it, and building a model again. But that might be a little tedious and using a loop will be more efficient."
   ]
  },
  {
   "cell_type": "markdown",
   "id": "compatible-myrtle",
   "metadata": {},
   "source": [
    "**Dropping Race**"
   ]
  },
  {
   "cell_type": "code",
   "execution_count": 80,
   "id": "blocked-white",
   "metadata": {},
   "outputs": [
    {
     "name": "stdout",
     "output_type": "stream",
     "text": [
      "Warning: Maximum number of iterations has been exceeded.\n",
      "         Current function value: 0.355988\n",
      "         Iterations: 35\n",
      "                           Logit Regression Results                           \n",
      "==============================================================================\n",
      "Dep. Variable:                 salary   No. Observations:                22792\n",
      "Model:                          Logit   Df Residuals:                    22745\n",
      "Method:                           MLE   Df Model:                           46\n",
      "Date:                Fri, 03 Sep 2021   Pseudo R-squ.:                  0.3628\n",
      "Time:                        14:35:30   Log-Likelihood:                -8113.7\n",
      "converged:                      False   LL-Null:                       -12733.\n",
      "Covariance Type:            nonrobust   LLR p-value:                     0.000\n",
      "=================================================================================================\n",
      "                                    coef    std err          z      P>|z|      [0.025      0.975]\n",
      "-------------------------------------------------------------------------------------------------\n",
      "const                             8.2711      0.303     27.327      0.000       7.678       8.864\n",
      "age                              -0.0297      0.002    -16.335      0.000      -0.033      -0.026\n",
      "fnlwgt                        -8.797e-07   2.09e-07     -4.200      0.000   -1.29e-06   -4.69e-07\n",
      "working_hours_per_week           -0.0679      0.003    -19.515      0.000      -0.075      -0.061\n",
      "workclass_ Local-gov              0.6915      0.126      5.470      0.000       0.444       0.939\n",
      "workclass_ Never-worked          14.7856   2318.091      0.006      0.995   -4528.589    4558.160\n",
      "workclass_ Private                0.4490      0.105      4.291      0.000       0.244       0.654\n",
      "workclass_ Self-emp-inc           0.0873      0.138      0.634      0.526      -0.182       0.357\n",
      "workclass_ Self-emp-not-inc       0.9032      0.122      7.375      0.000       0.663       1.143\n",
      "workclass_ State-gov              0.6635      0.139      4.763      0.000       0.391       0.937\n",
      "workclass_ Without-pay           17.5751   3144.055      0.006      0.996   -6144.660    6179.810\n",
      "workclass_Unknown                 1.1790      0.157      7.499      0.000       0.871       1.487\n",
      "education_ 11th                  -0.0461      0.243     -0.190      0.850      -0.522       0.430\n",
      "education_ 12th                  -0.5041      0.292     -1.728      0.084      -1.076       0.068\n",
      "education_ 1st-4th                0.8112      0.556      1.458      0.145      -0.279       1.902\n",
      "education_ 5th-6th                0.4764      0.353      1.349      0.177      -0.216       1.168\n",
      "education_ 7th-8th                0.5607      0.267      2.097      0.036       0.037       1.085\n",
      "education_ 9th                    0.4786      0.305      1.566      0.117      -0.120       1.077\n",
      "education_ Assoc-acdm            -1.3819      0.201     -6.884      0.000      -1.775      -0.988\n",
      "education_ Assoc-voc             -1.4236      0.192     -7.424      0.000      -1.799      -1.048\n",
      "education_ Bachelors             -2.0372      0.179    -11.382      0.000      -2.388      -1.686\n",
      "education_ Doctorate             -2.9427      0.239    -12.288      0.000      -3.412      -2.473\n",
      "education_ HS-grad               -0.8749      0.174     -5.015      0.000      -1.217      -0.533\n",
      "education_ Masters               -2.4326      0.190    -12.775      0.000      -2.806      -2.059\n",
      "education_ Preschool             16.0380   2007.441      0.008      0.994   -3918.474    3950.550\n",
      "education_ Prof-school           -3.0871      0.224    -13.800      0.000      -3.526      -2.649\n",
      "education_ Some-college          -1.1994      0.177     -6.774      0.000      -1.546      -0.852\n",
      "marital_status_married           -2.5582      0.068    -37.374      0.000      -2.692      -2.424\n",
      "marital_status_not_married       -0.4206      0.083     -5.071      0.000      -0.583      -0.258\n",
      "occupation_ Armed-Forces          0.9899      1.313      0.754      0.451      -1.584       3.563\n",
      "occupation_ Craft-repair         -0.1004      0.089     -1.135      0.256      -0.274       0.073\n",
      "occupation_ Exec-managerial      -0.7616      0.085     -8.952      0.000      -0.928      -0.595\n",
      "occupation_ Farming-fishing       0.9670      0.155      6.231      0.000       0.663       1.271\n",
      "occupation_ Handlers-cleaners     0.7155      0.158      4.518      0.000       0.405       1.026\n",
      "occupation_ Machine-op-inspct     0.3057      0.114      2.687      0.007       0.083       0.529\n",
      "occupation_ Other-service         0.9323      0.132      7.075      0.000       0.674       1.191\n",
      "occupation_ Priv-house-serv       2.2477      1.086      2.070      0.038       0.120       4.376\n",
      "occupation_ Prof-specialty       -0.4806      0.090     -5.348      0.000      -0.657      -0.304\n",
      "occupation_ Protective-serv      -0.5057      0.141     -3.597      0.000      -0.781      -0.230\n",
      "occupation_ Sales                -0.2008      0.091     -2.206      0.027      -0.379      -0.022\n",
      "occupation_ Tech-support         -0.5819      0.124     -4.681      0.000      -0.825      -0.338\n",
      "occupation_ Transport-moving      0.1794      0.112      1.608      0.108      -0.039       0.398\n",
      "sex_ Male                        -0.0561      0.058     -0.974      0.330      -0.169       0.057\n",
      "native_country_europe            -0.3574      0.196     -1.819      0.069      -0.742       0.028\n",
      "native_country_north_america     -0.2169      0.135     -1.607      0.108      -0.481       0.048\n",
      "native_country_other              0.1357      0.193      0.704      0.481      -0.242       0.514\n",
      "native_country_south_america      1.8882      0.674      2.803      0.005       0.568       3.209\n",
      "=================================================================================================\n"
     ]
    },
    {
     "data": {
      "application/javascript": [
       "\n",
       "            setTimeout(function() {\n",
       "                var nbb_cell_id = 80;\n",
       "                var nbb_unformatted_code = \"X_train4 = X_train2.drop(\\n    [\\\"race_ Asian-Pac-Islander\\\", \\\"race_ Black\\\", \\\"race_ Other\\\", \\\"race_ White\\\"], axis=1\\n)\\n\\nlogit4 = sm.Logit(y_train, X_train4.astype(float))\\nlg4 = logit4.fit()\\n\\nprint(lg4.summary())\";\n",
       "                var nbb_formatted_code = \"X_train4 = X_train2.drop(\\n    [\\\"race_ Asian-Pac-Islander\\\", \\\"race_ Black\\\", \\\"race_ Other\\\", \\\"race_ White\\\"], axis=1\\n)\\n\\nlogit4 = sm.Logit(y_train, X_train4.astype(float))\\nlg4 = logit4.fit()\\n\\nprint(lg4.summary())\";\n",
       "                var nbb_cells = Jupyter.notebook.get_cells();\n",
       "                for (var i = 0; i < nbb_cells.length; ++i) {\n",
       "                    if (nbb_cells[i].input_prompt_number == nbb_cell_id) {\n",
       "                        if (nbb_cells[i].get_text() == nbb_unformatted_code) {\n",
       "                             nbb_cells[i].set_text(nbb_formatted_code);\n",
       "                        }\n",
       "                        break;\n",
       "                    }\n",
       "                }\n",
       "            }, 500);\n",
       "            "
      ],
      "text/plain": [
       "<IPython.core.display.Javascript object>"
      ]
     },
     "metadata": {},
     "output_type": "display_data"
    }
   ],
   "source": [
    "X_train4 = X_train2.drop(\n",
    "    [\"race_ Asian-Pac-Islander\", \"race_ Black\", \"race_ Other\", \"race_ White\"], axis=1\n",
    ")\n",
    "\n",
    "logit4 = sm.Logit(y_train, X_train4.astype(float))\n",
    "lg4 = logit4.fit()\n",
    "\n",
    "print(lg4.summary())"
   ]
  },
  {
   "cell_type": "code",
   "execution_count": 81,
   "id": "alpha-living",
   "metadata": {},
   "outputs": [
    {
     "name": "stdout",
     "output_type": "stream",
     "text": [
      "['const', 'age', 'fnlwgt', 'working_hours_per_week', 'workclass_ Local-gov', 'workclass_ Private', 'workclass_ Self-emp-not-inc', 'workclass_ State-gov', 'workclass_Unknown', 'education_ 12th', 'education_ Assoc-acdm', 'education_ Assoc-voc', 'education_ Bachelors', 'education_ Doctorate', 'education_ HS-grad', 'education_ Masters', 'education_ Prof-school', 'education_ Some-college', 'marital_status_married', 'marital_status_not_married', 'occupation_ Exec-managerial', 'occupation_ Farming-fishing', 'occupation_ Handlers-cleaners', 'occupation_ Machine-op-inspct', 'occupation_ Other-service', 'occupation_ Priv-house-serv', 'occupation_ Prof-specialty', 'occupation_ Protective-serv', 'occupation_ Tech-support', 'occupation_ Transport-moving', 'native_country_europe', 'native_country_north_america', 'native_country_south_america']\n"
     ]
    },
    {
     "data": {
      "application/javascript": [
       "\n",
       "            setTimeout(function() {\n",
       "                var nbb_cell_id = 81;\n",
       "                var nbb_unformatted_code = \"# running a loop to drop variables with high p-value\\n\\n# initial list of columns\\ncols = X_train4.columns.tolist()\\n\\n# setting an initial max p-value\\nmax_p_value = 1\\n\\nwhile len(cols) > 0:\\n    # defining the train set\\n    X_train_aux = X_train4[cols]\\n\\n    # fitting the model\\n    model = sm.Logit(y_train, X_train_aux).fit(disp=False)\\n\\n    # getting the p-values and the maximum p-value\\n    p_values = model.pvalues\\n    max_p_value = max(p_values)\\n\\n    # name of the variable with maximum p-value\\n    feature_with_p_max = p_values.idxmax()\\n\\n    if max_p_value > 0.05:\\n        cols.remove(feature_with_p_max)\\n    else:\\n        break\\n\\nselected_features = cols\\nprint(selected_features)\";\n",
       "                var nbb_formatted_code = \"# running a loop to drop variables with high p-value\\n\\n# initial list of columns\\ncols = X_train4.columns.tolist()\\n\\n# setting an initial max p-value\\nmax_p_value = 1\\n\\nwhile len(cols) > 0:\\n    # defining the train set\\n    X_train_aux = X_train4[cols]\\n\\n    # fitting the model\\n    model = sm.Logit(y_train, X_train_aux).fit(disp=False)\\n\\n    # getting the p-values and the maximum p-value\\n    p_values = model.pvalues\\n    max_p_value = max(p_values)\\n\\n    # name of the variable with maximum p-value\\n    feature_with_p_max = p_values.idxmax()\\n\\n    if max_p_value > 0.05:\\n        cols.remove(feature_with_p_max)\\n    else:\\n        break\\n\\nselected_features = cols\\nprint(selected_features)\";\n",
       "                var nbb_cells = Jupyter.notebook.get_cells();\n",
       "                for (var i = 0; i < nbb_cells.length; ++i) {\n",
       "                    if (nbb_cells[i].input_prompt_number == nbb_cell_id) {\n",
       "                        if (nbb_cells[i].get_text() == nbb_unformatted_code) {\n",
       "                             nbb_cells[i].set_text(nbb_formatted_code);\n",
       "                        }\n",
       "                        break;\n",
       "                    }\n",
       "                }\n",
       "            }, 500);\n",
       "            "
      ],
      "text/plain": [
       "<IPython.core.display.Javascript object>"
      ]
     },
     "metadata": {},
     "output_type": "display_data"
    }
   ],
   "source": [
    "# running a loop to drop variables with high p-value\n",
    "\n",
    "# initial list of columns\n",
    "cols = X_train4.columns.tolist()\n",
    "\n",
    "# setting an initial max p-value\n",
    "max_p_value = 1\n",
    "\n",
    "while len(cols) > 0:\n",
    "    # defining the train set\n",
    "    X_train_aux = X_train4[cols]\n",
    "\n",
    "    # fitting the model\n",
    "    model = sm.Logit(y_train, X_train_aux).fit(disp=False)\n",
    "\n",
    "    # getting the p-values and the maximum p-value\n",
    "    p_values = model.pvalues\n",
    "    max_p_value = max(p_values)\n",
    "\n",
    "    # name of the variable with maximum p-value\n",
    "    feature_with_p_max = p_values.idxmax()\n",
    "\n",
    "    if max_p_value > 0.05:\n",
    "        cols.remove(feature_with_p_max)\n",
    "    else:\n",
    "        break\n",
    "\n",
    "selected_features = cols\n",
    "print(selected_features)"
   ]
  },
  {
   "cell_type": "code",
   "execution_count": 82,
   "id": "retired-grant",
   "metadata": {},
   "outputs": [
    {
     "data": {
      "application/javascript": [
       "\n",
       "            setTimeout(function() {\n",
       "                var nbb_cell_id = 82;\n",
       "                var nbb_unformatted_code = \"X_train5 = X_train4[selected_features]\";\n",
       "                var nbb_formatted_code = \"X_train5 = X_train4[selected_features]\";\n",
       "                var nbb_cells = Jupyter.notebook.get_cells();\n",
       "                for (var i = 0; i < nbb_cells.length; ++i) {\n",
       "                    if (nbb_cells[i].input_prompt_number == nbb_cell_id) {\n",
       "                        if (nbb_cells[i].get_text() == nbb_unformatted_code) {\n",
       "                             nbb_cells[i].set_text(nbb_formatted_code);\n",
       "                        }\n",
       "                        break;\n",
       "                    }\n",
       "                }\n",
       "            }, 500);\n",
       "            "
      ],
      "text/plain": [
       "<IPython.core.display.Javascript object>"
      ]
     },
     "metadata": {},
     "output_type": "display_data"
    }
   ],
   "source": [
    "X_train5 = X_train4[selected_features]"
   ]
  },
  {
   "cell_type": "code",
   "execution_count": 83,
   "id": "complete-amsterdam",
   "metadata": {},
   "outputs": [
    {
     "name": "stdout",
     "output_type": "stream",
     "text": [
      "                           Logit Regression Results                           \n",
      "==============================================================================\n",
      "Dep. Variable:                 salary   No. Observations:                22792\n",
      "Model:                          Logit   Df Residuals:                    22759\n",
      "Method:                           MLE   Df Model:                           32\n",
      "Date:                Fri, 03 Sep 2021   Pseudo R-squ.:                  0.3617\n",
      "Time:                        14:35:34   Log-Likelihood:                -8127.6\n",
      "converged:                       True   LL-Null:                       -12733.\n",
      "Covariance Type:            nonrobust   LLR p-value:                     0.000\n",
      "=================================================================================================\n",
      "                                    coef    std err          z      P>|z|      [0.025      0.975]\n",
      "-------------------------------------------------------------------------------------------------\n",
      "const                             8.5825      0.243     35.354      0.000       8.107       9.058\n",
      "age                              -0.0296      0.002    -16.393      0.000      -0.033      -0.026\n",
      "fnlwgt                        -8.683e-07   2.09e-07     -4.154      0.000   -1.28e-06   -4.59e-07\n",
      "working_hours_per_week           -0.0692      0.003    -20.417      0.000      -0.076      -0.063\n",
      "workclass_ Local-gov              0.6452      0.102      6.309      0.000       0.445       0.846\n",
      "workclass_ Private                0.3858      0.072      5.381      0.000       0.245       0.526\n",
      "workclass_ Self-emp-not-inc       0.8238      0.093      8.867      0.000       0.642       1.006\n",
      "workclass_ State-gov              0.6150      0.118      5.213      0.000       0.384       0.846\n",
      "workclass_Unknown                 1.2324      0.132      9.361      0.000       0.974       1.490\n",
      "education_ 12th                  -0.7431      0.253     -2.931      0.003      -1.240      -0.246\n",
      "education_ Assoc-acdm            -1.6358      0.139    -11.777      0.000      -1.908      -1.364\n",
      "education_ Assoc-voc             -1.6824      0.126    -13.333      0.000      -1.930      -1.435\n",
      "education_ Bachelors             -2.3098      0.105    -22.052      0.000      -2.515      -2.104\n",
      "education_ Doctorate             -3.2188      0.190    -16.914      0.000      -3.592      -2.846\n",
      "education_ HS-grad               -1.1324      0.098    -11.546      0.000      -1.325      -0.940\n",
      "education_ Masters               -2.7062      0.123    -21.948      0.000      -2.948      -2.465\n",
      "education_ Prof-school           -3.3590      0.170    -19.748      0.000      -3.692      -3.026\n",
      "education_ Some-college          -1.4587      0.102    -14.263      0.000      -1.659      -1.258\n",
      "marital_status_married           -2.5813      0.066    -38.845      0.000      -2.712      -2.451\n",
      "marital_status_not_married       -0.4148      0.082     -5.038      0.000      -0.576      -0.253\n",
      "occupation_ Exec-managerial      -0.6458      0.059    -10.987      0.000      -0.761      -0.531\n",
      "occupation_ Farming-fishing       1.1126      0.139      8.006      0.000       0.840       1.385\n",
      "occupation_ Handlers-cleaners     0.8184      0.145      5.661      0.000       0.535       1.102\n",
      "occupation_ Machine-op-inspct     0.4184      0.094      4.460      0.000       0.235       0.602\n",
      "occupation_ Other-service         1.0542      0.117      8.993      0.000       0.824       1.284\n",
      "occupation_ Priv-house-serv       2.3978      1.082      2.217      0.027       0.278       4.518\n",
      "occupation_ Prof-specialty       -0.3629      0.068     -5.326      0.000      -0.496      -0.229\n",
      "occupation_ Protective-serv      -0.4111      0.126     -3.252      0.001      -0.659      -0.163\n",
      "occupation_ Tech-support         -0.4772      0.109     -4.366      0.000      -0.692      -0.263\n",
      "occupation_ Transport-moving      0.2802      0.090      3.109      0.002       0.104       0.457\n",
      "native_country_europe            -0.4221      0.173     -2.436      0.015      -0.762      -0.083\n",
      "native_country_north_america     -0.2946      0.099     -2.977      0.003      -0.488      -0.101\n",
      "native_country_south_america      1.8115      0.665      2.723      0.006       0.508       3.115\n",
      "=================================================================================================\n"
     ]
    },
    {
     "data": {
      "application/javascript": [
       "\n",
       "            setTimeout(function() {\n",
       "                var nbb_cell_id = 83;\n",
       "                var nbb_unformatted_code = \"logit5 = sm.Logit(y_train, X_train5.astype(float))\\nlg5 = logit5.fit(disp=False)\\n\\nprint(lg5.summary())\";\n",
       "                var nbb_formatted_code = \"logit5 = sm.Logit(y_train, X_train5.astype(float))\\nlg5 = logit5.fit(disp=False)\\n\\nprint(lg5.summary())\";\n",
       "                var nbb_cells = Jupyter.notebook.get_cells();\n",
       "                for (var i = 0; i < nbb_cells.length; ++i) {\n",
       "                    if (nbb_cells[i].input_prompt_number == nbb_cell_id) {\n",
       "                        if (nbb_cells[i].get_text() == nbb_unformatted_code) {\n",
       "                             nbb_cells[i].set_text(nbb_formatted_code);\n",
       "                        }\n",
       "                        break;\n",
       "                    }\n",
       "                }\n",
       "            }, 500);\n",
       "            "
      ],
      "text/plain": [
       "<IPython.core.display.Javascript object>"
      ]
     },
     "metadata": {},
     "output_type": "display_data"
    }
   ],
   "source": [
    "logit5 = sm.Logit(y_train, X_train5.astype(float))\n",
    "lg5 = logit5.fit(disp=False)\n",
    "\n",
    "print(lg5.summary())"
   ]
  },
  {
   "cell_type": "markdown",
   "id": "capable-mystery",
   "metadata": {},
   "source": [
    "**Now no feature has p-value greater than 0.05, so we'll consider the features in *X_train5* as the final ones and *lg5* as final model.**"
   ]
  },
  {
   "cell_type": "markdown",
   "id": "minus-above",
   "metadata": {},
   "source": [
    "### Coefficient interpretations\n",
    "\n",
    "* Coefficient of some levels of education, workclass, and native country are positive an increase in these will lead to increase in chances of a person having <=50K salary. \n",
    "\n",
    "* Coefficient of age,fnlwgt,marital_status, working_hours_per_week,some levels of education, workclass, and native country are negative increase in these will lead to decrease in chances of a person having <=50K salary."
   ]
  },
  {
   "cell_type": "markdown",
   "id": "impressed-arrangement",
   "metadata": {},
   "source": [
    "###  Converting coefficients to odds\n",
    "* The coefficients of the logistic regression model are in terms of log(odd), to find the odds we have to take the exponential of the coefficients. \n",
    "* Therefore, **odds =  exp(b)**\n",
    "* The percentage change in odds is given as **odds = (exp(b) - 1) * 100**"
   ]
  },
  {
   "cell_type": "code",
   "execution_count": 84,
   "id": "intermediate-empire",
   "metadata": {},
   "outputs": [
    {
     "data": {
      "text/html": [
       "<div>\n",
       "<style scoped>\n",
       "    .dataframe tbody tr th:only-of-type {\n",
       "        vertical-align: middle;\n",
       "    }\n",
       "\n",
       "    .dataframe tbody tr th {\n",
       "        vertical-align: top;\n",
       "    }\n",
       "\n",
       "    .dataframe thead th {\n",
       "        text-align: right;\n",
       "    }\n",
       "</style>\n",
       "<table border=\"1\" class=\"dataframe\">\n",
       "  <thead>\n",
       "    <tr style=\"text-align: right;\">\n",
       "      <th></th>\n",
       "      <th>const</th>\n",
       "      <th>age</th>\n",
       "      <th>fnlwgt</th>\n",
       "      <th>working_hours_per_week</th>\n",
       "      <th>workclass_ Local-gov</th>\n",
       "      <th>workclass_ Private</th>\n",
       "      <th>workclass_ Self-emp-not-inc</th>\n",
       "      <th>workclass_ State-gov</th>\n",
       "      <th>workclass_Unknown</th>\n",
       "      <th>education_ 12th</th>\n",
       "      <th>education_ Assoc-acdm</th>\n",
       "      <th>education_ Assoc-voc</th>\n",
       "      <th>education_ Bachelors</th>\n",
       "      <th>education_ Doctorate</th>\n",
       "      <th>education_ HS-grad</th>\n",
       "      <th>education_ Masters</th>\n",
       "      <th>education_ Prof-school</th>\n",
       "      <th>education_ Some-college</th>\n",
       "      <th>marital_status_married</th>\n",
       "      <th>marital_status_not_married</th>\n",
       "      <th>occupation_ Exec-managerial</th>\n",
       "      <th>occupation_ Farming-fishing</th>\n",
       "      <th>occupation_ Handlers-cleaners</th>\n",
       "      <th>occupation_ Machine-op-inspct</th>\n",
       "      <th>occupation_ Other-service</th>\n",
       "      <th>occupation_ Priv-house-serv</th>\n",
       "      <th>occupation_ Prof-specialty</th>\n",
       "      <th>occupation_ Protective-serv</th>\n",
       "      <th>occupation_ Tech-support</th>\n",
       "      <th>occupation_ Transport-moving</th>\n",
       "      <th>native_country_europe</th>\n",
       "      <th>native_country_north_america</th>\n",
       "      <th>native_country_south_america</th>\n",
       "    </tr>\n",
       "  </thead>\n",
       "  <tbody>\n",
       "    <tr>\n",
       "      <th>Odds</th>\n",
       "      <td>5337.458512</td>\n",
       "      <td>0.970816</td>\n",
       "      <td>0.999999</td>\n",
       "      <td>0.933132</td>\n",
       "      <td>1.906395</td>\n",
       "      <td>1.470755</td>\n",
       "      <td>2.279060</td>\n",
       "      <td>1.849613</td>\n",
       "      <td>3.429522</td>\n",
       "      <td>0.475635</td>\n",
       "      <td>0.194804</td>\n",
       "      <td>0.185925</td>\n",
       "      <td>0.099282</td>\n",
       "      <td>0.040001</td>\n",
       "      <td>0.322252</td>\n",
       "      <td>0.066789</td>\n",
       "      <td>0.034771</td>\n",
       "      <td>0.232543</td>\n",
       "      <td>0.075674</td>\n",
       "      <td>0.660499</td>\n",
       "      <td>0.524248</td>\n",
       "      <td>3.042246</td>\n",
       "      <td>2.266815</td>\n",
       "      <td>1.519514</td>\n",
       "      <td>2.869626</td>\n",
       "      <td>10.998738</td>\n",
       "      <td>0.695646</td>\n",
       "      <td>0.662946</td>\n",
       "      <td>0.620488</td>\n",
       "      <td>1.323382</td>\n",
       "      <td>0.655683</td>\n",
       "      <td>0.744855</td>\n",
       "      <td>6.119854</td>\n",
       "    </tr>\n",
       "    <tr>\n",
       "      <th>Change_odd%</th>\n",
       "      <td>533645.851184</td>\n",
       "      <td>-2.918407</td>\n",
       "      <td>-0.000087</td>\n",
       "      <td>-6.686808</td>\n",
       "      <td>90.639546</td>\n",
       "      <td>47.075489</td>\n",
       "      <td>127.906015</td>\n",
       "      <td>84.961261</td>\n",
       "      <td>242.952153</td>\n",
       "      <td>-52.436468</td>\n",
       "      <td>-80.519564</td>\n",
       "      <td>-81.407494</td>\n",
       "      <td>-90.071803</td>\n",
       "      <td>-95.999872</td>\n",
       "      <td>-67.774832</td>\n",
       "      <td>-93.321128</td>\n",
       "      <td>-96.522869</td>\n",
       "      <td>-76.745716</td>\n",
       "      <td>-92.432620</td>\n",
       "      <td>-33.950051</td>\n",
       "      <td>-47.575196</td>\n",
       "      <td>204.224628</td>\n",
       "      <td>126.681457</td>\n",
       "      <td>51.951420</td>\n",
       "      <td>186.962623</td>\n",
       "      <td>999.873832</td>\n",
       "      <td>-30.435353</td>\n",
       "      <td>-33.705438</td>\n",
       "      <td>-37.951197</td>\n",
       "      <td>32.338159</td>\n",
       "      <td>-34.431721</td>\n",
       "      <td>-25.514453</td>\n",
       "      <td>511.985373</td>\n",
       "    </tr>\n",
       "  </tbody>\n",
       "</table>\n",
       "</div>"
      ],
      "text/plain": [
       "                     const       age    fnlwgt  working_hours_per_week  \\\n",
       "Odds           5337.458512  0.970816  0.999999                0.933132   \n",
       "Change_odd%  533645.851184 -2.918407 -0.000087               -6.686808   \n",
       "\n",
       "             workclass_ Local-gov  workclass_ Private  \\\n",
       "Odds                     1.906395            1.470755   \n",
       "Change_odd%             90.639546           47.075489   \n",
       "\n",
       "             workclass_ Self-emp-not-inc  workclass_ State-gov  \\\n",
       "Odds                            2.279060              1.849613   \n",
       "Change_odd%                   127.906015             84.961261   \n",
       "\n",
       "             workclass_Unknown  education_ 12th  education_ Assoc-acdm  \\\n",
       "Odds                  3.429522         0.475635               0.194804   \n",
       "Change_odd%         242.952153       -52.436468             -80.519564   \n",
       "\n",
       "             education_ Assoc-voc  education_ Bachelors  education_ Doctorate  \\\n",
       "Odds                     0.185925              0.099282              0.040001   \n",
       "Change_odd%            -81.407494            -90.071803            -95.999872   \n",
       "\n",
       "             education_ HS-grad  education_ Masters  education_ Prof-school  \\\n",
       "Odds                   0.322252            0.066789                0.034771   \n",
       "Change_odd%          -67.774832          -93.321128              -96.522869   \n",
       "\n",
       "             education_ Some-college  marital_status_married  \\\n",
       "Odds                        0.232543                0.075674   \n",
       "Change_odd%               -76.745716              -92.432620   \n",
       "\n",
       "             marital_status_not_married  occupation_ Exec-managerial  \\\n",
       "Odds                           0.660499                     0.524248   \n",
       "Change_odd%                  -33.950051                   -47.575196   \n",
       "\n",
       "             occupation_ Farming-fishing  occupation_ Handlers-cleaners  \\\n",
       "Odds                            3.042246                       2.266815   \n",
       "Change_odd%                   204.224628                     126.681457   \n",
       "\n",
       "             occupation_ Machine-op-inspct  occupation_ Other-service  \\\n",
       "Odds                              1.519514                   2.869626   \n",
       "Change_odd%                      51.951420                 186.962623   \n",
       "\n",
       "             occupation_ Priv-house-serv  occupation_ Prof-specialty  \\\n",
       "Odds                           10.998738                    0.695646   \n",
       "Change_odd%                   999.873832                  -30.435353   \n",
       "\n",
       "             occupation_ Protective-serv  occupation_ Tech-support  \\\n",
       "Odds                            0.662946                  0.620488   \n",
       "Change_odd%                   -33.705438                -37.951197   \n",
       "\n",
       "             occupation_ Transport-moving  native_country_europe  \\\n",
       "Odds                             1.323382               0.655683   \n",
       "Change_odd%                     32.338159             -34.431721   \n",
       "\n",
       "             native_country_north_america  native_country_south_america  \n",
       "Odds                             0.744855                      6.119854  \n",
       "Change_odd%                    -25.514453                    511.985373  "
      ]
     },
     "execution_count": 84,
     "metadata": {},
     "output_type": "execute_result"
    },
    {
     "data": {
      "application/javascript": [
       "\n",
       "            setTimeout(function() {\n",
       "                var nbb_cell_id = 84;\n",
       "                var nbb_unformatted_code = \"# converting coefficients to odds\\nodds = np.exp(lg5.params)\\n\\n# finding the percentage change\\nperc_change_odds = (np.exp(lg5.params) - 1) * 100\\n\\n# removing limit from number of columns to display\\npd.set_option(\\\"display.max_columns\\\", None)\\n\\n# adding the odds to a dataframe\\npd.DataFrame({\\\"Odds\\\": odds, \\\"Change_odd%\\\": perc_change_odds}, index=X_train5.columns).T\";\n",
       "                var nbb_formatted_code = \"# converting coefficients to odds\\nodds = np.exp(lg5.params)\\n\\n# finding the percentage change\\nperc_change_odds = (np.exp(lg5.params) - 1) * 100\\n\\n# removing limit from number of columns to display\\npd.set_option(\\\"display.max_columns\\\", None)\\n\\n# adding the odds to a dataframe\\npd.DataFrame({\\\"Odds\\\": odds, \\\"Change_odd%\\\": perc_change_odds}, index=X_train5.columns).T\";\n",
       "                var nbb_cells = Jupyter.notebook.get_cells();\n",
       "                for (var i = 0; i < nbb_cells.length; ++i) {\n",
       "                    if (nbb_cells[i].input_prompt_number == nbb_cell_id) {\n",
       "                        if (nbb_cells[i].get_text() == nbb_unformatted_code) {\n",
       "                             nbb_cells[i].set_text(nbb_formatted_code);\n",
       "                        }\n",
       "                        break;\n",
       "                    }\n",
       "                }\n",
       "            }, 500);\n",
       "            "
      ],
      "text/plain": [
       "<IPython.core.display.Javascript object>"
      ]
     },
     "metadata": {},
     "output_type": "display_data"
    }
   ],
   "source": [
    "# converting coefficients to odds\n",
    "odds = np.exp(lg5.params)\n",
    "\n",
    "# finding the percentage change\n",
    "perc_change_odds = (np.exp(lg5.params) - 1) * 100\n",
    "\n",
    "# removing limit from number of columns to display\n",
    "pd.set_option(\"display.max_columns\", None)\n",
    "\n",
    "# adding the odds to a dataframe\n",
    "pd.DataFrame({\"Odds\": odds, \"Change_odd%\": perc_change_odds}, index=X_train5.columns).T"
   ]
  },
  {
   "cell_type": "markdown",
   "id": "oriented-afternoon",
   "metadata": {},
   "source": [
    "### Coefficient interpretations\n",
    "\n",
    "* `age`: Holding all other features constant a 1 unit change in Age will decrease the odds of a person having salary <=50k by 0.97 times or a 2.90% decrease in odds of having salary <=50K.\n",
    "* `working_hours_per_week`: Holding all other features constant a 1 unit change in the working_hours_per_week will decrease the odds of a person having salary <=50k by 0.93 times or a decrease of 6.6% decrease in odds of having salary <=50K.\n",
    "* The odds of a person whose marital status is married having a salary <=50K is 0.075 less than the person who was never married or 92.2% fewer odds of having salary <=50K. Similarly, The odds of a person whose marital status is not_married having a salary <=50K is 0.65 times less than the person who was never married or 34.04% less odds of having a salary <=50K than the person who was never married. [keeping Never_married category as a reference].\n",
    "* The odds of a person having salary <=50K is 0.47 times less than the person who has done education 1st-9th, 11th or Preschool or 52.67% fewer odds of having salary <=50K. Similarly, The odds of a person who has a Doctorate having a salary <=50K is 0.04 times less than the person who has done education 1st-9th or Preschool or 95.94% less odds of having a salary <=50K. [keeping  education_ 1st-4th,education_ 5th-6th, education_ 7th-8th, education_ 9th, education_ 11th, education_ Preschool category as a reference].\n",
    "\n",
    "`Interpretation for other attributes can be done similarly.`"
   ]
  },
  {
   "cell_type": "markdown",
   "id": "incorporated-southeast",
   "metadata": {},
   "source": [
    "#### Checking model performance on the training set"
   ]
  },
  {
   "cell_type": "code",
   "execution_count": 85,
   "id": "circular-bracelet",
   "metadata": {},
   "outputs": [
    {
     "data": {
      "image/png": "[encoded data removed]",
      "text/plain": [
       "<Figure size 432x288 with 2 Axes>"
      ]
     },
     "metadata": {
      "needs_background": "light"
     },
     "output_type": "display_data"
    },
    {
     "data": {
      "application/javascript": [
       "\n",
       "            setTimeout(function() {\n",
       "                var nbb_cell_id = 85;\n",
       "                var nbb_unformatted_code = \"# creating confusion matrix\\nconfusion_matrix_statsmodels(lg5, X_train5, y_train)\";\n",
       "                var nbb_formatted_code = \"# creating confusion matrix\\nconfusion_matrix_statsmodels(lg5, X_train5, y_train)\";\n",
       "                var nbb_cells = Jupyter.notebook.get_cells();\n",
       "                for (var i = 0; i < nbb_cells.length; ++i) {\n",
       "                    if (nbb_cells[i].input_prompt_number == nbb_cell_id) {\n",
       "                        if (nbb_cells[i].get_text() == nbb_unformatted_code) {\n",
       "                             nbb_cells[i].set_text(nbb_formatted_code);\n",
       "                        }\n",
       "                        break;\n",
       "                    }\n",
       "                }\n",
       "            }, 500);\n",
       "            "
      ],
      "text/plain": [
       "<IPython.core.display.Javascript object>"
      ]
     },
     "metadata": {},
     "output_type": "display_data"
    }
   ],
   "source": [
    "# creating confusion matrix\n",
    "confusion_matrix_statsmodels(lg5, X_train5, y_train)"
   ]
  },
  {
   "cell_type": "code",
   "execution_count": 86,
   "id": "coastal-sheffield",
   "metadata": {},
   "outputs": [
    {
     "name": "stdout",
     "output_type": "stream",
     "text": [
      "Training performance:\n"
     ]
    },
    {
     "data": {
      "text/html": [
       "<div>\n",
       "<style scoped>\n",
       "    .dataframe tbody tr th:only-of-type {\n",
       "        vertical-align: middle;\n",
       "    }\n",
       "\n",
       "    .dataframe tbody tr th {\n",
       "        vertical-align: top;\n",
       "    }\n",
       "\n",
       "    .dataframe thead th {\n",
       "        text-align: right;\n",
       "    }\n",
       "</style>\n",
       "<table border=\"1\" class=\"dataframe\">\n",
       "  <thead>\n",
       "    <tr style=\"text-align: right;\">\n",
       "      <th></th>\n",
       "      <th>Accuracy</th>\n",
       "      <th>Recall</th>\n",
       "      <th>Precision</th>\n",
       "      <th>F1</th>\n",
       "    </tr>\n",
       "  </thead>\n",
       "  <tbody>\n",
       "    <tr>\n",
       "      <th>0</th>\n",
       "      <td>0.833406</td>\n",
       "      <td>0.922656</td>\n",
       "      <td>0.865163</td>\n",
       "      <td>0.892985</td>\n",
       "    </tr>\n",
       "  </tbody>\n",
       "</table>\n",
       "</div>"
      ],
      "text/plain": [
       "   Accuracy    Recall  Precision        F1\n",
       "0  0.833406  0.922656   0.865163  0.892985"
      ]
     },
     "execution_count": 86,
     "metadata": {},
     "output_type": "execute_result"
    },
    {
     "data": {
      "application/javascript": [
       "\n",
       "            setTimeout(function() {\n",
       "                var nbb_cell_id = 86;\n",
       "                var nbb_unformatted_code = \"log_reg_model_train_perf = model_performance_classification_statsmodels(\\n    lg5, X_train5, y_train\\n)\\n\\nprint(\\\"Training performance:\\\")\\nlog_reg_model_train_perf\";\n",
       "                var nbb_formatted_code = \"log_reg_model_train_perf = model_performance_classification_statsmodels(\\n    lg5, X_train5, y_train\\n)\\n\\nprint(\\\"Training performance:\\\")\\nlog_reg_model_train_perf\";\n",
       "                var nbb_cells = Jupyter.notebook.get_cells();\n",
       "                for (var i = 0; i < nbb_cells.length; ++i) {\n",
       "                    if (nbb_cells[i].input_prompt_number == nbb_cell_id) {\n",
       "                        if (nbb_cells[i].get_text() == nbb_unformatted_code) {\n",
       "                             nbb_cells[i].set_text(nbb_formatted_code);\n",
       "                        }\n",
       "                        break;\n",
       "                    }\n",
       "                }\n",
       "            }, 500);\n",
       "            "
      ],
      "text/plain": [
       "<IPython.core.display.Javascript object>"
      ]
     },
     "metadata": {},
     "output_type": "display_data"
    }
   ],
   "source": [
    "log_reg_model_train_perf = model_performance_classification_statsmodels(\n",
    "    lg5, X_train5, y_train\n",
    ")\n",
    "\n",
    "print(\"Training performance:\")\n",
    "log_reg_model_train_perf"
   ]
  },
  {
   "cell_type": "markdown",
   "id": "alone-relay",
   "metadata": {},
   "source": [
    "#### ROC-AUC"
   ]
  },
  {
   "cell_type": "markdown",
   "id": "furnished-dragon",
   "metadata": {},
   "source": [
    "* ROC-AUC on training set"
   ]
  },
  {
   "cell_type": "code",
   "execution_count": 87,
   "id": "welcome-flood",
   "metadata": {},
   "outputs": [
    {
     "data": {
      "image/png": "[encoded data removed]",
      "text/plain": [
       "<Figure size 504x360 with 1 Axes>"
      ]
     },
     "metadata": {
      "needs_background": "light"
     },
     "output_type": "display_data"
    },
    {
     "data": {
      "application/javascript": [
       "\n",
       "            setTimeout(function() {\n",
       "                var nbb_cell_id = 87;\n",
       "                var nbb_unformatted_code = \"logit_roc_auc_train = roc_auc_score(y_train, lg5.predict(X_train5))\\nfpr, tpr, thresholds = roc_curve(y_train, lg5.predict(X_train5))\\nplt.figure(figsize=(7, 5))\\nplt.plot(fpr, tpr, label=\\\"Logistic Regression (area = %0.2f)\\\" % logit_roc_auc_train)\\nplt.plot([0, 1], [0, 1], \\\"r--\\\")\\nplt.xlim([0.0, 1.0])\\nplt.ylim([0.0, 1.05])\\nplt.xlabel(\\\"False Positive Rate\\\")\\nplt.ylabel(\\\"True Positive Rate\\\")\\nplt.title(\\\"Receiver operating characteristic\\\")\\nplt.legend(loc=\\\"lower right\\\")\\nplt.show()\";\n",
       "                var nbb_formatted_code = \"logit_roc_auc_train = roc_auc_score(y_train, lg5.predict(X_train5))\\nfpr, tpr, thresholds = roc_curve(y_train, lg5.predict(X_train5))\\nplt.figure(figsize=(7, 5))\\nplt.plot(fpr, tpr, label=\\\"Logistic Regression (area = %0.2f)\\\" % logit_roc_auc_train)\\nplt.plot([0, 1], [0, 1], \\\"r--\\\")\\nplt.xlim([0.0, 1.0])\\nplt.ylim([0.0, 1.05])\\nplt.xlabel(\\\"False Positive Rate\\\")\\nplt.ylabel(\\\"True Positive Rate\\\")\\nplt.title(\\\"Receiver operating characteristic\\\")\\nplt.legend(loc=\\\"lower right\\\")\\nplt.show()\";\n",
       "                var nbb_cells = Jupyter.notebook.get_cells();\n",
       "                for (var i = 0; i < nbb_cells.length; ++i) {\n",
       "                    if (nbb_cells[i].input_prompt_number == nbb_cell_id) {\n",
       "                        if (nbb_cells[i].get_text() == nbb_unformatted_code) {\n",
       "                             nbb_cells[i].set_text(nbb_formatted_code);\n",
       "                        }\n",
       "                        break;\n",
       "                    }\n",
       "                }\n",
       "            }, 500);\n",
       "            "
      ],
      "text/plain": [
       "<IPython.core.display.Javascript object>"
      ]
     },
     "metadata": {},
     "output_type": "display_data"
    }
   ],
   "source": [
    "logit_roc_auc_train = roc_auc_score(y_train, lg5.predict(X_train5))\n",
    "fpr, tpr, thresholds = roc_curve(y_train, lg5.predict(X_train5))\n",
    "plt.figure(figsize=(7, 5))\n",
    "plt.plot(fpr, tpr, label=\"Logistic Regression (area = %0.2f)\" % logit_roc_auc_train)\n",
    "plt.plot([0, 1], [0, 1], \"r--\")\n",
    "plt.xlim([0.0, 1.0])\n",
    "plt.ylim([0.0, 1.05])\n",
    "plt.xlabel(\"False Positive Rate\")\n",
    "plt.ylabel(\"True Positive Rate\")\n",
    "plt.title(\"Receiver operating characteristic\")\n",
    "plt.legend(loc=\"lower right\")\n",
    "plt.show()"
   ]
  },
  {
   "cell_type": "markdown",
   "id": "fiscal-poetry",
   "metadata": {},
   "source": [
    "* Logistic Regression model is giving a good performance on training set."
   ]
  },
  {
   "cell_type": "markdown",
   "id": "duplicate-chocolate",
   "metadata": {},
   "source": [
    "### Model Performance Improvement"
   ]
  },
  {
   "cell_type": "markdown",
   "id": "binary-withdrawal",
   "metadata": {},
   "source": [
    "* Let's see if the f1 score can be improved further, by changing the model threshold using AUC-ROC Curve."
   ]
  },
  {
   "cell_type": "markdown",
   "id": "disturbed-dividend",
   "metadata": {},
   "source": [
    "### Optimal threshold using AUC-ROC curve"
   ]
  },
  {
   "cell_type": "code",
   "execution_count": 88,
   "id": "informal-retention",
   "metadata": {},
   "outputs": [
    {
     "name": "stdout",
     "output_type": "stream",
     "text": [
      "0.762651777156501\n"
     ]
    },
    {
     "data": {
      "application/javascript": [
       "\n",
       "            setTimeout(function() {\n",
       "                var nbb_cell_id = 88;\n",
       "                var nbb_unformatted_code = \"# Optimal threshold as per AUC-ROC curve\\n# The optimal cut off would be where tpr is high and fpr is low\\nfpr, tpr, thresholds = roc_curve(y_train, lg5.predict(X_train5))\\n\\noptimal_idx = np.argmax(tpr - fpr)\\noptimal_threshold_auc_roc = thresholds[optimal_idx]\\nprint(optimal_threshold_auc_roc)\";\n",
       "                var nbb_formatted_code = \"# Optimal threshold as per AUC-ROC curve\\n# The optimal cut off would be where tpr is high and fpr is low\\nfpr, tpr, thresholds = roc_curve(y_train, lg5.predict(X_train5))\\n\\noptimal_idx = np.argmax(tpr - fpr)\\noptimal_threshold_auc_roc = thresholds[optimal_idx]\\nprint(optimal_threshold_auc_roc)\";\n",
       "                var nbb_cells = Jupyter.notebook.get_cells();\n",
       "                for (var i = 0; i < nbb_cells.length; ++i) {\n",
       "                    if (nbb_cells[i].input_prompt_number == nbb_cell_id) {\n",
       "                        if (nbb_cells[i].get_text() == nbb_unformatted_code) {\n",
       "                             nbb_cells[i].set_text(nbb_formatted_code);\n",
       "                        }\n",
       "                        break;\n",
       "                    }\n",
       "                }\n",
       "            }, 500);\n",
       "            "
      ],
      "text/plain": [
       "<IPython.core.display.Javascript object>"
      ]
     },
     "metadata": {},
     "output_type": "display_data"
    }
   ],
   "source": [
    "# Optimal threshold as per AUC-ROC curve\n",
    "# The optimal cut off would be where tpr is high and fpr is low\n",
    "fpr, tpr, thresholds = roc_curve(y_train, lg5.predict(X_train5))\n",
    "\n",
    "optimal_idx = np.argmax(tpr - fpr)\n",
    "optimal_threshold_auc_roc = thresholds[optimal_idx]\n",
    "print(optimal_threshold_auc_roc)"
   ]
  },
  {
   "cell_type": "markdown",
   "id": "urban-rwanda",
   "metadata": {},
   "source": [
    "#### Checking model performance on training set"
   ]
  },
  {
   "cell_type": "code",
   "execution_count": 89,
   "id": "hawaiian-johns",
   "metadata": {},
   "outputs": [
    {
     "data": {
      "image/png": "[encoded data removed]",
      "text/plain": [
       "<Figure size 432x288 with 2 Axes>"
      ]
     },
     "metadata": {
      "needs_background": "light"
     },
     "output_type": "display_data"
    },
    {
     "data": {
      "application/javascript": [
       "\n",
       "            setTimeout(function() {\n",
       "                var nbb_cell_id = 89;\n",
       "                var nbb_unformatted_code = \"# creating confusion matrix\\nconfusion_matrix_statsmodels(\\n    lg5, X_train5, y_train, threshold=optimal_threshold_auc_roc\\n)\";\n",
       "                var nbb_formatted_code = \"# creating confusion matrix\\nconfusion_matrix_statsmodels(\\n    lg5, X_train5, y_train, threshold=optimal_threshold_auc_roc\\n)\";\n",
       "                var nbb_cells = Jupyter.notebook.get_cells();\n",
       "                for (var i = 0; i < nbb_cells.length; ++i) {\n",
       "                    if (nbb_cells[i].input_prompt_number == nbb_cell_id) {\n",
       "                        if (nbb_cells[i].get_text() == nbb_unformatted_code) {\n",
       "                             nbb_cells[i].set_text(nbb_formatted_code);\n",
       "                        }\n",
       "                        break;\n",
       "                    }\n",
       "                }\n",
       "            }, 500);\n",
       "            "
      ],
      "text/plain": [
       "<IPython.core.display.Javascript object>"
      ]
     },
     "metadata": {},
     "output_type": "display_data"
    }
   ],
   "source": [
    "# creating confusion matrix\n",
    "confusion_matrix_statsmodels(\n",
    "    lg5, X_train5, y_train, threshold=optimal_threshold_auc_roc\n",
    ")"
   ]
  },
  {
   "cell_type": "code",
   "execution_count": 90,
   "id": "unexpected-minister",
   "metadata": {},
   "outputs": [
    {
     "name": "stdout",
     "output_type": "stream",
     "text": [
      "Training performance:\n"
     ]
    },
    {
     "data": {
      "text/html": [
       "<div>\n",
       "<style scoped>\n",
       "    .dataframe tbody tr th:only-of-type {\n",
       "        vertical-align: middle;\n",
       "    }\n",
       "\n",
       "    .dataframe tbody tr th {\n",
       "        vertical-align: top;\n",
       "    }\n",
       "\n",
       "    .dataframe thead th {\n",
       "        text-align: right;\n",
       "    }\n",
       "</style>\n",
       "<table border=\"1\" class=\"dataframe\">\n",
       "  <thead>\n",
       "    <tr style=\"text-align: right;\">\n",
       "      <th></th>\n",
       "      <th>Accuracy</th>\n",
       "      <th>Recall</th>\n",
       "      <th>Precision</th>\n",
       "      <th>F1</th>\n",
       "    </tr>\n",
       "  </thead>\n",
       "  <tbody>\n",
       "    <tr>\n",
       "      <th>0</th>\n",
       "      <td>0.786153</td>\n",
       "      <td>0.767909</td>\n",
       "      <td>0.936834</td>\n",
       "      <td>0.844002</td>\n",
       "    </tr>\n",
       "  </tbody>\n",
       "</table>\n",
       "</div>"
      ],
      "text/plain": [
       "   Accuracy    Recall  Precision        F1\n",
       "0  0.786153  0.767909   0.936834  0.844002"
      ]
     },
     "execution_count": 90,
     "metadata": {},
     "output_type": "execute_result"
    },
    {
     "data": {
      "application/javascript": [
       "\n",
       "            setTimeout(function() {\n",
       "                var nbb_cell_id = 90;\n",
       "                var nbb_unformatted_code = \"# checking model performance for this model\\nlog_reg_model_train_perf_threshold_auc_roc = model_performance_classification_statsmodels(\\n    lg5, X_train5, y_train, threshold=optimal_threshold_auc_roc\\n)\\nprint(\\\"Training performance:\\\")\\nlog_reg_model_train_perf_threshold_auc_roc\";\n",
       "                var nbb_formatted_code = \"# checking model performance for this model\\nlog_reg_model_train_perf_threshold_auc_roc = (\\n    model_performance_classification_statsmodels(\\n        lg5, X_train5, y_train, threshold=optimal_threshold_auc_roc\\n    )\\n)\\nprint(\\\"Training performance:\\\")\\nlog_reg_model_train_perf_threshold_auc_roc\";\n",
       "                var nbb_cells = Jupyter.notebook.get_cells();\n",
       "                for (var i = 0; i < nbb_cells.length; ++i) {\n",
       "                    if (nbb_cells[i].input_prompt_number == nbb_cell_id) {\n",
       "                        if (nbb_cells[i].get_text() == nbb_unformatted_code) {\n",
       "                             nbb_cells[i].set_text(nbb_formatted_code);\n",
       "                        }\n",
       "                        break;\n",
       "                    }\n",
       "                }\n",
       "            }, 500);\n",
       "            "
      ],
      "text/plain": [
       "<IPython.core.display.Javascript object>"
      ]
     },
     "metadata": {},
     "output_type": "display_data"
    }
   ],
   "source": [
    "# checking model performance for this model\n",
    "log_reg_model_train_perf_threshold_auc_roc = model_performance_classification_statsmodels(\n",
    "    lg5, X_train5, y_train, threshold=optimal_threshold_auc_roc\n",
    ")\n",
    "print(\"Training performance:\")\n",
    "log_reg_model_train_perf_threshold_auc_roc"
   ]
  },
  {
   "cell_type": "markdown",
   "id": "nonprofit-engineering",
   "metadata": {},
   "source": [
    "* Precision of model has increased but the other metrics have reduced.\n",
    "* The model is still giving a good performance."
   ]
  },
  {
   "cell_type": "markdown",
   "id": "documented-channels",
   "metadata": {},
   "source": [
    "#### Let's use Precision-Recall curve and see if we can find a better threshold"
   ]
  },
  {
   "cell_type": "code",
   "execution_count": 91,
   "id": "scientific-plain",
   "metadata": {},
   "outputs": [
    {
     "data": {
      "image/png": "[encoded data removed]",
      "text/plain": [
       "<Figure size 720x504 with 1 Axes>"
      ]
     },
     "metadata": {
      "needs_background": "light"
     },
     "output_type": "display_data"
    },
    {
     "data": {
      "application/javascript": [
       "\n",
       "            setTimeout(function() {\n",
       "                var nbb_cell_id = 91;\n",
       "                var nbb_unformatted_code = \"y_scores = lg5.predict(X_train5)\\nprec, rec, tre = precision_recall_curve(y_train, y_scores,)\\n\\n\\ndef plot_prec_recall_vs_tresh(precisions, recalls, thresholds):\\n    plt.plot(thresholds, precisions[:-1], \\\"b--\\\", label=\\\"precision\\\")\\n    plt.plot(thresholds, recalls[:-1], \\\"g--\\\", label=\\\"recall\\\")\\n    plt.xlabel(\\\"Threshold\\\")\\n    plt.legend(loc=\\\"upper left\\\")\\n    plt.ylim([0, 1])\\n\\n\\nplt.figure(figsize=(10, 7))\\nplot_prec_recall_vs_tresh(prec, rec, tre)\\nplt.show()\";\n",
       "                var nbb_formatted_code = \"y_scores = lg5.predict(X_train5)\\nprec, rec, tre = precision_recall_curve(\\n    y_train,\\n    y_scores,\\n)\\n\\n\\ndef plot_prec_recall_vs_tresh(precisions, recalls, thresholds):\\n    plt.plot(thresholds, precisions[:-1], \\\"b--\\\", label=\\\"precision\\\")\\n    plt.plot(thresholds, recalls[:-1], \\\"g--\\\", label=\\\"recall\\\")\\n    plt.xlabel(\\\"Threshold\\\")\\n    plt.legend(loc=\\\"upper left\\\")\\n    plt.ylim([0, 1])\\n\\n\\nplt.figure(figsize=(10, 7))\\nplot_prec_recall_vs_tresh(prec, rec, tre)\\nplt.show()\";\n",
       "                var nbb_cells = Jupyter.notebook.get_cells();\n",
       "                for (var i = 0; i < nbb_cells.length; ++i) {\n",
       "                    if (nbb_cells[i].input_prompt_number == nbb_cell_id) {\n",
       "                        if (nbb_cells[i].get_text() == nbb_unformatted_code) {\n",
       "                             nbb_cells[i].set_text(nbb_formatted_code);\n",
       "                        }\n",
       "                        break;\n",
       "                    }\n",
       "                }\n",
       "            }, 500);\n",
       "            "
      ],
      "text/plain": [
       "<IPython.core.display.Javascript object>"
      ]
     },
     "metadata": {},
     "output_type": "display_data"
    }
   ],
   "source": [
    "y_scores = lg5.predict(X_train5)\n",
    "prec, rec, tre = precision_recall_curve(y_train, y_scores,)\n",
    "\n",
    "\n",
    "def plot_prec_recall_vs_tresh(precisions, recalls, thresholds):\n",
    "    plt.plot(thresholds, precisions[:-1], \"b--\", label=\"precision\")\n",
    "    plt.plot(thresholds, recalls[:-1], \"g--\", label=\"recall\")\n",
    "    plt.xlabel(\"Threshold\")\n",
    "    plt.legend(loc=\"upper left\")\n",
    "    plt.ylim([0, 1])\n",
    "\n",
    "\n",
    "plt.figure(figsize=(10, 7))\n",
    "plot_prec_recall_vs_tresh(prec, rec, tre)\n",
    "plt.show()"
   ]
  },
  {
   "cell_type": "markdown",
   "id": "double-cholesterol",
   "metadata": {},
   "source": [
    "* At the threshold of 0.58, we get balanced recall and precision."
   ]
  },
  {
   "cell_type": "code",
   "execution_count": 92,
   "id": "continuous-hostel",
   "metadata": {},
   "outputs": [
    {
     "data": {
      "application/javascript": [
       "\n",
       "            setTimeout(function() {\n",
       "                var nbb_cell_id = 92;\n",
       "                var nbb_unformatted_code = \"# setting the threshold\\noptimal_threshold_curve = 0.58\";\n",
       "                var nbb_formatted_code = \"# setting the threshold\\noptimal_threshold_curve = 0.58\";\n",
       "                var nbb_cells = Jupyter.notebook.get_cells();\n",
       "                for (var i = 0; i < nbb_cells.length; ++i) {\n",
       "                    if (nbb_cells[i].input_prompt_number == nbb_cell_id) {\n",
       "                        if (nbb_cells[i].get_text() == nbb_unformatted_code) {\n",
       "                             nbb_cells[i].set_text(nbb_formatted_code);\n",
       "                        }\n",
       "                        break;\n",
       "                    }\n",
       "                }\n",
       "            }, 500);\n",
       "            "
      ],
      "text/plain": [
       "<IPython.core.display.Javascript object>"
      ]
     },
     "metadata": {},
     "output_type": "display_data"
    }
   ],
   "source": [
    "# setting the threshold\n",
    "optimal_threshold_curve = 0.58"
   ]
  },
  {
   "cell_type": "markdown",
   "id": "sudden-jerusalem",
   "metadata": {},
   "source": [
    "#### Checking model performance on training set"
   ]
  },
  {
   "cell_type": "code",
   "execution_count": 93,
   "id": "direct-scientist",
   "metadata": {},
   "outputs": [
    {
     "data": {
      "image/png": "[encoded data removed]",
      "text/plain": [
       "<Figure size 432x288 with 2 Axes>"
      ]
     },
     "metadata": {
      "needs_background": "light"
     },
     "output_type": "display_data"
    },
    {
     "data": {
      "application/javascript": [
       "\n",
       "            setTimeout(function() {\n",
       "                var nbb_cell_id = 93;\n",
       "                var nbb_unformatted_code = \"# creating confusion matrix\\nconfusion_matrix_statsmodels(lg5, X_train5, y_train, threshold=optimal_threshold_curve)\";\n",
       "                var nbb_formatted_code = \"# creating confusion matrix\\nconfusion_matrix_statsmodels(lg5, X_train5, y_train, threshold=optimal_threshold_curve)\";\n",
       "                var nbb_cells = Jupyter.notebook.get_cells();\n",
       "                for (var i = 0; i < nbb_cells.length; ++i) {\n",
       "                    if (nbb_cells[i].input_prompt_number == nbb_cell_id) {\n",
       "                        if (nbb_cells[i].get_text() == nbb_unformatted_code) {\n",
       "                             nbb_cells[i].set_text(nbb_formatted_code);\n",
       "                        }\n",
       "                        break;\n",
       "                    }\n",
       "                }\n",
       "            }, 500);\n",
       "            "
      ],
      "text/plain": [
       "<IPython.core.display.Javascript object>"
      ]
     },
     "metadata": {},
     "output_type": "display_data"
    }
   ],
   "source": [
    "# creating confusion matrix\n",
    "confusion_matrix_statsmodels(lg5, X_train5, y_train, threshold=optimal_threshold_curve)"
   ]
  },
  {
   "cell_type": "code",
   "execution_count": 94,
   "id": "rough-double",
   "metadata": {},
   "outputs": [
    {
     "name": "stdout",
     "output_type": "stream",
     "text": [
      "Training performance:\n"
     ]
    },
    {
     "data": {
      "text/html": [
       "<div>\n",
       "<style scoped>\n",
       "    .dataframe tbody tr th:only-of-type {\n",
       "        vertical-align: middle;\n",
       "    }\n",
       "\n",
       "    .dataframe tbody tr th {\n",
       "        vertical-align: top;\n",
       "    }\n",
       "\n",
       "    .dataframe thead th {\n",
       "        text-align: right;\n",
       "    }\n",
       "</style>\n",
       "<table border=\"1\" class=\"dataframe\">\n",
       "  <thead>\n",
       "    <tr style=\"text-align: right;\">\n",
       "      <th></th>\n",
       "      <th>Accuracy</th>\n",
       "      <th>Recall</th>\n",
       "      <th>Precision</th>\n",
       "      <th>F1</th>\n",
       "    </tr>\n",
       "  </thead>\n",
       "  <tbody>\n",
       "    <tr>\n",
       "      <th>0</th>\n",
       "      <td>0.831651</td>\n",
       "      <td>0.889983</td>\n",
       "      <td>0.886935</td>\n",
       "      <td>0.888456</td>\n",
       "    </tr>\n",
       "  </tbody>\n",
       "</table>\n",
       "</div>"
      ],
      "text/plain": [
       "   Accuracy    Recall  Precision        F1\n",
       "0  0.831651  0.889983   0.886935  0.888456"
      ]
     },
     "execution_count": 94,
     "metadata": {},
     "output_type": "execute_result"
    },
    {
     "data": {
      "application/javascript": [
       "\n",
       "            setTimeout(function() {\n",
       "                var nbb_cell_id = 94;\n",
       "                var nbb_unformatted_code = \"log_reg_model_train_perf_threshold_curve = model_performance_classification_statsmodels(\\n    lg5, X_train5, y_train, threshold=optimal_threshold_curve\\n)\\nprint(\\\"Training performance:\\\")\\nlog_reg_model_train_perf_threshold_curve\";\n",
       "                var nbb_formatted_code = \"log_reg_model_train_perf_threshold_curve = model_performance_classification_statsmodels(\\n    lg5, X_train5, y_train, threshold=optimal_threshold_curve\\n)\\nprint(\\\"Training performance:\\\")\\nlog_reg_model_train_perf_threshold_curve\";\n",
       "                var nbb_cells = Jupyter.notebook.get_cells();\n",
       "                for (var i = 0; i < nbb_cells.length; ++i) {\n",
       "                    if (nbb_cells[i].input_prompt_number == nbb_cell_id) {\n",
       "                        if (nbb_cells[i].get_text() == nbb_unformatted_code) {\n",
       "                             nbb_cells[i].set_text(nbb_formatted_code);\n",
       "                        }\n",
       "                        break;\n",
       "                    }\n",
       "                }\n",
       "            }, 500);\n",
       "            "
      ],
      "text/plain": [
       "<IPython.core.display.Javascript object>"
      ]
     },
     "metadata": {},
     "output_type": "display_data"
    }
   ],
   "source": [
    "log_reg_model_train_perf_threshold_curve = model_performance_classification_statsmodels(\n",
    "    lg5, X_train5, y_train, threshold=optimal_threshold_curve\n",
    ")\n",
    "print(\"Training performance:\")\n",
    "log_reg_model_train_perf_threshold_curve"
   ]
  },
  {
   "cell_type": "markdown",
   "id": "shared-calibration",
   "metadata": {},
   "source": [
    "* Model is performing well on training set.\n",
    "* There's not much improvement in the model performance as the default threshold is 0.50 and here we get 0.58 as the optimal threshold."
   ]
  },
  {
   "cell_type": "markdown",
   "id": "statutory-gasoline",
   "metadata": {},
   "source": [
    "### Model Performance Summary"
   ]
  },
  {
   "cell_type": "code",
   "execution_count": 95,
   "id": "modular-husband",
   "metadata": {},
   "outputs": [
    {
     "name": "stdout",
     "output_type": "stream",
     "text": [
      "Training performance comparison:\n"
     ]
    },
    {
     "data": {
      "text/html": [
       "<div>\n",
       "<style scoped>\n",
       "    .dataframe tbody tr th:only-of-type {\n",
       "        vertical-align: middle;\n",
       "    }\n",
       "\n",
       "    .dataframe tbody tr th {\n",
       "        vertical-align: top;\n",
       "    }\n",
       "\n",
       "    .dataframe thead th {\n",
       "        text-align: right;\n",
       "    }\n",
       "</style>\n",
       "<table border=\"1\" class=\"dataframe\">\n",
       "  <thead>\n",
       "    <tr style=\"text-align: right;\">\n",
       "      <th></th>\n",
       "      <th>Logistic Regression sklearn</th>\n",
       "      <th>Logistic Regression-0.33 Threshold</th>\n",
       "      <th>Logistic Regression-0.37 Threshold</th>\n",
       "    </tr>\n",
       "  </thead>\n",
       "  <tbody>\n",
       "    <tr>\n",
       "      <th>Accuracy</th>\n",
       "      <td>0.833406</td>\n",
       "      <td>0.786153</td>\n",
       "      <td>0.831651</td>\n",
       "    </tr>\n",
       "    <tr>\n",
       "      <th>Recall</th>\n",
       "      <td>0.922656</td>\n",
       "      <td>0.767909</td>\n",
       "      <td>0.889983</td>\n",
       "    </tr>\n",
       "    <tr>\n",
       "      <th>Precision</th>\n",
       "      <td>0.865163</td>\n",
       "      <td>0.936834</td>\n",
       "      <td>0.886935</td>\n",
       "    </tr>\n",
       "    <tr>\n",
       "      <th>F1</th>\n",
       "      <td>0.892985</td>\n",
       "      <td>0.844002</td>\n",
       "      <td>0.888456</td>\n",
       "    </tr>\n",
       "  </tbody>\n",
       "</table>\n",
       "</div>"
      ],
      "text/plain": [
       "           Logistic Regression sklearn  Logistic Regression-0.33 Threshold  \\\n",
       "Accuracy                      0.833406                            0.786153   \n",
       "Recall                        0.922656                            0.767909   \n",
       "Precision                     0.865163                            0.936834   \n",
       "F1                            0.892985                            0.844002   \n",
       "\n",
       "           Logistic Regression-0.37 Threshold  \n",
       "Accuracy                             0.831651  \n",
       "Recall                               0.889983  \n",
       "Precision                            0.886935  \n",
       "F1                                   0.888456  "
      ]
     },
     "execution_count": 95,
     "metadata": {},
     "output_type": "execute_result"
    },
    {
     "data": {
      "application/javascript": [
       "\n",
       "            setTimeout(function() {\n",
       "                var nbb_cell_id = 95;\n",
       "                var nbb_unformatted_code = \"# training performance comparison\\n\\nmodels_train_comp_df = pd.concat(\\n    [\\n        log_reg_model_train_perf.T,\\n        log_reg_model_train_perf_threshold_auc_roc.T,\\n        log_reg_model_train_perf_threshold_curve.T,\\n    ],\\n    axis=1,\\n)\\nmodels_train_comp_df.columns = [\\n    \\\"Logistic Regression sklearn\\\",\\n    \\\"Logistic Regression-0.33 Threshold\\\",\\n    \\\"Logistic Regression-0.37 Threshold\\\",\\n]\\n\\nprint(\\\"Training performance comparison:\\\")\\nmodels_train_comp_df\";\n",
       "                var nbb_formatted_code = \"# training performance comparison\\n\\nmodels_train_comp_df = pd.concat(\\n    [\\n        log_reg_model_train_perf.T,\\n        log_reg_model_train_perf_threshold_auc_roc.T,\\n        log_reg_model_train_perf_threshold_curve.T,\\n    ],\\n    axis=1,\\n)\\nmodels_train_comp_df.columns = [\\n    \\\"Logistic Regression sklearn\\\",\\n    \\\"Logistic Regression-0.33 Threshold\\\",\\n    \\\"Logistic Regression-0.37 Threshold\\\",\\n]\\n\\nprint(\\\"Training performance comparison:\\\")\\nmodels_train_comp_df\";\n",
       "                var nbb_cells = Jupyter.notebook.get_cells();\n",
       "                for (var i = 0; i < nbb_cells.length; ++i) {\n",
       "                    if (nbb_cells[i].input_prompt_number == nbb_cell_id) {\n",
       "                        if (nbb_cells[i].get_text() == nbb_unformatted_code) {\n",
       "                             nbb_cells[i].set_text(nbb_formatted_code);\n",
       "                        }\n",
       "                        break;\n",
       "                    }\n",
       "                }\n",
       "            }, 500);\n",
       "            "
      ],
      "text/plain": [
       "<IPython.core.display.Javascript object>"
      ]
     },
     "metadata": {},
     "output_type": "display_data"
    }
   ],
   "source": [
    "# training performance comparison\n",
    "\n",
    "models_train_comp_df = pd.concat(\n",
    "    [\n",
    "        log_reg_model_train_perf.T,\n",
    "        log_reg_model_train_perf_threshold_auc_roc.T,\n",
    "        log_reg_model_train_perf_threshold_curve.T,\n",
    "    ],\n",
    "    axis=1,\n",
    ")\n",
    "models_train_comp_df.columns = [\n",
    "    \"Logistic Regression sklearn\",\n",
    "    \"Logistic Regression-0.33 Threshold\",\n",
    "    \"Logistic Regression-0.37 Threshold\",\n",
    "]\n",
    "\n",
    "print(\"Training performance comparison:\")\n",
    "models_train_comp_df"
   ]
  },
  {
   "cell_type": "markdown",
   "id": "incredible-lloyd",
   "metadata": {},
   "source": [
    "### Let's check the performance on the test set"
   ]
  },
  {
   "cell_type": "markdown",
   "id": "dynamic-fossil",
   "metadata": {},
   "source": [
    "**Dropping the columns from the test set that were dropped from the training set**"
   ]
  },
  {
   "cell_type": "code",
   "execution_count": 96,
   "id": "incorporated-suffering",
   "metadata": {},
   "outputs": [
    {
     "data": {
      "application/javascript": [
       "\n",
       "            setTimeout(function() {\n",
       "                var nbb_cell_id = 96;\n",
       "                var nbb_unformatted_code = \"X_test5 = X_test[list(X_train5.columns)]\";\n",
       "                var nbb_formatted_code = \"X_test5 = X_test[list(X_train5.columns)]\";\n",
       "                var nbb_cells = Jupyter.notebook.get_cells();\n",
       "                for (var i = 0; i < nbb_cells.length; ++i) {\n",
       "                    if (nbb_cells[i].input_prompt_number == nbb_cell_id) {\n",
       "                        if (nbb_cells[i].get_text() == nbb_unformatted_code) {\n",
       "                             nbb_cells[i].set_text(nbb_formatted_code);\n",
       "                        }\n",
       "                        break;\n",
       "                    }\n",
       "                }\n",
       "            }, 500);\n",
       "            "
      ],
      "text/plain": [
       "<IPython.core.display.Javascript object>"
      ]
     },
     "metadata": {},
     "output_type": "display_data"
    }
   ],
   "source": [
    "X_test5 = X_test[list(X_train5.columns)]"
   ]
  },
  {
   "cell_type": "markdown",
   "id": "light-embassy",
   "metadata": {},
   "source": [
    "**Using model with default threshold**"
   ]
  },
  {
   "cell_type": "code",
   "execution_count": 97,
   "id": "covered-forest",
   "metadata": {},
   "outputs": [
    {
     "data": {
      "image/png": "[encoded data removed]",
      "text/plain": [
       "<Figure size 432x288 with 2 Axes>"
      ]
     },
     "metadata": {
      "needs_background": "light"
     },
     "output_type": "display_data"
    },
    {
     "data": {
      "application/javascript": [
       "\n",
       "            setTimeout(function() {\n",
       "                var nbb_cell_id = 97;\n",
       "                var nbb_unformatted_code = \"# creating confusion matrix\\nconfusion_matrix_statsmodels(lg5, X_test5, y_test)\";\n",
       "                var nbb_formatted_code = \"# creating confusion matrix\\nconfusion_matrix_statsmodels(lg5, X_test5, y_test)\";\n",
       "                var nbb_cells = Jupyter.notebook.get_cells();\n",
       "                for (var i = 0; i < nbb_cells.length; ++i) {\n",
       "                    if (nbb_cells[i].input_prompt_number == nbb_cell_id) {\n",
       "                        if (nbb_cells[i].get_text() == nbb_unformatted_code) {\n",
       "                             nbb_cells[i].set_text(nbb_formatted_code);\n",
       "                        }\n",
       "                        break;\n",
       "                    }\n",
       "                }\n",
       "            }, 500);\n",
       "            "
      ],
      "text/plain": [
       "<IPython.core.display.Javascript object>"
      ]
     },
     "metadata": {},
     "output_type": "display_data"
    }
   ],
   "source": [
    "# creating confusion matrix\n",
    "confusion_matrix_statsmodels(lg5, X_test5, y_test)"
   ]
  },
  {
   "cell_type": "code",
   "execution_count": 98,
   "id": "descending-snowboard",
   "metadata": {},
   "outputs": [
    {
     "name": "stdout",
     "output_type": "stream",
     "text": [
      "Test performance:\n"
     ]
    },
    {
     "data": {
      "text/html": [
       "<div>\n",
       "<style scoped>\n",
       "    .dataframe tbody tr th:only-of-type {\n",
       "        vertical-align: middle;\n",
       "    }\n",
       "\n",
       "    .dataframe tbody tr th {\n",
       "        vertical-align: top;\n",
       "    }\n",
       "\n",
       "    .dataframe thead th {\n",
       "        text-align: right;\n",
       "    }\n",
       "</style>\n",
       "<table border=\"1\" class=\"dataframe\">\n",
       "  <thead>\n",
       "    <tr style=\"text-align: right;\">\n",
       "      <th></th>\n",
       "      <th>Accuracy</th>\n",
       "      <th>Recall</th>\n",
       "      <th>Precision</th>\n",
       "      <th>F1</th>\n",
       "    </tr>\n",
       "  </thead>\n",
       "  <tbody>\n",
       "    <tr>\n",
       "      <th>0</th>\n",
       "      <td>0.836933</td>\n",
       "      <td>0.917219</td>\n",
       "      <td>0.87736</td>\n",
       "      <td>0.896846</td>\n",
       "    </tr>\n",
       "  </tbody>\n",
       "</table>\n",
       "</div>"
      ],
      "text/plain": [
       "   Accuracy    Recall  Precision        F1\n",
       "0  0.836933  0.917219    0.87736  0.896846"
      ]
     },
     "execution_count": 98,
     "metadata": {},
     "output_type": "execute_result"
    },
    {
     "data": {
      "application/javascript": [
       "\n",
       "            setTimeout(function() {\n",
       "                var nbb_cell_id = 98;\n",
       "                var nbb_unformatted_code = \"log_reg_model_test_perf = model_performance_classification_statsmodels(\\n    lg5, X_test5, y_test\\n)\\n\\nprint(\\\"Test performance:\\\")\\nlog_reg_model_test_perf\";\n",
       "                var nbb_formatted_code = \"log_reg_model_test_perf = model_performance_classification_statsmodels(\\n    lg5, X_test5, y_test\\n)\\n\\nprint(\\\"Test performance:\\\")\\nlog_reg_model_test_perf\";\n",
       "                var nbb_cells = Jupyter.notebook.get_cells();\n",
       "                for (var i = 0; i < nbb_cells.length; ++i) {\n",
       "                    if (nbb_cells[i].input_prompt_number == nbb_cell_id) {\n",
       "                        if (nbb_cells[i].get_text() == nbb_unformatted_code) {\n",
       "                             nbb_cells[i].set_text(nbb_formatted_code);\n",
       "                        }\n",
       "                        break;\n",
       "                    }\n",
       "                }\n",
       "            }, 500);\n",
       "            "
      ],
      "text/plain": [
       "<IPython.core.display.Javascript object>"
      ]
     },
     "metadata": {},
     "output_type": "display_data"
    }
   ],
   "source": [
    "log_reg_model_test_perf = model_performance_classification_statsmodels(\n",
    "    lg5, X_test5, y_test\n",
    ")\n",
    "\n",
    "print(\"Test performance:\")\n",
    "log_reg_model_test_perf"
   ]
  },
  {
   "cell_type": "markdown",
   "id": "colonial-imaging",
   "metadata": {},
   "source": [
    "* ROC curve on test set"
   ]
  },
  {
   "cell_type": "code",
   "execution_count": 99,
   "id": "through-impact",
   "metadata": {},
   "outputs": [
    {
     "data": {
      "image/png": "[encoded data removed]",
      "text/plain": [
       "<Figure size 504x360 with 1 Axes>"
      ]
     },
     "metadata": {
      "needs_background": "light"
     },
     "output_type": "display_data"
    },
    {
     "data": {
      "application/javascript": [
       "\n",
       "            setTimeout(function() {\n",
       "                var nbb_cell_id = 99;\n",
       "                var nbb_unformatted_code = \"logit_roc_auc_train = roc_auc_score(y_test, lg5.predict(X_test5))\\nfpr, tpr, thresholds = roc_curve(y_test, lg5.predict(X_test5))\\nplt.figure(figsize=(7, 5))\\nplt.plot(fpr, tpr, label=\\\"Logistic Regression (area = %0.2f)\\\" % logit_roc_auc_train)\\nplt.plot([0, 1], [0, 1], \\\"r--\\\")\\nplt.xlim([0.0, 1.0])\\nplt.ylim([0.0, 1.05])\\nplt.xlabel(\\\"False Positive Rate\\\")\\nplt.ylabel(\\\"True Positive Rate\\\")\\nplt.title(\\\"Receiver operating characteristic\\\")\\nplt.legend(loc=\\\"lower right\\\")\\nplt.show()\";\n",
       "                var nbb_formatted_code = \"logit_roc_auc_train = roc_auc_score(y_test, lg5.predict(X_test5))\\nfpr, tpr, thresholds = roc_curve(y_test, lg5.predict(X_test5))\\nplt.figure(figsize=(7, 5))\\nplt.plot(fpr, tpr, label=\\\"Logistic Regression (area = %0.2f)\\\" % logit_roc_auc_train)\\nplt.plot([0, 1], [0, 1], \\\"r--\\\")\\nplt.xlim([0.0, 1.0])\\nplt.ylim([0.0, 1.05])\\nplt.xlabel(\\\"False Positive Rate\\\")\\nplt.ylabel(\\\"True Positive Rate\\\")\\nplt.title(\\\"Receiver operating characteristic\\\")\\nplt.legend(loc=\\\"lower right\\\")\\nplt.show()\";\n",
       "                var nbb_cells = Jupyter.notebook.get_cells();\n",
       "                for (var i = 0; i < nbb_cells.length; ++i) {\n",
       "                    if (nbb_cells[i].input_prompt_number == nbb_cell_id) {\n",
       "                        if (nbb_cells[i].get_text() == nbb_unformatted_code) {\n",
       "                             nbb_cells[i].set_text(nbb_formatted_code);\n",
       "                        }\n",
       "                        break;\n",
       "                    }\n",
       "                }\n",
       "            }, 500);\n",
       "            "
      ],
      "text/plain": [
       "<IPython.core.display.Javascript object>"
      ]
     },
     "metadata": {},
     "output_type": "display_data"
    }
   ],
   "source": [
    "logit_roc_auc_train = roc_auc_score(y_test, lg5.predict(X_test5))\n",
    "fpr, tpr, thresholds = roc_curve(y_test, lg5.predict(X_test5))\n",
    "plt.figure(figsize=(7, 5))\n",
    "plt.plot(fpr, tpr, label=\"Logistic Regression (area = %0.2f)\" % logit_roc_auc_train)\n",
    "plt.plot([0, 1], [0, 1], \"r--\")\n",
    "plt.xlim([0.0, 1.0])\n",
    "plt.ylim([0.0, 1.05])\n",
    "plt.xlabel(\"False Positive Rate\")\n",
    "plt.ylabel(\"True Positive Rate\")\n",
    "plt.title(\"Receiver operating characteristic\")\n",
    "plt.legend(loc=\"lower right\")\n",
    "plt.show()"
   ]
  },
  {
   "cell_type": "markdown",
   "id": "described-procedure",
   "metadata": {},
   "source": [
    "**Using model with threshold=0.76** "
   ]
  },
  {
   "cell_type": "code",
   "execution_count": 100,
   "id": "adjustable-jonathan",
   "metadata": {},
   "outputs": [
    {
     "data": {
      "image/png": "[encoded data removed]",
      "text/plain": [
       "<Figure size 432x288 with 2 Axes>"
      ]
     },
     "metadata": {
      "needs_background": "light"
     },
     "output_type": "display_data"
    },
    {
     "data": {
      "application/javascript": [
       "\n",
       "            setTimeout(function() {\n",
       "                var nbb_cell_id = 100;\n",
       "                var nbb_unformatted_code = \"# creating confusion matrix\\nconfusion_matrix_statsmodels(lg5, X_test5, y_test, threshold=optimal_threshold_auc_roc)\";\n",
       "                var nbb_formatted_code = \"# creating confusion matrix\\nconfusion_matrix_statsmodels(lg5, X_test5, y_test, threshold=optimal_threshold_auc_roc)\";\n",
       "                var nbb_cells = Jupyter.notebook.get_cells();\n",
       "                for (var i = 0; i < nbb_cells.length; ++i) {\n",
       "                    if (nbb_cells[i].input_prompt_number == nbb_cell_id) {\n",
       "                        if (nbb_cells[i].get_text() == nbb_unformatted_code) {\n",
       "                             nbb_cells[i].set_text(nbb_formatted_code);\n",
       "                        }\n",
       "                        break;\n",
       "                    }\n",
       "                }\n",
       "            }, 500);\n",
       "            "
      ],
      "text/plain": [
       "<IPython.core.display.Javascript object>"
      ]
     },
     "metadata": {},
     "output_type": "display_data"
    }
   ],
   "source": [
    "# creating confusion matrix\n",
    "confusion_matrix_statsmodels(lg5, X_test5, y_test, threshold=optimal_threshold_auc_roc)"
   ]
  },
  {
   "cell_type": "code",
   "execution_count": 101,
   "id": "lovely-dinner",
   "metadata": {},
   "outputs": [
    {
     "name": "stdout",
     "output_type": "stream",
     "text": [
      "Test performance:\n"
     ]
    },
    {
     "data": {
      "text/html": [
       "<div>\n",
       "<style scoped>\n",
       "    .dataframe tbody tr th:only-of-type {\n",
       "        vertical-align: middle;\n",
       "    }\n",
       "\n",
       "    .dataframe tbody tr th {\n",
       "        vertical-align: top;\n",
       "    }\n",
       "\n",
       "    .dataframe thead th {\n",
       "        text-align: right;\n",
       "    }\n",
       "</style>\n",
       "<table border=\"1\" class=\"dataframe\">\n",
       "  <thead>\n",
       "    <tr style=\"text-align: right;\">\n",
       "      <th></th>\n",
       "      <th>Accuracy</th>\n",
       "      <th>Recall</th>\n",
       "      <th>Precision</th>\n",
       "      <th>F1</th>\n",
       "    </tr>\n",
       "  </thead>\n",
       "  <tbody>\n",
       "    <tr>\n",
       "      <th>0</th>\n",
       "      <td>0.783704</td>\n",
       "      <td>0.765298</td>\n",
       "      <td>0.944272</td>\n",
       "      <td>0.845417</td>\n",
       "    </tr>\n",
       "  </tbody>\n",
       "</table>\n",
       "</div>"
      ],
      "text/plain": [
       "   Accuracy    Recall  Precision        F1\n",
       "0  0.783704  0.765298   0.944272  0.845417"
      ]
     },
     "execution_count": 101,
     "metadata": {},
     "output_type": "execute_result"
    },
    {
     "data": {
      "application/javascript": [
       "\n",
       "            setTimeout(function() {\n",
       "                var nbb_cell_id = 101;\n",
       "                var nbb_unformatted_code = \"# checking model performance for this model\\nlog_reg_model_test_perf_threshold_auc_roc = model_performance_classification_statsmodels(\\n    lg5, X_test5, y_test, threshold=optimal_threshold_auc_roc\\n)\\nprint(\\\"Test performance:\\\")\\nlog_reg_model_test_perf_threshold_auc_roc\";\n",
       "                var nbb_formatted_code = \"# checking model performance for this model\\nlog_reg_model_test_perf_threshold_auc_roc = (\\n    model_performance_classification_statsmodels(\\n        lg5, X_test5, y_test, threshold=optimal_threshold_auc_roc\\n    )\\n)\\nprint(\\\"Test performance:\\\")\\nlog_reg_model_test_perf_threshold_auc_roc\";\n",
       "                var nbb_cells = Jupyter.notebook.get_cells();\n",
       "                for (var i = 0; i < nbb_cells.length; ++i) {\n",
       "                    if (nbb_cells[i].input_prompt_number == nbb_cell_id) {\n",
       "                        if (nbb_cells[i].get_text() == nbb_unformatted_code) {\n",
       "                             nbb_cells[i].set_text(nbb_formatted_code);\n",
       "                        }\n",
       "                        break;\n",
       "                    }\n",
       "                }\n",
       "            }, 500);\n",
       "            "
      ],
      "text/plain": [
       "<IPython.core.display.Javascript object>"
      ]
     },
     "metadata": {},
     "output_type": "display_data"
    }
   ],
   "source": [
    "# checking model performance for this model\n",
    "log_reg_model_test_perf_threshold_auc_roc = model_performance_classification_statsmodels(\n",
    "    lg5, X_test5, y_test, threshold=optimal_threshold_auc_roc\n",
    ")\n",
    "print(\"Test performance:\")\n",
    "log_reg_model_test_perf_threshold_auc_roc"
   ]
  },
  {
   "cell_type": "markdown",
   "id": "practical-person",
   "metadata": {},
   "source": [
    "**Using model with threshold = 0.58**"
   ]
  },
  {
   "cell_type": "code",
   "execution_count": 102,
   "id": "metropolitan-burning",
   "metadata": {},
   "outputs": [
    {
     "data": {
      "image/png": "[encoded data removed]",
      "text/plain": [
       "<Figure size 432x288 with 2 Axes>"
      ]
     },
     "metadata": {
      "needs_background": "light"
     },
     "output_type": "display_data"
    },
    {
     "data": {
      "application/javascript": [
       "\n",
       "            setTimeout(function() {\n",
       "                var nbb_cell_id = 102;\n",
       "                var nbb_unformatted_code = \"# creating confusion matrix\\nconfusion_matrix_statsmodels(lg5, X_test5, y_test, threshold=optimal_threshold_curve)\";\n",
       "                var nbb_formatted_code = \"# creating confusion matrix\\nconfusion_matrix_statsmodels(lg5, X_test5, y_test, threshold=optimal_threshold_curve)\";\n",
       "                var nbb_cells = Jupyter.notebook.get_cells();\n",
       "                for (var i = 0; i < nbb_cells.length; ++i) {\n",
       "                    if (nbb_cells[i].input_prompt_number == nbb_cell_id) {\n",
       "                        if (nbb_cells[i].get_text() == nbb_unformatted_code) {\n",
       "                             nbb_cells[i].set_text(nbb_formatted_code);\n",
       "                        }\n",
       "                        break;\n",
       "                    }\n",
       "                }\n",
       "            }, 500);\n",
       "            "
      ],
      "text/plain": [
       "<IPython.core.display.Javascript object>"
      ]
     },
     "metadata": {},
     "output_type": "display_data"
    }
   ],
   "source": [
    "# creating confusion matrix\n",
    "confusion_matrix_statsmodels(lg5, X_test5, y_test, threshold=optimal_threshold_curve)"
   ]
  },
  {
   "cell_type": "code",
   "execution_count": 103,
   "id": "rough-requirement",
   "metadata": {},
   "outputs": [
    {
     "name": "stdout",
     "output_type": "stream",
     "text": [
      "Test performance:\n"
     ]
    },
    {
     "data": {
      "text/html": [
       "<div>\n",
       "<style scoped>\n",
       "    .dataframe tbody tr th:only-of-type {\n",
       "        vertical-align: middle;\n",
       "    }\n",
       "\n",
       "    .dataframe tbody tr th {\n",
       "        vertical-align: top;\n",
       "    }\n",
       "\n",
       "    .dataframe thead th {\n",
       "        text-align: right;\n",
       "    }\n",
       "</style>\n",
       "<table border=\"1\" class=\"dataframe\">\n",
       "  <thead>\n",
       "    <tr style=\"text-align: right;\">\n",
       "      <th></th>\n",
       "      <th>Accuracy</th>\n",
       "      <th>Recall</th>\n",
       "      <th>Precision</th>\n",
       "      <th>F1</th>\n",
       "    </tr>\n",
       "  </thead>\n",
       "  <tbody>\n",
       "    <tr>\n",
       "      <th>0</th>\n",
       "      <td>0.828744</td>\n",
       "      <td>0.879735</td>\n",
       "      <td>0.896719</td>\n",
       "      <td>0.888146</td>\n",
       "    </tr>\n",
       "  </tbody>\n",
       "</table>\n",
       "</div>"
      ],
      "text/plain": [
       "   Accuracy    Recall  Precision        F1\n",
       "0  0.828744  0.879735   0.896719  0.888146"
      ]
     },
     "execution_count": 103,
     "metadata": {},
     "output_type": "execute_result"
    },
    {
     "data": {
      "application/javascript": [
       "\n",
       "            setTimeout(function() {\n",
       "                var nbb_cell_id = 103;\n",
       "                var nbb_unformatted_code = \"log_reg_model_test_perf_threshold_curve = model_performance_classification_statsmodels(\\n    lg5, X_test5, y_test, threshold=optimal_threshold_curve\\n)\\nprint(\\\"Test performance:\\\")\\nlog_reg_model_test_perf_threshold_curve\";\n",
       "                var nbb_formatted_code = \"log_reg_model_test_perf_threshold_curve = model_performance_classification_statsmodels(\\n    lg5, X_test5, y_test, threshold=optimal_threshold_curve\\n)\\nprint(\\\"Test performance:\\\")\\nlog_reg_model_test_perf_threshold_curve\";\n",
       "                var nbb_cells = Jupyter.notebook.get_cells();\n",
       "                for (var i = 0; i < nbb_cells.length; ++i) {\n",
       "                    if (nbb_cells[i].input_prompt_number == nbb_cell_id) {\n",
       "                        if (nbb_cells[i].get_text() == nbb_unformatted_code) {\n",
       "                             nbb_cells[i].set_text(nbb_formatted_code);\n",
       "                        }\n",
       "                        break;\n",
       "                    }\n",
       "                }\n",
       "            }, 500);\n",
       "            "
      ],
      "text/plain": [
       "<IPython.core.display.Javascript object>"
      ]
     },
     "metadata": {},
     "output_type": "display_data"
    }
   ],
   "source": [
    "log_reg_model_test_perf_threshold_curve = model_performance_classification_statsmodels(\n",
    "    lg5, X_test5, y_test, threshold=optimal_threshold_curve\n",
    ")\n",
    "print(\"Test performance:\")\n",
    "log_reg_model_test_perf_threshold_curve"
   ]
  },
  {
   "cell_type": "markdown",
   "id": "welsh-terrace",
   "metadata": {},
   "source": [
    "### Model performance summary"
   ]
  },
  {
   "cell_type": "code",
   "execution_count": 104,
   "id": "assumed-metadata",
   "metadata": {},
   "outputs": [
    {
     "name": "stdout",
     "output_type": "stream",
     "text": [
      "Training performance comparison:\n"
     ]
    },
    {
     "data": {
      "text/html": [
       "<div>\n",
       "<style scoped>\n",
       "    .dataframe tbody tr th:only-of-type {\n",
       "        vertical-align: middle;\n",
       "    }\n",
       "\n",
       "    .dataframe tbody tr th {\n",
       "        vertical-align: top;\n",
       "    }\n",
       "\n",
       "    .dataframe thead th {\n",
       "        text-align: right;\n",
       "    }\n",
       "</style>\n",
       "<table border=\"1\" class=\"dataframe\">\n",
       "  <thead>\n",
       "    <tr style=\"text-align: right;\">\n",
       "      <th></th>\n",
       "      <th>Logistic Regression sklearn</th>\n",
       "      <th>Logistic Regression-0.76 Threshold</th>\n",
       "      <th>Logistic Regression-0.58 Threshold</th>\n",
       "    </tr>\n",
       "  </thead>\n",
       "  <tbody>\n",
       "    <tr>\n",
       "      <th>Accuracy</th>\n",
       "      <td>0.833406</td>\n",
       "      <td>0.786153</td>\n",
       "      <td>0.831651</td>\n",
       "    </tr>\n",
       "    <tr>\n",
       "      <th>Recall</th>\n",
       "      <td>0.922656</td>\n",
       "      <td>0.767909</td>\n",
       "      <td>0.889983</td>\n",
       "    </tr>\n",
       "    <tr>\n",
       "      <th>Precision</th>\n",
       "      <td>0.865163</td>\n",
       "      <td>0.936834</td>\n",
       "      <td>0.886935</td>\n",
       "    </tr>\n",
       "    <tr>\n",
       "      <th>F1</th>\n",
       "      <td>0.892985</td>\n",
       "      <td>0.844002</td>\n",
       "      <td>0.888456</td>\n",
       "    </tr>\n",
       "  </tbody>\n",
       "</table>\n",
       "</div>"
      ],
      "text/plain": [
       "           Logistic Regression sklearn  Logistic Regression-0.76 Threshold  \\\n",
       "Accuracy                      0.833406                            0.786153   \n",
       "Recall                        0.922656                            0.767909   \n",
       "Precision                     0.865163                            0.936834   \n",
       "F1                            0.892985                            0.844002   \n",
       "\n",
       "           Logistic Regression-0.58 Threshold  \n",
       "Accuracy                             0.831651  \n",
       "Recall                               0.889983  \n",
       "Precision                            0.886935  \n",
       "F1                                   0.888456  "
      ]
     },
     "execution_count": 104,
     "metadata": {},
     "output_type": "execute_result"
    },
    {
     "data": {
      "application/javascript": [
       "\n",
       "            setTimeout(function() {\n",
       "                var nbb_cell_id = 104;\n",
       "                var nbb_unformatted_code = \"# training performance comparison\\n\\nmodels_train_comp_df = pd.concat(\\n    [\\n        log_reg_model_train_perf.T,\\n        log_reg_model_train_perf_threshold_auc_roc.T,\\n        log_reg_model_train_perf_threshold_curve.T,\\n    ],\\n    axis=1,\\n)\\nmodels_train_comp_df.columns = [\\n    \\\"Logistic Regression sklearn\\\",\\n    \\\"Logistic Regression-0.76 Threshold\\\",\\n    \\\"Logistic Regression-0.58 Threshold\\\",\\n]\\n\\nprint(\\\"Training performance comparison:\\\")\\nmodels_train_comp_df\";\n",
       "                var nbb_formatted_code = \"# training performance comparison\\n\\nmodels_train_comp_df = pd.concat(\\n    [\\n        log_reg_model_train_perf.T,\\n        log_reg_model_train_perf_threshold_auc_roc.T,\\n        log_reg_model_train_perf_threshold_curve.T,\\n    ],\\n    axis=1,\\n)\\nmodels_train_comp_df.columns = [\\n    \\\"Logistic Regression sklearn\\\",\\n    \\\"Logistic Regression-0.76 Threshold\\\",\\n    \\\"Logistic Regression-0.58 Threshold\\\",\\n]\\n\\nprint(\\\"Training performance comparison:\\\")\\nmodels_train_comp_df\";\n",
       "                var nbb_cells = Jupyter.notebook.get_cells();\n",
       "                for (var i = 0; i < nbb_cells.length; ++i) {\n",
       "                    if (nbb_cells[i].input_prompt_number == nbb_cell_id) {\n",
       "                        if (nbb_cells[i].get_text() == nbb_unformatted_code) {\n",
       "                             nbb_cells[i].set_text(nbb_formatted_code);\n",
       "                        }\n",
       "                        break;\n",
       "                    }\n",
       "                }\n",
       "            }, 500);\n",
       "            "
      ],
      "text/plain": [
       "<IPython.core.display.Javascript object>"
      ]
     },
     "metadata": {},
     "output_type": "display_data"
    }
   ],
   "source": [
    "# training performance comparison\n",
    "\n",
    "models_train_comp_df = pd.concat(\n",
    "    [\n",
    "        log_reg_model_train_perf.T,\n",
    "        log_reg_model_train_perf_threshold_auc_roc.T,\n",
    "        log_reg_model_train_perf_threshold_curve.T,\n",
    "    ],\n",
    "    axis=1,\n",
    ")\n",
    "models_train_comp_df.columns = [\n",
    "    \"Logistic Regression sklearn\",\n",
    "    \"Logistic Regression-0.76 Threshold\",\n",
    "    \"Logistic Regression-0.58 Threshold\",\n",
    "]\n",
    "\n",
    "print(\"Training performance comparison:\")\n",
    "models_train_comp_df"
   ]
  },
  {
   "cell_type": "code",
   "execution_count": 105,
   "id": "palestinian-plymouth",
   "metadata": {},
   "outputs": [
    {
     "name": "stdout",
     "output_type": "stream",
     "text": [
      "Test set performance comparison:\n"
     ]
    },
    {
     "data": {
      "text/html": [
       "<div>\n",
       "<style scoped>\n",
       "    .dataframe tbody tr th:only-of-type {\n",
       "        vertical-align: middle;\n",
       "    }\n",
       "\n",
       "    .dataframe tbody tr th {\n",
       "        vertical-align: top;\n",
       "    }\n",
       "\n",
       "    .dataframe thead th {\n",
       "        text-align: right;\n",
       "    }\n",
       "</style>\n",
       "<table border=\"1\" class=\"dataframe\">\n",
       "  <thead>\n",
       "    <tr style=\"text-align: right;\">\n",
       "      <th></th>\n",
       "      <th>Logistic Regression sklearn</th>\n",
       "      <th>Logistic Regression-0.76 Threshold</th>\n",
       "      <th>Logistic Regression-0.58 Threshold</th>\n",
       "    </tr>\n",
       "  </thead>\n",
       "  <tbody>\n",
       "    <tr>\n",
       "      <th>Accuracy</th>\n",
       "      <td>0.836933</td>\n",
       "      <td>0.783704</td>\n",
       "      <td>0.828744</td>\n",
       "    </tr>\n",
       "    <tr>\n",
       "      <th>Recall</th>\n",
       "      <td>0.917219</td>\n",
       "      <td>0.765298</td>\n",
       "      <td>0.879735</td>\n",
       "    </tr>\n",
       "    <tr>\n",
       "      <th>Precision</th>\n",
       "      <td>0.877360</td>\n",
       "      <td>0.944272</td>\n",
       "      <td>0.896719</td>\n",
       "    </tr>\n",
       "    <tr>\n",
       "      <th>F1</th>\n",
       "      <td>0.896846</td>\n",
       "      <td>0.845417</td>\n",
       "      <td>0.888146</td>\n",
       "    </tr>\n",
       "  </tbody>\n",
       "</table>\n",
       "</div>"
      ],
      "text/plain": [
       "           Logistic Regression sklearn  Logistic Regression-0.76 Threshold  \\\n",
       "Accuracy                      0.836933                            0.783704   \n",
       "Recall                        0.917219                            0.765298   \n",
       "Precision                     0.877360                            0.944272   \n",
       "F1                            0.896846                            0.845417   \n",
       "\n",
       "           Logistic Regression-0.58 Threshold  \n",
       "Accuracy                             0.828744  \n",
       "Recall                               0.879735  \n",
       "Precision                            0.896719  \n",
       "F1                                   0.888146  "
      ]
     },
     "execution_count": 105,
     "metadata": {},
     "output_type": "execute_result"
    },
    {
     "data": {
      "application/javascript": [
       "\n",
       "            setTimeout(function() {\n",
       "                var nbb_cell_id = 105;\n",
       "                var nbb_unformatted_code = \"# testing performance comparison\\n\\nmodels_test_comp_df = pd.concat(\\n    [\\n        log_reg_model_test_perf.T,\\n        log_reg_model_test_perf_threshold_auc_roc.T,\\n        log_reg_model_test_perf_threshold_curve.T,\\n    ],\\n    axis=1,\\n)\\nmodels_test_comp_df.columns = [\\n    \\\"Logistic Regression sklearn\\\",\\n    \\\"Logistic Regression-0.76 Threshold\\\",\\n    \\\"Logistic Regression-0.58 Threshold\\\",\\n]\\n\\nprint(\\\"Test set performance comparison:\\\")\\nmodels_test_comp_df\";\n",
       "                var nbb_formatted_code = \"# testing performance comparison\\n\\nmodels_test_comp_df = pd.concat(\\n    [\\n        log_reg_model_test_perf.T,\\n        log_reg_model_test_perf_threshold_auc_roc.T,\\n        log_reg_model_test_perf_threshold_curve.T,\\n    ],\\n    axis=1,\\n)\\nmodels_test_comp_df.columns = [\\n    \\\"Logistic Regression sklearn\\\",\\n    \\\"Logistic Regression-0.76 Threshold\\\",\\n    \\\"Logistic Regression-0.58 Threshold\\\",\\n]\\n\\nprint(\\\"Test set performance comparison:\\\")\\nmodels_test_comp_df\";\n",
       "                var nbb_cells = Jupyter.notebook.get_cells();\n",
       "                for (var i = 0; i < nbb_cells.length; ++i) {\n",
       "                    if (nbb_cells[i].input_prompt_number == nbb_cell_id) {\n",
       "                        if (nbb_cells[i].get_text() == nbb_unformatted_code) {\n",
       "                             nbb_cells[i].set_text(nbb_formatted_code);\n",
       "                        }\n",
       "                        break;\n",
       "                    }\n",
       "                }\n",
       "            }, 500);\n",
       "            "
      ],
      "text/plain": [
       "<IPython.core.display.Javascript object>"
      ]
     },
     "metadata": {},
     "output_type": "display_data"
    }
   ],
   "source": [
    "# testing performance comparison\n",
    "\n",
    "models_test_comp_df = pd.concat(\n",
    "    [\n",
    "        log_reg_model_test_perf.T,\n",
    "        log_reg_model_test_perf_threshold_auc_roc.T,\n",
    "        log_reg_model_test_perf_threshold_curve.T,\n",
    "    ],\n",
    "    axis=1,\n",
    ")\n",
    "models_test_comp_df.columns = [\n",
    "    \"Logistic Regression sklearn\",\n",
    "    \"Logistic Regression-0.76 Threshold\",\n",
    "    \"Logistic Regression-0.58 Threshold\",\n",
    "]\n",
    "\n",
    "print(\"Test set performance comparison:\")\n",
    "models_test_comp_df"
   ]
  },
  {
   "cell_type": "markdown",
   "id": "increasing-narrow",
   "metadata": {},
   "source": [
    "### Conclusion\n",
    "* We have been able to build a predictive model that can be used by the government to find the citizens having less than 50K salary with an f1_score of 0.89 on the training set and formulate policies accordingly.\n",
    "\n",
    "* All the logistic regression models have given a generalized performance on the training and test set.\n",
    "\n",
    "* Coefficient of some levels of education, workclass, and native country are positive an increase in these will lead to increase in chances of a person having <=50K salary. \n",
    "\n",
    "* Coefficient of age,fnlwgt,marital_status, working_hours_per_week,some levels of education, workclass, and native country are negative increase in these will lead to decrease in chances of a person having <=50K salary."
   ]
  },
  {
   "cell_type": "markdown",
   "id": "greek-houston",
   "metadata": {
    "id": "1KnLoSD0mLQg"
   },
   "source": [
    "### Recommendations\n",
    "\n",
    "- The government should promote education among citizens, they should make policies to make education accessible to all, as we say in our analysis that people who have higher education are more likely to have a salary above 50,000 Dollars. \n",
    "- Working hours is one of the significant predictors of salary, The government should implement laws to ensure that people are paid fairly for their work and are not overworked for the increase in salaries. This would improve work-life balance.\n",
    "- People who invest more are more likely to have a salary above 50k, government should initiate investment schemes and facilitate ease of investment so that people can plan and invest in resources.\n",
    "- As we saw in our analysis that Asian-Pac-Islander and White people are paid more than other races, there should be reforms to ensure that the salary criterion of employees is independent of their race.\n",
    "- Reforms should be made for private-sector employees so that they are paid fairly for their work.\n",
    "- Policy formulated by the government should be considerate of equal pay and counter the pay gap that exists in society."
   ]
  }
 ],
 "metadata": {
  "kernelspec": {
   "display_name": "Python 3",
   "language": "python",
   "name": "python3"
  },
  "language_info": {
   "codemirror_mode": {
    "name": "ipython",
    "version": 3
   },
   "file_extension": ".py",
   "mimetype": "text/x-python",
   "name": "python",
   "nbconvert_exporter": "python",
   "pygments_lexer": "ipython3",
   "version": "3.8.1"
  }
 },
 "nbformat": 4,
 "nbformat_minor": 5
}
