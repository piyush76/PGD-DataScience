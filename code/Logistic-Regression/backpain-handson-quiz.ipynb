{
 "cells": [
  {
   "cell_type": "code",
   "execution_count": 77,
   "id": "c7ed876e-45a7-4565-a063-e6c5e666c493",
   "metadata": {},
   "outputs": [
    {
     "name": "stdout",
     "output_type": "stream",
     "text": [
      "The nb_black extension is already loaded. To reload it, use:\n",
      "  %reload_ext nb_black\n"
     ]
    },
    {
     "data": {
      "application/javascript": [
       "\n",
       "            setTimeout(function() {\n",
       "                var nbb_cell_id = 77;\n",
       "                var nbb_unformatted_code = \"# this will help in making the Python code more structured automatically (good coding practice)\\n%load_ext nb_black\\n\\nimport warnings\\n\\nwarnings.filterwarnings(\\\"ignore\\\")\\nfrom statsmodels.tools.sm_exceptions import ConvergenceWarning\\nwarnings.simplefilter(\\\"ignore\\\", ConvergenceWarning)\\n\\n\\n# Libraries to help with reading and manipulating data\\n\\nimport numpy as np \\nimport pandas as pd \\n\\n# libaries to help with data visualization\\nimport matplotlib.pyplot as plt\\nimport seaborn as sns\\n\\n# Library to split data\\nfrom sklearn.model_selection import train_test_split\\n\\nfrom sklearn.tree import DecisionTreeClassifier\\nfrom sklearn import tree\";\n",
       "                var nbb_formatted_code = \"# this will help in making the Python code more structured automatically (good coding practice)\\n%load_ext nb_black\\n\\nimport warnings\\n\\nwarnings.filterwarnings(\\\"ignore\\\")\\nfrom statsmodels.tools.sm_exceptions import ConvergenceWarning\\n\\nwarnings.simplefilter(\\\"ignore\\\", ConvergenceWarning)\\n\\n\\n# Libraries to help with reading and manipulating data\\n\\nimport numpy as np\\nimport pandas as pd\\n\\n# libaries to help with data visualization\\nimport matplotlib.pyplot as plt\\nimport seaborn as sns\\n\\n# Library to split data\\nfrom sklearn.model_selection import train_test_split\\n\\nfrom sklearn.tree import DecisionTreeClassifier\\nfrom sklearn import tree\";\n",
       "                var nbb_cells = Jupyter.notebook.get_cells();\n",
       "                for (var i = 0; i < nbb_cells.length; ++i) {\n",
       "                    if (nbb_cells[i].input_prompt_number == nbb_cell_id) {\n",
       "                        if (nbb_cells[i].get_text() == nbb_unformatted_code) {\n",
       "                             nbb_cells[i].set_text(nbb_formatted_code);\n",
       "                        }\n",
       "                        break;\n",
       "                    }\n",
       "                }\n",
       "            }, 500);\n",
       "            "
      ],
      "text/plain": [
       "<IPython.core.display.Javascript object>"
      ]
     },
     "metadata": {},
     "output_type": "display_data"
    }
   ],
   "source": [
    "# this will help in making the Python code more structured automatically (good coding practice)\n",
    "%load_ext nb_black\n",
    "\n",
    "import warnings\n",
    "\n",
    "warnings.filterwarnings(\"ignore\")\n",
    "from statsmodels.tools.sm_exceptions import ConvergenceWarning\n",
    "warnings.simplefilter(\"ignore\", ConvergenceWarning)\n",
    "\n",
    "\n",
    "# Libraries to help with reading and manipulating data\n",
    "\n",
    "import numpy as np \n",
    "import pandas as pd \n",
    "\n",
    "# libaries to help with data visualization\n",
    "import matplotlib.pyplot as plt\n",
    "import seaborn as sns\n",
    "\n",
    "# Library to split data\n",
    "from sklearn.model_selection import train_test_split\n",
    "\n",
    "from sklearn.tree import DecisionTreeClassifier\n",
    "from sklearn import tree"
   ]
  },
  {
   "cell_type": "code",
   "execution_count": 78,
   "id": "fb560c93-b261-4dd0-99d6-08b20a975939",
   "metadata": {},
   "outputs": [
    {
     "data": {
      "application/javascript": [
       "\n",
       "            setTimeout(function() {\n",
       "                var nbb_cell_id = 78;\n",
       "                var nbb_unformatted_code = \"back_pain_data = pd.read_csv(\\\"../../data/backpain.csv\\\")\";\n",
       "                var nbb_formatted_code = \"back_pain_data = pd.read_csv(\\\"../../data/backpain.csv\\\")\";\n",
       "                var nbb_cells = Jupyter.notebook.get_cells();\n",
       "                for (var i = 0; i < nbb_cells.length; ++i) {\n",
       "                    if (nbb_cells[i].input_prompt_number == nbb_cell_id) {\n",
       "                        if (nbb_cells[i].get_text() == nbb_unformatted_code) {\n",
       "                             nbb_cells[i].set_text(nbb_formatted_code);\n",
       "                        }\n",
       "                        break;\n",
       "                    }\n",
       "                }\n",
       "            }, 500);\n",
       "            "
      ],
      "text/plain": [
       "<IPython.core.display.Javascript object>"
      ]
     },
     "metadata": {},
     "output_type": "display_data"
    }
   ],
   "source": [
    "back_pain_data = pd.read_csv(\"../../data/backpain.csv\")"
   ]
  },
  {
   "cell_type": "code",
   "execution_count": 79,
   "id": "4bc65a7f-7d95-4c23-a4e0-ef304c7b36a3",
   "metadata": {},
   "outputs": [
    {
     "data": {
      "application/javascript": [
       "\n",
       "            setTimeout(function() {\n",
       "                var nbb_cell_id = 79;\n",
       "                var nbb_unformatted_code = \"data = back_pain_data.copy()\";\n",
       "                var nbb_formatted_code = \"data = back_pain_data.copy()\";\n",
       "                var nbb_cells = Jupyter.notebook.get_cells();\n",
       "                for (var i = 0; i < nbb_cells.length; ++i) {\n",
       "                    if (nbb_cells[i].input_prompt_number == nbb_cell_id) {\n",
       "                        if (nbb_cells[i].get_text() == nbb_unformatted_code) {\n",
       "                             nbb_cells[i].set_text(nbb_formatted_code);\n",
       "                        }\n",
       "                        break;\n",
       "                    }\n",
       "                }\n",
       "            }, 500);\n",
       "            "
      ],
      "text/plain": [
       "<IPython.core.display.Javascript object>"
      ]
     },
     "metadata": {},
     "output_type": "display_data"
    }
   ],
   "source": [
    "data = back_pain_data.copy()"
   ]
  },
  {
   "cell_type": "code",
   "execution_count": 80,
   "id": "1fa8ef5c-ae2d-45ec-9d76-c670be6bb201",
   "metadata": {},
   "outputs": [
    {
     "data": {
      "text/plain": [
       "(310, 13)"
      ]
     },
     "execution_count": 80,
     "metadata": {},
     "output_type": "execute_result"
    },
    {
     "data": {
      "application/javascript": [
       "\n",
       "            setTimeout(function() {\n",
       "                var nbb_cell_id = 80;\n",
       "                var nbb_unformatted_code = \"data.shape\";\n",
       "                var nbb_formatted_code = \"data.shape\";\n",
       "                var nbb_cells = Jupyter.notebook.get_cells();\n",
       "                for (var i = 0; i < nbb_cells.length; ++i) {\n",
       "                    if (nbb_cells[i].input_prompt_number == nbb_cell_id) {\n",
       "                        if (nbb_cells[i].get_text() == nbb_unformatted_code) {\n",
       "                             nbb_cells[i].set_text(nbb_formatted_code);\n",
       "                        }\n",
       "                        break;\n",
       "                    }\n",
       "                }\n",
       "            }, 500);\n",
       "            "
      ],
      "text/plain": [
       "<IPython.core.display.Javascript object>"
      ]
     },
     "metadata": {},
     "output_type": "display_data"
    }
   ],
   "source": [
    "data.shape"
   ]
  },
  {
   "cell_type": "code",
   "execution_count": 81,
   "id": "bcae1610-481d-4b4f-9f1f-c76638f97515",
   "metadata": {},
   "outputs": [
    {
     "data": {
      "text/html": [
       "<div>\n",
       "<style scoped>\n",
       "    .dataframe tbody tr th:only-of-type {\n",
       "        vertical-align: middle;\n",
       "    }\n",
       "\n",
       "    .dataframe tbody tr th {\n",
       "        vertical-align: top;\n",
       "    }\n",
       "\n",
       "    .dataframe thead th {\n",
       "        text-align: right;\n",
       "    }\n",
       "</style>\n",
       "<table border=\"1\" class=\"dataframe\">\n",
       "  <thead>\n",
       "    <tr style=\"text-align: right;\">\n",
       "      <th></th>\n",
       "      <th>pelvic_incidence</th>\n",
       "      <th>pelvic tilt</th>\n",
       "      <th>lumbar_lordosis_angle</th>\n",
       "      <th>sacral_slope</th>\n",
       "      <th>pelvic_radius</th>\n",
       "      <th>degree_spondylolisthesis</th>\n",
       "      <th>pelvic_slope</th>\n",
       "      <th>Direct_tilt</th>\n",
       "      <th>thoracic_slope</th>\n",
       "      <th>cervical_tilt</th>\n",
       "      <th>sacrum_angle</th>\n",
       "      <th>scoliosis_slope</th>\n",
       "      <th>Status</th>\n",
       "    </tr>\n",
       "  </thead>\n",
       "  <tbody>\n",
       "    <tr>\n",
       "      <th>0</th>\n",
       "      <td>63.027817</td>\n",
       "      <td>22.552586</td>\n",
       "      <td>39.609117</td>\n",
       "      <td>40.475232</td>\n",
       "      <td>98.672917</td>\n",
       "      <td>-0.254400</td>\n",
       "      <td>0.744503</td>\n",
       "      <td>12.5661</td>\n",
       "      <td>14.5386</td>\n",
       "      <td>15.30468</td>\n",
       "      <td>-28.658501</td>\n",
       "      <td>43.5123</td>\n",
       "      <td>Abnormal</td>\n",
       "    </tr>\n",
       "    <tr>\n",
       "      <th>1</th>\n",
       "      <td>39.056951</td>\n",
       "      <td>10.060991</td>\n",
       "      <td>25.015378</td>\n",
       "      <td>28.995960</td>\n",
       "      <td>114.405425</td>\n",
       "      <td>4.564259</td>\n",
       "      <td>0.415186</td>\n",
       "      <td>12.8874</td>\n",
       "      <td>17.5323</td>\n",
       "      <td>16.78486</td>\n",
       "      <td>-25.530607</td>\n",
       "      <td>16.1102</td>\n",
       "      <td>Abnormal</td>\n",
       "    </tr>\n",
       "    <tr>\n",
       "      <th>2</th>\n",
       "      <td>68.832021</td>\n",
       "      <td>22.218482</td>\n",
       "      <td>50.092194</td>\n",
       "      <td>46.613539</td>\n",
       "      <td>105.985135</td>\n",
       "      <td>-3.530317</td>\n",
       "      <td>0.474889</td>\n",
       "      <td>26.8343</td>\n",
       "      <td>17.4861</td>\n",
       "      <td>16.65897</td>\n",
       "      <td>-29.031888</td>\n",
       "      <td>19.2221</td>\n",
       "      <td>Abnormal</td>\n",
       "    </tr>\n",
       "    <tr>\n",
       "      <th>3</th>\n",
       "      <td>69.297008</td>\n",
       "      <td>24.652878</td>\n",
       "      <td>44.311238</td>\n",
       "      <td>44.644130</td>\n",
       "      <td>101.868495</td>\n",
       "      <td>11.211523</td>\n",
       "      <td>0.369345</td>\n",
       "      <td>23.5603</td>\n",
       "      <td>12.7074</td>\n",
       "      <td>11.42447</td>\n",
       "      <td>-30.470246</td>\n",
       "      <td>18.8329</td>\n",
       "      <td>Abnormal</td>\n",
       "    </tr>\n",
       "    <tr>\n",
       "      <th>4</th>\n",
       "      <td>49.712859</td>\n",
       "      <td>9.652075</td>\n",
       "      <td>28.317406</td>\n",
       "      <td>40.060784</td>\n",
       "      <td>108.168725</td>\n",
       "      <td>7.918501</td>\n",
       "      <td>0.543360</td>\n",
       "      <td>35.4940</td>\n",
       "      <td>15.9546</td>\n",
       "      <td>8.87237</td>\n",
       "      <td>-16.378376</td>\n",
       "      <td>24.9171</td>\n",
       "      <td>Abnormal</td>\n",
       "    </tr>\n",
       "  </tbody>\n",
       "</table>\n",
       "</div>"
      ],
      "text/plain": [
       "   pelvic_incidence  pelvic tilt  lumbar_lordosis_angle  sacral_slope  \\\n",
       "0         63.027817    22.552586              39.609117     40.475232   \n",
       "1         39.056951    10.060991              25.015378     28.995960   \n",
       "2         68.832021    22.218482              50.092194     46.613539   \n",
       "3         69.297008    24.652878              44.311238     44.644130   \n",
       "4         49.712859     9.652075              28.317406     40.060784   \n",
       "\n",
       "   pelvic_radius  degree_spondylolisthesis  pelvic_slope  Direct_tilt  \\\n",
       "0      98.672917                 -0.254400      0.744503      12.5661   \n",
       "1     114.405425                  4.564259      0.415186      12.8874   \n",
       "2     105.985135                 -3.530317      0.474889      26.8343   \n",
       "3     101.868495                 11.211523      0.369345      23.5603   \n",
       "4     108.168725                  7.918501      0.543360      35.4940   \n",
       "\n",
       "   thoracic_slope  cervical_tilt  sacrum_angle  scoliosis_slope    Status  \n",
       "0         14.5386       15.30468    -28.658501          43.5123  Abnormal  \n",
       "1         17.5323       16.78486    -25.530607          16.1102  Abnormal  \n",
       "2         17.4861       16.65897    -29.031888          19.2221  Abnormal  \n",
       "3         12.7074       11.42447    -30.470246          18.8329  Abnormal  \n",
       "4         15.9546        8.87237    -16.378376          24.9171  Abnormal  "
      ]
     },
     "execution_count": 81,
     "metadata": {},
     "output_type": "execute_result"
    },
    {
     "data": {
      "application/javascript": [
       "\n",
       "            setTimeout(function() {\n",
       "                var nbb_cell_id = 81;\n",
       "                var nbb_unformatted_code = \"data.head()\";\n",
       "                var nbb_formatted_code = \"data.head()\";\n",
       "                var nbb_cells = Jupyter.notebook.get_cells();\n",
       "                for (var i = 0; i < nbb_cells.length; ++i) {\n",
       "                    if (nbb_cells[i].input_prompt_number == nbb_cell_id) {\n",
       "                        if (nbb_cells[i].get_text() == nbb_unformatted_code) {\n",
       "                             nbb_cells[i].set_text(nbb_formatted_code);\n",
       "                        }\n",
       "                        break;\n",
       "                    }\n",
       "                }\n",
       "            }, 500);\n",
       "            "
      ],
      "text/plain": [
       "<IPython.core.display.Javascript object>"
      ]
     },
     "metadata": {},
     "output_type": "display_data"
    }
   ],
   "source": [
    "data.head()"
   ]
  },
  {
   "cell_type": "code",
   "execution_count": 82,
   "id": "b8b60e5e-5457-43ff-86da-d3644d6b8882",
   "metadata": {},
   "outputs": [
    {
     "data": {
      "text/plain": [
       "pelvic_incidence            0\n",
       "pelvic tilt                 0\n",
       "lumbar_lordosis_angle       0\n",
       "sacral_slope                0\n",
       "pelvic_radius               0\n",
       "degree_spondylolisthesis    0\n",
       "pelvic_slope                0\n",
       "Direct_tilt                 0\n",
       "thoracic_slope              0\n",
       "cervical_tilt               0\n",
       "sacrum_angle                0\n",
       "scoliosis_slope             0\n",
       "Status                      0\n",
       "dtype: int64"
      ]
     },
     "execution_count": 82,
     "metadata": {},
     "output_type": "execute_result"
    },
    {
     "data": {
      "application/javascript": [
       "\n",
       "            setTimeout(function() {\n",
       "                var nbb_cell_id = 82;\n",
       "                var nbb_unformatted_code = \"data.isnull().sum()\";\n",
       "                var nbb_formatted_code = \"data.isnull().sum()\";\n",
       "                var nbb_cells = Jupyter.notebook.get_cells();\n",
       "                for (var i = 0; i < nbb_cells.length; ++i) {\n",
       "                    if (nbb_cells[i].input_prompt_number == nbb_cell_id) {\n",
       "                        if (nbb_cells[i].get_text() == nbb_unformatted_code) {\n",
       "                             nbb_cells[i].set_text(nbb_formatted_code);\n",
       "                        }\n",
       "                        break;\n",
       "                    }\n",
       "                }\n",
       "            }, 500);\n",
       "            "
      ],
      "text/plain": [
       "<IPython.core.display.Javascript object>"
      ]
     },
     "metadata": {},
     "output_type": "display_data"
    }
   ],
   "source": [
    "data.isnull().sum()"
   ]
  },
  {
   "cell_type": "code",
   "execution_count": 83,
   "id": "740b1b7e-99db-4dbf-8cae-57c32221d814",
   "metadata": {},
   "outputs": [
    {
     "data": {
      "application/javascript": [
       "\n",
       "            setTimeout(function() {\n",
       "                var nbb_cell_id = 83;\n",
       "                var nbb_unformatted_code = \"# fixing the names of columns as there are dots, spaces  in columns names\\ndata.columns = [col.replace(\\\" \\\", \\\"_\\\") for col in data.columns]\";\n",
       "                var nbb_formatted_code = \"# fixing the names of columns as there are dots, spaces  in columns names\\ndata.columns = [col.replace(\\\" \\\", \\\"_\\\") for col in data.columns]\";\n",
       "                var nbb_cells = Jupyter.notebook.get_cells();\n",
       "                for (var i = 0; i < nbb_cells.length; ++i) {\n",
       "                    if (nbb_cells[i].input_prompt_number == nbb_cell_id) {\n",
       "                        if (nbb_cells[i].get_text() == nbb_unformatted_code) {\n",
       "                             nbb_cells[i].set_text(nbb_formatted_code);\n",
       "                        }\n",
       "                        break;\n",
       "                    }\n",
       "                }\n",
       "            }, 500);\n",
       "            "
      ],
      "text/plain": [
       "<IPython.core.display.Javascript object>"
      ]
     },
     "metadata": {},
     "output_type": "display_data"
    }
   ],
   "source": [
    "# fixing the names of columns as there are dots, spaces  in columns names\n",
    "data.columns = [col.replace(\" \", \"_\") for col in data.columns]"
   ]
  },
  {
   "cell_type": "code",
   "execution_count": 84,
   "id": "a5cf92d7-fc9b-47ca-bc5f-57afffb0fdef",
   "metadata": {},
   "outputs": [
    {
     "data": {
      "application/javascript": [
       "\n",
       "            setTimeout(function() {\n",
       "                var nbb_cell_id = 84;\n",
       "                var nbb_unformatted_code = \"replaceStruct = {\\\"Status\\\": {\\\"Abnormal\\\": 1, \\\"Normal\\\": 0 } }\\ndata=data.replace(replaceStruct)\";\n",
       "                var nbb_formatted_code = \"replaceStruct = {\\\"Status\\\": {\\\"Abnormal\\\": 1, \\\"Normal\\\": 0}}\\ndata = data.replace(replaceStruct)\";\n",
       "                var nbb_cells = Jupyter.notebook.get_cells();\n",
       "                for (var i = 0; i < nbb_cells.length; ++i) {\n",
       "                    if (nbb_cells[i].input_prompt_number == nbb_cell_id) {\n",
       "                        if (nbb_cells[i].get_text() == nbb_unformatted_code) {\n",
       "                             nbb_cells[i].set_text(nbb_formatted_code);\n",
       "                        }\n",
       "                        break;\n",
       "                    }\n",
       "                }\n",
       "            }, 500);\n",
       "            "
      ],
      "text/plain": [
       "<IPython.core.display.Javascript object>"
      ]
     },
     "metadata": {},
     "output_type": "display_data"
    }
   ],
   "source": [
    "replaceStruct = {\"Status\": {\"Abnormal\": 1, \"Normal\": 0 } }\n",
    "data=data.replace(replaceStruct)"
   ]
  },
  {
   "cell_type": "code",
   "execution_count": 85,
   "id": "7f084e37-bfa9-4027-a98e-ca20a5be48f0",
   "metadata": {},
   "outputs": [
    {
     "name": "stdout",
     "output_type": "stream",
     "text": [
      "<class 'pandas.core.frame.DataFrame'>\n",
      "RangeIndex: 310 entries, 0 to 309\n",
      "Data columns (total 13 columns):\n",
      " #   Column                    Non-Null Count  Dtype  \n",
      "---  ------                    --------------  -----  \n",
      " 0   pelvic_incidence          310 non-null    float64\n",
      " 1   pelvic_tilt               310 non-null    float64\n",
      " 2   lumbar_lordosis_angle     310 non-null    float64\n",
      " 3   sacral_slope              310 non-null    float64\n",
      " 4   pelvic_radius             310 non-null    float64\n",
      " 5   degree_spondylolisthesis  310 non-null    float64\n",
      " 6   pelvic_slope              310 non-null    float64\n",
      " 7   Direct_tilt               310 non-null    float64\n",
      " 8   thoracic_slope            310 non-null    float64\n",
      " 9   cervical_tilt             310 non-null    float64\n",
      " 10  sacrum_angle              310 non-null    float64\n",
      " 11  scoliosis_slope           310 non-null    float64\n",
      " 12  Status                    310 non-null    int64  \n",
      "dtypes: float64(12), int64(1)\n",
      "memory usage: 31.5 KB\n"
     ]
    },
    {
     "data": {
      "application/javascript": [
       "\n",
       "            setTimeout(function() {\n",
       "                var nbb_cell_id = 85;\n",
       "                var nbb_unformatted_code = \"data.info()\";\n",
       "                var nbb_formatted_code = \"data.info()\";\n",
       "                var nbb_cells = Jupyter.notebook.get_cells();\n",
       "                for (var i = 0; i < nbb_cells.length; ++i) {\n",
       "                    if (nbb_cells[i].input_prompt_number == nbb_cell_id) {\n",
       "                        if (nbb_cells[i].get_text() == nbb_unformatted_code) {\n",
       "                             nbb_cells[i].set_text(nbb_formatted_code);\n",
       "                        }\n",
       "                        break;\n",
       "                    }\n",
       "                }\n",
       "            }, 500);\n",
       "            "
      ],
      "text/plain": [
       "<IPython.core.display.Javascript object>"
      ]
     },
     "metadata": {},
     "output_type": "display_data"
    }
   ],
   "source": [
    "data.info()"
   ]
  },
  {
   "cell_type": "code",
   "execution_count": 86,
   "id": "415d9a6e-9ff7-4174-8eba-d281b00f492f",
   "metadata": {},
   "outputs": [
    {
     "data": {
      "text/html": [
       "<div>\n",
       "<style scoped>\n",
       "    .dataframe tbody tr th:only-of-type {\n",
       "        vertical-align: middle;\n",
       "    }\n",
       "\n",
       "    .dataframe tbody tr th {\n",
       "        vertical-align: top;\n",
       "    }\n",
       "\n",
       "    .dataframe thead th {\n",
       "        text-align: right;\n",
       "    }\n",
       "</style>\n",
       "<table border=\"1\" class=\"dataframe\">\n",
       "  <thead>\n",
       "    <tr style=\"text-align: right;\">\n",
       "      <th></th>\n",
       "      <th>count</th>\n",
       "      <th>mean</th>\n",
       "      <th>std</th>\n",
       "      <th>min</th>\n",
       "      <th>25%</th>\n",
       "      <th>50%</th>\n",
       "      <th>75%</th>\n",
       "      <th>max</th>\n",
       "    </tr>\n",
       "  </thead>\n",
       "  <tbody>\n",
       "    <tr>\n",
       "      <th>pelvic_incidence</th>\n",
       "      <td>310.0</td>\n",
       "      <td>60.496653</td>\n",
       "      <td>17.236520</td>\n",
       "      <td>26.147921</td>\n",
       "      <td>46.430294</td>\n",
       "      <td>58.691038</td>\n",
       "      <td>72.877696</td>\n",
       "      <td>129.834041</td>\n",
       "    </tr>\n",
       "    <tr>\n",
       "      <th>pelvic_tilt</th>\n",
       "      <td>310.0</td>\n",
       "      <td>17.542822</td>\n",
       "      <td>10.008330</td>\n",
       "      <td>-6.554948</td>\n",
       "      <td>10.667069</td>\n",
       "      <td>16.357689</td>\n",
       "      <td>22.120395</td>\n",
       "      <td>49.431864</td>\n",
       "    </tr>\n",
       "    <tr>\n",
       "      <th>lumbar_lordosis_angle</th>\n",
       "      <td>310.0</td>\n",
       "      <td>51.930930</td>\n",
       "      <td>18.554064</td>\n",
       "      <td>14.000000</td>\n",
       "      <td>37.000000</td>\n",
       "      <td>49.562398</td>\n",
       "      <td>63.000000</td>\n",
       "      <td>125.742385</td>\n",
       "    </tr>\n",
       "    <tr>\n",
       "      <th>sacral_slope</th>\n",
       "      <td>310.0</td>\n",
       "      <td>42.953831</td>\n",
       "      <td>13.423102</td>\n",
       "      <td>13.366931</td>\n",
       "      <td>33.347122</td>\n",
       "      <td>42.404912</td>\n",
       "      <td>52.695888</td>\n",
       "      <td>121.429566</td>\n",
       "    </tr>\n",
       "    <tr>\n",
       "      <th>pelvic_radius</th>\n",
       "      <td>310.0</td>\n",
       "      <td>117.920655</td>\n",
       "      <td>13.317377</td>\n",
       "      <td>70.082575</td>\n",
       "      <td>110.709196</td>\n",
       "      <td>118.268178</td>\n",
       "      <td>125.467674</td>\n",
       "      <td>163.071041</td>\n",
       "    </tr>\n",
       "    <tr>\n",
       "      <th>degree_spondylolisthesis</th>\n",
       "      <td>310.0</td>\n",
       "      <td>26.296694</td>\n",
       "      <td>37.559027</td>\n",
       "      <td>-11.058179</td>\n",
       "      <td>1.603727</td>\n",
       "      <td>11.767934</td>\n",
       "      <td>41.287352</td>\n",
       "      <td>418.543082</td>\n",
       "    </tr>\n",
       "    <tr>\n",
       "      <th>pelvic_slope</th>\n",
       "      <td>310.0</td>\n",
       "      <td>0.472979</td>\n",
       "      <td>0.285787</td>\n",
       "      <td>0.003220</td>\n",
       "      <td>0.224367</td>\n",
       "      <td>0.475989</td>\n",
       "      <td>0.704846</td>\n",
       "      <td>0.998827</td>\n",
       "    </tr>\n",
       "    <tr>\n",
       "      <th>Direct_tilt</th>\n",
       "      <td>310.0</td>\n",
       "      <td>21.321526</td>\n",
       "      <td>8.639423</td>\n",
       "      <td>7.027000</td>\n",
       "      <td>13.054400</td>\n",
       "      <td>21.907150</td>\n",
       "      <td>28.954075</td>\n",
       "      <td>36.743900</td>\n",
       "    </tr>\n",
       "    <tr>\n",
       "      <th>thoracic_slope</th>\n",
       "      <td>310.0</td>\n",
       "      <td>13.064511</td>\n",
       "      <td>3.399713</td>\n",
       "      <td>7.037800</td>\n",
       "      <td>10.417800</td>\n",
       "      <td>12.938450</td>\n",
       "      <td>15.889525</td>\n",
       "      <td>19.324000</td>\n",
       "    </tr>\n",
       "    <tr>\n",
       "      <th>cervical_tilt</th>\n",
       "      <td>310.0</td>\n",
       "      <td>11.933317</td>\n",
       "      <td>2.893265</td>\n",
       "      <td>7.030600</td>\n",
       "      <td>9.541140</td>\n",
       "      <td>11.953835</td>\n",
       "      <td>14.371810</td>\n",
       "      <td>16.821080</td>\n",
       "    </tr>\n",
       "    <tr>\n",
       "      <th>sacrum_angle</th>\n",
       "      <td>310.0</td>\n",
       "      <td>-14.053139</td>\n",
       "      <td>12.225582</td>\n",
       "      <td>-35.287375</td>\n",
       "      <td>-24.289522</td>\n",
       "      <td>-14.622856</td>\n",
       "      <td>-3.497094</td>\n",
       "      <td>6.972071</td>\n",
       "    </tr>\n",
       "    <tr>\n",
       "      <th>scoliosis_slope</th>\n",
       "      <td>310.0</td>\n",
       "      <td>25.645981</td>\n",
       "      <td>10.450558</td>\n",
       "      <td>7.007900</td>\n",
       "      <td>17.189075</td>\n",
       "      <td>24.931950</td>\n",
       "      <td>33.979600</td>\n",
       "      <td>44.341200</td>\n",
       "    </tr>\n",
       "    <tr>\n",
       "      <th>Status</th>\n",
       "      <td>310.0</td>\n",
       "      <td>0.677419</td>\n",
       "      <td>0.468220</td>\n",
       "      <td>0.000000</td>\n",
       "      <td>0.000000</td>\n",
       "      <td>1.000000</td>\n",
       "      <td>1.000000</td>\n",
       "      <td>1.000000</td>\n",
       "    </tr>\n",
       "  </tbody>\n",
       "</table>\n",
       "</div>"
      ],
      "text/plain": [
       "                          count        mean        std        min         25%  \\\n",
       "pelvic_incidence          310.0   60.496653  17.236520  26.147921   46.430294   \n",
       "pelvic_tilt               310.0   17.542822  10.008330  -6.554948   10.667069   \n",
       "lumbar_lordosis_angle     310.0   51.930930  18.554064  14.000000   37.000000   \n",
       "sacral_slope              310.0   42.953831  13.423102  13.366931   33.347122   \n",
       "pelvic_radius             310.0  117.920655  13.317377  70.082575  110.709196   \n",
       "degree_spondylolisthesis  310.0   26.296694  37.559027 -11.058179    1.603727   \n",
       "pelvic_slope              310.0    0.472979   0.285787   0.003220    0.224367   \n",
       "Direct_tilt               310.0   21.321526   8.639423   7.027000   13.054400   \n",
       "thoracic_slope            310.0   13.064511   3.399713   7.037800   10.417800   \n",
       "cervical_tilt             310.0   11.933317   2.893265   7.030600    9.541140   \n",
       "sacrum_angle              310.0  -14.053139  12.225582 -35.287375  -24.289522   \n",
       "scoliosis_slope           310.0   25.645981  10.450558   7.007900   17.189075   \n",
       "Status                    310.0    0.677419   0.468220   0.000000    0.000000   \n",
       "\n",
       "                                 50%         75%         max  \n",
       "pelvic_incidence           58.691038   72.877696  129.834041  \n",
       "pelvic_tilt                16.357689   22.120395   49.431864  \n",
       "lumbar_lordosis_angle      49.562398   63.000000  125.742385  \n",
       "sacral_slope               42.404912   52.695888  121.429566  \n",
       "pelvic_radius             118.268178  125.467674  163.071041  \n",
       "degree_spondylolisthesis   11.767934   41.287352  418.543082  \n",
       "pelvic_slope                0.475989    0.704846    0.998827  \n",
       "Direct_tilt                21.907150   28.954075   36.743900  \n",
       "thoracic_slope             12.938450   15.889525   19.324000  \n",
       "cervical_tilt              11.953835   14.371810   16.821080  \n",
       "sacrum_angle              -14.622856   -3.497094    6.972071  \n",
       "scoliosis_slope            24.931950   33.979600   44.341200  \n",
       "Status                      1.000000    1.000000    1.000000  "
      ]
     },
     "execution_count": 86,
     "metadata": {},
     "output_type": "execute_result"
    },
    {
     "data": {
      "application/javascript": [
       "\n",
       "            setTimeout(function() {\n",
       "                var nbb_cell_id = 86;\n",
       "                var nbb_unformatted_code = \"data.describe().T\";\n",
       "                var nbb_formatted_code = \"data.describe().T\";\n",
       "                var nbb_cells = Jupyter.notebook.get_cells();\n",
       "                for (var i = 0; i < nbb_cells.length; ++i) {\n",
       "                    if (nbb_cells[i].input_prompt_number == nbb_cell_id) {\n",
       "                        if (nbb_cells[i].get_text() == nbb_unformatted_code) {\n",
       "                             nbb_cells[i].set_text(nbb_formatted_code);\n",
       "                        }\n",
       "                        break;\n",
       "                    }\n",
       "                }\n",
       "            }, 500);\n",
       "            "
      ],
      "text/plain": [
       "<IPython.core.display.Javascript object>"
      ]
     },
     "metadata": {},
     "output_type": "display_data"
    }
   ],
   "source": [
    "data.describe().T"
   ]
  },
  {
   "cell_type": "code",
   "execution_count": 96,
   "id": "c4773b35-f1d3-4921-a93a-5dffaa21e532",
   "metadata": {},
   "outputs": [
    {
     "data": {
      "text/html": [
       "<div>\n",
       "<style scoped>\n",
       "    .dataframe tbody tr th:only-of-type {\n",
       "        vertical-align: middle;\n",
       "    }\n",
       "\n",
       "    .dataframe tbody tr th {\n",
       "        vertical-align: top;\n",
       "    }\n",
       "\n",
       "    .dataframe thead th {\n",
       "        text-align: right;\n",
       "    }\n",
       "</style>\n",
       "<table border=\"1\" class=\"dataframe\">\n",
       "  <thead>\n",
       "    <tr style=\"text-align: right;\">\n",
       "      <th></th>\n",
       "      <th>pelvic_incidence</th>\n",
       "      <th>pelvic_tilt</th>\n",
       "      <th>lumbar_lordosis_angle</th>\n",
       "      <th>sacral_slope</th>\n",
       "      <th>pelvic_radius</th>\n",
       "      <th>degree_spondylolisthesis</th>\n",
       "      <th>pelvic_slope</th>\n",
       "      <th>Direct_tilt</th>\n",
       "      <th>thoracic_slope</th>\n",
       "      <th>cervical_tilt</th>\n",
       "      <th>sacrum_angle</th>\n",
       "      <th>scoliosis_slope</th>\n",
       "      <th>Status</th>\n",
       "    </tr>\n",
       "  </thead>\n",
       "  <tbody>\n",
       "    <tr>\n",
       "      <th>pelvic_incidence</th>\n",
       "      <td>1.000000</td>\n",
       "      <td>0.629199</td>\n",
       "      <td>0.717282</td>\n",
       "      <td>0.814960</td>\n",
       "      <td>-0.247467</td>\n",
       "      <td>0.638743</td>\n",
       "      <td>0.043290</td>\n",
       "      <td>-0.078411</td>\n",
       "      <td>-0.089740</td>\n",
       "      <td>0.016750</td>\n",
       "      <td>0.019240</td>\n",
       "      <td>-0.007251</td>\n",
       "      <td>0.353336</td>\n",
       "    </tr>\n",
       "    <tr>\n",
       "      <th>pelvic_tilt</th>\n",
       "      <td>0.629199</td>\n",
       "      <td>1.000000</td>\n",
       "      <td>0.432764</td>\n",
       "      <td>0.062345</td>\n",
       "      <td>0.032668</td>\n",
       "      <td>0.397862</td>\n",
       "      <td>0.008852</td>\n",
       "      <td>-0.072119</td>\n",
       "      <td>-0.063394</td>\n",
       "      <td>0.028931</td>\n",
       "      <td>0.032859</td>\n",
       "      <td>-0.056550</td>\n",
       "      <td>0.326063</td>\n",
       "    </tr>\n",
       "    <tr>\n",
       "      <th>lumbar_lordosis_angle</th>\n",
       "      <td>0.717282</td>\n",
       "      <td>0.432764</td>\n",
       "      <td>1.000000</td>\n",
       "      <td>0.598387</td>\n",
       "      <td>-0.080344</td>\n",
       "      <td>0.533667</td>\n",
       "      <td>0.029486</td>\n",
       "      <td>-0.112939</td>\n",
       "      <td>-0.063582</td>\n",
       "      <td>0.063875</td>\n",
       "      <td>0.057199</td>\n",
       "      <td>-0.049054</td>\n",
       "      <td>0.312484</td>\n",
       "    </tr>\n",
       "    <tr>\n",
       "      <th>sacral_slope</th>\n",
       "      <td>0.814960</td>\n",
       "      <td>0.062345</td>\n",
       "      <td>0.598387</td>\n",
       "      <td>1.000000</td>\n",
       "      <td>-0.342128</td>\n",
       "      <td>0.523557</td>\n",
       "      <td>0.048988</td>\n",
       "      <td>-0.046914</td>\n",
       "      <td>-0.067968</td>\n",
       "      <td>-0.000063</td>\n",
       "      <td>0.000207</td>\n",
       "      <td>0.032853</td>\n",
       "      <td>0.210602</td>\n",
       "    </tr>\n",
       "    <tr>\n",
       "      <th>pelvic_radius</th>\n",
       "      <td>-0.247467</td>\n",
       "      <td>0.032668</td>\n",
       "      <td>-0.080344</td>\n",
       "      <td>-0.342128</td>\n",
       "      <td>1.000000</td>\n",
       "      <td>-0.026065</td>\n",
       "      <td>0.015767</td>\n",
       "      <td>0.063433</td>\n",
       "      <td>0.060477</td>\n",
       "      <td>-0.039800</td>\n",
       "      <td>0.029738</td>\n",
       "      <td>-0.030145</td>\n",
       "      <td>-0.309857</td>\n",
       "    </tr>\n",
       "    <tr>\n",
       "      <th>degree_spondylolisthesis</th>\n",
       "      <td>0.638743</td>\n",
       "      <td>0.397862</td>\n",
       "      <td>0.533667</td>\n",
       "      <td>0.523557</td>\n",
       "      <td>-0.026065</td>\n",
       "      <td>1.000000</td>\n",
       "      <td>0.085925</td>\n",
       "      <td>-0.063812</td>\n",
       "      <td>-0.057286</td>\n",
       "      <td>0.056576</td>\n",
       "      <td>0.023021</td>\n",
       "      <td>-0.041023</td>\n",
       "      <td>0.443687</td>\n",
       "    </tr>\n",
       "    <tr>\n",
       "      <th>pelvic_slope</th>\n",
       "      <td>0.043290</td>\n",
       "      <td>0.008852</td>\n",
       "      <td>0.029486</td>\n",
       "      <td>0.048988</td>\n",
       "      <td>0.015767</td>\n",
       "      <td>0.085925</td>\n",
       "      <td>1.000000</td>\n",
       "      <td>0.012694</td>\n",
       "      <td>-0.011770</td>\n",
       "      <td>0.088017</td>\n",
       "      <td>0.060743</td>\n",
       "      <td>-0.073893</td>\n",
       "      <td>0.055865</td>\n",
       "    </tr>\n",
       "    <tr>\n",
       "      <th>Direct_tilt</th>\n",
       "      <td>-0.078411</td>\n",
       "      <td>-0.072119</td>\n",
       "      <td>-0.112939</td>\n",
       "      <td>-0.046914</td>\n",
       "      <td>0.063433</td>\n",
       "      <td>-0.063812</td>\n",
       "      <td>0.012694</td>\n",
       "      <td>1.000000</td>\n",
       "      <td>0.009887</td>\n",
       "      <td>0.072738</td>\n",
       "      <td>-0.037428</td>\n",
       "      <td>-0.024021</td>\n",
       "      <td>-0.039591</td>\n",
       "    </tr>\n",
       "    <tr>\n",
       "      <th>thoracic_slope</th>\n",
       "      <td>-0.089740</td>\n",
       "      <td>-0.063394</td>\n",
       "      <td>-0.063582</td>\n",
       "      <td>-0.067968</td>\n",
       "      <td>0.060477</td>\n",
       "      <td>-0.057286</td>\n",
       "      <td>-0.011770</td>\n",
       "      <td>0.009887</td>\n",
       "      <td>1.000000</td>\n",
       "      <td>0.052451</td>\n",
       "      <td>0.011354</td>\n",
       "      <td>0.009541</td>\n",
       "      <td>-0.049354</td>\n",
       "    </tr>\n",
       "    <tr>\n",
       "      <th>cervical_tilt</th>\n",
       "      <td>0.016750</td>\n",
       "      <td>0.028931</td>\n",
       "      <td>0.063875</td>\n",
       "      <td>-0.000063</td>\n",
       "      <td>-0.039800</td>\n",
       "      <td>0.056576</td>\n",
       "      <td>0.088017</td>\n",
       "      <td>0.072738</td>\n",
       "      <td>0.052451</td>\n",
       "      <td>1.000000</td>\n",
       "      <td>0.057451</td>\n",
       "      <td>0.021243</td>\n",
       "      <td>0.100044</td>\n",
       "    </tr>\n",
       "    <tr>\n",
       "      <th>sacrum_angle</th>\n",
       "      <td>0.019240</td>\n",
       "      <td>0.032859</td>\n",
       "      <td>0.057199</td>\n",
       "      <td>0.000207</td>\n",
       "      <td>0.029738</td>\n",
       "      <td>0.023021</td>\n",
       "      <td>0.060743</td>\n",
       "      <td>-0.037428</td>\n",
       "      <td>0.011354</td>\n",
       "      <td>0.057451</td>\n",
       "      <td>1.000000</td>\n",
       "      <td>0.015337</td>\n",
       "      <td>0.026887</td>\n",
       "    </tr>\n",
       "    <tr>\n",
       "      <th>scoliosis_slope</th>\n",
       "      <td>-0.007251</td>\n",
       "      <td>-0.056550</td>\n",
       "      <td>-0.049054</td>\n",
       "      <td>0.032853</td>\n",
       "      <td>-0.030145</td>\n",
       "      <td>-0.041023</td>\n",
       "      <td>-0.073893</td>\n",
       "      <td>-0.024021</td>\n",
       "      <td>0.009541</td>\n",
       "      <td>0.021243</td>\n",
       "      <td>0.015337</td>\n",
       "      <td>1.000000</td>\n",
       "      <td>-0.069315</td>\n",
       "    </tr>\n",
       "    <tr>\n",
       "      <th>Status</th>\n",
       "      <td>0.353336</td>\n",
       "      <td>0.326063</td>\n",
       "      <td>0.312484</td>\n",
       "      <td>0.210602</td>\n",
       "      <td>-0.309857</td>\n",
       "      <td>0.443687</td>\n",
       "      <td>0.055865</td>\n",
       "      <td>-0.039591</td>\n",
       "      <td>-0.049354</td>\n",
       "      <td>0.100044</td>\n",
       "      <td>0.026887</td>\n",
       "      <td>-0.069315</td>\n",
       "      <td>1.000000</td>\n",
       "    </tr>\n",
       "  </tbody>\n",
       "</table>\n",
       "</div>"
      ],
      "text/plain": [
       "                          pelvic_incidence  pelvic_tilt  \\\n",
       "pelvic_incidence                  1.000000     0.629199   \n",
       "pelvic_tilt                       0.629199     1.000000   \n",
       "lumbar_lordosis_angle             0.717282     0.432764   \n",
       "sacral_slope                      0.814960     0.062345   \n",
       "pelvic_radius                    -0.247467     0.032668   \n",
       "degree_spondylolisthesis          0.638743     0.397862   \n",
       "pelvic_slope                      0.043290     0.008852   \n",
       "Direct_tilt                      -0.078411    -0.072119   \n",
       "thoracic_slope                   -0.089740    -0.063394   \n",
       "cervical_tilt                     0.016750     0.028931   \n",
       "sacrum_angle                      0.019240     0.032859   \n",
       "scoliosis_slope                  -0.007251    -0.056550   \n",
       "Status                            0.353336     0.326063   \n",
       "\n",
       "                          lumbar_lordosis_angle  sacral_slope  pelvic_radius  \\\n",
       "pelvic_incidence                       0.717282      0.814960      -0.247467   \n",
       "pelvic_tilt                            0.432764      0.062345       0.032668   \n",
       "lumbar_lordosis_angle                  1.000000      0.598387      -0.080344   \n",
       "sacral_slope                           0.598387      1.000000      -0.342128   \n",
       "pelvic_radius                         -0.080344     -0.342128       1.000000   \n",
       "degree_spondylolisthesis               0.533667      0.523557      -0.026065   \n",
       "pelvic_slope                           0.029486      0.048988       0.015767   \n",
       "Direct_tilt                           -0.112939     -0.046914       0.063433   \n",
       "thoracic_slope                        -0.063582     -0.067968       0.060477   \n",
       "cervical_tilt                          0.063875     -0.000063      -0.039800   \n",
       "sacrum_angle                           0.057199      0.000207       0.029738   \n",
       "scoliosis_slope                       -0.049054      0.032853      -0.030145   \n",
       "Status                                 0.312484      0.210602      -0.309857   \n",
       "\n",
       "                          degree_spondylolisthesis  pelvic_slope  Direct_tilt  \\\n",
       "pelvic_incidence                          0.638743      0.043290    -0.078411   \n",
       "pelvic_tilt                               0.397862      0.008852    -0.072119   \n",
       "lumbar_lordosis_angle                     0.533667      0.029486    -0.112939   \n",
       "sacral_slope                              0.523557      0.048988    -0.046914   \n",
       "pelvic_radius                            -0.026065      0.015767     0.063433   \n",
       "degree_spondylolisthesis                  1.000000      0.085925    -0.063812   \n",
       "pelvic_slope                              0.085925      1.000000     0.012694   \n",
       "Direct_tilt                              -0.063812      0.012694     1.000000   \n",
       "thoracic_slope                           -0.057286     -0.011770     0.009887   \n",
       "cervical_tilt                             0.056576      0.088017     0.072738   \n",
       "sacrum_angle                              0.023021      0.060743    -0.037428   \n",
       "scoliosis_slope                          -0.041023     -0.073893    -0.024021   \n",
       "Status                                    0.443687      0.055865    -0.039591   \n",
       "\n",
       "                          thoracic_slope  cervical_tilt  sacrum_angle  \\\n",
       "pelvic_incidence               -0.089740       0.016750      0.019240   \n",
       "pelvic_tilt                    -0.063394       0.028931      0.032859   \n",
       "lumbar_lordosis_angle          -0.063582       0.063875      0.057199   \n",
       "sacral_slope                   -0.067968      -0.000063      0.000207   \n",
       "pelvic_radius                   0.060477      -0.039800      0.029738   \n",
       "degree_spondylolisthesis       -0.057286       0.056576      0.023021   \n",
       "pelvic_slope                   -0.011770       0.088017      0.060743   \n",
       "Direct_tilt                     0.009887       0.072738     -0.037428   \n",
       "thoracic_slope                  1.000000       0.052451      0.011354   \n",
       "cervical_tilt                   0.052451       1.000000      0.057451   \n",
       "sacrum_angle                    0.011354       0.057451      1.000000   \n",
       "scoliosis_slope                 0.009541       0.021243      0.015337   \n",
       "Status                         -0.049354       0.100044      0.026887   \n",
       "\n",
       "                          scoliosis_slope    Status  \n",
       "pelvic_incidence                -0.007251  0.353336  \n",
       "pelvic_tilt                     -0.056550  0.326063  \n",
       "lumbar_lordosis_angle           -0.049054  0.312484  \n",
       "sacral_slope                     0.032853  0.210602  \n",
       "pelvic_radius                   -0.030145 -0.309857  \n",
       "degree_spondylolisthesis        -0.041023  0.443687  \n",
       "pelvic_slope                    -0.073893  0.055865  \n",
       "Direct_tilt                     -0.024021 -0.039591  \n",
       "thoracic_slope                   0.009541 -0.049354  \n",
       "cervical_tilt                    0.021243  0.100044  \n",
       "sacrum_angle                     0.015337  0.026887  \n",
       "scoliosis_slope                  1.000000 -0.069315  \n",
       "Status                          -0.069315  1.000000  "
      ]
     },
     "execution_count": 96,
     "metadata": {},
     "output_type": "execute_result"
    },
    {
     "data": {
      "application/javascript": [
       "\n",
       "            setTimeout(function() {\n",
       "                var nbb_cell_id = 96;\n",
       "                var nbb_unformatted_code = \"data.corr()\";\n",
       "                var nbb_formatted_code = \"data.corr()\";\n",
       "                var nbb_cells = Jupyter.notebook.get_cells();\n",
       "                for (var i = 0; i < nbb_cells.length; ++i) {\n",
       "                    if (nbb_cells[i].input_prompt_number == nbb_cell_id) {\n",
       "                        if (nbb_cells[i].get_text() == nbb_unformatted_code) {\n",
       "                             nbb_cells[i].set_text(nbb_formatted_code);\n",
       "                        }\n",
       "                        break;\n",
       "                    }\n",
       "                }\n",
       "            }, 500);\n",
       "            "
      ],
      "text/plain": [
       "<IPython.core.display.Javascript object>"
      ]
     },
     "metadata": {},
     "output_type": "display_data"
    }
   ],
   "source": [
    "data.corr()"
   ]
  },
  {
   "cell_type": "code",
   "execution_count": 97,
   "id": "467e7877-102a-4201-b6d2-0ec6ebf135b2",
   "metadata": {},
   "outputs": [
    {
     "data": {
      "image/png": "[encoded data removed]",
      "text/plain": [
       "<Figure size 720x360 with 2 Axes>"
      ]
     },
     "metadata": {
      "needs_background": "light"
     },
     "output_type": "display_data"
    },
    {
     "data": {
      "application/javascript": [
       "\n",
       "            setTimeout(function() {\n",
       "                var nbb_cell_id = 97;\n",
       "                var nbb_unformatted_code = \"plt.figure(figsize=(10,5))\\nsns.heatmap(data.corr()[data.corr()>=0.7],annot=True,vmax=1,vmin=-1,cmap='Spectral');\";\n",
       "                var nbb_formatted_code = \"plt.figure(figsize=(10, 5))\\nsns.heatmap(\\n    data.corr()[data.corr() >= 0.7], annot=True, vmax=1, vmin=-1, cmap=\\\"Spectral\\\"\\n)\";\n",
       "                var nbb_cells = Jupyter.notebook.get_cells();\n",
       "                for (var i = 0; i < nbb_cells.length; ++i) {\n",
       "                    if (nbb_cells[i].input_prompt_number == nbb_cell_id) {\n",
       "                        if (nbb_cells[i].get_text() == nbb_unformatted_code) {\n",
       "                             nbb_cells[i].set_text(nbb_formatted_code);\n",
       "                        }\n",
       "                        break;\n",
       "                    }\n",
       "                }\n",
       "            }, 500);\n",
       "            "
      ],
      "text/plain": [
       "<IPython.core.display.Javascript object>"
      ]
     },
     "metadata": {},
     "output_type": "display_data"
    }
   ],
   "source": [
    "plt.figure(figsize=(10,5))\n",
    "sns.heatmap(data.corr()[data.corr()>=0.7],annot=True,vmax=1,vmin=-1,cmap='Spectral');"
   ]
  },
  {
   "cell_type": "code",
   "execution_count": 88,
   "id": "efe79fbd-71b9-4f5a-8bd2-d81d4f64f397",
   "metadata": {},
   "outputs": [
    {
     "data": {
      "text/plain": [
       "(310, 13)"
      ]
     },
     "execution_count": 88,
     "metadata": {},
     "output_type": "execute_result"
    },
    {
     "data": {
      "application/javascript": [
       "\n",
       "            setTimeout(function() {\n",
       "                var nbb_cell_id = 88;\n",
       "                var nbb_unformatted_code = \"data.shape\";\n",
       "                var nbb_formatted_code = \"data.shape\";\n",
       "                var nbb_cells = Jupyter.notebook.get_cells();\n",
       "                for (var i = 0; i < nbb_cells.length; ++i) {\n",
       "                    if (nbb_cells[i].input_prompt_number == nbb_cell_id) {\n",
       "                        if (nbb_cells[i].get_text() == nbb_unformatted_code) {\n",
       "                             nbb_cells[i].set_text(nbb_formatted_code);\n",
       "                        }\n",
       "                        break;\n",
       "                    }\n",
       "                }\n",
       "            }, 500);\n",
       "            "
      ],
      "text/plain": [
       "<IPython.core.display.Javascript object>"
      ]
     },
     "metadata": {},
     "output_type": "display_data"
    }
   ],
   "source": [
    "data.shape"
   ]
  },
  {
   "cell_type": "code",
   "execution_count": 89,
   "id": "1262a4e5-9627-4ba4-b7f5-a5934ddef00f",
   "metadata": {},
   "outputs": [
    {
     "data": {
      "text/plain": [
       "1    210\n",
       "0    100\n",
       "Name: Status, dtype: int64"
      ]
     },
     "execution_count": 89,
     "metadata": {},
     "output_type": "execute_result"
    },
    {
     "data": {
      "application/javascript": [
       "\n",
       "            setTimeout(function() {\n",
       "                var nbb_cell_id = 89;\n",
       "                var nbb_unformatted_code = \"data['Status'].value_counts()\";\n",
       "                var nbb_formatted_code = \"data[\\\"Status\\\"].value_counts()\";\n",
       "                var nbb_cells = Jupyter.notebook.get_cells();\n",
       "                for (var i = 0; i < nbb_cells.length; ++i) {\n",
       "                    if (nbb_cells[i].input_prompt_number == nbb_cell_id) {\n",
       "                        if (nbb_cells[i].get_text() == nbb_unformatted_code) {\n",
       "                             nbb_cells[i].set_text(nbb_formatted_code);\n",
       "                        }\n",
       "                        break;\n",
       "                    }\n",
       "                }\n",
       "            }, 500);\n",
       "            "
      ],
      "text/plain": [
       "<IPython.core.display.Javascript object>"
      ]
     },
     "metadata": {},
     "output_type": "display_data"
    }
   ],
   "source": [
    "data['Status'].value_counts()"
   ]
  },
  {
   "cell_type": "code",
   "execution_count": 18,
   "id": "4f91db42-f951-479c-a68d-3fa5a29296ee",
   "metadata": {},
   "outputs": [
    {
     "name": "stdout",
     "output_type": "stream",
     "text": [
      "Number of AbNormal : 210 (67.74%)\n",
      "Number of Normal : 100 (32.26%)\n"
     ]
    },
    {
     "data": {
      "application/javascript": [
       "\n",
       "            setTimeout(function() {\n",
       "                var nbb_cell_id = 18;\n",
       "                var nbb_unformatted_code = \"n_true = len(data.loc[data['Status'] == 1])\\nn_false = len(data.loc[data['Status'] == 0])\\nprint(\\\"Number of AbNormal : {0} ({1:2.2f}%)\\\".format(n_true, (n_true / (n_true + n_false)) * 100 ))\\nprint(\\\"Number of Normal : {0} ({1:2.2f}%)\\\".format(n_false, (n_false / (n_true + n_false)) * 100))\";\n",
       "                var nbb_formatted_code = \"n_true = len(data.loc[data[\\\"Status\\\"] == 1])\\nn_false = len(data.loc[data[\\\"Status\\\"] == 0])\\nprint(\\n    \\\"Number of AbNormal : {0} ({1:2.2f}%)\\\".format(\\n        n_true, (n_true / (n_true + n_false)) * 100\\n    )\\n)\\nprint(\\n    \\\"Number of Normal : {0} ({1:2.2f}%)\\\".format(\\n        n_false, (n_false / (n_true + n_false)) * 100\\n    )\\n)\";\n",
       "                var nbb_cells = Jupyter.notebook.get_cells();\n",
       "                for (var i = 0; i < nbb_cells.length; ++i) {\n",
       "                    if (nbb_cells[i].input_prompt_number == nbb_cell_id) {\n",
       "                        if (nbb_cells[i].get_text() == nbb_unformatted_code) {\n",
       "                             nbb_cells[i].set_text(nbb_formatted_code);\n",
       "                        }\n",
       "                        break;\n",
       "                    }\n",
       "                }\n",
       "            }, 500);\n",
       "            "
      ],
      "text/plain": [
       "<IPython.core.display.Javascript object>"
      ]
     },
     "metadata": {},
     "output_type": "display_data"
    }
   ],
   "source": [
    "n_true = len(data.loc[data['Status'] == 1])\n",
    "n_false = len(data.loc[data['Status'] == 0])\n",
    "print(\"Number of AbNormal : {0} ({1:2.2f}%)\".format(n_true, (n_true / (n_true + n_false)) * 100 ))\n",
    "print(\"Number of Normal : {0} ({1:2.2f}%)\".format(n_false, (n_false / (n_true + n_false)) * 100))"
   ]
  },
  {
   "cell_type": "code",
   "execution_count": 90,
   "id": "c316a45b-2b18-4b9b-b129-f99506957ae4",
   "metadata": {},
   "outputs": [
    {
     "data": {
      "application/javascript": [
       "\n",
       "            setTimeout(function() {\n",
       "                var nbb_cell_id = 90;\n",
       "                var nbb_unformatted_code = \"X = data.drop(['Status'], axis=1)\\nY = data['Status']\";\n",
       "                var nbb_formatted_code = \"X = data.drop([\\\"Status\\\"], axis=1)\\nY = data[\\\"Status\\\"]\";\n",
       "                var nbb_cells = Jupyter.notebook.get_cells();\n",
       "                for (var i = 0; i < nbb_cells.length; ++i) {\n",
       "                    if (nbb_cells[i].input_prompt_number == nbb_cell_id) {\n",
       "                        if (nbb_cells[i].get_text() == nbb_unformatted_code) {\n",
       "                             nbb_cells[i].set_text(nbb_formatted_code);\n",
       "                        }\n",
       "                        break;\n",
       "                    }\n",
       "                }\n",
       "            }, 500);\n",
       "            "
      ],
      "text/plain": [
       "<IPython.core.display.Javascript object>"
      ]
     },
     "metadata": {},
     "output_type": "display_data"
    }
   ],
   "source": [
    "X = data.drop(['Status'], axis=1)\n",
    "Y = data['Status']"
   ]
  },
  {
   "cell_type": "code",
   "execution_count": 94,
   "id": "c6095aa3-a0e2-48e5-a5a3-765437b763e4",
   "metadata": {},
   "outputs": [
    {
     "data": {
      "application/javascript": [
       "\n",
       "            setTimeout(function() {\n",
       "                var nbb_cell_id = 94;\n",
       "                var nbb_unformatted_code = \"#Splitting data in train and test sets\\nX_train, X_test, y_train, y_test = train_test_split(X,Y, test_size=0.30, random_state = 1)\";\n",
       "                var nbb_formatted_code = \"# Splitting data in train and test sets\\nX_train, X_test, y_train, y_test = train_test_split(\\n    X, Y, test_size=0.30, random_state=1\\n)\";\n",
       "                var nbb_cells = Jupyter.notebook.get_cells();\n",
       "                for (var i = 0; i < nbb_cells.length; ++i) {\n",
       "                    if (nbb_cells[i].input_prompt_number == nbb_cell_id) {\n",
       "                        if (nbb_cells[i].get_text() == nbb_unformatted_code) {\n",
       "                             nbb_cells[i].set_text(nbb_formatted_code);\n",
       "                        }\n",
       "                        break;\n",
       "                    }\n",
       "                }\n",
       "            }, 500);\n",
       "            "
      ],
      "text/plain": [
       "<IPython.core.display.Javascript object>"
      ]
     },
     "metadata": {},
     "output_type": "display_data"
    }
   ],
   "source": [
    "#Splitting data in train and test sets\n",
    "X_train, X_test, y_train, y_test = train_test_split(X,Y, test_size=0.30, random_state = 1)"
   ]
  },
  {
   "cell_type": "code",
   "execution_count": 95,
   "id": "41595f4d-5884-46ab-ab4c-418360618881",
   "metadata": {},
   "outputs": [
    {
     "data": {
      "text/plain": [
       "1    0.709677\n",
       "0    0.290323\n",
       "Name: Status, dtype: float64"
      ]
     },
     "execution_count": 95,
     "metadata": {},
     "output_type": "execute_result"
    },
    {
     "data": {
      "application/javascript": [
       "\n",
       "            setTimeout(function() {\n",
       "                var nbb_cell_id = 95;\n",
       "                var nbb_unformatted_code = \"y_test.value_counts(normalize=True)\";\n",
       "                var nbb_formatted_code = \"y_test.value_counts(normalize=True)\";\n",
       "                var nbb_cells = Jupyter.notebook.get_cells();\n",
       "                for (var i = 0; i < nbb_cells.length; ++i) {\n",
       "                    if (nbb_cells[i].input_prompt_number == nbb_cell_id) {\n",
       "                        if (nbb_cells[i].get_text() == nbb_unformatted_code) {\n",
       "                             nbb_cells[i].set_text(nbb_formatted_code);\n",
       "                        }\n",
       "                        break;\n",
       "                    }\n",
       "                }\n",
       "            }, 500);\n",
       "            "
      ],
      "text/plain": [
       "<IPython.core.display.Javascript object>"
      ]
     },
     "metadata": {},
     "output_type": "display_data"
    }
   ],
   "source": [
    "y_test.value_counts(normalize=True)"
   ]
  },
  {
   "cell_type": "code",
   "execution_count": 98,
   "id": "6cc1b977-01f9-41db-beed-6fe4b81e334d",
   "metadata": {},
   "outputs": [
    {
     "data": {
      "text/html": [
       "<div>\n",
       "<style scoped>\n",
       "    .dataframe tbody tr th:only-of-type {\n",
       "        vertical-align: middle;\n",
       "    }\n",
       "\n",
       "    .dataframe tbody tr th {\n",
       "        vertical-align: top;\n",
       "    }\n",
       "\n",
       "    .dataframe thead th {\n",
       "        text-align: right;\n",
       "    }\n",
       "</style>\n",
       "<table border=\"1\" class=\"dataframe\">\n",
       "  <thead>\n",
       "    <tr style=\"text-align: right;\">\n",
       "      <th></th>\n",
       "      <th>pelvic_incidence</th>\n",
       "      <th>pelvic_tilt</th>\n",
       "      <th>lumbar_lordosis_angle</th>\n",
       "      <th>sacral_slope</th>\n",
       "      <th>pelvic_radius</th>\n",
       "      <th>degree_spondylolisthesis</th>\n",
       "      <th>pelvic_slope</th>\n",
       "      <th>Direct_tilt</th>\n",
       "      <th>thoracic_slope</th>\n",
       "      <th>cervical_tilt</th>\n",
       "      <th>sacrum_angle</th>\n",
       "      <th>scoliosis_slope</th>\n",
       "    </tr>\n",
       "  </thead>\n",
       "  <tbody>\n",
       "    <tr>\n",
       "      <th>67</th>\n",
       "      <td>75.649731</td>\n",
       "      <td>19.339799</td>\n",
       "      <td>64.148685</td>\n",
       "      <td>56.309932</td>\n",
       "      <td>95.903629</td>\n",
       "      <td>69.551303</td>\n",
       "      <td>0.687092</td>\n",
       "      <td>24.1004</td>\n",
       "      <td>13.3444</td>\n",
       "      <td>15.75602</td>\n",
       "      <td>-0.550516</td>\n",
       "      <td>18.2915</td>\n",
       "    </tr>\n",
       "    <tr>\n",
       "      <th>283</th>\n",
       "      <td>48.995958</td>\n",
       "      <td>13.113820</td>\n",
       "      <td>51.873520</td>\n",
       "      <td>35.882137</td>\n",
       "      <td>126.398188</td>\n",
       "      <td>0.535472</td>\n",
       "      <td>0.732730</td>\n",
       "      <td>33.7477</td>\n",
       "      <td>7.5426</td>\n",
       "      <td>15.74090</td>\n",
       "      <td>-6.421289</td>\n",
       "      <td>11.9857</td>\n",
       "    </tr>\n",
       "    <tr>\n",
       "      <th>122</th>\n",
       "      <td>80.074914</td>\n",
       "      <td>48.069531</td>\n",
       "      <td>52.403439</td>\n",
       "      <td>32.005383</td>\n",
       "      <td>110.709912</td>\n",
       "      <td>67.727316</td>\n",
       "      <td>0.099941</td>\n",
       "      <td>20.2822</td>\n",
       "      <td>10.3082</td>\n",
       "      <td>15.89258</td>\n",
       "      <td>-14.156070</td>\n",
       "      <td>39.9730</td>\n",
       "    </tr>\n",
       "    <tr>\n",
       "      <th>34</th>\n",
       "      <td>59.595540</td>\n",
       "      <td>31.998244</td>\n",
       "      <td>46.560252</td>\n",
       "      <td>27.597296</td>\n",
       "      <td>119.330354</td>\n",
       "      <td>1.474286</td>\n",
       "      <td>0.477088</td>\n",
       "      <td>8.6051</td>\n",
       "      <td>8.3058</td>\n",
       "      <td>8.53700</td>\n",
       "      <td>-0.029028</td>\n",
       "      <td>40.5823</td>\n",
       "    </tr>\n",
       "    <tr>\n",
       "      <th>197</th>\n",
       "      <td>58.828379</td>\n",
       "      <td>37.577873</td>\n",
       "      <td>125.742385</td>\n",
       "      <td>21.250506</td>\n",
       "      <td>135.629418</td>\n",
       "      <td>117.314683</td>\n",
       "      <td>0.751482</td>\n",
       "      <td>12.6576</td>\n",
       "      <td>15.9381</td>\n",
       "      <td>15.23920</td>\n",
       "      <td>-15.444826</td>\n",
       "      <td>7.2157</td>\n",
       "    </tr>\n",
       "  </tbody>\n",
       "</table>\n",
       "</div>"
      ],
      "text/plain": [
       "     pelvic_incidence  pelvic_tilt  lumbar_lordosis_angle  sacral_slope  \\\n",
       "67          75.649731    19.339799              64.148685     56.309932   \n",
       "283         48.995958    13.113820              51.873520     35.882137   \n",
       "122         80.074914    48.069531              52.403439     32.005383   \n",
       "34          59.595540    31.998244              46.560252     27.597296   \n",
       "197         58.828379    37.577873             125.742385     21.250506   \n",
       "\n",
       "     pelvic_radius  degree_spondylolisthesis  pelvic_slope  Direct_tilt  \\\n",
       "67       95.903629                 69.551303      0.687092      24.1004   \n",
       "283     126.398188                  0.535472      0.732730      33.7477   \n",
       "122     110.709912                 67.727316      0.099941      20.2822   \n",
       "34      119.330354                  1.474286      0.477088       8.6051   \n",
       "197     135.629418                117.314683      0.751482      12.6576   \n",
       "\n",
       "     thoracic_slope  cervical_tilt  sacrum_angle  scoliosis_slope  \n",
       "67          13.3444       15.75602     -0.550516          18.2915  \n",
       "283          7.5426       15.74090     -6.421289          11.9857  \n",
       "122         10.3082       15.89258    -14.156070          39.9730  \n",
       "34           8.3058        8.53700     -0.029028          40.5823  \n",
       "197         15.9381       15.23920    -15.444826           7.2157  "
      ]
     },
     "execution_count": 98,
     "metadata": {},
     "output_type": "execute_result"
    },
    {
     "data": {
      "application/javascript": [
       "\n",
       "            setTimeout(function() {\n",
       "                var nbb_cell_id = 98;\n",
       "                var nbb_unformatted_code = \"X_train.head()\";\n",
       "                var nbb_formatted_code = \"X_train.head()\";\n",
       "                var nbb_cells = Jupyter.notebook.get_cells();\n",
       "                for (var i = 0; i < nbb_cells.length; ++i) {\n",
       "                    if (nbb_cells[i].input_prompt_number == nbb_cell_id) {\n",
       "                        if (nbb_cells[i].get_text() == nbb_unformatted_code) {\n",
       "                             nbb_cells[i].set_text(nbb_formatted_code);\n",
       "                        }\n",
       "                        break;\n",
       "                    }\n",
       "                }\n",
       "            }, 500);\n",
       "            "
      ],
      "text/plain": [
       "<IPython.core.display.Javascript object>"
      ]
     },
     "metadata": {},
     "output_type": "display_data"
    }
   ],
   "source": [
    "X_train.head()"
   ]
  },
  {
   "cell_type": "code",
   "execution_count": 99,
   "id": "5a8a8073-2763-4be7-941e-3e84c91fcca0",
   "metadata": {},
   "outputs": [
    {
     "ename": "NameError",
     "evalue": "name 'add_constant' is not defined",
     "output_type": "error",
     "traceback": [
      "\u001b[1;31m---------------------------------------------------------------------------\u001b[0m",
      "\u001b[1;31mNameError\u001b[0m                                 Traceback (most recent call last)",
      "\u001b[1;32m<ipython-input-99-d2ce06021974>\u001b[0m in \u001b[0;36m<module>\u001b[1;34m\u001b[0m\n\u001b[0;32m      1\u001b[0m \u001b[1;31m# dataframe with numerical column only\u001b[0m\u001b[1;33m\u001b[0m\u001b[1;33m\u001b[0m\u001b[1;33m\u001b[0m\u001b[0m\n\u001b[0;32m      2\u001b[0m \u001b[0mnum_feature_set\u001b[0m \u001b[1;33m=\u001b[0m \u001b[0mX\u001b[0m\u001b[1;33m.\u001b[0m\u001b[0mcopy\u001b[0m\u001b[1;33m(\u001b[0m\u001b[1;33m)\u001b[0m\u001b[1;33m\u001b[0m\u001b[1;33m\u001b[0m\u001b[0m\n\u001b[1;32m----> 3\u001b[1;33m \u001b[0mnum_feature_set\u001b[0m \u001b[1;33m=\u001b[0m \u001b[0madd_constant\u001b[0m\u001b[1;33m(\u001b[0m\u001b[0mnum_feature_set\u001b[0m\u001b[1;33m)\u001b[0m\u001b[1;33m\u001b[0m\u001b[1;33m\u001b[0m\u001b[0m\n\u001b[0m\u001b[0;32m      4\u001b[0m \u001b[0mnum_feature_set\u001b[0m \u001b[1;33m=\u001b[0m \u001b[0mnum_feature_set\u001b[0m\u001b[1;33m.\u001b[0m\u001b[0mastype\u001b[0m\u001b[1;33m(\u001b[0m\u001b[0mfloat\u001b[0m\u001b[1;33m)\u001b[0m\u001b[1;33m\u001b[0m\u001b[1;33m\u001b[0m\u001b[0m\n",
      "\u001b[1;31mNameError\u001b[0m: name 'add_constant' is not defined"
     ]
    },
    {
     "data": {
      "application/javascript": [
       "\n",
       "            setTimeout(function() {\n",
       "                var nbb_cell_id = 99;\n",
       "                var nbb_unformatted_code = \"# dataframe with numerical column only\\nnum_feature_set = X.copy()\\nnum_feature_set = add_constant(num_feature_set)\\nnum_feature_set = num_feature_set.astype(float)\";\n",
       "                var nbb_formatted_code = \"# dataframe with numerical column only\\nnum_feature_set = X.copy()\\nnum_feature_set = add_constant(num_feature_set)\\nnum_feature_set = num_feature_set.astype(float)\";\n",
       "                var nbb_cells = Jupyter.notebook.get_cells();\n",
       "                for (var i = 0; i < nbb_cells.length; ++i) {\n",
       "                    if (nbb_cells[i].input_prompt_number == nbb_cell_id) {\n",
       "                        if (nbb_cells[i].get_text() == nbb_unformatted_code) {\n",
       "                             nbb_cells[i].set_text(nbb_formatted_code);\n",
       "                        }\n",
       "                        break;\n",
       "                    }\n",
       "                }\n",
       "            }, 500);\n",
       "            "
      ],
      "text/plain": [
       "<IPython.core.display.Javascript object>"
      ]
     },
     "metadata": {},
     "output_type": "display_data"
    }
   ],
   "source": []
  },
  {
   "cell_type": "code",
   "execution_count": 23,
   "id": "55215ebb-dedf-4e5d-8d94-44c09545a7f8",
   "metadata": {},
   "outputs": [
    {
     "name": "stdout",
     "output_type": "stream",
     "text": [
      "          0         1      2         3         4         5         6  \\\n",
      "0  0.035132  0.088027 -0.038 -0.052895 -0.023428  0.137437  0.238752   \n",
      "\n",
      "          7         8         9        10        11  intercept  \n",
      "0  0.005219 -0.016468  0.086542 -0.002245 -0.001083   1.372048  \n"
     ]
    },
    {
     "data": {
      "application/javascript": [
       "\n",
       "            setTimeout(function() {\n",
       "                var nbb_cell_id = 23;\n",
       "                var nbb_unformatted_code = \"from sklearn import metrics\\n\\nfrom sklearn.linear_model import LogisticRegression\\n\\n# Fit the model on train\\nmodel = LogisticRegression(solver=\\\"liblinear\\\", random_state=1)\\nmodel.fit(X_train, y_train)\\n\\n#predict on test\\ny_predict = model.predict(X_test)\\n\\n\\ncoef_df = pd.DataFrame(model.coef_)\\ncoef_df['intercept'] = model.intercept_\\nprint(coef_df)\";\n",
       "                var nbb_formatted_code = \"from sklearn import metrics\\n\\nfrom sklearn.linear_model import LogisticRegression\\n\\n# Fit the model on train\\nmodel = LogisticRegression(solver=\\\"liblinear\\\", random_state=1)\\nmodel.fit(X_train, y_train)\\n\\n# predict on test\\ny_predict = model.predict(X_test)\\n\\n\\ncoef_df = pd.DataFrame(model.coef_)\\ncoef_df[\\\"intercept\\\"] = model.intercept_\\nprint(coef_df)\";\n",
       "                var nbb_cells = Jupyter.notebook.get_cells();\n",
       "                for (var i = 0; i < nbb_cells.length; ++i) {\n",
       "                    if (nbb_cells[i].input_prompt_number == nbb_cell_id) {\n",
       "                        if (nbb_cells[i].get_text() == nbb_unformatted_code) {\n",
       "                             nbb_cells[i].set_text(nbb_formatted_code);\n",
       "                        }\n",
       "                        break;\n",
       "                    }\n",
       "                }\n",
       "            }, 500);\n",
       "            "
      ],
      "text/plain": [
       "<IPython.core.display.Javascript object>"
      ]
     },
     "metadata": {},
     "output_type": "display_data"
    }
   ],
   "source": [
    "from sklearn import metrics\n",
    "\n",
    "from sklearn.linear_model import LogisticRegression\n",
    "\n",
    "# Fit the model on train\n",
    "model = LogisticRegression(solver=\"liblinear\", random_state=1)\n",
    "model.fit(X_train, y_train)\n",
    "\n",
    "#predict on test\n",
    "y_predict = model.predict(X_test)\n",
    "\n",
    "\n",
    "coef_df = pd.DataFrame(model.coef_)\n",
    "coef_df['intercept'] = model.intercept_\n",
    "print(coef_df)"
   ]
  },
  {
   "cell_type": "code",
   "execution_count": 24,
   "id": "08a4e0ab-79d9-4518-a115-25ee565e81c5",
   "metadata": {},
   "outputs": [
    {
     "name": "stdout",
     "output_type": "stream",
     "text": [
      "0.8709677419354839\n"
     ]
    },
    {
     "data": {
      "application/javascript": [
       "\n",
       "            setTimeout(function() {\n",
       "                var nbb_cell_id = 24;\n",
       "                var nbb_unformatted_code = \"model_score = model.score(X_test, y_test)\\nprint(model_score)\";\n",
       "                var nbb_formatted_code = \"model_score = model.score(X_test, y_test)\\nprint(model_score)\";\n",
       "                var nbb_cells = Jupyter.notebook.get_cells();\n",
       "                for (var i = 0; i < nbb_cells.length; ++i) {\n",
       "                    if (nbb_cells[i].input_prompt_number == nbb_cell_id) {\n",
       "                        if (nbb_cells[i].get_text() == nbb_unformatted_code) {\n",
       "                             nbb_cells[i].set_text(nbb_formatted_code);\n",
       "                        }\n",
       "                        break;\n",
       "                    }\n",
       "                }\n",
       "            }, 500);\n",
       "            "
      ],
      "text/plain": [
       "<IPython.core.display.Javascript object>"
      ]
     },
     "metadata": {},
     "output_type": "display_data"
    }
   ],
   "source": [
    "model_score = model.score(X_test, y_test)\n",
    "print(model_score)"
   ]
  },
  {
   "cell_type": "code",
   "execution_count": 25,
   "id": "e79a14c0-3f41-4caa-a49b-ff171db861ae",
   "metadata": {},
   "outputs": [
    {
     "data": {
      "image/png": "[encoded data removed]",
      "text/plain": [
       "<Figure size 504x360 with 2 Axes>"
      ]
     },
     "metadata": {
      "needs_background": "light"
     },
     "output_type": "display_data"
    },
    {
     "data": {
      "application/javascript": [
       "\n",
       "            setTimeout(function() {\n",
       "                var nbb_cell_id = 25;\n",
       "                var nbb_unformatted_code = \"cm=metrics.confusion_matrix(y_test, y_predict, labels=[1, 0])\\n\\ndf_cm = pd.DataFrame(cm, index = [i for i in [\\\"Actual 1\\\",\\\" Actual 0\\\"]],\\n                  columns = [i for i in [\\\"Predict 1\\\",\\\"Predict 0\\\"]])\\nplt.figure(figsize = (7,5))\\nsns.heatmap(df_cm, annot=True,fmt='g')\\nplt.show()\";\n",
       "                var nbb_formatted_code = \"cm = metrics.confusion_matrix(y_test, y_predict, labels=[1, 0])\\n\\ndf_cm = pd.DataFrame(\\n    cm,\\n    index=[i for i in [\\\"Actual 1\\\", \\\" Actual 0\\\"]],\\n    columns=[i for i in [\\\"Predict 1\\\", \\\"Predict 0\\\"]],\\n)\\nplt.figure(figsize=(7, 5))\\nsns.heatmap(df_cm, annot=True, fmt=\\\"g\\\")\\nplt.show()\";\n",
       "                var nbb_cells = Jupyter.notebook.get_cells();\n",
       "                for (var i = 0; i < nbb_cells.length; ++i) {\n",
       "                    if (nbb_cells[i].input_prompt_number == nbb_cell_id) {\n",
       "                        if (nbb_cells[i].get_text() == nbb_unformatted_code) {\n",
       "                             nbb_cells[i].set_text(nbb_formatted_code);\n",
       "                        }\n",
       "                        break;\n",
       "                    }\n",
       "                }\n",
       "            }, 500);\n",
       "            "
      ],
      "text/plain": [
       "<IPython.core.display.Javascript object>"
      ]
     },
     "metadata": {},
     "output_type": "display_data"
    }
   ],
   "source": [
    "cm=metrics.confusion_matrix(y_test, y_predict, labels=[1, 0])\n",
    "\n",
    "df_cm = pd.DataFrame(cm, index = [i for i in [\"Actual 1\",\" Actual 0\"]],\n",
    "                  columns = [i for i in [\"Predict 1\",\"Predict 0\"]])\n",
    "plt.figure(figsize = (7,5))\n",
    "sns.heatmap(df_cm, annot=True,fmt='g')\n",
    "plt.show()"
   ]
  },
  {
   "cell_type": "markdown",
   "id": "71a10b04-037e-4f41-bde9-5f2f82d9a365",
   "metadata": {},
   "source": [
    "\n",
    "\n",
    "\n",
    "\n",
    "\n"
   ]
  },
  {
   "cell_type": "markdown",
   "id": "64f5adc9-671c-4615-925d-4d9e7fa21eeb",
   "metadata": {},
   "source": [
    "### 1 = Abnormal 0 = normal \n",
    "TP = 58\n",
    "TN = 23\n",
    "\n",
    "FP = 4 \n",
    "FN = 8 \n",
    "\n"
   ]
  },
  {
   "cell_type": "code",
   "execution_count": 26,
   "id": "e8dc3d97-7070-4671-a2f8-fdb068148438",
   "metadata": {},
   "outputs": [
    {
     "data": {
      "application/javascript": [
       "\n",
       "            setTimeout(function() {\n",
       "                var nbb_cell_id = 26;\n",
       "                var nbb_unformatted_code = \"TP = 58 \\nTN = 23\\n\\nFP = 4 \\nFN = 8 \";\n",
       "                var nbb_formatted_code = \"TP = 58\\nTN = 23\\n\\nFP = 4\\nFN = 8\";\n",
       "                var nbb_cells = Jupyter.notebook.get_cells();\n",
       "                for (var i = 0; i < nbb_cells.length; ++i) {\n",
       "                    if (nbb_cells[i].input_prompt_number == nbb_cell_id) {\n",
       "                        if (nbb_cells[i].get_text() == nbb_unformatted_code) {\n",
       "                             nbb_cells[i].set_text(nbb_formatted_code);\n",
       "                        }\n",
       "                        break;\n",
       "                    }\n",
       "                }\n",
       "            }, 500);\n",
       "            "
      ],
      "text/plain": [
       "<IPython.core.display.Javascript object>"
      ]
     },
     "metadata": {},
     "output_type": "display_data"
    }
   ],
   "source": [
    "TP = 58 \n",
    "TN = 23\n",
    "\n",
    "FP = 4 \n",
    "FN = 8 \n",
    "\n"
   ]
  },
  {
   "cell_type": "code",
   "execution_count": 27,
   "id": "8818bcae-d5fd-4c74-9039-1bdc74abdb45",
   "metadata": {},
   "outputs": [
    {
     "name": "stdout",
     "output_type": "stream",
     "text": [
      "0.8709677419354839\n"
     ]
    },
    {
     "data": {
      "application/javascript": [
       "\n",
       "            setTimeout(function() {\n",
       "                var nbb_cell_id = 27;\n",
       "                var nbb_unformatted_code = \"#Accuracy = TP + TN / (TP + FP + FN + TN)\\naccuracy = (58+23)/(58+23+4+8)\\nprint(accuracy)\";\n",
       "                var nbb_formatted_code = \"# Accuracy = TP + TN / (TP + FP + FN + TN)\\naccuracy = (58 + 23) / (58 + 23 + 4 + 8)\\nprint(accuracy)\";\n",
       "                var nbb_cells = Jupyter.notebook.get_cells();\n",
       "                for (var i = 0; i < nbb_cells.length; ++i) {\n",
       "                    if (nbb_cells[i].input_prompt_number == nbb_cell_id) {\n",
       "                        if (nbb_cells[i].get_text() == nbb_unformatted_code) {\n",
       "                             nbb_cells[i].set_text(nbb_formatted_code);\n",
       "                        }\n",
       "                        break;\n",
       "                    }\n",
       "                }\n",
       "            }, 500);\n",
       "            "
      ],
      "text/plain": [
       "<IPython.core.display.Javascript object>"
      ]
     },
     "metadata": {},
     "output_type": "display_data"
    }
   ],
   "source": [
    "#Accuracy = TP + TN / (TP + FP + FN + TN)\n",
    "accuracy = (58+23)/(58+23+4+8)\n",
    "print(accuracy)"
   ]
  },
  {
   "cell_type": "code",
   "execution_count": 28,
   "id": "ecfe81e4-709f-4968-90b0-aa94308da051",
   "metadata": {},
   "outputs": [
    {
     "name": "stdout",
     "output_type": "stream",
     "text": [
      "0.9354838709677419\n"
     ]
    },
    {
     "data": {
      "application/javascript": [
       "\n",
       "            setTimeout(function() {\n",
       "                var nbb_cell_id = 28;\n",
       "                var nbb_unformatted_code = \"precision = 58 / (58 + 4)\\nprint(precision)  \";\n",
       "                var nbb_formatted_code = \"precision = 58 / (58 + 4)\\nprint(precision)\";\n",
       "                var nbb_cells = Jupyter.notebook.get_cells();\n",
       "                for (var i = 0; i < nbb_cells.length; ++i) {\n",
       "                    if (nbb_cells[i].input_prompt_number == nbb_cell_id) {\n",
       "                        if (nbb_cells[i].get_text() == nbb_unformatted_code) {\n",
       "                             nbb_cells[i].set_text(nbb_formatted_code);\n",
       "                        }\n",
       "                        break;\n",
       "                    }\n",
       "                }\n",
       "            }, 500);\n",
       "            "
      ],
      "text/plain": [
       "<IPython.core.display.Javascript object>"
      ]
     },
     "metadata": {},
     "output_type": "display_data"
    }
   ],
   "source": [
    "precision = 58 / (58 + 4)\n",
    "print(precision)  "
   ]
  },
  {
   "cell_type": "code",
   "execution_count": 29,
   "id": "85c553ef-f1b7-4425-aa76-79663910d2aa",
   "metadata": {},
   "outputs": [
    {
     "name": "stdout",
     "output_type": "stream",
     "text": [
      "0.8787878787878788\n"
     ]
    },
    {
     "data": {
      "application/javascript": [
       "\n",
       "            setTimeout(function() {\n",
       "                var nbb_cell_id = 29;\n",
       "                var nbb_unformatted_code = \"Recall  = 58 / (58+8)\\nprint(Recall)  \";\n",
       "                var nbb_formatted_code = \"Recall = 58 / (58 + 8)\\nprint(Recall)\";\n",
       "                var nbb_cells = Jupyter.notebook.get_cells();\n",
       "                for (var i = 0; i < nbb_cells.length; ++i) {\n",
       "                    if (nbb_cells[i].input_prompt_number == nbb_cell_id) {\n",
       "                        if (nbb_cells[i].get_text() == nbb_unformatted_code) {\n",
       "                             nbb_cells[i].set_text(nbb_formatted_code);\n",
       "                        }\n",
       "                        break;\n",
       "                    }\n",
       "                }\n",
       "            }, 500);\n",
       "            "
      ],
      "text/plain": [
       "<IPython.core.display.Javascript object>"
      ]
     },
     "metadata": {},
     "output_type": "display_data"
    }
   ],
   "source": [
    "Recall  = 58 / (58+8)\n",
    "print(Recall)  \n"
   ]
  },
  {
   "cell_type": "code",
   "execution_count": 30,
   "id": "8739361b-839d-4841-b47d-d2aa017814aa",
   "metadata": {},
   "outputs": [
    {
     "name": "stdout",
     "output_type": "stream",
     "text": [
      "0.8518518518518519\n"
     ]
    },
    {
     "data": {
      "application/javascript": [
       "\n",
       "            setTimeout(function() {\n",
       "                var nbb_cell_id = 30;\n",
       "                var nbb_unformatted_code = \"Specificity = 23 / (23 + 4)\\nprint(Specificity)  \";\n",
       "                var nbb_formatted_code = \"Specificity = 23 / (23 + 4)\\nprint(Specificity)\";\n",
       "                var nbb_cells = Jupyter.notebook.get_cells();\n",
       "                for (var i = 0; i < nbb_cells.length; ++i) {\n",
       "                    if (nbb_cells[i].input_prompt_number == nbb_cell_id) {\n",
       "                        if (nbb_cells[i].get_text() == nbb_unformatted_code) {\n",
       "                             nbb_cells[i].set_text(nbb_formatted_code);\n",
       "                        }\n",
       "                        break;\n",
       "                    }\n",
       "                }\n",
       "            }, 500);\n",
       "            "
      ],
      "text/plain": [
       "<IPython.core.display.Javascript object>"
      ]
     },
     "metadata": {},
     "output_type": "display_data"
    }
   ],
   "source": [
    "Specificity = 23 / (23 + 4)\n",
    "print(Specificity)  "
   ]
  },
  {
   "cell_type": "code",
   "execution_count": 31,
   "id": "0daab1db-1dc8-4639-ab26-d825dd89f986",
   "metadata": {},
   "outputs": [
    {
     "name": "stdout",
     "output_type": "stream",
     "text": [
      "0.90625\n"
     ]
    },
    {
     "data": {
      "application/javascript": [
       "\n",
       "            setTimeout(function() {\n",
       "                var nbb_cell_id = 31;\n",
       "                var nbb_unformatted_code = \"f1_score = 2*precision*Recall/(precision+Recall)\\nprint(f1_score)  \";\n",
       "                var nbb_formatted_code = \"f1_score = 2 * precision * Recall / (precision + Recall)\\nprint(f1_score)\";\n",
       "                var nbb_cells = Jupyter.notebook.get_cells();\n",
       "                for (var i = 0; i < nbb_cells.length; ++i) {\n",
       "                    if (nbb_cells[i].input_prompt_number == nbb_cell_id) {\n",
       "                        if (nbb_cells[i].get_text() == nbb_unformatted_code) {\n",
       "                             nbb_cells[i].set_text(nbb_formatted_code);\n",
       "                        }\n",
       "                        break;\n",
       "                    }\n",
       "                }\n",
       "            }, 500);\n",
       "            "
      ],
      "text/plain": [
       "<IPython.core.display.Javascript object>"
      ]
     },
     "metadata": {},
     "output_type": "display_data"
    }
   ],
   "source": [
    "f1_score = 2*precision*Recall/(precision+Recall)\n",
    "print(f1_score)  "
   ]
  },
  {
   "cell_type": "code",
   "execution_count": 32,
   "id": "c2c10c66-7890-4db4-8400-c1a3c3b5aa82",
   "metadata": {},
   "outputs": [
    {
     "name": "stdout",
     "output_type": "stream",
     "text": [
      "                            OLS Regression Results                            \n",
      "==============================================================================\n",
      "Dep. Variable:                 Status   R-squared:                       0.367\n",
      "Model:                            OLS   Adj. R-squared:                  0.330\n",
      "Method:                 Least Squares   F-statistic:                     9.868\n",
      "Date:                Sun, 12 Sep 2021   Prob (F-statistic):           4.09e-15\n",
      "Time:                        19:19:33   Log-Likelihood:                -95.547\n",
      "No. Observations:                 217   AIC:                             217.1\n",
      "Df Residuals:                     204   BIC:                             261.0\n",
      "Df Model:                          12                                         \n",
      "Covariance Type:            nonrobust                                         \n",
      "============================================================================================\n",
      "                               coef    std err          t      P>|t|      [0.025      0.975]\n",
      "--------------------------------------------------------------------------------------------\n",
      "const                        2.5848      0.373      6.938      0.000       1.850       3.319\n",
      "pelvic_incidence          2.769e+06   5.85e+06      0.473      0.637   -8.77e+06    1.43e+07\n",
      "pelvic_tilt              -2.769e+06   5.85e+06     -0.473      0.637   -1.43e+07    8.77e+06\n",
      "lumbar_lordosis_angle        0.0038      0.002      1.793      0.075      -0.000       0.008\n",
      "sacral_slope             -2.769e+06   5.85e+06     -0.473      0.637   -1.43e+07    8.77e+06\n",
      "pelvic_radius               -0.0165      0.002     -6.931      0.000      -0.021      -0.012\n",
      "degree_spondylolisthesis     0.0045      0.001      5.128      0.000       0.003       0.006\n",
      "pelvic_slope                 0.0252      0.094      0.267      0.790      -0.161       0.211\n",
      "Direct_tilt                 -0.0004      0.003     -0.126      0.900      -0.006       0.006\n",
      "thoracic_slope              -0.0037      0.008     -0.474      0.636      -0.019       0.012\n",
      "cervical_tilt               -0.0024      0.009     -0.256      0.798      -0.021       0.016\n",
      "sacrum_angle                 0.0011      0.002      0.522      0.602      -0.003       0.005\n",
      "scoliosis_slope             -0.0009      0.003     -0.363      0.717      -0.006       0.004\n",
      "==============================================================================\n",
      "Omnibus:                       36.478   Durbin-Watson:                   2.174\n",
      "Prob(Omnibus):                  0.000   Jarque-Bera (JB):               11.733\n",
      "Skew:                          -0.296   Prob(JB):                      0.00283\n",
      "Kurtosis:                       2.027   Cond. No.                     6.12e+10\n",
      "==============================================================================\n",
      "\n",
      "Notes:\n",
      "[1] Standard Errors assume that the covariance matrix of the errors is correctly specified.\n",
      "[2] The smallest eigenvalue is 1.46e-15. This might indicate that there are\n",
      "strong multicollinearity problems or that the design matrix is singular.\n"
     ]
    },
    {
     "data": {
      "application/javascript": [
       "\n",
       "            setTimeout(function() {\n",
       "                var nbb_cell_id = 32;\n",
       "                var nbb_unformatted_code = \"# unlike sklearn, statsmodels does not add a constant to the data on its own\\n# we have to add the constant manually\\nimport statsmodels.api as sm\\n\\nx_train1 = sm.add_constant(X_train)\\n# adding constant to the test data\\nx_test1 = sm.add_constant(X_test)\\n\\nolsmod0 = sm.OLS(y_train, x_train1).fit()\\nprint(olsmod0.summary())\";\n",
       "                var nbb_formatted_code = \"# unlike sklearn, statsmodels does not add a constant to the data on its own\\n# we have to add the constant manually\\nimport statsmodels.api as sm\\n\\nx_train1 = sm.add_constant(X_train)\\n# adding constant to the test data\\nx_test1 = sm.add_constant(X_test)\\n\\nolsmod0 = sm.OLS(y_train, x_train1).fit()\\nprint(olsmod0.summary())\";\n",
       "                var nbb_cells = Jupyter.notebook.get_cells();\n",
       "                for (var i = 0; i < nbb_cells.length; ++i) {\n",
       "                    if (nbb_cells[i].input_prompt_number == nbb_cell_id) {\n",
       "                        if (nbb_cells[i].get_text() == nbb_unformatted_code) {\n",
       "                             nbb_cells[i].set_text(nbb_formatted_code);\n",
       "                        }\n",
       "                        break;\n",
       "                    }\n",
       "                }\n",
       "            }, 500);\n",
       "            "
      ],
      "text/plain": [
       "<IPython.core.display.Javascript object>"
      ]
     },
     "metadata": {},
     "output_type": "display_data"
    }
   ],
   "source": [
    "# unlike sklearn, statsmodels does not add a constant to the data on its own\n",
    "# we have to add the constant manually\n",
    "import statsmodels.api as sm\n",
    "\n",
    "x_train1 = sm.add_constant(X_train)\n",
    "# adding constant to the test data\n",
    "x_test1 = sm.add_constant(X_test)\n",
    "\n",
    "olsmod0 = sm.OLS(y_train, x_train1).fit()\n",
    "print(olsmod0.summary())"
   ]
  },
  {
   "cell_type": "code",
   "execution_count": 33,
   "id": "e8dfcd26-c40e-4b6d-aad0-728ce5594394",
   "metadata": {},
   "outputs": [
    {
     "data": {
      "application/javascript": [
       "\n",
       "            setTimeout(function() {\n",
       "                var nbb_cell_id = 33;\n",
       "                var nbb_unformatted_code = \"from statsmodels.stats.outliers_influence import variance_inflation_factor\\n\\n# we will define a function to check VIF\\ndef checking_vif(predictors):\\n    vif = pd.DataFrame()\\n    vif[\\\"feature\\\"] = predictors.columns\\n\\n    # calculating VIF for each feature\\n    vif[\\\"VIF\\\"] = [\\n        variance_inflation_factor(predictors.values, i)\\n        for i in range(len(predictors.columns))\\n    ]\\n    return round(vif)\";\n",
       "                var nbb_formatted_code = \"from statsmodels.stats.outliers_influence import variance_inflation_factor\\n\\n# we will define a function to check VIF\\ndef checking_vif(predictors):\\n    vif = pd.DataFrame()\\n    vif[\\\"feature\\\"] = predictors.columns\\n\\n    # calculating VIF for each feature\\n    vif[\\\"VIF\\\"] = [\\n        variance_inflation_factor(predictors.values, i)\\n        for i in range(len(predictors.columns))\\n    ]\\n    return round(vif)\";\n",
       "                var nbb_cells = Jupyter.notebook.get_cells();\n",
       "                for (var i = 0; i < nbb_cells.length; ++i) {\n",
       "                    if (nbb_cells[i].input_prompt_number == nbb_cell_id) {\n",
       "                        if (nbb_cells[i].get_text() == nbb_unformatted_code) {\n",
       "                             nbb_cells[i].set_text(nbb_formatted_code);\n",
       "                        }\n",
       "                        break;\n",
       "                    }\n",
       "                }\n",
       "            }, 500);\n",
       "            "
      ],
      "text/plain": [
       "<IPython.core.display.Javascript object>"
      ]
     },
     "metadata": {},
     "output_type": "display_data"
    }
   ],
   "source": [
    "from statsmodels.stats.outliers_influence import variance_inflation_factor\n",
    "\n",
    "# we will define a function to check VIF\n",
    "def checking_vif(predictors):\n",
    "    vif = pd.DataFrame()\n",
    "    vif[\"feature\"] = predictors.columns\n",
    "\n",
    "    # calculating VIF for each feature\n",
    "    vif[\"VIF\"] = [\n",
    "        variance_inflation_factor(predictors.values, i)\n",
    "        for i in range(len(predictors.columns))\n",
    "    ]\n",
    "    return round(vif)"
   ]
  },
  {
   "cell_type": "code",
   "execution_count": 34,
   "id": "88415423-2138-422d-a0db-e420434210cb",
   "metadata": {},
   "outputs": [
    {
     "data": {
      "text/html": [
       "<div>\n",
       "<style scoped>\n",
       "    .dataframe tbody tr th:only-of-type {\n",
       "        vertical-align: middle;\n",
       "    }\n",
       "\n",
       "    .dataframe tbody tr th {\n",
       "        vertical-align: top;\n",
       "    }\n",
       "\n",
       "    .dataframe thead th {\n",
       "        text-align: right;\n",
       "    }\n",
       "</style>\n",
       "<table border=\"1\" class=\"dataframe\">\n",
       "  <thead>\n",
       "    <tr style=\"text-align: right;\">\n",
       "      <th></th>\n",
       "      <th>feature</th>\n",
       "      <th>VIF</th>\n",
       "    </tr>\n",
       "  </thead>\n",
       "  <tbody>\n",
       "    <tr>\n",
       "      <th>0</th>\n",
       "      <td>const</td>\n",
       "      <td>200.0</td>\n",
       "    </tr>\n",
       "    <tr>\n",
       "      <th>1</th>\n",
       "      <td>pelvic_incidence</td>\n",
       "      <td>inf</td>\n",
       "    </tr>\n",
       "    <tr>\n",
       "      <th>2</th>\n",
       "      <td>pelvic_tilt</td>\n",
       "      <td>inf</td>\n",
       "    </tr>\n",
       "    <tr>\n",
       "      <th>3</th>\n",
       "      <td>lumbar_lordosis_angle</td>\n",
       "      <td>2.0</td>\n",
       "    </tr>\n",
       "    <tr>\n",
       "      <th>4</th>\n",
       "      <td>sacral_slope</td>\n",
       "      <td>inf</td>\n",
       "    </tr>\n",
       "    <tr>\n",
       "      <th>5</th>\n",
       "      <td>pelvic_radius</td>\n",
       "      <td>1.0</td>\n",
       "    </tr>\n",
       "    <tr>\n",
       "      <th>6</th>\n",
       "      <td>degree_spondylolisthesis</td>\n",
       "      <td>2.0</td>\n",
       "    </tr>\n",
       "    <tr>\n",
       "      <th>7</th>\n",
       "      <td>pelvic_slope</td>\n",
       "      <td>1.0</td>\n",
       "    </tr>\n",
       "    <tr>\n",
       "      <th>8</th>\n",
       "      <td>Direct_tilt</td>\n",
       "      <td>1.0</td>\n",
       "    </tr>\n",
       "    <tr>\n",
       "      <th>9</th>\n",
       "      <td>thoracic_slope</td>\n",
       "      <td>1.0</td>\n",
       "    </tr>\n",
       "    <tr>\n",
       "      <th>10</th>\n",
       "      <td>cervical_tilt</td>\n",
       "      <td>1.0</td>\n",
       "    </tr>\n",
       "    <tr>\n",
       "      <th>11</th>\n",
       "      <td>sacrum_angle</td>\n",
       "      <td>1.0</td>\n",
       "    </tr>\n",
       "    <tr>\n",
       "      <th>12</th>\n",
       "      <td>scoliosis_slope</td>\n",
       "      <td>1.0</td>\n",
       "    </tr>\n",
       "  </tbody>\n",
       "</table>\n",
       "</div>"
      ],
      "text/plain": [
       "                     feature    VIF\n",
       "0                      const  200.0\n",
       "1           pelvic_incidence    inf\n",
       "2                pelvic_tilt    inf\n",
       "3      lumbar_lordosis_angle    2.0\n",
       "4               sacral_slope    inf\n",
       "5              pelvic_radius    1.0\n",
       "6   degree_spondylolisthesis    2.0\n",
       "7               pelvic_slope    1.0\n",
       "8                Direct_tilt    1.0\n",
       "9             thoracic_slope    1.0\n",
       "10             cervical_tilt    1.0\n",
       "11              sacrum_angle    1.0\n",
       "12           scoliosis_slope    1.0"
      ]
     },
     "execution_count": 34,
     "metadata": {},
     "output_type": "execute_result"
    },
    {
     "data": {
      "application/javascript": [
       "\n",
       "            setTimeout(function() {\n",
       "                var nbb_cell_id = 34;\n",
       "                var nbb_unformatted_code = \"checking_vif(x_train1)\";\n",
       "                var nbb_formatted_code = \"checking_vif(x_train1)\";\n",
       "                var nbb_cells = Jupyter.notebook.get_cells();\n",
       "                for (var i = 0; i < nbb_cells.length; ++i) {\n",
       "                    if (nbb_cells[i].input_prompt_number == nbb_cell_id) {\n",
       "                        if (nbb_cells[i].get_text() == nbb_unformatted_code) {\n",
       "                             nbb_cells[i].set_text(nbb_formatted_code);\n",
       "                        }\n",
       "                        break;\n",
       "                    }\n",
       "                }\n",
       "            }, 500);\n",
       "            "
      ],
      "text/plain": [
       "<IPython.core.display.Javascript object>"
      ]
     },
     "metadata": {},
     "output_type": "display_data"
    }
   ],
   "source": [
    "checking_vif(x_train1)"
   ]
  },
  {
   "cell_type": "code",
   "execution_count": 35,
   "id": "15952027-628d-45be-b203-95f6a1d32509",
   "metadata": {},
   "outputs": [
    {
     "data": {
      "application/javascript": [
       "\n",
       "            setTimeout(function() {\n",
       "                var nbb_cell_id = 35;\n",
       "                var nbb_unformatted_code = \"X_train2 = x_train1.drop(\\\"sacral_slope\\\", axis=1)\";\n",
       "                var nbb_formatted_code = \"X_train2 = x_train1.drop(\\\"sacral_slope\\\", axis=1)\";\n",
       "                var nbb_cells = Jupyter.notebook.get_cells();\n",
       "                for (var i = 0; i < nbb_cells.length; ++i) {\n",
       "                    if (nbb_cells[i].input_prompt_number == nbb_cell_id) {\n",
       "                        if (nbb_cells[i].get_text() == nbb_unformatted_code) {\n",
       "                             nbb_cells[i].set_text(nbb_formatted_code);\n",
       "                        }\n",
       "                        break;\n",
       "                    }\n",
       "                }\n",
       "            }, 500);\n",
       "            "
      ],
      "text/plain": [
       "<IPython.core.display.Javascript object>"
      ]
     },
     "metadata": {},
     "output_type": "display_data"
    }
   ],
   "source": [
    "X_train2 = x_train1.drop(\"sacral_slope\", axis=1)\n"
   ]
  },
  {
   "cell_type": "code",
   "execution_count": 36,
   "id": "d53bb407-5b17-40d3-bb27-398f22cfe951",
   "metadata": {},
   "outputs": [
    {
     "name": "stdout",
     "output_type": "stream",
     "text": [
      "                            OLS Regression Results                            \n",
      "==============================================================================\n",
      "Dep. Variable:                 Status   R-squared:                       0.367\n",
      "Model:                            OLS   Adj. R-squared:                  0.333\n",
      "Method:                 Least Squares   F-statistic:                     10.79\n",
      "Date:                Sun, 12 Sep 2021   Prob (F-statistic):           1.34e-15\n",
      "Time:                        19:19:33   Log-Likelihood:                -95.666\n",
      "No. Observations:                 217   AIC:                             215.3\n",
      "Df Residuals:                     205   BIC:                             255.9\n",
      "Df Model:                          11                                         \n",
      "Covariance Type:            nonrobust                                         \n",
      "============================================================================================\n",
      "                               coef    std err          t      P>|t|      [0.025      0.975]\n",
      "--------------------------------------------------------------------------------------------\n",
      "const                        2.5782      0.372      6.938      0.000       1.846       3.311\n",
      "pelvic_incidence            -0.0076      0.003     -2.506      0.013      -0.014      -0.002\n",
      "pelvic_tilt                  0.0160      0.004      4.500      0.000       0.009       0.023\n",
      "lumbar_lordosis_angle        0.0039      0.002      1.887      0.061      -0.000       0.008\n",
      "pelvic_radius               -0.0164      0.002     -6.929      0.000      -0.021      -0.012\n",
      "degree_spondylolisthesis     0.0045      0.001      5.119      0.000       0.003       0.006\n",
      "pelvic_slope                 0.0260      0.094      0.276      0.783      -0.160       0.212\n",
      "Direct_tilt                 -0.0004      0.003     -0.137      0.891      -0.007       0.006\n",
      "thoracic_slope              -0.0040      0.008     -0.516      0.606      -0.019       0.011\n",
      "cervical_tilt               -0.0025      0.009     -0.270      0.787      -0.021       0.016\n",
      "sacrum_angle                 0.0011      0.002      0.523      0.601      -0.003       0.005\n",
      "scoliosis_slope             -0.0008      0.003     -0.309      0.758      -0.006       0.004\n",
      "==============================================================================\n",
      "Omnibus:                       38.620   Durbin-Watson:                   2.163\n",
      "Prob(Omnibus):                  0.000   Jarque-Bera (JB):               11.855\n",
      "Skew:                          -0.290   Prob(JB):                      0.00267\n",
      "Kurtosis:                       2.012   Cond. No.                     2.16e+03\n",
      "==============================================================================\n",
      "\n",
      "Notes:\n",
      "[1] Standard Errors assume that the covariance matrix of the errors is correctly specified.\n",
      "[2] The condition number is large, 2.16e+03. This might indicate that there are\n",
      "strong multicollinearity or other numerical problems.\n"
     ]
    },
    {
     "data": {
      "application/javascript": [
       "\n",
       "            setTimeout(function() {\n",
       "                var nbb_cell_id = 36;\n",
       "                var nbb_unformatted_code = \"olsmod0 = sm.OLS(y_train, X_train2).fit()\\nprint(olsmod0.summary())\";\n",
       "                var nbb_formatted_code = \"olsmod0 = sm.OLS(y_train, X_train2).fit()\\nprint(olsmod0.summary())\";\n",
       "                var nbb_cells = Jupyter.notebook.get_cells();\n",
       "                for (var i = 0; i < nbb_cells.length; ++i) {\n",
       "                    if (nbb_cells[i].input_prompt_number == nbb_cell_id) {\n",
       "                        if (nbb_cells[i].get_text() == nbb_unformatted_code) {\n",
       "                             nbb_cells[i].set_text(nbb_formatted_code);\n",
       "                        }\n",
       "                        break;\n",
       "                    }\n",
       "                }\n",
       "            }, 500);\n",
       "            "
      ],
      "text/plain": [
       "<IPython.core.display.Javascript object>"
      ]
     },
     "metadata": {},
     "output_type": "display_data"
    }
   ],
   "source": [
    "olsmod0 = sm.OLS(y_train, X_train2).fit()\n",
    "print(olsmod0.summary())\n"
   ]
  },
  {
   "cell_type": "code",
   "execution_count": 71,
   "id": "08e00ab1-fb48-438d-93a2-e615e96b49b0",
   "metadata": {},
   "outputs": [
    {
     "data": {
      "application/javascript": [
       "\n",
       "            setTimeout(function() {\n",
       "                var nbb_cell_id = 71;\n",
       "                var nbb_unformatted_code = \"def recall_score(target,predictors):\\n    \\\"\\\"\\\"\\n    model: classifier\\n    predictors: independent variables\\n    target: dependent variable\\n    \\n    \\\"\\\"\\\"\\n    prediction = model.predict(predictors)\\n    return recall_score(target, prediction)\";\n",
       "                var nbb_formatted_code = \"def recall_score(target, predictors):\\n    \\\"\\\"\\\"\\n    model: classifier\\n    predictors: independent variables\\n    target: dependent variable\\n\\n    \\\"\\\"\\\"\\n    prediction = model.predict(predictors)\\n    return recall_score(target, prediction)\";\n",
       "                var nbb_cells = Jupyter.notebook.get_cells();\n",
       "                for (var i = 0; i < nbb_cells.length; ++i) {\n",
       "                    if (nbb_cells[i].input_prompt_number == nbb_cell_id) {\n",
       "                        if (nbb_cells[i].get_text() == nbb_unformatted_code) {\n",
       "                             nbb_cells[i].set_text(nbb_formatted_code);\n",
       "                        }\n",
       "                        break;\n",
       "                    }\n",
       "                }\n",
       "            }, 500);\n",
       "            "
      ],
      "text/plain": [
       "<IPython.core.display.Javascript object>"
      ]
     },
     "metadata": {},
     "output_type": "display_data"
    }
   ],
   "source": [
    "def recall_score(target,predictors):\n",
    "    \"\"\"\n",
    "    model: classifier\n",
    "    predictors: independent variables\n",
    "    target: dependent variable\n",
    "    \n",
    "    \"\"\"\n",
    "    prediction = model.predict(predictors)\n",
    "    return recall_score(target, prediction)\n"
   ]
  },
  {
   "cell_type": "code",
   "execution_count": 72,
   "id": "16c876d4-6df7-4153-a8a5-1eee741bedbd",
   "metadata": {},
   "outputs": [
    {
     "data": {
      "text/plain": [
       "DecisionTreeClassifier(random_state=1)"
      ]
     },
     "execution_count": 72,
     "metadata": {},
     "output_type": "execute_result"
    },
    {
     "data": {
      "application/javascript": [
       "\n",
       "            setTimeout(function() {\n",
       "                var nbb_cell_id = 72;\n",
       "                var nbb_unformatted_code = \"dTree = DecisionTreeClassifier(criterion = 'gini', random_state=1)\\ndTree.fit(X_train, y_train)\";\n",
       "                var nbb_formatted_code = \"dTree = DecisionTreeClassifier(criterion=\\\"gini\\\", random_state=1)\\ndTree.fit(X_train, y_train)\";\n",
       "                var nbb_cells = Jupyter.notebook.get_cells();\n",
       "                for (var i = 0; i < nbb_cells.length; ++i) {\n",
       "                    if (nbb_cells[i].input_prompt_number == nbb_cell_id) {\n",
       "                        if (nbb_cells[i].get_text() == nbb_unformatted_code) {\n",
       "                             nbb_cells[i].set_text(nbb_formatted_code);\n",
       "                        }\n",
       "                        break;\n",
       "                    }\n",
       "                }\n",
       "            }, 500);\n",
       "            "
      ],
      "text/plain": [
       "<IPython.core.display.Javascript object>"
      ]
     },
     "metadata": {},
     "output_type": "display_data"
    }
   ],
   "source": [
    "dTree = DecisionTreeClassifier(criterion = 'gini', random_state=1)\n",
    "dTree.fit(X_train, y_train)"
   ]
  },
  {
   "cell_type": "code",
   "execution_count": 74,
   "id": "b46c0992-e244-4bc4-8aa4-e012b222418a",
   "metadata": {},
   "outputs": [
    {
     "ename": "NotFittedError",
     "evalue": "This DecisionTreeClassifier instance is not fitted yet. Call 'fit' with appropriate arguments before using this estimator.",
     "output_type": "error",
     "traceback": [
      "\u001b[1;31m---------------------------------------------------------------------------\u001b[0m",
      "\u001b[1;31mNotFittedError\u001b[0m                            Traceback (most recent call last)",
      "\u001b[1;32m<ipython-input-74-f629f329b5d6>\u001b[0m in \u001b[0;36m<module>\u001b[1;34m\u001b[0m\n\u001b[0;32m      4\u001b[0m  \u001b[0mdTree\u001b[0m\u001b[1;33m.\u001b[0m\u001b[0mfit\u001b[0m\u001b[1;33m(\u001b[0m\u001b[0mX_train\u001b[0m\u001b[1;33m,\u001b[0m \u001b[0my_train\u001b[0m\u001b[1;33m)\u001b[0m\u001b[1;33m\u001b[0m\u001b[1;33m\u001b[0m\u001b[0m\n\u001b[0;32m      5\u001b[0m  \u001b[0mpred\u001b[0m \u001b[1;33m=\u001b[0m \u001b[0mdTree\u001b[0m\u001b[1;33m.\u001b[0m\u001b[0mpredict\u001b[0m\u001b[1;33m(\u001b[0m\u001b[0mX_train\u001b[0m\u001b[1;33m)\u001b[0m\u001b[1;33m\u001b[0m\u001b[1;33m\u001b[0m\u001b[0m\n\u001b[1;32m----> 6\u001b[1;33m  \u001b[0mcase\u001b[0m \u001b[1;33m=\u001b[0m \u001b[1;33m{\u001b[0m\u001b[1;34m'Depth'\u001b[0m\u001b[1;33m:\u001b[0m\u001b[0mi\u001b[0m\u001b[1;33m,\u001b[0m\u001b[1;34m'Recall'\u001b[0m\u001b[1;33m:\u001b[0m\u001b[0mrecall_score\u001b[0m\u001b[1;33m(\u001b[0m\u001b[0my_train\u001b[0m\u001b[1;33m,\u001b[0m\u001b[0mpred\u001b[0m\u001b[1;33m)\u001b[0m\u001b[1;33m}\u001b[0m\u001b[1;33m\u001b[0m\u001b[1;33m\u001b[0m\u001b[0m\n\u001b[0m\u001b[0;32m      7\u001b[0m  \u001b[0mscore_DT\u001b[0m\u001b[1;33m.\u001b[0m\u001b[0mappend\u001b[0m\u001b[1;33m(\u001b[0m\u001b[0mcase\u001b[0m\u001b[1;33m)\u001b[0m\u001b[1;33m\u001b[0m\u001b[1;33m\u001b[0m\u001b[0m\n",
      "\u001b[1;32m<ipython-input-71-f3d91838b0b8>\u001b[0m in \u001b[0;36mrecall_score\u001b[1;34m(target, predictors)\u001b[0m\n\u001b[0;32m      6\u001b[0m \u001b[1;33m\u001b[0m\u001b[0m\n\u001b[0;32m      7\u001b[0m     \"\"\"\n\u001b[1;32m----> 8\u001b[1;33m     \u001b[0mprediction\u001b[0m \u001b[1;33m=\u001b[0m \u001b[0mmodel\u001b[0m\u001b[1;33m.\u001b[0m\u001b[0mpredict\u001b[0m\u001b[1;33m(\u001b[0m\u001b[0mpredictors\u001b[0m\u001b[1;33m)\u001b[0m\u001b[1;33m\u001b[0m\u001b[1;33m\u001b[0m\u001b[0m\n\u001b[0m\u001b[0;32m      9\u001b[0m     \u001b[1;32mreturn\u001b[0m \u001b[0mrecall_score\u001b[0m\u001b[1;33m(\u001b[0m\u001b[0mtarget\u001b[0m\u001b[1;33m,\u001b[0m \u001b[0mprediction\u001b[0m\u001b[1;33m)\u001b[0m\u001b[1;33m\u001b[0m\u001b[1;33m\u001b[0m\u001b[0m\n",
      "\u001b[1;32mc:\\python3\\lib\\site-packages\\sklearn\\tree\\_classes.py\u001b[0m in \u001b[0;36mpredict\u001b[1;34m(self, X, check_input)\u001b[0m\n\u001b[0;32m    439\u001b[0m             \u001b[0mThe\u001b[0m \u001b[0mpredicted\u001b[0m \u001b[0mclasses\u001b[0m\u001b[1;33m,\u001b[0m \u001b[1;32mor\u001b[0m \u001b[0mthe\u001b[0m \u001b[0mpredict\u001b[0m \u001b[0mvalues\u001b[0m\u001b[1;33m.\u001b[0m\u001b[1;33m\u001b[0m\u001b[1;33m\u001b[0m\u001b[0m\n\u001b[0;32m    440\u001b[0m         \"\"\"\n\u001b[1;32m--> 441\u001b[1;33m         \u001b[0mcheck_is_fitted\u001b[0m\u001b[1;33m(\u001b[0m\u001b[0mself\u001b[0m\u001b[1;33m)\u001b[0m\u001b[1;33m\u001b[0m\u001b[1;33m\u001b[0m\u001b[0m\n\u001b[0m\u001b[0;32m    442\u001b[0m         \u001b[0mX\u001b[0m \u001b[1;33m=\u001b[0m \u001b[0mself\u001b[0m\u001b[1;33m.\u001b[0m\u001b[0m_validate_X_predict\u001b[0m\u001b[1;33m(\u001b[0m\u001b[0mX\u001b[0m\u001b[1;33m,\u001b[0m \u001b[0mcheck_input\u001b[0m\u001b[1;33m)\u001b[0m\u001b[1;33m\u001b[0m\u001b[1;33m\u001b[0m\u001b[0m\n\u001b[0;32m    443\u001b[0m         \u001b[0mproba\u001b[0m \u001b[1;33m=\u001b[0m \u001b[0mself\u001b[0m\u001b[1;33m.\u001b[0m\u001b[0mtree_\u001b[0m\u001b[1;33m.\u001b[0m\u001b[0mpredict\u001b[0m\u001b[1;33m(\u001b[0m\u001b[0mX\u001b[0m\u001b[1;33m)\u001b[0m\u001b[1;33m\u001b[0m\u001b[1;33m\u001b[0m\u001b[0m\n",
      "\u001b[1;32mc:\\python3\\lib\\site-packages\\sklearn\\utils\\validation.py\u001b[0m in \u001b[0;36minner_f\u001b[1;34m(*args, **kwargs)\u001b[0m\n\u001b[0;32m     61\u001b[0m             \u001b[0mextra_args\u001b[0m \u001b[1;33m=\u001b[0m \u001b[0mlen\u001b[0m\u001b[1;33m(\u001b[0m\u001b[0margs\u001b[0m\u001b[1;33m)\u001b[0m \u001b[1;33m-\u001b[0m \u001b[0mlen\u001b[0m\u001b[1;33m(\u001b[0m\u001b[0mall_args\u001b[0m\u001b[1;33m)\u001b[0m\u001b[1;33m\u001b[0m\u001b[1;33m\u001b[0m\u001b[0m\n\u001b[0;32m     62\u001b[0m             \u001b[1;32mif\u001b[0m \u001b[0mextra_args\u001b[0m \u001b[1;33m<=\u001b[0m \u001b[1;36m0\u001b[0m\u001b[1;33m:\u001b[0m\u001b[1;33m\u001b[0m\u001b[1;33m\u001b[0m\u001b[0m\n\u001b[1;32m---> 63\u001b[1;33m                 \u001b[1;32mreturn\u001b[0m \u001b[0mf\u001b[0m\u001b[1;33m(\u001b[0m\u001b[1;33m*\u001b[0m\u001b[0margs\u001b[0m\u001b[1;33m,\u001b[0m \u001b[1;33m**\u001b[0m\u001b[0mkwargs\u001b[0m\u001b[1;33m)\u001b[0m\u001b[1;33m\u001b[0m\u001b[1;33m\u001b[0m\u001b[0m\n\u001b[0m\u001b[0;32m     64\u001b[0m \u001b[1;33m\u001b[0m\u001b[0m\n\u001b[0;32m     65\u001b[0m             \u001b[1;31m# extra_args > 0\u001b[0m\u001b[1;33m\u001b[0m\u001b[1;33m\u001b[0m\u001b[1;33m\u001b[0m\u001b[0m\n",
      "\u001b[1;32mc:\\python3\\lib\\site-packages\\sklearn\\utils\\validation.py\u001b[0m in \u001b[0;36mcheck_is_fitted\u001b[1;34m(estimator, attributes, msg, all_or_any)\u001b[0m\n\u001b[0;32m   1096\u001b[0m \u001b[1;33m\u001b[0m\u001b[0m\n\u001b[0;32m   1097\u001b[0m     \u001b[1;32mif\u001b[0m \u001b[1;32mnot\u001b[0m \u001b[0mattrs\u001b[0m\u001b[1;33m:\u001b[0m\u001b[1;33m\u001b[0m\u001b[1;33m\u001b[0m\u001b[0m\n\u001b[1;32m-> 1098\u001b[1;33m         \u001b[1;32mraise\u001b[0m \u001b[0mNotFittedError\u001b[0m\u001b[1;33m(\u001b[0m\u001b[0mmsg\u001b[0m \u001b[1;33m%\u001b[0m \u001b[1;33m{\u001b[0m\u001b[1;34m'name'\u001b[0m\u001b[1;33m:\u001b[0m \u001b[0mtype\u001b[0m\u001b[1;33m(\u001b[0m\u001b[0mestimator\u001b[0m\u001b[1;33m)\u001b[0m\u001b[1;33m.\u001b[0m\u001b[0m__name__\u001b[0m\u001b[1;33m}\u001b[0m\u001b[1;33m)\u001b[0m\u001b[1;33m\u001b[0m\u001b[1;33m\u001b[0m\u001b[0m\n\u001b[0m\u001b[0;32m   1099\u001b[0m \u001b[1;33m\u001b[0m\u001b[0m\n\u001b[0;32m   1100\u001b[0m \u001b[1;33m\u001b[0m\u001b[0m\n",
      "\u001b[1;31mNotFittedError\u001b[0m: This DecisionTreeClassifier instance is not fitted yet. Call 'fit' with appropriate arguments before using this estimator."
     ]
    },
    {
     "data": {
      "application/javascript": [
       "\n",
       "            setTimeout(function() {\n",
       "                var nbb_cell_id = 74;\n",
       "                var nbb_unformatted_code = \"score_DT = []\\nfor i in range(1,9):\\n dTree = DecisionTreeClassifier(max_depth=i,criterion = 'gini', random_state=1)\\n dTree.fit(X_train, y_train)\\n pred = dTree.predict(X_train)\\n case = {'Depth':i,'Recall':recall_score(y_train,pred)}\\n score_DT.append(case)\";\n",
       "                var nbb_formatted_code = \"score_DT = []\\nfor i in range(1, 9):\\n    dTree = DecisionTreeClassifier(max_depth=i, criterion=\\\"gini\\\", random_state=1)\\n    dTree.fit(X_train, y_train)\\n    pred = dTree.predict(X_train)\\n    case = {\\\"Depth\\\": i, \\\"Recall\\\": recall_score(y_train, pred)}\\n    score_DT.append(case)\";\n",
       "                var nbb_cells = Jupyter.notebook.get_cells();\n",
       "                for (var i = 0; i < nbb_cells.length; ++i) {\n",
       "                    if (nbb_cells[i].input_prompt_number == nbb_cell_id) {\n",
       "                        if (nbb_cells[i].get_text() == nbb_unformatted_code) {\n",
       "                             nbb_cells[i].set_text(nbb_formatted_code);\n",
       "                        }\n",
       "                        break;\n",
       "                    }\n",
       "                }\n",
       "            }, 500);\n",
       "            "
      ],
      "text/plain": [
       "<IPython.core.display.Javascript object>"
      ]
     },
     "metadata": {},
     "output_type": "display_data"
    }
   ],
   "source": [
    "score_DT = []\n",
    "for i in range(1,9):\n",
    " dTree = DecisionTreeClassifier(max_depth=i,criterion = 'gini', random_state=1)\n",
    " dTree.fit(X_train, y_train)\n",
    " pred = dTree1.predict(X_train)\n",
    " case = {'Depth':i,'Recall':recall_score(y_train,pred)}\n",
    " score_DT.append(case)"
   ]
  },
  {
   "cell_type": "code",
   "execution_count": null,
   "id": "fbec9192-95b6-41f8-813b-c357669b460f",
   "metadata": {},
   "outputs": [],
   "source": [
    "\n"
   ]
  },
  {
   "cell_type": "code",
   "execution_count": null,
   "id": "2439cccb-e238-4dc3-bae4-8ef546298b27",
   "metadata": {},
   "outputs": [],
   "source": []
  },
  {
   "cell_type": "code",
   "execution_count": null,
   "id": "3cc450c5-baf4-46c6-94da-b7ab4fd424b9",
   "metadata": {},
   "outputs": [],
   "source": []
  },
  {
   "cell_type": "code",
   "execution_count": null,
   "id": "837969bb-51fa-40e8-b392-ec7d08e5b7d8",
   "metadata": {},
   "outputs": [],
   "source": []
  },
  {
   "cell_type": "code",
   "execution_count": null,
   "id": "ca5df7de-dbc5-411e-9dd7-61014bb284b6",
   "metadata": {},
   "outputs": [],
   "source": []
  },
  {
   "cell_type": "code",
   "execution_count": null,
   "id": "901b25db-9852-47c0-8032-d57d858224ea",
   "metadata": {},
   "outputs": [],
   "source": [
    "\n",
    "\n"
   ]
  },
  {
   "cell_type": "code",
   "execution_count": null,
   "id": "12e9003f-8f15-404b-8249-e1410d648f40",
   "metadata": {},
   "outputs": [],
   "source": [
    "# importance of features in the tree building ( The importance of a feature is computed as the \n",
    "#(normalized) total reduction of the criterion brought by that feature. It is also known as the Gini importance )\n",
    "\n",
    "print (pd.DataFrame(dTree.feature_importances_, columns = [\"Imp\"], index = X_train.columns).sort_values(by = 'Imp', ascending = False))"
   ]
  },
  {
   "cell_type": "code",
   "execution_count": null,
   "id": "b3d8cc07-c882-4693-a9aa-e30c6b199179",
   "metadata": {},
   "outputs": [],
   "source": [
    "\n",
    "importances = dTree.feature_importances_\n",
    "indices = np.argsort(importances)\n",
    "\n",
    "plt.figure(figsize=(12,12))\n",
    "plt.title('Feature Importances')\n",
    "plt.barh(range(len(indices)), importances[indices], color='violet', align='center')\n",
    "plt.yticks(range(len(indices)), [feature_names[i] for i in indices])\n",
    "plt.xlabel('Relative Importance')\n",
    "plt.show()"
   ]
  },
  {
   "cell_type": "code",
   "execution_count": null,
   "id": "80a4f18c-ddc7-4f5e-8ba3-4db219eaab21",
   "metadata": {},
   "outputs": [],
   "source": [
    "from sklearn.model_selection import GridSearchCV"
   ]
  },
  {
   "cell_type": "code",
   "execution_count": null,
   "id": "5b8e3f81-3f35-4384-959a-ebab0d4c5a85",
   "metadata": {},
   "outputs": [],
   "source": [
    "\n",
    "# Choose the type of classifier. \n",
    "estimator = DecisionTreeClassifier(random_state=1)\n",
    "\n",
    "# Grid of parameters to choose from\n",
    "## add from article\n",
    "parameters = {'max_depth': [5,10,15, None], \n",
    "              'criterion': ['gini','entropy'],\n",
    "              'splitter': ['best','random']             \n",
    "             }\n",
    "\n",
    "# Type of scoring used to compare parameter combinations\n",
    "acc_scorer = metrics.make_scorer(metrics.recall_score)\n",
    "\n",
    "# Run the grid search\n",
    "grid_obj = GridSearchCV(estimator, parameters, scoring=recall,cv=3)\n",
    "grid_obj = grid_obj.fit(X_train, y_train)\n",
    "\n",
    "# Set the clf to the best combination of parameters\n",
    "estimator = grid_obj.best_estimator_\n",
    "\n",
    "# Fit the best algorithm to the data. \n",
    "estimator.fit(X_train, y_train)"
   ]
  },
  {
   "cell_type": "code",
   "execution_count": null,
   "id": "898dbc49-a4bd-4e1b-a446-bb1c036f8403",
   "metadata": {},
   "outputs": [],
   "source": []
  }
 ],
 "metadata": {
  "kernelspec": {
   "display_name": "Python 3",
   "language": "python",
   "name": "python3"
  },
  "language_info": {
   "codemirror_mode": {
    "name": "ipython",
    "version": 3
   },
   "file_extension": ".py",
   "mimetype": "text/x-python",
   "name": "python",
   "nbconvert_exporter": "python",
   "pygments_lexer": "ipython3",
   "version": "3.8.1"
  }
 },
 "nbformat": 4,
 "nbformat_minor": 5
}
