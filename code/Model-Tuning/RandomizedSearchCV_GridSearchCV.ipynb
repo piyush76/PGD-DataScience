{
 "cells": [
  {
   "cell_type": "code",
   "execution_count": null,
   "metadata": {
    "colab": {},
    "colab_type": "code",
    "id": "iWuzCQLW3wXF"
   },
   "outputs": [],
   "source": [
    "%matplotlib inline"
   ]
  },
  {
   "cell_type": "code",
   "execution_count": 3,
   "metadata": {
    "colab": {},
    "colab_type": "code",
    "id": "p2MVdy__3wXM"
   },
   "outputs": [],
   "source": [
    "import numpy as np\n",
    "from time import time\n",
    "from scipy.stats import randint as sp_randint\n",
    "from sklearn.model_selection import GridSearchCV\n",
    "from sklearn.model_selection import RandomizedSearchCV\n",
    "from sklearn.datasets import load_digits\n",
    "from sklearn.ensemble import RandomForestClassifier"
   ]
  },
  {
   "cell_type": "code",
   "execution_count": 4,
   "metadata": {
    "colab": {},
    "colab_type": "code",
    "id": "bfdKxeQF3wXR"
   },
   "outputs": [],
   "source": [
    "# get data\n",
    "digits = load_digits()  # Source : http://archive.ics.uci.edu/ml/datasets/Pen-Based+Recognition+of+Handwritten+Digits\n",
    "X, y = digits.data, digits.target"
   ]
  },
  {
   "cell_type": "code",
   "execution_count": 5,
   "metadata": {
    "colab": {},
    "colab_type": "code",
    "id": "EDAhL7Yc3wXY"
   },
   "outputs": [],
   "source": [
    "# build a classifier\n",
    "clf = RandomForestClassifier(n_estimators=50)"
   ]
  },
  {
   "cell_type": "code",
   "execution_count": 6,
   "metadata": {
    "colab": {},
    "colab_type": "code",
    "id": "wY-kKYFd3wXb"
   },
   "outputs": [],
   "source": [
    "# specify parameters and distributions to sample from\n",
    "param_dist = {\"max_depth\": [3, None],\n",
    "              \"max_features\": sp_randint(1, 11),\n",
    "              \"min_samples_split\": sp_randint(2, 11),\n",
    "              \"min_samples_leaf\": sp_randint(1, 11),\n",
    "              \"bootstrap\": [True, False],\n",
    "              \"criterion\": [\"gini\", \"entropy\"]}"
   ]
  },
  {
   "cell_type": "code",
   "execution_count": 7,
   "metadata": {
    "colab": {},
    "colab_type": "code",
    "id": "HsdZfVy43wXe"
   },
   "outputs": [],
   "source": [
    "# run randomized search\n",
    "samples = 10  # number of random samples \n",
    "randomCV = RandomizedSearchCV(clf, param_distributions=param_dist, n_iter=samples) #default cv = 3"
   ]
  },
  {
   "cell_type": "code",
   "execution_count": 8,
   "metadata": {
    "colab": {},
    "colab_type": "code",
    "id": "FnDYMJxz3wXi",
    "outputId": "c6ac3a88-6eb7-4cc8-a241-82d89b7d4307"
   },
   "outputs": [
    {
     "name": "stdout",
     "output_type": "stream",
     "text": [
      "{'bootstrap': True, 'criterion': 'entropy', 'max_depth': None, 'max_features': 6, 'min_samples_leaf': 1, 'min_samples_split': 3}\n"
     ]
    }
   ],
   "source": [
    "randomCV.fit(X, y)\n",
    "\n",
    " \n",
    "print(randomCV.best_params_)\n"
   ]
  },
  {
   "cell_type": "code",
   "execution_count": 9,
   "metadata": {
    "colab": {},
    "colab_type": "code",
    "id": "BYAjFmNl3wXm"
   },
   "outputs": [],
   "source": [
    "# use a full grid over all parameters\n",
    "param_grid = {\"max_depth\": [3, None],\n",
    "              \"max_features\": [1, 3, 10],\n",
    "              \"min_samples_split\": [2, 3, 10],\n",
    "              \"min_samples_leaf\": [1, 3, 10],\n",
    "              \"bootstrap\": [True, False],\n",
    "              \"criterion\": [\"gini\", \"entropy\"]}"
   ]
  },
  {
   "cell_type": "code",
   "execution_count": 10,
   "metadata": {
    "colab": {},
    "colab_type": "code",
    "id": "flbwV9CY3wXp",
    "outputId": "27b96b5b-4368-4fe6-c1c1-8d7213324915"
   },
   "outputs": [
    {
     "data": {
      "text/plain": [
       "GridSearchCV(estimator=RandomForestClassifier(n_estimators=50),\n",
       "             param_grid={'bootstrap': [True, False],\n",
       "                         'criterion': ['gini', 'entropy'],\n",
       "                         'max_depth': [3, None], 'max_features': [1, 3, 10],\n",
       "                         'min_samples_leaf': [1, 3, 10],\n",
       "                         'min_samples_split': [2, 3, 10]})"
      ]
     },
     "execution_count": 10,
     "metadata": {},
     "output_type": "execute_result"
    }
   ],
   "source": [
    "# run grid search\n",
    "grid_search = GridSearchCV(clf, param_grid=param_grid)\n",
    "start = time()\n",
    "grid_search.fit(X, y)"
   ]
  },
  {
   "cell_type": "code",
   "execution_count": 11,
   "metadata": {
    "colab": {},
    "colab_type": "code",
    "id": "VexE_JsR3wXs",
    "outputId": "3f6a08ba-ffa7-4b89-9f38-1262abb69f15"
   },
   "outputs": [
    {
     "data": {
      "text/plain": [
       "{'bootstrap': False,\n",
       " 'criterion': 'gini',\n",
       " 'max_depth': None,\n",
       " 'max_features': 3,\n",
       " 'min_samples_leaf': 1,\n",
       " 'min_samples_split': 2}"
      ]
     },
     "execution_count": 11,
     "metadata": {},
     "output_type": "execute_result"
    }
   ],
   "source": [
    "grid_search.best_params_"
   ]
  },
  {
   "cell_type": "code",
   "execution_count": 12,
   "metadata": {
    "colab": {},
    "colab_type": "code",
    "id": "_EjiJe6E3wXv",
    "outputId": "9854d20b-c116-4c6a-bf22-97e1d46c64b1"
   },
   "outputs": [
    {
     "data": {
      "text/plain": [
       "array([0.81080161, 0.82470597, 0.80245435, 0.82248994, 0.81360724,\n",
       "       0.81528319, 0.80527391, 0.81081399, 0.8041303 , 0.85923244,\n",
       "       0.8325147 , 0.83808883, 0.84363355, 0.84697617, 0.81802847,\n",
       "       0.8397493 , 0.8336026 , 0.82970443, 0.84140669, 0.81805788,\n",
       "       0.81915042, 0.83418292, 0.81969669, 0.8135701 , 0.81915506,\n",
       "       0.82806716, 0.81581708, 0.9232281 , 0.93211235, 0.92488703,\n",
       "       0.91153668, 0.91486846, 0.91877283, 0.88203033, 0.88035902,\n",
       "       0.86367069, 0.93546271, 0.93213401, 0.92545032, 0.91988084,\n",
       "       0.92822656, 0.92655834, 0.90318013, 0.90374342, 0.9026416 ,\n",
       "       0.93935469, 0.93657691, 0.92601362, 0.93212318, 0.92266171,\n",
       "       0.91988703, 0.91042556, 0.90375735, 0.90597493, 0.81860724,\n",
       "       0.81749304, 0.81191582, 0.80966574, 0.79801919, 0.82806407,\n",
       "       0.81582173, 0.81359331, 0.81025379, 0.84865831, 0.83249923,\n",
       "       0.84253172, 0.8291628 , 0.83863665, 0.82028474, 0.83584803,\n",
       "       0.84587898, 0.848632  , 0.81415197, 0.84808728, 0.81861653,\n",
       "       0.82971835, 0.82360105, 0.82193439, 0.83304704, 0.83361188,\n",
       "       0.82194058, 0.92545187, 0.92433612, 0.92099969, 0.91041318,\n",
       "       0.90096719, 0.89930207, 0.88647632, 0.88592851, 0.88704735,\n",
       "       0.94324977, 0.93824513, 0.92544413, 0.92044259, 0.92376818,\n",
       "       0.91653513, 0.90820644, 0.90763386, 0.90932683, 0.93491334,\n",
       "       0.93490251, 0.93101207, 0.92489013, 0.92879294, 0.92601052,\n",
       "       0.90042092, 0.90652739, 0.90597648, 0.82363355, 0.8141628 ,\n",
       "       0.7991334 , 0.82861034, 0.80744971, 0.82750696, 0.82250851,\n",
       "       0.81635252, 0.79078459, 0.83529248, 0.83808109, 0.8430749 ,\n",
       "       0.84586041, 0.84363665, 0.83251315, 0.83417054, 0.825277  ,\n",
       "       0.83752399, 0.82137574, 0.81524296, 0.80747447, 0.80579542,\n",
       "       0.81191117, 0.80634169, 0.80912721, 0.81079387, 0.81691891,\n",
       "       0.93045497, 0.93267409, 0.93324667, 0.91988394, 0.92155834,\n",
       "       0.91876664, 0.89483596, 0.89984061, 0.88815382, 0.94492417,\n",
       "       0.94492108, 0.93379294, 0.93768028, 0.93713401, 0.93601052,\n",
       "       0.9204333 , 0.91986846, 0.91653668, 0.93880223, 0.93212628,\n",
       "       0.93268647, 0.92879759, 0.93046271, 0.93379604, 0.90764469,\n",
       "       0.91988858, 0.90876973, 0.79690344, 0.82971216, 0.81358867,\n",
       "       0.80859641, 0.82137728, 0.80079542, 0.82804859, 0.80413959,\n",
       "       0.80635716, 0.83140669, 0.84529557, 0.82469978, 0.82527391,\n",
       "       0.83974776, 0.8174822 , 0.82749923, 0.8258403 , 0.84419994,\n",
       "       0.80357474, 0.82804085, 0.81581554, 0.82083565, 0.82973228,\n",
       "       0.82581244, 0.80690963, 0.82807954, 0.82472454, 0.93045652,\n",
       "       0.92712937, 0.93434695, 0.91599814, 0.91042402, 0.91653203,\n",
       "       0.88926648, 0.8954039 , 0.89985608, 0.94381616, 0.93713556,\n",
       "       0.93768338, 0.93991798, 0.93157382, 0.93490096, 0.91432064,\n",
       "       0.91598886, 0.91988858, 0.94103064, 0.93992262, 0.93379759,\n",
       "       0.93769421, 0.92489322, 0.93046116, 0.91487929, 0.91821418,\n",
       "       0.91209842])"
      ]
     },
     "execution_count": 12,
     "metadata": {},
     "output_type": "execute_result"
    }
   ],
   "source": [
    "grid_search.cv_results_['mean_test_score']"
   ]
  },
  {
   "cell_type": "code",
   "execution_count": null,
   "metadata": {
    "colab": {},
    "colab_type": "code",
    "id": "Qn-_f2f-3wXy",
    "outputId": "7fe5efb0-7143-49d3-e4d9-630aa0c833c7"
   },
   "outputs": [
    {
     "data": {
      "text/plain": [
       "RandomForestClassifier(bootstrap=False, class_weight=None, criterion='gini',\n",
       "            max_depth=None, max_features=3, max_leaf_nodes=None,\n",
       "            min_impurity_decrease=0.0, min_impurity_split=None,\n",
       "            min_samples_leaf=1, min_samples_split=3,\n",
       "            min_weight_fraction_leaf=0.0, n_estimators=50, n_jobs=None,\n",
       "            oob_score=False, random_state=None, verbose=0,\n",
       "            warm_start=False)"
      ]
     },
     "execution_count": 14,
     "metadata": {
      "tags": []
     },
     "output_type": "execute_result"
    }
   ],
   "source": [
    "grid_search.best_estimator_"
   ]
  },
  {
   "cell_type": "code",
   "execution_count": null,
   "metadata": {
    "colab": {},
    "colab_type": "code",
    "id": "W7oP6_oS3wX0"
   },
   "outputs": [],
   "source": []
  }
 ],
 "metadata": {
  "colab": {
   "name": "RandomizedSearchCV_GridSearchCV.ipynb",
   "provenance": [],
   "version": "0.3.2"
  },
  "kernelspec": {
   "display_name": "Python 3",
   "language": "python",
   "name": "python3"
  },
  "language_info": {
   "codemirror_mode": {
    "name": "ipython",
    "version": 3
   },
   "file_extension": ".py",
   "mimetype": "text/x-python",
   "name": "python",
   "nbconvert_exporter": "python",
   "pygments_lexer": "ipython3",
   "version": "3.8.8"
  }
 },
 "nbformat": 4,
 "nbformat_minor": 4
}
