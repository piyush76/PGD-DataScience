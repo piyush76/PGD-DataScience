{
 "cells": [
  {
   "cell_type": "code",
   "execution_count": 1,
   "id": "cb92306a-9db0-4f3b-87aa-ef61b611fa01",
   "metadata": {},
   "outputs": [],
   "source": [
    "# Library to suppress warnings or deprecation notes \n",
    "import warnings\n",
    "warnings.filterwarnings('ignore')"
   ]
  },
  {
   "cell_type": "code",
   "execution_count": 2,
   "id": "20496664-6997-4a5e-8fa0-b85f89407851",
   "metadata": {},
   "outputs": [],
   "source": [
    "# Libraries to help with reading and manipulating data\n",
    "import pandas as pd\n",
    "import numpy as np\n",
    "import matplotlib.pyplot as plt\n",
    "\n",
    "# Libraries to help with data visualization\n",
    "import seaborn as sns\n",
    "import matplotlib.pyplot as plt\n",
    "%matplotlib inline"
   ]
  },
  {
   "cell_type": "code",
   "execution_count": 4,
   "id": "81765b6d-f798-4475-b23d-c4d5f4356bbb",
   "metadata": {},
   "outputs": [],
   "source": [
    "# Reading the CSV data file\n",
    "book_data = pd.read_csv('../data/prog_book.csv')\n",
    "\n"
   ]
  },
  {
   "cell_type": "code",
   "execution_count": 5,
   "id": "6a05d8b3-006a-40de-af62-7fe255c0ef3e",
   "metadata": {},
   "outputs": [
    {
     "data": {
      "text/html": [
       "<div>\n",
       "<style scoped>\n",
       "    .dataframe tbody tr th:only-of-type {\n",
       "        vertical-align: middle;\n",
       "    }\n",
       "\n",
       "    .dataframe tbody tr th {\n",
       "        vertical-align: top;\n",
       "    }\n",
       "\n",
       "    .dataframe thead th {\n",
       "        text-align: right;\n",
       "    }\n",
       "</style>\n",
       "<table border=\"1\" class=\"dataframe\">\n",
       "  <thead>\n",
       "    <tr style=\"text-align: right;\">\n",
       "      <th></th>\n",
       "      <th>Rating</th>\n",
       "      <th>Reviews</th>\n",
       "      <th>Book_title</th>\n",
       "      <th>Description</th>\n",
       "      <th>Number_Of_Pages</th>\n",
       "      <th>Type</th>\n",
       "      <th>Price</th>\n",
       "    </tr>\n",
       "  </thead>\n",
       "  <tbody>\n",
       "    <tr>\n",
       "      <th>0</th>\n",
       "      <td>4.17</td>\n",
       "      <td>3,829</td>\n",
       "      <td>The Elements of Style</td>\n",
       "      <td>This style manual offers practical advice on i...</td>\n",
       "      <td>105</td>\n",
       "      <td>Hardcover</td>\n",
       "      <td>9.323529</td>\n",
       "    </tr>\n",
       "    <tr>\n",
       "      <th>1</th>\n",
       "      <td>4.01</td>\n",
       "      <td>1,406</td>\n",
       "      <td>The Information: A History, a Theory, a Flood</td>\n",
       "      <td>James Gleick, the author of the best sellers C...</td>\n",
       "      <td>527</td>\n",
       "      <td>Hardcover</td>\n",
       "      <td>11.000000</td>\n",
       "    </tr>\n",
       "    <tr>\n",
       "      <th>2</th>\n",
       "      <td>3.33</td>\n",
       "      <td>0</td>\n",
       "      <td>Responsive Web Design Overview For Beginners</td>\n",
       "      <td>In Responsive Web Design Overview For Beginner...</td>\n",
       "      <td>50</td>\n",
       "      <td>Kindle Edition</td>\n",
       "      <td>11.267647</td>\n",
       "    </tr>\n",
       "    <tr>\n",
       "      <th>3</th>\n",
       "      <td>3.97</td>\n",
       "      <td>1,658</td>\n",
       "      <td>Ghost in the Wires: My Adventures as the World...</td>\n",
       "      <td>If they were a hall of fame or shame for compu...</td>\n",
       "      <td>393</td>\n",
       "      <td>Hardcover</td>\n",
       "      <td>12.873529</td>\n",
       "    </tr>\n",
       "    <tr>\n",
       "      <th>4</th>\n",
       "      <td>4.06</td>\n",
       "      <td>1,325</td>\n",
       "      <td>How Google Works</td>\n",
       "      <td>Both Eric Schmidt and Jonathan Rosenberg came ...</td>\n",
       "      <td>305</td>\n",
       "      <td>Kindle Edition</td>\n",
       "      <td>13.164706</td>\n",
       "    </tr>\n",
       "  </tbody>\n",
       "</table>\n",
       "</div>"
      ],
      "text/plain": [
       "   Rating Reviews                                         Book_title  \\\n",
       "0    4.17   3,829                              The Elements of Style   \n",
       "1    4.01   1,406      The Information: A History, a Theory, a Flood   \n",
       "2    3.33       0       Responsive Web Design Overview For Beginners   \n",
       "3    3.97   1,658  Ghost in the Wires: My Adventures as the World...   \n",
       "4    4.06   1,325                                   How Google Works   \n",
       "\n",
       "                                         Description  Number_Of_Pages  \\\n",
       "0  This style manual offers practical advice on i...              105   \n",
       "1  James Gleick, the author of the best sellers C...              527   \n",
       "2  In Responsive Web Design Overview For Beginner...               50   \n",
       "3  If they were a hall of fame or shame for compu...              393   \n",
       "4  Both Eric Schmidt and Jonathan Rosenberg came ...              305   \n",
       "\n",
       "             Type      Price  \n",
       "0       Hardcover   9.323529  \n",
       "1       Hardcover  11.000000  \n",
       "2  Kindle Edition  11.267647  \n",
       "3       Hardcover  12.873529  \n",
       "4  Kindle Edition  13.164706  "
      ]
     },
     "execution_count": 5,
     "metadata": {},
     "output_type": "execute_result"
    }
   ],
   "source": [
    "book_data.head(5)"
   ]
  },
  {
   "cell_type": "code",
   "execution_count": 8,
   "id": "7e0c67fc-0419-41af-908a-fce50cb9091b",
   "metadata": {},
   "outputs": [
    {
     "data": {
      "text/html": [
       "<div>\n",
       "<style scoped>\n",
       "    .dataframe tbody tr th:only-of-type {\n",
       "        vertical-align: middle;\n",
       "    }\n",
       "\n",
       "    .dataframe tbody tr th {\n",
       "        vertical-align: top;\n",
       "    }\n",
       "\n",
       "    .dataframe thead th {\n",
       "        text-align: right;\n",
       "    }\n",
       "</style>\n",
       "<table border=\"1\" class=\"dataframe\">\n",
       "  <thead>\n",
       "    <tr style=\"text-align: right;\">\n",
       "      <th></th>\n",
       "      <th>Rating</th>\n",
       "      <th>Reviews</th>\n",
       "      <th>Book_title</th>\n",
       "      <th>Description</th>\n",
       "      <th>Number_Of_Pages</th>\n",
       "      <th>Type</th>\n",
       "      <th>Price</th>\n",
       "    </tr>\n",
       "  </thead>\n",
       "  <tbody>\n",
       "    <tr>\n",
       "      <th>266</th>\n",
       "      <td>3.76</td>\n",
       "      <td>0</td>\n",
       "      <td>3D Game Engine Architecture: Engineering Real-...</td>\n",
       "      <td>Dave Eberly's 3D Game Engine Design was the fi...</td>\n",
       "      <td>752</td>\n",
       "      <td>Hardcover</td>\n",
       "      <td>203.108823</td>\n",
       "    </tr>\n",
       "    <tr>\n",
       "      <th>267</th>\n",
       "      <td>3.94</td>\n",
       "      <td>22</td>\n",
       "      <td>An Introduction to Database Systems</td>\n",
       "      <td>Continuing in the eighth edition, An Introduct...</td>\n",
       "      <td>1040</td>\n",
       "      <td>Paperback</td>\n",
       "      <td>212.097059</td>\n",
       "    </tr>\n",
       "    <tr>\n",
       "      <th>268</th>\n",
       "      <td>4.49</td>\n",
       "      <td>36</td>\n",
       "      <td>The Art of Computer Programming, Volumes 1-3 B...</td>\n",
       "      <td>Knuth's classic work has been widely acclaimed...</td>\n",
       "      <td>896</td>\n",
       "      <td>Boxed Set - Hardcover</td>\n",
       "      <td>220.385294</td>\n",
       "    </tr>\n",
       "    <tr>\n",
       "      <th>269</th>\n",
       "      <td>4.77</td>\n",
       "      <td>4</td>\n",
       "      <td>The Art of Computer Programming, Volumes 1-4a ...</td>\n",
       "      <td>\"The bible of all fundamental algorithms and t...</td>\n",
       "      <td>3168</td>\n",
       "      <td>Hardcover</td>\n",
       "      <td>220.385294</td>\n",
       "    </tr>\n",
       "    <tr>\n",
       "      <th>270</th>\n",
       "      <td>3.84</td>\n",
       "      <td>5</td>\n",
       "      <td>A Discipline for Software Engineering</td>\n",
       "      <td>Designed to help individual programmers develo...</td>\n",
       "      <td>789</td>\n",
       "      <td>Hardcover</td>\n",
       "      <td>235.650000</td>\n",
       "    </tr>\n",
       "  </tbody>\n",
       "</table>\n",
       "</div>"
      ],
      "text/plain": [
       "     Rating Reviews                                         Book_title  \\\n",
       "266    3.76       0  3D Game Engine Architecture: Engineering Real-...   \n",
       "267    3.94      22                An Introduction to Database Systems   \n",
       "268    4.49      36  The Art of Computer Programming, Volumes 1-3 B...   \n",
       "269    4.77       4  The Art of Computer Programming, Volumes 1-4a ...   \n",
       "270    3.84       5              A Discipline for Software Engineering   \n",
       "\n",
       "                                           Description  Number_Of_Pages  \\\n",
       "266  Dave Eberly's 3D Game Engine Design was the fi...              752   \n",
       "267  Continuing in the eighth edition, An Introduct...             1040   \n",
       "268  Knuth's classic work has been widely acclaimed...              896   \n",
       "269  \"The bible of all fundamental algorithms and t...             3168   \n",
       "270  Designed to help individual programmers develo...              789   \n",
       "\n",
       "                      Type       Price  \n",
       "266              Hardcover  203.108823  \n",
       "267              Paperback  212.097059  \n",
       "268  Boxed Set - Hardcover  220.385294  \n",
       "269              Hardcover  220.385294  \n",
       "270              Hardcover  235.650000  "
      ]
     },
     "execution_count": 8,
     "metadata": {},
     "output_type": "execute_result"
    }
   ],
   "source": [
    "\n",
    "book_data.tail()\n"
   ]
  },
  {
   "cell_type": "code",
   "execution_count": 83,
   "id": "aa9c61cb-66f7-404e-9be4-47d8b0b95c0d",
   "metadata": {},
   "outputs": [
    {
     "data": {
      "text/html": [
       "<div>\n",
       "<style scoped>\n",
       "    .dataframe tbody tr th:only-of-type {\n",
       "        vertical-align: middle;\n",
       "    }\n",
       "\n",
       "    .dataframe tbody tr th {\n",
       "        vertical-align: top;\n",
       "    }\n",
       "\n",
       "    .dataframe thead th {\n",
       "        text-align: right;\n",
       "    }\n",
       "</style>\n",
       "<table border=\"1\" class=\"dataframe\">\n",
       "  <thead>\n",
       "    <tr style=\"text-align: right;\">\n",
       "      <th></th>\n",
       "      <th>Rating</th>\n",
       "      <th>Number_Of_Pages</th>\n",
       "      <th>Price</th>\n",
       "    </tr>\n",
       "  </thead>\n",
       "  <tbody>\n",
       "    <tr>\n",
       "      <th>count</th>\n",
       "      <td>271.000000</td>\n",
       "      <td>271.000000</td>\n",
       "      <td>271.000000</td>\n",
       "    </tr>\n",
       "    <tr>\n",
       "      <th>mean</th>\n",
       "      <td>4.067417</td>\n",
       "      <td>475.077491</td>\n",
       "      <td>54.541860</td>\n",
       "    </tr>\n",
       "    <tr>\n",
       "      <th>std</th>\n",
       "      <td>0.290749</td>\n",
       "      <td>306.147492</td>\n",
       "      <td>35.711485</td>\n",
       "    </tr>\n",
       "    <tr>\n",
       "      <th>min</th>\n",
       "      <td>3.000000</td>\n",
       "      <td>50.000000</td>\n",
       "      <td>9.323529</td>\n",
       "    </tr>\n",
       "    <tr>\n",
       "      <th>25%</th>\n",
       "      <td>3.915000</td>\n",
       "      <td>289.000000</td>\n",
       "      <td>30.751471</td>\n",
       "    </tr>\n",
       "    <tr>\n",
       "      <th>50%</th>\n",
       "      <td>4.100000</td>\n",
       "      <td>384.000000</td>\n",
       "      <td>46.317647</td>\n",
       "    </tr>\n",
       "    <tr>\n",
       "      <th>75%</th>\n",
       "      <td>4.250000</td>\n",
       "      <td>572.500000</td>\n",
       "      <td>67.854412</td>\n",
       "    </tr>\n",
       "    <tr>\n",
       "      <th>max</th>\n",
       "      <td>5.000000</td>\n",
       "      <td>3168.000000</td>\n",
       "      <td>235.650000</td>\n",
       "    </tr>\n",
       "  </tbody>\n",
       "</table>\n",
       "</div>"
      ],
      "text/plain": [
       "           Rating  Number_Of_Pages       Price\n",
       "count  271.000000       271.000000  271.000000\n",
       "mean     4.067417       475.077491   54.541860\n",
       "std      0.290749       306.147492   35.711485\n",
       "min      3.000000        50.000000    9.323529\n",
       "25%      3.915000       289.000000   30.751471\n",
       "50%      4.100000       384.000000   46.317647\n",
       "75%      4.250000       572.500000   67.854412\n",
       "max      5.000000      3168.000000  235.650000"
      ]
     },
     "execution_count": 83,
     "metadata": {},
     "output_type": "execute_result"
    }
   ],
   "source": [
    "book_data.describe()"
   ]
  },
  {
   "cell_type": "code",
   "execution_count": 12,
   "id": "a80ce1e5-678e-42ff-b63c-ea6596c7bbe8",
   "metadata": {},
   "outputs": [],
   "source": [
    "bdata=book_data.copy()"
   ]
  },
  {
   "cell_type": "code",
   "execution_count": 13,
   "id": "0a23e385-c583-487e-aa4c-9e18824a0972",
   "metadata": {},
   "outputs": [
    {
     "data": {
      "text/plain": [
       "(271, 7)"
      ]
     },
     "execution_count": 13,
     "metadata": {},
     "output_type": "execute_result"
    }
   ],
   "source": [
    "bdata.shape"
   ]
  },
  {
   "cell_type": "code",
   "execution_count": 14,
   "id": "b44eaff1-b4ee-4c66-a833-9e9a35284396",
   "metadata": {},
   "outputs": [
    {
     "name": "stdout",
     "output_type": "stream",
     "text": [
      "<class 'pandas.core.frame.DataFrame'>\n",
      "RangeIndex: 271 entries, 0 to 270\n",
      "Data columns (total 7 columns):\n",
      " #   Column           Non-Null Count  Dtype  \n",
      "---  ------           --------------  -----  \n",
      " 0   Rating           271 non-null    float64\n",
      " 1   Reviews          271 non-null    object \n",
      " 2   Book_title       271 non-null    object \n",
      " 3   Description      271 non-null    object \n",
      " 4   Number_Of_Pages  271 non-null    int64  \n",
      " 5   Type             271 non-null    object \n",
      " 6   Price            271 non-null    float64\n",
      "dtypes: float64(2), int64(1), object(4)\n",
      "memory usage: 10.6+ KB\n"
     ]
    }
   ],
   "source": [
    "bdata.info()"
   ]
  },
  {
   "cell_type": "code",
   "execution_count": 128,
   "id": "90fb970e-2970-4e5e-abdb-30d77595d6eb",
   "metadata": {},
   "outputs": [
    {
     "data": {
      "text/plain": [
       "'ebook'"
      ]
     },
     "execution_count": 128,
     "metadata": {},
     "output_type": "execute_result"
    }
   ],
   "source": [
    "bdata['Type'].max()"
   ]
  },
  {
   "cell_type": "code",
   "execution_count": 43,
   "id": "ad19c563-e69c-48d8-a639-64015415a684",
   "metadata": {},
   "outputs": [
    {
     "data": {
      "text/html": [
       "<div>\n",
       "<style scoped>\n",
       "    .dataframe tbody tr th:only-of-type {\n",
       "        vertical-align: middle;\n",
       "    }\n",
       "\n",
       "    .dataframe tbody tr th {\n",
       "        vertical-align: top;\n",
       "    }\n",
       "\n",
       "    .dataframe thead th {\n",
       "        text-align: right;\n",
       "    }\n",
       "</style>\n",
       "<table border=\"1\" class=\"dataframe\">\n",
       "  <thead>\n",
       "    <tr style=\"text-align: right;\">\n",
       "      <th></th>\n",
       "      <th>index</th>\n",
       "      <th>Type</th>\n",
       "    </tr>\n",
       "  </thead>\n",
       "  <tbody>\n",
       "    <tr>\n",
       "      <th>0</th>\n",
       "      <td>Paperback</td>\n",
       "      <td>156</td>\n",
       "    </tr>\n",
       "    <tr>\n",
       "      <th>1</th>\n",
       "      <td>Hardcover</td>\n",
       "      <td>95</td>\n",
       "    </tr>\n",
       "    <tr>\n",
       "      <th>2</th>\n",
       "      <td>Kindle Edition</td>\n",
       "      <td>10</td>\n",
       "    </tr>\n",
       "    <tr>\n",
       "      <th>3</th>\n",
       "      <td>ebook</td>\n",
       "      <td>7</td>\n",
       "    </tr>\n",
       "    <tr>\n",
       "      <th>4</th>\n",
       "      <td>Unknown Binding</td>\n",
       "      <td>2</td>\n",
       "    </tr>\n",
       "    <tr>\n",
       "      <th>5</th>\n",
       "      <td>Boxed Set - Hardcover</td>\n",
       "      <td>1</td>\n",
       "    </tr>\n",
       "  </tbody>\n",
       "</table>\n",
       "</div>"
      ],
      "text/plain": [
       "                   index  Type\n",
       "0              Paperback   156\n",
       "1              Hardcover    95\n",
       "2         Kindle Edition    10\n",
       "3                  ebook     7\n",
       "4        Unknown Binding     2\n",
       "5  Boxed Set - Hardcover     1"
      ]
     },
     "execution_count": 43,
     "metadata": {},
     "output_type": "execute_result"
    }
   ],
   "source": [
    "bdata['Type'].value_counts().reset_index()"
   ]
  },
  {
   "cell_type": "code",
   "execution_count": 41,
   "id": "881b3f80-8236-4f52-ac41-8c9a5856eb00",
   "metadata": {},
   "outputs": [
    {
     "data": {
      "text/plain": [
       "4.1"
      ]
     },
     "execution_count": 41,
     "metadata": {},
     "output_type": "execute_result"
    }
   ],
   "source": [
    "bdata['Rating'].median()"
   ]
  },
  {
   "cell_type": "code",
   "execution_count": 45,
   "id": "f32a73f6-bdf2-4bea-8d04-8fc6af171311",
   "metadata": {},
   "outputs": [
    {
     "data": {
      "text/plain": [
       "4.067416974169742"
      ]
     },
     "execution_count": 45,
     "metadata": {},
     "output_type": "execute_result"
    }
   ],
   "source": [
    "bdata['Rating'].mean()"
   ]
  },
  {
   "cell_type": "code",
   "execution_count": 129,
   "id": "e2393927-5a03-4893-ade6-5a5c2348bafc",
   "metadata": {},
   "outputs": [
    {
     "data": {
      "text/plain": [
       "0    4.15\n",
       "dtype: float64"
      ]
     },
     "execution_count": 129,
     "metadata": {},
     "output_type": "execute_result"
    }
   ],
   "source": [
    "bdata['Rating'].mode()"
   ]
  },
  {
   "cell_type": "code",
   "execution_count": 131,
   "id": "a1edce12-e776-4a9e-8bdf-5afeb0440ece",
   "metadata": {},
   "outputs": [
    {
     "data": {
      "text/plain": [
       "4.15    9\n",
       "4.11    8\n",
       "4.00    7\n",
       "4.25    7\n",
       "4.23    7\n",
       "       ..\n",
       "3.20    1\n",
       "3.65    1\n",
       "3.38    1\n",
       "3.32    1\n",
       "3.90    1\n",
       "Name: Rating, Length: 94, dtype: int64"
      ]
     },
     "execution_count": 131,
     "metadata": {},
     "output_type": "execute_result"
    }
   ],
   "source": [
    "bdata['Rating'].value_counts()"
   ]
  },
  {
   "cell_type": "code",
   "execution_count": 150,
   "id": "804e90c7-be4b-43f0-9dfe-fcbc1f446701",
   "metadata": {},
   "outputs": [
    {
     "data": {
      "text/html": [
       "<div>\n",
       "<style scoped>\n",
       "    .dataframe tbody tr th:only-of-type {\n",
       "        vertical-align: middle;\n",
       "    }\n",
       "\n",
       "    .dataframe tbody tr th {\n",
       "        vertical-align: top;\n",
       "    }\n",
       "\n",
       "    .dataframe thead th {\n",
       "        text-align: right;\n",
       "    }\n",
       "</style>\n",
       "<table border=\"1\" class=\"dataframe\">\n",
       "  <thead>\n",
       "    <tr style=\"text-align: right;\">\n",
       "      <th></th>\n",
       "      <th>Rating</th>\n",
       "      <th>Reviews</th>\n",
       "      <th>Book_title</th>\n",
       "      <th>Description</th>\n",
       "      <th>Number_Of_Pages</th>\n",
       "      <th>Type</th>\n",
       "      <th>Price</th>\n",
       "    </tr>\n",
       "  </thead>\n",
       "  <tbody>\n",
       "    <tr>\n",
       "      <th>131</th>\n",
       "      <td>4.72</td>\n",
       "      <td>362</td>\n",
       "      <td>Designing Data-Intensive Applications: The Big...</td>\n",
       "      <td>Want to know how the best software engineers a...</td>\n",
       "      <td>616</td>\n",
       "      <td>Paperback</td>\n",
       "      <td>45.561765</td>\n",
       "    </tr>\n",
       "    <tr>\n",
       "      <th>194</th>\n",
       "      <td>4.67</td>\n",
       "      <td>78</td>\n",
       "      <td>Fluent Python: Clear, Concise, and Effective P...</td>\n",
       "      <td>Python's simplicity lets you become productive...</td>\n",
       "      <td>792</td>\n",
       "      <td>Paperback</td>\n",
       "      <td>64.091176</td>\n",
       "    </tr>\n",
       "    <tr>\n",
       "      <th>114</th>\n",
       "      <td>4.67</td>\n",
       "      <td>1</td>\n",
       "      <td>Build Web Applications with Java: Learn every ...</td>\n",
       "      <td>This book is primarily intended for beginners ...</td>\n",
       "      <td>372</td>\n",
       "      <td>Paperback</td>\n",
       "      <td>42.276471</td>\n",
       "    </tr>\n",
       "    <tr>\n",
       "      <th>9</th>\n",
       "      <td>4.62</td>\n",
       "      <td>0</td>\n",
       "      <td>ZX Spectrum Games Code Club: Twenty fun games ...</td>\n",
       "      <td>This book is ideal for ZX Spectrum fans and be...</td>\n",
       "      <td>128</td>\n",
       "      <td>Paperback</td>\n",
       "      <td>14.641176</td>\n",
       "    </tr>\n",
       "    <tr>\n",
       "      <th>198</th>\n",
       "      <td>4.58</td>\n",
       "      <td>58</td>\n",
       "      <td>CLR via C# (Developer Reference)</td>\n",
       "      <td>Dig deep and master the intricacies of the com...</td>\n",
       "      <td>863</td>\n",
       "      <td>Paperback</td>\n",
       "      <td>66.320588</td>\n",
       "    </tr>\n",
       "    <tr>\n",
       "      <th>...</th>\n",
       "      <td>...</td>\n",
       "      <td>...</td>\n",
       "      <td>...</td>\n",
       "      <td>...</td>\n",
       "      <td>...</td>\n",
       "      <td>...</td>\n",
       "      <td>...</td>\n",
       "    </tr>\n",
       "    <tr>\n",
       "      <th>86</th>\n",
       "      <td>3.22</td>\n",
       "      <td>2</td>\n",
       "      <td>Beginning Java 2</td>\n",
       "      <td>What is this book about? The Java language has...</td>\n",
       "      <td>1200</td>\n",
       "      <td>Paperback</td>\n",
       "      <td>36.617647</td>\n",
       "    </tr>\n",
       "    <tr>\n",
       "      <th>24</th>\n",
       "      <td>3.20</td>\n",
       "      <td>0</td>\n",
       "      <td>Game Programming Golden Rules</td>\n",
       "      <td>'Game Programming Golden Rules' provides indis...</td>\n",
       "      <td>318</td>\n",
       "      <td>Paperback</td>\n",
       "      <td>19.152941</td>\n",
       "    </tr>\n",
       "    <tr>\n",
       "      <th>187</th>\n",
       "      <td>3.00</td>\n",
       "      <td>0</td>\n",
       "      <td>Lambda-Calculus, Combinators and Functional Pr...</td>\n",
       "      <td>Originally published in 1988, this book presen...</td>\n",
       "      <td>192</td>\n",
       "      <td>Paperback</td>\n",
       "      <td>61.167647</td>\n",
       "    </tr>\n",
       "    <tr>\n",
       "      <th>177</th>\n",
       "      <td>3.00</td>\n",
       "      <td>0</td>\n",
       "      <td>Advanced Game Programming: A Gamedev.Net Colle...</td>\n",
       "      <td>Welcome to \"Advanced Game Programming: A GameD...</td>\n",
       "      <td>464</td>\n",
       "      <td>Paperback</td>\n",
       "      <td>59.082353</td>\n",
       "    </tr>\n",
       "    <tr>\n",
       "      <th>182</th>\n",
       "      <td>3.00</td>\n",
       "      <td>0</td>\n",
       "      <td>Cross-Platform Game Programming (Game Developm...</td>\n",
       "      <td>With many of today's games being released simu...</td>\n",
       "      <td>460</td>\n",
       "      <td>Paperback</td>\n",
       "      <td>60.391176</td>\n",
       "    </tr>\n",
       "  </tbody>\n",
       "</table>\n",
       "<p>156 rows × 7 columns</p>\n",
       "</div>"
      ],
      "text/plain": [
       "     Rating Reviews                                         Book_title  \\\n",
       "131    4.72     362  Designing Data-Intensive Applications: The Big...   \n",
       "194    4.67      78  Fluent Python: Clear, Concise, and Effective P...   \n",
       "114    4.67       1  Build Web Applications with Java: Learn every ...   \n",
       "9      4.62       0  ZX Spectrum Games Code Club: Twenty fun games ...   \n",
       "198    4.58      58                   CLR via C# (Developer Reference)   \n",
       "..      ...     ...                                                ...   \n",
       "86     3.22       2                                   Beginning Java 2   \n",
       "24     3.20       0                      Game Programming Golden Rules   \n",
       "187    3.00       0  Lambda-Calculus, Combinators and Functional Pr...   \n",
       "177    3.00       0  Advanced Game Programming: A Gamedev.Net Colle...   \n",
       "182    3.00       0  Cross-Platform Game Programming (Game Developm...   \n",
       "\n",
       "                                           Description  Number_Of_Pages  \\\n",
       "131  Want to know how the best software engineers a...              616   \n",
       "194  Python's simplicity lets you become productive...              792   \n",
       "114  This book is primarily intended for beginners ...              372   \n",
       "9    This book is ideal for ZX Spectrum fans and be...              128   \n",
       "198  Dig deep and master the intricacies of the com...              863   \n",
       "..                                                 ...              ...   \n",
       "86   What is this book about? The Java language has...             1200   \n",
       "24   'Game Programming Golden Rules' provides indis...              318   \n",
       "187  Originally published in 1988, this book presen...              192   \n",
       "177  Welcome to \"Advanced Game Programming: A GameD...              464   \n",
       "182  With many of today's games being released simu...              460   \n",
       "\n",
       "          Type      Price  \n",
       "131  Paperback  45.561765  \n",
       "194  Paperback  64.091176  \n",
       "114  Paperback  42.276471  \n",
       "9    Paperback  14.641176  \n",
       "198  Paperback  66.320588  \n",
       "..         ...        ...  \n",
       "86   Paperback  36.617647  \n",
       "24   Paperback  19.152941  \n",
       "187  Paperback  61.167647  \n",
       "177  Paperback  59.082353  \n",
       "182  Paperback  60.391176  \n",
       "\n",
       "[156 rows x 7 columns]"
      ]
     },
     "execution_count": 150,
     "metadata": {},
     "output_type": "execute_result"
    }
   ],
   "source": [
    "##Which book of Paperback type has the highest Rating ? \n",
    "\n",
    "bdata[bdata['Type'] == 'Paperback'].sort_values(by='Rating', ascending=False )\n"
   ]
  },
  {
   "cell_type": "code",
   "execution_count": 152,
   "id": "5738a1de-5253-4d4a-b45c-f1e54a815f52",
   "metadata": {},
   "outputs": [
    {
     "data": {
      "text/html": [
       "<div>\n",
       "<style scoped>\n",
       "    .dataframe tbody tr th:only-of-type {\n",
       "        vertical-align: middle;\n",
       "    }\n",
       "\n",
       "    .dataframe tbody tr th {\n",
       "        vertical-align: top;\n",
       "    }\n",
       "\n",
       "    .dataframe thead th {\n",
       "        text-align: right;\n",
       "    }\n",
       "</style>\n",
       "<table border=\"1\" class=\"dataframe\">\n",
       "  <thead>\n",
       "    <tr style=\"text-align: right;\">\n",
       "      <th></th>\n",
       "      <th>Rating</th>\n",
       "      <th>Reviews</th>\n",
       "      <th>Book_title</th>\n",
       "      <th>Description</th>\n",
       "      <th>Number_Of_Pages</th>\n",
       "      <th>Type</th>\n",
       "      <th>Price</th>\n",
       "    </tr>\n",
       "  </thead>\n",
       "  <tbody>\n",
       "    <tr>\n",
       "      <th>131</th>\n",
       "      <td>4.72</td>\n",
       "      <td>362</td>\n",
       "      <td>Designing Data-Intensive Applications: The Big...</td>\n",
       "      <td>Want to know how the best software engineers a...</td>\n",
       "      <td>616</td>\n",
       "      <td>Paperback</td>\n",
       "      <td>45.561765</td>\n",
       "    </tr>\n",
       "  </tbody>\n",
       "</table>\n",
       "</div>"
      ],
      "text/plain": [
       "     Rating Reviews                                         Book_title  \\\n",
       "131    4.72     362  Designing Data-Intensive Applications: The Big...   \n",
       "\n",
       "                                           Description  Number_Of_Pages  \\\n",
       "131  Want to know how the best software engineers a...              616   \n",
       "\n",
       "          Type      Price  \n",
       "131  Paperback  45.561765  "
      ]
     },
     "execution_count": 152,
     "metadata": {},
     "output_type": "execute_result"
    }
   ],
   "source": [
    "##Which book of Paperback type has the highest Rating ? \n",
    "\n",
    "k = bdata[bdata['Type'] == 'Paperback']\n",
    "\n",
    "k[k['Rating'] == k['Rating'].max()]"
   ]
  },
  {
   "cell_type": "code",
   "execution_count": 171,
   "id": "0614512e-9010-4853-b23a-878be2c1c41d",
   "metadata": {},
   "outputs": [
    {
     "name": "stdout",
     "output_type": "stream",
     "text": [
      "['Hardcover' 'Paperback' 'Boxed Set - Hardcover']\n"
     ]
    }
   ],
   "source": [
    "#Which type of book has no book of price more than 150?\n",
    "df = bdata[bdata['Price'] > 150]\n",
    "\n",
    "print(df['Type'].unique())\n"
   ]
  },
  {
   "cell_type": "code",
   "execution_count": 172,
   "id": "81d636bb-3c1e-4f17-976a-e76aafb62677",
   "metadata": {},
   "outputs": [],
   "source": [
    "## which one looks similar to the distribution of Price?\n",
    "\n",
    "\n"
   ]
  },
  {
   "cell_type": "code",
   "execution_count": 176,
   "id": "9885dc8c-ea1c-4168-809d-d08edca24eed",
   "metadata": {},
   "outputs": [
    {
     "data": {
      "image/png": "[encoded data removed]",
      "text/plain": [
       "<Figure size 432x288 with 1 Axes>"
      ]
     },
     "metadata": {
      "needs_background": "light"
     },
     "output_type": "display_data"
    }
   ],
   "source": [
    "sns.countplot(x=bdata['Type']);\n",
    "plt.show()\n"
   ]
  },
  {
   "cell_type": "code",
   "execution_count": 179,
   "id": "4a765884-7f91-404a-b5f2-636256b3ab88",
   "metadata": {},
   "outputs": [
    {
     "data": {
      "image/png": "[encoded data removed]",
      "text/plain": [
       "<Figure size 432x288 with 1 Axes>"
      ]
     },
     "metadata": {
      "needs_background": "light"
     },
     "output_type": "display_data"
    }
   ],
   "source": [
    "## How will the boxplot visualization for Rating vs Type look like?\n",
    "sns.boxplot(data=bdata , x='Type', y='Rating')\n",
    "plt.show()\n",
    "\n"
   ]
  },
  {
   "cell_type": "code",
   "execution_count": 181,
   "id": "1c2fcd94-1698-4eaa-b24a-9d2515eea62f",
   "metadata": {},
   "outputs": [
    {
     "data": {
      "image/png": "[encoded data removed]",
      "text/plain": [
       "<Figure size 432x288 with 1 Axes>"
      ]
     },
     "metadata": {
      "needs_background": "light"
     },
     "output_type": "display_data"
    }
   ],
   "source": [
    "sns.boxplot(data=bdata , x='Rating', y='Type')\n",
    "plt.show()"
   ]
  },
  {
   "cell_type": "code",
   "execution_count": 184,
   "id": "426cd61f-ca8d-422e-9466-0d82af3fc1d8",
   "metadata": {},
   "outputs": [
    {
     "data": {
      "image/png": "[encoded data removed]",
      "text/plain": [
       "<Figure size 432x288 with 1 Axes>"
      ]
     },
     "metadata": {
      "needs_background": "light"
     },
     "output_type": "display_data"
    }
   ],
   "source": [
    "##Which of these will be stripplot of Rating and Type?\n",
    "\n",
    "sns.stripplot(data=bdata, x='Type', y='Rating')\n",
    "plt.show()"
   ]
  },
  {
   "cell_type": "code",
   "execution_count": 189,
   "id": "fdbc056b-f6de-4938-bbda-a426908d07f7",
   "metadata": {},
   "outputs": [
    {
     "data": {
      "image/png": "[encoded data removed]",
      "text/plain": [
       "<Figure size 432x432 with 3 Axes>"
      ]
     },
     "metadata": {
      "needs_background": "light"
     },
     "output_type": "display_data"
    }
   ],
   "source": [
    "##Which of these will be KDE jointplot of Rating and price?\n",
    "\n",
    "sns.jointplot(data=bdata, x='Rating', y='Price')\n",
    "plt.show()"
   ]
  },
  {
   "cell_type": "code",
   "execution_count": 191,
   "id": "5452a173-0b56-4864-a173-804a7bdeb58f",
   "metadata": {},
   "outputs": [
    {
     "data": {
      "image/png": "[encoded data removed]",
      "text/plain": [
       "<Figure size 432x432 with 3 Axes>"
      ]
     },
     "metadata": {
      "needs_background": "light"
     },
     "output_type": "display_data"
    }
   ],
   "source": [
    "##Which of these will be jointplot of Number_Of_Pages and price?\n",
    "\n",
    "\n",
    "sns.jointplot(data=bdata, x='Number_Of_Pages', y='Price')\n",
    "plt.show()"
   ]
  },
  {
   "cell_type": "code",
   "execution_count": 193,
   "id": "00867ccc-5314-4dfc-a5cf-86a77cf79fc4",
   "metadata": {},
   "outputs": [
    {
     "data": {
      "text/plain": [
       "float"
      ]
     },
     "execution_count": 193,
     "metadata": {},
     "output_type": "execute_result"
    }
   ],
   "source": [
    "a=1289.0 \n",
    "type(a)"
   ]
  },
  {
   "cell_type": "code",
   "execution_count": 199,
   "id": "eb01ad43-3354-45c5-b1ff-3c31b1f47e68",
   "metadata": {},
   "outputs": [
    {
     "ename": "SyntaxError",
     "evalue": "invalid syntax (<ipython-input-199-bd388924d849>, line 1)",
     "output_type": "error",
     "traceback": [
      "\u001b[1;36m  File \u001b[1;32m\"<ipython-input-199-bd388924d849>\"\u001b[1;36m, line \u001b[1;32m1\u001b[0m\n\u001b[1;33m    x= ['a':2.3333,'b':3.333,'c':4.4333]\u001b[0m\n\u001b[1;37m           ^\u001b[0m\n\u001b[1;31mSyntaxError\u001b[0m\u001b[1;31m:\u001b[0m invalid syntax\n"
     ]
    }
   ],
   "source": [
    "x= ['a':2.3333,'b':3.333,'c':4.4333]\n",
    "\n",
    "type(x)"
   ]
  },
  {
   "cell_type": "code",
   "execution_count": 202,
   "id": "9c57db3d-4aa0-40f8-b0bd-0fced91cefd7",
   "metadata": {},
   "outputs": [],
   "source": [
    "dictionary = {\"MARKS\": 75, \"RANK\" : 7}"
   ]
  },
  {
   "cell_type": "code",
   "execution_count": 204,
   "id": "77220006-40c8-4250-b729-94347f6687b7",
   "metadata": {},
   "outputs": [],
   "source": [
    "matrix = np.array([[1,2],[3,4],[5,6]])"
   ]
  },
  {
   "cell_type": "code",
   "execution_count": 205,
   "id": "921217e2-88a1-4d98-9dd1-52c354452f72",
   "metadata": {},
   "outputs": [
    {
     "data": {
      "text/plain": [
       "array([[1, 2],\n",
       "       [3, 4],\n",
       "       [5, 6]])"
      ]
     },
     "execution_count": 205,
     "metadata": {},
     "output_type": "execute_result"
    }
   ],
   "source": [
    "matrix"
   ]
  }
 ],
 "metadata": {
  "kernelspec": {
   "display_name": "Python 3",
   "language": "python",
   "name": "python3"
  },
  "language_info": {
   "codemirror_mode": {
    "name": "ipython",
    "version": 3
   },
   "file_extension": ".py",
   "mimetype": "text/x-python",
   "name": "python",
   "nbconvert_exporter": "python",
   "pygments_lexer": "ipython3",
   "version": "3.8.1"
  }
 },
 "nbformat": 4,
 "nbformat_minor": 5
}
