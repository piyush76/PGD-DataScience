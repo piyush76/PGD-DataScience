{
 "cells": [
  {
   "cell_type": "markdown",
   "id": "1e1a0f5d-39df-4e03-a7d1-c9c454f133e6",
   "metadata": {},
   "source": [
    "### The null hypothesis is not based on the sample data as a hypothesis is made independent of the sample data or without seeing the sample data.\n"
   ]
  },
  {
   "cell_type": "markdown",
   "id": "1f6e1124-7cd4-4c3d-bd82-ec31cb163130",
   "metadata": {},
   "source": [
    "### The population parameter regarding which the hypothesis is to be tested is the population mean μ"
   ]
  },
  {
   "cell_type": "markdown",
   "id": "348fe03c-0562-4cc0-8e8f-a8575a9eb1a4",
   "metadata": {},
   "source": [
    "Reject Null hypothesis means Null hypothesis H0 is false.\n",
    "\n",
    "Failed to Reject Null hypothesis means Null hypothesis H0 is True "
   ]
  },
  {
   "cell_type": "markdown",
   "id": "757befa3-5668-4d6f-8782-ca7b611ef98a",
   "metadata": {},
   "source": [
    "The decision to reject/fail to reject the null hypothesis is based on sample data.\n",
    "\n",
    "The probability of type 1 error is known as Power of the test.\n",
    "\n",
    "Rejecting the null hypothesis when it is true is Type 1 Error.\n",
    "\n"
   ]
  },
  {
   "cell_type": "markdown",
   "id": "5f8a1edc-c974-4ab8-afa2-681576911071",
   "metadata": {
    "tags": []
   },
   "source": [
    "### Level of significance  = Probability of rejecting the null hypothesis when it is true.\n",
    "level of significance  = alpha \n",
    "fixed before the hypothesis test. \n",
    "\n",
    "p-value is the probability of observing the test statistic or more extreme results under the null hypothesis\n",
    "\n",
    "p value : Depends on the sample data. \n",
    "\n",
    "When the test statistic lies in \n",
    "\n",
    "Acceptance Region = We accept the null hypothesis.\n",
    "\n",
    "Rejection region = We reject the null hypothisis.\n",
    "\n",
    "## IF the p-value is greater than 0.05, we do not have enough evidence to reject the null hypothesis.\n",
    "\n",
    "## IF the p-value is less than 0.05, we have enough evidence to reject the null hypothesis.\n",
    "\n",
    "\n"
   ]
  },
  {
   "cell_type": "markdown",
   "id": "cc082a8f-d80d-4ed3-ade4-eb82a108483d",
   "metadata": {},
   "source": [
    "### Consideration question in hypothesis testing. \n",
    "1. What are the null and alternative hypothesis? \n",
    "\n",
    "2. What is the appropriate test statistic ? \n",
    "\n",
    "3. What is preset level of significance ? Alpha\n",
    "\n",
    "4. How to check wheather the data is giving significant evidence against the null hypothesis or not ? p-Value\n"
   ]
  },
  {
   "cell_type": "markdown",
   "id": "f5023c78-7332-464d-8252-1ddc6fc31138",
   "metadata": {},
   "source": [
    "### One tailed test and Two Tailed Tests\n",
    "\n",
    "Alternative Hypothesis\n",
    "\n",
    "## One tailed test  \n",
    "\n",
    "1.Greater than type  \n",
    "### Ha : µ > µ0\n",
    "\n",
    "2.Less than type     \n",
    "\n",
    "### Ha : µ < µ0\n",
    "\n",
    "## Two tailed test\n",
    "Not equal type \n",
    "### Ha : µ ≠ µ0\n",
    "\n",
    " \n",
    "\n",
    "\n",
    "\n",
    "\n"
   ]
  },
  {
   "cell_type": "markdown",
   "id": "da1f751e-4186-45f1-beb4-7cac3ac7e3a1",
   "metadata": {},
   "source": [
    "### Difference between One tailed and two tailed tests\n",
    "- Test statistic value does not change \n",
    "- Only the critical values / p-value associated with the test statistic changes\n",
    "\n",
    "\n"
   ]
  },
  {
   "cell_type": "markdown",
   "id": "439fb80c-b755-44c6-8415-0b103b0568d7",
   "metadata": {},
   "source": [
    "## Problem 1\n",
    "A marketing manager wants to see whether television viewing time for husbands is less than the wives in the same household. In order to do that, she takes a random sample of 80 households and finds out TV viewing time for both spouses in those households. Which of the following is the most appropriate null and alternative hypothesis for the given problem?\n",
    "Note - Let the mean television viewing time for husbands and wives be μH and μW respectively.\n",
    "\n",
    "#### H0: μH = μW; Ha: μH < μW - One-tailed test Less than type (television viewing time for husbands is less than the wives)\n",
    "\n",
    "## Problem 2\n",
    "A marketing manager wants to see whether television viewing time for husbands is different from the wives in the same household. In order to do that, she takes a random sample of 80 households and finds out TV viewing time for both spouses in those households. Which of the following is the most appropriate null and alternative hypothesis for the given problem?\n",
    "Note - Let the mean television viewing time for husbands and wives be μH and μW respectively.\n",
    "\n",
    "#### H0: μH = μW; Ha: μH ≠ μW - Two-tailed test Not Equal ( Ha : µ ≠ µ0  viewing time for husbands is different)\n",
    "\n",
    "\n",
    "\n"
   ]
  },
  {
   "cell_type": "markdown",
   "id": "f93443c6-71e9-4984-ae83-3eef58224ca8",
   "metadata": {},
   "source": [
    "## Confidence Intervals\n",
    "\n",
    "Confidence Intervals contains all values of µ0 for which null hypothesis will not be rejected. \n",
    "\n",
    "In a two-tailed test, the confidence interval contains all values of the population parameter for which the null hypothesis will not be rejected.\n",
    "\n"
   ]
  },
  {
   "cell_type": "code",
   "execution_count": 5,
   "id": "ad919b0c-8ac1-46df-af29-3f9be2e37042",
   "metadata": {},
   "outputs": [
    {
     "name": "stdout",
     "output_type": "stream",
     "text": [
      "Ttest_1sampResult(statistic=-6.398908019819394, pvalue=7.843455779613616e-05)\n"
     ]
    }
   ],
   "source": [
    "import numpy as np\n",
    "import scipy.stats as stats\n",
    "daily_intake = np.array([5260,5070,3640,1180,1390,6515,6805,2015,4515,1230,1770])\n",
    "print(stats.ttest_1samp(daily_intake, popmean= 7752))"
   ]
  },
  {
   "cell_type": "markdown",
   "id": "d28b69e1-14c3-4446-81cd-3e35d7662bb3",
   "metadata": {},
   "source": [
    "#### Which of the following test can be used to compare the means of two independent populations if we know the standard deviations of the two populations?\n",
    "\n",
    "Two independent sample z-test"
   ]
  },
  {
   "cell_type": "markdown",
   "id": "a1dbcc91-d1e8-4765-a173-bbbaea43c8e6",
   "metadata": {},
   "source": [
    "### Variance unknown T-Test\n",
    "### Variance known  Z-Test"
   ]
  },
  {
   "cell_type": "code",
   "execution_count": 2,
   "id": "2d24740a-511d-4a0f-b556-028784cd90ae",
   "metadata": {},
   "outputs": [
    {
     "data": {
      "text/plain": [
       "Ttest_indResult(statistic=1.353100293687127, pvalue=0.19112194470967464)"
      ]
     },
     "execution_count": 2,
     "metadata": {},
     "output_type": "execute_result"
    }
   ],
   "source": [
    "import scipy.stats as stats\n",
    "import numpy as np\n",
    "# energy expenditure in mJ and stature (0=obese, 1=lean)\n",
    "energ = np.array([[9.21, 0],[7.53, 1],[7.48, 1],[8.08, 1],[8.09, 1],[10.15, 1],[8.40, 1],[0.88, 1],[1.13, 1],[2.90, 1],[11.51, 0],[2.79, 0],[7.05, 1],[1.85, 0],[19.97, 0],[7.48, 1],[8.79, 0],[9.69, 0],[2.68, 0],[3.58, 1],[9.19, 0],[4.11, 1]])\n",
    "# Separating the data into 2 groups\n",
    "group1 = energ[:, 1] == 0 # Extracting the elements of the array where obese == True\n",
    "group1 = energ[group1][:, 0] # Extracting the energy expenditure of obese\n",
    "group2 = energ[:, 1] == 1 # Extracting the elements of the array where lean == True\n",
    "group2 = energ[group2][:, 0] # Extracting the energy expenditure of lean\n",
    "p_val = stats.ttest_ind(group1, group2, equal_var = True) # Applying T-test to check if the energy expenditure of obese and lean is indeed different.\n",
    "p_val"
   ]
  },
  {
   "cell_type": "code",
   "execution_count": 3,
   "id": "74ccc692-18d0-45ae-b8b4-bd88fed91de4",
   "metadata": {},
   "outputs": [
    {
     "data": {
      "text/plain": [
       "Ttest_indResult(statistic=-0.607694899652158, pvalue=0.5509860214402561)"
      ]
     },
     "execution_count": 3,
     "metadata": {},
     "output_type": "execute_result"
    }
   ],
   "source": [
    "import scipy.stats as stats\n",
    "import numpy as np\n",
    "\n",
    "# scores of two groups (0 and 1) of students\n",
    "energ = np.array([[49, 0],[53, 1],[56, 1],[43, 1],[45, 1],[53, 1],[45, 1],[56, 1],[51, 0],[43, 0],[47, 1],[44, 0],[51, 0],[53, 1],[50, 0],[54, 0],[51, 0],[51, 1],[46, 0],[47, 1]])\n",
    "\n",
    "# Separating the data into 2 groups\n",
    "\n",
    "group1 = energ[:, 1] == 0 # Extracting the elements of the array where group == 0\n",
    "group1 = energ[group1][:, 0] # Extracting the scores of group 0 students\n",
    "group2 = energ[:, 1] == 1 # Extracting the elements of the array where group == 1\n",
    "group2 = energ[group2][:, 0] # Extracting the scores of group 1 students\n",
    "\n",
    "#applying t-test to check if the scores of group 0 and group 1 students are indeed different\n",
    "stats.ttest_ind(group1, group2, equal_var = False)"
   ]
  },
  {
   "cell_type": "code",
   "execution_count": 27,
   "id": "31473edc-ffd3-4d28-a15c-5382c03eb348",
   "metadata": {},
   "outputs": [
    {
     "name": "stdout",
     "output_type": "stream",
     "text": [
      "[2400 5500 3885 3160 5645 8680 9265 5975 2790 1900 1335]\n"
     ]
    },
    {
     "data": {
      "text/plain": [
       "(2.518703923850169, 0.015227457461554865)"
      ]
     },
     "execution_count": 27,
     "metadata": {},
     "output_type": "execute_result"
    }
   ],
   "source": [
    "import scipy.stats as stats\n",
    "import numpy as np\n",
    "intake = np.array([[5260, 2400],[7500, 5500],[5640, 3885],[6180, 3160],[6390, 5645],[6515, 8680],[6805, 9265],[7515, 5975],[7515, 2790],[8230, 1900],[8770, 1335]])\n",
    "# Separating data into 2 groups\n",
    "\n",
    "pre = intake[:, 1] # Extracting the pre intake values from array\n",
    "print(pre)\n",
    "post = intake[:, 0] # Extracting the post intake values from array\n",
    "\n",
    "ttest, pvalue =  stats.ttest_rel(post, pre, alternative = 'greater') # Applying T-test to check if the post intake is greater than pre intake\n",
    "ttest, pvalue"
   ]
  },
  {
   "cell_type": "code",
   "execution_count": 28,
   "id": "a0708b6c-4807-43ea-8c9d-5bffb0a374c7",
   "metadata": {},
   "outputs": [
    {
     "data": {
      "text/plain": [
       "True"
      ]
     },
     "execution_count": 28,
     "metadata": {},
     "output_type": "execute_result"
    }
   ],
   "source": [
    "pvalue < 0.05"
   ]
  },
  {
   "cell_type": "code",
   "execution_count": 33,
   "id": "83448799-c468-4a1a-ba0c-86d38e019644",
   "metadata": {},
   "outputs": [
    {
     "name": "stdout",
     "output_type": "stream",
     "text": [
      "The p-value is 0.2266140255857575\n"
     ]
    }
   ],
   "source": [
    "import scipy.stats as stats\n",
    "# import the required fuction\n",
    "from statsmodels.stats.proportion import proportions_ztest\n",
    "\n",
    "# set the counts of defective items\n",
    "defect_count = np.array([20, 40])\n",
    "\n",
    "# set the sample sizes\n",
    "nobs = np.array([100, 150])\n",
    "\n",
    "# find the p-value\n",
    "test_stat, p_value = proportions_ztest(defect_count, nobs, value=0, alternative = 'two-sided' )\n",
    "print('The p-value is ' + str(p_value))"
   ]
  },
  {
   "cell_type": "code",
   "execution_count": 34,
   "id": "200d7e5f-3d31-4c8d-b6dc-bd2cf3096999",
   "metadata": {},
   "outputs": [
    {
     "name": "stdout",
     "output_type": "stream",
     "text": [
      "True\n"
     ]
    }
   ],
   "source": [
    "if 0.023 < 0.05 : \n",
    "    print(True)\n"
   ]
  },
  {
   "cell_type": "code",
   "execution_count": null,
   "id": "e2594a1b-7902-4dc0-a9b4-a6360b45372f",
   "metadata": {},
   "outputs": [],
   "source": []
  },
  {
   "cell_type": "code",
   "execution_count": null,
   "id": "17af39ca-fc7f-4917-b89f-0459c8640bfa",
   "metadata": {},
   "outputs": [],
   "source": []
  }
 ],
 "metadata": {
  "kernelspec": {
   "display_name": "Python 3",
   "language": "python",
   "name": "python3"
  },
  "language_info": {
   "codemirror_mode": {
    "name": "ipython",
    "version": 3
   },
   "file_extension": ".py",
   "mimetype": "text/x-python",
   "name": "python",
   "nbconvert_exporter": "python",
   "pygments_lexer": "ipython3",
   "version": "3.8.1"
  }
 },
 "nbformat": 4,
 "nbformat_minor": 5
}
