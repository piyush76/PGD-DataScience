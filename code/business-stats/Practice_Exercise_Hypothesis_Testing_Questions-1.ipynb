{
 "cells": [
  {
   "cell_type": "markdown",
   "metadata": {},
   "source": [
    "### Importing the necessary libraries"
   ]
  },
  {
   "cell_type": "code",
   "execution_count": 1,
   "metadata": {},
   "outputs": [],
   "source": [
    "import numpy as np\n",
    "import pandas as pd\n",
    "import matplotlib.pyplot as plt\n",
    "import scipy.stats as stats"
   ]
  },
  {
   "cell_type": "markdown",
   "metadata": {},
   "source": [
    "# 1. You are a manager of a Chinese restaurant. You want to determine whether the mean waiting time to place an order has changed in the past month from its previous population mean value of 4.5 minutes. State the null and alternative hypotheses."
   ]
  },
  {
   "cell_type": "markdown",
   "metadata": {},
   "source": [
    "$H_0$: µ = 4.5\n",
    "\n",
    "$H_a$: µ $\\neq$ 4.5\n",
    "\n"
   ]
  },
  {
   "cell_type": "markdown",
   "metadata": {},
   "source": [
    "# 2. What is the p-value if, in a two-tailed hypothesis test, z-stat = +2.00?"
   ]
  },
  {
   "cell_type": "code",
   "execution_count": 4,
   "metadata": {},
   "outputs": [
    {
     "data": {
      "text/plain": [
       "0.02275013194817921"
      ]
     },
     "execution_count": 4,
     "metadata": {},
     "output_type": "execute_result"
    }
   ],
   "source": [
    "# Calculating the one-tailed p-value for z-stat=2 \n",
    "p_val = 1 - stats.norm.cdf(2) # Cumilative density function always as distribution is continious. Since it is one side of the curve you substract from 1 i.t total prob.\n",
    "p_val"
   ]
  },
  {
   "cell_type": "code",
   "execution_count": 7,
   "metadata": {},
   "outputs": [
    {
     "data": {
      "text/plain": [
       "0.04550026389635842"
      ]
     },
     "execution_count": 7,
     "metadata": {},
     "output_type": "execute_result"
    }
   ],
   "source": [
    "# Calculation the 2 tailed p-value. Multiply by 2 as you are getting both side of distribution, Both side of curve.\n",
    "\n",
    "p_val2 = 2*p_val\n",
    "p_val2\n"
   ]
  },
  {
   "cell_type": "markdown",
   "metadata": {},
   "source": [
    "# 3. Samy, Product Manager of K2 Jeans, wants to launch a product line into a new market area. A Survey of a random sample of 400 households in that market showed a mean income per household of 30000 rupees. The standard deviation based on an earlier pilot study of households is 8000 rupees. Samy strongly believes the product line will be adequately profitable only in markets where the mean household income is greater than 29000 rupees. Samy wants our help in deciding whether the product line should be introduced in the new market. Perform statistical analysis(at a significance level of 0.05) and based on that draw a conclusion."
   ]
  },
  {
   "cell_type": "code",
   "execution_count": null,
   "metadata": {},
   "outputs": [],
   "source": [
    "# set the values of population mean and standard deviation to 600 and 50 respectively\n",
    "mu = 30000\n",
    "sigma = 8000 \n",
    "\n",
    "# H_0 = 30000\n",
    "# H_a != 30000\n",
    "# alpha = 0.05\n",
    "# Std Dev = Known \n",
    "\n",
    "# Sample Population \n",
    "n=400\n",
    "\n",
    "# calculate the test statistic\n",
    "test_stat = (x_bar - mu) / (sigma/np.sqrt(n))\n",
    "test_stat\n",
    "\n"
   ]
  },
  {
   "cell_type": "markdown",
   "metadata": {
    "_cell_guid": "9b9566bb-e9b5-4b48-9b45-0194167d2b2b",
    "_uuid": "6256e72b89e829fc8583163418120a3e50aaa156",
    "colab_type": "text",
    "id": "euOWOovJE43G"
   },
   "source": [
    "# 4. One-sample t-test \n",
    "\n",
    "The mass of a sample of N = 20 acorns from a forest subjected to acid rain from a coal power plant are m = [8.8, 6.6, 9.5, 11.2, 10.2, 7.4, 8.0, 9.6, 9.9, 9.0, 7.6, 7.4, 10.4, 11.1, 8.5, 10.0, 11.6, 10.7, 10.3, and 7.0 g. ]\n",
    "\n",
    "Does this sample provide enough evidence (alpha = 0.05) to say that the average mass of all acorns is different from 10 g?"
   ]
  },
  {
   "cell_type": "markdown",
   "metadata": {},
   "source": [
    "**a) Formulate the null and alternate hypothesis**"
   ]
  },
  {
   "cell_type": "markdown",
   "metadata": {},
   "source": [
    "the average mass of all acorns is different from 10 g\n",
    "\n",
    "H_0 = 10g \n",
    "\n",
    "H_a != 10g \n",
    "\n",
    "N = 20 \n",
    "\n",
    "\n"
   ]
  },
  {
   "cell_type": "markdown",
   "metadata": {},
   "source": [
    "**b) Calculate the test-statistic and based on the p-value provide a conclusion.**"
   ]
  },
  {
   "cell_type": "code",
   "execution_count": null,
   "metadata": {},
   "outputs": [],
   "source": [
    "x = [8.8, 6.6, 9.5, 11.2, 10.2, 7.4, 8.0, 9.6, 9.9, 9.0, 7.6, 7.4, 10.4, 11.1, 8.5, 10.0, 11.6, 10.7, 10.3,7.0 ]\n",
    "\n",
    "mu = 10 \n",
    "\n",
    "\n",
    "    \n",
    "    \n",
    "    \n",
    "    "
   ]
  },
  {
   "cell_type": "markdown",
   "metadata": {
    "_cell_guid": "fd17fd23-4f92-403e-aada-0b61433b22e9",
    "_uuid": "948240552a9daac38010e7ec652d02adbdfab6f7",
    "colab_type": "text",
    "id": "ulAnmKcwE43M"
   },
   "source": [
    "# 5. Independent (unpaired) two-sample t-test\n",
    "\n",
    "The mass of N<sub>1</sub> = 20 acorns from oak trees up wind from a coal power plant and N<sub>2</sub> = 30 acorns from oak trees down wind from the same coal power plant are measured. Is the mass of acorns from trees down wind different from the ones from up wind at a significance level of 0.05? The sample sizes are not equal but we will assume that the population variance for sample 1 and sample 2 are equal.\n",
    "\n",
    "#### sample up wind:\n",
    "x1 = [10.8, 10.0, 8.2, 9.9, 11.6, 10.1, 11.3, 10.3, 10.7, 9.7, \n",
    "      7.8, 9.6, 9.7, 11.6, 10.3, 9.8, 12.3, 11.0, 10.4, 10.4]\n",
    "\n",
    "#### sample down wind:\n",
    "x2 = [7.8, 7.5, 9.5, 11.7, 8.1, 8.8, 8.8, 7.7, 9.7, 7.0, \n",
    "      9.0, 9.7, 11.3, 8.7, 8.8, 10.9, 10.3, 9.6, 8.4, 6.6,\n",
    "      7.2, 7.6, 11.5, 6.6, 8.6, 10.5, 8.4, 8.5, 10.2, 9.2]"
   ]
  },
  {
   "cell_type": "markdown",
   "metadata": {},
   "source": [
    "**a) Formulate the null and alternate hypothesis.**"
   ]
  },
  {
   "cell_type": "code",
   "execution_count": null,
   "metadata": {},
   "outputs": [],
   "source": [
    "H_0 mu1 = mu2 \n",
    "\n",
    "H_a mu1 != mu2 \n"
   ]
  },
  {
   "cell_type": "markdown",
   "metadata": {},
   "source": [
    "**b) Calculate the test-statistic and based on the p-value provide a conclusion.**"
   ]
  },
  {
   "cell_type": "code",
   "execution_count": null,
   "metadata": {},
   "outputs": [],
   "source": []
  },
  {
   "cell_type": "markdown",
   "metadata": {
    "_cell_guid": "9b5d97b5-9c0c-4a45-b333-36d3bdeecdcc",
    "_uuid": "8520e337989f942369ad861e6aebece17394efe3",
    "colab_type": "text",
    "id": "1qEyYs3GE43P"
   },
   "source": [
    "# 6. Paired samples t-test\n",
    "\n",
    "The average mass of acorns from the same N = 30 trees downwind of a power plant is measured before (x<sub>1</sub>) and after (x<sub>2</sub>) the power plant converts from burning coal to burning natural gas. Does the mass of the acorns change after the conversion from coal to natural gas at a significance level of 0.05? \n",
    "\n",
    "### sample before conversion to natural gas\n",
    "x1 = np.array([10.8, 6.4, 8.3, 7.6, 11.4, 9.9, 10.6, 8.7, 8.1, 10.9,\n",
    "      11.0, 11.8, 7.3, 9.6, 9.3, 9.9, 9.0, 9.5, 10.6, 10.3,\n",
    "      8.8, 12.3, 8.9, 10.5, 11.6, 7.6, 8.9, 10.4, 10.2, 8.8])\n",
    "\n",
    "### sample after conversion to natural gas\n",
    "x2 = np.array([10.1, 6.9, 8.6, 8.8, 12.1, 11.3, 12.4, 9.3, 9.3, 10.8,\n",
    "      12.4, 11.5, 7.4, 10.0, 11.1, 10.6, 9.4, 9.5, 10.0, 10.0,\n",
    "      9.7, 13.5, 9.6, 11.6, 11.7, 7.9, 8.6, 10.8, 9.5, 9.6])\n"
   ]
  },
  {
   "cell_type": "markdown",
   "metadata": {},
   "source": [
    "**a) Formulate the null and alternate hypothesis.**"
   ]
  },
  {
   "cell_type": "code",
   "execution_count": null,
   "metadata": {},
   "outputs": [],
   "source": []
  },
  {
   "cell_type": "markdown",
   "metadata": {},
   "source": [
    "**b) Calculate the test-statistic and based on the p-value provide a conclusion.**"
   ]
  },
  {
   "cell_type": "code",
   "execution_count": null,
   "metadata": {},
   "outputs": [],
   "source": []
  }
 ],
 "metadata": {
  "kernelspec": {
   "display_name": "Python 3",
   "language": "python",
   "name": "python3"
  },
  "language_info": {
   "codemirror_mode": {
    "name": "ipython",
    "version": 3
   },
   "file_extension": ".py",
   "mimetype": "text/x-python",
   "name": "python",
   "nbconvert_exporter": "python",
   "pygments_lexer": "ipython3",
   "version": "3.8.1"
  }
 },
 "nbformat": 4,
 "nbformat_minor": 4
}
