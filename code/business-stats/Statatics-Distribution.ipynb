{
 "cells": [
  {
   "cell_type": "code",
   "execution_count": 1,
   "id": "0772f626-c0b1-4bea-861b-8b54c20442c4",
   "metadata": {},
   "outputs": [],
   "source": [
    "# Library to suppress warnings or deprecation notes \n",
    "import warnings\n",
    "warnings.filterwarnings('ignore')"
   ]
  },
  {
   "cell_type": "code",
   "execution_count": 36,
   "id": "1ef2cf17-7eec-4a11-88bc-4db9e85e871e",
   "metadata": {},
   "outputs": [],
   "source": [
    "# Libraries to help with reading and manipulating data\n",
    "import pandas as pd\n",
    "import numpy as np\n",
    "import matplotlib.pyplot as plt\n",
    "\n",
    "# Libraries to help with data visualization\n",
    "import seaborn as sns\n",
    "import matplotlib.pyplot as plt\n",
    "%matplotlib inline\n",
    "\n",
    "import scipy.stats as stats\n",
    " \n"
   ]
  },
  {
   "cell_type": "code",
   "execution_count": 5,
   "id": "82cce9ca-38e1-4259-af4f-8aa4509c90d5",
   "metadata": {},
   "outputs": [],
   "source": [
    "#declare the sample size\n",
    "n = 10 \n",
    "\n"
   ]
  },
  {
   "cell_type": "code",
   "execution_count": 6,
   "id": "5ec228d9-fc22-484f-a4d4-dfdd3d26da40",
   "metadata": {},
   "outputs": [],
   "source": [
    "#declare probability which is 80%\n",
    "p = 0.80 \n"
   ]
  },
  {
   "cell_type": "code",
   "execution_count": 7,
   "id": "d3779903-5ec5-4412-a92b-ed889c885890",
   "metadata": {},
   "outputs": [
    {
     "data": {
      "text/plain": [
       "array([ 0,  1,  2,  3,  4,  5,  6,  7,  8,  9, 10])"
      ]
     },
     "execution_count": 7,
     "metadata": {},
     "output_type": "execute_result"
    }
   ],
   "source": [
    "# declare different possible number of visitor selected in an array\n",
    "\n",
    "k = np.arange(0,11)\n",
    "k\n"
   ]
  },
  {
   "cell_type": "code",
   "execution_count": 29,
   "id": "659c25a6-7e9a-4a38-98f0-11cc75d3616b",
   "metadata": {},
   "outputs": [],
   "source": [
    "from scipy.stats import binom\n",
    "\n",
    "binomial =  binom.pmf(k=k, n=n,p=p)"
   ]
  },
  {
   "cell_type": "code",
   "execution_count": 17,
   "id": "ac2969a8-dd19-4828-9573-559d61cc26b3",
   "metadata": {},
   "outputs": [
    {
     "data": {
      "image/png": "[encoded data removed]",
      "text/plain": [
       "<Figure size 432x288 with 1 Axes>"
      ]
     },
     "metadata": {
      "needs_background": "light"
     },
     "output_type": "display_data"
    }
   ],
   "source": [
    "#plot the bINOMIAL distribution PMF\n",
    "plt.bar(k, binomial)\n",
    "plt.title(\"Binomial: n=%i, p=%.2f\" % (n,p),fontsize=15)\n",
    "plt.xlabel(\"Number of Success\")\n",
    "plt.ylabel(\"Probability of Success\")\n",
    "plt.show()\n"
   ]
  },
  {
   "cell_type": "code",
   "execution_count": 18,
   "id": "cf5d5610-a30d-48e9-8ddb-e06020574dc0",
   "metadata": {},
   "outputs": [
    {
     "data": {
      "text/plain": [
       "0.10737418240000005"
      ]
     },
     "execution_count": 18,
     "metadata": {},
     "output_type": "execute_result"
    }
   ],
   "source": [
    "binomial[10]"
   ]
  },
  {
   "cell_type": "code",
   "execution_count": 23,
   "id": "9cc92099-aca3-49c6-b69f-16d187ef33e7",
   "metadata": {},
   "outputs": [
    {
     "data": {
      "text/plain": [
       "0.301989888"
      ]
     },
     "execution_count": 23,
     "metadata": {},
     "output_type": "execute_result"
    }
   ],
   "source": [
    "binomial[8]"
   ]
  },
  {
   "cell_type": "code",
   "execution_count": 26,
   "id": "1ef94328-33c7-4d26-822e-98664936b87b",
   "metadata": {},
   "outputs": [
    {
     "data": {
      "image/png": "[encoded data removed]",
      "text/plain": [
       "<Figure size 432x288 with 1 Axes>"
      ]
     },
     "metadata": {
      "needs_background": "light"
     },
     "output_type": "display_data"
    }
   ],
   "source": [
    "#plot the distribution cumulative which is sum of all the pmf \n",
    "bar1 = plt.bar(k, binomial)\n",
    "plt.title(\"Binomial: n=%i, p=%.2f\" % (n,p),fontsize=15)\n",
    "plt.xlabel(\"Number of Success\")\n",
    "plt.ylabel(\"Probability of Success\")\n",
    "for i in range (0,8):\n",
    "    bar1[i].set_color(\"r\")\n",
    "plt.show()\n"
   ]
  },
  {
   "cell_type": "code",
   "execution_count": 28,
   "id": "2e8515a9-739f-4515-b6b6-dd5334f947d0",
   "metadata": {},
   "outputs": [
    {
     "data": {
      "text/plain": [
       "0.3222004736"
      ]
     },
     "execution_count": 28,
     "metadata": {},
     "output_type": "execute_result"
    }
   ],
   "source": [
    "##plot the distribution cumulative which is sum of all the pmf using the cmf\n",
    "\n",
    "binom.cdf(k=7, n=n,p=p)"
   ]
  },
  {
   "cell_type": "code",
   "execution_count": 41,
   "id": "a4ca19b2-da7d-4695-8884-6763bcc9a69b",
   "metadata": {},
   "outputs": [
    {
     "data": {
      "text/html": [
       "<div>\n",
       "<style scoped>\n",
       "    .dataframe tbody tr th:only-of-type {\n",
       "        vertical-align: middle;\n",
       "    }\n",
       "\n",
       "    .dataframe tbody tr th {\n",
       "        vertical-align: top;\n",
       "    }\n",
       "\n",
       "    .dataframe thead th {\n",
       "        text-align: right;\n",
       "    }\n",
       "</style>\n",
       "<table border=\"1\" class=\"dataframe\">\n",
       "  <thead>\n",
       "    <tr style=\"text-align: right;\">\n",
       "      <th></th>\n",
       "      <th>Bug ID</th>\n",
       "      <th>Time Taken to fix the bug</th>\n",
       "    </tr>\n",
       "  </thead>\n",
       "  <tbody>\n",
       "    <tr>\n",
       "      <th>0</th>\n",
       "      <td>12986</td>\n",
       "      <td>2.42</td>\n",
       "    </tr>\n",
       "    <tr>\n",
       "      <th>1</th>\n",
       "      <td>12987</td>\n",
       "      <td>2.03</td>\n",
       "    </tr>\n",
       "    <tr>\n",
       "      <th>2</th>\n",
       "      <td>12988</td>\n",
       "      <td>2.74</td>\n",
       "    </tr>\n",
       "    <tr>\n",
       "      <th>3</th>\n",
       "      <td>12989</td>\n",
       "      <td>3.21</td>\n",
       "    </tr>\n",
       "    <tr>\n",
       "      <th>4</th>\n",
       "      <td>12990</td>\n",
       "      <td>3.40</td>\n",
       "    </tr>\n",
       "  </tbody>\n",
       "</table>\n",
       "</div>"
      ],
      "text/plain": [
       "   Bug ID  Time Taken to fix the bug\n",
       "0   12986                       2.42\n",
       "1   12987                       2.03\n",
       "2   12988                       2.74\n",
       "3   12989                       3.21\n",
       "4   12990                       3.40"
      ]
     },
     "execution_count": 41,
     "metadata": {},
     "output_type": "execute_result"
    }
   ],
   "source": [
    "#UNIFORM DISTRIBUTION \n",
    "debugging = pd.read_csv('../data/debugging.csv')\n",
    "\n",
    "debugging.head()\n",
    "\n"
   ]
  },
  {
   "cell_type": "code",
   "execution_count": 44,
   "id": "4203d88f-5fa5-4850-b1b0-d451b78762cd",
   "metadata": {},
   "outputs": [
    {
     "data": {
      "image/png": "[encoded data removed]",
      "text/plain": [
       "<Figure size 432x288 with 1 Axes>"
      ]
     },
     "metadata": {
      "needs_background": "light"
     },
     "output_type": "display_data"
    }
   ],
   "source": [
    "plt.hist(debugging[\"Time Taken to fix the bug\"], density=True)\n",
    "plt.axhline(1 / 4, color=\"red\")\n",
    "plt.xlabel(\"Time required to fix the bug\")\n",
    "plt.ylabel(\"Probability\")\n",
    "plt.title(\"Data Distribution\")\n",
    "plt.show()\n"
   ]
  },
  {
   "cell_type": "code",
   "execution_count": 46,
   "id": "14eeb264-54dc-4785-a8e4-ec11c9ba2aa3",
   "metadata": {},
   "outputs": [
    {
     "data": {
      "image/png": "[encoded data removed]",
      "text/plain": [
       "<Figure size 432x288 with 1 Axes>"
      ]
     },
     "metadata": {
      "needs_background": "light"
     },
     "output_type": "display_data"
    }
   ],
   "source": [
    "#Density plot of time taken to fix the bug\n",
    "\n",
    "sns.distplot(debugging[\"Time Taken to fix the bug\"])\n",
    "plt.show()"
   ]
  },
  {
   "cell_type": "code",
   "execution_count": 51,
   "id": "2efc5a3e-12a1-4554-9643-b9b00ef54489",
   "metadata": {},
   "outputs": [
    {
     "data": {
      "text/plain": [
       "array([0.25, 0.25, 0.25, 0.25, 0.25, 0.25, 0.25, 0.25, 0.25, 0.25, 0.25,\n",
       "       0.25, 0.25, 0.25, 0.25, 0.25, 0.25, 0.25, 0.25, 0.25, 0.25, 0.25,\n",
       "       0.25, 0.25, 0.25, 0.25, 0.25, 0.25, 0.25, 0.25, 0.25, 0.25, 0.25,\n",
       "       0.25, 0.25, 0.25, 0.25, 0.25, 0.25, 0.25, 0.25, 0.25, 0.25, 0.25,\n",
       "       0.25, 0.25, 0.25, 0.25, 0.25, 0.25])"
      ]
     },
     "execution_count": 51,
     "metadata": {},
     "output_type": "execute_result"
    }
   ],
   "source": [
    "from scipy.stats import uniform\n",
    "x = np.linspace(1,5,50)\n",
    "probs = uniform.pdf(x, loc=1,scale=4)\n",
    "probs\n",
    "\n"
   ]
  },
  {
   "cell_type": "code",
   "execution_count": 52,
   "id": "0a445885-1bf4-4d97-850b-5d6614a1704e",
   "metadata": {},
   "outputs": [
    {
     "data": {
      "image/png": "[encoded data removed]",
      "text/plain": [
       "<Figure size 432x288 with 1 Axes>"
      ]
     },
     "metadata": {
      "needs_background": "light"
     },
     "output_type": "display_data"
    }
   ],
   "source": [
    "x1 = np.linspace(1,3,25)\n",
    "plt.plot(x,probs)\n",
    "plt.fill_between(x,probs)\n",
    "plt.fill_between(x1,uniform.pdf(x=x1,loc=1,scale = 4), color = \"r\")\n",
    "plt.xlabel(\"Time required to fix the bug\")\n",
    "plt.ylabel(\"Probability\")\n",
    "plt.title(\"Continious Uniform Distribution : X U(1.5)\")\n",
    "plt.show()"
   ]
  },
  {
   "cell_type": "code",
   "execution_count": 62,
   "id": "5c8bc444-e9ae-4af1-a03a-53b3b7fc6da7",
   "metadata": {},
   "outputs": [
    {
     "data": {
      "text/plain": [
       "0.5"
      ]
     },
     "execution_count": 62,
     "metadata": {},
     "output_type": "execute_result"
    }
   ],
   "source": [
    "uniform.cdf(x=3, loc=1,scale=4)"
   ]
  },
  {
   "cell_type": "code",
   "execution_count": 67,
   "id": "1f11d500-e6b6-4022-84d2-1e99ba86518e",
   "metadata": {},
   "outputs": [
    {
     "data": {
      "text/plain": [
       "0.25"
      ]
     },
     "execution_count": 67,
     "metadata": {},
     "output_type": "execute_result"
    }
   ],
   "source": [
    "uniform.cdf(x=2, loc=1,scale=4)"
   ]
  },
  {
   "cell_type": "code",
   "execution_count": 68,
   "id": "706ac535-e6a3-4357-83c5-5d66a864ce35",
   "metadata": {},
   "outputs": [
    {
     "data": {
      "text/plain": [
       "0.25"
      ]
     },
     "execution_count": 68,
     "metadata": {},
     "output_type": "execute_result"
    }
   ],
   "source": [
    "uniform.pdf(x=2, loc=1,scale=4)"
   ]
  },
  {
   "cell_type": "code",
   "execution_count": 70,
   "id": "7ed5a108-a28f-48ce-a939-0cb965c29b73",
   "metadata": {},
   "outputs": [
    {
     "data": {
      "text/plain": [
       "0.25"
      ]
     },
     "execution_count": 70,
     "metadata": {},
     "output_type": "execute_result"
    }
   ],
   "source": [
    "uniform.pdf(x=4.2, loc=1,scale=4)"
   ]
  },
  {
   "cell_type": "code",
   "execution_count": 56,
   "id": "eb0f7db4-0c9d-41b2-a6ad-6453e3f500f5",
   "metadata": {},
   "outputs": [
    {
     "data": {
      "image/png": "[encoded data removed]",
      "text/plain": [
       "<Figure size 432x288 with 1 Axes>"
      ]
     },
     "metadata": {
      "needs_background": "light"
     },
     "output_type": "display_data"
    }
   ],
   "source": [
    "x1 = np.linspace(2,5,25)\n",
    "plt.plot(x,probs)\n",
    "plt.fill_between(x,probs)\n",
    "plt.fill_between(x1,uniform.pdf(x=x1,loc=1,scale = 4), color = \"r\")\n",
    "plt.xlabel(\"Time required to fix the bug\")\n",
    "plt.ylabel(\"Probability\")\n",
    "plt.title(\"Continious Uniform Distribution : X U(1.5)\")\n",
    "plt.show()"
   ]
  },
  {
   "cell_type": "code",
   "execution_count": 77,
   "id": "7a4099a6-3676-4168-8f07-0304c23a7ed9",
   "metadata": {},
   "outputs": [
    {
     "data": {
      "text/plain": [
       "0.19999999999999996"
      ]
     },
     "execution_count": 77,
     "metadata": {},
     "output_type": "execute_result"
    }
   ],
   "source": [
    "1- uniform.cdf(x=4.2, loc=1,scale=4)"
   ]
  },
  {
   "cell_type": "code",
   "execution_count": 61,
   "id": "4c742c1c-62c8-46ca-96fe-1cb5a3ab4cbc",
   "metadata": {},
   "outputs": [
    {
     "data": {
      "text/plain": [
       "2.0"
      ]
     },
     "execution_count": 61,
     "metadata": {},
     "output_type": "execute_result"
    }
   ],
   "source": [
    "uniform.ppf(q=0.25, loc=1,scale=4)"
   ]
  },
  {
   "cell_type": "code",
   "execution_count": null,
   "id": "d71143c6-4c04-4cfe-8f69-db1274d74028",
   "metadata": {},
   "outputs": [],
   "source": []
  }
 ],
 "metadata": {
  "kernelspec": {
   "display_name": "Python 3",
   "language": "python",
   "name": "python3"
  },
  "language_info": {
   "codemirror_mode": {
    "name": "ipython",
    "version": 3
   },
   "file_extension": ".py",
   "mimetype": "text/x-python",
   "name": "python",
   "nbconvert_exporter": "python",
   "pygments_lexer": "ipython3",
   "version": "3.8.1"
  }
 },
 "nbformat": 4,
 "nbformat_minor": 5
}
