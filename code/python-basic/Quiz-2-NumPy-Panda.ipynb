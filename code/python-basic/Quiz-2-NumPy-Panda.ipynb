{
 "cells": [
  {
   "cell_type": "code",
   "execution_count": 5,
   "id": "fa59c9e7-d9bf-4cf0-bde8-e2d712934955",
   "metadata": {},
   "outputs": [],
   "source": [
    "# Library to suppress warnings or deprecation notes \n",
    "import warnings\n",
    "warnings.filterwarnings('ignore')"
   ]
  },
  {
   "cell_type": "code",
   "execution_count": 4,
   "id": "f3aab051-6f6e-4d8e-a0b2-787a0cbc0ea7",
   "metadata": {},
   "outputs": [],
   "source": [
    "# Libraries to help with reading and manipulating data\n",
    "import pandas as pd\n",
    "import numpy as np\n",
    "import matplotlib.pyplot as plt\n",
    "\n",
    "# Libraries to help with data visualization\n",
    "import seaborn as sns\n",
    "import matplotlib.pyplot as plt\n",
    "%matplotlib inline"
   ]
  },
  {
   "cell_type": "code",
   "execution_count": 191,
   "id": "47507788-032e-453e-85b8-45505c1bd868",
   "metadata": {},
   "outputs": [],
   "source": [
    "# Reading the CSV data file\n",
    "data = pd.read_csv('../data/Dateset_ODI.csv')\n"
   ]
  },
  {
   "cell_type": "code",
   "execution_count": 194,
   "id": "7c04531a-2745-4ca4-a11b-cd68806f87e6",
   "metadata": {},
   "outputs": [],
   "source": [
    "cdata = data.copy()"
   ]
  },
  {
   "cell_type": "code",
   "execution_count": 11,
   "id": "a9819584-1548-4fcb-9b1b-42fc6767a02b",
   "metadata": {},
   "outputs": [
    {
     "data": {
      "text/html": [
       "<div>\n",
       "<style scoped>\n",
       "    .dataframe tbody tr th:only-of-type {\n",
       "        vertical-align: middle;\n",
       "    }\n",
       "\n",
       "    .dataframe tbody tr th {\n",
       "        vertical-align: top;\n",
       "    }\n",
       "\n",
       "    .dataframe thead th {\n",
       "        text-align: right;\n",
       "    }\n",
       "</style>\n",
       "<table border=\"1\" class=\"dataframe\">\n",
       "  <thead>\n",
       "    <tr style=\"text-align: right;\">\n",
       "      <th></th>\n",
       "      <th>Scorecard</th>\n",
       "      <th>Team 1</th>\n",
       "      <th>Team 2</th>\n",
       "      <th>Winner</th>\n",
       "      <th>Margin</th>\n",
       "      <th>Ground</th>\n",
       "      <th>Match Date</th>\n",
       "    </tr>\n",
       "  </thead>\n",
       "  <tbody>\n",
       "    <tr>\n",
       "      <th>count</th>\n",
       "      <td>3932</td>\n",
       "      <td>3932</td>\n",
       "      <td>3932</td>\n",
       "      <td>3932</td>\n",
       "      <td>3753</td>\n",
       "      <td>3932</td>\n",
       "      <td>3932</td>\n",
       "    </tr>\n",
       "    <tr>\n",
       "      <th>unique</th>\n",
       "      <td>3932</td>\n",
       "      <td>24</td>\n",
       "      <td>25</td>\n",
       "      <td>25</td>\n",
       "      <td>227</td>\n",
       "      <td>173</td>\n",
       "      <td>3386</td>\n",
       "    </tr>\n",
       "    <tr>\n",
       "      <th>top</th>\n",
       "      <td>ODI # 1528</td>\n",
       "      <td>Australia</td>\n",
       "      <td>Sri Lanka</td>\n",
       "      <td>Australia</td>\n",
       "      <td>6 wickets</td>\n",
       "      <td>Sharjah</td>\n",
       "      <td>Feb 4, 2007</td>\n",
       "    </tr>\n",
       "    <tr>\n",
       "      <th>freq</th>\n",
       "      <td>1</td>\n",
       "      <td>583</td>\n",
       "      <td>508</td>\n",
       "      <td>555</td>\n",
       "      <td>347</td>\n",
       "      <td>228</td>\n",
       "      <td>6</td>\n",
       "    </tr>\n",
       "  </tbody>\n",
       "</table>\n",
       "</div>"
      ],
      "text/plain": [
       "         Scorecard     Team 1     Team 2     Winner     Margin   Ground  \\\n",
       "count         3932       3932       3932       3932       3753     3932   \n",
       "unique        3932         24         25         25        227      173   \n",
       "top     ODI # 1528  Australia  Sri Lanka  Australia  6 wickets  Sharjah   \n",
       "freq             1        583        508        555        347      228   \n",
       "\n",
       "         Match Date  \n",
       "count          3932  \n",
       "unique         3386  \n",
       "top     Feb 4, 2007  \n",
       "freq              6  "
      ]
     },
     "execution_count": 11,
     "metadata": {},
     "output_type": "execute_result"
    }
   ],
   "source": [
    "data.describe()"
   ]
  },
  {
   "cell_type": "code",
   "execution_count": 24,
   "id": "7b227de0-1cda-42fb-8999-561be5e37715",
   "metadata": {},
   "outputs": [
    {
     "name": "stdout",
     "output_type": "stream",
     "text": [
      "<class 'pandas.core.frame.DataFrame'>\n",
      "RangeIndex: 3932 entries, 0 to 3931\n",
      "Data columns (total 7 columns):\n",
      " #   Column      Non-Null Count  Dtype \n",
      "---  ------      --------------  ----- \n",
      " 0   Scorecard   3932 non-null   object\n",
      " 1   Team 1      3932 non-null   object\n",
      " 2   Team 2      3932 non-null   object\n",
      " 3   Winner      3932 non-null   object\n",
      " 4   Margin      3753 non-null   object\n",
      " 5   Ground      3932 non-null   object\n",
      " 6   Match Date  3932 non-null   object\n",
      "dtypes: object(7)\n",
      "memory usage: 107.6+ KB\n"
     ]
    }
   ],
   "source": [
    "data.info()"
   ]
  },
  {
   "cell_type": "code",
   "execution_count": 25,
   "id": "a3cc276e-24ac-496f-bf7f-e57b9ed3776f",
   "metadata": {},
   "outputs": [
    {
     "data": {
      "text/html": [
       "<div>\n",
       "<style scoped>\n",
       "    .dataframe tbody tr th:only-of-type {\n",
       "        vertical-align: middle;\n",
       "    }\n",
       "\n",
       "    .dataframe tbody tr th {\n",
       "        vertical-align: top;\n",
       "    }\n",
       "\n",
       "    .dataframe thead th {\n",
       "        text-align: right;\n",
       "    }\n",
       "</style>\n",
       "<table border=\"1\" class=\"dataframe\">\n",
       "  <thead>\n",
       "    <tr style=\"text-align: right;\">\n",
       "      <th></th>\n",
       "      <th>Scorecard</th>\n",
       "      <th>Team 1</th>\n",
       "      <th>Team 2</th>\n",
       "      <th>Winner</th>\n",
       "      <th>Margin</th>\n",
       "      <th>Ground</th>\n",
       "      <th>Match Date</th>\n",
       "    </tr>\n",
       "  </thead>\n",
       "  <tbody>\n",
       "    <tr>\n",
       "      <th>0</th>\n",
       "      <td>ODI # 1</td>\n",
       "      <td>Australia</td>\n",
       "      <td>England</td>\n",
       "      <td>Australia</td>\n",
       "      <td>5 wickets</td>\n",
       "      <td>Melbourne</td>\n",
       "      <td>Jan 5, 1971</td>\n",
       "    </tr>\n",
       "    <tr>\n",
       "      <th>1</th>\n",
       "      <td>ODI # 2</td>\n",
       "      <td>England</td>\n",
       "      <td>Australia</td>\n",
       "      <td>England</td>\n",
       "      <td>6 wickets</td>\n",
       "      <td>Manchester</td>\n",
       "      <td>Aug 24, 1972</td>\n",
       "    </tr>\n",
       "    <tr>\n",
       "      <th>2</th>\n",
       "      <td>ODI # 3</td>\n",
       "      <td>England</td>\n",
       "      <td>Australia</td>\n",
       "      <td>Australia</td>\n",
       "      <td>5 wickets</td>\n",
       "      <td>Lord's</td>\n",
       "      <td>Aug 26, 1972</td>\n",
       "    </tr>\n",
       "    <tr>\n",
       "      <th>3</th>\n",
       "      <td>ODI # 4</td>\n",
       "      <td>England</td>\n",
       "      <td>Australia</td>\n",
       "      <td>England</td>\n",
       "      <td>2 wickets</td>\n",
       "      <td>Birmingham</td>\n",
       "      <td>Aug 28, 1972</td>\n",
       "    </tr>\n",
       "    <tr>\n",
       "      <th>4</th>\n",
       "      <td>ODI # 5</td>\n",
       "      <td>New Zealand</td>\n",
       "      <td>Pakistan</td>\n",
       "      <td>New Zealand</td>\n",
       "      <td>22 runs</td>\n",
       "      <td>Christchurch</td>\n",
       "      <td>Feb 11, 1973</td>\n",
       "    </tr>\n",
       "  </tbody>\n",
       "</table>\n",
       "</div>"
      ],
      "text/plain": [
       "  Scorecard       Team 1     Team 2       Winner     Margin        Ground  \\\n",
       "0   ODI # 1    Australia    England    Australia  5 wickets     Melbourne   \n",
       "1   ODI # 2      England  Australia      England  6 wickets    Manchester   \n",
       "2   ODI # 3      England  Australia    Australia  5 wickets        Lord's   \n",
       "3   ODI # 4      England  Australia      England  2 wickets    Birmingham   \n",
       "4   ODI # 5  New Zealand   Pakistan  New Zealand    22 runs  Christchurch   \n",
       "\n",
       "     Match Date  \n",
       "0   Jan 5, 1971  \n",
       "1  Aug 24, 1972  \n",
       "2  Aug 26, 1972  \n",
       "3  Aug 28, 1972  \n",
       "4  Feb 11, 1973  "
      ]
     },
     "execution_count": 25,
     "metadata": {},
     "output_type": "execute_result"
    }
   ],
   "source": [
    "data.head()"
   ]
  },
  {
   "cell_type": "code",
   "execution_count": 28,
   "id": "21eccdf8-3402-406e-9972-d89653b909aa",
   "metadata": {},
   "outputs": [
    {
     "data": {
      "text/html": [
       "<div>\n",
       "<style scoped>\n",
       "    .dataframe tbody tr th:only-of-type {\n",
       "        vertical-align: middle;\n",
       "    }\n",
       "\n",
       "    .dataframe tbody tr th {\n",
       "        vertical-align: top;\n",
       "    }\n",
       "\n",
       "    .dataframe thead th {\n",
       "        text-align: right;\n",
       "    }\n",
       "</style>\n",
       "<table border=\"1\" class=\"dataframe\">\n",
       "  <thead>\n",
       "    <tr style=\"text-align: right;\">\n",
       "      <th></th>\n",
       "      <th>Scorecard</th>\n",
       "      <th>Team 1</th>\n",
       "      <th>Team 2</th>\n",
       "      <th>Winner</th>\n",
       "      <th>Margin</th>\n",
       "      <th>Ground</th>\n",
       "      <th>Match Date</th>\n",
       "    </tr>\n",
       "  </thead>\n",
       "  <tbody>\n",
       "    <tr>\n",
       "      <th>3927</th>\n",
       "      <td>ODI # 3928</td>\n",
       "      <td>India</td>\n",
       "      <td>New Zealand</td>\n",
       "      <td>New Zealand</td>\n",
       "      <td>6 wickets</td>\n",
       "      <td>Mumbai</td>\n",
       "      <td>Oct 22, 2017</td>\n",
       "    </tr>\n",
       "    <tr>\n",
       "      <th>3928</th>\n",
       "      <td>ODI # 3929</td>\n",
       "      <td>South Africa</td>\n",
       "      <td>Bangladesh</td>\n",
       "      <td>South Africa</td>\n",
       "      <td>200 runs</td>\n",
       "      <td>East London</td>\n",
       "      <td>Oct 22, 2017</td>\n",
       "    </tr>\n",
       "    <tr>\n",
       "      <th>3929</th>\n",
       "      <td>ODI # 3930</td>\n",
       "      <td>Pakistan</td>\n",
       "      <td>Sri Lanka</td>\n",
       "      <td>Pakistan</td>\n",
       "      <td>9 wickets</td>\n",
       "      <td>Sharjah</td>\n",
       "      <td>Oct 23, 2017</td>\n",
       "    </tr>\n",
       "    <tr>\n",
       "      <th>3930</th>\n",
       "      <td>ODI # 3931</td>\n",
       "      <td>India</td>\n",
       "      <td>New Zealand</td>\n",
       "      <td>India</td>\n",
       "      <td>6 wickets</td>\n",
       "      <td>Pune</td>\n",
       "      <td>Oct 25, 2017</td>\n",
       "    </tr>\n",
       "    <tr>\n",
       "      <th>3931</th>\n",
       "      <td>ODI # 3932</td>\n",
       "      <td>India</td>\n",
       "      <td>New Zealand</td>\n",
       "      <td>India</td>\n",
       "      <td>6 runs</td>\n",
       "      <td>Kanpur</td>\n",
       "      <td>Oct 29, 2017</td>\n",
       "    </tr>\n",
       "  </tbody>\n",
       "</table>\n",
       "</div>"
      ],
      "text/plain": [
       "       Scorecard        Team 1       Team 2        Winner     Margin  \\\n",
       "3927  ODI # 3928         India  New Zealand   New Zealand  6 wickets   \n",
       "3928  ODI # 3929  South Africa   Bangladesh  South Africa   200 runs   \n",
       "3929  ODI # 3930      Pakistan    Sri Lanka      Pakistan  9 wickets   \n",
       "3930  ODI # 3931         India  New Zealand         India  6 wickets   \n",
       "3931  ODI # 3932         India  New Zealand         India     6 runs   \n",
       "\n",
       "           Ground    Match Date  \n",
       "3927       Mumbai  Oct 22, 2017  \n",
       "3928  East London  Oct 22, 2017  \n",
       "3929      Sharjah  Oct 23, 2017  \n",
       "3930         Pune  Oct 25, 2017  \n",
       "3931       Kanpur  Oct 29, 2017  "
      ]
     },
     "execution_count": 28,
     "metadata": {},
     "output_type": "execute_result"
    }
   ],
   "source": [
    "data.tail()"
   ]
  },
  {
   "cell_type": "code",
   "execution_count": 42,
   "id": "177a8eb1-5f87-4a47-9087-3fa06002ef14",
   "metadata": {},
   "outputs": [
    {
     "name": "stdout",
     "output_type": "stream",
     "text": [
      "<class 'pandas.core.frame.DataFrame'>\n",
      "Int64Index: 3753 entries, 0 to 3931\n",
      "Data columns (total 7 columns):\n",
      " #   Column      Non-Null Count  Dtype \n",
      "---  ------      --------------  ----- \n",
      " 0   Scorecard   3753 non-null   object\n",
      " 1   Team 1      3753 non-null   object\n",
      " 2   Team 2      3753 non-null   object\n",
      " 3   Winner      3753 non-null   object\n",
      " 4   Margin      3753 non-null   object\n",
      " 5   Ground      3753 non-null   object\n",
      " 6   Match Date  3753 non-null   object\n",
      "dtypes: object(7)\n",
      "memory usage: 131.9+ KB\n"
     ]
    }
   ],
   "source": [
    "#removing the null\n",
    "new_data =  data.dropna()\n",
    "new_data.info()"
   ]
  },
  {
   "cell_type": "code",
   "execution_count": 47,
   "id": "f4fb2a93-e086-4e83-be7b-a54ede466f1a",
   "metadata": {},
   "outputs": [
    {
     "data": {
      "text/plain": [
       "0    Sharjah\n",
       "dtype: object"
      ]
     },
     "execution_count": 47,
     "metadata": {},
     "output_type": "execute_result"
    }
   ],
   "source": [
    "data['Ground'].mode()"
   ]
  },
  {
   "cell_type": "code",
   "execution_count": 102,
   "id": "58877661-fb7e-4a82-b95b-9191e2357408",
   "metadata": {},
   "outputs": [
    {
     "data": {
      "text/plain": [
       "Ground\n",
       "Aberdeen         11\n",
       "Abu Dhabi        37\n",
       "Adelaide         82\n",
       "Ahmedabad        24\n",
       "Albion            5\n",
       "                 ..\n",
       "Vijayawada        1\n",
       "Visakhapatnam    11\n",
       "Wellington       56\n",
       "Whangarei         1\n",
       "Worcester         3\n",
       "Length: 173, dtype: int64"
      ]
     },
     "execution_count": 102,
     "metadata": {},
     "output_type": "execute_result"
    }
   ],
   "source": [
    "data.groupby(['Ground']).size().sort_index()"
   ]
  },
  {
   "cell_type": "code",
   "execution_count": 105,
   "id": "b15bd22a-73ab-44c7-9beb-b096999d934f",
   "metadata": {},
   "outputs": [
    {
     "data": {
      "text/plain": [
       "Winner\n",
       "Africa XI         1\n",
       "ICC World XI      1\n",
       "Asia XI           4\n",
       "P.N.G.            5\n",
       "Hong Kong         6\n",
       "Bermuda           7\n",
       "U.A.E.            9\n",
       "Canada           17\n",
       "Netherlands      28\n",
       "Scotland         31\n",
       "tied             34\n",
       "Afghanistan      42\n",
       "Kenya            42\n",
       "Ireland          51\n",
       "Bangladesh      105\n",
       "Zimbabwe        129\n",
       "no result       140\n",
       "New Zealand     324\n",
       "England         343\n",
       "South Africa    361\n",
       "Sri Lanka       372\n",
       "West Indies     380\n",
       "Pakistan        469\n",
       "India           476\n",
       "Australia       555\n",
       "dtype: int64"
      ]
     },
     "execution_count": 105,
     "metadata": {},
     "output_type": "execute_result"
    }
   ],
   "source": [
    "data.groupby(['Winner']).size().sort_values()"
   ]
  },
  {
   "cell_type": "code",
   "execution_count": null,
   "id": "5fd33055-02b7-4ce5-b802-03dbfb39d53f",
   "metadata": {},
   "outputs": [],
   "source": []
  },
  {
   "cell_type": "code",
   "execution_count": 61,
   "id": "b71e791c-94e8-43e5-8c2d-2b939f65c45a",
   "metadata": {},
   "outputs": [
    {
     "data": {
      "text/html": [
       "<div>\n",
       "<style scoped>\n",
       "    .dataframe tbody tr th:only-of-type {\n",
       "        vertical-align: middle;\n",
       "    }\n",
       "\n",
       "    .dataframe tbody tr th {\n",
       "        vertical-align: top;\n",
       "    }\n",
       "\n",
       "    .dataframe thead th {\n",
       "        text-align: right;\n",
       "    }\n",
       "</style>\n",
       "<table border=\"1\" class=\"dataframe\">\n",
       "  <thead>\n",
       "    <tr style=\"text-align: right;\">\n",
       "      <th></th>\n",
       "      <th>Scorecard</th>\n",
       "      <th>Team 1</th>\n",
       "      <th>Team 2</th>\n",
       "      <th>Winner</th>\n",
       "      <th>Margin</th>\n",
       "      <th>Ground</th>\n",
       "      <th>Match Date</th>\n",
       "    </tr>\n",
       "  </thead>\n",
       "  <tbody>\n",
       "    <tr>\n",
       "      <th>1513</th>\n",
       "      <td>ODI # 1514</td>\n",
       "      <td>Pakistan</td>\n",
       "      <td>Sri Lanka</td>\n",
       "      <td>tied</td>\n",
       "      <td>NaN</td>\n",
       "      <td>Sharjah</td>\n",
       "      <td>Oct 15, 1999</td>\n",
       "    </tr>\n",
       "    <tr>\n",
       "      <th>1141</th>\n",
       "      <td>ODI # 1142</td>\n",
       "      <td>New Zealand</td>\n",
       "      <td>Sri Lanka</td>\n",
       "      <td>tied</td>\n",
       "      <td>NaN</td>\n",
       "      <td>Sharjah</td>\n",
       "      <td>Nov 11, 1996</td>\n",
       "    </tr>\n",
       "    <tr>\n",
       "      <th>1995</th>\n",
       "      <td>ODI # 1996</td>\n",
       "      <td>Kenya</td>\n",
       "      <td>Zimbabwe</td>\n",
       "      <td>Zimbabwe</td>\n",
       "      <td>5 wickets</td>\n",
       "      <td>Sharjah</td>\n",
       "      <td>Apr 5, 2003</td>\n",
       "    </tr>\n",
       "    <tr>\n",
       "      <th>1372</th>\n",
       "      <td>ODI # 1373</td>\n",
       "      <td>India</td>\n",
       "      <td>Zimbabwe</td>\n",
       "      <td>Zimbabwe</td>\n",
       "      <td>13 runs</td>\n",
       "      <td>Sharjah</td>\n",
       "      <td>Nov 11, 1998</td>\n",
       "    </tr>\n",
       "    <tr>\n",
       "      <th>1371</th>\n",
       "      <td>ODI # 1372</td>\n",
       "      <td>Sri Lanka</td>\n",
       "      <td>Zimbabwe</td>\n",
       "      <td>Zimbabwe</td>\n",
       "      <td>24 runs</td>\n",
       "      <td>Sharjah</td>\n",
       "      <td>Nov 10, 1998</td>\n",
       "    </tr>\n",
       "    <tr>\n",
       "      <th>...</th>\n",
       "      <td>...</td>\n",
       "      <td>...</td>\n",
       "      <td>...</td>\n",
       "      <td>...</td>\n",
       "      <td>...</td>\n",
       "      <td>...</td>\n",
       "      <td>...</td>\n",
       "    </tr>\n",
       "    <tr>\n",
       "      <th>3417</th>\n",
       "      <td>ODI # 3418</td>\n",
       "      <td>Afghanistan</td>\n",
       "      <td>Kenya</td>\n",
       "      <td>Afghanistan</td>\n",
       "      <td>7 wickets</td>\n",
       "      <td>Sharjah</td>\n",
       "      <td>Oct 4, 2013</td>\n",
       "    </tr>\n",
       "    <tr>\n",
       "      <th>3341</th>\n",
       "      <td>ODI # 3342</td>\n",
       "      <td>Afghanistan</td>\n",
       "      <td>Scotland</td>\n",
       "      <td>Afghanistan</td>\n",
       "      <td>5 wickets</td>\n",
       "      <td>Sharjah</td>\n",
       "      <td>Mar 8, 2013</td>\n",
       "    </tr>\n",
       "    <tr>\n",
       "      <th>3340</th>\n",
       "      <td>ODI # 3341</td>\n",
       "      <td>Afghanistan</td>\n",
       "      <td>Scotland</td>\n",
       "      <td>Afghanistan</td>\n",
       "      <td>7 wickets</td>\n",
       "      <td>Sharjah</td>\n",
       "      <td>Mar 6, 2013</td>\n",
       "    </tr>\n",
       "    <tr>\n",
       "      <th>2956</th>\n",
       "      <td>ODI # 2957</td>\n",
       "      <td>Afghanistan</td>\n",
       "      <td>Canada</td>\n",
       "      <td>Afghanistan</td>\n",
       "      <td>1 run</td>\n",
       "      <td>Sharjah</td>\n",
       "      <td>Feb 16, 2010</td>\n",
       "    </tr>\n",
       "    <tr>\n",
       "      <th>3270</th>\n",
       "      <td>ODI # 3271</td>\n",
       "      <td>Afghanistan</td>\n",
       "      <td>Netherlands</td>\n",
       "      <td>Afghanistan</td>\n",
       "      <td>5 wickets</td>\n",
       "      <td>Sharjah</td>\n",
       "      <td>Mar 31, 2012</td>\n",
       "    </tr>\n",
       "  </tbody>\n",
       "</table>\n",
       "<p>228 rows × 7 columns</p>\n",
       "</div>"
      ],
      "text/plain": [
       "       Scorecard       Team 1       Team 2       Winner     Margin   Ground  \\\n",
       "1513  ODI # 1514     Pakistan    Sri Lanka         tied        NaN  Sharjah   \n",
       "1141  ODI # 1142  New Zealand    Sri Lanka         tied        NaN  Sharjah   \n",
       "1995  ODI # 1996        Kenya     Zimbabwe     Zimbabwe  5 wickets  Sharjah   \n",
       "1372  ODI # 1373        India     Zimbabwe     Zimbabwe    13 runs  Sharjah   \n",
       "1371  ODI # 1372    Sri Lanka     Zimbabwe     Zimbabwe    24 runs  Sharjah   \n",
       "...          ...          ...          ...          ...        ...      ...   \n",
       "3417  ODI # 3418  Afghanistan        Kenya  Afghanistan  7 wickets  Sharjah   \n",
       "3341  ODI # 3342  Afghanistan     Scotland  Afghanistan  5 wickets  Sharjah   \n",
       "3340  ODI # 3341  Afghanistan     Scotland  Afghanistan  7 wickets  Sharjah   \n",
       "2956  ODI # 2957  Afghanistan       Canada  Afghanistan      1 run  Sharjah   \n",
       "3270  ODI # 3271  Afghanistan  Netherlands  Afghanistan  5 wickets  Sharjah   \n",
       "\n",
       "        Match Date  \n",
       "1513  Oct 15, 1999  \n",
       "1141  Nov 11, 1996  \n",
       "1995   Apr 5, 2003  \n",
       "1372  Nov 11, 1998  \n",
       "1371  Nov 10, 1998  \n",
       "...            ...  \n",
       "3417   Oct 4, 2013  \n",
       "3341   Mar 8, 2013  \n",
       "3340   Mar 6, 2013  \n",
       "2956  Feb 16, 2010  \n",
       "3270  Mar 31, 2012  \n",
       "\n",
       "[228 rows x 7 columns]"
      ]
     },
     "execution_count": 61,
     "metadata": {},
     "output_type": "execute_result"
    }
   ],
   "source": [
    "data[data['Ground'] == 'Sharjah'].sort_values(by='Winner', ascending=False )"
   ]
  },
  {
   "cell_type": "code",
   "execution_count": 81,
   "id": "47230506-8160-4a80-bd31-a5ab42d64017",
   "metadata": {},
   "outputs": [
    {
     "data": {
      "text/html": [
       "<div>\n",
       "<style scoped>\n",
       "    .dataframe tbody tr th:only-of-type {\n",
       "        vertical-align: middle;\n",
       "    }\n",
       "\n",
       "    .dataframe tbody tr th {\n",
       "        vertical-align: top;\n",
       "    }\n",
       "\n",
       "    .dataframe thead th {\n",
       "        text-align: right;\n",
       "    }\n",
       "</style>\n",
       "<table border=\"1\" class=\"dataframe\">\n",
       "  <thead>\n",
       "    <tr style=\"text-align: right;\">\n",
       "      <th></th>\n",
       "      <th>Scorecard</th>\n",
       "      <th>Team 1</th>\n",
       "      <th>Team 2</th>\n",
       "      <th>Winner</th>\n",
       "      <th>Margin</th>\n",
       "      <th>Ground</th>\n",
       "      <th>Match Date</th>\n",
       "    </tr>\n",
       "  </thead>\n",
       "  <tbody>\n",
       "    <tr>\n",
       "      <th>1141</th>\n",
       "      <td>ODI # 1142</td>\n",
       "      <td>New Zealand</td>\n",
       "      <td>Sri Lanka</td>\n",
       "      <td>tied</td>\n",
       "      <td>NaN</td>\n",
       "      <td>Sharjah</td>\n",
       "      <td>Nov 11, 1996</td>\n",
       "    </tr>\n",
       "    <tr>\n",
       "      <th>1513</th>\n",
       "      <td>ODI # 1514</td>\n",
       "      <td>Pakistan</td>\n",
       "      <td>Sri Lanka</td>\n",
       "      <td>tied</td>\n",
       "      <td>NaN</td>\n",
       "      <td>Sharjah</td>\n",
       "      <td>Oct 15, 1999</td>\n",
       "    </tr>\n",
       "  </tbody>\n",
       "</table>\n",
       "</div>"
      ],
      "text/plain": [
       "       Scorecard       Team 1     Team 2 Winner Margin   Ground    Match Date\n",
       "1141  ODI # 1142  New Zealand  Sri Lanka   tied    NaN  Sharjah  Nov 11, 1996\n",
       "1513  ODI # 1514     Pakistan  Sri Lanka   tied    NaN  Sharjah  Oct 15, 1999"
      ]
     },
     "execution_count": 81,
     "metadata": {},
     "output_type": "execute_result"
    }
   ],
   "source": [
    "k = data[data['Ground'] == 'Sharjah']\n",
    "\n",
    "#k[k['Winner'] == k['Winner'].count()]\n",
    "\n",
    "k[k['Winner'] == k['Winner'].max()]\n"
   ]
  },
  {
   "cell_type": "code",
   "execution_count": 95,
   "id": "480ecb39-2a04-42d1-8524-56623490b9b1",
   "metadata": {},
   "outputs": [
    {
     "data": {
      "text/plain": [
       "Feb 4, 2007     6\n",
       "Jul 10, 2010    4\n",
       "Jun 9, 1979     4\n",
       "Jun 11, 1975    4\n",
       "Jan 31, 2007    4\n",
       "               ..\n",
       "Oct 18, 2011    1\n",
       "Oct 28, 2006    1\n",
       "Dec 4, 2007     1\n",
       "Aug 7, 2009     1\n",
       "Aug 24, 1997    1\n",
       "Name: Match Date, Length: 3386, dtype: int64"
      ]
     },
     "execution_count": 95,
     "metadata": {},
     "output_type": "execute_result"
    }
   ],
   "source": [
    "data['Match Date'].value_counts()\n"
   ]
  },
  {
   "cell_type": "code",
   "execution_count": 97,
   "id": "34600191-1168-41f4-b0ad-ced406821cdb",
   "metadata": {},
   "outputs": [
    {
     "data": {
      "text/plain": [
       "Sharjah            228\n",
       "Dhaka              156\n",
       "Sydney             154\n",
       "Melbourne          147\n",
       "Harare             136\n",
       "                  ... \n",
       "Nairobi (Club)       1\n",
       "Launceston           1\n",
       "Ballarat             1\n",
       "Tunbridge Wells      1\n",
       "Sargodha             1\n",
       "Name: Ground, Length: 173, dtype: int64"
      ]
     },
     "execution_count": 97,
     "metadata": {},
     "output_type": "execute_result"
    }
   ],
   "source": [
    "data['Ground'].value_counts()"
   ]
  },
  {
   "cell_type": "code",
   "execution_count": 119,
   "id": "6603ff44-40e2-4716-8e0b-db9b5b8f2433",
   "metadata": {},
   "outputs": [
    {
     "data": {
      "text/plain": [
       "'Worcester'"
      ]
     },
     "execution_count": 119,
     "metadata": {},
     "output_type": "execute_result"
    }
   ],
   "source": [
    "k = data[data['Winner'] == 'Australia']\n",
    "k['Ground'].max()"
   ]
  },
  {
   "cell_type": "code",
   "execution_count": 141,
   "id": "ca5653a1-fbac-4273-bc12-a5e576bea616",
   "metadata": {},
   "outputs": [
    {
     "data": {
      "text/plain": [
       "Scorecard     1637\n",
       "Team 1        1637\n",
       "Team 2        1637\n",
       "Winner        1637\n",
       "Margin        1635\n",
       "Ground        1637\n",
       "Match Date    1637\n",
       "dtype: int64"
      ]
     },
     "execution_count": 141,
     "metadata": {},
     "output_type": "execute_result"
    }
   ],
   "source": [
    "data[data['Winner'] == data['Team 2']].count()"
   ]
  },
  {
   "cell_type": "code",
   "execution_count": 147,
   "id": "c44e1d78-7136-4784-a679-6120c09c7ec0",
   "metadata": {},
   "outputs": [
    {
     "data": {
      "text/plain": [
       "'Pakistan'"
      ]
     },
     "execution_count": 147,
     "metadata": {},
     "output_type": "execute_result"
    }
   ],
   "source": [
    "k = data[data['Ground'] == 'Sharjah']\n",
    "k['Winner'].all()"
   ]
  },
  {
   "cell_type": "code",
   "execution_count": 190,
   "id": "c55e5d13-5a0a-4c22-95d6-99cecc984902",
   "metadata": {},
   "outputs": [
    {
     "data": {
      "text/plain": [
       "Series([], Name: Winner, dtype: int64)"
      ]
     },
     "execution_count": 190,
     "metadata": {},
     "output_type": "execute_result"
    }
   ],
   "source": [
    "= data[data['Ground'] == \"Lord\\'s\"]  \n",
    "['Winner'].value_counts()"
   ]
  },
  {
   "cell_type": "code",
   "execution_count": 181,
   "id": "0d235d38-023f-41a5-94c4-119e57e8f231",
   "metadata": {},
   "outputs": [
    {
     "data": {
      "text/plain": [
       "Feb 4, 2007     6\n",
       "Jul 10, 2010    4\n",
       "Jun 9, 1979     4\n",
       "Jun 11, 1975    4\n",
       "Jan 31, 2007    4\n",
       "               ..\n",
       "Oct 18, 2011    1\n",
       "Oct 28, 2006    1\n",
       "Dec 4, 2007     1\n",
       "Aug 7, 2009     1\n",
       "Aug 24, 1997    1\n",
       "Name: Match Date, Length: 3386, dtype: int64"
      ]
     },
     "execution_count": 181,
     "metadata": {},
     "output_type": "execute_result"
    }
   ],
   "source": [
    "data['Match Date'].value_counts()"
   ]
  },
  {
   "cell_type": "code",
   "execution_count": 175,
   "id": "5a9244e6-6e7e-4fb8-9d44-4f50485e167a",
   "metadata": {},
   "outputs": [
    {
     "data": {
      "text/html": [
       "<div>\n",
       "<style scoped>\n",
       "    .dataframe tbody tr th:only-of-type {\n",
       "        vertical-align: middle;\n",
       "    }\n",
       "\n",
       "    .dataframe tbody tr th {\n",
       "        vertical-align: top;\n",
       "    }\n",
       "\n",
       "    .dataframe thead th {\n",
       "        text-align: right;\n",
       "    }\n",
       "</style>\n",
       "<table border=\"1\" class=\"dataframe\">\n",
       "  <thead>\n",
       "    <tr style=\"text-align: right;\">\n",
       "      <th></th>\n",
       "      <th>Scorecard</th>\n",
       "      <th>Team 1</th>\n",
       "      <th>Team 2</th>\n",
       "      <th>Winner</th>\n",
       "      <th>Margin</th>\n",
       "      <th>Ground</th>\n",
       "      <th>Match Date</th>\n",
       "    </tr>\n",
       "  </thead>\n",
       "  <tbody>\n",
       "    <tr>\n",
       "      <th>0</th>\n",
       "      <td>ODI # 1</td>\n",
       "      <td>Australia</td>\n",
       "      <td>England</td>\n",
       "      <td>Australia</td>\n",
       "      <td>5 wickets</td>\n",
       "      <td>Melbourne</td>\n",
       "      <td>Jan 5, 1971</td>\n",
       "    </tr>\n",
       "    <tr>\n",
       "      <th>1</th>\n",
       "      <td>ODI # 2</td>\n",
       "      <td>England</td>\n",
       "      <td>Australia</td>\n",
       "      <td>England</td>\n",
       "      <td>6 wickets</td>\n",
       "      <td>Melbourne</td>\n",
       "      <td>Aug 24, 1972</td>\n",
       "    </tr>\n",
       "    <tr>\n",
       "      <th>2</th>\n",
       "      <td>ODI # 3</td>\n",
       "      <td>England</td>\n",
       "      <td>Australia</td>\n",
       "      <td>Australia</td>\n",
       "      <td>5 wickets</td>\n",
       "      <td>Melbourne</td>\n",
       "      <td>Aug 26, 1972</td>\n",
       "    </tr>\n",
       "    <tr>\n",
       "      <th>3</th>\n",
       "      <td>ODI # 4</td>\n",
       "      <td>England</td>\n",
       "      <td>Australia</td>\n",
       "      <td>England</td>\n",
       "      <td>2 wickets</td>\n",
       "      <td>Melbourne</td>\n",
       "      <td>Aug 28, 1972</td>\n",
       "    </tr>\n",
       "    <tr>\n",
       "      <th>4</th>\n",
       "      <td>ODI # 5</td>\n",
       "      <td>New Zealand</td>\n",
       "      <td>Pakistan</td>\n",
       "      <td>New Zealand</td>\n",
       "      <td>22 runs</td>\n",
       "      <td>Melbourne</td>\n",
       "      <td>Feb 11, 1973</td>\n",
       "    </tr>\n",
       "    <tr>\n",
       "      <th>...</th>\n",
       "      <td>...</td>\n",
       "      <td>...</td>\n",
       "      <td>...</td>\n",
       "      <td>...</td>\n",
       "      <td>...</td>\n",
       "      <td>...</td>\n",
       "      <td>...</td>\n",
       "    </tr>\n",
       "    <tr>\n",
       "      <th>3927</th>\n",
       "      <td>ODI # 3928</td>\n",
       "      <td>India</td>\n",
       "      <td>New Zealand</td>\n",
       "      <td>New Zealand</td>\n",
       "      <td>6 wickets</td>\n",
       "      <td>Melbourne</td>\n",
       "      <td>Oct 22, 2017</td>\n",
       "    </tr>\n",
       "    <tr>\n",
       "      <th>3928</th>\n",
       "      <td>ODI # 3929</td>\n",
       "      <td>South Africa</td>\n",
       "      <td>Bangladesh</td>\n",
       "      <td>South Africa</td>\n",
       "      <td>200 runs</td>\n",
       "      <td>Melbourne</td>\n",
       "      <td>Oct 22, 2017</td>\n",
       "    </tr>\n",
       "    <tr>\n",
       "      <th>3929</th>\n",
       "      <td>ODI # 3930</td>\n",
       "      <td>Pakistan</td>\n",
       "      <td>Sri Lanka</td>\n",
       "      <td>Pakistan</td>\n",
       "      <td>9 wickets</td>\n",
       "      <td>Melbourne</td>\n",
       "      <td>Oct 23, 2017</td>\n",
       "    </tr>\n",
       "    <tr>\n",
       "      <th>3930</th>\n",
       "      <td>ODI # 3931</td>\n",
       "      <td>India</td>\n",
       "      <td>New Zealand</td>\n",
       "      <td>India</td>\n",
       "      <td>6 wickets</td>\n",
       "      <td>Melbourne</td>\n",
       "      <td>Oct 25, 2017</td>\n",
       "    </tr>\n",
       "    <tr>\n",
       "      <th>3931</th>\n",
       "      <td>ODI # 3932</td>\n",
       "      <td>India</td>\n",
       "      <td>New Zealand</td>\n",
       "      <td>India</td>\n",
       "      <td>6 runs</td>\n",
       "      <td>Melbourne</td>\n",
       "      <td>Oct 29, 2017</td>\n",
       "    </tr>\n",
       "  </tbody>\n",
       "</table>\n",
       "<p>3932 rows × 7 columns</p>\n",
       "</div>"
      ],
      "text/plain": [
       "       Scorecard        Team 1       Team 2        Winner     Margin  \\\n",
       "0        ODI # 1     Australia      England     Australia  5 wickets   \n",
       "1        ODI # 2       England    Australia       England  6 wickets   \n",
       "2        ODI # 3       England    Australia     Australia  5 wickets   \n",
       "3        ODI # 4       England    Australia       England  2 wickets   \n",
       "4        ODI # 5   New Zealand     Pakistan   New Zealand    22 runs   \n",
       "...          ...           ...          ...           ...        ...   \n",
       "3927  ODI # 3928         India  New Zealand   New Zealand  6 wickets   \n",
       "3928  ODI # 3929  South Africa   Bangladesh  South Africa   200 runs   \n",
       "3929  ODI # 3930      Pakistan    Sri Lanka      Pakistan  9 wickets   \n",
       "3930  ODI # 3931         India  New Zealand         India  6 wickets   \n",
       "3931  ODI # 3932         India  New Zealand         India     6 runs   \n",
       "\n",
       "         Ground    Match Date  \n",
       "0     Melbourne   Jan 5, 1971  \n",
       "1     Melbourne  Aug 24, 1972  \n",
       "2     Melbourne  Aug 26, 1972  \n",
       "3     Melbourne  Aug 28, 1972  \n",
       "4     Melbourne  Feb 11, 1973  \n",
       "...         ...           ...  \n",
       "3927  Melbourne  Oct 22, 2017  \n",
       "3928  Melbourne  Oct 22, 2017  \n",
       "3929  Melbourne  Oct 23, 2017  \n",
       "3930  Melbourne  Oct 25, 2017  \n",
       "3931  Melbourne  Oct 29, 2017  \n",
       "\n",
       "[3932 rows x 7 columns]"
      ]
     },
     "execution_count": 175,
     "metadata": {},
     "output_type": "execute_result"
    }
   ],
   "source": [
    "k = data[data['Ground']== 'Melbourne']\n",
    "k"
   ]
  },
  {
   "cell_type": "code",
   "execution_count": 182,
   "id": "df35f95e-db20-4577-8f67-61223706169d",
   "metadata": {},
   "outputs": [
    {
     "data": {
      "text/plain": [
       "Melbourne    555\n",
       "Name: Ground, dtype: int64"
      ]
     },
     "execution_count": 182,
     "metadata": {},
     "output_type": "execute_result"
    }
   ],
   "source": [
    "data1 = data[data['Winner'] == 'Australia']  \n",
    "data1['Ground'].value_counts()"
   ]
  },
  {
   "cell_type": "code",
   "execution_count": 192,
   "id": "4dc5948c-2b47-4b65-b2c8-22e3644f9b82",
   "metadata": {},
   "outputs": [
    {
     "data": {
      "text/plain": [
       "Australia       555\n",
       "India           476\n",
       "Pakistan        469\n",
       "West Indies     380\n",
       "Sri Lanka       372\n",
       "South Africa    361\n",
       "England         343\n",
       "New Zealand     324\n",
       "no result       140\n",
       "Zimbabwe        129\n",
       "Bangladesh      105\n",
       "Ireland          51\n",
       "Afghanistan      42\n",
       "Kenya            42\n",
       "tied             34\n",
       "Scotland         31\n",
       "Netherlands      28\n",
       "Canada           17\n",
       "U.A.E.            9\n",
       "Bermuda           7\n",
       "Hong Kong         6\n",
       "P.N.G.            5\n",
       "Asia XI           4\n",
       "Africa XI         1\n",
       "ICC World XI      1\n",
       "Name: Winner, dtype: int64"
      ]
     },
     "execution_count": 192,
     "metadata": {},
     "output_type": "execute_result"
    }
   ],
   "source": [
    "data['Winner'].value_counts()"
   ]
  },
  {
   "cell_type": "code",
   "execution_count": 211,
   "id": "a515b087-80c1-4d53-9692-36764a133935",
   "metadata": {},
   "outputs": [],
   "source": [
    "data1 = cdata[cdata['Winner'] == \"Lord's\"]  \n",
    "\n",
    "\n"
   ]
  },
  {
   "cell_type": "code",
   "execution_count": null,
   "id": "f9c10557-cb44-4f1d-937b-d82076622c47",
   "metadata": {},
   "outputs": [],
   "source": []
  }
 ],
 "metadata": {
  "kernelspec": {
   "display_name": "Python 3",
   "language": "python",
   "name": "python3"
  },
  "language_info": {
   "codemirror_mode": {
    "name": "ipython",
    "version": 3
   },
   "file_extension": ".py",
   "mimetype": "text/x-python",
   "name": "python",
   "nbconvert_exporter": "python",
   "pygments_lexer": "ipython3",
   "version": "3.8.1"
  }
 },
 "nbformat": 4,
 "nbformat_minor": 5
}
