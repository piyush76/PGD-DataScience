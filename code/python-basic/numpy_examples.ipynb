{
 "cells": [
  {
   "cell_type": "markdown",
   "metadata": {},
   "source": [
    "# NumPy\n",
    "\n",
    "numpy is python's package for doing math that is more advanced than +-*/\n",
    "\n",
    "This includes special functions like cosine, exponential, sqrt, ...\n",
    "\n",
    "On top of this we can use numpy to generate samples from many types of random variables\n",
    "\n",
    "numpy also has a powerful data type to define vectors, matrices, and tensors\n",
    "\n",
    "With these data types numpy also allows us to do linear algebra - matrix multiplication and matrix-vector solutions"
   ]
  },
  {
   "cell_type": "code",
   "execution_count": 4,
   "metadata": {},
   "outputs": [],
   "source": [
    "# the first step of using numpy is to tell python to use it\n",
    "import numpy as np"
   ]
  },
  {
   "cell_type": "code",
   "execution_count": 3,
   "metadata": {},
   "outputs": [
    {
     "name": "stdout",
     "output_type": "stream",
     "text": [
      "-1.0\n",
      "1.1\n",
      "5.2\n"
     ]
    }
   ],
   "source": [
    "print(np.cos(np.pi))\n",
    "print(np.sqrt(1.21))\n",
    "print(np.log(np.exp(5.2)))"
   ]
  },
  {
   "cell_type": "code",
   "execution_count": 28,
   "metadata": {},
   "outputs": [
    {
     "name": "stdout",
     "output_type": "stream",
     "text": [
      "[1 2 3]\n",
      "\n",
      "[[1 2 1]\n",
      " [4 5 9]\n",
      " [1 8 9]]\n",
      "\n",
      "[[1 4 1]\n",
      " [2 5 8]\n",
      " [1 9 9]]\n"
     ]
    }
   ],
   "source": [
    "# we can create numpy arrays by converting lists\n",
    "# this is a vector\n",
    "vec = np.array([1,2,3])\n",
    "print(vec)\n",
    "# we can create matrices by converting lists of lists\n",
    "mat = np.array([[1,2,1],[4,5,9],[1,8,9]])\n",
    "print('')\n",
    "print(mat)\n",
    "print('')\n",
    "print(mat.T)"
   ]
  },
  {
   "cell_type": "code",
   "execution_count": 29,
   "metadata": {},
   "outputs": [
    {
     "name": "stdout",
     "output_type": "stream",
     "text": [
      "[ 0  1  2  3  4  5  6  7  8  9 10 11 12 13 14]\n",
      "\n",
      "[ 3  9 15]\n"
     ]
    }
   ],
   "source": [
    "# there are lots of other ways to create numpy arrays\n",
    "vec2 = np.arange(0,15)\n",
    "print(vec2)\n",
    "print('')\n",
    "vec3 = np.arange(3,21,6)\n",
    "print(vec3)\n"
   ]
  },
  {
   "cell_type": "code",
   "execution_count": 19,
   "metadata": {},
   "outputs": [
    {
     "name": "stdout",
     "output_type": "stream",
     "text": [
      "[0.         0.55555556 1.11111111 1.66666667 2.22222222 2.77777778\n",
      " 3.33333333 3.88888889 4.44444444 5.        ]\n",
      "\n",
      "[[0.         0.55555556]\n",
      " [1.11111111 1.66666667]\n",
      " [2.22222222 2.77777778]\n",
      " [3.33333333 3.88888889]\n",
      " [4.44444444 5.        ]]\n",
      "[[0.         0.55555556]\n",
      " [1.11111111 1.66666667]\n",
      " [2.22222222 2.77777778]\n",
      " [3.33333333 3.88888889]\n",
      " [4.44444444 5.        ]]\n",
      "[0.         0.55555556 1.11111111 1.66666667 2.22222222 2.77777778\n",
      " 3.33333333 3.88888889 4.44444444 5.        ]\n"
     ]
    }
   ],
   "source": [
    "vec4 = np.linspace(0,5,10)\n",
    "print(vec4)\n",
    "print('')\n",
    "print(vec4.reshape(5,2))\n",
    "vec4_reshaped = vec4.reshape(5,2)\n",
    "print(vec4_reshaped)\n",
    "print(vec4)"
   ]
  },
  {
   "cell_type": "code",
   "execution_count": 22,
   "metadata": {},
   "outputs": [
    {
     "name": "stdout",
     "output_type": "stream",
     "text": [
      "[[0. 0. 0.]\n",
      " [0. 0. 0.]\n",
      " [0. 0. 0.]\n",
      " [0. 0. 0.]\n",
      " [0. 0. 0.]]\n",
      "\n",
      "[[1. 1. 1. 1. 1.]\n",
      " [1. 1. 1. 1. 1.]\n",
      " [1. 1. 1. 1. 1.]]\n",
      "\n",
      "[[1. 0. 0. 0. 0.]\n",
      " [0. 1. 0. 0. 0.]\n",
      " [0. 0. 1. 0. 0.]\n",
      " [0. 0. 0. 1. 0.]\n",
      " [0. 0. 0. 0. 1.]]\n"
     ]
    }
   ],
   "source": [
    "mat2 = np.zeros([5,3])\n",
    "print(mat2)\n",
    "mat3 = np.ones((3,5))\n",
    "print('')\n",
    "print(mat3)\n",
    "mat4 = np.eye(5)\n",
    "print('')\n",
    "print(mat4)"
   ]
  },
  {
   "cell_type": "code",
   "execution_count": 26,
   "metadata": {},
   "outputs": [
    {
     "name": "stdout",
     "output_type": "stream",
     "text": [
      "[1 2 3 4 5]\n",
      "[3 4 5 6 7]\n",
      "[ 4  6  8 10 12]\n",
      "[ 3  8 15 24 35]\n",
      "\n",
      "[1.         0.5        0.33333333 0.25       0.2       ]\n",
      "\n",
      "[1.73205081 2.         2.23606798 2.44948974 2.64575131]\n"
     ]
    }
   ],
   "source": [
    "# we can +-*/ arrays together if they're the right size\n",
    "vec5 = np.arange(1,6)\n",
    "vec6 = np.arange(3,8)\n",
    "print(vec5)\n",
    "print(vec6)\n",
    "print(vec5+vec6)\n",
    "print(vec5*vec6)\n",
    "print(1/vec5)\n",
    "print(np.sqrt(vec6))\n",
    "\n"
   ]
  },
  {
   "cell_type": "code",
   "execution_count": 28,
   "metadata": {},
   "outputs": [
    {
     "name": "stdout",
     "output_type": "stream",
     "text": [
      "[[1 2 1]\n",
      " [4 5 9]\n",
      " [1 8 9]]\n",
      "\n",
      "[1 2 3]\n",
      "\n",
      "[ 8 41 44]\n"
     ]
    }
   ],
   "source": [
    "# we can do matrix multiplication\n",
    "print(mat)\n",
    "print('')\n",
    "print(vec)\n",
    "print()\n",
    "product = np.matmul(mat,vec)\n",
    "print(product)\n"
   ]
  },
  {
   "cell_type": "code",
   "execution_count": 29,
   "metadata": {},
   "outputs": [
    {
     "name": "stdout",
     "output_type": "stream",
     "text": [
      "[1. 2. 3.]\n",
      "\n",
      "[[ 0.5         0.18518519 -0.24074074]\n",
      " [ 0.5        -0.14814815  0.09259259]\n",
      " [-0.5         0.11111111  0.05555556]]\n"
     ]
    }
   ],
   "source": [
    "print(np.linalg.solve(mat,product))\n",
    "print('')\n",
    "print(np.linalg.inv(mat))"
   ]
  },
  {
   "cell_type": "code",
   "execution_count": 48,
   "metadata": {},
   "outputs": [
    {
     "name": "stdout",
     "output_type": "stream",
     "text": [
      "['blue' 'red' 'orange' 'purple' 'purple' 'orange' 'Red' '6' '1.34']\n",
      "['1.34' '6' 'Red' 'blue' 'orange' 'purple' 'red']\n"
     ]
    }
   ],
   "source": [
    "# we can find the unique values in an array\n",
    "vec7 = np.array(['blue','red','orange','purple','purple','orange','Red',6,1.34])\n",
    "print(vec7)\n",
    "print(np.unique(vec7))"
   ]
  },
  {
   "cell_type": "code",
   "execution_count": 5,
   "metadata": {},
   "outputs": [
    {
     "name": "stdout",
     "output_type": "stream",
     "text": [
      "[[0.45447891 0.80095648 0.67273254 0.51557874 0.14882034]\n",
      " [0.26375542 0.52611887 0.72434532 0.56587883 0.73360436]\n",
      " [0.48710649 0.83632942 0.72219916 0.32857343 0.50214651]\n",
      " [0.72702503 0.77696711 0.57026738 0.49542133 0.78057399]\n",
      " [0.28267576 0.62153951 0.86757257 0.27160048 0.30516077]]\n",
      "\n",
      "[[ 7.50312325e-01 -2.57618954e-01 -1.77136722e+00  2.38177232e+00\n",
      "   1.33921792e+00]\n",
      " [-1.85750444e-01 -1.06621397e+00 -8.21490175e-01  6.92454672e-02\n",
      "  -2.59581545e-01]\n",
      " [ 4.39193769e-01  1.87227988e+00 -8.30824016e-01 -3.55738748e-01\n",
      "   9.24951050e-01]\n",
      " [-7.14840503e-01  6.12100804e-01  1.29696234e-01 -2.86709862e-01\n",
      "   1.60444478e+00]\n",
      " [ 1.16499353e+00  1.01672667e+00  2.24305772e-02  7.16678536e-01\n",
      "  -3.64997088e-01]\n",
      " [ 2.75466413e+00 -1.10028838e-03 -1.70316471e-01 -2.63542824e-01\n",
      "  -1.33846180e+00]\n",
      " [ 9.46830974e-01 -1.42871351e-01 -8.55099042e-01 -1.58362476e+00\n",
      "   1.45541674e-01]\n",
      " [ 1.36360281e+00 -1.93104270e-01 -7.84514186e-01 -1.89052643e+00\n",
      "   2.86309175e-01]\n",
      " [-2.56728778e+00 -2.43518467e+00 -6.87404536e-01 -1.21802089e+00\n",
      "   6.08185085e-01]\n",
      " [ 1.06094295e+00 -9.36651781e-02  3.77763335e-01  1.61055854e+00\n",
      "  -3.48338306e-02]]\n"
     ]
    }
   ],
   "source": [
    "# we can also use numpy to generate samples of a random variable\n",
    "rand_mat = np.random.rand(5,5) # uniform random variable\n",
    "print(rand_mat)\n",
    "rand_mat2 = np.random.randn(10,5) # standard normal random variable\n",
    "print('')\n",
    "print(rand_mat2)\n"
   ]
  },
  {
   "cell_type": "code",
   "execution_count": 6,
   "metadata": {},
   "outputs": [
    {
     "name": "stdout",
     "output_type": "stream",
     "text": [
      "0.5592571496695657\n",
      "1.128197370548532\n"
     ]
    }
   ],
   "source": [
    "# we can also use numpy for statistical tools on arrays\n",
    "print(np.mean(rand_mat))\n",
    "print(np.std(rand_mat2))"
   ]
  },
  {
   "cell_type": "code",
   "execution_count": 7,
   "metadata": {},
   "outputs": [
    {
     "name": "stdout",
     "output_type": "stream",
     "text": [
      "0.1488203350988292\n",
      "2.7546641327393497\n"
     ]
    }
   ],
   "source": [
    "print(np.min(rand_mat))\n",
    "print(np.max(rand_mat2))"
   ]
  },
  {
   "cell_type": "code",
   "execution_count": 56,
   "metadata": {},
   "outputs": [],
   "source": [
    "# break here for next video!\n"
   ]
  },
  {
   "cell_type": "code",
   "execution_count": null,
   "metadata": {},
   "outputs": [],
   "source": []
  },
  {
   "cell_type": "code",
   "execution_count": 8,
   "metadata": {},
   "outputs": [
    {
     "name": "stdout",
     "output_type": "stream",
     "text": [
      "[ 0.27966593 -0.25061775 -0.57677644 -1.49068652 -0.71572101 -0.61578726\n",
      " -0.67296675  1.67344873 -1.62398147  1.80920682  0.32157686  0.50943086\n",
      " -1.14268779  0.34766273 -0.0104791   1.38128575  0.1891371   1.08474149\n",
      "  1.0402064 ]\n",
      "-0.6729667525993186\n"
     ]
    }
   ],
   "source": [
    "# how do we access entries in a numpy vector\n",
    "rand_vec = np.random.randn(19)\n",
    "print(rand_vec)\n",
    "print(rand_vec[6])"
   ]
  },
  {
   "cell_type": "code",
   "execution_count": 9,
   "metadata": {},
   "outputs": [
    {
     "name": "stdout",
     "output_type": "stream",
     "text": [
      "[-0.71572101 -0.61578726 -0.67296675  1.67344873 -1.62398147]\n"
     ]
    }
   ],
   "source": [
    "# we can access multiple entries at once using :\n",
    "print(rand_vec[4:9])"
   ]
  },
  {
   "cell_type": "code",
   "execution_count": 10,
   "metadata": {},
   "outputs": [
    {
     "name": "stdout",
     "output_type": "stream",
     "text": [
      "[ 0  3  6  9 12]\n",
      "[ 0.27966593 -1.49068652 -0.67296675  1.80920682 -1.14268779]\n"
     ]
    }
   ],
   "source": [
    "# we can also access multiple non-consecutive entries using np.arange\n",
    "print(np.arange(0,15,3))\n",
    "print(rand_vec[np.arange(0,15,3)])"
   ]
  },
  {
   "cell_type": "code",
   "execution_count": 11,
   "metadata": {},
   "outputs": [
    {
     "name": "stdout",
     "output_type": "stream",
     "text": [
      "[[0.45447891 0.80095648 0.67273254 0.51557874 0.14882034]\n",
      " [0.26375542 0.52611887 0.72434532 0.56587883 0.73360436]\n",
      " [0.48710649 0.83632942 0.72219916 0.32857343 0.50214651]\n",
      " [0.72702503 0.77696711 0.57026738 0.49542133 0.78057399]\n",
      " [0.28267576 0.62153951 0.86757257 0.27160048 0.30516077]]\n",
      "0.7243453221907368\n",
      "0.7243453221907368\n"
     ]
    }
   ],
   "source": [
    "# what about matrices\n",
    "print(rand_mat)\n",
    "\n",
    "print(rand_mat[1][2])\n",
    "\n",
    "print(rand_mat[1,2])\n"
   ]
  },
  {
   "cell_type": "code",
   "execution_count": 17,
   "metadata": {},
   "outputs": [
    {
     "name": "stdout",
     "output_type": "stream",
     "text": [
      "[[0.80095648 0.67273254 0.51557874]\n",
      " [0.52611887 0.72434532 0.56587883]\n",
      " [0.83632942 0.72219916 0.32857343]\n",
      " [0.77696711 0.57026738 0.49542133]]\n"
     ]
    }
   ],
   "source": [
    "print(rand_mat[0:4,1:4])"
   ]
  },
  {
   "cell_type": "code",
   "execution_count": 18,
   "metadata": {},
   "outputs": [
    {
     "name": "stdout",
     "output_type": "stream",
     "text": [
      "[ 0.27966593 -0.25061775 -0.57677644 -1.49068652 -0.71572101 -0.61578726\n",
      " -0.67296675  1.67344873 -1.62398147  1.80920682  0.32157686  0.50943086\n",
      " -1.14268779  0.34766273 -0.0104791   1.38128575  0.1891371   1.08474149\n",
      "  1.0402064 ]\n",
      "\n",
      "[ 0.27966593 -0.25061775 -0.57677644  4.          4.         -0.61578726\n",
      " -0.67296675  1.67344873 -1.62398147  1.80920682  0.32157686  0.50943086\n",
      " -1.14268779  0.34766273 -0.0104791   1.38128575  0.1891371   1.08474149\n",
      "  1.0402064 ]\n",
      "\n",
      "[ 0.27966593 -0.25061775 -0.57677644  1.          2.         -0.61578726\n",
      " -0.67296675  1.67344873 -1.62398147  1.80920682  0.32157686  0.50943086\n",
      " -1.14268779  0.34766273 -0.0104791   1.38128575  0.1891371   1.08474149\n",
      "  1.0402064 ]\n"
     ]
    }
   ],
   "source": [
    "# let's change some values in an array!\n",
    "print(rand_vec)\n",
    "rand_vec[3:5] = 4\n",
    "print('')\n",
    "print(rand_vec)\n",
    "rand_vec[3:5] = [1,2]\n",
    "print('')\n",
    "print(rand_vec)"
   ]
  },
  {
   "cell_type": "code",
   "execution_count": 19,
   "metadata": {},
   "outputs": [
    {
     "name": "stdout",
     "output_type": "stream",
     "text": [
      "[[0.45447891 0.80095648 0.67273254 0.51557874 0.14882034]\n",
      " [0.26375542 0.52611887 0.72434532 0.56587883 0.73360436]\n",
      " [0.48710649 0.83632942 0.72219916 0.32857343 0.50214651]\n",
      " [0.72702503 0.77696711 0.57026738 0.49542133 0.78057399]\n",
      " [0.28267576 0.62153951 0.86757257 0.27160048 0.30516077]]\n",
      "\n",
      "[[0.45447891 0.80095648 0.67273254 0.51557874 0.14882034]\n",
      " [0.26375542 0.52611887 0.72434532 0.         0.        ]\n",
      " [0.48710649 0.83632942 0.72219916 0.         0.        ]\n",
      " [0.72702503 0.77696711 0.57026738 0.49542133 0.78057399]\n",
      " [0.28267576 0.62153951 0.86757257 0.27160048 0.30516077]]\n"
     ]
    }
   ],
   "source": [
    "print(rand_mat)\n",
    "rand_mat[1:3,3:5] = 0\n",
    "print('')\n",
    "print(rand_mat)"
   ]
  },
  {
   "cell_type": "code",
   "execution_count": 20,
   "metadata": {},
   "outputs": [
    {
     "name": "stdout",
     "output_type": "stream",
     "text": [
      "[[0.45447891 0.80095648 0.67273254]\n",
      " [0.26375542 0.52611887 0.72434532]]\n",
      "[[3. 3. 3.]\n",
      " [3. 3. 3.]]\n"
     ]
    }
   ],
   "source": [
    "sub_mat = rand_mat[0:2,0:3]\n",
    "print(sub_mat)\n",
    "sub_mat[:] = 3\n",
    "print(sub_mat)\n"
   ]
  },
  {
   "cell_type": "code",
   "execution_count": 21,
   "metadata": {},
   "outputs": [
    {
     "name": "stdout",
     "output_type": "stream",
     "text": [
      "[[3.         3.         3.         0.51557874 0.14882034]\n",
      " [3.         3.         3.         0.         0.        ]\n",
      " [0.48710649 0.83632942 0.72219916 0.         0.        ]\n",
      " [0.72702503 0.77696711 0.57026738 0.49542133 0.78057399]\n",
      " [0.28267576 0.62153951 0.86757257 0.27160048 0.30516077]]\n"
     ]
    }
   ],
   "source": [
    "print(rand_mat)"
   ]
  },
  {
   "cell_type": "code",
   "execution_count": null,
   "metadata": {},
   "outputs": [],
   "source": [
    "sub_mat2 = rand_mat[0:2,0:3].copy()\n",
    "sub_mat2[:] = 99\n",
    "print(sub_mat2)\n",
    "print(rand_mat)\n"
   ]
  },
  {
   "cell_type": "code",
   "execution_count": 50,
   "metadata": {},
   "outputs": [],
   "source": [
    "# break here for next video\n",
    "#########################################################\n",
    "#########################################################\n",
    "#########################################################\n",
    "\n",
    "\n",
    "\n"
   ]
  },
  {
   "cell_type": "code",
   "execution_count": 55,
   "metadata": {},
   "outputs": [
    {
     "name": "stdout",
     "output_type": "stream",
     "text": [
      "[-0.35654939  0.80759239 -1.5494885   0.64363788  0.78073608 -0.24871232\n",
      "  1.81753196 -1.00989303  1.52548756  0.71723006 -0.66212376 -0.28466709\n",
      "  0.94048963 -0.61379739  1.64125816]\n",
      "[False  True False  True  True False  True False  True  True False False\n",
      "  True False  True]\n",
      "[0.80759239 0.64363788 0.78073608 1.81753196 1.52548756 0.71723006\n",
      " 0.94048963 1.64125816]\n"
     ]
    }
   ],
   "source": [
    "# we can also access entries with logicals\n",
    "rand_vec = np.random.randn(15)\n",
    "print(rand_vec)\n",
    "print(rand_vec>0)\n",
    "\n",
    "print(rand_vec[rand_vec>0])"
   ]
  },
  {
   "cell_type": "code",
   "execution_count": 56,
   "metadata": {},
   "outputs": [
    {
     "name": "stdout",
     "output_type": "stream",
     "text": [
      "[[ 7.50312325e-01 -2.57618954e-01 -1.77136722e+00  2.38177232e+00\n",
      "   1.33921792e+00]\n",
      " [-1.85750444e-01 -1.06621397e+00 -8.21490175e-01  6.92454672e-02\n",
      "  -2.59581545e-01]\n",
      " [ 4.39193769e-01  1.87227988e+00 -8.30824016e-01 -3.55738748e-01\n",
      "   9.24951050e-01]\n",
      " [-7.14840503e-01  6.12100804e-01  1.29696234e-01 -2.86709862e-01\n",
      "   1.60444478e+00]\n",
      " [ 1.16499353e+00  1.01672667e+00  2.24305772e-02  7.16678536e-01\n",
      "  -3.64997088e-01]\n",
      " [ 2.75466413e+00 -1.10028838e-03 -1.70316471e-01 -2.63542824e-01\n",
      "  -1.33846180e+00]\n",
      " [ 9.46830974e-01 -1.42871351e-01 -8.55099042e-01 -1.58362476e+00\n",
      "   1.45541674e-01]\n",
      " [ 1.36360281e+00 -1.93104270e-01 -7.84514186e-01 -1.89052643e+00\n",
      "   2.86309175e-01]\n",
      " [-2.56728778e+00 -2.43518467e+00 -6.87404536e-01 -1.21802089e+00\n",
      "   6.08185085e-01]\n",
      " [ 1.06094295e+00 -9.36651781e-02  3.77763335e-01  1.61055854e+00\n",
      "  -3.48338306e-02]]\n",
      "[0.75031232 2.38177232 1.33921792 0.06924547 0.43919377 1.87227988\n",
      " 0.92495105 0.6121008  0.12969623 1.60444478 1.16499353 1.01672667\n",
      " 0.02243058 0.71667854 2.75466413 0.94683097 0.14554167 1.36360281\n",
      " 0.28630918 0.60818509 1.06094295 0.37776334 1.61055854]\n"
     ]
    }
   ],
   "source": [
    "print(rand_mat2)\n",
    "print(rand_mat2[rand_mat2>0])"
   ]
  },
  {
   "cell_type": "code",
   "execution_count": 57,
   "metadata": {},
   "outputs": [
    {
     "name": "stdout",
     "output_type": "stream",
     "text": [
      "[-0.35654939  0.80759239 -1.5494885   0.64363788  0.78073608 -0.24871232\n",
      "  1.81753196 -1.00989303  1.52548756  0.71723006 -0.66212376 -0.28466709\n",
      "  0.94048963 -0.61379739  1.64125816]\n",
      "\n",
      "[-0.35654939 -5.         -1.5494885  -5.         -5.         -0.24871232\n",
      " -5.         -1.00989303 -5.         -5.         -0.66212376 -0.28466709\n",
      " -5.         -0.61379739 -5.        ]\n"
     ]
    }
   ],
   "source": [
    "\n",
    "print(rand_vec)\n",
    "print('')\n",
    "rand_vec[rand_vec>0.5] = -5\n",
    "print(rand_vec)"
   ]
  },
  {
   "cell_type": "code",
   "execution_count": 58,
   "metadata": {},
   "outputs": [],
   "source": [
    "# let's save some arrays on the disk for use later!\n",
    "np.save('saved_file_name',rand_mat2)\n"
   ]
  },
  {
   "cell_type": "code",
   "execution_count": 59,
   "metadata": {},
   "outputs": [],
   "source": [
    "np.savez('zipped_file_name',rand_mat=rand_mat,rand_mat2=rand_mat2)"
   ]
  },
  {
   "cell_type": "code",
   "execution_count": 60,
   "metadata": {},
   "outputs": [
    {
     "name": "stdout",
     "output_type": "stream",
     "text": [
      "[[ 7.50312325e-01 -2.57618954e-01 -1.77136722e+00  2.38177232e+00\n",
      "   1.33921792e+00]\n",
      " [-1.85750444e-01 -1.06621397e+00 -8.21490175e-01  6.92454672e-02\n",
      "  -2.59581545e-01]\n",
      " [ 4.39193769e-01  1.87227988e+00 -8.30824016e-01 -3.55738748e-01\n",
      "   9.24951050e-01]\n",
      " [-7.14840503e-01  6.12100804e-01  1.29696234e-01 -2.86709862e-01\n",
      "   1.60444478e+00]\n",
      " [ 1.16499353e+00  1.01672667e+00  2.24305772e-02  7.16678536e-01\n",
      "  -3.64997088e-01]\n",
      " [ 2.75466413e+00 -1.10028838e-03 -1.70316471e-01 -2.63542824e-01\n",
      "  -1.33846180e+00]\n",
      " [ 9.46830974e-01 -1.42871351e-01 -8.55099042e-01 -1.58362476e+00\n",
      "   1.45541674e-01]\n",
      " [ 1.36360281e+00 -1.93104270e-01 -7.84514186e-01 -1.89052643e+00\n",
      "   2.86309175e-01]\n",
      " [-2.56728778e+00 -2.43518467e+00 -6.87404536e-01 -1.21802089e+00\n",
      "   6.08185085e-01]\n",
      " [ 1.06094295e+00 -9.36651781e-02  3.77763335e-01  1.61055854e+00\n",
      "  -3.48338306e-02]]\n",
      "\n",
      "<numpy.lib.npyio.NpzFile object at 0x0F7AAB38>\n"
     ]
    }
   ],
   "source": [
    "# now let's load it\n",
    "loaded_vec = np.load('saved_file_name.npy')\n",
    "loaded_zip = np.load('zipped_file_name.npz')\n",
    "\n",
    "print(loaded_vec)\n",
    "print('')\n",
    "print(loaded_zip)"
   ]
  },
  {
   "cell_type": "code",
   "execution_count": 61,
   "metadata": {},
   "outputs": [
    {
     "name": "stdout",
     "output_type": "stream",
     "text": [
      "[[3.         3.         3.         0.51557874 0.14882034]\n",
      " [3.         3.         3.         0.         0.        ]\n",
      " [0.48710649 0.83632942 0.72219916 0.         0.        ]\n",
      " [0.72702503 0.77696711 0.57026738 0.49542133 0.78057399]\n",
      " [0.28267576 0.62153951 0.86757257 0.27160048 0.30516077]]\n",
      "\n",
      "[[ 7.50312325e-01 -2.57618954e-01 -1.77136722e+00  2.38177232e+00\n",
      "   1.33921792e+00]\n",
      " [-1.85750444e-01 -1.06621397e+00 -8.21490175e-01  6.92454672e-02\n",
      "  -2.59581545e-01]\n",
      " [ 4.39193769e-01  1.87227988e+00 -8.30824016e-01 -3.55738748e-01\n",
      "   9.24951050e-01]\n",
      " [-7.14840503e-01  6.12100804e-01  1.29696234e-01 -2.86709862e-01\n",
      "   1.60444478e+00]\n",
      " [ 1.16499353e+00  1.01672667e+00  2.24305772e-02  7.16678536e-01\n",
      "  -3.64997088e-01]\n",
      " [ 2.75466413e+00 -1.10028838e-03 -1.70316471e-01 -2.63542824e-01\n",
      "  -1.33846180e+00]\n",
      " [ 9.46830974e-01 -1.42871351e-01 -8.55099042e-01 -1.58362476e+00\n",
      "   1.45541674e-01]\n",
      " [ 1.36360281e+00 -1.93104270e-01 -7.84514186e-01 -1.89052643e+00\n",
      "   2.86309175e-01]\n",
      " [-2.56728778e+00 -2.43518467e+00 -6.87404536e-01 -1.21802089e+00\n",
      "   6.08185085e-01]\n",
      " [ 1.06094295e+00 -9.36651781e-02  3.77763335e-01  1.61055854e+00\n",
      "  -3.48338306e-02]]\n",
      "[[3.         3.         3.         0.51557874 0.14882034]\n",
      " [3.         3.         3.         0.         0.        ]\n",
      " [0.48710649 0.83632942 0.72219916 0.         0.        ]\n",
      " [0.72702503 0.77696711 0.57026738 0.49542133 0.78057399]\n",
      " [0.28267576 0.62153951 0.86757257 0.27160048 0.30516077]]\n"
     ]
    }
   ],
   "source": [
    "print(loaded_zip['rand_mat'])\n",
    "print('')\n",
    "print(loaded_zip['rand_mat2'])\n",
    "\n",
    "new_array  = loaded_zip['rand_mat']\n",
    "print(new_array)"
   ]
  },
  {
   "cell_type": "code",
   "execution_count": 64,
   "metadata": {},
   "outputs": [
    {
     "name": "stdout",
     "output_type": "stream",
     "text": [
      "[[3.         3.         3.         0.51557874 0.14882034]\n",
      " [3.         3.         3.         0.         0.        ]\n",
      " [0.48710649 0.83632942 0.72219916 0.         0.        ]\n",
      " [0.72702503 0.77696711 0.57026738 0.49542133 0.78057399]\n",
      " [0.28267576 0.62153951 0.86757257 0.27160048 0.30516077]]\n",
      "\n",
      "[[3.         3.         3.         0.51557874 0.14882034]\n",
      " [3.         3.         3.         0.         0.        ]\n",
      " [0.48710649 0.83632942 0.72219916 0.         0.        ]\n",
      " [0.72702503 0.77696711 0.57026738 0.49542133 0.78057399]\n",
      " [0.28267576 0.62153951 0.86757257 0.27160048 0.30516077]]\n"
     ]
    }
   ],
   "source": [
    "# we can also save/load as text files...but only single variables\n",
    "np.savetxt('text_file_name.txt',rand_mat,delimiter=',')\n",
    "rand_mat_txt = np.loadtxt('text_file_name.txt',delimiter=',')\n",
    "print(rand_mat)\n",
    "print('')\n",
    "print(rand_mat_txt)"
   ]
  },
  {
   "cell_type": "code",
   "execution_count": 65,
   "metadata": {},
   "outputs": [
    {
     "name": "stdout",
     "output_type": "stream",
     "text": [
      "[ 7  8  9 10]\n"
     ]
    }
   ],
   "source": [
    "vec = np.array([4,7,8,9,10,6,1])\n",
    "print(vec[vec>6])"
   ]
  },
  {
   "cell_type": "code",
   "execution_count": 66,
   "metadata": {},
   "outputs": [
    {
     "name": "stdout",
     "output_type": "stream",
     "text": [
      "[4 2 2 2 2 6 1]\n"
     ]
    }
   ],
   "source": [
    "vec1 = np.array([4, 7, 8, 9, 10, 6, 1])\n",
    "vec1[vec1>6] = 2\n",
    "print(vec1)"
   ]
  },
  {
   "cell_type": "code",
   "execution_count": null,
   "metadata": {},
   "outputs": [],
   "source": []
  }
 ],
 "metadata": {
  "kernelspec": {
   "display_name": "Python 3",
   "language": "python",
   "name": "python3"
  },
  "language_info": {
   "codemirror_mode": {
    "name": "ipython",
    "version": 3
   },
   "file_extension": ".py",
   "mimetype": "text/x-python",
   "name": "python",
   "nbconvert_exporter": "python",
   "pygments_lexer": "ipython3",
   "version": "3.8.1"
  }
 },
 "nbformat": 4,
 "nbformat_minor": 4
}
