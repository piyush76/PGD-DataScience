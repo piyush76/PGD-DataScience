{
 "cells": [
  {
   "cell_type": "code",
   "execution_count": 1,
   "id": "7533120e-6fe7-4983-b1ba-165090d81a40",
   "metadata": {},
   "outputs": [],
   "source": [
    "# Libraries to help with reading and manipulating data\n",
    "import warnings\n",
    "warnings.filterwarnings('ignore')\n",
    "import numpy as np\n",
    "import pandas as pd\n",
    "\n",
    "# Libraries to help with data visualization\n",
    "import matplotlib.pyplot as plt\n",
    "import seaborn as sns\n",
    "# Removes the limit from the number of displayed columns and rows.\n",
    "# This is so I can see the entire dataframe when I print it\n",
    "pd.set_option('display.max_columns', None)\n",
    "# pd.set_option('display.max_rows', None)\n",
    "pd.set_option('display.max_rows', 200)\n"
   ]
  },
  {
   "cell_type": "code",
   "execution_count": 2,
   "id": "2da29dff-352f-4629-8754-e29daf47a330",
   "metadata": {},
   "outputs": [
    {
     "name": "stdout",
     "output_type": "stream",
     "text": [
      "There are 378661 rows and 14 columns.\n"
     ]
    },
    {
     "data": {
      "text/html": [
       "<div>\n",
       "<style scoped>\n",
       "    .dataframe tbody tr th:only-of-type {\n",
       "        vertical-align: middle;\n",
       "    }\n",
       "\n",
       "    .dataframe tbody tr th {\n",
       "        vertical-align: top;\n",
       "    }\n",
       "\n",
       "    .dataframe thead th {\n",
       "        text-align: right;\n",
       "    }\n",
       "</style>\n",
       "<table border=\"1\" class=\"dataframe\">\n",
       "  <thead>\n",
       "    <tr style=\"text-align: right;\">\n",
       "      <th></th>\n",
       "      <th>id</th>\n",
       "      <th>name</th>\n",
       "      <th>subcategory</th>\n",
       "      <th>category</th>\n",
       "      <th>currency</th>\n",
       "      <th>deadline</th>\n",
       "      <th>goal</th>\n",
       "      <th>launched</th>\n",
       "      <th>pledged</th>\n",
       "      <th>state</th>\n",
       "      <th>backers</th>\n",
       "      <th>country</th>\n",
       "      <th>usd_pledged_real</th>\n",
       "      <th>usd_goal_real</th>\n",
       "    </tr>\n",
       "  </thead>\n",
       "  <tbody>\n",
       "    <tr>\n",
       "      <th>99838</th>\n",
       "      <td>1506962323</td>\n",
       "      <td>2018 Comic Con/ Horror Con/ GMCC</td>\n",
       "      <td>Art</td>\n",
       "      <td>Art</td>\n",
       "      <td>USD</td>\n",
       "      <td>10-10-2017</td>\n",
       "      <td>600.0</td>\n",
       "      <td>31-08-2017 04:05</td>\n",
       "      <td>600.00</td>\n",
       "      <td>successful</td>\n",
       "      <td>4</td>\n",
       "      <td>US</td>\n",
       "      <td>600.00</td>\n",
       "      <td>600.00</td>\n",
       "    </tr>\n",
       "    <tr>\n",
       "      <th>15731</th>\n",
       "      <td>1079621785</td>\n",
       "      <td>Ixion's The Four Disgracers</td>\n",
       "      <td>Theater</td>\n",
       "      <td>Theater</td>\n",
       "      <td>USD</td>\n",
       "      <td>26-04-2014</td>\n",
       "      <td>3500.0</td>\n",
       "      <td>27-03-2014 20:21</td>\n",
       "      <td>2920.00</td>\n",
       "      <td>failed</td>\n",
       "      <td>54</td>\n",
       "      <td>US</td>\n",
       "      <td>2920.00</td>\n",
       "      <td>3500.00</td>\n",
       "    </tr>\n",
       "    <tr>\n",
       "      <th>339459</th>\n",
       "      <td>799118140</td>\n",
       "      <td>Irving Comics Inc. (Canceled)</td>\n",
       "      <td>Comics</td>\n",
       "      <td>Comics</td>\n",
       "      <td>USD</td>\n",
       "      <td>16-04-2015</td>\n",
       "      <td>10000.0</td>\n",
       "      <td>17-03-2015 20:58</td>\n",
       "      <td>75.00</td>\n",
       "      <td>canceled</td>\n",
       "      <td>1</td>\n",
       "      <td>US</td>\n",
       "      <td>75.00</td>\n",
       "      <td>10000.00</td>\n",
       "    </tr>\n",
       "    <tr>\n",
       "      <th>100211</th>\n",
       "      <td>1508896926</td>\n",
       "      <td>Breakaway</td>\n",
       "      <td>Shorts</td>\n",
       "      <td>Film &amp; Video</td>\n",
       "      <td>USD</td>\n",
       "      <td>17-10-2011</td>\n",
       "      <td>5000.0</td>\n",
       "      <td>16-09-2011 20:11</td>\n",
       "      <td>5365.00</td>\n",
       "      <td>successful</td>\n",
       "      <td>60</td>\n",
       "      <td>US</td>\n",
       "      <td>5365.00</td>\n",
       "      <td>5000.00</td>\n",
       "    </tr>\n",
       "    <tr>\n",
       "      <th>170820</th>\n",
       "      <td>1869016023</td>\n",
       "      <td>the Atomic Café Mobile</td>\n",
       "      <td>Drinks</td>\n",
       "      <td>Food</td>\n",
       "      <td>USD</td>\n",
       "      <td>19-06-2015</td>\n",
       "      <td>5000.0</td>\n",
       "      <td>20-05-2015 10:47</td>\n",
       "      <td>5111.06</td>\n",
       "      <td>successful</td>\n",
       "      <td>53</td>\n",
       "      <td>US</td>\n",
       "      <td>5111.06</td>\n",
       "      <td>5000.00</td>\n",
       "    </tr>\n",
       "    <tr>\n",
       "      <th>75113</th>\n",
       "      <td>1382708884</td>\n",
       "      <td>Shaken</td>\n",
       "      <td>Dance</td>\n",
       "      <td>Dance</td>\n",
       "      <td>USD</td>\n",
       "      <td>11-04-2011</td>\n",
       "      <td>2000.0</td>\n",
       "      <td>11-03-2011 05:13</td>\n",
       "      <td>2615.00</td>\n",
       "      <td>successful</td>\n",
       "      <td>51</td>\n",
       "      <td>US</td>\n",
       "      <td>2615.00</td>\n",
       "      <td>2000.00</td>\n",
       "    </tr>\n",
       "    <tr>\n",
       "      <th>258934</th>\n",
       "      <td>386894220</td>\n",
       "      <td>Happiness Ambassador Postcard Project Year: 20...</td>\n",
       "      <td>Mixed Media</td>\n",
       "      <td>Art</td>\n",
       "      <td>USD</td>\n",
       "      <td>29-09-2012</td>\n",
       "      <td>800.0</td>\n",
       "      <td>15-09-2012 01:29</td>\n",
       "      <td>80.00</td>\n",
       "      <td>failed</td>\n",
       "      <td>3</td>\n",
       "      <td>US</td>\n",
       "      <td>80.00</td>\n",
       "      <td>800.00</td>\n",
       "    </tr>\n",
       "    <tr>\n",
       "      <th>178566</th>\n",
       "      <td>19084902</td>\n",
       "      <td>Unlikely Friends (Short Film)</td>\n",
       "      <td>Drama</td>\n",
       "      <td>Film &amp; Video</td>\n",
       "      <td>GBP</td>\n",
       "      <td>13-03-2015</td>\n",
       "      <td>150.0</td>\n",
       "      <td>03-02-2015 09:49</td>\n",
       "      <td>5.00</td>\n",
       "      <td>failed</td>\n",
       "      <td>1</td>\n",
       "      <td>GB</td>\n",
       "      <td>7.39</td>\n",
       "      <td>221.71</td>\n",
       "    </tr>\n",
       "    <tr>\n",
       "      <th>33859</th>\n",
       "      <td>1171932479</td>\n",
       "      <td>Would you help a MONSTER make music? Yes or No?</td>\n",
       "      <td>Classical Music</td>\n",
       "      <td>Music</td>\n",
       "      <td>USD</td>\n",
       "      <td>21-09-2014</td>\n",
       "      <td>2000.0</td>\n",
       "      <td>22-08-2014 18:01</td>\n",
       "      <td>2778.00</td>\n",
       "      <td>successful</td>\n",
       "      <td>30</td>\n",
       "      <td>US</td>\n",
       "      <td>2778.00</td>\n",
       "      <td>2000.00</td>\n",
       "    </tr>\n",
       "    <tr>\n",
       "      <th>278069</th>\n",
       "      <td>484824490</td>\n",
       "      <td>Dracula: Son of the Dragon</td>\n",
       "      <td>Comics</td>\n",
       "      <td>Comics</td>\n",
       "      <td>USD</td>\n",
       "      <td>17-04-2013</td>\n",
       "      <td>14000.0</td>\n",
       "      <td>18-03-2013 16:54</td>\n",
       "      <td>15172.66</td>\n",
       "      <td>successful</td>\n",
       "      <td>329</td>\n",
       "      <td>US</td>\n",
       "      <td>15172.66</td>\n",
       "      <td>14000.00</td>\n",
       "    </tr>\n",
       "  </tbody>\n",
       "</table>\n",
       "</div>"
      ],
      "text/plain": [
       "                id                                               name  \\\n",
       "99838   1506962323                   2018 Comic Con/ Horror Con/ GMCC   \n",
       "15731   1079621785                        Ixion's The Four Disgracers   \n",
       "339459   799118140                      Irving Comics Inc. (Canceled)   \n",
       "100211  1508896926                                          Breakaway   \n",
       "170820  1869016023                             the Atomic Café Mobile   \n",
       "75113   1382708884                                             Shaken   \n",
       "258934   386894220  Happiness Ambassador Postcard Project Year: 20...   \n",
       "178566    19084902                      Unlikely Friends (Short Film)   \n",
       "33859   1171932479    Would you help a MONSTER make music? Yes or No?   \n",
       "278069   484824490                         Dracula: Son of the Dragon   \n",
       "\n",
       "            subcategory      category currency    deadline     goal  \\\n",
       "99838               Art           Art      USD  10-10-2017    600.0   \n",
       "15731           Theater       Theater      USD  26-04-2014   3500.0   \n",
       "339459           Comics        Comics      USD  16-04-2015  10000.0   \n",
       "100211           Shorts  Film & Video      USD  17-10-2011   5000.0   \n",
       "170820           Drinks          Food      USD  19-06-2015   5000.0   \n",
       "75113             Dance         Dance      USD  11-04-2011   2000.0   \n",
       "258934      Mixed Media           Art      USD  29-09-2012    800.0   \n",
       "178566            Drama  Film & Video      GBP  13-03-2015    150.0   \n",
       "33859   Classical Music         Music      USD  21-09-2014   2000.0   \n",
       "278069           Comics        Comics      USD  17-04-2013  14000.0   \n",
       "\n",
       "                launched   pledged       state  backers country  \\\n",
       "99838   31-08-2017 04:05    600.00  successful        4      US   \n",
       "15731   27-03-2014 20:21   2920.00      failed       54      US   \n",
       "339459  17-03-2015 20:58     75.00    canceled        1      US   \n",
       "100211  16-09-2011 20:11   5365.00  successful       60      US   \n",
       "170820  20-05-2015 10:47   5111.06  successful       53      US   \n",
       "75113   11-03-2011 05:13   2615.00  successful       51      US   \n",
       "258934  15-09-2012 01:29     80.00      failed        3      US   \n",
       "178566  03-02-2015 09:49      5.00      failed        1      GB   \n",
       "33859   22-08-2014 18:01   2778.00  successful       30      US   \n",
       "278069  18-03-2013 16:54  15172.66  successful      329      US   \n",
       "\n",
       "        usd_pledged_real  usd_goal_real  \n",
       "99838             600.00         600.00  \n",
       "15731            2920.00        3500.00  \n",
       "339459             75.00       10000.00  \n",
       "100211           5365.00        5000.00  \n",
       "170820           5111.06        5000.00  \n",
       "75113            2615.00        2000.00  \n",
       "258934             80.00         800.00  \n",
       "178566              7.39         221.71  \n",
       "33859            2778.00        2000.00  \n",
       "278069          15172.66       14000.00  "
      ]
     },
     "execution_count": 2,
     "metadata": {},
     "output_type": "execute_result"
    }
   ],
   "source": [
    "#read the CSV and putting the data into dataframe \n",
    "df = pd.read_csv(\"../../data/KickStarterProjects.csv\")  \n",
    "print(f'There are {df.shape[0]} rows and {df.shape[1]} columns.')  # f-string\n",
    "\n",
    "# I'm now going to look at 10 random rows\n",
    "# I'm setting the random seed via np.random.seed so that\n",
    "# I get the same random results every time\n",
    "np.random.seed(1)\n",
    "df.sample(n=10)\n"
   ]
  },
  {
   "cell_type": "code",
   "execution_count": 3,
   "id": "0930bbdf-cb95-46df-9e48-ac208dc61177",
   "metadata": {},
   "outputs": [
    {
     "name": "stdout",
     "output_type": "stream",
     "text": [
      "<class 'pandas.core.frame.DataFrame'>\n",
      "RangeIndex: 378661 entries, 0 to 378660\n",
      "Data columns (total 14 columns):\n",
      " #   Column            Non-Null Count   Dtype  \n",
      "---  ------            --------------   -----  \n",
      " 0   id                378661 non-null  int64  \n",
      " 1   name              378657 non-null  object \n",
      " 2   subcategory       378661 non-null  object \n",
      " 3   category          378661 non-null  object \n",
      " 4   currency          378661 non-null  object \n",
      " 5   deadline          378661 non-null  object \n",
      " 6   goal              378661 non-null  float64\n",
      " 7   launched          378661 non-null  object \n",
      " 8   pledged           378661 non-null  float64\n",
      " 9   state             378661 non-null  object \n",
      " 10  backers           378661 non-null  int64  \n",
      " 11  country           378661 non-null  object \n",
      " 12  usd_pledged_real  378661 non-null  float64\n",
      " 13  usd_goal_real     378661 non-null  float64\n",
      "dtypes: float64(4), int64(2), object(8)\n",
      "memory usage: 28.9+ MB\n"
     ]
    }
   ],
   "source": [
    "df.info()"
   ]
  },
  {
   "cell_type": "markdown",
   "id": "4c877d93-4e36-430e-9de9-de8deab0eb00",
   "metadata": {},
   "source": [
    "### Q:1 .Read the data into a pandas dataframe and drop the ‘currency’ and ‘goal’ columns."
   ]
  },
  {
   "cell_type": "code",
   "execution_count": 4,
   "id": "b5e37ef4-2cd2-4775-bcf8-feed8dc6400b",
   "metadata": {},
   "outputs": [
    {
     "data": {
      "text/plain": [
       "(378661, 12)"
      ]
     },
     "execution_count": 4,
     "metadata": {},
     "output_type": "execute_result"
    }
   ],
   "source": [
    "df1 = pd.read_csv(\"../../data/KickStarterProjects.csv\")  \n",
    "df1.drop(['currency','goal'], axis = 1, inplace = True)\n",
    "df1.shape"
   ]
  },
  {
   "cell_type": "markdown",
   "id": "279d0d03-d97b-4355-bd0c-6433995421ab",
   "metadata": {},
   "source": [
    "### Q2 How many columns in the dataset contain missing values?"
   ]
  },
  {
   "cell_type": "code",
   "execution_count": 5,
   "id": "95e6e294-c59f-4c64-ae98-1d1343f3b281",
   "metadata": {},
   "outputs": [
    {
     "data": {
      "text/plain": [
       "name                4\n",
       "id                  0\n",
       "subcategory         0\n",
       "category            0\n",
       "currency            0\n",
       "deadline            0\n",
       "goal                0\n",
       "launched            0\n",
       "pledged             0\n",
       "state               0\n",
       "backers             0\n",
       "country             0\n",
       "usd_pledged_real    0\n",
       "usd_goal_real       0\n",
       "dtype: int64"
      ]
     },
     "execution_count": 5,
     "metadata": {},
     "output_type": "execute_result"
    }
   ],
   "source": [
    "# looking at which columns have the most missing values\n",
    "df.isnull().sum().sort_values(ascending=False)"
   ]
  },
  {
   "cell_type": "markdown",
   "id": "ee0a9599-3543-4a15-a76d-6a736e9d828b",
   "metadata": {},
   "source": [
    "### Q3 If there are any missing values in the dataframe, drop the rows that contain missing values before moving ahead, and use this dataframe for subsequent questions.\n",
    "### How many unique project states are there in the data and which among them is the most frequent?\n"
   ]
  },
  {
   "cell_type": "code",
   "execution_count": 6,
   "id": "2abdf121-b717-4479-8f5b-5f1d53e43fb1",
   "metadata": {},
   "outputs": [
    {
     "name": "stdout",
     "output_type": "stream",
     "text": [
      "unique project states: 6\n",
      "unique project count:\n",
      " failed        197716\n",
      "successful    133956\n",
      "canceled       38779\n",
      "undefined       3562\n",
      "live            2799\n",
      "suspended       1845\n",
      "Name: state, dtype: int64\n"
     ]
    }
   ],
   "source": [
    "## Droping the rows which is missing values\n",
    "df.dropna(inplace=True)\n",
    "df['state'].nunique()\n",
    "df['state'].value_counts()\n",
    "\n",
    "print(f'unique project states: {df[\"state\"].nunique()}' )\n",
    "print(f'unique project count:\\n {df[\"state\"].value_counts()}' )\n",
    "\n"
   ]
  },
  {
   "cell_type": "markdown",
   "id": "d52ca8a2-4b29-4ae1-84ad-7828b07be355",
   "metadata": {},
   "source": [
    "### Q-4 Which of the following values (respectively) are the closest approximation of the mean and median number of backers the projects in the dataset have been able to secure?"
   ]
  },
  {
   "cell_type": "code",
   "execution_count": 7,
   "id": "ef443638-9e86-40b1-8ae4-df3abb60109e",
   "metadata": {},
   "outputs": [
    {
     "name": "stdout",
     "output_type": "stream",
     "text": [
      "Mean: 105.61854395930882 \tMedian: 12.0\n"
     ]
    }
   ],
   "source": [
    "print('Mean:',df.backers.mean(), '\\tMedian:', df.backers.median())\n"
   ]
  },
  {
   "cell_type": "markdown",
   "id": "f22f869a-1217-4d60-a163-1faad6575775",
   "metadata": {},
   "source": [
    "### Q-5 Are there any indications that the number of backers have extreme values?\n",
    "\n",
    "Mean: 105.61747578969052 \tMedian: 12.0 both have a good difference that means it has outliers\n"
   ]
  },
  {
   "cell_type": "code",
   "execution_count": null,
   "id": "523d2e7a-aa50-4f88-8c47-4222ea114e2b",
   "metadata": {},
   "outputs": [],
   "source": []
  },
  {
   "cell_type": "code",
   "execution_count": 8,
   "id": "d94b8de7-a732-445f-8225-627f650a6751",
   "metadata": {},
   "outputs": [
    {
     "name": "stdout",
     "output_type": "stream",
     "text": [
      "<class 'pandas.core.frame.DataFrame'>\n",
      "Int64Index: 378657 entries, 0 to 378660\n",
      "Data columns (total 14 columns):\n",
      " #   Column            Non-Null Count   Dtype   \n",
      "---  ------            --------------   -----   \n",
      " 0   id                378657 non-null  int64   \n",
      " 1   name              378657 non-null  category\n",
      " 2   subcategory       378657 non-null  category\n",
      " 3   category          378657 non-null  category\n",
      " 4   currency          378657 non-null  category\n",
      " 5   deadline          378657 non-null  category\n",
      " 6   goal              378657 non-null  float64 \n",
      " 7   launched          378657 non-null  category\n",
      " 8   pledged           378657 non-null  float64 \n",
      " 9   state             378657 non-null  category\n",
      " 10  backers           378657 non-null  int64   \n",
      " 11  country           378657 non-null  category\n",
      " 12  usd_pledged_real  378657 non-null  float64 \n",
      " 13  usd_goal_real     378657 non-null  float64 \n",
      "dtypes: category(8), float64(4), int64(2)\n",
      "memory usage: 37.0 MB\n"
     ]
    }
   ],
   "source": [
    "#convert the object type into the catagory all at once\n",
    "for colname in df.columns[df.dtypes == 'object']:\n",
    "    df[colname] = df[colname].astype(\"category\")\n",
    "\n",
    "df.info()"
   ]
  },
  {
   "cell_type": "code",
   "execution_count": 9,
   "id": "d1ba6eb0-ecb8-451d-bcf9-ac51d2934588",
   "metadata": {},
   "outputs": [
    {
     "data": {
      "text/plain": [
       "id                  378657\n",
       "name                375722\n",
       "subcategory            159\n",
       "category                15\n",
       "currency                14\n",
       "deadline              3164\n",
       "goal                  8353\n",
       "launched            347031\n",
       "pledged              62130\n",
       "state                    6\n",
       "backers               3963\n",
       "country                 23\n",
       "usd_pledged_real    106065\n",
       "usd_goal_real        50339\n",
       "dtype: int64"
      ]
     },
     "execution_count": 9,
     "metadata": {},
     "output_type": "execute_result"
    }
   ],
   "source": [
    "df.nunique()"
   ]
  },
  {
   "cell_type": "markdown",
   "id": "d6ff63e6-abf5-4bec-a252-b1c793b1261c",
   "metadata": {},
   "source": [
    "### Q-6 The goal amount in USD has a highly skewed distribution. Please apply min-max scaling to this column and confirm if that helped in reducing the skewness."
   ]
  },
  {
   "cell_type": "code",
   "execution_count": 10,
   "id": "01972de9-0ac6-4d42-b9f0-59bf9aa25cf4",
   "metadata": {},
   "outputs": [
    {
     "data": {
      "text/plain": [
       "<AxesSubplot:xlabel='usd_goal_real_mm_sc', ylabel='Count'>"
      ]
     },
     "execution_count": 10,
     "metadata": {},
     "output_type": "execute_result"
    },
    {
     "data": {
      "image/png": "[encoded data removed]",
      "text/plain": [
       "<Figure size 432x288 with 1 Axes>"
      ]
     },
     "metadata": {
      "needs_background": "light"
     },
     "output_type": "display_data"
    }
   ],
   "source": [
    "from sklearn.preprocessing import StandardScaler, MinMaxScaler\n",
    "\n",
    "df['usd_goal_real_mm_sc'] = MinMaxScaler().fit_transform(df[['usd_goal_real']])\n",
    "sns.histplot(df['usd_goal_real_mm_sc'], bins=50, kde=True)\n",
    "\n"
   ]
  },
  {
   "cell_type": "code",
   "execution_count": 11,
   "id": "1bd36037-3ea7-4f35-a581-bf4c198e0b16",
   "metadata": {},
   "outputs": [
    {
     "data": {
      "text/plain": [
       "<AxesSubplot:xlabel='usd_goal_real_std_sc', ylabel='Count'>"
      ]
     },
     "execution_count": 11,
     "metadata": {},
     "output_type": "execute_result"
    },
    {
     "data": {
      "image/png": "[encoded data removed]",
      "text/plain": [
       "<Figure size 432x288 with 1 Axes>"
      ]
     },
     "metadata": {
      "needs_background": "light"
     },
     "output_type": "display_data"
    }
   ],
   "source": [
    "df['usd_goal_real_std_sc'] = StandardScaler().fit_transform(df[['usd_goal_real']])\n",
    "sns.histplot(df['usd_goal_real_std_sc'], bins=50, kde=True)"
   ]
  },
  {
   "cell_type": "markdown",
   "id": "62dd0738-c787-40e3-b66a-13b70fa97dee",
   "metadata": {},
   "source": [
    "### Q7 Which of these plots represent the 'usd_goal_real' column after applying log transformation to this column?"
   ]
  },
  {
   "cell_type": "code",
   "execution_count": 12,
   "id": "c8fdd459-100a-480d-8285-26af6d456497",
   "metadata": {},
   "outputs": [
    {
     "data": {
      "text/plain": [
       "<AxesSubplot:xlabel='usd_goal_real', ylabel='Count'>"
      ]
     },
     "execution_count": 12,
     "metadata": {},
     "output_type": "execute_result"
    },
    {
     "data": {
      "image/png": "[encoded data removed]",
      "text/plain": [
       "<Figure size 432x288 with 1 Axes>"
      ]
     },
     "metadata": {
      "needs_background": "light"
     },
     "output_type": "display_data"
    }
   ],
   "source": [
    "sns.histplot(np.log(df['usd_goal_real']), bins=50, kde=True)"
   ]
  },
  {
   "cell_type": "markdown",
   "id": "4b597838-1429-4ae6-a89b-71b2bdeae156",
   "metadata": {},
   "source": [
    "### Q8 In which month was the highest number of projects launched?"
   ]
  },
  {
   "cell_type": "code",
   "execution_count": 13,
   "id": "2c944a6d-daa6-4b39-8012-73203527f511",
   "metadata": {},
   "outputs": [
    {
     "data": {
      "text/plain": [
       "7     34477\n",
       "1     34346\n",
       "10    33409\n",
       "3     32837\n",
       "11    32135\n",
       "8     31619\n",
       "5     31573\n",
       "9     31538\n",
       "6     31381\n",
       "4     31038\n",
       "2     29876\n",
       "12    24428\n",
       "Name: launch_month, dtype: int64"
      ]
     },
     "execution_count": 13,
     "metadata": {},
     "output_type": "execute_result"
    }
   ],
   "source": [
    "# adding in a feature that's just the month\n",
    "df['launch_month'] = pd.to_datetime(df['launched']).dt.month \n",
    "df['launch_month'].value_counts().sort_values(ascending = False)\n",
    "\n",
    "\n"
   ]
  },
  {
   "cell_type": "markdown",
   "id": "6968c7e7-8172-48e2-99b9-5cd9ff9ba2e0",
   "metadata": {},
   "source": [
    "### Q8 In which Year was the highest number of projects launched?\n"
   ]
  },
  {
   "cell_type": "code",
   "execution_count": 14,
   "id": "108319be-6fe7-462c-8c6e-0fc01c5a6811",
   "metadata": {},
   "outputs": [
    {
     "data": {
      "text/plain": [
       "2015    77300\n",
       "2014    67745\n",
       "2016    57183\n",
       "2017    52200\n",
       "2013    44851\n",
       "2012    41163\n",
       "2011    26236\n",
       "2010    10519\n",
       "2009     1329\n",
       "2018      124\n",
       "1970        7\n",
       "Name: launch_year, dtype: int64"
      ]
     },
     "execution_count": 14,
     "metadata": {},
     "output_type": "execute_result"
    }
   ],
   "source": [
    "df['launch_year'] = pd.to_datetime(df['launched']).dt.year\n",
    "df['launch_year'].value_counts().sort_values(ascending=False)\n"
   ]
  },
  {
   "cell_type": "markdown",
   "id": "6e403fbe-6bc3-4333-aab6-35f9531c1e19",
   "metadata": {},
   "source": [
    "### Which of the following project categories has been able to raise the most funds on average?"
   ]
  },
  {
   "cell_type": "code",
   "execution_count": 15,
   "id": "08471aad-55fc-45b7-a728-b6dbe7c48a25",
   "metadata": {},
   "outputs": [
    {
     "data": {
      "text/plain": [
       "Film & Video    63584\n",
       "Music           51918\n",
       "Publishing      39874\n",
       "Games           35230\n",
       "Technology      32569\n",
       "Design          30069\n",
       "Art             28152\n",
       "Food            24602\n",
       "Fashion         22816\n",
       "Theater         10913\n",
       "Comics          10819\n",
       "Photography     10779\n",
       "Crafts           8809\n",
       "Journalism       4755\n",
       "Dance            3768\n",
       "Name: category, dtype: int64"
      ]
     },
     "execution_count": 15,
     "metadata": {},
     "output_type": "execute_result"
    }
   ],
   "source": [
    "df['category'].nunique()\n",
    "df['category'].value_counts().sort_values(ascending=False)\n"
   ]
  },
  {
   "cell_type": "code",
   "execution_count": 16,
   "id": "9a8ce811-c238-4a08-b799-91f9e7d49d46",
   "metadata": {},
   "outputs": [
    {
     "data": {
      "text/html": [
       "<div>\n",
       "<style scoped>\n",
       "    .dataframe tbody tr th:only-of-type {\n",
       "        vertical-align: middle;\n",
       "    }\n",
       "\n",
       "    .dataframe tbody tr th {\n",
       "        vertical-align: top;\n",
       "    }\n",
       "\n",
       "    .dataframe thead th {\n",
       "        text-align: right;\n",
       "    }\n",
       "</style>\n",
       "<table border=\"1\" class=\"dataframe\">\n",
       "  <thead>\n",
       "    <tr style=\"text-align: right;\">\n",
       "      <th></th>\n",
       "      <th>id</th>\n",
       "      <th>goal</th>\n",
       "      <th>pledged</th>\n",
       "      <th>backers</th>\n",
       "      <th>usd_pledged_real</th>\n",
       "      <th>usd_goal_real</th>\n",
       "      <th>usd_goal_real_mm_sc</th>\n",
       "      <th>usd_goal_real_std_sc</th>\n",
       "      <th>launch_month</th>\n",
       "      <th>launch_year</th>\n",
       "    </tr>\n",
       "    <tr>\n",
       "      <th>category</th>\n",
       "      <th></th>\n",
       "      <th></th>\n",
       "      <th></th>\n",
       "      <th></th>\n",
       "      <th></th>\n",
       "      <th></th>\n",
       "      <th></th>\n",
       "      <th></th>\n",
       "      <th></th>\n",
       "      <th></th>\n",
       "    </tr>\n",
       "  </thead>\n",
       "  <tbody>\n",
       "    <tr>\n",
       "      <th>Design</th>\n",
       "      <td>1.078315e+09</td>\n",
       "      <td>46735.101331</td>\n",
       "      <td>27120.653196</td>\n",
       "      <td>241.307659</td>\n",
       "      <td>24417.846732</td>\n",
       "      <td>41872.697959</td>\n",
       "      <td>0.000252</td>\n",
       "      <td>-0.003106</td>\n",
       "      <td>6.537131</td>\n",
       "      <td>2014.853138</td>\n",
       "    </tr>\n",
       "    <tr>\n",
       "      <th>Technology</th>\n",
       "      <td>1.071495e+09</td>\n",
       "      <td>119712.316780</td>\n",
       "      <td>22586.164814</td>\n",
       "      <td>164.466609</td>\n",
       "      <td>21151.171165</td>\n",
       "      <td>102288.542838</td>\n",
       "      <td>0.000615</td>\n",
       "      <td>0.049294</td>\n",
       "      <td>6.532193</td>\n",
       "      <td>2015.097485</td>\n",
       "    </tr>\n",
       "    <tr>\n",
       "      <th>Games</th>\n",
       "      <td>1.072141e+09</td>\n",
       "      <td>50712.680988</td>\n",
       "      <td>21865.788251</td>\n",
       "      <td>321.794408</td>\n",
       "      <td>21042.491442</td>\n",
       "      <td>44924.925023</td>\n",
       "      <td>0.000270</td>\n",
       "      <td>-0.000459</td>\n",
       "      <td>6.367641</td>\n",
       "      <td>2014.818280</td>\n",
       "    </tr>\n",
       "    <tr>\n",
       "      <th>Comics</th>\n",
       "      <td>1.063611e+09</td>\n",
       "      <td>20243.646297</td>\n",
       "      <td>6899.311189</td>\n",
       "      <td>134.771236</td>\n",
       "      <td>6610.443828</td>\n",
       "      <td>19571.430669</td>\n",
       "      <td>0.000118</td>\n",
       "      <td>-0.022449</td>\n",
       "      <td>6.191885</td>\n",
       "      <td>2014.462612</td>\n",
       "    </tr>\n",
       "    <tr>\n",
       "      <th>Film &amp; Video</th>\n",
       "      <td>1.074955e+09</td>\n",
       "      <td>84332.190562</td>\n",
       "      <td>6362.832348</td>\n",
       "      <td>66.016230</td>\n",
       "      <td>6158.073703</td>\n",
       "      <td>82623.446274</td>\n",
       "      <td>0.000497</td>\n",
       "      <td>0.032238</td>\n",
       "      <td>6.338670</td>\n",
       "      <td>2013.557656</td>\n",
       "    </tr>\n",
       "    <tr>\n",
       "      <th>Fashion</th>\n",
       "      <td>1.069690e+09</td>\n",
       "      <td>24818.246005</td>\n",
       "      <td>6549.031814</td>\n",
       "      <td>61.447800</td>\n",
       "      <td>5712.450839</td>\n",
       "      <td>22412.409361</td>\n",
       "      <td>0.000135</td>\n",
       "      <td>-0.019985</td>\n",
       "      <td>6.508327</td>\n",
       "      <td>2014.781995</td>\n",
       "    </tr>\n",
       "    <tr>\n",
       "      <th>Food</th>\n",
       "      <td>1.081894e+09</td>\n",
       "      <td>48693.745411</td>\n",
       "      <td>5340.163268</td>\n",
       "      <td>54.172466</td>\n",
       "      <td>5113.669716</td>\n",
       "      <td>49039.620802</td>\n",
       "      <td>0.000295</td>\n",
       "      <td>0.003110</td>\n",
       "      <td>6.491139</td>\n",
       "      <td>2014.584952</td>\n",
       "    </tr>\n",
       "    <tr>\n",
       "      <th>Theater</th>\n",
       "      <td>1.068349e+09</td>\n",
       "      <td>27542.345424</td>\n",
       "      <td>4097.224679</td>\n",
       "      <td>47.057271</td>\n",
       "      <td>4005.918099</td>\n",
       "      <td>27088.321275</td>\n",
       "      <td>0.000163</td>\n",
       "      <td>-0.015929</td>\n",
       "      <td>6.184459</td>\n",
       "      <td>2013.492990</td>\n",
       "    </tr>\n",
       "    <tr>\n",
       "      <th>Music</th>\n",
       "      <td>1.074995e+09</td>\n",
       "      <td>16056.357380</td>\n",
       "      <td>3992.735602</td>\n",
       "      <td>52.168323</td>\n",
       "      <td>3858.367608</td>\n",
       "      <td>15372.161844</td>\n",
       "      <td>0.000092</td>\n",
       "      <td>-0.026091</td>\n",
       "      <td>6.318156</td>\n",
       "      <td>2013.594611</td>\n",
       "    </tr>\n",
       "    <tr>\n",
       "      <th>Photography</th>\n",
       "      <td>1.071581e+09</td>\n",
       "      <td>13003.234577</td>\n",
       "      <td>3664.646577</td>\n",
       "      <td>39.714074</td>\n",
       "      <td>3571.909322</td>\n",
       "      <td>12266.843699</td>\n",
       "      <td>0.000074</td>\n",
       "      <td>-0.028785</td>\n",
       "      <td>6.443826</td>\n",
       "      <td>2013.958159</td>\n",
       "    </tr>\n",
       "    <tr>\n",
       "      <th>Dance</th>\n",
       "      <td>1.075450e+09</td>\n",
       "      <td>10321.331290</td>\n",
       "      <td>3690.798684</td>\n",
       "      <td>42.801221</td>\n",
       "      <td>3452.946356</td>\n",
       "      <td>9588.328548</td>\n",
       "      <td>0.000058</td>\n",
       "      <td>-0.031108</td>\n",
       "      <td>6.307059</td>\n",
       "      <td>2013.755042</td>\n",
       "    </tr>\n",
       "    <tr>\n",
       "      <th>Publishing</th>\n",
       "      <td>1.077086e+09</td>\n",
       "      <td>29131.464537</td>\n",
       "      <td>3638.716374</td>\n",
       "      <td>55.966018</td>\n",
       "      <td>3349.951931</td>\n",
       "      <td>24798.240254</td>\n",
       "      <td>0.000149</td>\n",
       "      <td>-0.017916</td>\n",
       "      <td>6.385715</td>\n",
       "      <td>2014.197146</td>\n",
       "    </tr>\n",
       "    <tr>\n",
       "      <th>Art</th>\n",
       "      <td>1.077798e+09</td>\n",
       "      <td>40829.387205</td>\n",
       "      <td>3607.090354</td>\n",
       "      <td>42.206415</td>\n",
       "      <td>3221.093567</td>\n",
       "      <td>39198.725018</td>\n",
       "      <td>0.000236</td>\n",
       "      <td>-0.005426</td>\n",
       "      <td>6.370276</td>\n",
       "      <td>2014.098359</td>\n",
       "    </tr>\n",
       "    <tr>\n",
       "      <th>Journalism</th>\n",
       "      <td>1.076352e+09</td>\n",
       "      <td>88783.576925</td>\n",
       "      <td>3218.085216</td>\n",
       "      <td>38.294637</td>\n",
       "      <td>2615.702568</td>\n",
       "      <td>86003.395014</td>\n",
       "      <td>0.000517</td>\n",
       "      <td>0.035170</td>\n",
       "      <td>6.408412</td>\n",
       "      <td>2014.589905</td>\n",
       "    </tr>\n",
       "    <tr>\n",
       "      <th>Crafts</th>\n",
       "      <td>1.078527e+09</td>\n",
       "      <td>11592.285901</td>\n",
       "      <td>2016.153947</td>\n",
       "      <td>27.283687</td>\n",
       "      <td>1632.907282</td>\n",
       "      <td>10434.466228</td>\n",
       "      <td>0.000063</td>\n",
       "      <td>-0.030374</td>\n",
       "      <td>6.439210</td>\n",
       "      <td>2015.025088</td>\n",
       "    </tr>\n",
       "  </tbody>\n",
       "</table>\n",
       "</div>"
      ],
      "text/plain": [
       "                        id           goal       pledged     backers  \\\n",
       "category                                                              \n",
       "Design        1.078315e+09   46735.101331  27120.653196  241.307659   \n",
       "Technology    1.071495e+09  119712.316780  22586.164814  164.466609   \n",
       "Games         1.072141e+09   50712.680988  21865.788251  321.794408   \n",
       "Comics        1.063611e+09   20243.646297   6899.311189  134.771236   \n",
       "Film & Video  1.074955e+09   84332.190562   6362.832348   66.016230   \n",
       "Fashion       1.069690e+09   24818.246005   6549.031814   61.447800   \n",
       "Food          1.081894e+09   48693.745411   5340.163268   54.172466   \n",
       "Theater       1.068349e+09   27542.345424   4097.224679   47.057271   \n",
       "Music         1.074995e+09   16056.357380   3992.735602   52.168323   \n",
       "Photography   1.071581e+09   13003.234577   3664.646577   39.714074   \n",
       "Dance         1.075450e+09   10321.331290   3690.798684   42.801221   \n",
       "Publishing    1.077086e+09   29131.464537   3638.716374   55.966018   \n",
       "Art           1.077798e+09   40829.387205   3607.090354   42.206415   \n",
       "Journalism    1.076352e+09   88783.576925   3218.085216   38.294637   \n",
       "Crafts        1.078527e+09   11592.285901   2016.153947   27.283687   \n",
       "\n",
       "              usd_pledged_real  usd_goal_real  usd_goal_real_mm_sc  \\\n",
       "category                                                             \n",
       "Design            24417.846732   41872.697959             0.000252   \n",
       "Technology        21151.171165  102288.542838             0.000615   \n",
       "Games             21042.491442   44924.925023             0.000270   \n",
       "Comics             6610.443828   19571.430669             0.000118   \n",
       "Film & Video       6158.073703   82623.446274             0.000497   \n",
       "Fashion            5712.450839   22412.409361             0.000135   \n",
       "Food               5113.669716   49039.620802             0.000295   \n",
       "Theater            4005.918099   27088.321275             0.000163   \n",
       "Music              3858.367608   15372.161844             0.000092   \n",
       "Photography        3571.909322   12266.843699             0.000074   \n",
       "Dance              3452.946356    9588.328548             0.000058   \n",
       "Publishing         3349.951931   24798.240254             0.000149   \n",
       "Art                3221.093567   39198.725018             0.000236   \n",
       "Journalism         2615.702568   86003.395014             0.000517   \n",
       "Crafts             1632.907282   10434.466228             0.000063   \n",
       "\n",
       "              usd_goal_real_std_sc  launch_month  launch_year  \n",
       "category                                                       \n",
       "Design                   -0.003106      6.537131  2014.853138  \n",
       "Technology                0.049294      6.532193  2015.097485  \n",
       "Games                    -0.000459      6.367641  2014.818280  \n",
       "Comics                   -0.022449      6.191885  2014.462612  \n",
       "Film & Video              0.032238      6.338670  2013.557656  \n",
       "Fashion                  -0.019985      6.508327  2014.781995  \n",
       "Food                      0.003110      6.491139  2014.584952  \n",
       "Theater                  -0.015929      6.184459  2013.492990  \n",
       "Music                    -0.026091      6.318156  2013.594611  \n",
       "Photography              -0.028785      6.443826  2013.958159  \n",
       "Dance                    -0.031108      6.307059  2013.755042  \n",
       "Publishing               -0.017916      6.385715  2014.197146  \n",
       "Art                      -0.005426      6.370276  2014.098359  \n",
       "Journalism                0.035170      6.408412  2014.589905  \n",
       "Crafts                   -0.030374      6.439210  2015.025088  "
      ]
     },
     "execution_count": 16,
     "metadata": {},
     "output_type": "execute_result"
    }
   ],
   "source": [
    "df.groupby(['category']).mean().sort_values(by='usd_pledged_real', ascending=False)"
   ]
  },
  {
   "cell_type": "markdown",
   "id": "55d6d6fe-32c9-4163-b6b7-8e41a51de5ff",
   "metadata": {},
   "source": [
    "### Q10  Are there any duplicates in the project names?"
   ]
  },
  {
   "cell_type": "code",
   "execution_count": 17,
   "id": "a47c01cb-a747-4a52-a835-d1c468610c25",
   "metadata": {},
   "outputs": [
    {
     "data": {
      "text/plain": [
       "#NAME?                                                          43\n",
       "New EP/Music Development                                        41\n",
       "Canceled (Canceled)                                             13\n",
       "N/A (Canceled)                                                  11\n",
       "Music Video                                                     11\n",
       "                                                                ..\n",
       "warbird photography calendar 2016                                1\n",
       "wardrobe                                                         1\n",
       "wargaming scenery and terrain                                    1\n",
       "warmpod.com                                                      1\n",
       "€9 Universal Remote Control App for kid mum dad grandparents     1\n",
       "Name: name, Length: 375722, dtype: int64"
      ]
     },
     "execution_count": 17,
     "metadata": {},
     "output_type": "execute_result"
    }
   ],
   "source": [
    "df['name'].nunique()\n",
    "df['name'].value_counts().sort_values(ascending=False)\n"
   ]
  },
  {
   "cell_type": "code",
   "execution_count": 18,
   "id": "248e3c4a-a54f-4ae3-8ef2-0abb93c0b839",
   "metadata": {},
   "outputs": [
    {
     "data": {
      "text/plain": [
       "#NAME?                                                          43\n",
       "New EP/Music Development                                        41\n",
       "Canceled (Canceled)                                             13\n",
       "N/A (Canceled)                                                  11\n",
       "Music Video                                                     11\n",
       "                                                                ..\n",
       "Games To Go                                                      1\n",
       "Games To Canvas                                                  1\n",
       "Games That Teach You To Program (Canceled)                       1\n",
       "Games Save the World                                             1\n",
       "€9 Universal Remote Control App for kid mum dad grandparents     1\n",
       "Name: name, Length: 375722, dtype: int64"
      ]
     },
     "execution_count": 18,
     "metadata": {},
     "output_type": "execute_result"
    }
   ],
   "source": [
    "df['name'].value_counts(dropna = False)"
   ]
  },
  {
   "cell_type": "code",
   "execution_count": 19,
   "id": "b2256060-be9a-4ee5-b4ca-792db1c51ee3",
   "metadata": {},
   "outputs": [
    {
     "data": {
      "text/plain": [
       "array([ 7.25, 18.75])"
      ]
     },
     "execution_count": 19,
     "metadata": {},
     "output_type": "execute_result"
    }
   ],
   "source": [
    "data= [2, 5, 12, 15, 19, 4, 6, 11, 16, 18, 12, 12, 42, 6, 56, 34, 23, 11]\n",
    "\n",
    "np.quantile(data,[0.25,0.75])\n"
   ]
  },
  {
   "cell_type": "code",
   "execution_count": null,
   "id": "a31e8369-56f0-4e07-b94b-156d989beef5",
   "metadata": {},
   "outputs": [],
   "source": []
  }
 ],
 "metadata": {
  "kernelspec": {
   "display_name": "Python 3",
   "language": "python",
   "name": "python3"
  },
  "language_info": {
   "codemirror_mode": {
    "name": "ipython",
    "version": 3
   },
   "file_extension": ".py",
   "mimetype": "text/x-python",
   "name": "python",
   "nbconvert_exporter": "python",
   "pygments_lexer": "ipython3",
   "version": "3.8.1"
  }
 },
 "nbformat": 4,
 "nbformat_minor": 5
}
