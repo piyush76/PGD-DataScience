{
 "cells": [
  {
   "cell_type": "markdown",
   "metadata": {
    "colab_type": "text",
    "id": "l9UVOxSmU_om"
   },
   "source": [
    "# Life Expectancy Case Study"
   ]
  },
  {
   "cell_type": "markdown",
   "metadata": {},
   "source": [
    "### In the previous session, we focused on EDA, data preparation for modeling and training and evaluating a model. We also introduced statsmodels OLS.\n",
    "\n",
    "### In this session, we will focus on data preprocessing, linear regression assumptions, and interpreting the model."
   ]
  },
  {
   "cell_type": "markdown",
   "metadata": {},
   "source": [
    "## Context \n",
    "    \n",
    "Many studies have been undertaken in the past on factors affecting life expectancy, considering demographic variables, income composition, and mortality rates. It was found that the effect of immunization and human development index was not taken into account in the past studies, and important immunizations like Hepatitis B, Polio, and Diphtheria should also be taken into account. In this case study, we will consider immunization factors, mortality factors, economic factors, social factors, and other health-related factors and use linear regression to see the effect of those factors on Life Expectancy.\n",
    "\n",
    "\n",
    "## Objective\n",
    "To analyze the data and build a linear regression model that can predict the life expectancy of the people of a country.\n",
    "\n",
    "\n",
    "## Key Questions\n",
    "\n",
    "- Does life expectancy have a positive or negative correlation with the different factors (immunization, mortality, socio-economic, etc.) taken into consideration for the countries?\n",
    "- Can we build a linear model to predict life expectancy? If yes, how accurate will the model be?\n",
    "- What are the predictive variables actually affecting life expectancy?\n",
    "\n",
    "\n",
    "## Data Description\n",
    "\n",
    "The dataset contains immunization factors, mortality factors, economic factors, social factors, and other health-related factors for different countries across different years.\n",
    "\n",
    "**Data Dictionary**\n",
    "\n",
    "- Country: Country\n",
    "- Year: Year\n",
    "- Status: Developed or Developing status\n",
    "- Life expectancy: Life Expectancy in years\n",
    "- Adult Mortality: Adult Mortality Rates of both sexes (probability of dying between 15 and 60 years per 1000 population)\n",
    "- Infant deaths: Number of Infant Deaths per 1000 population\n",
    "- Alcohol: Alcohol, recorded per capita (15+) consumption (in liters of pure alcohol)\n",
    "- percentage expenditure: Expenditure on health as a percentage of Gross Domestic Product per capita(%)\n",
    "- Hepatitis B: Hepatitis B (HepB) immunization coverage among 1-year-olds (%)\n",
    "- Measles: number of reported cases of Measles per 1000 population\n",
    "- BMI: Average Body Mass Index of the entire population\n",
    "- under-five deaths: Number of under-five deaths per 1000 population\n",
    "- Polio: Polio (Pol3) immunization coverage among 1-year-olds (%)\n",
    "- Total expenditure: General government expenditure on health as a percentage of total government expenditure (%)\n",
    "- Diphtheria: Diphtheria tetanus toxoid and pertussis (DTP3) immunization coverage among 1-year-olds (%)\n",
    "- HIV/AIDS: Deaths per 1000 live births due to HIV/AIDS (0-4 years)\n",
    "- GDP: Gross Domestic Product per capita (in USD)\n",
    "- Population: Population of the country\n",
    "- thinness  1-19 years: Prevalence of thinness among children and adolescents for Age 10 to 19 (% )\n",
    "- thinness 5-9 years: Prevalence of thinness among children for Age 5 to 9(%)\n",
    "- Income composition of resources: Human Development Index in terms of income composition of resources (index ranging from 0 to 1)\n",
    "- Schooling: Number of years of schooling"
   ]
  },
  {
   "cell_type": "markdown",
   "metadata": {
    "id": "ztm8i-vTbbj8"
   },
   "source": [
    "## Let's start coding!"
   ]
  },
  {
   "cell_type": "markdown",
   "metadata": {},
   "source": [
    "### Importing necessary libraries"
   ]
  },
  {
   "cell_type": "code",
   "execution_count": 1,
   "metadata": {
    "colab": {
     "base_uri": "https://localhost:8080/",
     "height": 71
    },
    "id": "I1OMxQ78FIOG",
    "outputId": "62c46aa7-39df-4aba-8d66-6cc2d4c0dfe8"
   },
   "outputs": [
    {
     "data": {
      "application/javascript": [
       "\n",
       "            setTimeout(function() {\n",
       "                var nbb_cell_id = 1;\n",
       "                var nbb_unformatted_code = \"# this will help in making the Python code more structured automatically (good coding practice)\\n%load_ext nb_black\\n\\n# Libraries to help with reading and manipulating data\\nimport numpy as np\\nimport pandas as pd\\n\\n# Libraries to help with data visualization\\nimport matplotlib.pyplot as plt\\nimport seaborn as sns\\n\\nsns.set()\\n\\n# to split the data into train and test\\nfrom sklearn.model_selection import train_test_split\\n\\n# to build linear regression_model\\nfrom sklearn.linear_model import LinearRegression\\n\\n# to check model performance\\nfrom sklearn.metrics import mean_absolute_error, mean_squared_error, r2_score\\n\\n# to build linear regression_model using statsmodels\\nimport statsmodels.api as sm\";\n",
       "                var nbb_formatted_code = \"# this will help in making the Python code more structured automatically (good coding practice)\\n%load_ext nb_black\\n\\n# Libraries to help with reading and manipulating data\\nimport numpy as np\\nimport pandas as pd\\n\\n# Libraries to help with data visualization\\nimport matplotlib.pyplot as plt\\nimport seaborn as sns\\n\\nsns.set()\\n\\n# to split the data into train and test\\nfrom sklearn.model_selection import train_test_split\\n\\n# to build linear regression_model\\nfrom sklearn.linear_model import LinearRegression\\n\\n# to check model performance\\nfrom sklearn.metrics import mean_absolute_error, mean_squared_error, r2_score\\n\\n# to build linear regression_model using statsmodels\\nimport statsmodels.api as sm\";\n",
       "                var nbb_cells = Jupyter.notebook.get_cells();\n",
       "                for (var i = 0; i < nbb_cells.length; ++i) {\n",
       "                    if (nbb_cells[i].input_prompt_number == nbb_cell_id) {\n",
       "                        if (nbb_cells[i].get_text() == nbb_unformatted_code) {\n",
       "                             nbb_cells[i].set_text(nbb_formatted_code);\n",
       "                        }\n",
       "                        break;\n",
       "                    }\n",
       "                }\n",
       "            }, 500);\n",
       "            "
      ],
      "text/plain": [
       "<IPython.core.display.Javascript object>"
      ]
     },
     "metadata": {},
     "output_type": "display_data"
    }
   ],
   "source": [
    "# this will help in making the Python code more structured automatically (good coding practice)\n",
    "%load_ext nb_black\n",
    "\n",
    "# Libraries to help with reading and manipulating data\n",
    "import numpy as np\n",
    "import pandas as pd\n",
    "\n",
    "# Libraries to help with data visualization\n",
    "import matplotlib.pyplot as plt\n",
    "import seaborn as sns\n",
    "\n",
    "sns.set()\n",
    "\n",
    "# to split the data into train and test\n",
    "from sklearn.model_selection import train_test_split\n",
    "\n",
    "# to build linear regression_model\n",
    "from sklearn.linear_model import LinearRegression\n",
    "\n",
    "# to check model performance\n",
    "from sklearn.metrics import mean_absolute_error, mean_squared_error, r2_score\n",
    "\n",
    "# to build linear regression_model using statsmodels\n",
    "import statsmodels.api as sm"
   ]
  },
  {
   "cell_type": "code",
   "execution_count": 2,
   "metadata": {
    "id": "s1w7UuCkFTtD"
   },
   "outputs": [
    {
     "data": {
      "application/javascript": [
       "\n",
       "            setTimeout(function() {\n",
       "                var nbb_cell_id = 2;\n",
       "                var nbb_unformatted_code = \"# loading the dataset\\ndata = pd.read_csv(\\\"../../data/Life Expectancy Data.csv\\\")\";\n",
       "                var nbb_formatted_code = \"# loading the dataset\\ndata = pd.read_csv(\\\"../../data/Life Expectancy Data.csv\\\")\";\n",
       "                var nbb_cells = Jupyter.notebook.get_cells();\n",
       "                for (var i = 0; i < nbb_cells.length; ++i) {\n",
       "                    if (nbb_cells[i].input_prompt_number == nbb_cell_id) {\n",
       "                        if (nbb_cells[i].get_text() == nbb_unformatted_code) {\n",
       "                             nbb_cells[i].set_text(nbb_formatted_code);\n",
       "                        }\n",
       "                        break;\n",
       "                    }\n",
       "                }\n",
       "            }, 500);\n",
       "            "
      ],
      "text/plain": [
       "<IPython.core.display.Javascript object>"
      ]
     },
     "metadata": {},
     "output_type": "display_data"
    }
   ],
   "source": [
    "# loading the dataset\n",
    "data = pd.read_csv(\"../../data/Life Expectancy Data.csv\")"
   ]
  },
  {
   "cell_type": "markdown",
   "metadata": {},
   "source": [
    "### Data Overview"
   ]
  },
  {
   "cell_type": "code",
   "execution_count": 3,
   "metadata": {
    "colab": {
     "base_uri": "https://localhost:8080/",
     "height": 275
    },
    "id": "eTZBaF-mFYo3",
    "outputId": "0d499e61-bd4d-4beb-f873-942148e5671c"
   },
   "outputs": [
    {
     "data": {
      "text/html": [
       "<div>\n",
       "<style scoped>\n",
       "    .dataframe tbody tr th:only-of-type {\n",
       "        vertical-align: middle;\n",
       "    }\n",
       "\n",
       "    .dataframe tbody tr th {\n",
       "        vertical-align: top;\n",
       "    }\n",
       "\n",
       "    .dataframe thead th {\n",
       "        text-align: right;\n",
       "    }\n",
       "</style>\n",
       "<table border=\"1\" class=\"dataframe\">\n",
       "  <thead>\n",
       "    <tr style=\"text-align: right;\">\n",
       "      <th></th>\n",
       "      <th>Country</th>\n",
       "      <th>Year</th>\n",
       "      <th>Status</th>\n",
       "      <th>Life expectancy</th>\n",
       "      <th>Adult Mortality</th>\n",
       "      <th>Infant deaths</th>\n",
       "      <th>Alcohol</th>\n",
       "      <th>Percentage expenditure</th>\n",
       "      <th>Hepatitis B</th>\n",
       "      <th>Measles</th>\n",
       "      <th>...</th>\n",
       "      <th>Polio</th>\n",
       "      <th>Total expenditure</th>\n",
       "      <th>Diphtheria</th>\n",
       "      <th>HIV/AIDS</th>\n",
       "      <th>GDP</th>\n",
       "      <th>Population</th>\n",
       "      <th>Thinness  1-19 years</th>\n",
       "      <th>Thinness 5-9 years</th>\n",
       "      <th>Income composition of resources</th>\n",
       "      <th>Schooling</th>\n",
       "    </tr>\n",
       "  </thead>\n",
       "  <tbody>\n",
       "    <tr>\n",
       "      <th>0</th>\n",
       "      <td>Afghanistan</td>\n",
       "      <td>2015</td>\n",
       "      <td>Developing</td>\n",
       "      <td>65.0</td>\n",
       "      <td>263.0</td>\n",
       "      <td>62</td>\n",
       "      <td>0.01</td>\n",
       "      <td>71.279624</td>\n",
       "      <td>65.0</td>\n",
       "      <td>1154</td>\n",
       "      <td>...</td>\n",
       "      <td>6.0</td>\n",
       "      <td>8.16</td>\n",
       "      <td>65.0</td>\n",
       "      <td>0.1</td>\n",
       "      <td>584.259210</td>\n",
       "      <td>33736494.0</td>\n",
       "      <td>17.2</td>\n",
       "      <td>17.3</td>\n",
       "      <td>0.479</td>\n",
       "      <td>10.1</td>\n",
       "    </tr>\n",
       "    <tr>\n",
       "      <th>1</th>\n",
       "      <td>Afghanistan</td>\n",
       "      <td>2014</td>\n",
       "      <td>Developing</td>\n",
       "      <td>59.9</td>\n",
       "      <td>271.0</td>\n",
       "      <td>64</td>\n",
       "      <td>0.01</td>\n",
       "      <td>73.523582</td>\n",
       "      <td>62.0</td>\n",
       "      <td>492</td>\n",
       "      <td>...</td>\n",
       "      <td>58.0</td>\n",
       "      <td>8.18</td>\n",
       "      <td>62.0</td>\n",
       "      <td>0.1</td>\n",
       "      <td>612.696514</td>\n",
       "      <td>327582.0</td>\n",
       "      <td>17.5</td>\n",
       "      <td>17.5</td>\n",
       "      <td>0.476</td>\n",
       "      <td>10.0</td>\n",
       "    </tr>\n",
       "    <tr>\n",
       "      <th>2</th>\n",
       "      <td>Afghanistan</td>\n",
       "      <td>2013</td>\n",
       "      <td>Developing</td>\n",
       "      <td>59.9</td>\n",
       "      <td>268.0</td>\n",
       "      <td>66</td>\n",
       "      <td>0.01</td>\n",
       "      <td>73.219243</td>\n",
       "      <td>64.0</td>\n",
       "      <td>430</td>\n",
       "      <td>...</td>\n",
       "      <td>62.0</td>\n",
       "      <td>8.13</td>\n",
       "      <td>64.0</td>\n",
       "      <td>0.1</td>\n",
       "      <td>631.744976</td>\n",
       "      <td>31731688.0</td>\n",
       "      <td>17.7</td>\n",
       "      <td>17.7</td>\n",
       "      <td>0.470</td>\n",
       "      <td>9.9</td>\n",
       "    </tr>\n",
       "    <tr>\n",
       "      <th>3</th>\n",
       "      <td>Afghanistan</td>\n",
       "      <td>2012</td>\n",
       "      <td>Developing</td>\n",
       "      <td>59.5</td>\n",
       "      <td>272.0</td>\n",
       "      <td>69</td>\n",
       "      <td>0.01</td>\n",
       "      <td>78.184215</td>\n",
       "      <td>67.0</td>\n",
       "      <td>2787</td>\n",
       "      <td>...</td>\n",
       "      <td>67.0</td>\n",
       "      <td>8.52</td>\n",
       "      <td>67.0</td>\n",
       "      <td>0.1</td>\n",
       "      <td>669.959000</td>\n",
       "      <td>3696958.0</td>\n",
       "      <td>17.9</td>\n",
       "      <td>18.0</td>\n",
       "      <td>0.463</td>\n",
       "      <td>9.8</td>\n",
       "    </tr>\n",
       "    <tr>\n",
       "      <th>4</th>\n",
       "      <td>Afghanistan</td>\n",
       "      <td>2011</td>\n",
       "      <td>Developing</td>\n",
       "      <td>59.2</td>\n",
       "      <td>275.0</td>\n",
       "      <td>71</td>\n",
       "      <td>0.01</td>\n",
       "      <td>7.097109</td>\n",
       "      <td>68.0</td>\n",
       "      <td>3013</td>\n",
       "      <td>...</td>\n",
       "      <td>68.0</td>\n",
       "      <td>7.87</td>\n",
       "      <td>68.0</td>\n",
       "      <td>0.1</td>\n",
       "      <td>63.537231</td>\n",
       "      <td>2978599.0</td>\n",
       "      <td>18.2</td>\n",
       "      <td>18.2</td>\n",
       "      <td>0.454</td>\n",
       "      <td>9.5</td>\n",
       "    </tr>\n",
       "  </tbody>\n",
       "</table>\n",
       "<p>5 rows × 22 columns</p>\n",
       "</div>"
      ],
      "text/plain": [
       "       Country  Year      Status  Life expectancy  Adult Mortality  \\\n",
       "0  Afghanistan  2015  Developing             65.0            263.0   \n",
       "1  Afghanistan  2014  Developing             59.9            271.0   \n",
       "2  Afghanistan  2013  Developing             59.9            268.0   \n",
       "3  Afghanistan  2012  Developing             59.5            272.0   \n",
       "4  Afghanistan  2011  Developing             59.2            275.0   \n",
       "\n",
       "   Infant deaths  Alcohol  Percentage expenditure  Hepatitis B  Measles  ...  \\\n",
       "0             62     0.01               71.279624         65.0     1154  ...   \n",
       "1             64     0.01               73.523582         62.0      492  ...   \n",
       "2             66     0.01               73.219243         64.0      430  ...   \n",
       "3             69     0.01               78.184215         67.0     2787  ...   \n",
       "4             71     0.01                7.097109         68.0     3013  ...   \n",
       "\n",
       "   Polio  Total expenditure  Diphtheria  HIV/AIDS         GDP  Population  \\\n",
       "0    6.0               8.16        65.0       0.1  584.259210  33736494.0   \n",
       "1   58.0               8.18        62.0       0.1  612.696514    327582.0   \n",
       "2   62.0               8.13        64.0       0.1  631.744976  31731688.0   \n",
       "3   67.0               8.52        67.0       0.1  669.959000   3696958.0   \n",
       "4   68.0               7.87        68.0       0.1   63.537231   2978599.0   \n",
       "\n",
       "   Thinness  1-19 years  Thinness 5-9 years  Income composition of resources  \\\n",
       "0                  17.2                17.3                            0.479   \n",
       "1                  17.5                17.5                            0.476   \n",
       "2                  17.7                17.7                            0.470   \n",
       "3                  17.9                18.0                            0.463   \n",
       "4                  18.2                18.2                            0.454   \n",
       "\n",
       "   Schooling  \n",
       "0       10.1  \n",
       "1       10.0  \n",
       "2        9.9  \n",
       "3        9.8  \n",
       "4        9.5  \n",
       "\n",
       "[5 rows x 22 columns]"
      ]
     },
     "execution_count": 3,
     "metadata": {},
     "output_type": "execute_result"
    },
    {
     "data": {
      "application/javascript": [
       "\n",
       "            setTimeout(function() {\n",
       "                var nbb_cell_id = 3;\n",
       "                var nbb_unformatted_code = \"data.head()\";\n",
       "                var nbb_formatted_code = \"data.head()\";\n",
       "                var nbb_cells = Jupyter.notebook.get_cells();\n",
       "                for (var i = 0; i < nbb_cells.length; ++i) {\n",
       "                    if (nbb_cells[i].input_prompt_number == nbb_cell_id) {\n",
       "                        if (nbb_cells[i].get_text() == nbb_unformatted_code) {\n",
       "                             nbb_cells[i].set_text(nbb_formatted_code);\n",
       "                        }\n",
       "                        break;\n",
       "                    }\n",
       "                }\n",
       "            }, 500);\n",
       "            "
      ],
      "text/plain": [
       "<IPython.core.display.Javascript object>"
      ]
     },
     "metadata": {},
     "output_type": "display_data"
    }
   ],
   "source": [
    "data.head()"
   ]
  },
  {
   "cell_type": "code",
   "execution_count": 4,
   "metadata": {
    "colab": {
     "base_uri": "https://localhost:8080/",
     "height": 34
    },
    "id": "5ZUbpN-BFXme",
    "outputId": "1a3d833d-7724-4287-c91c-e92fe98eb00b"
   },
   "outputs": [
    {
     "data": {
      "text/plain": [
       "(2938, 22)"
      ]
     },
     "execution_count": 4,
     "metadata": {},
     "output_type": "execute_result"
    },
    {
     "data": {
      "application/javascript": [
       "\n",
       "            setTimeout(function() {\n",
       "                var nbb_cell_id = 4;\n",
       "                var nbb_unformatted_code = \"# check number of rows and columns\\ndata.shape\";\n",
       "                var nbb_formatted_code = \"# check number of rows and columns\\ndata.shape\";\n",
       "                var nbb_cells = Jupyter.notebook.get_cells();\n",
       "                for (var i = 0; i < nbb_cells.length; ++i) {\n",
       "                    if (nbb_cells[i].input_prompt_number == nbb_cell_id) {\n",
       "                        if (nbb_cells[i].get_text() == nbb_unformatted_code) {\n",
       "                             nbb_cells[i].set_text(nbb_formatted_code);\n",
       "                        }\n",
       "                        break;\n",
       "                    }\n",
       "                }\n",
       "            }, 500);\n",
       "            "
      ],
      "text/plain": [
       "<IPython.core.display.Javascript object>"
      ]
     },
     "metadata": {},
     "output_type": "display_data"
    }
   ],
   "source": [
    "# check number of rows and columns\n",
    "data.shape"
   ]
  },
  {
   "cell_type": "markdown",
   "metadata": {},
   "source": [
    "* The dataset has 2938 rows and 22 columns. "
   ]
  },
  {
   "cell_type": "code",
   "execution_count": 5,
   "metadata": {
    "colab": {
     "base_uri": "https://localhost:8080/",
     "height": 510
    },
    "id": "SCmj9LyLFZ_W",
    "outputId": "66e81519-c35f-4509-f9f2-4844ed3fad32"
   },
   "outputs": [
    {
     "name": "stdout",
     "output_type": "stream",
     "text": [
      "<class 'pandas.core.frame.DataFrame'>\n",
      "RangeIndex: 2938 entries, 0 to 2937\n",
      "Data columns (total 22 columns):\n",
      " #   Column                           Non-Null Count  Dtype  \n",
      "---  ------                           --------------  -----  \n",
      " 0   Country                          2938 non-null   object \n",
      " 1   Year                             2938 non-null   int64  \n",
      " 2   Status                           2938 non-null   object \n",
      " 3   Life expectancy                  2928 non-null   float64\n",
      " 4   Adult Mortality                  2928 non-null   float64\n",
      " 5   Infant deaths                    2938 non-null   int64  \n",
      " 6   Alcohol                          2744 non-null   float64\n",
      " 7   Percentage expenditure           2938 non-null   float64\n",
      " 8   Hepatitis B                      2385 non-null   float64\n",
      " 9   Measles                          2938 non-null   int64  \n",
      " 10  BMI                              2904 non-null   float64\n",
      " 11  Under-five deaths                2938 non-null   int64  \n",
      " 12  Polio                            2919 non-null   float64\n",
      " 13  Total expenditure                2712 non-null   float64\n",
      " 14  Diphtheria                       2919 non-null   float64\n",
      " 15  HIV/AIDS                         2938 non-null   float64\n",
      " 16  GDP                              2490 non-null   float64\n",
      " 17  Population                       2286 non-null   float64\n",
      " 18  Thinness  1-19 years             2904 non-null   float64\n",
      " 19  Thinness 5-9 years               2904 non-null   float64\n",
      " 20  Income composition of resources  2771 non-null   float64\n",
      " 21  Schooling                        2775 non-null   float64\n",
      "dtypes: float64(16), int64(4), object(2)\n",
      "memory usage: 482.1+ KB\n"
     ]
    },
    {
     "data": {
      "application/javascript": [
       "\n",
       "            setTimeout(function() {\n",
       "                var nbb_cell_id = 5;\n",
       "                var nbb_unformatted_code = \"# checking column datatypes and number of non-null values\\ndata.info()\";\n",
       "                var nbb_formatted_code = \"# checking column datatypes and number of non-null values\\ndata.info()\";\n",
       "                var nbb_cells = Jupyter.notebook.get_cells();\n",
       "                for (var i = 0; i < nbb_cells.length; ++i) {\n",
       "                    if (nbb_cells[i].input_prompt_number == nbb_cell_id) {\n",
       "                        if (nbb_cells[i].get_text() == nbb_unformatted_code) {\n",
       "                             nbb_cells[i].set_text(nbb_formatted_code);\n",
       "                        }\n",
       "                        break;\n",
       "                    }\n",
       "                }\n",
       "            }, 500);\n",
       "            "
      ],
      "text/plain": [
       "<IPython.core.display.Javascript object>"
      ]
     },
     "metadata": {},
     "output_type": "display_data"
    }
   ],
   "source": [
    "# checking column datatypes and number of non-null values\n",
    "data.info()"
   ]
  },
  {
   "cell_type": "markdown",
   "metadata": {
    "id": "TDCZ8MXCqHz0"
   },
   "source": [
    "**Observations**\n",
    "* There are 2938 rows and 22 columns.\n",
    "* Column names have spaces and spacial characters which we will fix.\n",
    "* *Status* is categorical variable and all other variables are numerical type.\n",
    "* Dependent variable is *Life expectancy*."
   ]
  },
  {
   "cell_type": "code",
   "execution_count": 6,
   "metadata": {},
   "outputs": [
    {
     "data": {
      "application/javascript": [
       "\n",
       "            setTimeout(function() {\n",
       "                var nbb_cell_id = 6;\n",
       "                var nbb_unformatted_code = \"# let's create a copy of the data to avoid any changes to original data\\ndf = data.copy()\";\n",
       "                var nbb_formatted_code = \"# let's create a copy of the data to avoid any changes to original data\\ndf = data.copy()\";\n",
       "                var nbb_cells = Jupyter.notebook.get_cells();\n",
       "                for (var i = 0; i < nbb_cells.length; ++i) {\n",
       "                    if (nbb_cells[i].input_prompt_number == nbb_cell_id) {\n",
       "                        if (nbb_cells[i].get_text() == nbb_unformatted_code) {\n",
       "                             nbb_cells[i].set_text(nbb_formatted_code);\n",
       "                        }\n",
       "                        break;\n",
       "                    }\n",
       "                }\n",
       "            }, 500);\n",
       "            "
      ],
      "text/plain": [
       "<IPython.core.display.Javascript object>"
      ]
     },
     "metadata": {},
     "output_type": "display_data"
    }
   ],
   "source": [
    "# let's create a copy of the data to avoid any changes to original data\n",
    "df = data.copy()"
   ]
  },
  {
   "cell_type": "markdown",
   "metadata": {
    "id": "QBkYk4NYqHz1"
   },
   "source": [
    "**The column names have spaces in them, so let's fix them.**"
   ]
  },
  {
   "cell_type": "code",
   "execution_count": 7,
   "metadata": {
    "id": "1VTy83rnqHz2"
   },
   "outputs": [
    {
     "data": {
      "application/javascript": [
       "\n",
       "            setTimeout(function() {\n",
       "                var nbb_cell_id = 7;\n",
       "                var nbb_unformatted_code = \"df.columns = [col.replace(\\\" \\\", \\\"_\\\") for col in df.columns]\\ndf.columns = [col.replace(\\\"/\\\", \\\"_\\\") for col in df.columns]\\ndf.columns = [col.replace(\\\"-\\\", \\\"_\\\") for col in df.columns]\";\n",
       "                var nbb_formatted_code = \"df.columns = [col.replace(\\\" \\\", \\\"_\\\") for col in df.columns]\\ndf.columns = [col.replace(\\\"/\\\", \\\"_\\\") for col in df.columns]\\ndf.columns = [col.replace(\\\"-\\\", \\\"_\\\") for col in df.columns]\";\n",
       "                var nbb_cells = Jupyter.notebook.get_cells();\n",
       "                for (var i = 0; i < nbb_cells.length; ++i) {\n",
       "                    if (nbb_cells[i].input_prompt_number == nbb_cell_id) {\n",
       "                        if (nbb_cells[i].get_text() == nbb_unformatted_code) {\n",
       "                             nbb_cells[i].set_text(nbb_formatted_code);\n",
       "                        }\n",
       "                        break;\n",
       "                    }\n",
       "                }\n",
       "            }, 500);\n",
       "            "
      ],
      "text/plain": [
       "<IPython.core.display.Javascript object>"
      ]
     },
     "metadata": {},
     "output_type": "display_data"
    }
   ],
   "source": [
    "df.columns = [col.replace(\" \", \"_\") for col in df.columns]\n",
    "df.columns = [col.replace(\"/\", \"_\") for col in df.columns]\n",
    "df.columns = [col.replace(\"-\", \"_\") for col in df.columns]"
   ]
  },
  {
   "cell_type": "markdown",
   "metadata": {},
   "source": [
    "## Data Preprocessing"
   ]
  },
  {
   "cell_type": "markdown",
   "metadata": {
    "id": "b4uN1dM4qHz-"
   },
   "source": [
    "### Missing Value Treatment"
   ]
  },
  {
   "cell_type": "code",
   "execution_count": 8,
   "metadata": {
    "id": "TyYy1QtPqHz_",
    "outputId": "423c9e61-f55e-4c61-d6ef-22b99d150d02"
   },
   "outputs": [
    {
     "data": {
      "text/plain": [
       "Country                              0\n",
       "Year                                 0\n",
       "Status                               0\n",
       "Life_expectancy                     10\n",
       "Adult_Mortality                     10\n",
       "Infant_deaths                        0\n",
       "Alcohol                            194\n",
       "Percentage_expenditure               0\n",
       "Hepatitis_B                        553\n",
       "Measles                              0\n",
       "BMI                                 34\n",
       "Under_five_deaths                    0\n",
       "Polio                               19\n",
       "Total_expenditure                  226\n",
       "Diphtheria                          19\n",
       "HIV_AIDS                             0\n",
       "GDP                                448\n",
       "Population                         652\n",
       "Thinness__1_19_years                34\n",
       "Thinness_5_9_years                  34\n",
       "Income_composition_of_resources    167\n",
       "Schooling                          163\n",
       "dtype: int64"
      ]
     },
     "execution_count": 8,
     "metadata": {},
     "output_type": "execute_result"
    },
    {
     "data": {
      "application/javascript": [
       "\n",
       "            setTimeout(function() {\n",
       "                var nbb_cell_id = 8;\n",
       "                var nbb_unformatted_code = \"# checking for missing values\\ndf.isnull().sum()\";\n",
       "                var nbb_formatted_code = \"# checking for missing values\\ndf.isnull().sum()\";\n",
       "                var nbb_cells = Jupyter.notebook.get_cells();\n",
       "                for (var i = 0; i < nbb_cells.length; ++i) {\n",
       "                    if (nbb_cells[i].input_prompt_number == nbb_cell_id) {\n",
       "                        if (nbb_cells[i].get_text() == nbb_unformatted_code) {\n",
       "                             nbb_cells[i].set_text(nbb_formatted_code);\n",
       "                        }\n",
       "                        break;\n",
       "                    }\n",
       "                }\n",
       "            }, 500);\n",
       "            "
      ],
      "text/plain": [
       "<IPython.core.display.Javascript object>"
      ]
     },
     "metadata": {},
     "output_type": "display_data"
    }
   ],
   "source": [
    "# checking for missing values\n",
    "df.isnull().sum()"
   ]
  },
  {
   "cell_type": "markdown",
   "metadata": {
    "id": "wYF-RsrNqH0E"
   },
   "source": [
    "**Let's fix the missing values.**\n",
    "\n",
    "- For the target variable (*Life_expectancy*), we will drop the missing values.\n",
    "- For the predictor variables, we will replace the missing values in each column with its median."
   ]
  },
  {
   "cell_type": "code",
   "execution_count": 9,
   "metadata": {},
   "outputs": [
    {
     "data": {
      "application/javascript": [
       "\n",
       "            setTimeout(function() {\n",
       "                var nbb_cell_id = 9;\n",
       "                var nbb_unformatted_code = \"df.dropna(subset=[\\\"Life_expectancy\\\"], inplace=True)\";\n",
       "                var nbb_formatted_code = \"df.dropna(subset=[\\\"Life_expectancy\\\"], inplace=True)\";\n",
       "                var nbb_cells = Jupyter.notebook.get_cells();\n",
       "                for (var i = 0; i < nbb_cells.length; ++i) {\n",
       "                    if (nbb_cells[i].input_prompt_number == nbb_cell_id) {\n",
       "                        if (nbb_cells[i].get_text() == nbb_unformatted_code) {\n",
       "                             nbb_cells[i].set_text(nbb_formatted_code);\n",
       "                        }\n",
       "                        break;\n",
       "                    }\n",
       "                }\n",
       "            }, 500);\n",
       "            "
      ],
      "text/plain": [
       "<IPython.core.display.Javascript object>"
      ]
     },
     "metadata": {},
     "output_type": "display_data"
    }
   ],
   "source": [
    "df.dropna(subset=[\"Life_expectancy\"], inplace=True)"
   ]
  },
  {
   "cell_type": "code",
   "execution_count": 10,
   "metadata": {
    "id": "yezNtp2vHYr_"
   },
   "outputs": [
    {
     "data": {
      "application/javascript": [
       "\n",
       "            setTimeout(function() {\n",
       "                var nbb_cell_id = 10;\n",
       "                var nbb_unformatted_code = \"medianFiller = lambda x: x.fillna(x.median())\\nnumeric_columns = df.select_dtypes(include=np.number).columns.tolist()\\ndf[numeric_columns] = df[numeric_columns].apply(medianFiller, axis=0)\";\n",
       "                var nbb_formatted_code = \"medianFiller = lambda x: x.fillna(x.median())\\nnumeric_columns = df.select_dtypes(include=np.number).columns.tolist()\\ndf[numeric_columns] = df[numeric_columns].apply(medianFiller, axis=0)\";\n",
       "                var nbb_cells = Jupyter.notebook.get_cells();\n",
       "                for (var i = 0; i < nbb_cells.length; ++i) {\n",
       "                    if (nbb_cells[i].input_prompt_number == nbb_cell_id) {\n",
       "                        if (nbb_cells[i].get_text() == nbb_unformatted_code) {\n",
       "                             nbb_cells[i].set_text(nbb_formatted_code);\n",
       "                        }\n",
       "                        break;\n",
       "                    }\n",
       "                }\n",
       "            }, 500);\n",
       "            "
      ],
      "text/plain": [
       "<IPython.core.display.Javascript object>"
      ]
     },
     "metadata": {},
     "output_type": "display_data"
    }
   ],
   "source": [
    "medianFiller = lambda x: x.fillna(x.median())\n",
    "numeric_columns = df.select_dtypes(include=np.number).columns.tolist()\n",
    "df[numeric_columns] = df[numeric_columns].apply(medianFiller, axis=0)"
   ]
  },
  {
   "cell_type": "code",
   "execution_count": 11,
   "metadata": {
    "colab": {
     "base_uri": "https://localhost:8080/",
     "height": 408
    },
    "id": "vfN3qOpTFdg_",
    "outputId": "ab4c7804-0b1f-47ad-81b7-82e2b6053cfd"
   },
   "outputs": [
    {
     "data": {
      "text/plain": [
       "Country                            0\n",
       "Year                               0\n",
       "Status                             0\n",
       "Life_expectancy                    0\n",
       "Adult_Mortality                    0\n",
       "Infant_deaths                      0\n",
       "Alcohol                            0\n",
       "Percentage_expenditure             0\n",
       "Hepatitis_B                        0\n",
       "Measles                            0\n",
       "BMI                                0\n",
       "Under_five_deaths                  0\n",
       "Polio                              0\n",
       "Total_expenditure                  0\n",
       "Diphtheria                         0\n",
       "HIV_AIDS                           0\n",
       "GDP                                0\n",
       "Population                         0\n",
       "Thinness__1_19_years               0\n",
       "Thinness_5_9_years                 0\n",
       "Income_composition_of_resources    0\n",
       "Schooling                          0\n",
       "dtype: int64"
      ]
     },
     "execution_count": 11,
     "metadata": {},
     "output_type": "execute_result"
    },
    {
     "data": {
      "application/javascript": [
       "\n",
       "            setTimeout(function() {\n",
       "                var nbb_cell_id = 11;\n",
       "                var nbb_unformatted_code = \"# checking the number of missing values\\ndf.isnull().sum()\";\n",
       "                var nbb_formatted_code = \"# checking the number of missing values\\ndf.isnull().sum()\";\n",
       "                var nbb_cells = Jupyter.notebook.get_cells();\n",
       "                for (var i = 0; i < nbb_cells.length; ++i) {\n",
       "                    if (nbb_cells[i].input_prompt_number == nbb_cell_id) {\n",
       "                        if (nbb_cells[i].get_text() == nbb_unformatted_code) {\n",
       "                             nbb_cells[i].set_text(nbb_formatted_code);\n",
       "                        }\n",
       "                        break;\n",
       "                    }\n",
       "                }\n",
       "            }, 500);\n",
       "            "
      ],
      "text/plain": [
       "<IPython.core.display.Javascript object>"
      ]
     },
     "metadata": {},
     "output_type": "display_data"
    }
   ],
   "source": [
    "# checking the number of missing values\n",
    "df.isnull().sum()"
   ]
  },
  {
   "cell_type": "markdown",
   "metadata": {},
   "source": [
    "- All the missing values have been treated."
   ]
  },
  {
   "cell_type": "code",
   "execution_count": 12,
   "metadata": {
    "id": "AEwAiykQqH0V",
    "outputId": "50c8b5b2-ddde-4596-a1b5-27f2aad9ec13"
   },
   "outputs": [
    {
     "data": {
      "text/html": [
       "<div>\n",
       "<style scoped>\n",
       "    .dataframe tbody tr th:only-of-type {\n",
       "        vertical-align: middle;\n",
       "    }\n",
       "\n",
       "    .dataframe tbody tr th {\n",
       "        vertical-align: top;\n",
       "    }\n",
       "\n",
       "    .dataframe thead th {\n",
       "        text-align: right;\n",
       "    }\n",
       "</style>\n",
       "<table border=\"1\" class=\"dataframe\">\n",
       "  <thead>\n",
       "    <tr style=\"text-align: right;\">\n",
       "      <th></th>\n",
       "      <th>count</th>\n",
       "      <th>unique</th>\n",
       "      <th>top</th>\n",
       "      <th>freq</th>\n",
       "      <th>mean</th>\n",
       "      <th>std</th>\n",
       "      <th>min</th>\n",
       "      <th>25%</th>\n",
       "      <th>50%</th>\n",
       "      <th>75%</th>\n",
       "      <th>max</th>\n",
       "    </tr>\n",
       "  </thead>\n",
       "  <tbody>\n",
       "    <tr>\n",
       "      <th>Country</th>\n",
       "      <td>2928</td>\n",
       "      <td>183</td>\n",
       "      <td>Turkey</td>\n",
       "      <td>16</td>\n",
       "      <td>NaN</td>\n",
       "      <td>NaN</td>\n",
       "      <td>NaN</td>\n",
       "      <td>NaN</td>\n",
       "      <td>NaN</td>\n",
       "      <td>NaN</td>\n",
       "      <td>NaN</td>\n",
       "    </tr>\n",
       "    <tr>\n",
       "      <th>Year</th>\n",
       "      <td>2928.000</td>\n",
       "      <td>NaN</td>\n",
       "      <td>NaN</td>\n",
       "      <td>NaN</td>\n",
       "      <td>2007.500</td>\n",
       "      <td>4.611</td>\n",
       "      <td>2000.000</td>\n",
       "      <td>2003.750</td>\n",
       "      <td>2007.500</td>\n",
       "      <td>2011.250</td>\n",
       "      <td>2015.000</td>\n",
       "    </tr>\n",
       "    <tr>\n",
       "      <th>Status</th>\n",
       "      <td>2928</td>\n",
       "      <td>2</td>\n",
       "      <td>Developing</td>\n",
       "      <td>2416</td>\n",
       "      <td>NaN</td>\n",
       "      <td>NaN</td>\n",
       "      <td>NaN</td>\n",
       "      <td>NaN</td>\n",
       "      <td>NaN</td>\n",
       "      <td>NaN</td>\n",
       "      <td>NaN</td>\n",
       "    </tr>\n",
       "    <tr>\n",
       "      <th>Life_expectancy</th>\n",
       "      <td>2928.000</td>\n",
       "      <td>NaN</td>\n",
       "      <td>NaN</td>\n",
       "      <td>NaN</td>\n",
       "      <td>69.225</td>\n",
       "      <td>9.524</td>\n",
       "      <td>36.300</td>\n",
       "      <td>63.100</td>\n",
       "      <td>72.100</td>\n",
       "      <td>75.700</td>\n",
       "      <td>89.000</td>\n",
       "    </tr>\n",
       "    <tr>\n",
       "      <th>Adult_Mortality</th>\n",
       "      <td>2928.000</td>\n",
       "      <td>NaN</td>\n",
       "      <td>NaN</td>\n",
       "      <td>NaN</td>\n",
       "      <td>164.796</td>\n",
       "      <td>124.292</td>\n",
       "      <td>1.000</td>\n",
       "      <td>74.000</td>\n",
       "      <td>144.000</td>\n",
       "      <td>228.000</td>\n",
       "      <td>723.000</td>\n",
       "    </tr>\n",
       "    <tr>\n",
       "      <th>Infant_deaths</th>\n",
       "      <td>2928.000</td>\n",
       "      <td>NaN</td>\n",
       "      <td>NaN</td>\n",
       "      <td>NaN</td>\n",
       "      <td>30.407</td>\n",
       "      <td>118.114</td>\n",
       "      <td>0.000</td>\n",
       "      <td>0.000</td>\n",
       "      <td>3.000</td>\n",
       "      <td>22.000</td>\n",
       "      <td>1800.000</td>\n",
       "    </tr>\n",
       "    <tr>\n",
       "      <th>Alcohol</th>\n",
       "      <td>2928.000</td>\n",
       "      <td>NaN</td>\n",
       "      <td>NaN</td>\n",
       "      <td>NaN</td>\n",
       "      <td>4.559</td>\n",
       "      <td>3.921</td>\n",
       "      <td>0.010</td>\n",
       "      <td>1.108</td>\n",
       "      <td>3.770</td>\n",
       "      <td>7.400</td>\n",
       "      <td>17.870</td>\n",
       "    </tr>\n",
       "    <tr>\n",
       "      <th>Percentage_expenditure</th>\n",
       "      <td>2928.000</td>\n",
       "      <td>NaN</td>\n",
       "      <td>NaN</td>\n",
       "      <td>NaN</td>\n",
       "      <td>740.321</td>\n",
       "      <td>1990.931</td>\n",
       "      <td>0.000</td>\n",
       "      <td>4.854</td>\n",
       "      <td>65.611</td>\n",
       "      <td>442.614</td>\n",
       "      <td>19479.912</td>\n",
       "    </tr>\n",
       "    <tr>\n",
       "      <th>Hepatitis_B</th>\n",
       "      <td>2928.000</td>\n",
       "      <td>NaN</td>\n",
       "      <td>NaN</td>\n",
       "      <td>NaN</td>\n",
       "      <td>83.046</td>\n",
       "      <td>22.942</td>\n",
       "      <td>1.000</td>\n",
       "      <td>82.000</td>\n",
       "      <td>92.000</td>\n",
       "      <td>96.000</td>\n",
       "      <td>99.000</td>\n",
       "    </tr>\n",
       "    <tr>\n",
       "      <th>Measles</th>\n",
       "      <td>2928.000</td>\n",
       "      <td>NaN</td>\n",
       "      <td>NaN</td>\n",
       "      <td>NaN</td>\n",
       "      <td>2427.856</td>\n",
       "      <td>11485.971</td>\n",
       "      <td>0.000</td>\n",
       "      <td>0.000</td>\n",
       "      <td>17.000</td>\n",
       "      <td>362.250</td>\n",
       "      <td>212183.000</td>\n",
       "    </tr>\n",
       "    <tr>\n",
       "      <th>BMI</th>\n",
       "      <td>2928.000</td>\n",
       "      <td>NaN</td>\n",
       "      <td>NaN</td>\n",
       "      <td>NaN</td>\n",
       "      <td>38.291</td>\n",
       "      <td>19.857</td>\n",
       "      <td>1.000</td>\n",
       "      <td>19.400</td>\n",
       "      <td>43.350</td>\n",
       "      <td>56.100</td>\n",
       "      <td>77.600</td>\n",
       "    </tr>\n",
       "    <tr>\n",
       "      <th>Under_five_deaths</th>\n",
       "      <td>2928.000</td>\n",
       "      <td>NaN</td>\n",
       "      <td>NaN</td>\n",
       "      <td>NaN</td>\n",
       "      <td>42.179</td>\n",
       "      <td>160.701</td>\n",
       "      <td>0.000</td>\n",
       "      <td>0.000</td>\n",
       "      <td>4.000</td>\n",
       "      <td>28.000</td>\n",
       "      <td>2500.000</td>\n",
       "    </tr>\n",
       "    <tr>\n",
       "      <th>Polio</th>\n",
       "      <td>2928.000</td>\n",
       "      <td>NaN</td>\n",
       "      <td>NaN</td>\n",
       "      <td>NaN</td>\n",
       "      <td>82.616</td>\n",
       "      <td>23.356</td>\n",
       "      <td>3.000</td>\n",
       "      <td>78.000</td>\n",
       "      <td>93.000</td>\n",
       "      <td>97.000</td>\n",
       "      <td>99.000</td>\n",
       "    </tr>\n",
       "    <tr>\n",
       "      <th>Total_expenditure</th>\n",
       "      <td>2928.000</td>\n",
       "      <td>NaN</td>\n",
       "      <td>NaN</td>\n",
       "      <td>NaN</td>\n",
       "      <td>5.916</td>\n",
       "      <td>2.386</td>\n",
       "      <td>0.370</td>\n",
       "      <td>4.370</td>\n",
       "      <td>5.750</td>\n",
       "      <td>7.330</td>\n",
       "      <td>17.600</td>\n",
       "    </tr>\n",
       "    <tr>\n",
       "      <th>Diphtheria</th>\n",
       "      <td>2928.000</td>\n",
       "      <td>NaN</td>\n",
       "      <td>NaN</td>\n",
       "      <td>NaN</td>\n",
       "      <td>82.391</td>\n",
       "      <td>23.645</td>\n",
       "      <td>2.000</td>\n",
       "      <td>78.000</td>\n",
       "      <td>93.000</td>\n",
       "      <td>97.000</td>\n",
       "      <td>99.000</td>\n",
       "    </tr>\n",
       "    <tr>\n",
       "      <th>HIV_AIDS</th>\n",
       "      <td>2928.000</td>\n",
       "      <td>NaN</td>\n",
       "      <td>NaN</td>\n",
       "      <td>NaN</td>\n",
       "      <td>1.748</td>\n",
       "      <td>5.086</td>\n",
       "      <td>0.100</td>\n",
       "      <td>0.100</td>\n",
       "      <td>0.100</td>\n",
       "      <td>0.800</td>\n",
       "      <td>50.600</td>\n",
       "    </tr>\n",
       "    <tr>\n",
       "      <th>GDP</th>\n",
       "      <td>2928.000</td>\n",
       "      <td>NaN</td>\n",
       "      <td>NaN</td>\n",
       "      <td>NaN</td>\n",
       "      <td>6627.390</td>\n",
       "      <td>13316.393</td>\n",
       "      <td>1.681</td>\n",
       "      <td>578.797</td>\n",
       "      <td>1764.974</td>\n",
       "      <td>4793.631</td>\n",
       "      <td>119172.742</td>\n",
       "    </tr>\n",
       "    <tr>\n",
       "      <th>Population</th>\n",
       "      <td>2928.000</td>\n",
       "      <td>NaN</td>\n",
       "      <td>NaN</td>\n",
       "      <td>NaN</td>\n",
       "      <td>10263150.478</td>\n",
       "      <td>54111788.444</td>\n",
       "      <td>34.000</td>\n",
       "      <td>418120.500</td>\n",
       "      <td>1391756.500</td>\n",
       "      <td>4592776.750</td>\n",
       "      <td>1293859294.000</td>\n",
       "    </tr>\n",
       "    <tr>\n",
       "      <th>Thinness__1_19_years</th>\n",
       "      <td>2928.000</td>\n",
       "      <td>NaN</td>\n",
       "      <td>NaN</td>\n",
       "      <td>NaN</td>\n",
       "      <td>4.834</td>\n",
       "      <td>4.400</td>\n",
       "      <td>0.100</td>\n",
       "      <td>1.600</td>\n",
       "      <td>3.300</td>\n",
       "      <td>7.100</td>\n",
       "      <td>27.700</td>\n",
       "    </tr>\n",
       "    <tr>\n",
       "      <th>Thinness_5_9_years</th>\n",
       "      <td>2928.000</td>\n",
       "      <td>NaN</td>\n",
       "      <td>NaN</td>\n",
       "      <td>NaN</td>\n",
       "      <td>4.865</td>\n",
       "      <td>4.488</td>\n",
       "      <td>0.100</td>\n",
       "      <td>1.600</td>\n",
       "      <td>3.400</td>\n",
       "      <td>7.200</td>\n",
       "      <td>28.600</td>\n",
       "    </tr>\n",
       "    <tr>\n",
       "      <th>Income_composition_of_resources</th>\n",
       "      <td>2928.000</td>\n",
       "      <td>NaN</td>\n",
       "      <td>NaN</td>\n",
       "      <td>NaN</td>\n",
       "      <td>0.630</td>\n",
       "      <td>0.205</td>\n",
       "      <td>0.000</td>\n",
       "      <td>0.504</td>\n",
       "      <td>0.677</td>\n",
       "      <td>0.773</td>\n",
       "      <td>0.948</td>\n",
       "    </tr>\n",
       "    <tr>\n",
       "      <th>Schooling</th>\n",
       "      <td>2928.000</td>\n",
       "      <td>NaN</td>\n",
       "      <td>NaN</td>\n",
       "      <td>NaN</td>\n",
       "      <td>12.016</td>\n",
       "      <td>3.254</td>\n",
       "      <td>0.000</td>\n",
       "      <td>10.300</td>\n",
       "      <td>12.300</td>\n",
       "      <td>14.100</td>\n",
       "      <td>20.700</td>\n",
       "    </tr>\n",
       "  </tbody>\n",
       "</table>\n",
       "</div>"
      ],
      "text/plain": [
       "                                   count unique         top  freq  \\\n",
       "Country                             2928    183      Turkey    16   \n",
       "Year                            2928.000    NaN         NaN   NaN   \n",
       "Status                              2928      2  Developing  2416   \n",
       "Life_expectancy                 2928.000    NaN         NaN   NaN   \n",
       "Adult_Mortality                 2928.000    NaN         NaN   NaN   \n",
       "Infant_deaths                   2928.000    NaN         NaN   NaN   \n",
       "Alcohol                         2928.000    NaN         NaN   NaN   \n",
       "Percentage_expenditure          2928.000    NaN         NaN   NaN   \n",
       "Hepatitis_B                     2928.000    NaN         NaN   NaN   \n",
       "Measles                         2928.000    NaN         NaN   NaN   \n",
       "BMI                             2928.000    NaN         NaN   NaN   \n",
       "Under_five_deaths               2928.000    NaN         NaN   NaN   \n",
       "Polio                           2928.000    NaN         NaN   NaN   \n",
       "Total_expenditure               2928.000    NaN         NaN   NaN   \n",
       "Diphtheria                      2928.000    NaN         NaN   NaN   \n",
       "HIV_AIDS                        2928.000    NaN         NaN   NaN   \n",
       "GDP                             2928.000    NaN         NaN   NaN   \n",
       "Population                      2928.000    NaN         NaN   NaN   \n",
       "Thinness__1_19_years            2928.000    NaN         NaN   NaN   \n",
       "Thinness_5_9_years              2928.000    NaN         NaN   NaN   \n",
       "Income_composition_of_resources 2928.000    NaN         NaN   NaN   \n",
       "Schooling                       2928.000    NaN         NaN   NaN   \n",
       "\n",
       "                                        mean          std      min        25%  \\\n",
       "Country                                  NaN          NaN      NaN        NaN   \n",
       "Year                                2007.500        4.611 2000.000   2003.750   \n",
       "Status                                   NaN          NaN      NaN        NaN   \n",
       "Life_expectancy                       69.225        9.524   36.300     63.100   \n",
       "Adult_Mortality                      164.796      124.292    1.000     74.000   \n",
       "Infant_deaths                         30.407      118.114    0.000      0.000   \n",
       "Alcohol                                4.559        3.921    0.010      1.108   \n",
       "Percentage_expenditure               740.321     1990.931    0.000      4.854   \n",
       "Hepatitis_B                           83.046       22.942    1.000     82.000   \n",
       "Measles                             2427.856    11485.971    0.000      0.000   \n",
       "BMI                                   38.291       19.857    1.000     19.400   \n",
       "Under_five_deaths                     42.179      160.701    0.000      0.000   \n",
       "Polio                                 82.616       23.356    3.000     78.000   \n",
       "Total_expenditure                      5.916        2.386    0.370      4.370   \n",
       "Diphtheria                            82.391       23.645    2.000     78.000   \n",
       "HIV_AIDS                               1.748        5.086    0.100      0.100   \n",
       "GDP                                 6627.390    13316.393    1.681    578.797   \n",
       "Population                      10263150.478 54111788.444   34.000 418120.500   \n",
       "Thinness__1_19_years                   4.834        4.400    0.100      1.600   \n",
       "Thinness_5_9_years                     4.865        4.488    0.100      1.600   \n",
       "Income_composition_of_resources        0.630        0.205    0.000      0.504   \n",
       "Schooling                             12.016        3.254    0.000     10.300   \n",
       "\n",
       "                                        50%         75%            max  \n",
       "Country                                 NaN         NaN            NaN  \n",
       "Year                               2007.500    2011.250       2015.000  \n",
       "Status                                  NaN         NaN            NaN  \n",
       "Life_expectancy                      72.100      75.700         89.000  \n",
       "Adult_Mortality                     144.000     228.000        723.000  \n",
       "Infant_deaths                         3.000      22.000       1800.000  \n",
       "Alcohol                               3.770       7.400         17.870  \n",
       "Percentage_expenditure               65.611     442.614      19479.912  \n",
       "Hepatitis_B                          92.000      96.000         99.000  \n",
       "Measles                              17.000     362.250     212183.000  \n",
       "BMI                                  43.350      56.100         77.600  \n",
       "Under_five_deaths                     4.000      28.000       2500.000  \n",
       "Polio                                93.000      97.000         99.000  \n",
       "Total_expenditure                     5.750       7.330         17.600  \n",
       "Diphtheria                           93.000      97.000         99.000  \n",
       "HIV_AIDS                              0.100       0.800         50.600  \n",
       "GDP                                1764.974    4793.631     119172.742  \n",
       "Population                      1391756.500 4592776.750 1293859294.000  \n",
       "Thinness__1_19_years                  3.300       7.100         27.700  \n",
       "Thinness_5_9_years                    3.400       7.200         28.600  \n",
       "Income_composition_of_resources       0.677       0.773          0.948  \n",
       "Schooling                            12.300      14.100         20.700  "
      ]
     },
     "execution_count": 12,
     "metadata": {},
     "output_type": "execute_result"
    },
    {
     "data": {
      "application/javascript": [
       "\n",
       "            setTimeout(function() {\n",
       "                var nbb_cell_id = 12;\n",
       "                var nbb_unformatted_code = \"# Let's look at the statistical summary of the data\\npd.set_option(\\n    \\\"display.float_format\\\", lambda x: \\\"%.3f\\\" % x\\n)  # to display numbers rounded off to 3 decimal places\\n\\ndf.describe(include=\\\"all\\\").T\";\n",
       "                var nbb_formatted_code = \"# Let's look at the statistical summary of the data\\npd.set_option(\\n    \\\"display.float_format\\\", lambda x: \\\"%.3f\\\" % x\\n)  # to display numbers rounded off to 3 decimal places\\n\\ndf.describe(include=\\\"all\\\").T\";\n",
       "                var nbb_cells = Jupyter.notebook.get_cells();\n",
       "                for (var i = 0; i < nbb_cells.length; ++i) {\n",
       "                    if (nbb_cells[i].input_prompt_number == nbb_cell_id) {\n",
       "                        if (nbb_cells[i].get_text() == nbb_unformatted_code) {\n",
       "                             nbb_cells[i].set_text(nbb_formatted_code);\n",
       "                        }\n",
       "                        break;\n",
       "                    }\n",
       "                }\n",
       "            }, 500);\n",
       "            "
      ],
      "text/plain": [
       "<IPython.core.display.Javascript object>"
      ]
     },
     "metadata": {},
     "output_type": "display_data"
    }
   ],
   "source": [
    "# Let's look at the statistical summary of the data\n",
    "pd.set_option(\n",
    "    \"display.float_format\", lambda x: \"%.3f\" % x\n",
    ")  # to display numbers rounded off to 3 decimal places\n",
    "\n",
    "df.describe(include=\"all\").T"
   ]
  },
  {
   "cell_type": "markdown",
   "metadata": {
    "id": "rO_scYvgbb7M"
   },
   "source": [
    "**Observations**\n",
    "\n",
    "- The *Status* column has 2 unique values - \"*Developing*\" and \"*Developed*\"\n",
    "- The *Country* column has 183 unique values, i.e., the data is collected from 183 countries.\n",
    "- *Year* ranges from 2000 to 2015.\n",
    "- Average *Life expectancy* is ~69 years."
   ]
  },
  {
   "cell_type": "markdown",
   "metadata": {
    "id": "JZcZuUF_cYdX"
   },
   "source": [
    "**Before we further process the data, let's have a look at the graphical visualization of the data to understand it in a better way!**"
   ]
  },
  {
   "cell_type": "markdown",
   "metadata": {},
   "source": [
    "## EDA"
   ]
  },
  {
   "cell_type": "markdown",
   "metadata": {
    "id": "9hahgR-7qH0c"
   },
   "source": [
    "### Univariate analysis"
   ]
  },
  {
   "cell_type": "code",
   "execution_count": 13,
   "metadata": {
    "id": "rpigdSTiqH0d"
   },
   "outputs": [
    {
     "data": {
      "application/javascript": [
       "\n",
       "            setTimeout(function() {\n",
       "                var nbb_cell_id = 13;\n",
       "                var nbb_unformatted_code = \"# function to plot a boxplot and a histogram along the same scale.\\n\\n\\ndef histogram_boxplot(data, feature, figsize=(12, 7), kde=False, bins=None):\\n    \\\"\\\"\\\"\\n    Boxplot and histogram combined\\n\\n    data: dataframe\\n    feature: dataframe column\\n    figsize: size of figure (default (12,7))\\n    kde: whether to the show density curve (default False)\\n    bins: number of bins for histogram (default None)\\n    \\\"\\\"\\\"\\n    f2, (ax_box2, ax_hist2) = plt.subplots(\\n        nrows=2,  # Number of rows of the subplot grid= 2\\n        sharex=True,  # x-axis will be shared among all subplots\\n        gridspec_kw={\\\"height_ratios\\\": (0.25, 0.75)},\\n        figsize=figsize,\\n    )  # creating the 2 subplots\\n    sns.boxplot(\\n        data=data, x=feature, ax=ax_box2, showmeans=True, color=\\\"violet\\\"\\n    )  # boxplot will be created and a star will indicate the mean value of the column\\n    sns.histplot(\\n        data=data, x=feature, kde=kde, ax=ax_hist2, bins=bins, palette=\\\"winter\\\"\\n    ) if bins else sns.histplot(\\n        data=data, x=feature, kde=kde, ax=ax_hist2\\n    )  # For histogram\\n    ax_hist2.axvline(\\n        data[feature].mean(), color=\\\"green\\\", linestyle=\\\"--\\\"\\n    )  # Add mean to the histogram\\n    ax_hist2.axvline(\\n        data[feature].median(), color=\\\"black\\\", linestyle=\\\"-\\\"\\n    )  # Add median to the histogram\";\n",
       "                var nbb_formatted_code = \"# function to plot a boxplot and a histogram along the same scale.\\n\\n\\ndef histogram_boxplot(data, feature, figsize=(12, 7), kde=False, bins=None):\\n    \\\"\\\"\\\"\\n    Boxplot and histogram combined\\n\\n    data: dataframe\\n    feature: dataframe column\\n    figsize: size of figure (default (12,7))\\n    kde: whether to the show density curve (default False)\\n    bins: number of bins for histogram (default None)\\n    \\\"\\\"\\\"\\n    f2, (ax_box2, ax_hist2) = plt.subplots(\\n        nrows=2,  # Number of rows of the subplot grid= 2\\n        sharex=True,  # x-axis will be shared among all subplots\\n        gridspec_kw={\\\"height_ratios\\\": (0.25, 0.75)},\\n        figsize=figsize,\\n    )  # creating the 2 subplots\\n    sns.boxplot(\\n        data=data, x=feature, ax=ax_box2, showmeans=True, color=\\\"violet\\\"\\n    )  # boxplot will be created and a star will indicate the mean value of the column\\n    sns.histplot(\\n        data=data, x=feature, kde=kde, ax=ax_hist2, bins=bins, palette=\\\"winter\\\"\\n    ) if bins else sns.histplot(\\n        data=data, x=feature, kde=kde, ax=ax_hist2\\n    )  # For histogram\\n    ax_hist2.axvline(\\n        data[feature].mean(), color=\\\"green\\\", linestyle=\\\"--\\\"\\n    )  # Add mean to the histogram\\n    ax_hist2.axvline(\\n        data[feature].median(), color=\\\"black\\\", linestyle=\\\"-\\\"\\n    )  # Add median to the histogram\";\n",
       "                var nbb_cells = Jupyter.notebook.get_cells();\n",
       "                for (var i = 0; i < nbb_cells.length; ++i) {\n",
       "                    if (nbb_cells[i].input_prompt_number == nbb_cell_id) {\n",
       "                        if (nbb_cells[i].get_text() == nbb_unformatted_code) {\n",
       "                             nbb_cells[i].set_text(nbb_formatted_code);\n",
       "                        }\n",
       "                        break;\n",
       "                    }\n",
       "                }\n",
       "            }, 500);\n",
       "            "
      ],
      "text/plain": [
       "<IPython.core.display.Javascript object>"
      ]
     },
     "metadata": {},
     "output_type": "display_data"
    }
   ],
   "source": [
    "# function to plot a boxplot and a histogram along the same scale.\n",
    "\n",
    "\n",
    "def histogram_boxplot(data, feature, figsize=(12, 7), kde=False, bins=None):\n",
    "    \"\"\"\n",
    "    Boxplot and histogram combined\n",
    "\n",
    "    data: dataframe\n",
    "    feature: dataframe column\n",
    "    figsize: size of figure (default (12,7))\n",
    "    kde: whether to the show density curve (default False)\n",
    "    bins: number of bins for histogram (default None)\n",
    "    \"\"\"\n",
    "    f2, (ax_box2, ax_hist2) = plt.subplots(\n",
    "        nrows=2,  # Number of rows of the subplot grid= 2\n",
    "        sharex=True,  # x-axis will be shared among all subplots\n",
    "        gridspec_kw={\"height_ratios\": (0.25, 0.75)},\n",
    "        figsize=figsize,\n",
    "    )  # creating the 2 subplots\n",
    "    sns.boxplot(\n",
    "        data=data, x=feature, ax=ax_box2, showmeans=True, color=\"violet\"\n",
    "    )  # boxplot will be created and a star will indicate the mean value of the column\n",
    "    sns.histplot(\n",
    "        data=data, x=feature, kde=kde, ax=ax_hist2, bins=bins, palette=\"winter\"\n",
    "    ) if bins else sns.histplot(\n",
    "        data=data, x=feature, kde=kde, ax=ax_hist2\n",
    "    )  # For histogram\n",
    "    ax_hist2.axvline(\n",
    "        data[feature].mean(), color=\"green\", linestyle=\"--\"\n",
    "    )  # Add mean to the histogram\n",
    "    ax_hist2.axvline(\n",
    "        data[feature].median(), color=\"black\", linestyle=\"-\"\n",
    "    )  # Add median to the histogram"
   ]
  },
  {
   "cell_type": "markdown",
   "metadata": {
    "id": "F-ZgoSJpqH0h"
   },
   "source": [
    "**Let's explore the dependent variable *Life expectancy***"
   ]
  },
  {
   "cell_type": "code",
   "execution_count": 14,
   "metadata": {
    "id": "-BIzl2GUqH0p",
    "outputId": "bde836d2-beae-46ef-ea21-6371535c54fe"
   },
   "outputs": [
    {
     "data": {
      "image/png": "[encoded data removed]",
      "text/plain": [
       "<Figure size 864x504 with 2 Axes>"
      ]
     },
     "metadata": {},
     "output_type": "display_data"
    },
    {
     "data": {
      "application/javascript": [
       "\n",
       "            setTimeout(function() {\n",
       "                var nbb_cell_id = 14;\n",
       "                var nbb_unformatted_code = \"histogram_boxplot(df, \\\"Life_expectancy\\\")\";\n",
       "                var nbb_formatted_code = \"histogram_boxplot(df, \\\"Life_expectancy\\\")\";\n",
       "                var nbb_cells = Jupyter.notebook.get_cells();\n",
       "                for (var i = 0; i < nbb_cells.length; ++i) {\n",
       "                    if (nbb_cells[i].input_prompt_number == nbb_cell_id) {\n",
       "                        if (nbb_cells[i].get_text() == nbb_unformatted_code) {\n",
       "                             nbb_cells[i].set_text(nbb_formatted_code);\n",
       "                        }\n",
       "                        break;\n",
       "                    }\n",
       "                }\n",
       "            }, 500);\n",
       "            "
      ],
      "text/plain": [
       "<IPython.core.display.Javascript object>"
      ]
     },
     "metadata": {},
     "output_type": "display_data"
    }
   ],
   "source": [
    "histogram_boxplot(df, \"Life_expectancy\")"
   ]
  },
  {
   "cell_type": "markdown",
   "metadata": {
    "id": "8ryjWu4PqH0v"
   },
   "source": [
    "**Observations**\n",
    "\n",
    "- *Life_expectancy* is left skewed, which means some countries have low life expectancy.\n",
    "- Mean life expectancy is around 70 years."
   ]
  },
  {
   "cell_type": "markdown",
   "metadata": {
    "id": "eill0XvgqH0x"
   },
   "source": [
    "**Let's explore per capita alcohol consumption**"
   ]
  },
  {
   "cell_type": "code",
   "execution_count": 15,
   "metadata": {
    "id": "MEU3QuRTqH0y",
    "outputId": "dbcd4522-6045-4fb6-a87d-5a29d05913e1"
   },
   "outputs": [
    {
     "data": {
      "image/png": "[encoded data removed]",
      "text/plain": [
       "<Figure size 864x504 with 2 Axes>"
      ]
     },
     "metadata": {},
     "output_type": "display_data"
    },
    {
     "data": {
      "application/javascript": [
       "\n",
       "            setTimeout(function() {\n",
       "                var nbb_cell_id = 15;\n",
       "                var nbb_unformatted_code = \"histogram_boxplot(df, \\\"Alcohol\\\")\";\n",
       "                var nbb_formatted_code = \"histogram_boxplot(df, \\\"Alcohol\\\")\";\n",
       "                var nbb_cells = Jupyter.notebook.get_cells();\n",
       "                for (var i = 0; i < nbb_cells.length; ++i) {\n",
       "                    if (nbb_cells[i].input_prompt_number == nbb_cell_id) {\n",
       "                        if (nbb_cells[i].get_text() == nbb_unformatted_code) {\n",
       "                             nbb_cells[i].set_text(nbb_formatted_code);\n",
       "                        }\n",
       "                        break;\n",
       "                    }\n",
       "                }\n",
       "            }, 500);\n",
       "            "
      ],
      "text/plain": [
       "<IPython.core.display.Javascript object>"
      ]
     },
     "metadata": {},
     "output_type": "display_data"
    }
   ],
   "source": [
    "histogram_boxplot(df, \"Alcohol\")"
   ]
  },
  {
   "cell_type": "markdown",
   "metadata": {
    "id": "3ZmGU_bIqH06"
   },
   "source": [
    "**Observations**\n",
    "\n",
    "* The median alcohol consumption is 3.75 litres.\n",
    "* There are some outliers where average alcohol consumption is more than 15 litres.\n",
    "* The distribution is right-skewed."
   ]
  },
  {
   "cell_type": "markdown",
   "metadata": {
    "id": "eill0XvgqH0x"
   },
   "source": [
    "**Let's explore GDP**"
   ]
  },
  {
   "cell_type": "code",
   "execution_count": 16,
   "metadata": {
    "id": "MEU3QuRTqH0y",
    "outputId": "dbcd4522-6045-4fb6-a87d-5a29d05913e1"
   },
   "outputs": [
    {
     "data": {
      "image/png": "[encoded data removed]",
      "text/plain": [
       "<Figure size 864x504 with 2 Axes>"
      ]
     },
     "metadata": {},
     "output_type": "display_data"
    },
    {
     "data": {
      "application/javascript": [
       "\n",
       "            setTimeout(function() {\n",
       "                var nbb_cell_id = 16;\n",
       "                var nbb_unformatted_code = \"histogram_boxplot(df, \\\"GDP\\\", bins=100)\";\n",
       "                var nbb_formatted_code = \"histogram_boxplot(df, \\\"GDP\\\", bins=100)\";\n",
       "                var nbb_cells = Jupyter.notebook.get_cells();\n",
       "                for (var i = 0; i < nbb_cells.length; ++i) {\n",
       "                    if (nbb_cells[i].input_prompt_number == nbb_cell_id) {\n",
       "                        if (nbb_cells[i].get_text() == nbb_unformatted_code) {\n",
       "                             nbb_cells[i].set_text(nbb_formatted_code);\n",
       "                        }\n",
       "                        break;\n",
       "                    }\n",
       "                }\n",
       "            }, 500);\n",
       "            "
      ],
      "text/plain": [
       "<IPython.core.display.Javascript object>"
      ]
     },
     "metadata": {},
     "output_type": "display_data"
    }
   ],
   "source": [
    "histogram_boxplot(df, \"GDP\", bins=100)"
   ]
  },
  {
   "cell_type": "markdown",
   "metadata": {
    "id": "3ZmGU_bIqH06"
   },
   "source": [
    "**Observations**\n",
    "\n",
    "* The distribution of GDP is heavily skewed to the right.\n",
    "* The outliers to the right indicate that many countries have a very high GDP."
   ]
  },
  {
   "cell_type": "code",
   "execution_count": 17,
   "metadata": {},
   "outputs": [
    {
     "data": {
      "application/javascript": [
       "\n",
       "            setTimeout(function() {\n",
       "                var nbb_cell_id = 17;\n",
       "                var nbb_unformatted_code = \"# function to create labeled barplots\\n\\n\\ndef labeled_barplot(data, feature, perc=False, n=None):\\n    \\\"\\\"\\\"\\n    Barplot with percentage at the top\\n\\n    data: dataframe\\n    feature: dataframe column\\n    perc: whether to display percentages instead of count (default is False)\\n    n: displays the top n category levels (default is None, i.e., display all levels)\\n    \\\"\\\"\\\"\\n\\n    total = len(data[feature])  # length of the column\\n    count = data[feature].nunique()\\n    if n is None:\\n        plt.figure(figsize=(count + 1, 5))\\n    else:\\n        plt.figure(figsize=(n + 1, 5))\\n\\n    plt.xticks(rotation=90, fontsize=15)\\n    ax = sns.countplot(\\n        data=data,\\n        x=feature,\\n        palette=\\\"Paired\\\",\\n        order=data[feature].value_counts().index[:n].sort_values(),\\n    )\\n\\n    for p in ax.patches:\\n        if perc == True:\\n            label = \\\"{:.1f}%\\\".format(\\n                100 * p.get_height() / total\\n            )  # percentage of each class of the category\\n        else:\\n            label = p.get_height()  # count of each level of the category\\n\\n        x = p.get_x() + p.get_width() / 2  # width of the plot\\n        y = p.get_height()  # height of the plot\\n\\n        ax.annotate(\\n            label,\\n            (x, y),\\n            ha=\\\"center\\\",\\n            va=\\\"center\\\",\\n            size=12,\\n            xytext=(0, 5),\\n            textcoords=\\\"offset points\\\",\\n        )  # annotate the percentage\\n\\n    plt.show()  # show the plot\";\n",
       "                var nbb_formatted_code = \"# function to create labeled barplots\\n\\n\\ndef labeled_barplot(data, feature, perc=False, n=None):\\n    \\\"\\\"\\\"\\n    Barplot with percentage at the top\\n\\n    data: dataframe\\n    feature: dataframe column\\n    perc: whether to display percentages instead of count (default is False)\\n    n: displays the top n category levels (default is None, i.e., display all levels)\\n    \\\"\\\"\\\"\\n\\n    total = len(data[feature])  # length of the column\\n    count = data[feature].nunique()\\n    if n is None:\\n        plt.figure(figsize=(count + 1, 5))\\n    else:\\n        plt.figure(figsize=(n + 1, 5))\\n\\n    plt.xticks(rotation=90, fontsize=15)\\n    ax = sns.countplot(\\n        data=data,\\n        x=feature,\\n        palette=\\\"Paired\\\",\\n        order=data[feature].value_counts().index[:n].sort_values(),\\n    )\\n\\n    for p in ax.patches:\\n        if perc == True:\\n            label = \\\"{:.1f}%\\\".format(\\n                100 * p.get_height() / total\\n            )  # percentage of each class of the category\\n        else:\\n            label = p.get_height()  # count of each level of the category\\n\\n        x = p.get_x() + p.get_width() / 2  # width of the plot\\n        y = p.get_height()  # height of the plot\\n\\n        ax.annotate(\\n            label,\\n            (x, y),\\n            ha=\\\"center\\\",\\n            va=\\\"center\\\",\\n            size=12,\\n            xytext=(0, 5),\\n            textcoords=\\\"offset points\\\",\\n        )  # annotate the percentage\\n\\n    plt.show()  # show the plot\";\n",
       "                var nbb_cells = Jupyter.notebook.get_cells();\n",
       "                for (var i = 0; i < nbb_cells.length; ++i) {\n",
       "                    if (nbb_cells[i].input_prompt_number == nbb_cell_id) {\n",
       "                        if (nbb_cells[i].get_text() == nbb_unformatted_code) {\n",
       "                             nbb_cells[i].set_text(nbb_formatted_code);\n",
       "                        }\n",
       "                        break;\n",
       "                    }\n",
       "                }\n",
       "            }, 500);\n",
       "            "
      ],
      "text/plain": [
       "<IPython.core.display.Javascript object>"
      ]
     },
     "metadata": {},
     "output_type": "display_data"
    }
   ],
   "source": [
    "# function to create labeled barplots\n",
    "\n",
    "\n",
    "def labeled_barplot(data, feature, perc=False, n=None):\n",
    "    \"\"\"\n",
    "    Barplot with percentage at the top\n",
    "\n",
    "    data: dataframe\n",
    "    feature: dataframe column\n",
    "    perc: whether to display percentages instead of count (default is False)\n",
    "    n: displays the top n category levels (default is None, i.e., display all levels)\n",
    "    \"\"\"\n",
    "\n",
    "    total = len(data[feature])  # length of the column\n",
    "    count = data[feature].nunique()\n",
    "    if n is None:\n",
    "        plt.figure(figsize=(count + 1, 5))\n",
    "    else:\n",
    "        plt.figure(figsize=(n + 1, 5))\n",
    "\n",
    "    plt.xticks(rotation=90, fontsize=15)\n",
    "    ax = sns.countplot(\n",
    "        data=data,\n",
    "        x=feature,\n",
    "        palette=\"Paired\",\n",
    "        order=data[feature].value_counts().index[:n].sort_values(),\n",
    "    )\n",
    "\n",
    "    for p in ax.patches:\n",
    "        if perc == True:\n",
    "            label = \"{:.1f}%\".format(\n",
    "                100 * p.get_height() / total\n",
    "            )  # percentage of each class of the category\n",
    "        else:\n",
    "            label = p.get_height()  # count of each level of the category\n",
    "\n",
    "        x = p.get_x() + p.get_width() / 2  # width of the plot\n",
    "        y = p.get_height()  # height of the plot\n",
    "\n",
    "        ax.annotate(\n",
    "            label,\n",
    "            (x, y),\n",
    "            ha=\"center\",\n",
    "            va=\"center\",\n",
    "            size=12,\n",
    "            xytext=(0, 5),\n",
    "            textcoords=\"offset points\",\n",
    "        )  # annotate the percentage\n",
    "\n",
    "    plt.show()  # show the plot"
   ]
  },
  {
   "cell_type": "code",
   "execution_count": 18,
   "metadata": {},
   "outputs": [
    {
     "data": {
      "image/png": "[encoded data removed]",
      "text/plain": [
       "<Figure size 216x360 with 1 Axes>"
      ]
     },
     "metadata": {},
     "output_type": "display_data"
    },
    {
     "data": {
      "application/javascript": [
       "\n",
       "            setTimeout(function() {\n",
       "                var nbb_cell_id = 18;\n",
       "                var nbb_unformatted_code = \"labeled_barplot(df, \\\"Status\\\", perc=True)\";\n",
       "                var nbb_formatted_code = \"labeled_barplot(df, \\\"Status\\\", perc=True)\";\n",
       "                var nbb_cells = Jupyter.notebook.get_cells();\n",
       "                for (var i = 0; i < nbb_cells.length; ++i) {\n",
       "                    if (nbb_cells[i].input_prompt_number == nbb_cell_id) {\n",
       "                        if (nbb_cells[i].get_text() == nbb_unformatted_code) {\n",
       "                             nbb_cells[i].set_text(nbb_formatted_code);\n",
       "                        }\n",
       "                        break;\n",
       "                    }\n",
       "                }\n",
       "            }, 500);\n",
       "            "
      ],
      "text/plain": [
       "<IPython.core.display.Javascript object>"
      ]
     },
     "metadata": {},
     "output_type": "display_data"
    }
   ],
   "source": [
    "labeled_barplot(df, \"Status\", perc=True)"
   ]
  },
  {
   "cell_type": "markdown",
   "metadata": {},
   "source": [
    "- More than 80% of the countries in the data are developing countries."
   ]
  },
  {
   "cell_type": "markdown",
   "metadata": {
    "id": "O32ykz2qqH1E"
   },
   "source": [
    "### Bivariate Analysis"
   ]
  },
  {
   "cell_type": "markdown",
   "metadata": {
    "id": "SPAtdDVPqH1f"
   },
   "source": [
    "**Let's look at correlations.**"
   ]
  },
  {
   "cell_type": "code",
   "execution_count": 19,
   "metadata": {
    "id": "LmjTu-ozqH1g",
    "outputId": "dd17e648-aee7-472a-acde-5b14c06e69f6"
   },
   "outputs": [
    {
     "data": {
      "image/png": "[encoded data removed]",
      "text/plain": [
       "<Figure size 1080x504 with 2 Axes>"
      ]
     },
     "metadata": {},
     "output_type": "display_data"
    },
    {
     "data": {
      "application/javascript": [
       "\n",
       "            setTimeout(function() {\n",
       "                var nbb_cell_id = 19;\n",
       "                var nbb_unformatted_code = \"numeric_columns = df.select_dtypes(include=np.number).columns.tolist()\\nnumeric_columns.remove(\\\"Year\\\")  # dropping year column as it is temporal variable\\n\\n# correlation heatmap\\nplt.figure(figsize=(15, 7))\\nsns.heatmap(\\n    df[numeric_columns].corr(),\\n    annot=True,\\n    vmin=-1,\\n    vmax=1,\\n    fmt=\\\".2f\\\",\\n    cmap=\\\"Spectral\\\",\\n)\\nplt.show()\";\n",
       "                var nbb_formatted_code = \"numeric_columns = df.select_dtypes(include=np.number).columns.tolist()\\nnumeric_columns.remove(\\\"Year\\\")  # dropping year column as it is temporal variable\\n\\n# correlation heatmap\\nplt.figure(figsize=(15, 7))\\nsns.heatmap(\\n    df[numeric_columns].corr(),\\n    annot=True,\\n    vmin=-1,\\n    vmax=1,\\n    fmt=\\\".2f\\\",\\n    cmap=\\\"Spectral\\\",\\n)\\nplt.show()\";\n",
       "                var nbb_cells = Jupyter.notebook.get_cells();\n",
       "                for (var i = 0; i < nbb_cells.length; ++i) {\n",
       "                    if (nbb_cells[i].input_prompt_number == nbb_cell_id) {\n",
       "                        if (nbb_cells[i].get_text() == nbb_unformatted_code) {\n",
       "                             nbb_cells[i].set_text(nbb_formatted_code);\n",
       "                        }\n",
       "                        break;\n",
       "                    }\n",
       "                }\n",
       "            }, 500);\n",
       "            "
      ],
      "text/plain": [
       "<IPython.core.display.Javascript object>"
      ]
     },
     "metadata": {},
     "output_type": "display_data"
    }
   ],
   "source": [
    "numeric_columns = df.select_dtypes(include=np.number).columns.tolist()\n",
    "numeric_columns.remove(\"Year\")  # dropping year column as it is temporal variable\n",
    "\n",
    "# correlation heatmap\n",
    "plt.figure(figsize=(15, 7))\n",
    "sns.heatmap(\n",
    "    df[numeric_columns].corr(),\n",
    "    annot=True,\n",
    "    vmin=-1,\n",
    "    vmax=1,\n",
    "    fmt=\".2f\",\n",
    "    cmap=\"Spectral\",\n",
    ")\n",
    "plt.show()"
   ]
  },
  {
   "cell_type": "markdown",
   "metadata": {
    "id": "Kmt2DS6iqH1k"
   },
   "source": [
    "**Observations**\n",
    "\n",
    "* *Life_expectancy* is highly negatively correlated with *Adult_Mortality* and *HIV_AIDs*, which means that as adult mortality and HIV death (0-4 years) increases, life expectancy tends to decrease.\n",
    "\n",
    "* *Life_expectancy* is highly positively correlated with *Schooling* and *Income_composition_of_resources*, which means that as schooling years of citizens in a country and income composition of resources increases, life expectancy tends to increase."
   ]
  },
  {
   "cell_type": "markdown",
   "metadata": {
    "id": "EXeqlRxzqH1l"
   },
   "source": [
    "**Let's look at the graphs of a few variables that are highly correlated with *Life_expectancy*.**"
   ]
  },
  {
   "cell_type": "markdown",
   "metadata": {
    "id": "P2JNbl0vqH1l"
   },
   "source": [
    "***Life_expectancy* vs *HIV_AIDS* vs *Status***"
   ]
  },
  {
   "cell_type": "code",
   "execution_count": 20,
   "metadata": {
    "id": "-eso8XKuqH1m",
    "outputId": "296b095c-d7cb-419e-a95d-769a31750150"
   },
   "outputs": [
    {
     "data": {
      "image/png": "[encoded data removed]",
      "text/plain": [
       "<Figure size 720x504 with 1 Axes>"
      ]
     },
     "metadata": {},
     "output_type": "display_data"
    },
    {
     "data": {
      "application/javascript": [
       "\n",
       "            setTimeout(function() {\n",
       "                var nbb_cell_id = 20;\n",
       "                var nbb_unformatted_code = \"plt.figure(figsize=(10, 7))\\nsns.scatterplot(y=\\\"Life_expectancy\\\", x=\\\"HIV_AIDS\\\", hue=\\\"Status\\\", data=df)\\nplt.show()\";\n",
       "                var nbb_formatted_code = \"plt.figure(figsize=(10, 7))\\nsns.scatterplot(y=\\\"Life_expectancy\\\", x=\\\"HIV_AIDS\\\", hue=\\\"Status\\\", data=df)\\nplt.show()\";\n",
       "                var nbb_cells = Jupyter.notebook.get_cells();\n",
       "                for (var i = 0; i < nbb_cells.length; ++i) {\n",
       "                    if (nbb_cells[i].input_prompt_number == nbb_cell_id) {\n",
       "                        if (nbb_cells[i].get_text() == nbb_unformatted_code) {\n",
       "                             nbb_cells[i].set_text(nbb_formatted_code);\n",
       "                        }\n",
       "                        break;\n",
       "                    }\n",
       "                }\n",
       "            }, 500);\n",
       "            "
      ],
      "text/plain": [
       "<IPython.core.display.Javascript object>"
      ]
     },
     "metadata": {},
     "output_type": "display_data"
    }
   ],
   "source": [
    "plt.figure(figsize=(10, 7))\n",
    "sns.scatterplot(y=\"Life_expectancy\", x=\"HIV_AIDS\", hue=\"Status\", data=df)\n",
    "plt.show()"
   ]
  },
  {
   "cell_type": "markdown",
   "metadata": {
    "id": "uQe-C33TqH1y"
   },
   "source": [
    "* Developed countries have very low cases of HIV_AIDS."
   ]
  },
  {
   "cell_type": "markdown",
   "metadata": {
    "id": "6jhpZ5fQqH2e"
   },
   "source": [
    "***Life_expectancy* vs *Schooling* vs *Status***"
   ]
  },
  {
   "cell_type": "code",
   "execution_count": 21,
   "metadata": {
    "id": "GrxzOkw6qH2f",
    "outputId": "2bb5d9b5-9221-4f19-8734-21522e598670"
   },
   "outputs": [
    {
     "data": {
      "image/png": "[encoded data removed]",
      "text/plain": [
       "<Figure size 720x504 with 1 Axes>"
      ]
     },
     "metadata": {},
     "output_type": "display_data"
    },
    {
     "data": {
      "application/javascript": [
       "\n",
       "            setTimeout(function() {\n",
       "                var nbb_cell_id = 21;\n",
       "                var nbb_unformatted_code = \"plt.figure(figsize=(10, 7))\\nsns.scatterplot(y=\\\"Life_expectancy\\\", x=\\\"Schooling\\\", hue=\\\"Status\\\", data=df)\\nplt.show()\";\n",
       "                var nbb_formatted_code = \"plt.figure(figsize=(10, 7))\\nsns.scatterplot(y=\\\"Life_expectancy\\\", x=\\\"Schooling\\\", hue=\\\"Status\\\", data=df)\\nplt.show()\";\n",
       "                var nbb_cells = Jupyter.notebook.get_cells();\n",
       "                for (var i = 0; i < nbb_cells.length; ++i) {\n",
       "                    if (nbb_cells[i].input_prompt_number == nbb_cell_id) {\n",
       "                        if (nbb_cells[i].get_text() == nbb_unformatted_code) {\n",
       "                             nbb_cells[i].set_text(nbb_formatted_code);\n",
       "                        }\n",
       "                        break;\n",
       "                    }\n",
       "                }\n",
       "            }, 500);\n",
       "            "
      ],
      "text/plain": [
       "<IPython.core.display.Javascript object>"
      ]
     },
     "metadata": {},
     "output_type": "display_data"
    }
   ],
   "source": [
    "plt.figure(figsize=(10, 7))\n",
    "sns.scatterplot(y=\"Life_expectancy\", x=\"Schooling\", hue=\"Status\", data=df)\n",
    "plt.show()"
   ]
  },
  {
   "cell_type": "markdown",
   "metadata": {
    "id": "PeTiK7M4qH2l"
   },
   "source": [
    "**Observations**\n",
    "\n",
    "* Majority of the developed countries have schooling of more than 13 years.\n",
    "* Developing countries have a higher variance in schooling years."
   ]
  },
  {
   "cell_type": "markdown",
   "metadata": {
    "id": "sr-IUI-DqH3L"
   },
   "source": [
    "**Let's check the variation in *Life expectancy* with *Year***"
   ]
  },
  {
   "cell_type": "code",
   "execution_count": 22,
   "metadata": {
    "id": "MRcZMFIBqH3M",
    "outputId": "adb48e7f-dbcb-45ec-a840-c9fcd213cde7"
   },
   "outputs": [
    {
     "data": {
      "image/png": "[encoded data removed]",
      "text/plain": [
       "<Figure size 1080x504 with 1 Axes>"
      ]
     },
     "metadata": {},
     "output_type": "display_data"
    },
    {
     "data": {
      "application/javascript": [
       "\n",
       "            setTimeout(function() {\n",
       "                var nbb_cell_id = 22;\n",
       "                var nbb_unformatted_code = \"# average life expectancy over the years\\nplt.figure(figsize=(15, 7))\\nsns.lineplot(x=\\\"Year\\\", y=\\\"Life_expectancy\\\", data=df, ci=None)\\nplt.show()\";\n",
       "                var nbb_formatted_code = \"# average life expectancy over the years\\nplt.figure(figsize=(15, 7))\\nsns.lineplot(x=\\\"Year\\\", y=\\\"Life_expectancy\\\", data=df, ci=None)\\nplt.show()\";\n",
       "                var nbb_cells = Jupyter.notebook.get_cells();\n",
       "                for (var i = 0; i < nbb_cells.length; ++i) {\n",
       "                    if (nbb_cells[i].input_prompt_number == nbb_cell_id) {\n",
       "                        if (nbb_cells[i].get_text() == nbb_unformatted_code) {\n",
       "                             nbb_cells[i].set_text(nbb_formatted_code);\n",
       "                        }\n",
       "                        break;\n",
       "                    }\n",
       "                }\n",
       "            }, 500);\n",
       "            "
      ],
      "text/plain": [
       "<IPython.core.display.Javascript object>"
      ]
     },
     "metadata": {},
     "output_type": "display_data"
    }
   ],
   "source": [
    "# average life expectancy over the years\n",
    "plt.figure(figsize=(15, 7))\n",
    "sns.lineplot(x=\"Year\", y=\"Life_expectancy\", data=df, ci=None)\n",
    "plt.show()"
   ]
  },
  {
   "cell_type": "markdown",
   "metadata": {
    "id": "yw1a1NWpqH3S"
   },
   "source": [
    "* Overall life expectancy of the world population is increasing over the years."
   ]
  },
  {
   "cell_type": "markdown",
   "metadata": {},
   "source": [
    "## Data Preprocessing (contd.)"
   ]
  },
  {
   "cell_type": "markdown",
   "metadata": {
    "id": "NtxYBknWqH1F"
   },
   "source": [
    "### Column binning\n",
    "\n",
    "- Let's group all countries into continents."
   ]
  },
  {
   "cell_type": "code",
   "execution_count": 23,
   "metadata": {},
   "outputs": [
    {
     "data": {
      "application/javascript": [
       "\n",
       "            setTimeout(function() {\n",
       "                var nbb_cell_id = 23;\n",
       "                var nbb_unformatted_code = \"# Installing library to group coutries into continenets\\n# Please uncomment the next line and run the cell to install the library\\n\\n#!pip install pycountry-convert\";\n",
       "                var nbb_formatted_code = \"# Installing library to group coutries into continenets\\n# Please uncomment the next line and run the cell to install the library\\n\\n#!pip install pycountry-convert\";\n",
       "                var nbb_cells = Jupyter.notebook.get_cells();\n",
       "                for (var i = 0; i < nbb_cells.length; ++i) {\n",
       "                    if (nbb_cells[i].input_prompt_number == nbb_cell_id) {\n",
       "                        if (nbb_cells[i].get_text() == nbb_unformatted_code) {\n",
       "                             nbb_cells[i].set_text(nbb_formatted_code);\n",
       "                        }\n",
       "                        break;\n",
       "                    }\n",
       "                }\n",
       "            }, 500);\n",
       "            "
      ],
      "text/plain": [
       "<IPython.core.display.Javascript object>"
      ]
     },
     "metadata": {},
     "output_type": "display_data"
    }
   ],
   "source": [
    "# Installing library to group coutries into continenets\n",
    "# Please uncomment the next line and run the cell to install the library\n",
    "\n",
    "#!pip install pycountry-convert"
   ]
  },
  {
   "cell_type": "code",
   "execution_count": 24,
   "metadata": {
    "id": "NIxUJPFvqH1G"
   },
   "outputs": [
    {
     "data": {
      "application/javascript": [
       "\n",
       "            setTimeout(function() {\n",
       "                var nbb_cell_id = 24;\n",
       "                var nbb_unformatted_code = \"# Let's group coutries into continents\\nimport pycountry_convert as pc\\n\\n\\ndef country_to_continent(country_name):\\n    \\\"\\\"\\\"\\n    country_name : name of country for which continent is needed\\n    \\\"\\\"\\\"\\n    if \\\"(\\\" in country_name:\\n        country_name = country_name.split(\\\" \\\")[0]\\n    country_alpha2 = pc.country_name_to_country_alpha2(country_name)\\n    country_continent_code = pc.country_alpha2_to_continent_code(country_alpha2)\\n    country_continent_name = pc.convert_continent_code_to_continent_name(\\n        country_continent_code\\n    )\\n    return country_continent_name\";\n",
       "                var nbb_formatted_code = \"# Let's group coutries into continents\\nimport pycountry_convert as pc\\n\\n\\ndef country_to_continent(country_name):\\n    \\\"\\\"\\\"\\n    country_name : name of country for which continent is needed\\n    \\\"\\\"\\\"\\n    if \\\"(\\\" in country_name:\\n        country_name = country_name.split(\\\" \\\")[0]\\n    country_alpha2 = pc.country_name_to_country_alpha2(country_name)\\n    country_continent_code = pc.country_alpha2_to_continent_code(country_alpha2)\\n    country_continent_name = pc.convert_continent_code_to_continent_name(\\n        country_continent_code\\n    )\\n    return country_continent_name\";\n",
       "                var nbb_cells = Jupyter.notebook.get_cells();\n",
       "                for (var i = 0; i < nbb_cells.length; ++i) {\n",
       "                    if (nbb_cells[i].input_prompt_number == nbb_cell_id) {\n",
       "                        if (nbb_cells[i].get_text() == nbb_unformatted_code) {\n",
       "                             nbb_cells[i].set_text(nbb_formatted_code);\n",
       "                        }\n",
       "                        break;\n",
       "                    }\n",
       "                }\n",
       "            }, 500);\n",
       "            "
      ],
      "text/plain": [
       "<IPython.core.display.Javascript object>"
      ]
     },
     "metadata": {},
     "output_type": "display_data"
    }
   ],
   "source": [
    "# Let's group coutries into continents\n",
    "import pycountry_convert as pc\n",
    "\n",
    "\n",
    "def country_to_continent(country_name):\n",
    "    \"\"\"\n",
    "    country_name : name of country for which continent is needed\n",
    "    \"\"\"\n",
    "    if \"(\" in country_name:\n",
    "        country_name = country_name.split(\" \")[0]\n",
    "    country_alpha2 = pc.country_name_to_country_alpha2(country_name)\n",
    "    country_continent_code = pc.country_alpha2_to_continent_code(country_alpha2)\n",
    "    country_continent_name = pc.convert_continent_code_to_continent_name(\n",
    "        country_continent_code\n",
    "    )\n",
    "    return country_continent_name"
   ]
  },
  {
   "cell_type": "code",
   "execution_count": 25,
   "metadata": {
    "id": "G09Ff-WBqH1K",
    "outputId": "5caf6ff4-b043-40c0-c6fe-541e11469c73"
   },
   "outputs": [
    {
     "ename": "KeyError",
     "evalue": "\"Invalid Country Name: 'Republic of Korea'\"",
     "output_type": "error",
     "traceback": [
      "\u001b[1;31m---------------------------------------------------------------------------\u001b[0m",
      "\u001b[1;31mKeyError\u001b[0m                                  Traceback (most recent call last)",
      "\u001b[1;32m<ipython-input-25-be636641cb7a>\u001b[0m in \u001b[0;36m<module>\u001b[1;34m\u001b[0m\n\u001b[1;32m----> 1\u001b[1;33m \u001b[0mdf\u001b[0m\u001b[1;33m.\u001b[0m\u001b[0mCountry\u001b[0m\u001b[1;33m.\u001b[0m\u001b[0mapply\u001b[0m\u001b[1;33m(\u001b[0m\u001b[0mcountry_to_continent\u001b[0m\u001b[1;33m)\u001b[0m\u001b[1;33m\u001b[0m\u001b[1;33m\u001b[0m\u001b[0m\n\u001b[0m",
      "\u001b[1;32mc:\\python3\\lib\\site-packages\\pandas\\core\\series.py\u001b[0m in \u001b[0;36mapply\u001b[1;34m(self, func, convert_dtype, args, **kwds)\u001b[0m\n\u001b[0;32m   4136\u001b[0m             \u001b[1;32melse\u001b[0m\u001b[1;33m:\u001b[0m\u001b[1;33m\u001b[0m\u001b[1;33m\u001b[0m\u001b[0m\n\u001b[0;32m   4137\u001b[0m                 \u001b[0mvalues\u001b[0m \u001b[1;33m=\u001b[0m \u001b[0mself\u001b[0m\u001b[1;33m.\u001b[0m\u001b[0mastype\u001b[0m\u001b[1;33m(\u001b[0m\u001b[0mobject\u001b[0m\u001b[1;33m)\u001b[0m\u001b[1;33m.\u001b[0m\u001b[0m_values\u001b[0m\u001b[1;33m\u001b[0m\u001b[1;33m\u001b[0m\u001b[0m\n\u001b[1;32m-> 4138\u001b[1;33m                 \u001b[0mmapped\u001b[0m \u001b[1;33m=\u001b[0m \u001b[0mlib\u001b[0m\u001b[1;33m.\u001b[0m\u001b[0mmap_infer\u001b[0m\u001b[1;33m(\u001b[0m\u001b[0mvalues\u001b[0m\u001b[1;33m,\u001b[0m \u001b[0mf\u001b[0m\u001b[1;33m,\u001b[0m \u001b[0mconvert\u001b[0m\u001b[1;33m=\u001b[0m\u001b[0mconvert_dtype\u001b[0m\u001b[1;33m)\u001b[0m\u001b[1;33m\u001b[0m\u001b[1;33m\u001b[0m\u001b[0m\n\u001b[0m\u001b[0;32m   4139\u001b[0m \u001b[1;33m\u001b[0m\u001b[0m\n\u001b[0;32m   4140\u001b[0m         \u001b[1;32mif\u001b[0m \u001b[0mlen\u001b[0m\u001b[1;33m(\u001b[0m\u001b[0mmapped\u001b[0m\u001b[1;33m)\u001b[0m \u001b[1;32mand\u001b[0m \u001b[0misinstance\u001b[0m\u001b[1;33m(\u001b[0m\u001b[0mmapped\u001b[0m\u001b[1;33m[\u001b[0m\u001b[1;36m0\u001b[0m\u001b[1;33m]\u001b[0m\u001b[1;33m,\u001b[0m \u001b[0mSeries\u001b[0m\u001b[1;33m)\u001b[0m\u001b[1;33m:\u001b[0m\u001b[1;33m\u001b[0m\u001b[1;33m\u001b[0m\u001b[0m\n",
      "\u001b[1;32mpandas\\_libs\\lib.pyx\u001b[0m in \u001b[0;36mpandas._libs.lib.map_infer\u001b[1;34m()\u001b[0m\n",
      "\u001b[1;32m<ipython-input-24-1292c7bb721d>\u001b[0m in \u001b[0;36mcountry_to_continent\u001b[1;34m(country_name)\u001b[0m\n\u001b[0;32m      9\u001b[0m     \u001b[1;32mif\u001b[0m \u001b[1;34m\"(\"\u001b[0m \u001b[1;32min\u001b[0m \u001b[0mcountry_name\u001b[0m\u001b[1;33m:\u001b[0m\u001b[1;33m\u001b[0m\u001b[1;33m\u001b[0m\u001b[0m\n\u001b[0;32m     10\u001b[0m         \u001b[0mcountry_name\u001b[0m \u001b[1;33m=\u001b[0m \u001b[0mcountry_name\u001b[0m\u001b[1;33m.\u001b[0m\u001b[0msplit\u001b[0m\u001b[1;33m(\u001b[0m\u001b[1;34m\" \"\u001b[0m\u001b[1;33m)\u001b[0m\u001b[1;33m[\u001b[0m\u001b[1;36m0\u001b[0m\u001b[1;33m]\u001b[0m\u001b[1;33m\u001b[0m\u001b[1;33m\u001b[0m\u001b[0m\n\u001b[1;32m---> 11\u001b[1;33m     \u001b[0mcountry_alpha2\u001b[0m \u001b[1;33m=\u001b[0m \u001b[0mpc\u001b[0m\u001b[1;33m.\u001b[0m\u001b[0mcountry_name_to_country_alpha2\u001b[0m\u001b[1;33m(\u001b[0m\u001b[0mcountry_name\u001b[0m\u001b[1;33m)\u001b[0m\u001b[1;33m\u001b[0m\u001b[1;33m\u001b[0m\u001b[0m\n\u001b[0m\u001b[0;32m     12\u001b[0m     \u001b[0mcountry_continent_code\u001b[0m \u001b[1;33m=\u001b[0m \u001b[0mpc\u001b[0m\u001b[1;33m.\u001b[0m\u001b[0mcountry_alpha2_to_continent_code\u001b[0m\u001b[1;33m(\u001b[0m\u001b[0mcountry_alpha2\u001b[0m\u001b[1;33m)\u001b[0m\u001b[1;33m\u001b[0m\u001b[1;33m\u001b[0m\u001b[0m\n\u001b[0;32m     13\u001b[0m     country_continent_name = pc.convert_continent_code_to_continent_name(\n",
      "\u001b[1;32mc:\\python3\\lib\\site-packages\\pycountry_convert\\convert_countries.py\u001b[0m in \u001b[0;36mcountry_name_to_country_alpha2\u001b[1;34m(cn_name, cn_name_format)\u001b[0m\n\u001b[0;32m     69\u001b[0m \u001b[1;33m\u001b[0m\u001b[0m\n\u001b[0;32m     70\u001b[0m     \u001b[1;32mif\u001b[0m \u001b[0mcn_name\u001b[0m \u001b[1;32mnot\u001b[0m \u001b[1;32min\u001b[0m \u001b[0mdict_country_name_to_country_alpha2\u001b[0m\u001b[1;33m:\u001b[0m\u001b[1;33m\u001b[0m\u001b[1;33m\u001b[0m\u001b[0m\n\u001b[1;32m---> 71\u001b[1;33m         \u001b[1;32mraise\u001b[0m \u001b[0mKeyError\u001b[0m\u001b[1;33m(\u001b[0m\u001b[1;34m\"Invalid Country Name: '{0}'\"\u001b[0m\u001b[1;33m.\u001b[0m\u001b[0mformat\u001b[0m\u001b[1;33m(\u001b[0m\u001b[0mcn_name\u001b[0m\u001b[1;33m)\u001b[0m\u001b[1;33m)\u001b[0m\u001b[1;33m\u001b[0m\u001b[1;33m\u001b[0m\u001b[0m\n\u001b[0m\u001b[0;32m     72\u001b[0m \u001b[1;33m\u001b[0m\u001b[0m\n\u001b[0;32m     73\u001b[0m     \u001b[1;32mreturn\u001b[0m \u001b[0mdict_country_name_to_country_alpha2\u001b[0m\u001b[1;33m[\u001b[0m\u001b[0mcn_name\u001b[0m\u001b[1;33m]\u001b[0m\u001b[1;33m\u001b[0m\u001b[1;33m\u001b[0m\u001b[0m\n",
      "\u001b[1;31mKeyError\u001b[0m: \"Invalid Country Name: 'Republic of Korea'\""
     ]
    },
    {
     "data": {
      "application/javascript": [
       "\n",
       "            setTimeout(function() {\n",
       "                var nbb_cell_id = 25;\n",
       "                var nbb_unformatted_code = \"df.Country.apply(country_to_continent)\";\n",
       "                var nbb_formatted_code = \"df.Country.apply(country_to_continent)\";\n",
       "                var nbb_cells = Jupyter.notebook.get_cells();\n",
       "                for (var i = 0; i < nbb_cells.length; ++i) {\n",
       "                    if (nbb_cells[i].input_prompt_number == nbb_cell_id) {\n",
       "                        if (nbb_cells[i].get_text() == nbb_unformatted_code) {\n",
       "                             nbb_cells[i].set_text(nbb_formatted_code);\n",
       "                        }\n",
       "                        break;\n",
       "                    }\n",
       "                }\n",
       "            }, 500);\n",
       "            "
      ],
      "text/plain": [
       "<IPython.core.display.Javascript object>"
      ]
     },
     "metadata": {},
     "output_type": "display_data"
    }
   ],
   "source": [
    "df.Country.apply(country_to_continent)"
   ]
  },
  {
   "cell_type": "markdown",
   "metadata": {
    "id": "uhBj6LBXqH1O"
   },
   "source": [
    "* Above error is arising because names of the countries are different from what the library has. \n",
    "* In order to resolve this, we looked at all country names that caused this error and hard-coded them as shown below."
   ]
  },
  {
   "cell_type": "code",
   "execution_count": null,
   "metadata": {
    "id": "RqB0pRtjqH1Q"
   },
   "outputs": [],
   "source": [
    "loc = df.Country.tolist()\n",
    "continent = dict()\n",
    "\n",
    "# hard-coding the continent names of those countries which were giving error with country_to_continent function\n",
    "for cn in loc:\n",
    "    if cn == \"Republic of Korea\":\n",
    "        continent[cn] = \"Asia\"\n",
    "    elif cn == \"The former Yugoslav republic of Macedonia\":\n",
    "        continent[cn] = \"Europe\"\n",
    "    elif cn == \"Timor-Leste\":\n",
    "        continent[cn] = \"Asia\"\n",
    "    else:\n",
    "        continent[cn] = country_to_continent(cn)"
   ]
  },
  {
   "cell_type": "code",
   "execution_count": null,
   "metadata": {
    "id": "kTrJiOzxqH1X"
   },
   "outputs": [],
   "source": [
    "# mapping every country to its continent\n",
    "df[\"Continent\"] = df[\"Country\"].map(continent)"
   ]
  },
  {
   "cell_type": "code",
   "execution_count": null,
   "metadata": {
    "id": "PZSl3dbcqH1b",
    "outputId": "6212c926-0de2-4e83-e3ae-68f254f397c0"
   },
   "outputs": [],
   "source": [
    "# let us look at unique continents\n",
    "print(df[\"Country\"].map(continent).unique())"
   ]
  },
  {
   "cell_type": "markdown",
   "metadata": {},
   "source": [
    "## EDA (contd.)"
   ]
  },
  {
   "cell_type": "code",
   "execution_count": null,
   "metadata": {},
   "outputs": [],
   "source": [
    "labeled_barplot(df, \"Continent\", perc=True)"
   ]
  },
  {
   "cell_type": "markdown",
   "metadata": {},
   "source": [
    "**Observations**\n",
    "\n",
    "- More than 75% of the data points are from Africa, Asia, and Europe.\n",
    "- Oceania accounts for only 5.5% of the data points."
   ]
  },
  {
   "cell_type": "markdown",
   "metadata": {
    "id": "ew7Gw_RBqH10"
   },
   "source": [
    "***Life_expectancy* vs *Adult_Mortality* vs *Continent***"
   ]
  },
  {
   "cell_type": "code",
   "execution_count": null,
   "metadata": {
    "id": "-PunK0P-qH11",
    "outputId": "58be1480-5e6a-4741-f57f-a56012ceaafe"
   },
   "outputs": [],
   "source": [
    "plt.figure(figsize=(10, 7))\n",
    "sns.scatterplot(y=\"Life_expectancy\", x=\"Adult_Mortality\", hue=\"Continent\", data=df)\n",
    "plt.show()"
   ]
  },
  {
   "cell_type": "markdown",
   "metadata": {
    "id": "Kptf5mi7qH2V"
   },
   "source": [
    "* Many European and some Asian countries have had life expectancy higher than 80 years for some years.\n",
    "* Most of the African countries have higher adult mortality and life expectancy lower than 65 years."
   ]
  },
  {
   "cell_type": "markdown",
   "metadata": {
    "id": "gzeetTJqqH4O"
   },
   "source": [
    "**Median *Life_expectancy* by *Country* and *Status***"
   ]
  },
  {
   "cell_type": "code",
   "execution_count": null,
   "metadata": {
    "id": "SF8SiAtEqH4P",
    "outputId": "bd4ecca3-5ce4-46ab-f609-ccebab8baa1a"
   },
   "outputs": [],
   "source": [
    "df_hm = df.pivot_table(\n",
    "    index=\"Continent\", columns=\"Status\", values=\"Life_expectancy\", aggfunc=np.median\n",
    ")\n",
    "\n",
    "# Draw a heatmap\n",
    "f, ax = plt.subplots(figsize=(10, 7))\n",
    "sns.heatmap(df_hm, cmap=\"Spectral\", linewidths=0.5, annot=True, ax=ax)\n",
    "plt.show()"
   ]
  },
  {
   "cell_type": "markdown",
   "metadata": {
    "id": "LNHi51U7fnUb"
   },
   "source": [
    "- Developed countries from Asia have higher life expectancy than developed countries from Europe and North America."
   ]
  },
  {
   "cell_type": "markdown",
   "metadata": {
    "id": "SnthwKQBqH4a"
   },
   "source": [
    "***Life_expectancy* vs *Continent* vs *Status***"
   ]
  },
  {
   "cell_type": "code",
   "execution_count": null,
   "metadata": {
    "id": "fv0z8dflqH4i",
    "outputId": "203e345b-d872-400f-d765-a4e3791d46fc"
   },
   "outputs": [],
   "source": [
    "plt.figure(figsize=(17, 9))\n",
    "sns.boxplot(y=\"Continent\", x=\"Life_expectancy\", data=df, hue=\"Status\")\n",
    "plt.show()"
   ]
  },
  {
   "cell_type": "markdown",
   "metadata": {
    "id": "b3s5LcfZwC40"
   },
   "source": [
    "**Observations**\n",
    "\n",
    "- The life expectancy in the developed countries is much higher than the developing countries.\n",
    "\n",
    "- The median value of life expectancy (approximately as can be seen from the boxplot) are as follows:\n",
    "     - Developing: 69 years\n",
    "     - Developed: 78 years"
   ]
  },
  {
   "cell_type": "markdown",
   "metadata": {},
   "source": [
    "**Let's convert the *object* type columns to *category* type**"
   ]
  },
  {
   "cell_type": "code",
   "execution_count": null,
   "metadata": {
    "id": "h6h_oeEmqH4q"
   },
   "outputs": [],
   "source": [
    "df[\"Country\"] = df[\"Country\"].astype(\"category\")\n",
    "df[\"Status\"] = df[\"Status\"].astype(\"category\")\n",
    "df[\"Continent\"] = df[\"Continent\"].astype(\"category\")"
   ]
  },
  {
   "cell_type": "markdown",
   "metadata": {},
   "source": [
    "## Data Preprocessing (contd.)"
   ]
  },
  {
   "cell_type": "markdown",
   "metadata": {
    "id": "lNwn_2f6qH0_"
   },
   "source": [
    "### Outlier Detection\n",
    "\n",
    "- Let's look at outliers in every numerical column"
   ]
  },
  {
   "cell_type": "code",
   "execution_count": null,
   "metadata": {
    "id": "84doLHNUqH0_",
    "outputId": "e81313b6-036f-4f5b-8620-e370a9ae0346"
   },
   "outputs": [],
   "source": [
    "# let's plot the boxplots of all columns to check for outliers\n",
    "plt.figure(figsize=(20, 30))\n",
    "\n",
    "for i, variable in enumerate(numeric_columns):\n",
    "    plt.subplot(5, 4, i + 1)\n",
    "    plt.boxplot(df[variable], whis=1.5)\n",
    "    plt.tight_layout()\n",
    "    plt.title(variable)\n",
    "\n",
    "plt.show()"
   ]
  },
  {
   "cell_type": "markdown",
   "metadata": {
    "id": "GBe8fUc7qH1D"
   },
   "source": [
    "**Observations**\n",
    "\n",
    "* There are lower outliers in *Life_expectancy*, *Hepatitis_B*, *Polio*, *Diphtheria*, *Income_composition_of_resources* and *Schooling*.\n",
    "\n",
    "* There are no outliers in *BMI*.\n",
    "\n",
    "* All other numerical columns have upper outliers.\n",
    "\n",
    "* We will treat these outliers as these might adversely affect the predictive power of linear model. However, in real life, these outliers may be due to non-linear pattern in the data or can be important information.\n",
    "\n",
    "* Sometimes outliers in the independent variable can adversely impact the linear model. This can be checked by building the model with and without outliers and comparing the model performances."
   ]
  },
  {
   "cell_type": "markdown",
   "metadata": {
    "id": "ogPt_Vz1qH58"
   },
   "source": [
    "### Outlier Treatment\n",
    "\n",
    "- Let's treat outliers in the data by flooring and capping."
   ]
  },
  {
   "cell_type": "code",
   "execution_count": null,
   "metadata": {
    "id": "7Jbsz3J-qH59"
   },
   "outputs": [],
   "source": [
    "def treat_outliers(df, col):\n",
    "    \"\"\"\n",
    "    treats outliers in a variable\n",
    "    col: str, name of the numerical variable\n",
    "    df: dataframe\n",
    "    col: name of the column\n",
    "    \"\"\"\n",
    "    Q1 = df[col].quantile(0.25)  # 25th quantile\n",
    "    Q3 = df[col].quantile(0.75)  # 75th quantile\n",
    "    IQR = Q3 - Q1\n",
    "    Lower_Whisker = Q1 - 1.5 * IQR\n",
    "    Upper_Whisker = Q3 + 1.5 * IQR\n",
    "\n",
    "    # all the values smaller than Lower_Whisker will be assigned the value of Lower_Whisker\n",
    "    # all the values greater than Upper_Whisker will be assigned the value of Upper_Whisker\n",
    "    df[col] = np.clip(df[col], Lower_Whisker, Upper_Whisker)\n",
    "\n",
    "    return df\n",
    "\n",
    "\n",
    "def treat_outliers_all(df, col_list):\n",
    "    \"\"\"\n",
    "    treat outlier in all numerical variables\n",
    "    col_list: list of numerical variables\n",
    "    df: data frame\n",
    "    \"\"\"\n",
    "    for c in col_list:\n",
    "        df = treat_outliers(df, c)\n",
    "\n",
    "    return df"
   ]
  },
  {
   "cell_type": "code",
   "execution_count": null,
   "metadata": {
    "id": "bWFUEC16qH6F"
   },
   "outputs": [],
   "source": [
    "# treating the outliers\n",
    "numerical_col = df.select_dtypes(include=np.number).columns.tolist()\n",
    "df = treat_outliers_all(df, numerical_col)"
   ]
  },
  {
   "cell_type": "code",
   "execution_count": null,
   "metadata": {
    "id": "XoKCoXeDqH6O",
    "outputId": "3d805350-23b7-4f5a-9231-949f4e813cf7"
   },
   "outputs": [],
   "source": [
    "# let's look at the boxplots to see if the outliers have been treated or not\n",
    "plt.figure(figsize=(20, 30))\n",
    "\n",
    "for i, variable in enumerate(numeric_columns):\n",
    "    plt.subplot(5, 4, i + 1)\n",
    "    plt.boxplot(df[variable], whis=1.5)\n",
    "    plt.tight_layout()\n",
    "    plt.title(variable)\n",
    "\n",
    "plt.show()"
   ]
  },
  {
   "cell_type": "markdown",
   "metadata": {
    "id": "1THqC335b4Yi"
   },
   "source": [
    "## Linear Model Building\n",
    "\n",
    "1. We want to predict the life expectancy.\n",
    "\n",
    "2. Before we proceed to build a model, we'll have to encode categorical features.\n",
    "\n",
    "3. We'll split the data into train and test to be able to evaluate the model that we build on the train data.\n",
    "\n",
    "4. We will build a Linear Regression model using the train data and then check it's performance."
   ]
  },
  {
   "cell_type": "code",
   "execution_count": null,
   "metadata": {
    "colab": {
     "base_uri": "https://localhost:8080/",
     "height": 255
    },
    "id": "372WHRhJGpj4",
    "outputId": "fbd1611b-c8c2-43e1-99b9-199c114b4790"
   },
   "outputs": [],
   "source": [
    "# defining X and y variables\n",
    "X = df.drop([\"Life_expectancy\", \"Country\"], axis=1)\n",
    "y = df[\"Life_expectancy\"]\n",
    "\n",
    "print(X.head())\n",
    "print(y.head())"
   ]
  },
  {
   "cell_type": "code",
   "execution_count": null,
   "metadata": {
    "id": "ibploFW2qH7r",
    "outputId": "318693fd-cf23-478f-bed6-99f14bc4a2ca"
   },
   "outputs": [],
   "source": [
    "X = pd.get_dummies(\n",
    "    X,\n",
    "    columns=X.select_dtypes(include=[\"object\", \"category\"]).columns.tolist(),\n",
    "    drop_first=True,\n",
    ")\n",
    "X.head()"
   ]
  },
  {
   "cell_type": "code",
   "execution_count": null,
   "metadata": {
    "id": "CBXfTtAPGoaF"
   },
   "outputs": [],
   "source": [
    "# splitting the data in 70:30 ratio for train to test data\n",
    "\n",
    "x_train, x_test, y_train, y_test = train_test_split(\n",
    "    X, y, test_size=0.3, random_state=42\n",
    ")"
   ]
  },
  {
   "cell_type": "code",
   "execution_count": null,
   "metadata": {},
   "outputs": [],
   "source": [
    "print(\"Number of rows in train data =\", x_train.shape[0])\n",
    "print(\"Number of rows in test data =\", x_test.shape[0])"
   ]
  },
  {
   "cell_type": "code",
   "execution_count": null,
   "metadata": {
    "colab": {
     "base_uri": "https://localhost:8080/",
     "height": 714
    },
    "colab_type": "code",
    "id": "Ycx7GmR3HInW",
    "outputId": "3633bbd2-e65b-4575-a89a-3ca970c18054"
   },
   "outputs": [],
   "source": [
    "# fitting the model on the train data (70% of the whole data)\n",
    "from sklearn.linear_model import LinearRegression\n",
    "\n",
    "linearregression = LinearRegression()\n",
    "linearregression.fit(x_train, y_train)"
   ]
  },
  {
   "cell_type": "markdown",
   "metadata": {},
   "source": [
    "**Let's check the coefficients and intercept of the model.**"
   ]
  },
  {
   "cell_type": "code",
   "execution_count": null,
   "metadata": {},
   "outputs": [],
   "source": [
    "coef_df = pd.DataFrame(\n",
    "    np.append(linearregression.coef_, linearregression.intercept_),\n",
    "    index=x_train.columns.tolist() + [\"Intercept\"],\n",
    "    columns=[\"Coefficients\"],\n",
    ")\n",
    "\n",
    "coef_df"
   ]
  },
  {
   "cell_type": "markdown",
   "metadata": {},
   "source": [
    "**Let's check the performance of the model using different metrics.**\n",
    "\n",
    "* We will be using metric functions defined in sklearn for RMSE, MAE, and $R^2$.\n",
    "* We will define a function to calculate MAPE and adjusted $R^2$.\n",
    "    - The mean absolute percentage error (MAPE) measures the accuracy of predictions as a percentage, and can be calculated as the average absolute percent error for each predicted value minus actual values divided by actual values. It works best if there are no extreme values in the data and none of the actual values are 0.\n",
    "    \n",
    "* We will create a function which will print out all the above metrics in one go."
   ]
  },
  {
   "cell_type": "code",
   "execution_count": null,
   "metadata": {
    "id": "deaapIIvlJIL",
    "outputId": "3dde4318-92d3-45b2-9630-40c84f28db99"
   },
   "outputs": [],
   "source": [
    "# function to compute adjusted R-squared\n",
    "def adj_r2_score(predictors, targets, predictions):\n",
    "    r2 = r2_score(targets, predictions)\n",
    "    n = predictors.shape[0]\n",
    "    k = predictors.shape[1]\n",
    "    return 1 - ((1 - r2) * (n - 1) / (n - k - 1))\n",
    "\n",
    "\n",
    "# function to compute MAPE\n",
    "def mape_score(targets, predictions):\n",
    "    return np.mean(np.abs(targets - predictions) / targets) * 100\n",
    "\n",
    "\n",
    "# function to compute different metrics to check performance of a regression model\n",
    "def model_performance_regression(model, predictors, target):\n",
    "    \"\"\"\n",
    "    Function to compute different metrics to check regression model performance\n",
    "\n",
    "    model: regressor\n",
    "    predictors: independent variables\n",
    "    target: dependent variable\n",
    "    \"\"\"\n",
    "\n",
    "    # predicting using the independent variables\n",
    "    pred = model.predict(predictors)\n",
    "\n",
    "    r2 = r2_score(target, pred)  # to compute R-squared\n",
    "    adjr2 = adj_r2_score(predictors, target, pred)  # to compute adjusted R-squared\n",
    "    rmse = np.sqrt(mean_squared_error(target, pred))  # to compute RMSE\n",
    "    mae = mean_absolute_error(target, pred)  # to compute MAE\n",
    "    mape = mape_score(target, pred)  # to compute MAPE\n",
    "\n",
    "    # creating a dataframe of metrics\n",
    "    df_perf = pd.DataFrame(\n",
    "        {\n",
    "            \"RMSE\": rmse,\n",
    "            \"MAE\": mae,\n",
    "            \"R-squared\": r2,\n",
    "            \"Adj. R-squared\": adjr2,\n",
    "            \"MAPE\": mape,\n",
    "        },\n",
    "        index=[0],\n",
    "    )\n",
    "\n",
    "    return df_perf"
   ]
  },
  {
   "cell_type": "code",
   "execution_count": null,
   "metadata": {
    "colab": {
     "base_uri": "https://localhost:8080/",
     "height": 34
    },
    "id": "vVBBaPtf-BZd",
    "outputId": "63d34fb7-2c29-4343-b356-15c63bf06b2c"
   },
   "outputs": [],
   "source": [
    "# checking model performance on train set (seen 70% data)\n",
    "print(\"Training Performance\\n\")\n",
    "linearregression_train_perf = model_performance_regression(\n",
    "    linearregression, x_train, y_train\n",
    ")\n",
    "linearregression_train_perf"
   ]
  },
  {
   "cell_type": "code",
   "execution_count": null,
   "metadata": {
    "id": "Sv51vNBhlJIL",
    "outputId": "820395bc-f454-4ec9-a8f0-757d0e3c0d84"
   },
   "outputs": [],
   "source": [
    "# checking model performance on test set (seen 30% data)\n",
    "print(\"Test Performance\\n\")\n",
    "linearregression_test_perf = model_performance_regression(\n",
    "    linearregression, x_test, y_test\n",
    ")\n",
    "linearregression_test_perf"
   ]
  },
  {
   "cell_type": "markdown",
   "metadata": {
    "id": "doso3U2753mZ"
   },
   "source": [
    "**Observations**\n",
    "\n",
    "- The training $R^2$ is 86.5%, indicating that the model explains 86.5% of the variation in the train data. So, the model is not underfitting.\n",
    "\n",
    "- MAE and RMSE on the train and test sets are comparable, which shows that the model is not overfitting.\n",
    "\n",
    "- MAE indicates that our current model is able to predict life expectancy within a mean error of 2.7 years on the test data.\n",
    "\n",
    "- MAPE on the test set suggests we can predict within 4.1% of the life expectancy."
   ]
  },
  {
   "cell_type": "markdown",
   "metadata": {},
   "source": [
    "## Linear Regression using statsmodels\n",
    "\n",
    "- Let's build a linear regression model using statsmodels."
   ]
  },
  {
   "cell_type": "code",
   "execution_count": null,
   "metadata": {
    "id": "-uylJTNMqH8b",
    "outputId": "eca90d3d-e484-4feb-876f-756e1a990e9a"
   },
   "outputs": [],
   "source": [
    "# unlike sklearn, statsmodels does not add a constant to the data on its own\n",
    "# we have to add the constant manually\n",
    "x_train1 = sm.add_constant(x_train)\n",
    "# adding constant to the test data\n",
    "x_test1 = sm.add_constant(x_test)\n",
    "\n",
    "olsmod0 = sm.OLS(y_train, x_train1).fit()\n",
    "print(olsmod0.summary())"
   ]
  },
  {
   "cell_type": "markdown",
   "metadata": {
    "id": "_3K1B5m_qH8d"
   },
   "source": [
    "**Observations**\n",
    "\n",
    "- Negative values of the coefficient show that *Life_expectancy* decreases with the increase of corresponding attribute value.\n",
    "\n",
    "- Positive values of the coefficient show that *Life_expectancy* increases with the increase of corresponding attribute value.\n",
    "\n",
    "- p-value of a variable indicates if the variable is significant or not. If we consider the significance level to be 0.05 (5%), then any variable with a p-value less than 0.05 would be considered significant.\n",
    "\n",
    "- But these variables might contain multicollinearity, which will affect the p-values.\n",
    "\n",
    "- So, we need to deal with multicollinearity and check the other assumptions of linear regression first, and then look at the p-values."
   ]
  },
  {
   "cell_type": "markdown",
   "metadata": {
    "id": "a9GxSQf-qH8e"
   },
   "source": [
    "## Checking Linear Regression Assumptions"
   ]
  },
  {
   "cell_type": "markdown",
   "metadata": {
    "id": "5Wr6XkwoqH8f"
   },
   "source": [
    "We will be checking the following Linear Regression assumptions:\n",
    "\n",
    "1. **No Multicollinearity**\n",
    "\n",
    "2. **Linearity of variables**\n",
    "\n",
    "3. **Independence of error terms**\n",
    "\n",
    "4. **Normality of error terms**\n",
    "\n",
    "5. **No Heteroscedasticity**"
   ]
  },
  {
   "cell_type": "markdown",
   "metadata": {
    "id": "mROHQdzZqH8f"
   },
   "source": [
    "### TEST FOR MULTICOLLINEARITY\n",
    "\n",
    "* Multicollinearity occurs when predictor variables in a regression model are correlated. This correlation is a problem because predictor variables should be independent. If the correlation between variables is high, it can cause problems when we fit the model and interpret the results. When we have multicollinearity in the linear model, the coefficients that the model suggests are unreliable.\n",
    "\n",
    "* There are different ways of detecting (or testing) multicollinearity. One such way is by using the Variance Inflation Factor, or VIF.\n",
    "\n",
    "* **Variance  Inflation Factor (VIF)**:  Variance inflation factors measure the inflation in the variances of the regression parameter estimates due to collinearities that exist among the predictors. It is a measure of how much the variance of the estimated regression coefficient $\\beta_k$ is \"inflated\" by the existence of correlation among the predictor variables in the model.\n",
    "    - If VIF is 1, then there is no correlation among the $k$th predictor and the remaining predictor variables, and hence, the variance of $\\beta_k$ is not inflated at all.\n",
    "\n",
    "* **General Rule of thumb**:\n",
    "    - If VIF is between 1 and 5, then there is low multicollinearity.\n",
    "    - If VIF is between 5 and 10, we say there is moderate multicollinearity.\n",
    "    - If VIF is exceeding 10, it shows signs of high multicollinearity."
   ]
  },
  {
   "cell_type": "code",
   "execution_count": null,
   "metadata": {
    "id": "ZV-69rVWqH8g",
    "outputId": "91fa45d9-73ff-46cd-bad0-79a6d2ac4b76"
   },
   "outputs": [],
   "source": [
    "from statsmodels.stats.outliers_influence import variance_inflation_factor\n",
    "\n",
    "# we will define a function to check VIF\n",
    "def checking_vif(predictors):\n",
    "    vif = pd.DataFrame()\n",
    "    vif[\"feature\"] = predictors.columns\n",
    "\n",
    "    # calculating VIF for each feature\n",
    "    vif[\"VIF\"] = [\n",
    "        variance_inflation_factor(predictors.values, i)\n",
    "        for i in range(len(predictors.columns))\n",
    "    ]\n",
    "    return vif"
   ]
  },
  {
   "cell_type": "code",
   "execution_count": null,
   "metadata": {},
   "outputs": [],
   "source": [
    "checking_vif(x_train1)"
   ]
  },
  {
   "cell_type": "markdown",
   "metadata": {
    "id": "wA_OnHcyqH8p"
   },
   "source": [
    "* *Thinness__1_19_years* and *Thinness__5_9_years* have VIF slightly greater than 5.\n",
    "* *Infant_deaths* and *Under_five_deaths* have a VIF score of much greater than 5.\n",
    "* Clearly these 2 variables are correlated with each other.\n",
    "* This does seem to make intuitive sense because the number of infant death and under-5 deaths would have a significant overlap."
   ]
  },
  {
   "cell_type": "markdown",
   "metadata": {
    "id": "XSiS4SRaqH8q"
   },
   "source": [
    "### Removing Multicollinearity\n",
    "\n",
    "To remove multicollinearity\n",
    "\n",
    "1. Drop every column one by one that has a VIF score greater than 5.\n",
    "2. Look at the adjusted R-squared and RMSE of all these models.\n",
    "3. Drop the variable that makes the least change in adjusted R-squared.\n",
    "4. Check the VIF scores again.\n",
    "5. Continue till you get all VIF scores under 5.\n",
    "\n",
    "Let's define a function that will help us do this."
   ]
  },
  {
   "cell_type": "code",
   "execution_count": null,
   "metadata": {},
   "outputs": [],
   "source": [
    "def treating_multicollinearity(predictors, target, high_vif_columns):\n",
    "    \"\"\"\n",
    "    Checking the effect of dropping the columns showing high multicollinearity\n",
    "    on model performance (adj. R-squared and RMSE)\n",
    "\n",
    "    predictors: independent variables\n",
    "    target: dependent variable\n",
    "    high_vif_columns: columns having high VIF\n",
    "    \"\"\"\n",
    "    # empty lists to store adj. R-squared and RMSE values\n",
    "    adj_r2 = []\n",
    "    rmse = []\n",
    "\n",
    "    # build ols models by dropping one of the high VIF columns at a time\n",
    "    # store the adjusted R-squared and RMSE in the lists defined previously\n",
    "    for cols in high_vif_columns:\n",
    "        # defining the new train set\n",
    "        train = predictors.loc[:, ~predictors.columns.str.startswith(cols)]\n",
    "\n",
    "        # create the model\n",
    "        olsmodel = sm.OLS(target, train).fit()\n",
    "\n",
    "        # adding adj. R-squared and RMSE to the lists\n",
    "        adj_r2.append(olsmodel.rsquared_adj)\n",
    "        rmse.append(np.sqrt(olsmodel.mse_resid))\n",
    "\n",
    "    # creating a dataframe for the results\n",
    "    temp = pd.DataFrame(\n",
    "        {\n",
    "            \"col\": high_vif_columns,\n",
    "            \"Adj. R-squared after_dropping col\": adj_r2,\n",
    "            \"RMSE after dropping col\": rmse,\n",
    "        }\n",
    "    ).sort_values(by=\"Adj. R-squared after_dropping col\", ascending=False)\n",
    "    temp.reset_index(drop=True, inplace=True)\n",
    "\n",
    "    return temp"
   ]
  },
  {
   "cell_type": "code",
   "execution_count": null,
   "metadata": {},
   "outputs": [],
   "source": [
    "col_list = [\n",
    "    \"Infant_deaths\",\n",
    "    \"Under_five_deaths\",\n",
    "    \"Thinness__1_19_years\",\n",
    "    \"Thinness_5_9_years\",\n",
    "]\n",
    "\n",
    "res = treating_multicollinearity(x_train1, y_train, col_list)\n",
    "res"
   ]
  },
  {
   "cell_type": "markdown",
   "metadata": {},
   "source": [
    "* Dropping *Under_five_deaths* would have the maximum impact on the predictive power of the model (amongst the variables being considered).\n",
    "* We'll drop *Thinness__1_19_years* and check the VIF again."
   ]
  },
  {
   "cell_type": "code",
   "execution_count": null,
   "metadata": {},
   "outputs": [],
   "source": [
    "col_to_drop = \"Thinness__1_19_years\"\n",
    "x_train2 = x_train1.loc[:, ~x_train1.columns.str.startswith(col_to_drop)]\n",
    "x_test2 = x_test1.loc[:, ~x_test1.columns.str.startswith(col_to_drop)]\n",
    "\n",
    "# Check VIF now\n",
    "vif = checking_vif(x_train2)\n",
    "print(\"VIF after dropping \", col_to_drop)\n",
    "vif"
   ]
  },
  {
   "cell_type": "markdown",
   "metadata": {},
   "source": [
    "* Dropping *Thinness__1_19_years* has brought the VIF of *Thinness_5_9_years* below 5.\n",
    "* *Infant_deaths* and *Under_five_deaths* still have a VIF score of much greater than 5."
   ]
  },
  {
   "cell_type": "code",
   "execution_count": null,
   "metadata": {},
   "outputs": [],
   "source": [
    "col_list = [\n",
    "    \"Infant_deaths\",\n",
    "    \"Under_five_deaths\",\n",
    "]\n",
    "\n",
    "res = treating_multicollinearity(x_train2, y_train, col_list)\n",
    "res"
   ]
  },
  {
   "cell_type": "markdown",
   "metadata": {},
   "source": [
    "- We will drop *Infant_deaths*."
   ]
  },
  {
   "cell_type": "code",
   "execution_count": null,
   "metadata": {},
   "outputs": [],
   "source": [
    "col_to_drop = \"Infant_deaths\"\n",
    "x_train3 = x_train2.loc[:, ~x_train2.columns.str.startswith(col_to_drop)]\n",
    "x_test3 = x_test2.loc[:, ~x_test2.columns.str.startswith(col_to_drop)]\n",
    "\n",
    "# Check VIF now\n",
    "vif = checking_vif(x_train3)\n",
    "print(\"VIF after dropping \", col_to_drop)\n",
    "vif"
   ]
  },
  {
   "cell_type": "markdown",
   "metadata": {
    "id": "bAZRVvxaqH9G"
   },
   "source": [
    "**The above predictors have no multicollinearity and the assumption is satisfied.**\n",
    "\n",
    "Let's check the model performance."
   ]
  },
  {
   "cell_type": "code",
   "execution_count": null,
   "metadata": {},
   "outputs": [],
   "source": [
    "olsmod1 = sm.OLS(y_train, x_train3).fit()\n",
    "print(olsmod1.summary())"
   ]
  },
  {
   "cell_type": "markdown",
   "metadata": {
    "id": "ccsFJFYoqH9J"
   },
   "source": [
    "**Observations**\n",
    "\n",
    "- We can see that adj. R-squared has dropped from 0.863 to 0.861, which shows that the dropped columns did not have much effect on the model.\n",
    "- As there is no multicollinearity, we can look at the p-values of predictor variables to check their significance.\n",
    "\n",
    "\n",
    "- *Measles*, *BMI*, *Total_expenditure*, *GDP*, *Population*, and *Continent_Oceania* have p-value > 0.05. So, they are not significant and we'll drop them.\n",
    "- But sometimes p-values change after dropping a variable. So, we'll not drop all variables at once.\n",
    "- Instead, we will do the following:\n",
    "    - Build a model, check the p-values of the variables, and drop the column with the highest p-value.\n",
    "    - Create a new model without the dropped feature, check the p-values of the variables, and drop the column with the highest p-value.\n",
    "    - Repeat the above two steps till there are no columns with p-value > 0.05.\n",
    "\n",
    "The above process can also be done manually by picking one variable at a time that has a high p-value, dropping it, and building a model again. But that might be a little tedious and using a loop will be more efficient."
   ]
  },
  {
   "cell_type": "code",
   "execution_count": null,
   "metadata": {},
   "outputs": [],
   "source": [
    "# initial list of columns\n",
    "cols = x_train3.columns.tolist()\n",
    "\n",
    "# setting an initial max p-value\n",
    "max_p_value = 1\n",
    "\n",
    "while len(cols) > 0:\n",
    "    # defining the train set\n",
    "    x_train_aux = x_train3[cols]\n",
    "\n",
    "    # fitting the model\n",
    "    model = sm.OLS(y_train, x_train_aux).fit()\n",
    "\n",
    "    # getting the p-values and the maximum p-value\n",
    "    p_values = model.pvalues\n",
    "    max_p_value = max(p_values)\n",
    "\n",
    "    # name of the variable with maximum p-value\n",
    "    feature_with_p_max = p_values.idxmax()\n",
    "\n",
    "    if max_p_value > 0.05:\n",
    "        cols.remove(feature_with_p_max)\n",
    "    else:\n",
    "        break\n",
    "\n",
    "selected_features = cols\n",
    "print(selected_features)"
   ]
  },
  {
   "cell_type": "code",
   "execution_count": null,
   "metadata": {
    "id": "s4fj6umDqH9N"
   },
   "outputs": [],
   "source": [
    "x_train4 = x_train3[selected_features]\n",
    "x_test4 = x_test3[selected_features]"
   ]
  },
  {
   "cell_type": "code",
   "execution_count": null,
   "metadata": {
    "id": "jCDUCG6_qH9R",
    "outputId": "36bd62fd-e8e5-4ba6-da6b-69c34573dff3"
   },
   "outputs": [],
   "source": [
    "olsmod2 = sm.OLS(y_train, x_train4).fit()\n",
    "print(olsmod2.summary())"
   ]
  },
  {
   "cell_type": "markdown",
   "metadata": {
    "id": "-A_zflLwqH9y"
   },
   "source": [
    "**Now no feature has p-value greater than 0.05, so we'll consider the features in *x_train4* as the final ones and *olsmod2* as final model.**"
   ]
  },
  {
   "cell_type": "markdown",
   "metadata": {
    "id": "85AyhdAfqH9z"
   },
   "source": [
    "**Observations**\n",
    "\n",
    "* Now adjusted R-squared is 0.861, i.e., our model is able to explain ~86% of the variance. This shows that the model is good.\n",
    "* The adjusted R-squared in *olsmod0* (where we considered all the variables) was 0.863. This shows that the variables we dropped were not affecting the model much."
   ]
  },
  {
   "cell_type": "markdown",
   "metadata": {
    "id": "Ctk29PsRqH90"
   },
   "source": [
    "**Now we'll check the rest of the assumptions on *olsmod2*.**\n",
    "\n",
    "2. **Linearity of variables**\n",
    "\n",
    "3. **Independence of error terms**\n",
    "\n",
    "4. **Normality of error terms**\n",
    "\n",
    "5. **No Heteroscedasticity**"
   ]
  },
  {
   "cell_type": "markdown",
   "metadata": {
    "id": "MnOY6E5uqH-C"
   },
   "source": [
    "### TEST FOR LINEARITY AND INDEPENDENCE\n",
    "\n",
    "**Why the test?**\n",
    "\n",
    "* Linearity describes a straight-line relationship between two variables, predictor variables must have a linear relation with the dependent variable.\n",
    "* The independence of the error terms (or residuals) is important. If the residuals are not independent, then the confidence intervals of the coefficient estimates will be narrower and make us incorrectly conclude a parameter to be statistically significant.\n",
    "\n",
    "**How to check linearity and independence?**\n",
    "\n",
    "- Make a plot of fitted values vs residuals.\n",
    "- If they don't follow any pattern, then we say the model is linear and residuals are independent.\n",
    "- Otherwise, the model is showing signs of non-linearity and residuals are not independent.\n",
    "\n",
    "**How to fix if this assumption is not followed?**\n",
    "\n",
    "* We can try to transform the variables and make the relationships linear."
   ]
  },
  {
   "cell_type": "code",
   "execution_count": null,
   "metadata": {},
   "outputs": [],
   "source": [
    "# let us create a dataframe with actual, fitted and residual values\n",
    "df_pred = pd.DataFrame()\n",
    "\n",
    "df_pred[\"Actual Values\"] = y_train  # actual values\n",
    "df_pred[\"Fitted Values\"] = olsmod2.fittedvalues  # predicted values\n",
    "df_pred[\"Residuals\"] = olsmod2.resid  # residuals\n",
    "\n",
    "df_pred.head()"
   ]
  },
  {
   "cell_type": "code",
   "execution_count": null,
   "metadata": {
    "id": "NJ4ivHQiqH-G",
    "outputId": "bd7a8d63-6821-4230-d7ec-fad6c25347b5"
   },
   "outputs": [],
   "source": [
    "# let's plot the fitted values vs residuals\n",
    "\n",
    "sns.residplot(\n",
    "    data=df_pred, x=\"Fitted Values\", y=\"Residuals\", color=\"purple\", lowess=True\n",
    ")\n",
    "plt.xlabel(\"Fitted Values\")\n",
    "plt.ylabel(\"Residuals\")\n",
    "plt.title(\"Fitted vs Residual plot\")\n",
    "plt.show()"
   ]
  },
  {
   "cell_type": "markdown",
   "metadata": {
    "id": "bdVdvRegqH-M"
   },
   "source": [
    "* The scatter plot shows the distribution of residuals (errors) vs fitted values (predicted values).\n",
    "\n",
    "* If there exist any pattern in this plot, we consider it as signs of non-linearity in the data and a pattern means that the model doesn't capture non-linear effects.\n",
    "\n",
    "* **We see no pattern in the plot above. Hence, the assumptions of linearity and independence are satisfied.**"
   ]
  },
  {
   "cell_type": "markdown",
   "metadata": {
    "id": "VOxf_qsQqH-N"
   },
   "source": [
    "### TEST FOR NORMALITY\n",
    "\n",
    "**Why the test?**\n",
    "\n",
    "* Error terms, or residuals, should be normally distributed. If the error terms are not normally distributed, confidence intervals of the coefficient estimates may become too wide or narrow. Once confidence interval becomes unstable, it leads to difficulty in estimating coefficients based on minimization of least squares. Non-normality suggests that there are a few unusual data points that must be studied closely to make a better model.\n",
    "\n",
    "**How to check normality?**\n",
    "\n",
    "* The shape of the histogram of residuals can give an initial idea about the normality.\n",
    "* It can also be checked via a Q-Q plot of residuals. If the residuals follow a normal distribution, they will make a straight line plot, otherwise not.\n",
    "* Other tests to check for normality includes the Shapiro-Wilk test.\n",
    "    - Null hypothesis: Residuals are normally distributed\n",
    "    - Alternate hypothesis: Residuals are not normally distributed\n",
    "\n",
    "**How to fix if this assumption is not followed?**\n",
    "\n",
    "* We can apply transformations like log, exponential, arcsinh, etc. as per our data."
   ]
  },
  {
   "cell_type": "code",
   "execution_count": null,
   "metadata": {
    "id": "MUdQ6XJLqH-N",
    "outputId": "9ba40f22-648a-4cbe-f898-53a580e29dce"
   },
   "outputs": [],
   "source": [
    "sns.histplot(data=df_pred, x=\"Residuals\", kde=True)\n",
    "plt.title(\"Normality of residuals\")\n",
    "plt.show()"
   ]
  },
  {
   "cell_type": "markdown",
   "metadata": {
    "id": "S9YQpkZ-qH-Q"
   },
   "source": [
    "- The histogram of residuals does have a bell shape.\n",
    "- Let's check the Q-Q plot."
   ]
  },
  {
   "cell_type": "code",
   "execution_count": null,
   "metadata": {
    "id": "Wj8y7-1nqH-Q",
    "outputId": "d262cf84-08cd-402e-a0a5-20e71588d8f7"
   },
   "outputs": [],
   "source": [
    "import pylab\n",
    "import scipy.stats as stats\n",
    "\n",
    "stats.probplot(df_pred[\"Residuals\"], dist=\"norm\", plot=pylab)\n",
    "plt.show()"
   ]
  },
  {
   "cell_type": "markdown",
   "metadata": {},
   "source": [
    "- The residuals more or less follow a straight line except for the tails.\n",
    "- Let's check the results of the Shapiro-Wilk test."
   ]
  },
  {
   "cell_type": "code",
   "execution_count": null,
   "metadata": {
    "id": "b1LIATpBqH-U",
    "outputId": "3a4bc583-d2d0-4bac-ef60-0bc2e2771701"
   },
   "outputs": [],
   "source": [
    "stats.shapiro(df_pred[\"Residuals\"])"
   ]
  },
  {
   "cell_type": "markdown",
   "metadata": {
    "id": "TD0BLsvSqH-Z"
   },
   "source": [
    "- Since p-value < 0.05, the residuals are not normal as per the Shapiro-Wilk test.\n",
    "- Strictly speaking, the residuals are not normal.\n",
    "- However, as an approximation, we can accept this distribution as close to being normal.\n",
    "- **So, the assumption is satisfied.**"
   ]
  },
  {
   "cell_type": "markdown",
   "metadata": {
    "id": "6gZ4GKY_qH-Z"
   },
   "source": [
    "### TEST FOR HOMOSCEDASTICITY\n",
    "\n",
    "* **Homoscedascity**: If the variance of the residuals is symmetrically distributed across the regression line, then the data is said to be homoscedastic.\n",
    "\n",
    "* **Heteroscedascity**: If the variance is unequal for the residuals across the regression line, then the data is said to be heteroscedastic.\n",
    "\n",
    "**Why the test?** \n",
    "\n",
    "* The presence of non-constant variance in the error terms results in heteroscedasticity. Generally, non-constant variance arises in presence of outliers.\n",
    "\n",
    "**How to check for homoscedasticity?**\n",
    "\n",
    "* The residual vs fitted values plot can be looked at to check for homoscedasticity. In the case of heteroscedasticity, the residuals can form an arrow shape or any other non-symmetrical shape.\n",
    "* The goldfeldquandt test can also be used. If we get a p-value > 0.05 we can say that the residuals are homoscedastic. Otherwise, they are heteroscedastic.\n",
    "    - Null hypothesis: Residuals are homoscedastic\n",
    "    - Alternate hypothesis: Residuals have heteroscedasticity\n",
    "\n",
    "**How to fix if this assumption is not followed?**\n",
    "\n",
    "* Heteroscedasticity can be fixed by adding other important features or making transformations."
   ]
  },
  {
   "cell_type": "code",
   "execution_count": null,
   "metadata": {
    "id": "naX-iXItqH-b",
    "outputId": "f14ec806-2d69-4edd-cace-5000b59ff2dc"
   },
   "outputs": [],
   "source": [
    "import statsmodels.stats.api as sms\n",
    "from statsmodels.compat import lzip\n",
    "\n",
    "name = [\"F statistic\", \"p-value\"]\n",
    "test = sms.het_goldfeldquandt(df_pred[\"Residuals\"], x_train4)\n",
    "lzip(name, test)"
   ]
  },
  {
   "cell_type": "markdown",
   "metadata": {
    "id": "hzmt1AqYqH-d"
   },
   "source": [
    "**Since p-value > 0.05, we can say that the residuals are homoscedastic. So, this assumption is satisfied.**"
   ]
  },
  {
   "cell_type": "markdown",
   "metadata": {
    "id": "wbnr4QViqH-e"
   },
   "source": [
    "**Now that we have checked all the assumptions of linear regression and they are satisfied, we can move towards the prediction part.**"
   ]
  },
  {
   "cell_type": "code",
   "execution_count": null,
   "metadata": {
    "colab": {
     "base_uri": "https://localhost:8080/",
     "height": 419
    },
    "id": "PAtayJx4Ge75",
    "outputId": "e875ee15-fa60-469a-d0a2-de40ef383228"
   },
   "outputs": [],
   "source": [
    "# predictions on the test set\n",
    "pred = olsmod2.predict(x_test4)\n",
    "\n",
    "df_pred_test = pd.DataFrame({\"Actual\": y_test, \"Predicted\": pred})\n",
    "df_pred_test.sample(10, random_state=1)"
   ]
  },
  {
   "cell_type": "markdown",
   "metadata": {
    "id": "7KXrJHtFJvEu"
   },
   "source": [
    "- We can observe here that our model has returned pretty good prediction results, and the actual and predicted values are comparable.\n",
    "\n",
    "- We can also visualize comparison result as a bar graph.\n",
    "\n",
    "**Note**: As the number of records is large, for representation purpose, we are taking a sample of 25 records only."
   ]
  },
  {
   "cell_type": "code",
   "execution_count": null,
   "metadata": {
    "colab": {
     "base_uri": "https://localhost:8080/",
     "height": 594
    },
    "id": "USIE8OYpJc7o",
    "outputId": "65b828cc-23ae-40da-e49d-86a836995a3f"
   },
   "outputs": [],
   "source": [
    "df1 = df_pred_test.sample(25, random_state=1)\n",
    "df1.plot(kind=\"bar\", figsize=(15, 7))\n",
    "plt.show()"
   ]
  },
  {
   "cell_type": "code",
   "execution_count": null,
   "metadata": {},
   "outputs": [],
   "source": [
    "# checking model performance on train set (seen 70% data)\n",
    "print(\"Training Performance\\n\")\n",
    "olsmod2_train_perf = model_performance_regression(olsmod2, x_train4, y_train)\n",
    "olsmod2_train_perf"
   ]
  },
  {
   "cell_type": "code",
   "execution_count": null,
   "metadata": {},
   "outputs": [],
   "source": [
    "# checking model performance on test set (seen 30% data)\n",
    "print(\"Test Performance\\n\")\n",
    "olsmod2_test_perf = model_performance_regression(olsmod2, x_test4, y_test)\n",
    "olsmod2_test_perf"
   ]
  },
  {
   "cell_type": "markdown",
   "metadata": {
    "id": "h8CeR5BuqH-w"
   },
   "source": [
    "* The model is able to explain ~86% of the variation in the data, which is very good.\n",
    "\n",
    "* The train and test RMSE and MAE are low and comparable. So, our model is not suffering from overfitting.\n",
    "\n",
    "* The MAPE on the test set suggests we can predict within 4.1% of the life expectancy. \n",
    "\n",
    "* Hence, we can conclude the model *olsmod2* is good for prediction as well as inference purposes.\n",
    "\n",
    "**Let's compare the initial model created with sklearn and the final statsmodels model.**"
   ]
  },
  {
   "cell_type": "code",
   "execution_count": null,
   "metadata": {},
   "outputs": [],
   "source": [
    "# training performance comparison\n",
    "\n",
    "models_train_comp_df = pd.concat(\n",
    "    [linearregression_train_perf.T, olsmod2_train_perf.T],\n",
    "    axis=1,\n",
    ")\n",
    "\n",
    "models_train_comp_df.columns = [\n",
    "    \"Linear Regression sklearn\",\n",
    "    \"Linear Regression statsmodels\",\n",
    "]\n",
    "\n",
    "print(\"Training performance comparison:\")\n",
    "models_train_comp_df"
   ]
  },
  {
   "cell_type": "code",
   "execution_count": null,
   "metadata": {},
   "outputs": [],
   "source": [
    "# test performance comparison\n",
    "\n",
    "models_test_comp_df = pd.concat(\n",
    "    [linearregression_test_perf.T, olsmod2_test_perf.T],\n",
    "    axis=1,\n",
    ")\n",
    "\n",
    "models_test_comp_df.columns = [\n",
    "    \"Linear Regression sklearn\",\n",
    "    \"Linear Regression statsmodels\",\n",
    "]\n",
    "\n",
    "print(\"Test performance comparison:\")\n",
    "models_test_comp_df"
   ]
  },
  {
   "cell_type": "markdown",
   "metadata": {},
   "source": [
    "* The performance of the two models is close to each other.\n",
    "\n",
    "**Let's recreate the final statsmodels model and print it's summary to gain insights.**"
   ]
  },
  {
   "cell_type": "code",
   "execution_count": null,
   "metadata": {
    "id": "XDZD9zkmqH-x",
    "outputId": "35e8c5ae-b9af-4b42-c7bb-c7070b4391e5"
   },
   "outputs": [],
   "source": [
    "olsmodel_final = sm.OLS(y_train, x_train4).fit()\n",
    "print(olsmodel_final.summary())"
   ]
  },
  {
   "cell_type": "markdown",
   "metadata": {},
   "source": [
    "## Conclusions\n",
    "\n",
    "1. Mortality rates (*Under_five_deaths* and *Adult_mortality*) come out to be very significant, as expected. As these two increase, the total life expectancy decreases, as is visible in the negative coefficient sign.\n",
    "\n",
    "\n",
    "2. 1 unit increase in alcohol value (per capita consumption of pure alcohol in liters) leads to a decrease in life expectancy by 0.0849 years (~31 days!)\n",
    "\n",
    "\n",
    "3. Diseases like *Hepatitis_B* and *HIV_AIDS* decrease the *Life_expectancy*.\n",
    "\n",
    "\n",
    "4. Developing countries tend to have ~2.8 years less life expectancy compared to developed countries.\n",
    "\n",
    "\n",
    "5. People from Asia, Europe, North America, and South America have a higher life expectancy than people of Africa or Oceania.\n",
    "    - People from North America have ~4 years higher life expectancy than people of Africa or Oceania.\n",
    "\n",
    "\n",
    "6. *Year*, *Percentage_expenditure*, *Polio* (refers to polio immunization), *Diptheria* (refers to diptheria immunization), *Income*, and *Schooling* have positive coefficients. So, as they increase, life expectancy also increases."
   ]
  },
  {
   "cell_type": "code",
   "execution_count": null,
   "metadata": {},
   "outputs": [],
   "source": []
  }
 ],
 "metadata": {
  "colab": {
   "collapsed_sections": [
    "nrEXEiJEqH-0",
    "TIIiLvvsqH_L",
    "KpUjOgOSqH_U"
   ],
   "name": "life_expectancy_casestudy.ipynb",
   "provenance": []
  },
  "kernelspec": {
   "display_name": "Python 3",
   "language": "python",
   "name": "python3"
  },
  "language_info": {
   "codemirror_mode": {
    "name": "ipython",
    "version": 3
   },
   "file_extension": ".py",
   "mimetype": "text/x-python",
   "name": "python",
   "nbconvert_exporter": "python",
   "pygments_lexer": "ipython3",
   "version": "3.8.1"
  },
  "toc": {
   "base_numbering": 1,
   "nav_menu": {},
   "number_sections": true,
   "sideBar": true,
   "skip_h1_title": false,
   "title_cell": "Table of Contents",
   "title_sidebar": "Contents",
   "toc_cell": false,
   "toc_position": {},
   "toc_section_display": true,
   "toc_window_display": false
  }
 },
 "nbformat": 4,
 "nbformat_minor": 4
}
