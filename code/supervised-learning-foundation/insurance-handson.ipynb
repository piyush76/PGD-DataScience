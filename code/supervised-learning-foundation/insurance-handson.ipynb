{
 "cells": [
  {
   "cell_type": "code",
   "execution_count": 1,
   "id": "122b9f73-bd2e-4ca6-b871-2ca4955cbad5",
   "metadata": {},
   "outputs": [],
   "source": [
    "import pandas as pd\n",
    "import numpy as np\n",
    "\n",
    "import seaborn as sns\n",
    "import matplotlib.pyplot as plt\n",
    "\n",
    "from sklearn.model_selection import train_test_split\n",
    "from sklearn.linear_model import LinearRegression\n",
    "from sklearn.metrics import mean_squared_error"
   ]
  },
  {
   "cell_type": "code",
   "execution_count": 2,
   "id": "db1b81fe-bdd4-49bd-8285-60917ccc0b7b",
   "metadata": {},
   "outputs": [
    {
     "name": "stdout",
     "output_type": "stream",
     "text": [
      "There are 1338 rows and 7 columns.\n"
     ]
    },
    {
     "data": {
      "text/html": [
       "<div>\n",
       "<style scoped>\n",
       "    .dataframe tbody tr th:only-of-type {\n",
       "        vertical-align: middle;\n",
       "    }\n",
       "\n",
       "    .dataframe tbody tr th {\n",
       "        vertical-align: top;\n",
       "    }\n",
       "\n",
       "    .dataframe thead th {\n",
       "        text-align: right;\n",
       "    }\n",
       "</style>\n",
       "<table border=\"1\" class=\"dataframe\">\n",
       "  <thead>\n",
       "    <tr style=\"text-align: right;\">\n",
       "      <th></th>\n",
       "      <th>age</th>\n",
       "      <th>sex</th>\n",
       "      <th>bmi</th>\n",
       "      <th>children</th>\n",
       "      <th>smoker</th>\n",
       "      <th>region</th>\n",
       "      <th>charges</th>\n",
       "    </tr>\n",
       "  </thead>\n",
       "  <tbody>\n",
       "    <tr>\n",
       "      <th>0</th>\n",
       "      <td>19</td>\n",
       "      <td>female</td>\n",
       "      <td>27.900</td>\n",
       "      <td>0</td>\n",
       "      <td>yes</td>\n",
       "      <td>southwest</td>\n",
       "      <td>16884.92400</td>\n",
       "    </tr>\n",
       "    <tr>\n",
       "      <th>1</th>\n",
       "      <td>18</td>\n",
       "      <td>male</td>\n",
       "      <td>33.770</td>\n",
       "      <td>1</td>\n",
       "      <td>no</td>\n",
       "      <td>southeast</td>\n",
       "      <td>1725.55230</td>\n",
       "    </tr>\n",
       "    <tr>\n",
       "      <th>2</th>\n",
       "      <td>28</td>\n",
       "      <td>male</td>\n",
       "      <td>33.000</td>\n",
       "      <td>3</td>\n",
       "      <td>no</td>\n",
       "      <td>southeast</td>\n",
       "      <td>4449.46200</td>\n",
       "    </tr>\n",
       "    <tr>\n",
       "      <th>3</th>\n",
       "      <td>33</td>\n",
       "      <td>male</td>\n",
       "      <td>22.705</td>\n",
       "      <td>0</td>\n",
       "      <td>no</td>\n",
       "      <td>northwest</td>\n",
       "      <td>21984.47061</td>\n",
       "    </tr>\n",
       "    <tr>\n",
       "      <th>4</th>\n",
       "      <td>32</td>\n",
       "      <td>male</td>\n",
       "      <td>28.880</td>\n",
       "      <td>0</td>\n",
       "      <td>no</td>\n",
       "      <td>northwest</td>\n",
       "      <td>3866.85520</td>\n",
       "    </tr>\n",
       "  </tbody>\n",
       "</table>\n",
       "</div>"
      ],
      "text/plain": [
       "   age     sex     bmi  children smoker     region      charges\n",
       "0   19  female  27.900         0    yes  southwest  16884.92400\n",
       "1   18    male  33.770         1     no  southeast   1725.55230\n",
       "2   28    male  33.000         3     no  southeast   4449.46200\n",
       "3   33    male  22.705         0     no  northwest  21984.47061\n",
       "4   32    male  28.880         0     no  northwest   3866.85520"
      ]
     },
     "execution_count": 2,
     "metadata": {},
     "output_type": "execute_result"
    }
   ],
   "source": [
    "##Reading the columns and printing the colums and row information\n",
    "df = pd.read_csv(\"../../data/insurance.csv\")\n",
    "print(f'There are {df.shape[0]} rows and {df.shape[1]} columns.') #f string \n",
    "\n",
    "df.head()"
   ]
  },
  {
   "cell_type": "code",
   "execution_count": 3,
   "id": "a8ac499d-473e-40ea-ab54-869d8ff70bcd",
   "metadata": {},
   "outputs": [
    {
     "data": {
      "text/plain": [
       "(1338, 7)"
      ]
     },
     "execution_count": 3,
     "metadata": {},
     "output_type": "execute_result"
    }
   ],
   "source": [
    "df.shape"
   ]
  },
  {
   "cell_type": "code",
   "execution_count": 4,
   "id": "4405d001-be57-449c-ad5e-cb02da0f4d9a",
   "metadata": {},
   "outputs": [
    {
     "name": "stdout",
     "output_type": "stream",
     "text": [
      "<class 'pandas.core.frame.DataFrame'>\n",
      "RangeIndex: 1338 entries, 0 to 1337\n",
      "Data columns (total 7 columns):\n",
      " #   Column    Non-Null Count  Dtype  \n",
      "---  ------    --------------  -----  \n",
      " 0   age       1338 non-null   int64  \n",
      " 1   sex       1338 non-null   object \n",
      " 2   bmi       1338 non-null   float64\n",
      " 3   children  1338 non-null   int64  \n",
      " 4   smoker    1338 non-null   object \n",
      " 5   region    1338 non-null   object \n",
      " 6   charges   1338 non-null   float64\n",
      "dtypes: float64(2), int64(2), object(3)\n",
      "memory usage: 57.6+ KB\n"
     ]
    }
   ],
   "source": [
    "df.info()"
   ]
  },
  {
   "cell_type": "code",
   "execution_count": 5,
   "id": "6806c627-e184-4def-9058-a4913679f3d8",
   "metadata": {},
   "outputs": [
    {
     "data": {
      "text/plain": [
       "age           47\n",
       "sex            2\n",
       "bmi          548\n",
       "children       6\n",
       "smoker         2\n",
       "region         4\n",
       "charges     1337\n",
       "dtype: int64"
      ]
     },
     "execution_count": 5,
     "metadata": {},
     "output_type": "execute_result"
    }
   ],
   "source": [
    "df.nunique()"
   ]
  },
  {
   "cell_type": "markdown",
   "id": "76b79131-601b-47f7-b9ad-f91369f9b6b8",
   "metadata": {},
   "source": [
    "### Converting object into catagorical all at once"
   ]
  },
  {
   "cell_type": "code",
   "execution_count": 6,
   "id": "5b7d14c2-16b3-46b0-bb79-fb26ba1c16b6",
   "metadata": {},
   "outputs": [
    {
     "name": "stdout",
     "output_type": "stream",
     "text": [
      "<class 'pandas.core.frame.DataFrame'>\n",
      "RangeIndex: 1338 entries, 0 to 1337\n",
      "Data columns (total 7 columns):\n",
      " #   Column    Non-Null Count  Dtype   \n",
      "---  ------    --------------  -----   \n",
      " 0   age       1338 non-null   int64   \n",
      " 1   sex       1338 non-null   category\n",
      " 2   bmi       1338 non-null   float64 \n",
      " 3   children  1338 non-null   int64   \n",
      " 4   smoker    1338 non-null   category\n",
      " 5   region    1338 non-null   category\n",
      " 6   charges   1338 non-null   float64 \n",
      "dtypes: category(3), float64(2), int64(2)\n",
      "memory usage: 46.0 KB\n"
     ]
    }
   ],
   "source": [
    "## Converting object into catagorical all at once\n",
    "for colname in df.columns[df.dtypes == object]:\n",
    "    df[colname] = df[colname].astype(\"category\")\n",
    "df.info()    "
   ]
  },
  {
   "cell_type": "markdown",
   "id": "7d3c3234-5de8-41bf-a419-bafa14f4a835",
   "metadata": {},
   "source": [
    "### Checking for null values in the column with sorted in decending order."
   ]
  },
  {
   "cell_type": "code",
   "execution_count": 7,
   "id": "412628a9-cb12-430f-a602-f4a9ff2fde88",
   "metadata": {},
   "outputs": [
    {
     "data": {
      "text/plain": [
       "age         0\n",
       "sex         0\n",
       "bmi         0\n",
       "children    0\n",
       "smoker      0\n",
       "region      0\n",
       "charges     0\n",
       "dtype: int64"
      ]
     },
     "execution_count": 7,
     "metadata": {},
     "output_type": "execute_result"
    }
   ],
   "source": [
    "## checking for null values\n",
    "df.isnull().sum().sort_values(ascending=False)"
   ]
  },
  {
   "cell_type": "code",
   "execution_count": 8,
   "id": "1e6f8f98-5a2a-470a-88dd-420b8d8e105c",
   "metadata": {},
   "outputs": [
    {
     "data": {
      "image/png": "[encoded data removed]",
      "text/plain": [
       "<Figure size 1080x504 with 2 Axes>"
      ]
     },
     "metadata": {
      "needs_background": "light"
     },
     "output_type": "display_data"
    }
   ],
   "source": [
    "plt.figure(figsize=(15, 7))\n",
    "sns.heatmap(df.corr(), annot=True, vmin=-1, vmax=1, fmt=\".2f\", cmap=\"Spectral\")\n",
    "plt.show()"
   ]
  },
  {
   "cell_type": "markdown",
   "id": "8c3e7976-5a14-47b2-bf9f-63ccd8743891",
   "metadata": {},
   "source": [
    "### Q 3 What percentage of policy holders have no children?"
   ]
  },
  {
   "cell_type": "code",
   "execution_count": 9,
   "id": "eafcadec-8bb0-4823-a280-5bbd5fb11235",
   "metadata": {},
   "outputs": [
    {
     "name": "stdout",
     "output_type": "stream",
     "text": [
      "policy holder with 0 chldrn age         574\n",
      "sex         574\n",
      "bmi         574\n",
      "children    574\n",
      "smoker      574\n",
      "region      574\n",
      "charges     574\n",
      "dtype: int64 and total count of children 1338\n",
      "age         42.899851\n",
      "sex         42.899851\n",
      "bmi         42.899851\n",
      "children    42.899851\n",
      "smoker      42.899851\n",
      "region      42.899851\n",
      "charges     42.899851\n",
      "dtype: float64\n"
     ]
    }
   ],
   "source": [
    "count_no_children =  df[df[\"children\"]==0].count()\n",
    "children_total = df[\"children\"].count()\n",
    "\n",
    "print(f'policy holder with 0 chldrn {count_no_children} and total count of children {children_total}')\n",
    "\n",
    "percentage = (count_no_children/children_total) * 100\n",
    "print(percentage)\n"
   ]
  },
  {
   "cell_type": "markdown",
   "id": "c0448249-ce70-4bc8-a6e9-61386518faef",
   "metadata": {},
   "source": [
    "### Q4 What does the distribution of bmi look like after applying the log transformation on it?"
   ]
  },
  {
   "cell_type": "code",
   "execution_count": 10,
   "id": "794f58bc-cd40-4b14-a37f-a71c849f2314",
   "metadata": {},
   "outputs": [
    {
     "data": {
      "text/plain": [
       "<seaborn.axisgrid.FacetGrid at 0x1c854b50>"
      ]
     },
     "execution_count": 10,
     "metadata": {},
     "output_type": "execute_result"
    },
    {
     "data": {
      "image/png": "[encoded data removed]",
      "text/plain": [
       "<Figure size 360x360 with 1 Axes>"
      ]
     },
     "metadata": {
      "needs_background": "light"
     },
     "output_type": "display_data"
    }
   ],
   "source": [
    "sns.displot(np.log(df.bmi), kde=True)"
   ]
  },
  {
   "cell_type": "markdown",
   "id": "258a4dd4-8c8d-4ae1-8ab2-0cd82b734d74",
   "metadata": {},
   "source": [
    "### Q5 The customers from which region have the highest median insurance charge?"
   ]
  },
  {
   "cell_type": "code",
   "execution_count": 11,
   "id": "fd03d35b-369c-4033-896f-78bb5694b9b7",
   "metadata": {},
   "outputs": [
    {
     "data": {
      "text/plain": [
       "region\n",
       "northeast    10057.652025\n",
       "northwest     8965.795750\n",
       "southeast     9294.131950\n",
       "southwest     8798.593000\n",
       "Name: charges, dtype: float64"
      ]
     },
     "execution_count": 11,
     "metadata": {},
     "output_type": "execute_result"
    }
   ],
   "source": [
    "df.groupby('region').charges.median()"
   ]
  },
  {
   "cell_type": "markdown",
   "id": "adf690ec-6447-439c-9ef2-6d4e8fbd741a",
   "metadata": {},
   "source": [
    "### Q6 What is the correlation between age and charges?"
   ]
  },
  {
   "cell_type": "code",
   "execution_count": 12,
   "id": "2f2616f4-ecd8-4716-bd6c-9d00718dbc52",
   "metadata": {},
   "outputs": [
    {
     "data": {
      "text/html": [
       "<div>\n",
       "<style scoped>\n",
       "    .dataframe tbody tr th:only-of-type {\n",
       "        vertical-align: middle;\n",
       "    }\n",
       "\n",
       "    .dataframe tbody tr th {\n",
       "        vertical-align: top;\n",
       "    }\n",
       "\n",
       "    .dataframe thead th {\n",
       "        text-align: right;\n",
       "    }\n",
       "</style>\n",
       "<table border=\"1\" class=\"dataframe\">\n",
       "  <thead>\n",
       "    <tr style=\"text-align: right;\">\n",
       "      <th></th>\n",
       "      <th>age</th>\n",
       "      <th>bmi</th>\n",
       "      <th>children</th>\n",
       "      <th>charges</th>\n",
       "    </tr>\n",
       "  </thead>\n",
       "  <tbody>\n",
       "    <tr>\n",
       "      <th>age</th>\n",
       "      <td>1.000000</td>\n",
       "      <td>0.109272</td>\n",
       "      <td>0.042469</td>\n",
       "      <td>0.299008</td>\n",
       "    </tr>\n",
       "    <tr>\n",
       "      <th>bmi</th>\n",
       "      <td>0.109272</td>\n",
       "      <td>1.000000</td>\n",
       "      <td>0.012759</td>\n",
       "      <td>0.198341</td>\n",
       "    </tr>\n",
       "    <tr>\n",
       "      <th>children</th>\n",
       "      <td>0.042469</td>\n",
       "      <td>0.012759</td>\n",
       "      <td>1.000000</td>\n",
       "      <td>0.067998</td>\n",
       "    </tr>\n",
       "    <tr>\n",
       "      <th>charges</th>\n",
       "      <td>0.299008</td>\n",
       "      <td>0.198341</td>\n",
       "      <td>0.067998</td>\n",
       "      <td>1.000000</td>\n",
       "    </tr>\n",
       "  </tbody>\n",
       "</table>\n",
       "</div>"
      ],
      "text/plain": [
       "               age       bmi  children   charges\n",
       "age       1.000000  0.109272  0.042469  0.299008\n",
       "bmi       0.109272  1.000000  0.012759  0.198341\n",
       "children  0.042469  0.012759  1.000000  0.067998\n",
       "charges   0.299008  0.198341  0.067998  1.000000"
      ]
     },
     "execution_count": 12,
     "metadata": {},
     "output_type": "execute_result"
    }
   ],
   "source": [
    "df.corr()"
   ]
  },
  {
   "cell_type": "markdown",
   "id": "9b7c790e-7dde-4809-a96f-3c992c7fa004",
   "metadata": {},
   "source": [
    "### Q7 Create dummy variables for the categorical columns using pd.get_dummies() with drop_first=True. A dummy variable is dropped for which of the following regions?"
   ]
  },
  {
   "cell_type": "code",
   "execution_count": 13,
   "id": "52d9b848-2248-469b-946b-1b631d562b45",
   "metadata": {},
   "outputs": [
    {
     "data": {
      "text/html": [
       "<div>\n",
       "<style scoped>\n",
       "    .dataframe tbody tr th:only-of-type {\n",
       "        vertical-align: middle;\n",
       "    }\n",
       "\n",
       "    .dataframe tbody tr th {\n",
       "        vertical-align: top;\n",
       "    }\n",
       "\n",
       "    .dataframe thead th {\n",
       "        text-align: right;\n",
       "    }\n",
       "</style>\n",
       "<table border=\"1\" class=\"dataframe\">\n",
       "  <thead>\n",
       "    <tr style=\"text-align: right;\">\n",
       "      <th></th>\n",
       "      <th>age</th>\n",
       "      <th>bmi</th>\n",
       "      <th>children</th>\n",
       "      <th>charges</th>\n",
       "      <th>sex_male</th>\n",
       "      <th>smoker_yes</th>\n",
       "      <th>region_northwest</th>\n",
       "      <th>region_southeast</th>\n",
       "      <th>region_southwest</th>\n",
       "    </tr>\n",
       "  </thead>\n",
       "  <tbody>\n",
       "    <tr>\n",
       "      <th>0</th>\n",
       "      <td>19</td>\n",
       "      <td>27.900</td>\n",
       "      <td>0</td>\n",
       "      <td>16884.92400</td>\n",
       "      <td>0</td>\n",
       "      <td>1</td>\n",
       "      <td>0</td>\n",
       "      <td>0</td>\n",
       "      <td>1</td>\n",
       "    </tr>\n",
       "    <tr>\n",
       "      <th>1</th>\n",
       "      <td>18</td>\n",
       "      <td>33.770</td>\n",
       "      <td>1</td>\n",
       "      <td>1725.55230</td>\n",
       "      <td>1</td>\n",
       "      <td>0</td>\n",
       "      <td>0</td>\n",
       "      <td>1</td>\n",
       "      <td>0</td>\n",
       "    </tr>\n",
       "    <tr>\n",
       "      <th>2</th>\n",
       "      <td>28</td>\n",
       "      <td>33.000</td>\n",
       "      <td>3</td>\n",
       "      <td>4449.46200</td>\n",
       "      <td>1</td>\n",
       "      <td>0</td>\n",
       "      <td>0</td>\n",
       "      <td>1</td>\n",
       "      <td>0</td>\n",
       "    </tr>\n",
       "    <tr>\n",
       "      <th>3</th>\n",
       "      <td>33</td>\n",
       "      <td>22.705</td>\n",
       "      <td>0</td>\n",
       "      <td>21984.47061</td>\n",
       "      <td>1</td>\n",
       "      <td>0</td>\n",
       "      <td>1</td>\n",
       "      <td>0</td>\n",
       "      <td>0</td>\n",
       "    </tr>\n",
       "    <tr>\n",
       "      <th>4</th>\n",
       "      <td>32</td>\n",
       "      <td>28.880</td>\n",
       "      <td>0</td>\n",
       "      <td>3866.85520</td>\n",
       "      <td>1</td>\n",
       "      <td>0</td>\n",
       "      <td>1</td>\n",
       "      <td>0</td>\n",
       "      <td>0</td>\n",
       "    </tr>\n",
       "  </tbody>\n",
       "</table>\n",
       "</div>"
      ],
      "text/plain": [
       "   age     bmi  children      charges  sex_male  smoker_yes  region_northwest  \\\n",
       "0   19  27.900         0  16884.92400         0           1                 0   \n",
       "1   18  33.770         1   1725.55230         1           0                 0   \n",
       "2   28  33.000         3   4449.46200         1           0                 0   \n",
       "3   33  22.705         0  21984.47061         1           0                 1   \n",
       "4   32  28.880         0   3866.85520         1           0                 1   \n",
       "\n",
       "   region_southeast  region_southwest  \n",
       "0                 0                 1  \n",
       "1                 1                 0  \n",
       "2                 1                 0  \n",
       "3                 0                 0  \n",
       "4                 0                 0  "
      ]
     },
     "execution_count": 13,
     "metadata": {},
     "output_type": "execute_result"
    }
   ],
   "source": [
    "dummy_data = pd.get_dummies(df, columns=['sex','smoker','region'], drop_first=True)\n",
    "dummy_data.head()"
   ]
  },
  {
   "cell_type": "markdown",
   "id": "7c94e333-8b6e-4574-978c-6d42313c8438",
   "metadata": {},
   "source": [
    "### Q8 Split the data in a 70:30 ratio to obtain the train and test sets. How many rows are there in the test set?"
   ]
  },
  {
   "cell_type": "code",
   "execution_count": 17,
   "id": "a702f278-57e9-4a22-b0ae-6c08da27a641",
   "metadata": {},
   "outputs": [
    {
     "data": {
      "text/plain": [
       "(402, 9)"
      ]
     },
     "execution_count": 17,
     "metadata": {},
     "output_type": "execute_result"
    }
   ],
   "source": [
    "import statsmodels.api as sm\n",
    "# lets build our linear model\n",
    "# independant variables\n",
    "X = dummy_data.drop(['charges'], axis=1)\n",
    "X = sm.add_constant(X)\n",
    "# the dependent variable\n",
    "y = dummy_data[['charges']]\n",
    "\n",
    "# Split X and y into training and test set in 70:30 ratio\n",
    "X_train, X_test, y_train, y_test = train_test_split(X, y, test_size=0.30, random_state=1)\n",
    "X_test.shape\n"
   ]
  },
  {
   "cell_type": "markdown",
   "id": "eabccc4d-c73f-4327-bdbe-dd4f180d356e",
   "metadata": {},
   "source": [
    "### Q9 Build a linear regression model using statsmodels OLS and the train set. Which of the following is true regarding the intercept?"
   ]
  },
  {
   "cell_type": "code",
   "execution_count": 18,
   "id": "631843ea-3000-4692-a1f4-f0ac6bc60324",
   "metadata": {},
   "outputs": [
    {
     "name": "stdout",
     "output_type": "stream",
     "text": [
      "                            OLS Regression Results                            \n",
      "==============================================================================\n",
      "Dep. Variable:                charges   R-squared:                       0.755\n",
      "Model:                            OLS   Adj. R-squared:                  0.752\n",
      "Method:                 Least Squares   F-statistic:                     356.2\n",
      "Date:                Tue, 17 Aug 2021   Prob (F-statistic):          1.27e-276\n",
      "Time:                        00:08:37   Log-Likelihood:                -9477.0\n",
      "No. Observations:                 936   AIC:                         1.897e+04\n",
      "Df Residuals:                     927   BIC:                         1.902e+04\n",
      "Df Model:                           8                                         \n",
      "Covariance Type:            nonrobust                                         \n",
      "====================================================================================\n",
      "                       coef    std err          t      P>|t|      [0.025      0.975]\n",
      "------------------------------------------------------------------------------------\n",
      "const            -1.104e+04   1172.364     -9.416      0.000   -1.33e+04   -8738.443\n",
      "age                251.6819     14.270     17.637      0.000     223.677     279.687\n",
      "bmi                322.3891     34.250      9.413      0.000     255.172     389.606\n",
      "children           344.9643    162.812      2.119      0.034      25.441     664.487\n",
      "sex_male          -282.7963    398.535     -0.710      0.478   -1064.931     499.338\n",
      "smoker_yes        2.406e+04    492.004     48.901      0.000    2.31e+04     2.5e+04\n",
      "region_northwest  -304.0901    575.223     -0.529      0.597   -1432.980     824.799\n",
      "region_southeast  -939.3421    577.833     -1.626      0.104   -2073.355     194.671\n",
      "region_southwest  -868.1886    566.971     -1.531      0.126   -1980.885     244.508\n",
      "==============================================================================\n",
      "Omnibus:                      207.371   Durbin-Watson:                   1.952\n",
      "Prob(Omnibus):                  0.000   Jarque-Bera (JB):              491.247\n",
      "Skew:                           1.182   Prob(JB):                    2.12e-107\n",
      "Kurtosis:                       5.647   Cond. No.                         306.\n",
      "==============================================================================\n",
      "\n",
      "Notes:\n",
      "[1] Standard Errors assume that the covariance matrix of the errors is correctly specified.\n"
     ]
    }
   ],
   "source": [
    "linear_regression = sm.OLS(y_train, X_train)\n",
    "lr_sm = linear_regression.fit()\n",
    "print(lr_sm.summary())"
   ]
  },
  {
   "cell_type": "code",
   "execution_count": 22,
   "id": "df1e1b55-65a1-4ba6-9335-accd575ab0e3",
   "metadata": {},
   "outputs": [
    {
     "name": "stdout",
     "output_type": "stream",
     "text": [
      "The intercept for our model is -11039.238418561517\n"
     ]
    }
   ],
   "source": [
    "regression_model = LinearRegression()\n",
    "regression_model.fit(X_train, y_train)\n",
    "intercept = regression_model.intercept_[0]\n",
    "print(\"The intercept for our model is {}\".format(intercept))"
   ]
  },
  {
   "cell_type": "markdown",
   "id": "db806c70-f411-4522-85c3-4f6a55e72032",
   "metadata": {},
   "source": [
    "### 10 Which of the following is true regarding the adjusted R-squared of the model?"
   ]
  },
  {
   "cell_type": "markdown",
   "id": "b34f75ee-9edb-40e4-b5a1-a06c2e1469ff",
   "metadata": {},
   "source": [
    "#### Adj. R-squared:                  0.752"
   ]
  },
  {
   "cell_type": "markdown",
   "id": "941c7d1a-7218-46c4-b57c-7d01d4926c40",
   "metadata": {},
   "source": [
    "### Q11 How many attributes (excluding the constant/intercept term) have a VIF > 5?\n",
    " **General Rule of thumb**:\n",
    "    - If VIF is between 1 and 5, then there is low multicollinearity.\n",
    "    - If VIF is between 5 and 10, we say there is moderate multicollinearity.\n",
    "    - If VIF is exceeding 10, it shows signs of high multicollinearity."
   ]
  },
  {
   "cell_type": "code",
   "execution_count": 24,
   "id": "122f768d-a27a-4d92-839a-55a47a75723f",
   "metadata": {},
   "outputs": [],
   "source": [
    "from statsmodels.stats.outliers_influence import variance_inflation_factor\n",
    "\n",
    "# we will define a function to check VIF\n",
    "def checking_vif(predictors):\n",
    "    vif = pd.DataFrame()\n",
    "    vif[\"feature\"] = predictors.columns\n",
    "\n",
    "    # calculating VIF for each feature\n",
    "    vif[\"VIF\"] = [\n",
    "        variance_inflation_factor(predictors.values, i)\n",
    "        for i in range(len(predictors.columns))\n",
    "    ]\n",
    "    return vif"
   ]
  },
  {
   "cell_type": "code",
   "execution_count": 26,
   "id": "ddafef1a-1ad7-4765-86a1-ddc77b3f9027",
   "metadata": {},
   "outputs": [
    {
     "data": {
      "text/html": [
       "<div>\n",
       "<style scoped>\n",
       "    .dataframe tbody tr th:only-of-type {\n",
       "        vertical-align: middle;\n",
       "    }\n",
       "\n",
       "    .dataframe tbody tr th {\n",
       "        vertical-align: top;\n",
       "    }\n",
       "\n",
       "    .dataframe thead th {\n",
       "        text-align: right;\n",
       "    }\n",
       "</style>\n",
       "<table border=\"1\" class=\"dataframe\">\n",
       "  <thead>\n",
       "    <tr style=\"text-align: right;\">\n",
       "      <th></th>\n",
       "      <th>feature</th>\n",
       "      <th>VIF</th>\n",
       "    </tr>\n",
       "  </thead>\n",
       "  <tbody>\n",
       "    <tr>\n",
       "      <th>0</th>\n",
       "      <td>const</td>\n",
       "      <td>34.929146</td>\n",
       "    </tr>\n",
       "    <tr>\n",
       "      <th>1</th>\n",
       "      <td>age</td>\n",
       "      <td>1.017392</td>\n",
       "    </tr>\n",
       "    <tr>\n",
       "      <th>2</th>\n",
       "      <td>bmi</td>\n",
       "      <td>1.103774</td>\n",
       "    </tr>\n",
       "    <tr>\n",
       "      <th>3</th>\n",
       "      <td>children</td>\n",
       "      <td>1.005975</td>\n",
       "    </tr>\n",
       "    <tr>\n",
       "      <th>4</th>\n",
       "      <td>sex_male</td>\n",
       "      <td>1.008544</td>\n",
       "    </tr>\n",
       "    <tr>\n",
       "      <th>5</th>\n",
       "      <td>smoker_yes</td>\n",
       "      <td>1.006921</td>\n",
       "    </tr>\n",
       "    <tr>\n",
       "      <th>6</th>\n",
       "      <td>region_northwest</td>\n",
       "      <td>1.526081</td>\n",
       "    </tr>\n",
       "    <tr>\n",
       "      <th>7</th>\n",
       "      <td>region_southeast</td>\n",
       "      <td>1.652557</td>\n",
       "    </tr>\n",
       "    <tr>\n",
       "      <th>8</th>\n",
       "      <td>region_southwest</td>\n",
       "      <td>1.557593</td>\n",
       "    </tr>\n",
       "  </tbody>\n",
       "</table>\n",
       "</div>"
      ],
      "text/plain": [
       "            feature        VIF\n",
       "0             const  34.929146\n",
       "1               age   1.017392\n",
       "2               bmi   1.103774\n",
       "3          children   1.005975\n",
       "4          sex_male   1.008544\n",
       "5        smoker_yes   1.006921\n",
       "6  region_northwest   1.526081\n",
       "7  region_southeast   1.652557\n",
       "8  region_southwest   1.557593"
      ]
     },
     "execution_count": 26,
     "metadata": {},
     "output_type": "execute_result"
    }
   ],
   "source": [
    "## 0 attributes has VIF > 5 \n",
    "checking_vif(X_train)"
   ]
  },
  {
   "cell_type": "markdown",
   "id": "fb929264-7fbf-4a47-bb7e-c74c258eb685",
   "metadata": {},
   "source": [
    "### Q12 How many attributes have a p-value greater than 0.05?"
   ]
  },
  {
   "cell_type": "code",
   "execution_count": 40,
   "id": "66b6dd4a-5ed3-4e95-8ed7-7a84389da4f0",
   "metadata": {},
   "outputs": [
    {
     "data": {
      "text/plain": [
       "const                3.594046e-20\n",
       "age                  2.944787e-60\n",
       "bmi                  3.705717e-20\n",
       "children             3.437391e-02\n",
       "sex_male             4.781365e-01\n",
       "smoker_yes          6.125578e-259\n",
       "region_northwest     5.971764e-01\n",
       "region_southeast     1.043686e-01\n",
       "region_southwest     1.260428e-01\n",
       "dtype: float64"
      ]
     },
     "execution_count": 40,
     "metadata": {},
     "output_type": "execute_result"
    }
   ],
   "source": [
    "# sex_male 0.478\n",
    "# region_northwest 0.597\n",
    "# region_southeast 0.104\n",
    "# region_southwest 0.126\n",
    "\n",
    "lr_sm.pvalues"
   ]
  },
  {
   "cell_type": "markdown",
   "id": "75cbc27f-8b26-4bc0-8dd7-aa1612344b2a",
   "metadata": {},
   "source": [
    " ### Q 13 Drop the variables having a p-value greater than 0.05, and apply the goldfeldquant test to check whether the residuals are homoscedastic or not. Which of the following is true for the p-value of the test?"
   ]
  },
  {
   "cell_type": "code",
   "execution_count": 50,
   "id": "18448ed3-0870-42b8-8c5e-ca4326e79155",
   "metadata": {},
   "outputs": [
    {
     "data": {
      "text/plain": [
       "[('F statistic', 0.9766405049171404), ('p-value', 0.6003139612490169)]"
      ]
     },
     "execution_count": 50,
     "metadata": {},
     "output_type": "execute_result"
    }
   ],
   "source": [
    "import statsmodels.stats.api as sms\n",
    "from statsmodels.compat import lzip\n",
    "\n",
    "X_train1 = X_train.drop(['sex_male','region_northwest','region_southeast','region_southwest'], axis=1)\n",
    "X_test1 = X_test.drop(['sex_male','region_northwest','region_southeast','region_southwest'], axis=1)\n",
    "\n",
    "linear_regression1 = sm.OLS(y_train, X_train1)\n",
    "lr_sm1 = linear_regression1.fit()\n",
    "residual1 = lr_sm1.resid\n",
    "\n",
    "name = [\"F statistic\", \"p-value\"]\n",
    "test = sms.het_goldfeldquandt(residual1, X_train1)\n",
    "lzip(name, test)"
   ]
  },
  {
   "cell_type": "markdown",
   "id": "602170c6-395e-4ea4-88d0-e22b599df8c7",
   "metadata": {},
   "source": [
    "### Q 14 Which of the following is true about the RMSE on the test set after dropping the variables having a p-value greater than 0.05?"
   ]
  },
  {
   "cell_type": "code",
   "execution_count": 51,
   "id": "5c7d5c6b-373d-4875-977e-5c553c8fc34b",
   "metadata": {},
   "outputs": [
    {
     "data": {
      "text/plain": [
       "6079.4760694545685"
      ]
     },
     "execution_count": 51,
     "metadata": {},
     "output_type": "execute_result"
    }
   ],
   "source": [
    "y_pred = lr_sm1.predict(X_test1)\n",
    "np.sqrt(mean_squared_error(y_test, y_pred))"
   ]
  },
  {
   "cell_type": "code",
   "execution_count": null,
   "id": "e113b9f9-0462-4170-b3d2-bef2859cc7da",
   "metadata": {},
   "outputs": [],
   "source": []
  }
 ],
 "metadata": {
  "kernelspec": {
   "display_name": "Python 3",
   "language": "python",
   "name": "python3"
  },
  "language_info": {
   "codemirror_mode": {
    "name": "ipython",
    "version": 3
   },
   "file_extension": ".py",
   "mimetype": "text/x-python",
   "name": "python",
   "nbconvert_exporter": "python",
   "pygments_lexer": "ipython3",
   "version": "3.8.1"
  }
 },
 "nbformat": 4,
 "nbformat_minor": 5
}
